{
 "cells": [
  {
   "cell_type": "markdown",
   "metadata": {},
   "source": [
    "# Рекомендация тарифов клиентам компании \"Мегалайн\""
   ]
  },
  {
   "cell_type": "markdown",
   "metadata": {},
   "source": [
    "«Мегалайн» — федеральный оператор сотовой связи. Предлагает клиентам  два тарифных плана: «Смарт» и «Ультра». \n",
    "«Мегалайн» выяснил: многие клиенты пользуются архивными тарифами. Оператор хочет построить систему, способную проанализировать поведение клиентов и предложить пользователям новый тариф: «Смарт» или «Ультра».\n",
    "\n",
    "**Цель исследования:** \n",
    "\n",
    "Построить модель для задачи классификации, которая выберет подходящий для пользователя тариф.\n",
    "\n",
    "**Данные:**\n",
    "\n",
    "В нашем распоряжении данные о поведении клиентов, которые уже перешли на эти тарифы. Предобработка данных не понадобится — мы подгружаем уже предобработанные данные."
   ]
  },
  {
   "cell_type": "markdown",
   "metadata": {
    "toc": true
   },
   "source": [
    "<h1>Содержание<span class=\"tocSkip\"></span></h1>\n",
    "<div class=\"toc\"><ul class=\"toc-item\"><li><span><a href=\"#Этапы-выполнения-проекта\" data-toc-modified-id=\"Этапы-выполнения-проекта-1\"><span class=\"toc-item-num\">1&nbsp;&nbsp;</span>Этапы выполнения проекта</a></span></li><li><span><a href=\"#Открываем-и-изучаем-файл\" data-toc-modified-id=\"Открываем-и-изучаем-файл-2\"><span class=\"toc-item-num\">2&nbsp;&nbsp;</span>Открываем и изучаем файл</a></span><ul class=\"toc-item\"><li><span><a href=\"#Описание-данных\" data-toc-modified-id=\"Описание-данных-2.1\"><span class=\"toc-item-num\">2.1&nbsp;&nbsp;</span>Описание данных</a></span></li></ul></li><li><span><a href=\"#Разбиваем-данные-на-выборки\" data-toc-modified-id=\"Разбиваем-данные-на-выборки-3\"><span class=\"toc-item-num\">3&nbsp;&nbsp;</span>Разбиваем данные на выборки</a></span></li><li><span><a href=\"#Исследуем-модели\" data-toc-modified-id=\"Исследуем-модели-4\"><span class=\"toc-item-num\">4&nbsp;&nbsp;</span>Исследуем модели</a></span><ul class=\"toc-item\"><li><span><a href=\"#Модель-решающего-дерева\" data-toc-modified-id=\"Модель-решающего-дерева-4.1\"><span class=\"toc-item-num\">4.1&nbsp;&nbsp;</span>Модель решающего дерева</a></span></li><li><span><a href=\"#Модель-случайного-леса\" data-toc-modified-id=\"Модель-случайного-леса-4.2\"><span class=\"toc-item-num\">4.2&nbsp;&nbsp;</span>Модель случайного леса</a></span></li><li><span><a href=\"#Модель-логистической-регрессии\" data-toc-modified-id=\"Модель-логистической-регрессии-4.3\"><span class=\"toc-item-num\">4.3&nbsp;&nbsp;</span>Модель логистической регрессии</a></span></li></ul></li><li><span><a href=\"#Проверяем-модели-на-тестовой-выборке\" data-toc-modified-id=\"Проверяем-модели-на-тестовой-выборке-5\"><span class=\"toc-item-num\">5&nbsp;&nbsp;</span>Проверяем модели на тестовой выборке</a></span></li><li><span><a href=\"#Проверяем-модели-на-адекватность\" data-toc-modified-id=\"Проверяем-модели-на-адекватность-6\"><span class=\"toc-item-num\">6&nbsp;&nbsp;</span>Проверяем модели на адекватность</a></span></li><li><span><a href=\"#Вывод\" data-toc-modified-id=\"Вывод-7\"><span class=\"toc-item-num\">7&nbsp;&nbsp;</span>Вывод</a></span></li></ul></div>"
   ]
  },
  {
   "cell_type": "markdown",
   "metadata": {},
   "source": [
    "## Этапы выполнения проекта\n",
    "1. Открываем файл с данными и изучаем его. \n",
    "2. Делим исходные данные на обучающую, валидационную и тестовую выборки.\n",
    "3. Исследуем качество разных моделей, меняя гиперпараметры. \n",
    "4. Проверяем качество модели на тестовой выборке.\n",
    "5. Проверяем модели на вменяемость."
   ]
  },
  {
   "cell_type": "markdown",
   "metadata": {},
   "source": [
    "## Открываем и изучаем файл"
   ]
  },
  {
   "cell_type": "markdown",
   "metadata": {},
   "source": [
    "Импортируем необходимые для работы библиотеки."
   ]
  },
  {
   "cell_type": "code",
   "execution_count": 1,
   "metadata": {},
   "outputs": [],
   "source": [
    "import pandas as pd\n",
    "import matplotlib.pyplot as plt\n",
    "from sklearn.tree import DecisionTreeClassifier\n",
    "from sklearn.metrics import accuracy_score\n",
    "from sklearn.model_selection import train_test_split\n",
    "from sklearn.ensemble import RandomForestClassifier\n",
    "from sklearn.linear_model import LogisticRegression\n",
    "from sklearn.dummy import DummyClassifier"
   ]
  },
  {
   "cell_type": "markdown",
   "metadata": {},
   "source": [
    "Откроем файл и ознакомимся с ним, прочитав первые строки."
   ]
  },
  {
   "cell_type": "code",
   "execution_count": 2,
   "metadata": {},
   "outputs": [],
   "source": [
    "path = '/datasets/users_behavior.csv'\n",
    "try:\n",
    "    df = pd.read_csv(path)\n",
    "except Exception as err:\n",
    "    try:\n",
    "        df = pd.read_csv(path[10:])\n",
    "    except Exception as err:\n",
    "        print('Ошибка чтения файла:', repr(err))"
   ]
  },
  {
   "cell_type": "code",
   "execution_count": 3,
   "metadata": {},
   "outputs": [
    {
     "data": {
      "text/html": [
       "<div>\n",
       "<style scoped>\n",
       "    .dataframe tbody tr th:only-of-type {\n",
       "        vertical-align: middle;\n",
       "    }\n",
       "\n",
       "    .dataframe tbody tr th {\n",
       "        vertical-align: top;\n",
       "    }\n",
       "\n",
       "    .dataframe thead th {\n",
       "        text-align: right;\n",
       "    }\n",
       "</style>\n",
       "<table border=\"1\" class=\"dataframe\">\n",
       "  <thead>\n",
       "    <tr style=\"text-align: right;\">\n",
       "      <th></th>\n",
       "      <th>calls</th>\n",
       "      <th>minutes</th>\n",
       "      <th>messages</th>\n",
       "      <th>mb_used</th>\n",
       "      <th>is_ultra</th>\n",
       "    </tr>\n",
       "  </thead>\n",
       "  <tbody>\n",
       "    <tr>\n",
       "      <th>0</th>\n",
       "      <td>40.0</td>\n",
       "      <td>311.90</td>\n",
       "      <td>83.0</td>\n",
       "      <td>19915.42</td>\n",
       "      <td>0</td>\n",
       "    </tr>\n",
       "    <tr>\n",
       "      <th>1</th>\n",
       "      <td>85.0</td>\n",
       "      <td>516.75</td>\n",
       "      <td>56.0</td>\n",
       "      <td>22696.96</td>\n",
       "      <td>0</td>\n",
       "    </tr>\n",
       "    <tr>\n",
       "      <th>2</th>\n",
       "      <td>77.0</td>\n",
       "      <td>467.66</td>\n",
       "      <td>86.0</td>\n",
       "      <td>21060.45</td>\n",
       "      <td>0</td>\n",
       "    </tr>\n",
       "    <tr>\n",
       "      <th>3</th>\n",
       "      <td>106.0</td>\n",
       "      <td>745.53</td>\n",
       "      <td>81.0</td>\n",
       "      <td>8437.39</td>\n",
       "      <td>1</td>\n",
       "    </tr>\n",
       "    <tr>\n",
       "      <th>4</th>\n",
       "      <td>66.0</td>\n",
       "      <td>418.74</td>\n",
       "      <td>1.0</td>\n",
       "      <td>14502.75</td>\n",
       "      <td>0</td>\n",
       "    </tr>\n",
       "  </tbody>\n",
       "</table>\n",
       "</div>"
      ],
      "text/plain": [
       "   calls  minutes  messages   mb_used  is_ultra\n",
       "0   40.0   311.90      83.0  19915.42         0\n",
       "1   85.0   516.75      56.0  22696.96         0\n",
       "2   77.0   467.66      86.0  21060.45         0\n",
       "3  106.0   745.53      81.0   8437.39         1\n",
       "4   66.0   418.74       1.0  14502.75         0"
      ]
     },
     "execution_count": 3,
     "metadata": {},
     "output_type": "execute_result"
    }
   ],
   "source": [
    "df.head()"
   ]
  },
  {
   "cell_type": "markdown",
   "metadata": {},
   "source": [
    "### Описание данных\n",
    "Каждый объект в наборе данных — это информация о поведении одного пользователя за месяц. В колонках представлены:\n",
    "- `сalls` — количество звонков,\n",
    "- `minutes` — суммарная длительность звонков в минутах,\n",
    "- `messages` — количество sms-сообщений,\n",
    "- `mb_used` — израсходованный интернет-трафик в Мб,\n",
    "- `is_ultra` — каким тарифом пользовался в течение месяца («Ультра» — 1, «Смарт» — 0)."
   ]
  },
  {
   "cell_type": "markdown",
   "metadata": {},
   "source": [
    "В данном исследовании описание самих тарифов не имеет особой важности и предоставлена ниже ради чуть более полного понимания, так как нам предоставлены данные по клиентам, которые уже являются пользователями того или иного тарифа. Следовательно, мы имеем две категории клиентов со своими потребностями в количестве минут, сообщений и интернет-трафика, на основании которых будем строить нашу модель."
   ]
  },
  {
   "cell_type": "markdown",
   "metadata": {},
   "source": [
    "**Описание тарифов**\n",
    "\n",
    "- **Тариф «Смарт»**\n",
    "\n",
    "*Ежемесячная плата:* **550 рублей** *Включено* **500 минут разговора, 50 сообщений и 15 Гб интернет-трафика**\n",
    "\n",
    "- **Тариф «Ультра»**\n",
    "\n",
    "*Ежемесячная плата:* **1950 рублей** *Включено* **3000 минут разговора, 1000 сообщений и 30 Гб интернет-трафика**\n",
    "\n",
    "*За использование минут, сообщений или интернет-трафика сверх тарифа взимается дополнительная плата*"
   ]
  },
  {
   "cell_type": "code",
   "execution_count": 4,
   "metadata": {},
   "outputs": [
    {
     "name": "stdout",
     "output_type": "stream",
     "text": [
      "<class 'pandas.core.frame.DataFrame'>\n",
      "RangeIndex: 3214 entries, 0 to 3213\n",
      "Data columns (total 5 columns):\n",
      " #   Column    Non-Null Count  Dtype  \n",
      "---  ------    --------------  -----  \n",
      " 0   calls     3214 non-null   float64\n",
      " 1   minutes   3214 non-null   float64\n",
      " 2   messages  3214 non-null   float64\n",
      " 3   mb_used   3214 non-null   float64\n",
      " 4   is_ultra  3214 non-null   int64  \n",
      "dtypes: float64(4), int64(1)\n",
      "memory usage: 125.7 KB\n"
     ]
    }
   ],
   "source": [
    "df.info()"
   ]
  },
  {
   "cell_type": "markdown",
   "metadata": {},
   "source": [
    "В таблице представлена информация о поведении 3214 пользователях."
   ]
  },
  {
   "cell_type": "markdown",
   "metadata": {},
   "source": [
    "Взглянем на распределение пользователей по тарифам."
   ]
  },
  {
   "cell_type": "code",
   "execution_count": 5,
   "metadata": {},
   "outputs": [
    {
     "data": {
      "image/png": "[encoded data removed]",
      "text/plain": [
       "<Figure size 432x288 with 1 Axes>"
      ]
     },
     "metadata": {
      "needs_background": "light"
     },
     "output_type": "display_data"
    },
    {
     "data": {
      "text/plain": [
       "is_ultra\n",
       "0    2229\n",
       "1     985\n",
       "Name: calls, dtype: int64"
      ]
     },
     "execution_count": 5,
     "metadata": {},
     "output_type": "execute_result"
    }
   ],
   "source": [
    "df.groupby('is_ultra').calls.count().plot(kind='bar', rot=0)\n",
    "plt.xlabel('Тариф')\n",
    "plt.ylabel('Количество пользователей')\n",
    "plt.title('Распределение пользователей по тарифам')\n",
    "plt.show()\n",
    "df.groupby('is_ultra').calls.count()"
   ]
  },
  {
   "cell_type": "markdown",
   "metadata": {},
   "source": [
    "Видим, что распределение пользователей не одинаковое, поэтому разумнее будет разбивать данные на стратифицированные выборки."
   ]
  },
  {
   "cell_type": "markdown",
   "metadata": {},
   "source": [
    "Данные о тарифе являются целевым признаком, а остальные стоит проверить на мультиколлинеарность."
   ]
  },
  {
   "cell_type": "markdown",
   "metadata": {},
   "source": [
    "Разделим данные на признаки и целевой признак."
   ]
  },
  {
   "cell_type": "code",
   "execution_count": 6,
   "metadata": {},
   "outputs": [],
   "source": [
    "# признаки\n",
    "features = df.drop('is_ultra', axis=1)\n",
    "# целевой признак\n",
    "target = df['is_ultra']"
   ]
  },
  {
   "cell_type": "markdown",
   "metadata": {},
   "source": [
    "Построим матрицу диаграмм рассеяния для визуальной проверки на корреляцию между признаками по шкале Чеддока."
   ]
  },
  {
   "attachments": {
    "image.png": {
     "image/png": "[encoded data removed]"
    }
   },
   "cell_type": "markdown",
   "metadata": {},
   "source": [
    "![image.png](attachment:image.png)\n"
   ]
  },
  {
   "cell_type": "code",
   "execution_count": 7,
   "metadata": {},
   "outputs": [
    {
     "data": {
      "image/png": "[encoded data removed]",
      "text/plain": [
       "<Figure size 648x648 with 16 Axes>"
      ]
     },
     "metadata": {
      "needs_background": "light"
     },
     "output_type": "display_data"
    }
   ],
   "source": [
    "pd.plotting.scatter_matrix(features, figsize=(9, 9))\n",
    "plt.title('Матрица диаграмм рассеяния', x=-1, y=4)\n",
    "plt.show()"
   ]
  },
  {
   "cell_type": "markdown",
   "metadata": {},
   "source": [
    "Видим, что между минутами и количеством звонков очень сильная корреляция."
   ]
  },
  {
   "cell_type": "code",
   "execution_count": 8,
   "metadata": {},
   "outputs": [
    {
     "data": {
      "text/html": [
       "<div>\n",
       "<style scoped>\n",
       "    .dataframe tbody tr th:only-of-type {\n",
       "        vertical-align: middle;\n",
       "    }\n",
       "\n",
       "    .dataframe tbody tr th {\n",
       "        vertical-align: top;\n",
       "    }\n",
       "\n",
       "    .dataframe thead th {\n",
       "        text-align: right;\n",
       "    }\n",
       "</style>\n",
       "<table border=\"1\" class=\"dataframe\">\n",
       "  <thead>\n",
       "    <tr style=\"text-align: right;\">\n",
       "      <th></th>\n",
       "      <th>calls</th>\n",
       "      <th>minutes</th>\n",
       "      <th>messages</th>\n",
       "      <th>mb_used</th>\n",
       "    </tr>\n",
       "  </thead>\n",
       "  <tbody>\n",
       "    <tr>\n",
       "      <th>calls</th>\n",
       "      <td>1.000000</td>\n",
       "      <td>0.982083</td>\n",
       "      <td>0.177385</td>\n",
       "      <td>0.286442</td>\n",
       "    </tr>\n",
       "    <tr>\n",
       "      <th>minutes</th>\n",
       "      <td>0.982083</td>\n",
       "      <td>1.000000</td>\n",
       "      <td>0.173110</td>\n",
       "      <td>0.280967</td>\n",
       "    </tr>\n",
       "    <tr>\n",
       "      <th>messages</th>\n",
       "      <td>0.177385</td>\n",
       "      <td>0.173110</td>\n",
       "      <td>1.000000</td>\n",
       "      <td>0.195721</td>\n",
       "    </tr>\n",
       "    <tr>\n",
       "      <th>mb_used</th>\n",
       "      <td>0.286442</td>\n",
       "      <td>0.280967</td>\n",
       "      <td>0.195721</td>\n",
       "      <td>1.000000</td>\n",
       "    </tr>\n",
       "  </tbody>\n",
       "</table>\n",
       "</div>"
      ],
      "text/plain": [
       "             calls   minutes  messages   mb_used\n",
       "calls     1.000000  0.982083  0.177385  0.286442\n",
       "minutes   0.982083  1.000000  0.173110  0.280967\n",
       "messages  0.177385  0.173110  1.000000  0.195721\n",
       "mb_used   0.286442  0.280967  0.195721  1.000000"
      ]
     },
     "execution_count": 8,
     "metadata": {},
     "output_type": "execute_result"
    }
   ],
   "source": [
    "features.corr()"
   ]
  },
  {
   "cell_type": "markdown",
   "metadata": {},
   "source": [
    "Корреляция между количеством звонков и потраченными минутами равна 0.98, что позволяет нам оставить только один из данных признаков. В тарифе есть ограничения по количеству потраченных минут, но не по количеству звонков, таким образом данные о количестве звонков можем исключить из таблицы."
   ]
  },
  {
   "cell_type": "code",
   "execution_count": 9,
   "metadata": {},
   "outputs": [],
   "source": [
    "features = features.drop('calls', axis=1)"
   ]
  },
  {
   "cell_type": "markdown",
   "metadata": {},
   "source": [
    "## Разбиваем данные на выборки"
   ]
  },
  {
   "cell_type": "markdown",
   "metadata": {},
   "source": [
    "Разобъем данные на тренировочную, валидационную и тестовую выборки в пропорциях 3:1:1. Для начала отделим 20% данных под тестовую выборку."
   ]
  },
  {
   "cell_type": "code",
   "execution_count": 10,
   "metadata": {},
   "outputs": [],
   "source": [
    "features_df, features_test, target_df, target_test = train_test_split(\n",
    "    features,\n",
    "    target,\n",
    "    test_size=0.2,\n",
    "    random_state=12345,\n",
    "    shuffle=True,\n",
    "    stratify=target\n",
    ")"
   ]
  },
  {
   "cell_type": "markdown",
   "metadata": {},
   "source": [
    "И теперь отделим от тренировочной выборки 25% под валидационную."
   ]
  },
  {
   "cell_type": "code",
   "execution_count": 11,
   "metadata": {},
   "outputs": [],
   "source": [
    "features_train, features_valid, target_train, target_valid = train_test_split(\n",
    "    features_df,\n",
    "    target_df,\n",
    "    test_size=0.25,\n",
    "    random_state=12345,\n",
    "    shuffle=True,\n",
    "    stratify=target_df\n",
    ")"
   ]
  },
  {
   "cell_type": "markdown",
   "metadata": {},
   "source": [
    "Посмотрим на размеры выборок."
   ]
  },
  {
   "cell_type": "code",
   "execution_count": 12,
   "metadata": {},
   "outputs": [
    {
     "data": {
      "text/plain": [
       "((1928, 3), (643, 3), (643, 3))"
      ]
     },
     "execution_count": 12,
     "metadata": {},
     "output_type": "execute_result"
    }
   ],
   "source": [
    "features_train.shape, features_valid.shape, features_test.shape"
   ]
  },
  {
   "cell_type": "markdown",
   "metadata": {},
   "source": [
    "Пропорция 3:1:1 соблюдена."
   ]
  },
  {
   "cell_type": "code",
   "execution_count": 13,
   "metadata": {},
   "outputs": [
    {
     "data": {
      "image/png": "[encoded data removed]",
      "text/plain": [
       "<Figure size 432x288 with 1 Axes>"
      ]
     },
     "metadata": {
      "needs_background": "light"
     },
     "output_type": "display_data"
    }
   ],
   "source": [
    "target_test.value_counts().plot(kind='bar', rot=0)\n",
    "plt.xlabel('Тариф')\n",
    "plt.ylabel('Количество пользователей')\n",
    "plt.title('Распределение пользователей по тарифам в тестовой выборке')\n",
    "plt.show()"
   ]
  },
  {
   "cell_type": "markdown",
   "metadata": {},
   "source": [
    "Распределение пользователей по тарифам в тестовой выборке (и остальных) по пропорциям соответсвует исходной таблице."
   ]
  },
  {
   "cell_type": "markdown",
   "metadata": {},
   "source": [
    "## Исследуем модели"
   ]
  },
  {
   "cell_type": "markdown",
   "metadata": {},
   "source": [
    "Далее исследуем модели решающего дерева, рандомного леса и логистической регрессии. Для оценки качества модели применим метрику качества `accuracy` - долю правильных ответов."
   ]
  },
  {
   "cell_type": "markdown",
   "metadata": {},
   "source": [
    "### Модель решающего дерева"
   ]
  },
  {
   "cell_type": "markdown",
   "metadata": {},
   "source": [
    "Исследуем модели с разными глубинами дерева (от 1 до 10) и выберем из них лучшую."
   ]
  },
  {
   "cell_type": "code",
   "execution_count": 14,
   "metadata": {},
   "outputs": [],
   "source": [
    "model_tree = None\n",
    "accuracy_tree = 0 \n",
    "best_depth_tree = 0\n",
    "for depth in range(1, 11):\n",
    "    model = DecisionTreeClassifier(\n",
    "        random_state=12345,\n",
    "        max_depth=depth\n",
    "    )\n",
    "    model.fit(features_train, target_train)\n",
    "    predictions = model.predict(features_valid)\n",
    "    result = accuracy_score(target_valid, predictions)\n",
    "    if result > accuracy_tree:\n",
    "        model_tree = model\n",
    "        accuracy_tree = result\n",
    "        best_depth_tree = depth"
   ]
  },
  {
   "cell_type": "code",
   "execution_count": 15,
   "metadata": {},
   "outputs": [
    {
     "name": "stdout",
     "output_type": "stream",
     "text": [
      "Accuracy модели решающего дерева на валидационной выборке: 0.8118 при глубине дерева 10.\n"
     ]
    }
   ],
   "source": [
    "print(f\"Accuracy модели решающего дерева на валидационной выборке: {accuracy_tree:.4f} при глубине дерева {best_depth_tree}.\")"
   ]
  },
  {
   "cell_type": "markdown",
   "metadata": {},
   "source": [
    "Выяснено, что наиболее подходящая глубина дерева для модели равна 10."
   ]
  },
  {
   "cell_type": "markdown",
   "metadata": {},
   "source": [
    "### Модель случайного леса"
   ]
  },
  {
   "cell_type": "markdown",
   "metadata": {},
   "source": [
    "Исследуем модели с разными глубинами дерева (от 1 до 10) и разным количеством деревьев (от 1 до 50) и выберем из них лучшую."
   ]
  },
  {
   "cell_type": "code",
   "execution_count": 16,
   "metadata": {},
   "outputs": [],
   "source": [
    "model_forest = None\n",
    "accuracy_forest = 0\n",
    "best_depth_forest = 0\n",
    "number_of_trees = 0\n",
    "for estimator in range(1, 51):\n",
    "    for depth in range(1, 11):\n",
    "        model = RandomForestClassifier(\n",
    "            random_state=12345,\n",
    "            max_depth=depth,\n",
    "            n_estimators=estimator\n",
    "        )\n",
    "        model.fit(features_train, target_train)\n",
    "        result = model.score(features_valid, target_valid)\n",
    "        if result > accuracy_forest:\n",
    "            model_forest = model\n",
    "            accuracy_forest = result\n",
    "            best_depth_forest = depth\n",
    "            number_of_trees = estimator"
   ]
  },
  {
   "cell_type": "code",
   "execution_count": 17,
   "metadata": {},
   "outputs": [
    {
     "name": "stdout",
     "output_type": "stream",
     "text": [
      "Accuracy модели случайного леса на валидационной выборке: 0.8289 при глубине дерева 6 и количестве деревьев 8.\n"
     ]
    }
   ],
   "source": [
    "print(f\"Accuracy модели случайного леса на валидационной выборке: {accuracy_forest:.4f} при глубине дерева {best_depth_forest} \\\n",
    "и количестве деревьев {number_of_trees}.\")"
   ]
  },
  {
   "cell_type": "markdown",
   "metadata": {},
   "source": [
    "Accuracy для модели случайного леса при глубине дерева 6 и количестве деревьев 8 выше, чем у модели решающего дерева."
   ]
  },
  {
   "cell_type": "markdown",
   "metadata": {},
   "source": [
    "### Модель логистической регрессии"
   ]
  },
  {
   "cell_type": "code",
   "execution_count": 18,
   "metadata": {},
   "outputs": [],
   "source": [
    "model_regression = LogisticRegression(\n",
    "    random_state=12345,\n",
    "    solver='lbfgs'\n",
    ")\n",
    "model_regression.fit(features_train, target_train)\n",
    "accuracy_regression = model_regression.score(features_valid, target_valid)"
   ]
  },
  {
   "cell_type": "code",
   "execution_count": 19,
   "metadata": {},
   "outputs": [
    {
     "name": "stdout",
     "output_type": "stream",
     "text": [
      "Accuracy модели логистической регрессии на валидационной выборке: 0.7045.\n"
     ]
    }
   ],
   "source": [
    "print(f\"Accuracy модели логистической регрессии на валидационной выборке: {accuracy_regression:.4f}.\")"
   ]
  },
  {
   "cell_type": "markdown",
   "metadata": {},
   "source": [
    "Согласно accuracy моделей на валидационной выборке, по доле правильных ответов мы расположим их в следующем порядке (по убыванию):\n",
    "1. Модель случайного леса\n",
    "2. Модель решающего дерева\n",
    "3. Модель логистической регрессии"
   ]
  },
  {
   "cell_type": "markdown",
   "metadata": {},
   "source": [
    "## Проверяем модели на тестовой выборке"
   ]
  },
  {
   "cell_type": "markdown",
   "metadata": {},
   "source": [
    "Мы подобрали параметры модели, обучая модель на тренировочной выборке и проверяя на валидационной. Теперь можем объединить эти две выборки и на них обучить модели с подобранными параметрами, и проверить долю правильных ответов на тестовой выборке."
   ]
  },
  {
   "cell_type": "markdown",
   "metadata": {},
   "source": [
    "У нас уже есть переменные, хранящие данные с тренировочной и тестовой выборками, это `features_df` и `target_df`. Обучим на них наши модели."
   ]
  },
  {
   "cell_type": "markdown",
   "metadata": {},
   "source": [
    "**Модель решающего дерева**"
   ]
  },
  {
   "cell_type": "code",
   "execution_count": 20,
   "metadata": {},
   "outputs": [
    {
     "name": "stdout",
     "output_type": "stream",
     "text": [
      "Accuracy модели решающего дерева на тестовой выборке: 0.7869.\n"
     ]
    }
   ],
   "source": [
    "model_tree = DecisionTreeClassifier(\n",
    "        random_state=12345,\n",
    "        max_depth=10\n",
    "    )\n",
    "model_tree.fit(features_df, target_df)\n",
    "predictions = model_tree.predict(features_test)\n",
    "test_tree = accuracy_score(target_test, predictions)\n",
    "print(f\"Accuracy модели решающего дерева на тестовой выборке: {test_tree:.4f}.\")"
   ]
  },
  {
   "cell_type": "markdown",
   "metadata": {},
   "source": [
    "- Доля правильных ответов при обучении модели решающего дерева на расширенной тренировочной выборке понизилась с 0.8118 на валидационной выборке до `0.7869` на тестовой выборке."
   ]
  },
  {
   "cell_type": "markdown",
   "metadata": {},
   "source": [
    "**Модель случайного леса**"
   ]
  },
  {
   "cell_type": "code",
   "execution_count": 21,
   "metadata": {},
   "outputs": [
    {
     "name": "stdout",
     "output_type": "stream",
     "text": [
      "Accuracy модели случайного леса на тестовой выборке: 0.8103.\n"
     ]
    }
   ],
   "source": [
    "model_forest = RandomForestClassifier(\n",
    "            random_state=12345,\n",
    "            max_depth=6,\n",
    "            n_estimators=8\n",
    "        )\n",
    "model_forest.fit(features_df, target_df)\n",
    "test_forest = model_forest.score(features_test, target_test)\n",
    "print(f\"Accuracy модели случайного леса на тестовой выборке: {test_forest:.4f}.\")"
   ]
  },
  {
   "cell_type": "markdown",
   "metadata": {},
   "source": [
    "- Доля правильных ответов при обучении модели случайного леса на расширенной тренировочной выборке понизилась с 0.8289 на валидационной выборке до `0.8103` на тестовой выборке."
   ]
  },
  {
   "cell_type": "markdown",
   "metadata": {},
   "source": [
    "**Модель логистической регрессии**"
   ]
  },
  {
   "cell_type": "code",
   "execution_count": 22,
   "metadata": {},
   "outputs": [
    {
     "name": "stdout",
     "output_type": "stream",
     "text": [
      "Accuracy модели логистической регрессии на тестовой выборке: 0.7092.\n"
     ]
    }
   ],
   "source": [
    "model_regression = LogisticRegression(\n",
    "    random_state=12345,\n",
    "    solver='lbfgs'\n",
    ")\n",
    "model_regression.fit(features_df, target_df)\n",
    "test_regression = model_regression.score(features_test, target_test)\n",
    "print(f\"Accuracy модели логистической регрессии на тестовой выборке: {test_regression:.4f}.\")"
   ]
  },
  {
   "cell_type": "markdown",
   "metadata": {},
   "source": [
    "- Доля правильных ответов при обучении модели логистической регрессии на расширенной тренировочной выборке повысилась с 0.7045 на валидационной выборке до `0.7092` на тестовой выборке.\n",
    "- Отметим, что при расширении обучающей выборки для моделей решающего дерева и случайного леса доля правильных ответов понизилась, а для модели логистической регрессии повысилась."
   ]
  },
  {
   "cell_type": "code",
   "execution_count": 23,
   "metadata": {},
   "outputs": [
    {
     "name": "stdout",
     "output_type": "stream",
     "text": [
      "Accuracy моделей на тестовой выборке\n",
      "случайного леса : 0.8103 \n",
      "решающего дерева : 0.7869 \n",
      "логистической регрессии: 0.7092\n"
     ]
    }
   ],
   "source": [
    "print(f\"Accuracy моделей на тестовой выборке\\\n",
    "\\nслучайного леса : {test_forest:.4f} \\\n",
    "\\nрешающего дерева : {test_tree:.4f} \\\n",
    "\\nлогистической регрессии: {test_regression:.4f}\")"
   ]
  },
  {
   "cell_type": "markdown",
   "metadata": {},
   "source": [
    "- Таким образом для системы, максимально точно рекомендующей пользователю подходящий тариф, есть основание предложить **модель рандомного леса при глубине дерева 6 и количестве деревьев 8**."
   ]
  },
  {
   "cell_type": "markdown",
   "metadata": {},
   "source": [
    "## Проверяем модели на адекватность"
   ]
  },
  {
   "cell_type": "markdown",
   "metadata": {},
   "source": [
    "Чтобы проверить модели на адекватность, используем фиктивный классификатор `DummyClassifier`. \n",
    "\n",
    "Это тип классификатора, который не дает никакого представления о данных и классифицирует данные, используя только простые правила. Поведение классификатора полностью не зависит от обучающих данных, поскольку тенденции в обучающих данных полностью игнорируются. \n",
    "\n",
    "Он основан на философии, согласно которой любой аналитический подход к проблеме классификации должен быть лучше, чем подход случайного угадывания. Таким образом, accuracy данной модели должно быть ниже accuracy остальных."
   ]
  },
  {
   "cell_type": "code",
   "execution_count": 24,
   "metadata": {},
   "outputs": [],
   "source": [
    "strategies = ['most_frequent', 'stratified', 'uniform', 'constant']\n",
    "  \n",
    "test_scores = []\n",
    "for s in strategies:\n",
    "    if s =='constant':\n",
    "        dummy = DummyClassifier(strategy = s, random_state = 0, constant = 1)\n",
    "    else:\n",
    "        dummy = DummyClassifier(strategy = s, random_state = 0)\n",
    "    dummy.fit(features_train, target_train)\n",
    "    score = dummy.score(features_test, target_test)\n",
    "    test_scores.append(score)"
   ]
  },
  {
   "cell_type": "markdown",
   "metadata": {},
   "source": [
    "Дополним списки значениями accuracy наших моделей."
   ]
  },
  {
   "cell_type": "code",
   "execution_count": 25,
   "metadata": {},
   "outputs": [],
   "source": [
    "strategies.extend(['random_forest', 'logistic_regression', 'decision_tree'])\n",
    "test_scores.extend([test_forest, test_regression, test_tree])"
   ]
  },
  {
   "cell_type": "markdown",
   "metadata": {},
   "source": [
    "Визуализируем accuracy для каждой модели."
   ]
  },
  {
   "cell_type": "code",
   "execution_count": 26,
   "metadata": {},
   "outputs": [
    {
     "data": {
      "image/png": "[encoded data removed]",
      "text/plain": [
       "<Figure size 864x288 with 1 Axes>"
      ]
     },
     "metadata": {
      "needs_background": "light"
     },
     "output_type": "display_data"
    }
   ],
   "source": [
    "fig, ax = plt.subplots(figsize=(12, 4))\n",
    "plt.bar(strategies, test_scores)\n",
    "plt.title('Проверка моделей на адекватность')\n",
    "plt.xlabel('модель')\n",
    "plt.ylabel('accuracy')\n",
    "plt.show()"
   ]
  },
  {
   "cell_type": "markdown",
   "metadata": {},
   "source": [
    "Таким образом, видим, что accuracy наших моделей выше моделей фиктивного классификатора."
   ]
  },
  {
   "cell_type": "markdown",
   "metadata": {},
   "source": [
    "## Вывод"
   ]
  },
  {
   "cell_type": "markdown",
   "metadata": {},
   "source": [
    "В данном исследовании нам нужно было построить модель для задачи классификации, которая может выбрать подходящий для пользователя компании \"Мегалайн\" тариф: \"Смарт\" или \"Ультра\".\n",
    "\n",
    "В нашем распоряжении были данные о поведении клиентов, которые уже перешли на эти тарифы.\n",
    "\n",
    "В данном исследовании было использовано три разных модели:\n",
    "1. Модель решающего дерева с разными глубинами дерева (от 1 до 10)\n",
    "2. Модель рандомного леса с разными глубинами дерева (от 1 до 10) и разным количеством деревьев (от 1 до 50)\n",
    "3. Модель логистической регрессии\n",
    "\n",
    "Для оценки качества модели использовали метрику качества accuracy - долю правильных ответов.\n",
    "- Для модели решающего дерева accuracy на валидационной выборке оказался лучшим при глубине дерева 10.\n",
    "- Для модели случайного леса accuracy на валидационной выборке оказался лучшим при глубине дерева 6 и количестве деревьев 8.\n",
    "\n",
    "**Проверка на валидационной выборке** показала, что модели по accuracy (указано в скобках) расположены в следующем порядке (по убыванию):\n",
    "1. Модель случайного леса (0.8289)\n",
    "2. Модель решающего дерева (0.8118)\n",
    "3. Модель логистической регрессии (0.7045)\n",
    "\n",
    "**Проверка на тестовой выборке** проходила при повторном обучении модели на расширенной выборке (обучающая + валидационная выборки) и показала измененные значения доли правильных ответов (по убыванию accuracy):\n",
    "1. Модель случайного леса (0.8103)  \n",
    "2. Модель решающего дерева (0.7869)\n",
    "3. Модель логистической регрессии (0.7092)\n",
    "\n",
    "Проверка моделей на адекватность подтвердила большую долю правильных ответов для использованных моделей чем у моделей фиктивного классификатора.\n",
    "\n",
    "Таким образом, **моделью с наибольшей долей правильных ответов на тестовой выборке оказалась модель случайного леса с 8 деревьями глубиной 6**."
   ]
  }
 ],
 "metadata": {
  "ExecuteTimeLog": [
   {
    "duration": 5,
    "start_time": "2022-01-19T21:21:14.729Z"
   },
   {
    "duration": 1056,
    "start_time": "2022-01-19T21:24:58.490Z"
   },
   {
    "duration": 20,
    "start_time": "2022-01-19T21:25:02.225Z"
   },
   {
    "duration": 14,
    "start_time": "2022-01-19T21:26:00.634Z"
   },
   {
    "duration": 6,
    "start_time": "2022-01-19T21:47:53.956Z"
   },
   {
    "duration": 1203,
    "start_time": "2022-01-20T14:42:26.429Z"
   },
   {
    "duration": 20,
    "start_time": "2022-01-20T14:42:27.634Z"
   },
   {
    "duration": 37,
    "start_time": "2022-01-20T14:42:27.656Z"
   },
   {
    "duration": 30,
    "start_time": "2022-01-20T14:42:27.695Z"
   },
   {
    "duration": 538,
    "start_time": "2022-01-20T14:51:34.329Z"
   },
   {
    "duration": 3,
    "start_time": "2022-01-20T14:52:09.682Z"
   },
   {
    "duration": 139,
    "start_time": "2022-01-20T14:52:14.578Z"
   },
   {
    "duration": 165,
    "start_time": "2022-01-20T19:04:16.684Z"
   },
   {
    "duration": 177,
    "start_time": "2022-01-20T19:04:29.446Z"
   },
   {
    "duration": 177,
    "start_time": "2022-01-20T19:04:49.872Z"
   },
   {
    "duration": 159,
    "start_time": "2022-01-20T19:05:15.670Z"
   },
   {
    "duration": 4,
    "start_time": "2022-01-20T19:48:25.708Z"
   },
   {
    "duration": 4,
    "start_time": "2022-01-20T20:01:24.649Z"
   },
   {
    "duration": 4,
    "start_time": "2022-01-20T20:03:56.849Z"
   },
   {
    "duration": 6,
    "start_time": "2022-01-20T20:04:00.200Z"
   },
   {
    "duration": 7,
    "start_time": "2022-01-20T20:04:06.097Z"
   },
   {
    "duration": 12,
    "start_time": "2022-01-20T20:04:22.663Z"
   },
   {
    "duration": 7,
    "start_time": "2022-01-20T20:04:49.145Z"
   },
   {
    "duration": 251,
    "start_time": "2022-01-20T20:06:52.769Z"
   },
   {
    "duration": 238,
    "start_time": "2022-01-20T20:07:57.319Z"
   },
   {
    "duration": 10,
    "start_time": "2022-01-20T20:07:59.634Z"
   },
   {
    "duration": 263,
    "start_time": "2022-01-20T20:08:04.290Z"
   },
   {
    "duration": 9,
    "start_time": "2022-01-20T20:08:47.234Z"
   },
   {
    "duration": 9,
    "start_time": "2022-01-20T20:09:24.093Z"
   },
   {
    "duration": 8,
    "start_time": "2022-01-20T20:10:21.241Z"
   },
   {
    "duration": 1231,
    "start_time": "2022-01-20T20:10:27.944Z"
   },
   {
    "duration": 21,
    "start_time": "2022-01-20T20:10:29.177Z"
   },
   {
    "duration": 52,
    "start_time": "2022-01-20T20:10:29.200Z"
   },
   {
    "duration": 36,
    "start_time": "2022-01-20T20:10:29.254Z"
   },
   {
    "duration": 159,
    "start_time": "2022-01-20T20:10:29.293Z"
   },
   {
    "duration": 8,
    "start_time": "2022-01-20T20:10:29.454Z"
   },
   {
    "duration": 51,
    "start_time": "2022-01-20T20:10:29.464Z"
   },
   {
    "duration": 35,
    "start_time": "2022-01-20T20:10:29.517Z"
   },
   {
    "duration": 6,
    "start_time": "2022-01-20T20:11:52.548Z"
   },
   {
    "duration": 327,
    "start_time": "2022-01-20T20:12:26.189Z"
   },
   {
    "duration": 4,
    "start_time": "2022-01-20T20:12:32.474Z"
   },
   {
    "duration": 213,
    "start_time": "2022-01-20T20:12:55.689Z"
   },
   {
    "duration": 4,
    "start_time": "2022-01-20T20:13:05.954Z"
   },
   {
    "duration": 4,
    "start_time": "2022-01-20T20:15:53.908Z"
   },
   {
    "duration": 215,
    "start_time": "2022-01-20T20:21:02.949Z"
   },
   {
    "duration": 5,
    "start_time": "2022-01-20T20:21:24.005Z"
   },
   {
    "duration": 5,
    "start_time": "2022-01-20T20:21:38.181Z"
   },
   {
    "duration": 234,
    "start_time": "2022-01-20T20:21:56.509Z"
   },
   {
    "duration": 279,
    "start_time": "2022-01-20T20:21:58.044Z"
   },
   {
    "duration": 222,
    "start_time": "2022-01-20T20:22:31.653Z"
   },
   {
    "duration": 171,
    "start_time": "2022-01-20T20:22:46.542Z"
   },
   {
    "duration": 210,
    "start_time": "2022-01-20T20:23:00.785Z"
   },
   {
    "duration": 140,
    "start_time": "2022-01-20T20:23:06.582Z"
   },
   {
    "duration": 52,
    "start_time": "2022-01-20T20:36:09.916Z"
   },
   {
    "duration": 216,
    "start_time": "2022-01-20T20:36:12.645Z"
   },
   {
    "duration": 4,
    "start_time": "2022-01-20T20:36:31.019Z"
   },
   {
    "duration": 4,
    "start_time": "2022-01-20T20:36:55.083Z"
   },
   {
    "duration": 4,
    "start_time": "2022-01-20T20:37:03.004Z"
   },
   {
    "duration": 4,
    "start_time": "2022-01-20T21:27:25.421Z"
   },
   {
    "duration": 230,
    "start_time": "2022-01-20T21:33:11.207Z"
   },
   {
    "duration": 4,
    "start_time": "2022-01-20T21:33:22.863Z"
   },
   {
    "duration": 70,
    "start_time": "2022-01-20T21:34:25.446Z"
   },
   {
    "duration": 5,
    "start_time": "2022-01-20T21:34:35.376Z"
   },
   {
    "duration": 51,
    "start_time": "2022-01-20T21:34:48.600Z"
   },
   {
    "duration": 3,
    "start_time": "2022-01-20T21:34:50.784Z"
   },
   {
    "duration": 3,
    "start_time": "2022-01-20T21:36:03.881Z"
   },
   {
    "duration": 56,
    "start_time": "2022-01-20T21:38:54.306Z"
   },
   {
    "duration": 3,
    "start_time": "2022-01-20T21:39:00.962Z"
   },
   {
    "duration": 3,
    "start_time": "2022-01-20T21:39:53.533Z"
   },
   {
    "duration": 4,
    "start_time": "2022-01-20T21:40:03.336Z"
   },
   {
    "duration": 5321,
    "start_time": "2022-01-20T22:03:51.545Z"
   },
   {
    "duration": 3,
    "start_time": "2022-01-20T22:03:59.460Z"
   },
   {
    "duration": 17,
    "start_time": "2022-01-20T22:11:30.909Z"
   },
   {
    "duration": 4,
    "start_time": "2022-01-20T22:12:30.678Z"
   },
   {
    "duration": 29,
    "start_time": "2022-01-20T22:24:14.312Z"
   },
   {
    "duration": 4,
    "start_time": "2022-01-20T22:24:17.354Z"
   },
   {
    "duration": 15,
    "start_time": "2022-01-20T22:24:38.873Z"
   },
   {
    "duration": 3,
    "start_time": "2022-01-20T22:24:41.537Z"
   },
   {
    "duration": 30,
    "start_time": "2022-01-20T22:24:52.184Z"
   },
   {
    "duration": 4,
    "start_time": "2022-01-20T22:24:55.744Z"
   },
   {
    "duration": 1186,
    "start_time": "2022-01-20T22:25:47.632Z"
   },
   {
    "duration": 22,
    "start_time": "2022-01-20T22:25:48.821Z"
   },
   {
    "duration": 18,
    "start_time": "2022-01-20T22:25:48.845Z"
   },
   {
    "duration": 12,
    "start_time": "2022-01-20T22:25:48.865Z"
   },
   {
    "duration": 149,
    "start_time": "2022-01-20T22:25:48.879Z"
   },
   {
    "duration": 4,
    "start_time": "2022-01-20T22:25:49.030Z"
   },
   {
    "duration": 25,
    "start_time": "2022-01-20T22:25:49.037Z"
   },
   {
    "duration": 7,
    "start_time": "2022-01-20T22:25:49.065Z"
   },
   {
    "duration": 16,
    "start_time": "2022-01-20T22:25:49.073Z"
   },
   {
    "duration": 7,
    "start_time": "2022-01-20T22:25:49.091Z"
   },
   {
    "duration": 153,
    "start_time": "2022-01-20T22:25:49.100Z"
   },
   {
    "duration": 57,
    "start_time": "2022-01-20T22:25:49.255Z"
   },
   {
    "duration": 4,
    "start_time": "2022-01-20T22:25:49.314Z"
   },
   {
    "duration": 5478,
    "start_time": "2022-01-20T22:25:49.320Z"
   },
   {
    "duration": 4,
    "start_time": "2022-01-20T22:25:54.800Z"
   },
   {
    "duration": 61,
    "start_time": "2022-01-20T22:25:54.805Z"
   },
   {
    "duration": 3,
    "start_time": "2022-01-20T22:25:54.868Z"
   },
   {
    "duration": 28757,
    "start_time": "2022-01-20T22:29:22.795Z"
   },
   {
    "duration": 3,
    "start_time": "2022-01-20T22:30:19.706Z"
   },
   {
    "duration": 5291,
    "start_time": "2022-01-20T22:30:48.812Z"
   },
   {
    "duration": 4,
    "start_time": "2022-01-20T22:30:59.060Z"
   },
   {
    "duration": 29163,
    "start_time": "2022-01-20T22:31:33.603Z"
   },
   {
    "duration": 4,
    "start_time": "2022-01-20T22:32:07.490Z"
   },
   {
    "duration": 4,
    "start_time": "2022-01-20T22:33:07.651Z"
   },
   {
    "duration": 1167,
    "start_time": "2022-01-20T22:33:49.837Z"
   },
   {
    "duration": 20,
    "start_time": "2022-01-20T22:33:51.006Z"
   },
   {
    "duration": 15,
    "start_time": "2022-01-20T22:33:51.028Z"
   },
   {
    "duration": 10,
    "start_time": "2022-01-20T22:33:51.045Z"
   },
   {
    "duration": 143,
    "start_time": "2022-01-20T22:33:51.056Z"
   },
   {
    "duration": 5,
    "start_time": "2022-01-20T22:33:51.200Z"
   },
   {
    "duration": 8,
    "start_time": "2022-01-20T22:33:51.207Z"
   },
   {
    "duration": 7,
    "start_time": "2022-01-20T22:33:51.218Z"
   },
   {
    "duration": 4,
    "start_time": "2022-01-20T22:33:51.227Z"
   },
   {
    "duration": 31,
    "start_time": "2022-01-20T22:33:51.233Z"
   },
   {
    "duration": 144,
    "start_time": "2022-01-20T22:33:51.267Z"
   },
   {
    "duration": 62,
    "start_time": "2022-01-20T22:33:51.413Z"
   },
   {
    "duration": 4,
    "start_time": "2022-01-20T22:33:51.477Z"
   },
   {
    "duration": 28561,
    "start_time": "2022-01-20T22:33:51.483Z"
   },
   {
    "duration": 16,
    "start_time": "2022-01-20T22:34:20.046Z"
   },
   {
    "duration": 38,
    "start_time": "2022-01-20T22:34:20.064Z"
   },
   {
    "duration": 3,
    "start_time": "2022-01-20T22:34:20.104Z"
   },
   {
    "duration": 7,
    "start_time": "2022-01-20T22:34:20.108Z"
   },
   {
    "duration": 8,
    "start_time": "2022-01-20T22:40:00.662Z"
   },
   {
    "duration": 76,
    "start_time": "2022-01-20T22:43:44.845Z"
   },
   {
    "duration": 78,
    "start_time": "2022-01-20T22:44:45.855Z"
   },
   {
    "duration": 73,
    "start_time": "2022-01-20T22:45:03.862Z"
   },
   {
    "duration": 3,
    "start_time": "2022-01-20T22:45:23.077Z"
   },
   {
    "duration": 4,
    "start_time": "2022-01-20T22:45:44.404Z"
   },
   {
    "duration": 3,
    "start_time": "2022-01-20T23:18:25.891Z"
   },
   {
    "duration": 320,
    "start_time": "2022-01-20T23:27:35.395Z"
   },
   {
    "duration": 208,
    "start_time": "2022-01-20T23:28:22.442Z"
   },
   {
    "duration": 8,
    "start_time": "2022-01-20T23:28:28.527Z"
   },
   {
    "duration": 205,
    "start_time": "2022-01-20T23:29:56.482Z"
   },
   {
    "duration": 133,
    "start_time": "2022-01-20T23:30:07.931Z"
   },
   {
    "duration": 324,
    "start_time": "2022-01-20T23:30:20.539Z"
   },
   {
    "duration": 245,
    "start_time": "2022-01-20T23:31:50.116Z"
   },
   {
    "duration": 208,
    "start_time": "2022-01-20T23:33:13.404Z"
   },
   {
    "duration": 206,
    "start_time": "2022-01-20T23:36:03.123Z"
   },
   {
    "duration": 325,
    "start_time": "2022-01-20T23:36:15.189Z"
   },
   {
    "duration": 3,
    "start_time": "2022-01-20T23:36:44.531Z"
   },
   {
    "duration": 4,
    "start_time": "2022-01-20T23:36:53.214Z"
   },
   {
    "duration": 5,
    "start_time": "2022-01-20T23:37:08.025Z"
   },
   {
    "duration": 1278,
    "start_time": "2022-01-20T23:37:16.966Z"
   },
   {
    "duration": 20,
    "start_time": "2022-01-20T23:37:18.246Z"
   },
   {
    "duration": 12,
    "start_time": "2022-01-20T23:37:18.269Z"
   },
   {
    "duration": 7,
    "start_time": "2022-01-20T23:37:18.283Z"
   },
   {
    "duration": 164,
    "start_time": "2022-01-20T23:37:18.292Z"
   },
   {
    "duration": 3,
    "start_time": "2022-01-20T23:37:18.461Z"
   },
   {
    "duration": 12,
    "start_time": "2022-01-20T23:37:18.466Z"
   },
   {
    "duration": 14,
    "start_time": "2022-01-20T23:37:18.480Z"
   },
   {
    "duration": 10,
    "start_time": "2022-01-20T23:37:18.496Z"
   },
   {
    "duration": 18,
    "start_time": "2022-01-20T23:37:18.508Z"
   },
   {
    "duration": 144,
    "start_time": "2022-01-20T23:37:18.528Z"
   },
   {
    "duration": 54,
    "start_time": "2022-01-20T23:37:18.674Z"
   },
   {
    "duration": 3,
    "start_time": "2022-01-20T23:37:18.730Z"
   },
   {
    "duration": 28752,
    "start_time": "2022-01-20T23:37:18.735Z"
   },
   {
    "duration": 4,
    "start_time": "2022-01-20T23:37:47.488Z"
   },
   {
    "duration": 51,
    "start_time": "2022-01-20T23:37:47.493Z"
   },
   {
    "duration": 3,
    "start_time": "2022-01-20T23:37:47.546Z"
   },
   {
    "duration": 23,
    "start_time": "2022-01-20T23:37:47.551Z"
   },
   {
    "duration": 10,
    "start_time": "2022-01-20T23:37:47.576Z"
   },
   {
    "duration": 21,
    "start_time": "2022-01-20T23:37:47.588Z"
   },
   {
    "duration": 24,
    "start_time": "2022-01-20T23:37:47.610Z"
   },
   {
    "duration": 293,
    "start_time": "2022-01-20T23:37:47.636Z"
   },
   {
    "duration": 3,
    "start_time": "2022-01-20T23:37:47.932Z"
   },
   {
    "duration": 157,
    "start_time": "2022-01-20T23:38:05.443Z"
   },
   {
    "duration": 158,
    "start_time": "2022-01-20T23:39:27.387Z"
   },
   {
    "duration": 184,
    "start_time": "2022-01-20T23:39:32.924Z"
   },
   {
    "duration": 556,
    "start_time": "2022-01-20T23:39:40.739Z"
   },
   {
    "duration": 191,
    "start_time": "2022-01-20T23:39:47.298Z"
   },
   {
    "duration": 3,
    "start_time": "2022-01-20T23:40:22.786Z"
   },
   {
    "duration": 3,
    "start_time": "2022-01-21T00:04:32.787Z"
   },
   {
    "duration": 1263,
    "start_time": "2022-01-21T00:04:45.241Z"
   },
   {
    "duration": 21,
    "start_time": "2022-01-21T00:04:46.506Z"
   },
   {
    "duration": 21,
    "start_time": "2022-01-21T00:04:46.529Z"
   },
   {
    "duration": 6,
    "start_time": "2022-01-21T00:04:46.552Z"
   },
   {
    "duration": 140,
    "start_time": "2022-01-21T00:04:46.559Z"
   },
   {
    "duration": 4,
    "start_time": "2022-01-21T00:04:46.701Z"
   },
   {
    "duration": 9,
    "start_time": "2022-01-21T00:04:46.707Z"
   },
   {
    "duration": 9,
    "start_time": "2022-01-21T00:04:46.718Z"
   },
   {
    "duration": 4,
    "start_time": "2022-01-21T00:04:46.729Z"
   },
   {
    "duration": 170,
    "start_time": "2022-01-21T00:04:46.735Z"
   },
   {
    "duration": 69,
    "start_time": "2022-01-21T00:04:46.906Z"
   },
   {
    "duration": 3,
    "start_time": "2022-01-21T00:04:46.977Z"
   },
   {
    "duration": 28718,
    "start_time": "2022-01-21T00:04:46.982Z"
   },
   {
    "duration": 3,
    "start_time": "2022-01-21T00:05:15.702Z"
   },
   {
    "duration": 55,
    "start_time": "2022-01-21T00:05:15.707Z"
   },
   {
    "duration": 3,
    "start_time": "2022-01-21T00:05:15.764Z"
   },
   {
    "duration": 40,
    "start_time": "2022-01-21T00:05:15.769Z"
   },
   {
    "duration": 32,
    "start_time": "2022-01-21T00:05:15.811Z"
   },
   {
    "duration": 25,
    "start_time": "2022-01-21T00:05:15.845Z"
   },
   {
    "duration": 31,
    "start_time": "2022-01-21T00:05:15.872Z"
   },
   {
    "duration": 255,
    "start_time": "2022-01-21T00:05:15.905Z"
   },
   {
    "duration": 4,
    "start_time": "2022-01-21T00:05:16.162Z"
   },
   {
    "duration": 1145,
    "start_time": "2022-01-21T00:13:49.662Z"
   },
   {
    "duration": 20,
    "start_time": "2022-01-21T00:13:50.809Z"
   },
   {
    "duration": 34,
    "start_time": "2022-01-21T00:13:50.831Z"
   },
   {
    "duration": 27,
    "start_time": "2022-01-21T00:13:50.867Z"
   },
   {
    "duration": 150,
    "start_time": "2022-01-21T00:13:50.896Z"
   },
   {
    "duration": 4,
    "start_time": "2022-01-21T00:13:51.048Z"
   },
   {
    "duration": 11,
    "start_time": "2022-01-21T00:13:51.054Z"
   },
   {
    "duration": 6,
    "start_time": "2022-01-21T00:13:51.068Z"
   },
   {
    "duration": 4,
    "start_time": "2022-01-21T00:13:51.076Z"
   },
   {
    "duration": 152,
    "start_time": "2022-01-21T00:13:51.082Z"
   },
   {
    "duration": 59,
    "start_time": "2022-01-21T00:13:51.235Z"
   },
   {
    "duration": 3,
    "start_time": "2022-01-21T00:13:51.296Z"
   },
   {
    "duration": 28812,
    "start_time": "2022-01-21T00:13:51.301Z"
   },
   {
    "duration": 3,
    "start_time": "2022-01-21T00:14:20.115Z"
   },
   {
    "duration": 67,
    "start_time": "2022-01-21T00:14:20.119Z"
   },
   {
    "duration": 9,
    "start_time": "2022-01-21T00:14:20.187Z"
   },
   {
    "duration": 40,
    "start_time": "2022-01-21T00:14:20.198Z"
   },
   {
    "duration": 25,
    "start_time": "2022-01-21T00:14:20.240Z"
   },
   {
    "duration": 40,
    "start_time": "2022-01-21T00:14:20.267Z"
   },
   {
    "duration": 45,
    "start_time": "2022-01-21T00:14:20.308Z"
   },
   {
    "duration": 195,
    "start_time": "2022-01-21T00:14:20.355Z"
   },
   {
    "duration": 1178,
    "start_time": "2022-01-21T00:20:19.732Z"
   },
   {
    "duration": 20,
    "start_time": "2022-01-21T00:20:20.912Z"
   },
   {
    "duration": 29,
    "start_time": "2022-01-21T00:20:20.934Z"
   },
   {
    "duration": 16,
    "start_time": "2022-01-21T00:20:20.965Z"
   },
   {
    "duration": 155,
    "start_time": "2022-01-21T00:20:20.983Z"
   },
   {
    "duration": 4,
    "start_time": "2022-01-21T00:20:21.140Z"
   },
   {
    "duration": 29,
    "start_time": "2022-01-21T00:20:21.145Z"
   },
   {
    "duration": 27,
    "start_time": "2022-01-21T00:20:21.176Z"
   },
   {
    "duration": 29,
    "start_time": "2022-01-21T00:20:21.205Z"
   },
   {
    "duration": 148,
    "start_time": "2022-01-21T00:20:21.236Z"
   },
   {
    "duration": 55,
    "start_time": "2022-01-21T00:20:21.386Z"
   },
   {
    "duration": 19,
    "start_time": "2022-01-21T00:20:21.442Z"
   },
   {
    "duration": 27619,
    "start_time": "2022-01-21T00:20:21.462Z"
   },
   {
    "duration": 4,
    "start_time": "2022-01-21T00:20:49.082Z"
   },
   {
    "duration": 42,
    "start_time": "2022-01-21T00:20:49.087Z"
   },
   {
    "duration": 3,
    "start_time": "2022-01-21T00:20:49.131Z"
   },
   {
    "duration": 20,
    "start_time": "2022-01-21T00:20:49.135Z"
   },
   {
    "duration": 15,
    "start_time": "2022-01-21T00:20:49.157Z"
   },
   {
    "duration": 30,
    "start_time": "2022-01-21T00:20:49.174Z"
   },
   {
    "duration": 14,
    "start_time": "2022-01-21T00:20:49.205Z"
   },
   {
    "duration": 195,
    "start_time": "2022-01-21T00:20:49.221Z"
   },
   {
    "duration": 1020,
    "start_time": "2022-01-21T04:22:40.369Z"
   },
   {
    "duration": 19,
    "start_time": "2022-01-21T04:22:41.391Z"
   },
   {
    "duration": 11,
    "start_time": "2022-01-21T04:22:41.475Z"
   },
   {
    "duration": 6,
    "start_time": "2022-01-21T04:23:55.987Z"
   },
   {
    "duration": 124,
    "start_time": "2022-01-21T04:23:56.915Z"
   },
   {
    "duration": 3,
    "start_time": "2022-01-21T04:25:13.575Z"
   },
   {
    "duration": 6,
    "start_time": "2022-01-21T04:25:14.739Z"
   },
   {
    "duration": 5,
    "start_time": "2022-01-21T04:25:15.896Z"
   },
   {
    "duration": 4,
    "start_time": "2022-01-21T04:25:18.155Z"
   },
   {
    "duration": 126,
    "start_time": "2022-01-21T04:26:01.355Z"
   },
   {
    "duration": 67,
    "start_time": "2022-01-21T04:28:50.607Z"
   },
   {
    "duration": 3,
    "start_time": "2022-01-21T04:28:51.838Z"
   },
   {
    "duration": 63299,
    "start_time": "2022-01-21T04:28:52.840Z"
   },
   {
    "duration": 5,
    "start_time": "2022-01-21T04:29:56.141Z"
   },
   {
    "duration": 89,
    "start_time": "2022-01-21T04:29:56.148Z"
   },
   {
    "duration": 2,
    "start_time": "2022-01-21T04:29:56.239Z"
   },
   {
    "duration": 9,
    "start_time": "2022-01-21T04:29:56.243Z"
   },
   {
    "duration": 3,
    "start_time": "2022-01-21T04:29:56.253Z"
   },
   {
    "duration": 8,
    "start_time": "2022-01-21T04:31:56.008Z"
   },
   {
    "duration": 3,
    "start_time": "2022-01-21T04:31:56.693Z"
   },
   {
    "duration": 8,
    "start_time": "2022-01-21T04:32:01.354Z"
   },
   {
    "duration": 2,
    "start_time": "2022-01-21T04:32:01.801Z"
   },
   {
    "duration": 176,
    "start_time": "2022-01-21T04:32:02.142Z"
   },
   {
    "duration": 268,
    "start_time": "2022-01-21T15:32:03.826Z"
   },
   {
    "duration": 1103,
    "start_time": "2022-01-21T15:32:10.075Z"
   },
   {
    "duration": 21,
    "start_time": "2022-01-21T15:32:11.181Z"
   },
   {
    "duration": 13,
    "start_time": "2022-01-21T15:32:11.205Z"
   },
   {
    "duration": 8,
    "start_time": "2022-01-21T15:32:11.221Z"
   },
   {
    "duration": 167,
    "start_time": "2022-01-21T15:32:11.230Z"
   },
   {
    "duration": 3,
    "start_time": "2022-01-21T15:32:11.399Z"
   },
   {
    "duration": 2213,
    "start_time": "2022-01-21T15:32:11.404Z"
   },
   {
    "duration": 6,
    "start_time": "2022-01-21T15:32:13.620Z"
   },
   {
    "duration": 5,
    "start_time": "2022-01-21T15:32:13.629Z"
   },
   {
    "duration": 10,
    "start_time": "2022-01-21T15:32:13.636Z"
   },
   {
    "duration": 177,
    "start_time": "2022-01-21T15:32:13.648Z"
   },
   {
    "duration": 52,
    "start_time": "2022-01-21T15:32:13.826Z"
   },
   {
    "duration": 4,
    "start_time": "2022-01-21T15:32:13.879Z"
   },
   {
    "duration": 28286,
    "start_time": "2022-01-21T15:32:13.884Z"
   },
   {
    "duration": 3,
    "start_time": "2022-01-21T15:32:42.172Z"
   },
   {
    "duration": 41,
    "start_time": "2022-01-21T15:32:42.177Z"
   },
   {
    "duration": 3,
    "start_time": "2022-01-21T15:32:42.220Z"
   },
   {
    "duration": 9,
    "start_time": "2022-01-21T15:32:42.225Z"
   },
   {
    "duration": 3,
    "start_time": "2022-01-21T15:32:42.236Z"
   },
   {
    "duration": 9,
    "start_time": "2022-01-21T15:32:42.240Z"
   },
   {
    "duration": 2,
    "start_time": "2022-01-21T15:32:42.251Z"
   },
   {
    "duration": 248,
    "start_time": "2022-01-21T15:32:42.255Z"
   },
   {
    "duration": 2390,
    "start_time": "2022-01-21T15:32:48.795Z"
   },
   {
    "duration": 1903,
    "start_time": "2022-01-21T15:33:33.357Z"
   },
   {
    "duration": 2087,
    "start_time": "2022-01-21T15:33:48.517Z"
   },
   {
    "duration": 1894,
    "start_time": "2022-01-21T15:34:10.181Z"
   },
   {
    "duration": 2258,
    "start_time": "2022-01-21T15:34:24.904Z"
   },
   {
    "duration": 1940,
    "start_time": "2022-01-21T15:34:47.535Z"
   },
   {
    "duration": 1975,
    "start_time": "2022-01-21T15:35:04.399Z"
   },
   {
    "duration": 1905,
    "start_time": "2022-01-21T15:35:18.336Z"
   },
   {
    "duration": 2056,
    "start_time": "2022-01-21T15:35:27.049Z"
   },
   {
    "duration": 1872,
    "start_time": "2022-01-21T15:35:35.160Z"
   },
   {
    "duration": 10,
    "start_time": "2022-01-21T15:37:27.830Z"
   },
   {
    "duration": 4,
    "start_time": "2022-01-21T15:40:14.752Z"
   },
   {
    "duration": 328,
    "start_time": "2022-01-21T15:42:06.584Z"
   },
   {
    "duration": 4,
    "start_time": "2022-01-21T15:42:14.261Z"
   },
   {
    "duration": 19,
    "start_time": "2022-01-21T15:42:14.267Z"
   },
   {
    "duration": 8,
    "start_time": "2022-01-21T15:42:14.288Z"
   },
   {
    "duration": 7,
    "start_time": "2022-01-21T15:42:14.298Z"
   },
   {
    "duration": 246,
    "start_time": "2022-01-21T15:42:14.307Z"
   },
   {
    "duration": 3,
    "start_time": "2022-01-21T15:42:14.555Z"
   },
   {
    "duration": 1864,
    "start_time": "2022-01-21T15:42:14.560Z"
   },
   {
    "duration": 13,
    "start_time": "2022-01-21T15:42:16.426Z"
   },
   {
    "duration": 4,
    "start_time": "2022-01-21T15:42:16.440Z"
   },
   {
    "duration": 7,
    "start_time": "2022-01-21T15:42:24.358Z"
   },
   {
    "duration": 7,
    "start_time": "2022-01-21T15:42:27.439Z"
   },
   {
    "duration": 5,
    "start_time": "2022-01-21T15:42:30.872Z"
   },
   {
    "duration": 136,
    "start_time": "2022-01-21T15:42:37.882Z"
   },
   {
    "duration": 49,
    "start_time": "2022-01-21T15:42:45.305Z"
   },
   {
    "duration": 4,
    "start_time": "2022-01-21T15:43:10.975Z"
   },
   {
    "duration": 1081,
    "start_time": "2022-01-21T15:43:55.451Z"
   },
   {
    "duration": 17,
    "start_time": "2022-01-21T15:43:56.534Z"
   },
   {
    "duration": 12,
    "start_time": "2022-01-21T15:43:56.553Z"
   },
   {
    "duration": 6,
    "start_time": "2022-01-21T15:43:56.566Z"
   },
   {
    "duration": 154,
    "start_time": "2022-01-21T15:43:56.574Z"
   },
   {
    "duration": 3,
    "start_time": "2022-01-21T15:43:56.730Z"
   },
   {
    "duration": 1894,
    "start_time": "2022-01-21T15:43:56.735Z"
   },
   {
    "duration": 9,
    "start_time": "2022-01-21T15:43:58.631Z"
   },
   {
    "duration": 4,
    "start_time": "2022-01-21T15:43:58.642Z"
   },
   {
    "duration": 9,
    "start_time": "2022-01-21T15:43:58.648Z"
   },
   {
    "duration": 5,
    "start_time": "2022-01-21T15:43:58.659Z"
   },
   {
    "duration": 4,
    "start_time": "2022-01-21T15:43:58.665Z"
   },
   {
    "duration": 132,
    "start_time": "2022-01-21T15:43:58.670Z"
   },
   {
    "duration": 44,
    "start_time": "2022-01-21T15:43:58.804Z"
   },
   {
    "duration": 3,
    "start_time": "2022-01-21T15:43:58.849Z"
   },
   {
    "duration": 22520,
    "start_time": "2022-01-21T15:44:05.901Z"
   },
   {
    "duration": 4,
    "start_time": "2022-01-21T15:44:32.364Z"
   },
   {
    "duration": 22,
    "start_time": "2022-01-21T15:45:11.541Z"
   },
   {
    "duration": 3,
    "start_time": "2022-01-21T15:45:14.974Z"
   },
   {
    "duration": 11,
    "start_time": "2022-01-21T15:52:21.872Z"
   },
   {
    "duration": 5,
    "start_time": "2022-01-21T15:53:51.894Z"
   },
   {
    "duration": 139,
    "start_time": "2022-01-21T15:57:35.585Z"
   },
   {
    "duration": 136,
    "start_time": "2022-01-21T15:58:35.882Z"
   },
   {
    "duration": 128,
    "start_time": "2022-01-21T15:58:43.226Z"
   },
   {
    "duration": 19,
    "start_time": "2022-01-21T15:59:56.196Z"
   },
   {
    "duration": 13,
    "start_time": "2022-01-21T16:00:13.490Z"
   },
   {
    "duration": 13,
    "start_time": "2022-01-21T16:00:48.908Z"
   },
   {
    "duration": 14,
    "start_time": "2022-01-21T16:02:11.625Z"
   },
   {
    "duration": 15,
    "start_time": "2022-01-21T16:02:14.410Z"
   },
   {
    "duration": 3,
    "start_time": "2022-01-21T16:02:16.099Z"
   },
   {
    "duration": 48,
    "start_time": "2022-01-21T16:03:05.516Z"
   },
   {
    "duration": 3,
    "start_time": "2022-01-21T16:03:07.036Z"
   },
   {
    "duration": 22090,
    "start_time": "2022-01-21T16:03:27.290Z"
   },
   {
    "duration": 4,
    "start_time": "2022-01-21T16:03:52.929Z"
   },
   {
    "duration": 15,
    "start_time": "2022-01-21T16:04:03.865Z"
   },
   {
    "duration": 3,
    "start_time": "2022-01-21T16:04:05.611Z"
   },
   {
    "duration": 12,
    "start_time": "2022-01-21T16:05:29.428Z"
   },
   {
    "duration": 24,
    "start_time": "2022-01-21T16:08:50.600Z"
   },
   {
    "duration": 15,
    "start_time": "2022-01-21T16:11:49.742Z"
   },
   {
    "duration": 3,
    "start_time": "2022-01-21T16:14:42.126Z"
   },
   {
    "duration": 4,
    "start_time": "2022-01-21T16:15:16.747Z"
   },
   {
    "duration": 4,
    "start_time": "2022-01-21T16:17:21.156Z"
   },
   {
    "duration": 4,
    "start_time": "2022-01-21T16:17:26.180Z"
   },
   {
    "duration": 8,
    "start_time": "2022-01-21T16:19:20.832Z"
   },
   {
    "duration": 3,
    "start_time": "2022-01-21T16:19:38.815Z"
   },
   {
    "duration": 193,
    "start_time": "2022-01-21T16:19:41.022Z"
   },
   {
    "duration": 1105,
    "start_time": "2022-01-21T16:20:51.934Z"
   },
   {
    "duration": 18,
    "start_time": "2022-01-21T16:20:53.041Z"
   },
   {
    "duration": 11,
    "start_time": "2022-01-21T16:20:53.061Z"
   },
   {
    "duration": 7,
    "start_time": "2022-01-21T16:20:53.074Z"
   },
   {
    "duration": 156,
    "start_time": "2022-01-21T16:20:53.082Z"
   },
   {
    "duration": 4,
    "start_time": "2022-01-21T16:20:53.239Z"
   },
   {
    "duration": 2061,
    "start_time": "2022-01-21T16:20:53.244Z"
   },
   {
    "duration": 13,
    "start_time": "2022-01-21T16:20:55.308Z"
   },
   {
    "duration": 4,
    "start_time": "2022-01-21T16:20:55.323Z"
   },
   {
    "duration": 8,
    "start_time": "2022-01-21T16:20:55.329Z"
   },
   {
    "duration": 6,
    "start_time": "2022-01-21T16:20:55.339Z"
   },
   {
    "duration": 4,
    "start_time": "2022-01-21T16:20:55.346Z"
   },
   {
    "duration": 191,
    "start_time": "2022-01-21T16:20:55.352Z"
   },
   {
    "duration": 54,
    "start_time": "2022-01-21T16:20:55.545Z"
   },
   {
    "duration": 12,
    "start_time": "2022-01-21T16:20:55.601Z"
   },
   {
    "duration": 22572,
    "start_time": "2022-01-21T16:20:55.616Z"
   },
   {
    "duration": 4,
    "start_time": "2022-01-21T16:21:18.189Z"
   },
   {
    "duration": 23,
    "start_time": "2022-01-21T16:21:18.195Z"
   },
   {
    "duration": 3,
    "start_time": "2022-01-21T16:21:18.220Z"
   },
   {
    "duration": 15,
    "start_time": "2022-01-21T16:21:18.224Z"
   },
   {
    "duration": 23,
    "start_time": "2022-01-21T16:21:18.240Z"
   },
   {
    "duration": 15,
    "start_time": "2022-01-21T16:21:18.265Z"
   },
   {
    "duration": 31,
    "start_time": "2022-01-21T16:21:18.283Z"
   },
   {
    "duration": 9,
    "start_time": "2022-01-21T16:21:18.316Z"
   },
   {
    "duration": 3,
    "start_time": "2022-01-21T16:21:18.326Z"
   },
   {
    "duration": 218,
    "start_time": "2022-01-21T16:21:18.330Z"
   },
   {
    "duration": 1023,
    "start_time": "2022-01-21T16:38:56.314Z"
   },
   {
    "duration": 17,
    "start_time": "2022-01-21T16:38:57.339Z"
   },
   {
    "duration": 10,
    "start_time": "2022-01-21T16:38:57.358Z"
   },
   {
    "duration": 6,
    "start_time": "2022-01-21T16:38:57.370Z"
   },
   {
    "duration": 144,
    "start_time": "2022-01-21T16:38:57.378Z"
   },
   {
    "duration": 3,
    "start_time": "2022-01-21T16:38:57.523Z"
   },
   {
    "duration": 1890,
    "start_time": "2022-01-21T16:38:57.527Z"
   },
   {
    "duration": 8,
    "start_time": "2022-01-21T16:38:59.420Z"
   },
   {
    "duration": 5,
    "start_time": "2022-01-21T16:38:59.429Z"
   },
   {
    "duration": 7,
    "start_time": "2022-01-21T16:38:59.436Z"
   },
   {
    "duration": 14,
    "start_time": "2022-01-21T16:38:59.445Z"
   },
   {
    "duration": 6,
    "start_time": "2022-01-21T16:38:59.461Z"
   },
   {
    "duration": 139,
    "start_time": "2022-01-21T16:38:59.468Z"
   },
   {
    "duration": 45,
    "start_time": "2022-01-21T16:38:59.611Z"
   },
   {
    "duration": 2,
    "start_time": "2022-01-21T16:38:59.658Z"
   },
   {
    "duration": 22035,
    "start_time": "2022-01-21T16:38:59.662Z"
   },
   {
    "duration": 3,
    "start_time": "2022-01-21T16:39:21.699Z"
   },
   {
    "duration": 23,
    "start_time": "2022-01-21T16:39:21.704Z"
   },
   {
    "duration": 4,
    "start_time": "2022-01-21T16:39:21.728Z"
   },
   {
    "duration": 12,
    "start_time": "2022-01-21T16:39:21.734Z"
   },
   {
    "duration": 24,
    "start_time": "2022-01-21T16:39:21.748Z"
   },
   {
    "duration": 44,
    "start_time": "2022-01-21T16:39:21.773Z"
   },
   {
    "duration": 3,
    "start_time": "2022-01-21T16:39:21.820Z"
   },
   {
    "duration": 8,
    "start_time": "2022-01-21T16:39:21.824Z"
   },
   {
    "duration": 2,
    "start_time": "2022-01-21T16:39:21.834Z"
   },
   {
    "duration": 235,
    "start_time": "2022-01-21T16:39:21.838Z"
   },
   {
    "duration": 338,
    "start_time": "2022-01-21T16:48:11.719Z"
   },
   {
    "duration": 7323,
    "start_time": "2022-01-21T16:48:34.880Z"
   },
   {
    "duration": 1120,
    "start_time": "2022-01-21T16:50:38.813Z"
   },
   {
    "duration": 17,
    "start_time": "2022-01-21T16:50:39.935Z"
   },
   {
    "duration": 12,
    "start_time": "2022-01-21T16:50:39.954Z"
   },
   {
    "duration": 9,
    "start_time": "2022-01-21T16:50:39.967Z"
   },
   {
    "duration": 154,
    "start_time": "2022-01-21T16:50:39.977Z"
   },
   {
    "duration": 3,
    "start_time": "2022-01-21T16:50:40.133Z"
   },
   {
    "duration": 1994,
    "start_time": "2022-01-21T16:50:40.137Z"
   },
   {
    "duration": 8,
    "start_time": "2022-01-21T16:50:42.134Z"
   },
   {
    "duration": 5,
    "start_time": "2022-01-21T16:50:42.144Z"
   },
   {
    "duration": 9,
    "start_time": "2022-01-21T16:50:42.150Z"
   },
   {
    "duration": 5,
    "start_time": "2022-01-21T16:50:42.161Z"
   },
   {
    "duration": 4,
    "start_time": "2022-01-21T16:50:42.168Z"
   },
   {
    "duration": 172,
    "start_time": "2022-01-21T16:50:42.173Z"
   },
   {
    "duration": 45,
    "start_time": "2022-01-21T16:50:42.347Z"
   },
   {
    "duration": 26,
    "start_time": "2022-01-21T16:50:42.394Z"
   },
   {
    "duration": 23077,
    "start_time": "2022-01-21T16:50:42.422Z"
   },
   {
    "duration": 15,
    "start_time": "2022-01-21T16:51:05.501Z"
   },
   {
    "duration": 17,
    "start_time": "2022-01-21T16:51:05.517Z"
   },
   {
    "duration": 3,
    "start_time": "2022-01-21T16:51:05.535Z"
   },
   {
    "duration": 13,
    "start_time": "2022-01-21T16:51:05.539Z"
   },
   {
    "duration": 23,
    "start_time": "2022-01-21T16:51:05.553Z"
   },
   {
    "duration": 47,
    "start_time": "2022-01-21T16:51:05.578Z"
   },
   {
    "duration": 3,
    "start_time": "2022-01-21T16:51:05.628Z"
   },
   {
    "duration": 9,
    "start_time": "2022-01-21T16:51:05.633Z"
   },
   {
    "duration": 3,
    "start_time": "2022-01-21T16:51:05.643Z"
   },
   {
    "duration": 225,
    "start_time": "2022-01-21T16:51:05.647Z"
   }
  ],
  "kernelspec": {
   "display_name": "Python 3",
   "language": "python",
   "name": "python3"
  },
  "language_info": {
   "codemirror_mode": {
    "name": "ipython",
    "version": 3
   },
   "file_extension": ".py",
   "mimetype": "text/x-python",
   "name": "python",
   "nbconvert_exporter": "python",
   "pygments_lexer": "ipython3",
   "version": "3.8.8"
  },
  "nbTranslate": {
   "displayLangs": [
    "en",
    "ru"
   ],
   "hotkey": "alt-t",
   "langInMainMenu": true,
   "sourceLang": "ru",
   "targetLang": "en",
   "useGoogleTranslate": true
  },
  "toc": {
   "base_numbering": 1,
   "nav_menu": {},
   "number_sections": true,
   "sideBar": true,
   "skip_h1_title": true,
   "title_cell": "Содержание",
   "title_sidebar": "Contents",
   "toc_cell": true,
   "toc_position": {},
   "toc_section_display": true,
   "toc_window_display": true
  }
 },
 "nbformat": 4,
 "nbformat_minor": 2
}
