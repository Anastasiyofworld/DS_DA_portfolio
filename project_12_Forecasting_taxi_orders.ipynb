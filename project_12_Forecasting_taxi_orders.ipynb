{
 "cells": [
  {
   "cell_type": "markdown",
   "metadata": {},
   "source": [
    "#  Прогнозирование заказов такси"
   ]
  },
  {
   "cell_type": "markdown",
   "metadata": {},
   "source": [
    "Компания «Чётенькое такси» собрала исторические данные о заказах такси в аэропортах. Чтобы привлекать больше водителей в период пиковой нагрузки, нужно спрогнозировать количество заказов такси на следующий час. Постройте модель для такого предсказания.\n",
    "\n",
    "Значение метрики *RMSE* на тестовой выборке должно быть не больше 48.\n",
    "\n",
    "Вам нужно:\n",
    "\n",
    "1. Загрузить данные и выполнить их ресемплирование по одному часу.\n",
    "2. Проанализировать данные.\n",
    "3. Обучить разные модели с различными гиперпараметрами. Сделать тестовую выборку размером 10% от исходных данных.\n",
    "4. Проверить данные на тестовой выборке и сделать выводы.\n",
    "\n",
    "\n",
    "Данные лежат в файле `taxi.csv`. Количество заказов находится в столбце `num_orders` (от англ. *number of orders*, «число заказов»)."
   ]
  },
  {
   "cell_type": "markdown",
   "metadata": {
    "toc": true
   },
   "source": [
    "<h1>Содержание<span class=\"tocSkip\"></span></h1>\n",
    "<div class=\"toc\"><ul class=\"toc-item\"><li><span><a href=\"#Подготовка\" data-toc-modified-id=\"Подготовка-1\"><span class=\"toc-item-num\">1&nbsp;&nbsp;</span>Подготовка</a></span></li><li><span><a href=\"#Анализ\" data-toc-modified-id=\"Анализ-2\"><span class=\"toc-item-num\">2&nbsp;&nbsp;</span>Анализ</a></span></li><li><span><a href=\"#Обучение\" data-toc-modified-id=\"Обучение-3\"><span class=\"toc-item-num\">3&nbsp;&nbsp;</span>Обучение</a></span><ul class=\"toc-item\"><li><span><a href=\"#Создание-признаков\" data-toc-modified-id=\"Создание-признаков-3.1\"><span class=\"toc-item-num\">3.1&nbsp;&nbsp;</span>Создание признаков</a></span></li><li><span><a href=\"#Проверка-на-мультиколлинеарность\" data-toc-modified-id=\"Проверка-на-мультиколлинеарность-3.2\"><span class=\"toc-item-num\">3.2&nbsp;&nbsp;</span>Проверка на мультиколлинеарность</a></span></li><li><span><a href=\"#Кодирование-категориальных-и-масштабирование-численных-признаков\" data-toc-modified-id=\"Кодирование-категориальных-и-масштабирование-численных-признаков-3.3\"><span class=\"toc-item-num\">3.3&nbsp;&nbsp;</span>Кодирование категориальных и масштабирование численных признаков</a></span></li><li><span><a href=\"#Деление-на-выборки\" data-toc-modified-id=\"Деление-на-выборки-3.4\"><span class=\"toc-item-num\">3.4&nbsp;&nbsp;</span>Деление на выборки</a></span></li><li><span><a href=\"#Качество-прогноза\" data-toc-modified-id=\"Качество-прогноза-3.5\"><span class=\"toc-item-num\">3.5&nbsp;&nbsp;</span>Качество прогноза</a></span></li><li><span><a href=\"#Важное-отсупление\" data-toc-modified-id=\"Важное-отсупление-3.6\"><span class=\"toc-item-num\">3.6&nbsp;&nbsp;</span>Важное отсупление</a></span></li><li><span><a href=\"#Модель-линейной-регрессии\" data-toc-modified-id=\"Модель-линейной-регрессии-3.7\"><span class=\"toc-item-num\">3.7&nbsp;&nbsp;</span>Модель линейной регрессии</a></span><ul class=\"toc-item\"><li><span><a href=\"#Lasso\" data-toc-modified-id=\"Lasso-3.7.1\"><span class=\"toc-item-num\">3.7.1&nbsp;&nbsp;</span>Lasso</a></span></li><li><span><a href=\"#Ridge\" data-toc-modified-id=\"Ridge-3.7.2\"><span class=\"toc-item-num\">3.7.2&nbsp;&nbsp;</span>Ridge</a></span></li></ul></li><li><span><a href=\"#Модель-случайного-леса\" data-toc-modified-id=\"Модель-случайного-леса-3.8\"><span class=\"toc-item-num\">3.8&nbsp;&nbsp;</span>Модель случайного леса</a></span></li><li><span><a href=\"#Модель-градиентного-бустинга-библиотеки-LightGBM\" data-toc-modified-id=\"Модель-градиентного-бустинга-библиотеки-LightGBM-3.9\"><span class=\"toc-item-num\">3.9&nbsp;&nbsp;</span>Модель градиентного бустинга библиотеки LightGBM</a></span></li><li><span><a href=\"#Модель-линейной-регрессии-ElasticNet\" data-toc-modified-id=\"Модель-линейной-регрессии-ElasticNet-3.10\"><span class=\"toc-item-num\">3.10&nbsp;&nbsp;</span>Модель линейной регрессии ElasticNet</a></span></li><li><span><a href=\"#Сопоставление-реальных-значений-заказанных-такси-и-предсказаний-моделей\" data-toc-modified-id=\"Сопоставление-реальных-значений-заказанных-такси-и-предсказаний-моделей-3.11\"><span class=\"toc-item-num\">3.11&nbsp;&nbsp;</span>Сопоставление реальных значений заказанных такси и предсказаний моделей</a></span></li></ul></li><li><span><a href=\"#Тестирование\" data-toc-modified-id=\"Тестирование-4\"><span class=\"toc-item-num\">4&nbsp;&nbsp;</span>Тестирование</a></span></li></ul></div>"
   ]
  },
  {
   "cell_type": "markdown",
   "metadata": {},
   "source": [
    "## Подготовка"
   ]
  },
  {
   "cell_type": "markdown",
   "metadata": {},
   "source": [
    "Импортируем нужные библиотеки. "
   ]
  },
  {
   "cell_type": "code",
   "execution_count": 1,
   "metadata": {
    "scrolled": false
   },
   "outputs": [],
   "source": [
    "!pip install lightgbm -q"
   ]
  },
  {
   "cell_type": "code",
   "execution_count": 2,
   "metadata": {},
   "outputs": [],
   "source": [
    "import pandas as pd\n",
    "import numpy as np\n",
    "\n",
    "import lightgbm as lgb\n",
    "from lightgbm import LGBMRegressor\n",
    "\n",
    "from sklearn.compose import ColumnTransformer\n",
    "from sklearn.compose import make_column_transformer\n",
    "\n",
    "from sklearn.metrics import mean_squared_error, make_scorer\n",
    "from sklearn.model_selection import train_test_split\n",
    "from sklearn.preprocessing import StandardScaler, OneHotEncoder\n",
    "\n",
    "from sklearn.model_selection import cross_val_score, KFold, GridSearchCV, TimeSeriesSplit\n",
    "\n",
    "from sklearn.linear_model import Lasso, Ridge, ElasticNet\n",
    "from sklearn.ensemble import RandomForestRegressor\n",
    "\n",
    "from sklearn.pipeline import Pipeline\n",
    "\n",
    "from statsmodels.tsa.seasonal import seasonal_decompose\n",
    "\n",
    "import statsmodels.tsa.api as smt\n",
    "import statsmodels.api as sm\n",
    "\n",
    "import matplotlib.pyplot as plt\n",
    "import seaborn as sns"
   ]
  },
  {
   "cell_type": "markdown",
   "metadata": {},
   "source": [
    "Создаем путь к файлу с данными."
   ]
  },
  {
   "cell_type": "code",
   "execution_count": 3,
   "metadata": {},
   "outputs": [],
   "source": [
    "path = '/datasets/taxi.csv'"
   ]
  },
  {
   "cell_type": "markdown",
   "metadata": {},
   "source": [
    "Откроем файл с информацией об исторических данных о заказах такси в аэропортах."
   ]
  },
  {
   "cell_type": "code",
   "execution_count": 4,
   "metadata": {},
   "outputs": [],
   "source": [
    "try:\n",
    "    df = pd.read_csv(\n",
    "        path, \n",
    "        index_col=[0], \n",
    "        parse_dates=[0]\n",
    "    )\n",
    "except Exception as err:\n",
    "    try:\n",
    "        df = pd.read_csv(path[10:],\n",
    "                         index_col=[0],\n",
    "                         parse_dates=[0]\n",
    "                        )\n",
    "    except Exception as err:\n",
    "        print('Ошибка чтения файла:', repr(err))"
   ]
  },
  {
   "cell_type": "code",
   "execution_count": 5,
   "metadata": {},
   "outputs": [
    {
     "data": {
      "text/html": [
       "<div>\n",
       "<style scoped>\n",
       "    .dataframe tbody tr th:only-of-type {\n",
       "        vertical-align: middle;\n",
       "    }\n",
       "\n",
       "    .dataframe tbody tr th {\n",
       "        vertical-align: top;\n",
       "    }\n",
       "\n",
       "    .dataframe thead th {\n",
       "        text-align: right;\n",
       "    }\n",
       "</style>\n",
       "<table border=\"1\" class=\"dataframe\">\n",
       "  <thead>\n",
       "    <tr style=\"text-align: right;\">\n",
       "      <th></th>\n",
       "      <th>num_orders</th>\n",
       "    </tr>\n",
       "    <tr>\n",
       "      <th>datetime</th>\n",
       "      <th></th>\n",
       "    </tr>\n",
       "  </thead>\n",
       "  <tbody>\n",
       "    <tr>\n",
       "      <th>2018-03-01 00:00:00</th>\n",
       "      <td>9</td>\n",
       "    </tr>\n",
       "    <tr>\n",
       "      <th>2018-03-01 00:10:00</th>\n",
       "      <td>14</td>\n",
       "    </tr>\n",
       "    <tr>\n",
       "      <th>2018-03-01 00:20:00</th>\n",
       "      <td>28</td>\n",
       "    </tr>\n",
       "    <tr>\n",
       "      <th>2018-03-01 00:30:00</th>\n",
       "      <td>20</td>\n",
       "    </tr>\n",
       "    <tr>\n",
       "      <th>2018-03-01 00:40:00</th>\n",
       "      <td>32</td>\n",
       "    </tr>\n",
       "    <tr>\n",
       "      <th>2018-03-01 00:50:00</th>\n",
       "      <td>21</td>\n",
       "    </tr>\n",
       "    <tr>\n",
       "      <th>2018-03-01 01:00:00</th>\n",
       "      <td>7</td>\n",
       "    </tr>\n",
       "    <tr>\n",
       "      <th>2018-03-01 01:10:00</th>\n",
       "      <td>5</td>\n",
       "    </tr>\n",
       "    <tr>\n",
       "      <th>2018-03-01 01:20:00</th>\n",
       "      <td>17</td>\n",
       "    </tr>\n",
       "    <tr>\n",
       "      <th>2018-03-01 01:30:00</th>\n",
       "      <td>12</td>\n",
       "    </tr>\n",
       "  </tbody>\n",
       "</table>\n",
       "</div>"
      ],
      "text/plain": [
       "                     num_orders\n",
       "datetime                       \n",
       "2018-03-01 00:00:00           9\n",
       "2018-03-01 00:10:00          14\n",
       "2018-03-01 00:20:00          28\n",
       "2018-03-01 00:30:00          20\n",
       "2018-03-01 00:40:00          32\n",
       "2018-03-01 00:50:00          21\n",
       "2018-03-01 01:00:00           7\n",
       "2018-03-01 01:10:00           5\n",
       "2018-03-01 01:20:00          17\n",
       "2018-03-01 01:30:00          12"
      ]
     },
     "execution_count": 5,
     "metadata": {},
     "output_type": "execute_result"
    }
   ],
   "source": [
    "df.head(10)"
   ]
  },
  {
   "cell_type": "code",
   "execution_count": 6,
   "metadata": {
    "scrolled": true
   },
   "outputs": [
    {
     "name": "stdout",
     "output_type": "stream",
     "text": [
      "<class 'pandas.core.frame.DataFrame'>\n",
      "DatetimeIndex: 26496 entries, 2018-03-01 00:00:00 to 2018-08-31 23:50:00\n",
      "Data columns (total 1 columns):\n",
      " #   Column      Non-Null Count  Dtype\n",
      "---  ------      --------------  -----\n",
      " 0   num_orders  26496 non-null  int64\n",
      "dtypes: int64(1)\n",
      "memory usage: 414.0 KB\n"
     ]
    }
   ],
   "source": [
    "df.info()"
   ]
  },
  {
   "cell_type": "markdown",
   "metadata": {},
   "source": [
    "В таблице 26496 строк с количеством заказов такси в аэропорты, а так же информация о дате и времени заказа, которую мы, предварительно ознакомившись с данными, превратили в индекс и распознали, как тип данных `datetime64[ns]`.\n",
    "\n",
    "По первым индексам можно сделать предположение, что **временной интервал**, с которым записывались данные, составлял **10 минут**, однако мы не знаем наверняка, отсортированы ли наши данные.\n",
    "\n",
    "Проверим, в хронологическом ли порядке расположены даты и время."
   ]
  },
  {
   "cell_type": "code",
   "execution_count": 7,
   "metadata": {
    "scrolled": true
   },
   "outputs": [
    {
     "data": {
      "text/plain": [
       "True"
      ]
     },
     "execution_count": 7,
     "metadata": {},
     "output_type": "execute_result"
    }
   ],
   "source": [
    "df.index.is_monotonic"
   ]
  },
  {
   "cell_type": "markdown",
   "metadata": {},
   "source": [
    "Хронологический порядок в данных соблюдён."
   ]
  },
  {
   "cell_type": "code",
   "execution_count": 8,
   "metadata": {},
   "outputs": [
    {
     "name": "stdout",
     "output_type": "stream",
     "text": [
      "Данные в таблице от 2018-03-01 00:00:00 до 2018-08-31 23:50:00\n"
     ]
    }
   ],
   "source": [
    "print(f'Данные в таблице от {df.index.min()} до {df.index.max()}')"
   ]
  },
  {
   "cell_type": "markdown",
   "metadata": {},
   "source": [
    "В таблице представлены данные за 6 месяцев 2018 года: от начала марта до конца августа. И данные представлены с 10-минутным интервалом. Визуализировать такое распределение будет бесполезно. \n",
    "\n",
    "В рамках нашего задания нам нужно предсказать количество такси в час. Произведем ресемплирование по часу с суммированием значений за каждый десятиминутный интервал."
   ]
  },
  {
   "cell_type": "code",
   "execution_count": 9,
   "metadata": {
    "scrolled": true
   },
   "outputs": [],
   "source": [
    "df = df.resample('1H').sum()"
   ]
  },
  {
   "cell_type": "code",
   "execution_count": 10,
   "metadata": {},
   "outputs": [
    {
     "data": {
      "text/html": [
       "<div>\n",
       "<style scoped>\n",
       "    .dataframe tbody tr th:only-of-type {\n",
       "        vertical-align: middle;\n",
       "    }\n",
       "\n",
       "    .dataframe tbody tr th {\n",
       "        vertical-align: top;\n",
       "    }\n",
       "\n",
       "    .dataframe thead th {\n",
       "        text-align: right;\n",
       "    }\n",
       "</style>\n",
       "<table border=\"1\" class=\"dataframe\">\n",
       "  <thead>\n",
       "    <tr style=\"text-align: right;\">\n",
       "      <th></th>\n",
       "      <th>num_orders</th>\n",
       "    </tr>\n",
       "    <tr>\n",
       "      <th>datetime</th>\n",
       "      <th></th>\n",
       "    </tr>\n",
       "  </thead>\n",
       "  <tbody>\n",
       "    <tr>\n",
       "      <th>2018-03-01 00:00:00</th>\n",
       "      <td>124</td>\n",
       "    </tr>\n",
       "    <tr>\n",
       "      <th>2018-03-01 01:00:00</th>\n",
       "      <td>85</td>\n",
       "    </tr>\n",
       "    <tr>\n",
       "      <th>2018-03-01 02:00:00</th>\n",
       "      <td>71</td>\n",
       "    </tr>\n",
       "    <tr>\n",
       "      <th>2018-03-01 03:00:00</th>\n",
       "      <td>66</td>\n",
       "    </tr>\n",
       "    <tr>\n",
       "      <th>2018-03-01 04:00:00</th>\n",
       "      <td>43</td>\n",
       "    </tr>\n",
       "  </tbody>\n",
       "</table>\n",
       "</div>"
      ],
      "text/plain": [
       "                     num_orders\n",
       "datetime                       \n",
       "2018-03-01 00:00:00         124\n",
       "2018-03-01 01:00:00          85\n",
       "2018-03-01 02:00:00          71\n",
       "2018-03-01 03:00:00          66\n",
       "2018-03-01 04:00:00          43"
      ]
     },
     "execution_count": 10,
     "metadata": {},
     "output_type": "execute_result"
    }
   ],
   "source": [
    "df.head()"
   ]
  },
  {
   "cell_type": "markdown",
   "metadata": {},
   "source": [
    "## Анализ"
   ]
  },
  {
   "cell_type": "markdown",
   "metadata": {},
   "source": [
    "Посмотрим на распределение количества заказанных в аэропорт такси за разные периоды времени:\n",
    "- за 1 час (только за последний имеющийся месяц)\n",
    "- за 1 день \n",
    "- за 1 неделю\n",
    "- за 1 месяц."
   ]
  },
  {
   "cell_type": "code",
   "execution_count": 11,
   "metadata": {},
   "outputs": [],
   "source": [
    "fs = (14, 3)"
   ]
  },
  {
   "cell_type": "code",
   "execution_count": 12,
   "metadata": {},
   "outputs": [
    {
     "data": {
      "image/png": "[encoded data removed]",
      "text/plain": [
       "<Figure size 1008x216 with 1 Axes>"
      ]
     },
     "metadata": {
      "needs_background": "light"
     },
     "output_type": "display_data"
    },
    {
     "data": {
      "image/png": "[encoded data removed]",
      "text/plain": [
       "<Figure size 1008x216 with 1 Axes>"
      ]
     },
     "metadata": {
      "needs_background": "light"
     },
     "output_type": "display_data"
    },
    {
     "data": {
      "image/png": "[encoded data removed]",
      "text/plain": [
       "<Figure size 1008x216 with 1 Axes>"
      ]
     },
     "metadata": {
      "needs_background": "light"
     },
     "output_type": "display_data"
    },
    {
     "data": {
      "image/png": "[encoded data removed]",
      "text/plain": [
       "<Figure size 1008x216 with 1 Axes>"
      ]
     },
     "metadata": {
      "needs_background": "light"
     },
     "output_type": "display_data"
    }
   ],
   "source": [
    "df['2018-08-01':'2018-08-31'].plot(figsize=fs)\n",
    "plt.xlabel('Дата заказа')\n",
    "plt.ylabel('Количество такси')\n",
    "plt.title('Распределение заказов такси в аэропорты за \\n 1 час')\n",
    "plt.show()\n",
    "\n",
    "df['num_orders'].rolling(24).mean().plot(figsize=fs)\n",
    "# df['num_orders'].resample('1D').sum().plot(figsize=fs)\n",
    "plt.xlabel('Дата заказа')\n",
    "plt.legend()\n",
    "plt.ylabel('Количество такси')\n",
    "plt.title('1 день')\n",
    "plt.show()\n",
    "\n",
    "df['num_orders'].rolling(24 * 7).mean().plot(figsize=fs)\n",
    "# df['num_orders'].resample('1W').sum().plot(figsize=fs)\n",
    "plt.xlabel('Дата заказа')\n",
    "plt.ylabel('Количество такси')\n",
    "plt.title('1 неделю')\n",
    "plt.show()\n",
    "\n",
    "# df['num_orders'].resample('1M').sum().plot(figsize=fs)\n",
    "df['num_orders'].rolling(24 * 7 * 4).mean().plot(figsize=fs)\n",
    "plt.xlabel('Дата заказа')\n",
    "plt.ylabel('Количество такси')\n",
    "plt.title('1 месяц')\n",
    "plt.show()"
   ]
  },
  {
   "cell_type": "markdown",
   "metadata": {},
   "source": [
    "Видим, что с каждым месяцем суммарное количество заказов в аэропорты растет. Есть увеличение количества заказанных такси к концу месяца."
   ]
  },
  {
   "cell_type": "markdown",
   "metadata": {},
   "source": [
    "Разложим временной ряд на три составляющие: тренд, сезонность и остаток при помощи модуля `tsa.seasonal` библиотеки `statsmodels`. Используем функцию `seasonal_decompose()`."
   ]
  },
  {
   "cell_type": "code",
   "execution_count": 13,
   "metadata": {},
   "outputs": [],
   "source": [
    "decomposed = seasonal_decompose(df)"
   ]
  },
  {
   "cell_type": "markdown",
   "metadata": {},
   "source": [
    "Посмотрим на тренд, сезонность и отстаток."
   ]
  },
  {
   "cell_type": "code",
   "execution_count": 14,
   "metadata": {},
   "outputs": [
    {
     "data": {
      "image/png": "[encoded data removed]",
      "text/plain": [
       "<Figure size 1008x216 with 1 Axes>"
      ]
     },
     "metadata": {
      "needs_background": "light"
     },
     "output_type": "display_data"
    },
    {
     "data": {
      "image/png": "[encoded data removed]",
      "text/plain": [
       "<Figure size 1008x216 with 1 Axes>"
      ]
     },
     "metadata": {
      "needs_background": "light"
     },
     "output_type": "display_data"
    },
    {
     "data": {
      "image/png": "[encoded data removed]",
      "text/plain": [
       "<Figure size 1008x216 with 1 Axes>"
      ]
     },
     "metadata": {
      "needs_background": "light"
     },
     "output_type": "display_data"
    }
   ],
   "source": [
    "decomposed.seasonal['2018-08-25':'2018-08-31'].plot(figsize=fs)\n",
    "plt.xlabel('Дата заказа')\n",
    "plt.ylabel('Количество такси')\n",
    "plt.title('Сезонность за последнюю неделю данных')\n",
    "plt.show()\n",
    "\n",
    "decomposed.trend.plot(figsize=fs)\n",
    "plt.xlabel('Дата заказа')\n",
    "plt.ylabel('Количество такси')\n",
    "plt.title('Тренд данных')\n",
    "plt.show()\n",
    "\n",
    "decomposed.resid.plot(figsize=fs)\n",
    "plt.xlabel('Дата заказа')\n",
    "plt.ylabel('Количество такси')\n",
    "plt.title('Остаток декомпозиции')\n",
    "plt.show()"
   ]
  },
  {
   "cell_type": "markdown",
   "metadata": {},
   "source": [
    "**Отстаток декомпозиции** невозможно интерпретировать, **тренд** данных показывает **склонность к росту количества заказов с каждым месяцем**, удивительным образом оказавшись одинаковым с графиком скользящей средней с интервалом в сутки. \n",
    "\n",
    "**Сезонность** показала, что количество заказов за сутки меняется с особой периодичностью: **существуют утренние, дневные и особенно вечерние часы, в которые количество заказов имеет пиковое значение. Ночью в аэропорты ездят реже всего**. "
   ]
  },
  {
   "cell_type": "code",
   "execution_count": 15,
   "metadata": {
    "scrolled": false
   },
   "outputs": [
    {
     "data": {
      "text/html": [
       "<div>\n",
       "<style scoped>\n",
       "    .dataframe tbody tr th:only-of-type {\n",
       "        vertical-align: middle;\n",
       "    }\n",
       "\n",
       "    .dataframe tbody tr th {\n",
       "        vertical-align: top;\n",
       "    }\n",
       "\n",
       "    .dataframe thead th {\n",
       "        text-align: right;\n",
       "    }\n",
       "</style>\n",
       "<table border=\"1\" class=\"dataframe\">\n",
       "  <thead>\n",
       "    <tr style=\"text-align: right;\">\n",
       "      <th></th>\n",
       "      <th>num_orders</th>\n",
       "    </tr>\n",
       "    <tr>\n",
       "      <th>datetime</th>\n",
       "      <th></th>\n",
       "    </tr>\n",
       "  </thead>\n",
       "  <tbody>\n",
       "    <tr>\n",
       "      <th>2018-03-01 00:00:00</th>\n",
       "      <td>124</td>\n",
       "    </tr>\n",
       "    <tr>\n",
       "      <th>2018-03-01 01:00:00</th>\n",
       "      <td>85</td>\n",
       "    </tr>\n",
       "    <tr>\n",
       "      <th>2018-03-01 02:00:00</th>\n",
       "      <td>71</td>\n",
       "    </tr>\n",
       "    <tr>\n",
       "      <th>2018-03-01 03:00:00</th>\n",
       "      <td>66</td>\n",
       "    </tr>\n",
       "    <tr>\n",
       "      <th>2018-03-01 04:00:00</th>\n",
       "      <td>43</td>\n",
       "    </tr>\n",
       "  </tbody>\n",
       "</table>\n",
       "</div>"
      ],
      "text/plain": [
       "                     num_orders\n",
       "datetime                       \n",
       "2018-03-01 00:00:00         124\n",
       "2018-03-01 01:00:00          85\n",
       "2018-03-01 02:00:00          71\n",
       "2018-03-01 03:00:00          66\n",
       "2018-03-01 04:00:00          43"
      ]
     },
     "execution_count": 15,
     "metadata": {},
     "output_type": "execute_result"
    }
   ],
   "source": [
    "df.head()"
   ]
  },
  {
   "cell_type": "markdown",
   "metadata": {},
   "source": [
    "Далее, основываясь на [статье](https://www.kaggle.com/kashnitsky/topic-9-part-1-time-series-analysis-in-python?scriptVersionId=50985180&cellId=80), проверим стационарность ряда, используя **тест Дики — Фуллера**. \n",
    "\n",
    "- Это методика, которая используется в прикладной статистике и эконометрике для анализа временных рядов для проверки на стационарность (наличие единичного корня). \n",
    "\n",
    "- Если из нестационарного ряда первыми разностями удаётся получить стационарный, то он называется интегрированным первого порядка. \n",
    "\n",
    "- [Основная идея](https://habr.com/ru/post/540868/) теста заключается в подтверждении или отклонении двух гипотез:\n",
    "\n",
    "    - **Нулевая гипотеза** (H0): предполагает, что временной ряд имеет единичный корень, то есть он нестационарный.\n",
    "\n",
    "    - **Альтернативная гипотеза** (H1): предполагает, что временной ряд не имеет единичного корня, то есть он является стационарным. Если эта гипотеза верна, то у нас есть список покупок подарков на определенный временной период, в котором количество подарков для близких коллег и знакомых будет неизменно.\n",
    "\n",
    "- Для подтверждения или опровержения этих гипотез используются `p-values` значения.\n",
    "\n",
    "    - p -values — это наименьшее значение уровня значимости (то есть вероятности отказа от справедливой гипотезы).\n",
    "\n",
    "    - В случае если p –values больше значения 5%, то мы отвергаем нулевую гипотезу, и, следовательно, ряд является стационарным, имеет определенную периодичность, которую возможно выявить."
   ]
  },
  {
   "cell_type": "code",
   "execution_count": 16,
   "metadata": {
    "scrolled": false
   },
   "outputs": [
    {
     "name": "stderr",
     "output_type": "stream",
     "text": [
      "C:\\Users\\А\\AppData\\Roaming\\Python\\Python38\\site-packages\\statsmodels\\graphics\\tsaplots.py:348: FutureWarning: The default method 'yw' can produce PACF values outside of the [-1,1] interval. After 0.13, the default will change tounadjusted Yule-Walker ('ywm'). You can use this method now by setting method='ywm'.\n",
      "  warnings.warn(\n"
     ]
    },
    {
     "data": {
      "image/png": "[encoded data removed]",
      "text/plain": [
       "<Figure size 864x504 with 3 Axes>"
      ]
     },
     "metadata": {
      "needs_background": "light"
     },
     "output_type": "display_data"
    }
   ],
   "source": [
    "# from https://www.kaggle.com/kashnitsky/topic-9-part-1-time-series-analysis-in-python?scriptVersionId=50985180&cellId=80\n",
    "def tsplot(y, lags=None, figsize=(12, 7)):\n",
    "    \"\"\"\n",
    "        Plot time series, its ACF and PACF, calculate Dickey–Fuller test\n",
    "        \n",
    "        y - timeseries\n",
    "        lags - how many lags to include in ACF, PACF calculation\n",
    "    \"\"\"\n",
    "    if not isinstance(y, pd.Series):\n",
    "        y = pd.Series(y)\n",
    "           \n",
    "    fig = plt.figure(figsize=figsize)\n",
    "    layout = (2, 2)\n",
    "    ts_ax = plt.subplot2grid(layout, (0, 0), colspan=2)\n",
    "    acf_ax = plt.subplot2grid(layout, (1, 0))\n",
    "    pacf_ax = plt.subplot2grid(layout, (1, 1))\n",
    "\n",
    "    y.plot(ax=ts_ax)\n",
    "    p_value = sm.tsa.stattools.adfuller(y)[1]\n",
    "    ts_ax.set_title('Time Series Analysis Plots\\n Dickey-Fuller: p={0:.5f}'.format(p_value))\n",
    "    smt.graphics.plot_acf(y, lags=lags, ax=acf_ax)\n",
    "    smt.graphics.plot_pacf(y, lags=lags, ax=pacf_ax)\n",
    "    plt.tight_layout()\n",
    "    \n",
    "tsplot(df.num_orders)"
   ]
  },
  {
   "cell_type": "markdown",
   "metadata": {},
   "source": [
    "Автокорреляция показывает, что ряд не такой стационарный, как хотелось бы, однако тест Дики-Фуллера позволяет принять альтернативную гипотезу, что ряд стационарен."
   ]
  },
  {
   "cell_type": "markdown",
   "metadata": {},
   "source": [
    "## Обучение"
   ]
  },
  {
   "cell_type": "code",
   "execution_count": 17,
   "metadata": {},
   "outputs": [],
   "source": [
    "# создадим копию таблицы для добавления признаков\n",
    "df_with_features = df.copy()"
   ]
  },
  {
   "cell_type": "markdown",
   "metadata": {},
   "source": [
    "### Создание признаков"
   ]
  },
  {
   "cell_type": "markdown",
   "metadata": {},
   "source": [
    "Для обучения моделей нам понадобится вытащить из временного ряда признаки: календарные признаки, \"отстающие значения\", скользящее среднее. Напишем функцию для этого."
   ]
  },
  {
   "cell_type": "code",
   "execution_count": 18,
   "metadata": {},
   "outputs": [],
   "source": [
    "def make_features(data, max_lag, rolling_mean_size):\n",
    "#     data['year'] = data.index.year\n",
    "#     data['month'] = data.index.month\n",
    "#     data['day'] = data.index.day\n",
    "    data['dayofweek'] = data.index.dayofweek\n",
    "    data['hour'] = data.index.hour\n",
    "    \n",
    "    data['rolling_mean'] = data['num_orders'].shift().rolling(\n",
    "        rolling_mean_size).mean()\n",
    "\n",
    "    for lag in range(1, max_lag + 1):\n",
    "        data['lag_{}'.format(lag)] = data['num_orders'].shift(lag)"
   ]
  },
  {
   "cell_type": "markdown",
   "metadata": {},
   "source": [
    "В [статье](https://habr.com/ru/post/584896/) пишут, что в практических задачах работает количество \"отстающих значений\" диапазоне от 4 до 12.\n",
    "    \n",
    "Возьмем пару лагов (значения за предыдущий час и за час до него) и скользящее среднее 24 (среднее за сутки)."
   ]
  },
  {
   "cell_type": "code",
   "execution_count": 19,
   "metadata": {},
   "outputs": [],
   "source": [
    "make_features(df_with_features, 2, 24)"
   ]
  },
  {
   "cell_type": "code",
   "execution_count": 20,
   "metadata": {
    "scrolled": true
   },
   "outputs": [
    {
     "data": {
      "text/html": [
       "<div>\n",
       "<style scoped>\n",
       "    .dataframe tbody tr th:only-of-type {\n",
       "        vertical-align: middle;\n",
       "    }\n",
       "\n",
       "    .dataframe tbody tr th {\n",
       "        vertical-align: top;\n",
       "    }\n",
       "\n",
       "    .dataframe thead th {\n",
       "        text-align: right;\n",
       "    }\n",
       "</style>\n",
       "<table border=\"1\" class=\"dataframe\">\n",
       "  <thead>\n",
       "    <tr style=\"text-align: right;\">\n",
       "      <th></th>\n",
       "      <th>num_orders</th>\n",
       "      <th>dayofweek</th>\n",
       "      <th>hour</th>\n",
       "      <th>rolling_mean</th>\n",
       "      <th>lag_1</th>\n",
       "      <th>lag_2</th>\n",
       "    </tr>\n",
       "    <tr>\n",
       "      <th>datetime</th>\n",
       "      <th></th>\n",
       "      <th></th>\n",
       "      <th></th>\n",
       "      <th></th>\n",
       "      <th></th>\n",
       "      <th></th>\n",
       "    </tr>\n",
       "  </thead>\n",
       "  <tbody>\n",
       "    <tr>\n",
       "      <th>2018-03-01 00:00:00</th>\n",
       "      <td>124</td>\n",
       "      <td>3</td>\n",
       "      <td>0</td>\n",
       "      <td>NaN</td>\n",
       "      <td>NaN</td>\n",
       "      <td>NaN</td>\n",
       "    </tr>\n",
       "    <tr>\n",
       "      <th>2018-03-01 01:00:00</th>\n",
       "      <td>85</td>\n",
       "      <td>3</td>\n",
       "      <td>1</td>\n",
       "      <td>NaN</td>\n",
       "      <td>124.0</td>\n",
       "      <td>NaN</td>\n",
       "    </tr>\n",
       "    <tr>\n",
       "      <th>2018-03-01 02:00:00</th>\n",
       "      <td>71</td>\n",
       "      <td>3</td>\n",
       "      <td>2</td>\n",
       "      <td>NaN</td>\n",
       "      <td>85.0</td>\n",
       "      <td>124.0</td>\n",
       "    </tr>\n",
       "    <tr>\n",
       "      <th>2018-03-01 03:00:00</th>\n",
       "      <td>66</td>\n",
       "      <td>3</td>\n",
       "      <td>3</td>\n",
       "      <td>NaN</td>\n",
       "      <td>71.0</td>\n",
       "      <td>85.0</td>\n",
       "    </tr>\n",
       "    <tr>\n",
       "      <th>2018-03-01 04:00:00</th>\n",
       "      <td>43</td>\n",
       "      <td>3</td>\n",
       "      <td>4</td>\n",
       "      <td>NaN</td>\n",
       "      <td>66.0</td>\n",
       "      <td>71.0</td>\n",
       "    </tr>\n",
       "  </tbody>\n",
       "</table>\n",
       "</div>"
      ],
      "text/plain": [
       "                     num_orders  dayofweek  hour  rolling_mean  lag_1  lag_2\n",
       "datetime                                                                    \n",
       "2018-03-01 00:00:00         124          3     0           NaN    NaN    NaN\n",
       "2018-03-01 01:00:00          85          3     1           NaN  124.0    NaN\n",
       "2018-03-01 02:00:00          71          3     2           NaN   85.0  124.0\n",
       "2018-03-01 03:00:00          66          3     3           NaN   71.0   85.0\n",
       "2018-03-01 04:00:00          43          3     4           NaN   66.0   71.0"
      ]
     },
     "execution_count": 20,
     "metadata": {},
     "output_type": "execute_result"
    }
   ],
   "source": [
    "df_with_features.head()"
   ]
  },
  {
   "cell_type": "markdown",
   "metadata": {},
   "source": [
    "Избавимся от строк с пропусками."
   ]
  },
  {
   "cell_type": "code",
   "execution_count": 21,
   "metadata": {},
   "outputs": [],
   "source": [
    "df_with_features = df_with_features.dropna()"
   ]
  },
  {
   "cell_type": "markdown",
   "metadata": {},
   "source": [
    "### Проверка на мультиколлинеарность"
   ]
  },
  {
   "cell_type": "markdown",
   "metadata": {},
   "source": [
    "Проверим данные на мультиколлинеарность."
   ]
  },
  {
   "cell_type": "code",
   "execution_count": 22,
   "metadata": {
    "scrolled": false
   },
   "outputs": [
    {
     "data": {
      "image/png": "[encoded data removed]",
      "text/plain": [
       "<Figure size 432x288 with 2 Axes>"
      ]
     },
     "metadata": {
      "needs_background": "light"
     },
     "output_type": "display_data"
    }
   ],
   "source": [
    "# var_corr = features_train.iloc[:, 0:20].corr()\n",
    "var_corr = df_with_features.drop(['num_orders', 'dayofweek'], axis=1).corr()\n",
    "\n",
    "sns.heatmap(var_corr, \n",
    "            xticklabels=var_corr.columns, \n",
    "            yticklabels=var_corr.columns, \n",
    "            cmap= 'coolwarm',\n",
    "            annot=True\n",
    "           )\n",
    "plt.title('Корреляция признаков из обучающего набора')\n",
    "plt.show()"
   ]
  },
  {
   "cell_type": "markdown",
   "metadata": {},
   "source": [
    "Видим взаимосвязь между \"отстающими значениями\", однако корреляции между признаками выше 0.9 не было обнаружено."
   ]
  },
  {
   "cell_type": "markdown",
   "metadata": {},
   "source": [
    "### Кодирование категориальных и масштабирование численных признаков"
   ]
  },
  {
   "cell_type": "code",
   "execution_count": 23,
   "metadata": {},
   "outputs": [],
   "source": [
    "# копия для модели градиентного бустинга\n",
    "df_for_gb = df_with_features.copy()"
   ]
  },
  {
   "cell_type": "markdown",
   "metadata": {},
   "source": [
    "Создадим спискок колонок для масштабирования."
   ]
  },
  {
   "cell_type": "code",
   "execution_count": 24,
   "metadata": {},
   "outputs": [
    {
     "name": "stdout",
     "output_type": "stream",
     "text": [
      "<class 'pandas.core.frame.DataFrame'>\n",
      "DatetimeIndex: 4392 entries, 2018-03-02 00:00:00 to 2018-08-31 23:00:00\n",
      "Freq: H\n",
      "Data columns (total 6 columns):\n",
      " #   Column        Non-Null Count  Dtype  \n",
      "---  ------        --------------  -----  \n",
      " 0   num_orders    4392 non-null   int64  \n",
      " 1   dayofweek     4392 non-null   int64  \n",
      " 2   hour          4392 non-null   int64  \n",
      " 3   rolling_mean  4392 non-null   float64\n",
      " 4   lag_1         4392 non-null   float64\n",
      " 5   lag_2         4392 non-null   float64\n",
      "dtypes: float64(3), int64(3)\n",
      "memory usage: 240.2 KB\n"
     ]
    }
   ],
   "source": [
    "df_with_features.info()"
   ]
  },
  {
   "cell_type": "code",
   "execution_count": 25,
   "metadata": {},
   "outputs": [],
   "source": [
    "categorical_to_ohe = ['dayofweek', 'hour']"
   ]
  },
  {
   "cell_type": "code",
   "execution_count": 26,
   "metadata": {},
   "outputs": [],
   "source": [
    "df_with_features = pd.get_dummies(df_with_features, columns=categorical_to_ohe, drop_first=True)"
   ]
  },
  {
   "cell_type": "markdown",
   "metadata": {},
   "source": [
    "Масштабируем данные, хранящиеся в выборках, используя стандартизацию.\n",
    "\n",
    "Создадим объект структуры `StandardScaler`.\n"
   ]
  },
  {
   "cell_type": "code",
   "execution_count": 27,
   "metadata": {},
   "outputs": [],
   "source": [
    "scaler = StandardScaler()"
   ]
  },
  {
   "cell_type": "markdown",
   "metadata": {},
   "source": [
    "Далее мы используем его в `Pipeline`.\n",
    "\n",
    "Мы намеренно избежали добавления кодирования признаков в `Pipeline`, так как при первой подобной попытке оказалось, что во время кросс-валидации модель обучается на выборке с одним набором признаков, а потом должна предсказать модель с другим набором признаков (появился новый месяц или день недели)."
   ]
  },
  {
   "cell_type": "markdown",
   "metadata": {},
   "source": [
    "### Деление на выборки"
   ]
  },
  {
   "cell_type": "markdown",
   "metadata": {},
   "source": [
    "Cоздадим обучающую (`_train`), валидационную (`_valid`) и тестовую (`_test`) выборки. Перемешивать выборки в задаче прогнозирования временного ряда нельзя. Данные обучающей выборки должны предшествовать данным тестовой. Иначе тестирование модели будет некорректным: модель не должна обучаться на данных из будущего."
   ]
  },
  {
   "cell_type": "code",
   "execution_count": 28,
   "metadata": {},
   "outputs": [],
   "source": [
    "# выборки для моделей линейной регрессии и случайного леса (с OHE)\n",
    "train_valid, test = train_test_split(df_with_features, shuffle=False, test_size=0.1)\n",
    "\n",
    "train, valid = train_test_split(train_valid, shuffle=False, test_size = 0.2)\n",
    "\n",
    "features_train = train.drop('num_orders', axis=1)\n",
    "features_valid = valid.drop('num_orders', axis=1)\n",
    "features_test = test.drop('num_orders', axis=1)\n",
    "\n",
    "features_train_valid = train_valid.drop('num_orders', axis=1)\n",
    "\n",
    "\n",
    "target_train = train['num_orders']\n",
    "target_valid = valid['num_orders']\n",
    "target_test = test['num_orders']\n",
    "\n",
    "target_train_valid = train_valid['num_orders']\n",
    "\n",
    "# выборки для модели градиентного бустинга (без OHE)\n",
    "\n",
    "for column in categorical_to_ohe:\n",
    "    df_for_gb[column] = pd.Series(df_for_gb[column], dtype='category')\n",
    "\n",
    "train_valid_gb, test_gb = train_test_split(df_for_gb, shuffle=False, test_size=0.1)\n",
    "\n",
    "train_gb, valid_gb = train_test_split(train_valid_gb, shuffle=False, test_size = 0.2)\n",
    "\n",
    "features_train_gb = train_gb.drop('num_orders', axis=1)\n",
    "features_valid_gb = valid_gb.drop('num_orders', axis=1)\n",
    "features_test_gb = test_gb.drop('num_orders', axis=1)\n",
    "\n",
    "features_train_valid_gb = train_valid_gb.drop('num_orders', axis=1)"
   ]
  },
  {
   "cell_type": "markdown",
   "metadata": {},
   "source": [
    "Оценим размеры выборок:"
   ]
  },
  {
   "cell_type": "code",
   "execution_count": 29,
   "metadata": {
    "scrolled": false
   },
   "outputs": [
    {
     "data": {
      "text/plain": [
       "((3161, 32),\n",
       " (791, 32),\n",
       " (440, 32),\n",
       " (3161,),\n",
       " (791,),\n",
       " (440,),\n",
       " (3952, 32),\n",
       " (3952,))"
      ]
     },
     "execution_count": 29,
     "metadata": {},
     "output_type": "execute_result"
    }
   ],
   "source": [
    "features_train.shape, features_valid.shape, features_test.shape, target_train.shape, target_valid.shape, target_test.shape, \\\n",
    "features_train_valid.shape, target_train_valid.shape"
   ]
  },
  {
   "cell_type": "markdown",
   "metadata": {},
   "source": [
    "### Качество прогноза"
   ]
  },
  {
   "cell_type": "markdown",
   "metadata": {},
   "source": [
    "Для обучения моделей нам понадобится оценить качество прогноза. \n",
    "\n",
    "У нас есть четкое **требование к качеству**: значение метрики `RMSE` на тестовой выборке должно быть **не больше 48**.\n",
    "\n",
    "Таким образом, спрогнозировать временные ряды без обучения можно двумя способами:\n",
    "1. Все значения тестовой выборки предсказываются одним и тем же числом (константой). Для метрики `RMSE` — это среднее значение.\n",
    "2. Новое значение x(t) прогнозируется предыдущим значением ряда, то есть x(t-1), этот способ не зависит от метрики."
   ]
  },
  {
   "cell_type": "markdown",
   "metadata": {},
   "source": [
    "Создадим функцию, рассчитывающую значение метрики `RMSE`."
   ]
  },
  {
   "cell_type": "code",
   "execution_count": 30,
   "metadata": {},
   "outputs": [],
   "source": [
    "def rmse(target, predictions):\n",
    "    result = mean_squared_error(target, predictions, squared=False)\n",
    "    return result"
   ]
  },
  {
   "cell_type": "markdown",
   "metadata": {},
   "source": [
    "Оценим прогноз константой - средним значением."
   ]
  },
  {
   "cell_type": "code",
   "execution_count": 31,
   "metadata": {},
   "outputs": [
    {
     "name": "stdout",
     "output_type": "stream",
     "text": [
      "Среднее количество выызваемых в аэропорты такси в час: 71\n"
     ]
    }
   ],
   "source": [
    "print(f'Среднее количество выызваемых в аэропорты такси в час: {target_train.mean():.0f}')"
   ]
  },
  {
   "cell_type": "code",
   "execution_count": 32,
   "metadata": {},
   "outputs": [
    {
     "name": "stdout",
     "output_type": "stream",
     "text": [
      "RMSE прогноза константой: 55\n"
     ]
    }
   ],
   "source": [
    "predictions_mean = pd.Series(target_train.mean(), index=target_valid.index)\n",
    "print(f'RMSE прогноза константой: {rmse(target_valid, predictions_mean):.0f}')"
   ]
  },
  {
   "cell_type": "markdown",
   "metadata": {},
   "source": [
    "Оценим прогноз предыдущим значением ряда."
   ]
  },
  {
   "cell_type": "code",
   "execution_count": 33,
   "metadata": {
    "scrolled": true
   },
   "outputs": [
    {
     "name": "stdout",
     "output_type": "stream",
     "text": [
      "RMSE прогноза предыдущим значением ряда: 46\n"
     ]
    }
   ],
   "source": [
    "predictions_previous = target_valid.shift(fill_value=target_train.iloc[-1])\n",
    "print(f'RMSE прогноза предыдущим значением ряда: {rmse(target_valid, predictions_previous):.0f}')"
   ]
  },
  {
   "cell_type": "markdown",
   "metadata": {},
   "source": [
    "Неплохо. Наши значения на тестовой выборке должны оказаться не выше 48. Проверим."
   ]
  },
  {
   "cell_type": "code",
   "execution_count": 34,
   "metadata": {},
   "outputs": [
    {
     "name": "stdout",
     "output_type": "stream",
     "text": [
      "RMSE прогноза предыдущим значением ряда: 59\n"
     ]
    }
   ],
   "source": [
    "predictions_previous_2 = target_test.shift(fill_value=target_train_valid.iloc[-1])\n",
    "print(f'RMSE прогноза предыдущим значением ряда: {rmse(target_test, predictions_previous_2):.0f}')"
   ]
  },
  {
   "cell_type": "markdown",
   "metadata": {},
   "source": [
    "Предсказывать предыдущим значением ряда не выйдет."
   ]
  },
  {
   "cell_type": "markdown",
   "metadata": {},
   "source": [
    "Внесем данные в результирующую табличку."
   ]
  },
  {
   "cell_type": "code",
   "execution_count": 35,
   "metadata": {},
   "outputs": [],
   "source": [
    "results = pd.DataFrame(columns=['valid_RMSE'])\n",
    "results.loc['constant', 'valid_RMSE'] = round(rmse(target_valid, predictions_mean))\n",
    "results.loc['previous', 'valid_RMSE'] = round(rmse(target_valid, predictions_previous))"
   ]
  },
  {
   "cell_type": "markdown",
   "metadata": {},
   "source": [
    "Превратим метрику RMSE в `scorer`, который можно использовать как параметр функции `cross_val_score`. "
   ]
  },
  {
   "cell_type": "code",
   "execution_count": 36,
   "metadata": {},
   "outputs": [],
   "source": [
    "rmse_score = make_scorer(\n",
    "    rmse, \n",
    "    greater_is_better=False\n",
    ")"
   ]
  },
  {
   "cell_type": "markdown",
   "metadata": {},
   "source": [
    "Обучим несколько моделей.\n",
    "<!-- и оценим их качество кросс-валидацией. -->"
   ]
  },
  {
   "cell_type": "markdown",
   "metadata": {},
   "source": [
    "### Важное отсупление\n",
    "**В рамках данной работы сразу сделаем важное отступление. Модели считаются достаточно медленно, поэтому в каждой модели были перебраны разные гиперпараметры, которые впоследствии в коде были сокращены для увеличения скорости отработки тетради.**"
   ]
  },
  {
   "cell_type": "markdown",
   "metadata": {},
   "source": [
    "### Модель линейной регрессии"
   ]
  },
  {
   "cell_type": "markdown",
   "metadata": {},
   "source": [
    "Возьмем для исследования пару моделей линейной регрессии:\n",
    "- Lasso\n",
    "- Ridge\n"
   ]
  },
  {
   "cell_type": "markdown",
   "metadata": {},
   "source": [
    "#### Lasso"
   ]
  },
  {
   "cell_type": "markdown",
   "metadata": {},
   "source": [
    "Построим пайплайн для модели Lasso."
   ]
  },
  {
   "cell_type": "code",
   "execution_count": 37,
   "metadata": {},
   "outputs": [],
   "source": [
    "state = 12345"
   ]
  },
  {
   "cell_type": "code",
   "execution_count": 38,
   "metadata": {},
   "outputs": [
    {
     "name": "stdout",
     "output_type": "stream",
     "text": [
      "Fitting 8 folds for each of 1 candidates, totalling 8 fits\n"
     ]
    },
    {
     "data": {
      "text/html": [
       "<style>#sk-container-id-1 {color: black;background-color: white;}#sk-container-id-1 pre{padding: 0;}#sk-container-id-1 div.sk-toggleable {background-color: white;}#sk-container-id-1 label.sk-toggleable__label {cursor: pointer;display: block;width: 100%;margin-bottom: 0;padding: 0.3em;box-sizing: border-box;text-align: center;}#sk-container-id-1 label.sk-toggleable__label-arrow:before {content: \"▸\";float: left;margin-right: 0.25em;color: #696969;}#sk-container-id-1 label.sk-toggleable__label-arrow:hover:before {color: black;}#sk-container-id-1 div.sk-estimator:hover label.sk-toggleable__label-arrow:before {color: black;}#sk-container-id-1 div.sk-toggleable__content {max-height: 0;max-width: 0;overflow: hidden;text-align: left;background-color: #f0f8ff;}#sk-container-id-1 div.sk-toggleable__content pre {margin: 0.2em;color: black;border-radius: 0.25em;background-color: #f0f8ff;}#sk-container-id-1 input.sk-toggleable__control:checked~div.sk-toggleable__content {max-height: 200px;max-width: 100%;overflow: auto;}#sk-container-id-1 input.sk-toggleable__control:checked~label.sk-toggleable__label-arrow:before {content: \"▾\";}#sk-container-id-1 div.sk-estimator input.sk-toggleable__control:checked~label.sk-toggleable__label {background-color: #d4ebff;}#sk-container-id-1 div.sk-label input.sk-toggleable__control:checked~label.sk-toggleable__label {background-color: #d4ebff;}#sk-container-id-1 input.sk-hidden--visually {border: 0;clip: rect(1px 1px 1px 1px);clip: rect(1px, 1px, 1px, 1px);height: 1px;margin: -1px;overflow: hidden;padding: 0;position: absolute;width: 1px;}#sk-container-id-1 div.sk-estimator {font-family: monospace;background-color: #f0f8ff;border: 1px dotted black;border-radius: 0.25em;box-sizing: border-box;margin-bottom: 0.5em;}#sk-container-id-1 div.sk-estimator:hover {background-color: #d4ebff;}#sk-container-id-1 div.sk-parallel-item::after {content: \"\";width: 100%;border-bottom: 1px solid gray;flex-grow: 1;}#sk-container-id-1 div.sk-label:hover label.sk-toggleable__label {background-color: #d4ebff;}#sk-container-id-1 div.sk-serial::before {content: \"\";position: absolute;border-left: 1px solid gray;box-sizing: border-box;top: 0;bottom: 0;left: 50%;z-index: 0;}#sk-container-id-1 div.sk-serial {display: flex;flex-direction: column;align-items: center;background-color: white;padding-right: 0.2em;padding-left: 0.2em;position: relative;}#sk-container-id-1 div.sk-item {position: relative;z-index: 1;}#sk-container-id-1 div.sk-parallel {display: flex;align-items: stretch;justify-content: center;background-color: white;position: relative;}#sk-container-id-1 div.sk-item::before, #sk-container-id-1 div.sk-parallel-item::before {content: \"\";position: absolute;border-left: 1px solid gray;box-sizing: border-box;top: 0;bottom: 0;left: 50%;z-index: -1;}#sk-container-id-1 div.sk-parallel-item {display: flex;flex-direction: column;z-index: 1;position: relative;background-color: white;}#sk-container-id-1 div.sk-parallel-item:first-child::after {align-self: flex-end;width: 50%;}#sk-container-id-1 div.sk-parallel-item:last-child::after {align-self: flex-start;width: 50%;}#sk-container-id-1 div.sk-parallel-item:only-child::after {width: 0;}#sk-container-id-1 div.sk-dashed-wrapped {border: 1px dashed gray;margin: 0 0.4em 0.5em 0.4em;box-sizing: border-box;padding-bottom: 0.4em;background-color: white;}#sk-container-id-1 div.sk-label label {font-family: monospace;font-weight: bold;display: inline-block;line-height: 1.2em;}#sk-container-id-1 div.sk-label-container {text-align: center;}#sk-container-id-1 div.sk-container {/* jupyter's `normalize.less` sets `[hidden] { display: none; }` but bootstrap.min.css set `[hidden] { display: none !important; }` so we also need the `!important` here to be able to override the default hidden behavior on the sphinx rendered scikit-learn.org. See: https://github.com/scikit-learn/scikit-learn/issues/21755 */display: inline-block !important;position: relative;}#sk-container-id-1 div.sk-text-repr-fallback {display: none;}</style><div id=\"sk-container-id-1\" class=\"sk-top-container\"><div class=\"sk-text-repr-fallback\"><pre>GridSearchCV(cv=TimeSeriesSplit(gap=0, max_train_size=None, n_splits=8, test_size=None),\n",
       "             estimator=Pipeline(steps=[(&#x27;scaler&#x27;, StandardScaler()),\n",
       "                                       (&#x27;model&#x27;,\n",
       "                                        Lasso(max_iter=100,\n",
       "                                              random_state=12345))]),\n",
       "             n_jobs=-1,\n",
       "             param_grid=[{&#x27;model&#x27;: [Lasso(alpha=0.001, random_state=12345)],\n",
       "                          &#x27;model__alpha&#x27;: [0.001]}],\n",
       "             scoring=make_scorer(rmse, greater_is_better=False), verbose=2)</pre><b>In a Jupyter environment, please rerun this cell to show the HTML representation or trust the notebook. <br />On GitHub, the HTML representation is unable to render, please try loading this page with nbviewer.org.</b></div><div class=\"sk-container\" hidden><div class=\"sk-item sk-dashed-wrapped\"><div class=\"sk-label-container\"><div class=\"sk-label sk-toggleable\"><input class=\"sk-toggleable__control sk-hidden--visually\" id=\"sk-estimator-id-1\" type=\"checkbox\" ><label for=\"sk-estimator-id-1\" class=\"sk-toggleable__label sk-toggleable__label-arrow\">GridSearchCV</label><div class=\"sk-toggleable__content\"><pre>GridSearchCV(cv=TimeSeriesSplit(gap=0, max_train_size=None, n_splits=8, test_size=None),\n",
       "             estimator=Pipeline(steps=[(&#x27;scaler&#x27;, StandardScaler()),\n",
       "                                       (&#x27;model&#x27;,\n",
       "                                        Lasso(max_iter=100,\n",
       "                                              random_state=12345))]),\n",
       "             n_jobs=-1,\n",
       "             param_grid=[{&#x27;model&#x27;: [Lasso(alpha=0.001, random_state=12345)],\n",
       "                          &#x27;model__alpha&#x27;: [0.001]}],\n",
       "             scoring=make_scorer(rmse, greater_is_better=False), verbose=2)</pre></div></div></div><div class=\"sk-parallel\"><div class=\"sk-parallel-item\"><div class=\"sk-item\"><div class=\"sk-label-container\"><div class=\"sk-label sk-toggleable\"><input class=\"sk-toggleable__control sk-hidden--visually\" id=\"sk-estimator-id-2\" type=\"checkbox\" ><label for=\"sk-estimator-id-2\" class=\"sk-toggleable__label sk-toggleable__label-arrow\">estimator: Pipeline</label><div class=\"sk-toggleable__content\"><pre>Pipeline(steps=[(&#x27;scaler&#x27;, StandardScaler()),\n",
       "                (&#x27;model&#x27;, Lasso(max_iter=100, random_state=12345))])</pre></div></div></div><div class=\"sk-serial\"><div class=\"sk-item\"><div class=\"sk-serial\"><div class=\"sk-item\"><div class=\"sk-estimator sk-toggleable\"><input class=\"sk-toggleable__control sk-hidden--visually\" id=\"sk-estimator-id-3\" type=\"checkbox\" ><label for=\"sk-estimator-id-3\" class=\"sk-toggleable__label sk-toggleable__label-arrow\">StandardScaler</label><div class=\"sk-toggleable__content\"><pre>StandardScaler()</pre></div></div></div><div class=\"sk-item\"><div class=\"sk-estimator sk-toggleable\"><input class=\"sk-toggleable__control sk-hidden--visually\" id=\"sk-estimator-id-4\" type=\"checkbox\" ><label for=\"sk-estimator-id-4\" class=\"sk-toggleable__label sk-toggleable__label-arrow\">Lasso</label><div class=\"sk-toggleable__content\"><pre>Lasso(max_iter=100, random_state=12345)</pre></div></div></div></div></div></div></div></div></div></div></div></div>"
      ],
      "text/plain": [
       "GridSearchCV(cv=TimeSeriesSplit(gap=0, max_train_size=None, n_splits=8, test_size=None),\n",
       "             estimator=Pipeline(steps=[('scaler', StandardScaler()),\n",
       "                                       ('model',\n",
       "                                        Lasso(max_iter=100,\n",
       "                                              random_state=12345))]),\n",
       "             n_jobs=-1,\n",
       "             param_grid=[{'model': [Lasso(alpha=0.001, random_state=12345)],\n",
       "                          'model__alpha': [0.001]}],\n",
       "             scoring=make_scorer(rmse, greater_is_better=False), verbose=2)"
      ]
     },
     "execution_count": 38,
     "metadata": {},
     "output_type": "execute_result"
    }
   ],
   "source": [
    "pipe_lasso = Pipeline([\n",
    "    ('scaler', scaler),\n",
    "    ('model', Lasso(random_state=state, max_iter=100))\n",
    "\n",
    "])\n",
    "\n",
    "params_lasso = [\n",
    "    {\n",
    "        'model': [Lasso(random_state=state)],\n",
    "#         'model__alpha': np.logspace(-3, 1, 10), # параметры при подборе\n",
    "        'model__alpha': [0.001], # параметры после подбора\n",
    "    },\n",
    "]\n",
    "\n",
    "tscv = TimeSeriesSplit(n_splits=8) \n",
    "\n",
    "\n",
    "grid_lasso = GridSearchCV(pipe_lasso, param_grid=params_lasso, cv=tscv, n_jobs=-1, scoring=rmse_score, verbose=2)\n",
    "\n",
    "grid_lasso.fit(features_train_valid, target_train_valid)"
   ]
  },
  {
   "cell_type": "code",
   "execution_count": 39,
   "metadata": {
    "scrolled": false
   },
   "outputs": [
    {
     "name": "stdout",
     "output_type": "stream",
     "text": [
      "Best Params: {'model': Lasso(alpha=0.001, random_state=12345), 'model__alpha': 0.001}\n",
      "\n",
      "Best RMSE Score: 24.961091741704998\n"
     ]
    }
   ],
   "source": [
    "lasso_rmse = -grid_lasso.best_score_\n",
    "print('Best Params:', grid_lasso.best_params_)\n",
    "print()\n",
    "print('Best RMSE Score:', lasso_rmse)"
   ]
  },
  {
   "cell_type": "markdown",
   "metadata": {},
   "source": [
    "Кросс-валидацией нашли лучшую модель, сохраним ее."
   ]
  },
  {
   "cell_type": "code",
   "execution_count": 40,
   "metadata": {},
   "outputs": [
    {
     "name": "stdout",
     "output_type": "stream",
     "text": [
      "RMSE для модели Lasso 31.26 такси\n"
     ]
    }
   ],
   "source": [
    "lasso_model = grid_lasso.best_estimator_\n",
    "lasso_model.fit(features_train, target_train)\n",
    "lasso_predicts = lasso_model.predict(features_valid)\n",
    "rmse_lasso = rmse(target_valid, lasso_predicts)\n",
    "print(f'RMSE для модели Lasso {rmse_lasso:.2f} такси')"
   ]
  },
  {
   "cell_type": "code",
   "execution_count": 41,
   "metadata": {},
   "outputs": [],
   "source": [
    "results.loc['lasso', 'valid_RMSE'] = round(rmse_lasso, 2)"
   ]
  },
  {
   "cell_type": "code",
   "execution_count": 42,
   "metadata": {
    "scrolled": false
   },
   "outputs": [
    {
     "data": {
      "text/html": [
       "<div>\n",
       "<style scoped>\n",
       "    .dataframe tbody tr th:only-of-type {\n",
       "        vertical-align: middle;\n",
       "    }\n",
       "\n",
       "    .dataframe tbody tr th {\n",
       "        vertical-align: top;\n",
       "    }\n",
       "\n",
       "    .dataframe thead th {\n",
       "        text-align: right;\n",
       "    }\n",
       "</style>\n",
       "<table border=\"1\" class=\"dataframe\">\n",
       "  <thead>\n",
       "    <tr style=\"text-align: right;\">\n",
       "      <th></th>\n",
       "      <th>valid_RMSE</th>\n",
       "    </tr>\n",
       "  </thead>\n",
       "  <tbody>\n",
       "    <tr>\n",
       "      <th>constant</th>\n",
       "      <td>55</td>\n",
       "    </tr>\n",
       "    <tr>\n",
       "      <th>previous</th>\n",
       "      <td>46</td>\n",
       "    </tr>\n",
       "    <tr>\n",
       "      <th>lasso</th>\n",
       "      <td>31.26</td>\n",
       "    </tr>\n",
       "  </tbody>\n",
       "</table>\n",
       "</div>"
      ],
      "text/plain": [
       "         valid_RMSE\n",
       "constant         55\n",
       "previous         46\n",
       "lasso         31.26"
      ]
     },
     "execution_count": 42,
     "metadata": {},
     "output_type": "execute_result"
    }
   ],
   "source": [
    "results"
   ]
  },
  {
   "cell_type": "markdown",
   "metadata": {},
   "source": [
    "Модель предсказала лучше, чем константные модели."
   ]
  },
  {
   "cell_type": "markdown",
   "metadata": {},
   "source": [
    "#### Ridge"
   ]
  },
  {
   "cell_type": "markdown",
   "metadata": {},
   "source": [
    "Построим пайплайн для модели Ridge."
   ]
  },
  {
   "cell_type": "code",
   "execution_count": 43,
   "metadata": {},
   "outputs": [
    {
     "name": "stdout",
     "output_type": "stream",
     "text": [
      "Fitting 8 folds for each of 1 candidates, totalling 8 fits\n"
     ]
    },
    {
     "data": {
      "text/html": [
       "<style>#sk-container-id-2 {color: black;background-color: white;}#sk-container-id-2 pre{padding: 0;}#sk-container-id-2 div.sk-toggleable {background-color: white;}#sk-container-id-2 label.sk-toggleable__label {cursor: pointer;display: block;width: 100%;margin-bottom: 0;padding: 0.3em;box-sizing: border-box;text-align: center;}#sk-container-id-2 label.sk-toggleable__label-arrow:before {content: \"▸\";float: left;margin-right: 0.25em;color: #696969;}#sk-container-id-2 label.sk-toggleable__label-arrow:hover:before {color: black;}#sk-container-id-2 div.sk-estimator:hover label.sk-toggleable__label-arrow:before {color: black;}#sk-container-id-2 div.sk-toggleable__content {max-height: 0;max-width: 0;overflow: hidden;text-align: left;background-color: #f0f8ff;}#sk-container-id-2 div.sk-toggleable__content pre {margin: 0.2em;color: black;border-radius: 0.25em;background-color: #f0f8ff;}#sk-container-id-2 input.sk-toggleable__control:checked~div.sk-toggleable__content {max-height: 200px;max-width: 100%;overflow: auto;}#sk-container-id-2 input.sk-toggleable__control:checked~label.sk-toggleable__label-arrow:before {content: \"▾\";}#sk-container-id-2 div.sk-estimator input.sk-toggleable__control:checked~label.sk-toggleable__label {background-color: #d4ebff;}#sk-container-id-2 div.sk-label input.sk-toggleable__control:checked~label.sk-toggleable__label {background-color: #d4ebff;}#sk-container-id-2 input.sk-hidden--visually {border: 0;clip: rect(1px 1px 1px 1px);clip: rect(1px, 1px, 1px, 1px);height: 1px;margin: -1px;overflow: hidden;padding: 0;position: absolute;width: 1px;}#sk-container-id-2 div.sk-estimator {font-family: monospace;background-color: #f0f8ff;border: 1px dotted black;border-radius: 0.25em;box-sizing: border-box;margin-bottom: 0.5em;}#sk-container-id-2 div.sk-estimator:hover {background-color: #d4ebff;}#sk-container-id-2 div.sk-parallel-item::after {content: \"\";width: 100%;border-bottom: 1px solid gray;flex-grow: 1;}#sk-container-id-2 div.sk-label:hover label.sk-toggleable__label {background-color: #d4ebff;}#sk-container-id-2 div.sk-serial::before {content: \"\";position: absolute;border-left: 1px solid gray;box-sizing: border-box;top: 0;bottom: 0;left: 50%;z-index: 0;}#sk-container-id-2 div.sk-serial {display: flex;flex-direction: column;align-items: center;background-color: white;padding-right: 0.2em;padding-left: 0.2em;position: relative;}#sk-container-id-2 div.sk-item {position: relative;z-index: 1;}#sk-container-id-2 div.sk-parallel {display: flex;align-items: stretch;justify-content: center;background-color: white;position: relative;}#sk-container-id-2 div.sk-item::before, #sk-container-id-2 div.sk-parallel-item::before {content: \"\";position: absolute;border-left: 1px solid gray;box-sizing: border-box;top: 0;bottom: 0;left: 50%;z-index: -1;}#sk-container-id-2 div.sk-parallel-item {display: flex;flex-direction: column;z-index: 1;position: relative;background-color: white;}#sk-container-id-2 div.sk-parallel-item:first-child::after {align-self: flex-end;width: 50%;}#sk-container-id-2 div.sk-parallel-item:last-child::after {align-self: flex-start;width: 50%;}#sk-container-id-2 div.sk-parallel-item:only-child::after {width: 0;}#sk-container-id-2 div.sk-dashed-wrapped {border: 1px dashed gray;margin: 0 0.4em 0.5em 0.4em;box-sizing: border-box;padding-bottom: 0.4em;background-color: white;}#sk-container-id-2 div.sk-label label {font-family: monospace;font-weight: bold;display: inline-block;line-height: 1.2em;}#sk-container-id-2 div.sk-label-container {text-align: center;}#sk-container-id-2 div.sk-container {/* jupyter's `normalize.less` sets `[hidden] { display: none; }` but bootstrap.min.css set `[hidden] { display: none !important; }` so we also need the `!important` here to be able to override the default hidden behavior on the sphinx rendered scikit-learn.org. See: https://github.com/scikit-learn/scikit-learn/issues/21755 */display: inline-block !important;position: relative;}#sk-container-id-2 div.sk-text-repr-fallback {display: none;}</style><div id=\"sk-container-id-2\" class=\"sk-top-container\"><div class=\"sk-text-repr-fallback\"><pre>GridSearchCV(cv=TimeSeriesSplit(gap=0, max_train_size=None, n_splits=8, test_size=None),\n",
       "             estimator=Pipeline(steps=[(&#x27;scaler&#x27;, StandardScaler()),\n",
       "                                       (&#x27;model&#x27;,\n",
       "                                        Ridge(max_iter=1000,\n",
       "                                              random_state=12345))]),\n",
       "             n_jobs=-1,\n",
       "             param_grid=[{&#x27;model&#x27;: [Ridge(alpha=0.01, max_iter=1000,\n",
       "                                          random_state=12345)],\n",
       "                          &#x27;model__alpha&#x27;: [0.01]}],\n",
       "             scoring=make_scorer(rmse, greater_is_better=False), verbose=2)</pre><b>In a Jupyter environment, please rerun this cell to show the HTML representation or trust the notebook. <br />On GitHub, the HTML representation is unable to render, please try loading this page with nbviewer.org.</b></div><div class=\"sk-container\" hidden><div class=\"sk-item sk-dashed-wrapped\"><div class=\"sk-label-container\"><div class=\"sk-label sk-toggleable\"><input class=\"sk-toggleable__control sk-hidden--visually\" id=\"sk-estimator-id-5\" type=\"checkbox\" ><label for=\"sk-estimator-id-5\" class=\"sk-toggleable__label sk-toggleable__label-arrow\">GridSearchCV</label><div class=\"sk-toggleable__content\"><pre>GridSearchCV(cv=TimeSeriesSplit(gap=0, max_train_size=None, n_splits=8, test_size=None),\n",
       "             estimator=Pipeline(steps=[(&#x27;scaler&#x27;, StandardScaler()),\n",
       "                                       (&#x27;model&#x27;,\n",
       "                                        Ridge(max_iter=1000,\n",
       "                                              random_state=12345))]),\n",
       "             n_jobs=-1,\n",
       "             param_grid=[{&#x27;model&#x27;: [Ridge(alpha=0.01, max_iter=1000,\n",
       "                                          random_state=12345)],\n",
       "                          &#x27;model__alpha&#x27;: [0.01]}],\n",
       "             scoring=make_scorer(rmse, greater_is_better=False), verbose=2)</pre></div></div></div><div class=\"sk-parallel\"><div class=\"sk-parallel-item\"><div class=\"sk-item\"><div class=\"sk-label-container\"><div class=\"sk-label sk-toggleable\"><input class=\"sk-toggleable__control sk-hidden--visually\" id=\"sk-estimator-id-6\" type=\"checkbox\" ><label for=\"sk-estimator-id-6\" class=\"sk-toggleable__label sk-toggleable__label-arrow\">estimator: Pipeline</label><div class=\"sk-toggleable__content\"><pre>Pipeline(steps=[(&#x27;scaler&#x27;, StandardScaler()),\n",
       "                (&#x27;model&#x27;, Ridge(max_iter=1000, random_state=12345))])</pre></div></div></div><div class=\"sk-serial\"><div class=\"sk-item\"><div class=\"sk-serial\"><div class=\"sk-item\"><div class=\"sk-estimator sk-toggleable\"><input class=\"sk-toggleable__control sk-hidden--visually\" id=\"sk-estimator-id-7\" type=\"checkbox\" ><label for=\"sk-estimator-id-7\" class=\"sk-toggleable__label sk-toggleable__label-arrow\">StandardScaler</label><div class=\"sk-toggleable__content\"><pre>StandardScaler()</pre></div></div></div><div class=\"sk-item\"><div class=\"sk-estimator sk-toggleable\"><input class=\"sk-toggleable__control sk-hidden--visually\" id=\"sk-estimator-id-8\" type=\"checkbox\" ><label for=\"sk-estimator-id-8\" class=\"sk-toggleable__label sk-toggleable__label-arrow\">Ridge</label><div class=\"sk-toggleable__content\"><pre>Ridge(max_iter=1000, random_state=12345)</pre></div></div></div></div></div></div></div></div></div></div></div></div>"
      ],
      "text/plain": [
       "GridSearchCV(cv=TimeSeriesSplit(gap=0, max_train_size=None, n_splits=8, test_size=None),\n",
       "             estimator=Pipeline(steps=[('scaler', StandardScaler()),\n",
       "                                       ('model',\n",
       "                                        Ridge(max_iter=1000,\n",
       "                                              random_state=12345))]),\n",
       "             n_jobs=-1,\n",
       "             param_grid=[{'model': [Ridge(alpha=0.01, max_iter=1000,\n",
       "                                          random_state=12345)],\n",
       "                          'model__alpha': [0.01]}],\n",
       "             scoring=make_scorer(rmse, greater_is_better=False), verbose=2)"
      ]
     },
     "execution_count": 43,
     "metadata": {},
     "output_type": "execute_result"
    }
   ],
   "source": [
    "pipe_ridge = Pipeline([\n",
    "    ('scaler', scaler),\n",
    "    ('model', Ridge(random_state=state, max_iter=1000))\n",
    "\n",
    "])\n",
    "\n",
    "params_ridge = [\n",
    "    {\n",
    "        'model': [Ridge(random_state=state, max_iter=1000)],\n",
    "#         'model__alpha': [0.01, 0.1, 0.5, 1, 5, 10, 20, 40], # параметры при подборе\n",
    "        'model__alpha': [0.01], # параметры после подбора\n",
    "    },\n",
    "]\n",
    "\n",
    "grid_ridge = GridSearchCV(pipe_ridge, param_grid=params_ridge, cv=tscv, n_jobs=-1, scoring=rmse_score, verbose=2)\n",
    "\n",
    "grid_ridge.fit(features_train_valid, target_train_valid)"
   ]
  },
  {
   "cell_type": "code",
   "execution_count": 44,
   "metadata": {
    "scrolled": false
   },
   "outputs": [
    {
     "name": "stdout",
     "output_type": "stream",
     "text": [
      "Best Params: {'model': Ridge(alpha=0.01, max_iter=1000, random_state=12345), 'model__alpha': 0.01}\n",
      "\n",
      "Best RMSE Score: 24.9589537473036\n"
     ]
    }
   ],
   "source": [
    "ridge_rmse = -grid_ridge.best_score_\n",
    "print('Best Params:', grid_ridge.best_params_)\n",
    "print()\n",
    "print('Best RMSE Score:', ridge_rmse)"
   ]
  },
  {
   "cell_type": "markdown",
   "metadata": {},
   "source": [
    "Кросс-валидацией нашли лучшую модель, сохраним ее."
   ]
  },
  {
   "cell_type": "code",
   "execution_count": 45,
   "metadata": {},
   "outputs": [
    {
     "name": "stdout",
     "output_type": "stream",
     "text": [
      "RMSE для модели Ridge 31.25 такси\n"
     ]
    }
   ],
   "source": [
    "ridge_model = grid_ridge.best_estimator_\n",
    "ridge_model.fit(features_train, target_train)\n",
    "ridge_predicts = ridge_model.predict(features_valid)\n",
    "rmse_ridge = rmse(target_valid, ridge_predicts)\n",
    "print(f'RMSE для модели Ridge {rmse_ridge:.2f} такси')"
   ]
  },
  {
   "cell_type": "code",
   "execution_count": 46,
   "metadata": {},
   "outputs": [],
   "source": [
    "results.loc['ridge', 'valid_RMSE'] = round(rmse_ridge, 2)"
   ]
  },
  {
   "cell_type": "code",
   "execution_count": 47,
   "metadata": {
    "scrolled": true
   },
   "outputs": [
    {
     "data": {
      "text/html": [
       "<div>\n",
       "<style scoped>\n",
       "    .dataframe tbody tr th:only-of-type {\n",
       "        vertical-align: middle;\n",
       "    }\n",
       "\n",
       "    .dataframe tbody tr th {\n",
       "        vertical-align: top;\n",
       "    }\n",
       "\n",
       "    .dataframe thead th {\n",
       "        text-align: right;\n",
       "    }\n",
       "</style>\n",
       "<table border=\"1\" class=\"dataframe\">\n",
       "  <thead>\n",
       "    <tr style=\"text-align: right;\">\n",
       "      <th></th>\n",
       "      <th>valid_RMSE</th>\n",
       "    </tr>\n",
       "  </thead>\n",
       "  <tbody>\n",
       "    <tr>\n",
       "      <th>constant</th>\n",
       "      <td>55</td>\n",
       "    </tr>\n",
       "    <tr>\n",
       "      <th>previous</th>\n",
       "      <td>46</td>\n",
       "    </tr>\n",
       "    <tr>\n",
       "      <th>lasso</th>\n",
       "      <td>31.26</td>\n",
       "    </tr>\n",
       "    <tr>\n",
       "      <th>ridge</th>\n",
       "      <td>31.25</td>\n",
       "    </tr>\n",
       "  </tbody>\n",
       "</table>\n",
       "</div>"
      ],
      "text/plain": [
       "         valid_RMSE\n",
       "constant         55\n",
       "previous         46\n",
       "lasso         31.26\n",
       "ridge         31.25"
      ]
     },
     "execution_count": 47,
     "metadata": {},
     "output_type": "execute_result"
    }
   ],
   "source": [
    "results"
   ]
  },
  {
   "cell_type": "markdown",
   "metadata": {},
   "source": [
    "### Модель случайного леса"
   ]
  },
  {
   "cell_type": "markdown",
   "metadata": {},
   "source": [
    "Построим пайплайн для модели случайного леса."
   ]
  },
  {
   "cell_type": "code",
   "execution_count": 48,
   "metadata": {
    "scrolled": true
   },
   "outputs": [
    {
     "name": "stdout",
     "output_type": "stream",
     "text": [
      "Fitting 8 folds for each of 1 candidates, totalling 8 fits\n"
     ]
    },
    {
     "data": {
      "text/html": [
       "<style>#sk-container-id-3 {color: black;background-color: white;}#sk-container-id-3 pre{padding: 0;}#sk-container-id-3 div.sk-toggleable {background-color: white;}#sk-container-id-3 label.sk-toggleable__label {cursor: pointer;display: block;width: 100%;margin-bottom: 0;padding: 0.3em;box-sizing: border-box;text-align: center;}#sk-container-id-3 label.sk-toggleable__label-arrow:before {content: \"▸\";float: left;margin-right: 0.25em;color: #696969;}#sk-container-id-3 label.sk-toggleable__label-arrow:hover:before {color: black;}#sk-container-id-3 div.sk-estimator:hover label.sk-toggleable__label-arrow:before {color: black;}#sk-container-id-3 div.sk-toggleable__content {max-height: 0;max-width: 0;overflow: hidden;text-align: left;background-color: #f0f8ff;}#sk-container-id-3 div.sk-toggleable__content pre {margin: 0.2em;color: black;border-radius: 0.25em;background-color: #f0f8ff;}#sk-container-id-3 input.sk-toggleable__control:checked~div.sk-toggleable__content {max-height: 200px;max-width: 100%;overflow: auto;}#sk-container-id-3 input.sk-toggleable__control:checked~label.sk-toggleable__label-arrow:before {content: \"▾\";}#sk-container-id-3 div.sk-estimator input.sk-toggleable__control:checked~label.sk-toggleable__label {background-color: #d4ebff;}#sk-container-id-3 div.sk-label input.sk-toggleable__control:checked~label.sk-toggleable__label {background-color: #d4ebff;}#sk-container-id-3 input.sk-hidden--visually {border: 0;clip: rect(1px 1px 1px 1px);clip: rect(1px, 1px, 1px, 1px);height: 1px;margin: -1px;overflow: hidden;padding: 0;position: absolute;width: 1px;}#sk-container-id-3 div.sk-estimator {font-family: monospace;background-color: #f0f8ff;border: 1px dotted black;border-radius: 0.25em;box-sizing: border-box;margin-bottom: 0.5em;}#sk-container-id-3 div.sk-estimator:hover {background-color: #d4ebff;}#sk-container-id-3 div.sk-parallel-item::after {content: \"\";width: 100%;border-bottom: 1px solid gray;flex-grow: 1;}#sk-container-id-3 div.sk-label:hover label.sk-toggleable__label {background-color: #d4ebff;}#sk-container-id-3 div.sk-serial::before {content: \"\";position: absolute;border-left: 1px solid gray;box-sizing: border-box;top: 0;bottom: 0;left: 50%;z-index: 0;}#sk-container-id-3 div.sk-serial {display: flex;flex-direction: column;align-items: center;background-color: white;padding-right: 0.2em;padding-left: 0.2em;position: relative;}#sk-container-id-3 div.sk-item {position: relative;z-index: 1;}#sk-container-id-3 div.sk-parallel {display: flex;align-items: stretch;justify-content: center;background-color: white;position: relative;}#sk-container-id-3 div.sk-item::before, #sk-container-id-3 div.sk-parallel-item::before {content: \"\";position: absolute;border-left: 1px solid gray;box-sizing: border-box;top: 0;bottom: 0;left: 50%;z-index: -1;}#sk-container-id-3 div.sk-parallel-item {display: flex;flex-direction: column;z-index: 1;position: relative;background-color: white;}#sk-container-id-3 div.sk-parallel-item:first-child::after {align-self: flex-end;width: 50%;}#sk-container-id-3 div.sk-parallel-item:last-child::after {align-self: flex-start;width: 50%;}#sk-container-id-3 div.sk-parallel-item:only-child::after {width: 0;}#sk-container-id-3 div.sk-dashed-wrapped {border: 1px dashed gray;margin: 0 0.4em 0.5em 0.4em;box-sizing: border-box;padding-bottom: 0.4em;background-color: white;}#sk-container-id-3 div.sk-label label {font-family: monospace;font-weight: bold;display: inline-block;line-height: 1.2em;}#sk-container-id-3 div.sk-label-container {text-align: center;}#sk-container-id-3 div.sk-container {/* jupyter's `normalize.less` sets `[hidden] { display: none; }` but bootstrap.min.css set `[hidden] { display: none !important; }` so we also need the `!important` here to be able to override the default hidden behavior on the sphinx rendered scikit-learn.org. See: https://github.com/scikit-learn/scikit-learn/issues/21755 */display: inline-block !important;position: relative;}#sk-container-id-3 div.sk-text-repr-fallback {display: none;}</style><div id=\"sk-container-id-3\" class=\"sk-top-container\"><div class=\"sk-text-repr-fallback\"><pre>GridSearchCV(cv=TimeSeriesSplit(gap=0, max_train_size=None, n_splits=8, test_size=None),\n",
       "             estimator=Pipeline(steps=[(&#x27;scaler&#x27;, StandardScaler()),\n",
       "                                       (&#x27;model&#x27;,\n",
       "                                        RandomForestRegressor(n_jobs=-1,\n",
       "                                                              random_state=12345))]),\n",
       "             n_jobs=-1,\n",
       "             param_grid=[{&#x27;model&#x27;: [RandomForestRegressor(max_depth=9,\n",
       "                                                          n_estimators=161,\n",
       "                                                          random_state=12345)],\n",
       "                          &#x27;model__max_depth&#x27;: [9],\n",
       "                          &#x27;model__n_estimators&#x27;: [161]}],\n",
       "             scoring=make_scorer(rmse, greater_is_better=False), verbose=3)</pre><b>In a Jupyter environment, please rerun this cell to show the HTML representation or trust the notebook. <br />On GitHub, the HTML representation is unable to render, please try loading this page with nbviewer.org.</b></div><div class=\"sk-container\" hidden><div class=\"sk-item sk-dashed-wrapped\"><div class=\"sk-label-container\"><div class=\"sk-label sk-toggleable\"><input class=\"sk-toggleable__control sk-hidden--visually\" id=\"sk-estimator-id-9\" type=\"checkbox\" ><label for=\"sk-estimator-id-9\" class=\"sk-toggleable__label sk-toggleable__label-arrow\">GridSearchCV</label><div class=\"sk-toggleable__content\"><pre>GridSearchCV(cv=TimeSeriesSplit(gap=0, max_train_size=None, n_splits=8, test_size=None),\n",
       "             estimator=Pipeline(steps=[(&#x27;scaler&#x27;, StandardScaler()),\n",
       "                                       (&#x27;model&#x27;,\n",
       "                                        RandomForestRegressor(n_jobs=-1,\n",
       "                                                              random_state=12345))]),\n",
       "             n_jobs=-1,\n",
       "             param_grid=[{&#x27;model&#x27;: [RandomForestRegressor(max_depth=9,\n",
       "                                                          n_estimators=161,\n",
       "                                                          random_state=12345)],\n",
       "                          &#x27;model__max_depth&#x27;: [9],\n",
       "                          &#x27;model__n_estimators&#x27;: [161]}],\n",
       "             scoring=make_scorer(rmse, greater_is_better=False), verbose=3)</pre></div></div></div><div class=\"sk-parallel\"><div class=\"sk-parallel-item\"><div class=\"sk-item\"><div class=\"sk-label-container\"><div class=\"sk-label sk-toggleable\"><input class=\"sk-toggleable__control sk-hidden--visually\" id=\"sk-estimator-id-10\" type=\"checkbox\" ><label for=\"sk-estimator-id-10\" class=\"sk-toggleable__label sk-toggleable__label-arrow\">estimator: Pipeline</label><div class=\"sk-toggleable__content\"><pre>Pipeline(steps=[(&#x27;scaler&#x27;, StandardScaler()),\n",
       "                (&#x27;model&#x27;,\n",
       "                 RandomForestRegressor(n_jobs=-1, random_state=12345))])</pre></div></div></div><div class=\"sk-serial\"><div class=\"sk-item\"><div class=\"sk-serial\"><div class=\"sk-item\"><div class=\"sk-estimator sk-toggleable\"><input class=\"sk-toggleable__control sk-hidden--visually\" id=\"sk-estimator-id-11\" type=\"checkbox\" ><label for=\"sk-estimator-id-11\" class=\"sk-toggleable__label sk-toggleable__label-arrow\">StandardScaler</label><div class=\"sk-toggleable__content\"><pre>StandardScaler()</pre></div></div></div><div class=\"sk-item\"><div class=\"sk-estimator sk-toggleable\"><input class=\"sk-toggleable__control sk-hidden--visually\" id=\"sk-estimator-id-12\" type=\"checkbox\" ><label for=\"sk-estimator-id-12\" class=\"sk-toggleable__label sk-toggleable__label-arrow\">RandomForestRegressor</label><div class=\"sk-toggleable__content\"><pre>RandomForestRegressor(n_jobs=-1, random_state=12345)</pre></div></div></div></div></div></div></div></div></div></div></div></div>"
      ],
      "text/plain": [
       "GridSearchCV(cv=TimeSeriesSplit(gap=0, max_train_size=None, n_splits=8, test_size=None),\n",
       "             estimator=Pipeline(steps=[('scaler', StandardScaler()),\n",
       "                                       ('model',\n",
       "                                        RandomForestRegressor(n_jobs=-1,\n",
       "                                                              random_state=12345))]),\n",
       "             n_jobs=-1,\n",
       "             param_grid=[{'model': [RandomForestRegressor(max_depth=9,\n",
       "                                                          n_estimators=161,\n",
       "                                                          random_state=12345)],\n",
       "                          'model__max_depth': [9],\n",
       "                          'model__n_estimators': [161]}],\n",
       "             scoring=make_scorer(rmse, greater_is_better=False), verbose=3)"
      ]
     },
     "execution_count": 48,
     "metadata": {},
     "output_type": "execute_result"
    }
   ],
   "source": [
    "pipe_forest = Pipeline([\n",
    "    ('scaler', scaler),\n",
    "    ('model', RandomForestRegressor(random_state=state, n_jobs=-1))\n",
    "\n",
    "])\n",
    "\n",
    "params_forest = [\n",
    "    {\n",
    "        'model': [RandomForestRegressor(random_state=state)],\n",
    "#         'model__n_estimators': list(range(1, 200, 20)), # параметры при подборе\n",
    "        'model__n_estimators': [161], # параметры после подбора\n",
    "\n",
    "#         'model__max_depth': list(range(2, 10, 1)), # параметры при подборе\n",
    "        'model__max_depth': [9], # параметры после подбора\n",
    "    },\n",
    "]\n",
    "\n",
    "grid_forest = GridSearchCV(pipe_forest, param_grid=params_forest, cv=tscv, n_jobs=-1, scoring=rmse_score, verbose=3)\n",
    "\n",
    "grid_forest.fit(features_train_valid, target_train_valid)"
   ]
  },
  {
   "cell_type": "code",
   "execution_count": 49,
   "metadata": {
    "scrolled": true
   },
   "outputs": [
    {
     "name": "stdout",
     "output_type": "stream",
     "text": [
      "Best Params: {'model': RandomForestRegressor(max_depth=9, n_estimators=161, random_state=12345), 'model__max_depth': 9, 'model__n_estimators': 161}\n",
      "\n",
      "Best RMSE Score: 27.242404473681148\n"
     ]
    }
   ],
   "source": [
    "forest_rmse = -grid_forest.best_score_\n",
    "print('Best Params:', grid_forest.best_params_)\n",
    "print()\n",
    "print('Best RMSE Score:', forest_rmse)"
   ]
  },
  {
   "cell_type": "markdown",
   "metadata": {},
   "source": [
    "Кросс-валидацией нашли лучшую модель, сохраним ее."
   ]
  },
  {
   "cell_type": "code",
   "execution_count": 50,
   "metadata": {},
   "outputs": [
    {
     "name": "stdout",
     "output_type": "stream",
     "text": [
      "RMSE для модели Random Forest 36 такси\n"
     ]
    }
   ],
   "source": [
    "forest_model = grid_forest.best_estimator_\n",
    "forest_model.fit(features_train, target_train)\n",
    "forest_predicts = forest_model.predict(features_valid)\n",
    "rmse_forest = rmse(target_valid, forest_predicts)\n",
    "print(f'RMSE для модели Random Forest {rmse_forest:.0f} такси')"
   ]
  },
  {
   "cell_type": "code",
   "execution_count": 51,
   "metadata": {},
   "outputs": [],
   "source": [
    "results.loc['random forest', 'valid_RMSE'] = round(rmse_forest)"
   ]
  },
  {
   "cell_type": "code",
   "execution_count": 52,
   "metadata": {},
   "outputs": [
    {
     "data": {
      "text/html": [
       "<div>\n",
       "<style scoped>\n",
       "    .dataframe tbody tr th:only-of-type {\n",
       "        vertical-align: middle;\n",
       "    }\n",
       "\n",
       "    .dataframe tbody tr th {\n",
       "        vertical-align: top;\n",
       "    }\n",
       "\n",
       "    .dataframe thead th {\n",
       "        text-align: right;\n",
       "    }\n",
       "</style>\n",
       "<table border=\"1\" class=\"dataframe\">\n",
       "  <thead>\n",
       "    <tr style=\"text-align: right;\">\n",
       "      <th></th>\n",
       "      <th>valid_RMSE</th>\n",
       "    </tr>\n",
       "  </thead>\n",
       "  <tbody>\n",
       "    <tr>\n",
       "      <th>constant</th>\n",
       "      <td>55</td>\n",
       "    </tr>\n",
       "    <tr>\n",
       "      <th>previous</th>\n",
       "      <td>46</td>\n",
       "    </tr>\n",
       "    <tr>\n",
       "      <th>lasso</th>\n",
       "      <td>31.26</td>\n",
       "    </tr>\n",
       "    <tr>\n",
       "      <th>ridge</th>\n",
       "      <td>31.25</td>\n",
       "    </tr>\n",
       "    <tr>\n",
       "      <th>random forest</th>\n",
       "      <td>36</td>\n",
       "    </tr>\n",
       "  </tbody>\n",
       "</table>\n",
       "</div>"
      ],
      "text/plain": [
       "              valid_RMSE\n",
       "constant              55\n",
       "previous              46\n",
       "lasso              31.26\n",
       "ridge              31.25\n",
       "random forest         36"
      ]
     },
     "execution_count": 52,
     "metadata": {},
     "output_type": "execute_result"
    }
   ],
   "source": [
    "results"
   ]
  },
  {
   "cell_type": "markdown",
   "metadata": {},
   "source": [
    "### Модель градиентного бустинга библиотеки LightGBM"
   ]
  },
  {
   "cell_type": "markdown",
   "metadata": {},
   "source": [
    "Так же для данной модели попробуем построить пайплайн."
   ]
  },
  {
   "cell_type": "code",
   "execution_count": 53,
   "metadata": {
    "scrolled": true
   },
   "outputs": [
    {
     "name": "stdout",
     "output_type": "stream",
     "text": [
      "Fitting 8 folds for each of 1 candidates, totalling 8 fits\n"
     ]
    },
    {
     "data": {
      "text/html": [
       "<style>#sk-container-id-4 {color: black;background-color: white;}#sk-container-id-4 pre{padding: 0;}#sk-container-id-4 div.sk-toggleable {background-color: white;}#sk-container-id-4 label.sk-toggleable__label {cursor: pointer;display: block;width: 100%;margin-bottom: 0;padding: 0.3em;box-sizing: border-box;text-align: center;}#sk-container-id-4 label.sk-toggleable__label-arrow:before {content: \"▸\";float: left;margin-right: 0.25em;color: #696969;}#sk-container-id-4 label.sk-toggleable__label-arrow:hover:before {color: black;}#sk-container-id-4 div.sk-estimator:hover label.sk-toggleable__label-arrow:before {color: black;}#sk-container-id-4 div.sk-toggleable__content {max-height: 0;max-width: 0;overflow: hidden;text-align: left;background-color: #f0f8ff;}#sk-container-id-4 div.sk-toggleable__content pre {margin: 0.2em;color: black;border-radius: 0.25em;background-color: #f0f8ff;}#sk-container-id-4 input.sk-toggleable__control:checked~div.sk-toggleable__content {max-height: 200px;max-width: 100%;overflow: auto;}#sk-container-id-4 input.sk-toggleable__control:checked~label.sk-toggleable__label-arrow:before {content: \"▾\";}#sk-container-id-4 div.sk-estimator input.sk-toggleable__control:checked~label.sk-toggleable__label {background-color: #d4ebff;}#sk-container-id-4 div.sk-label input.sk-toggleable__control:checked~label.sk-toggleable__label {background-color: #d4ebff;}#sk-container-id-4 input.sk-hidden--visually {border: 0;clip: rect(1px 1px 1px 1px);clip: rect(1px, 1px, 1px, 1px);height: 1px;margin: -1px;overflow: hidden;padding: 0;position: absolute;width: 1px;}#sk-container-id-4 div.sk-estimator {font-family: monospace;background-color: #f0f8ff;border: 1px dotted black;border-radius: 0.25em;box-sizing: border-box;margin-bottom: 0.5em;}#sk-container-id-4 div.sk-estimator:hover {background-color: #d4ebff;}#sk-container-id-4 div.sk-parallel-item::after {content: \"\";width: 100%;border-bottom: 1px solid gray;flex-grow: 1;}#sk-container-id-4 div.sk-label:hover label.sk-toggleable__label {background-color: #d4ebff;}#sk-container-id-4 div.sk-serial::before {content: \"\";position: absolute;border-left: 1px solid gray;box-sizing: border-box;top: 0;bottom: 0;left: 50%;z-index: 0;}#sk-container-id-4 div.sk-serial {display: flex;flex-direction: column;align-items: center;background-color: white;padding-right: 0.2em;padding-left: 0.2em;position: relative;}#sk-container-id-4 div.sk-item {position: relative;z-index: 1;}#sk-container-id-4 div.sk-parallel {display: flex;align-items: stretch;justify-content: center;background-color: white;position: relative;}#sk-container-id-4 div.sk-item::before, #sk-container-id-4 div.sk-parallel-item::before {content: \"\";position: absolute;border-left: 1px solid gray;box-sizing: border-box;top: 0;bottom: 0;left: 50%;z-index: -1;}#sk-container-id-4 div.sk-parallel-item {display: flex;flex-direction: column;z-index: 1;position: relative;background-color: white;}#sk-container-id-4 div.sk-parallel-item:first-child::after {align-self: flex-end;width: 50%;}#sk-container-id-4 div.sk-parallel-item:last-child::after {align-self: flex-start;width: 50%;}#sk-container-id-4 div.sk-parallel-item:only-child::after {width: 0;}#sk-container-id-4 div.sk-dashed-wrapped {border: 1px dashed gray;margin: 0 0.4em 0.5em 0.4em;box-sizing: border-box;padding-bottom: 0.4em;background-color: white;}#sk-container-id-4 div.sk-label label {font-family: monospace;font-weight: bold;display: inline-block;line-height: 1.2em;}#sk-container-id-4 div.sk-label-container {text-align: center;}#sk-container-id-4 div.sk-container {/* jupyter's `normalize.less` sets `[hidden] { display: none; }` but bootstrap.min.css set `[hidden] { display: none !important; }` so we also need the `!important` here to be able to override the default hidden behavior on the sphinx rendered scikit-learn.org. See: https://github.com/scikit-learn/scikit-learn/issues/21755 */display: inline-block !important;position: relative;}#sk-container-id-4 div.sk-text-repr-fallback {display: none;}</style><div id=\"sk-container-id-4\" class=\"sk-top-container\"><div class=\"sk-text-repr-fallback\"><pre>GridSearchCV(cv=TimeSeriesSplit(gap=0, max_train_size=None, n_splits=8, test_size=None),\n",
       "             estimator=Pipeline(steps=[(&#x27;scaler&#x27;, StandardScaler()),\n",
       "                                       (&#x27;model&#x27;,\n",
       "                                        LGBMRegressor(random_state=12345))]),\n",
       "             n_jobs=-1,\n",
       "             param_grid=[{&#x27;model&#x27;: [LGBMRegressor(max_depth=12, n_estimators=61,\n",
       "                                                  random_state=12345)],\n",
       "                          &#x27;model__max_depth&#x27;: [12],\n",
       "                          &#x27;model__n_estimators&#x27;: [61]}],\n",
       "             scoring=make_scorer(rmse, greater_is_better=False), verbose=2)</pre><b>In a Jupyter environment, please rerun this cell to show the HTML representation or trust the notebook. <br />On GitHub, the HTML representation is unable to render, please try loading this page with nbviewer.org.</b></div><div class=\"sk-container\" hidden><div class=\"sk-item sk-dashed-wrapped\"><div class=\"sk-label-container\"><div class=\"sk-label sk-toggleable\"><input class=\"sk-toggleable__control sk-hidden--visually\" id=\"sk-estimator-id-13\" type=\"checkbox\" ><label for=\"sk-estimator-id-13\" class=\"sk-toggleable__label sk-toggleable__label-arrow\">GridSearchCV</label><div class=\"sk-toggleable__content\"><pre>GridSearchCV(cv=TimeSeriesSplit(gap=0, max_train_size=None, n_splits=8, test_size=None),\n",
       "             estimator=Pipeline(steps=[(&#x27;scaler&#x27;, StandardScaler()),\n",
       "                                       (&#x27;model&#x27;,\n",
       "                                        LGBMRegressor(random_state=12345))]),\n",
       "             n_jobs=-1,\n",
       "             param_grid=[{&#x27;model&#x27;: [LGBMRegressor(max_depth=12, n_estimators=61,\n",
       "                                                  random_state=12345)],\n",
       "                          &#x27;model__max_depth&#x27;: [12],\n",
       "                          &#x27;model__n_estimators&#x27;: [61]}],\n",
       "             scoring=make_scorer(rmse, greater_is_better=False), verbose=2)</pre></div></div></div><div class=\"sk-parallel\"><div class=\"sk-parallel-item\"><div class=\"sk-item\"><div class=\"sk-label-container\"><div class=\"sk-label sk-toggleable\"><input class=\"sk-toggleable__control sk-hidden--visually\" id=\"sk-estimator-id-14\" type=\"checkbox\" ><label for=\"sk-estimator-id-14\" class=\"sk-toggleable__label sk-toggleable__label-arrow\">estimator: Pipeline</label><div class=\"sk-toggleable__content\"><pre>Pipeline(steps=[(&#x27;scaler&#x27;, StandardScaler()),\n",
       "                (&#x27;model&#x27;, LGBMRegressor(random_state=12345))])</pre></div></div></div><div class=\"sk-serial\"><div class=\"sk-item\"><div class=\"sk-serial\"><div class=\"sk-item\"><div class=\"sk-estimator sk-toggleable\"><input class=\"sk-toggleable__control sk-hidden--visually\" id=\"sk-estimator-id-15\" type=\"checkbox\" ><label for=\"sk-estimator-id-15\" class=\"sk-toggleable__label sk-toggleable__label-arrow\">StandardScaler</label><div class=\"sk-toggleable__content\"><pre>StandardScaler()</pre></div></div></div><div class=\"sk-item\"><div class=\"sk-estimator sk-toggleable\"><input class=\"sk-toggleable__control sk-hidden--visually\" id=\"sk-estimator-id-16\" type=\"checkbox\" ><label for=\"sk-estimator-id-16\" class=\"sk-toggleable__label sk-toggleable__label-arrow\">LGBMRegressor</label><div class=\"sk-toggleable__content\"><pre>LGBMRegressor(random_state=12345)</pre></div></div></div></div></div></div></div></div></div></div></div></div>"
      ],
      "text/plain": [
       "GridSearchCV(cv=TimeSeriesSplit(gap=0, max_train_size=None, n_splits=8, test_size=None),\n",
       "             estimator=Pipeline(steps=[('scaler', StandardScaler()),\n",
       "                                       ('model',\n",
       "                                        LGBMRegressor(random_state=12345))]),\n",
       "             n_jobs=-1,\n",
       "             param_grid=[{'model': [LGBMRegressor(max_depth=12, n_estimators=61,\n",
       "                                                  random_state=12345)],\n",
       "                          'model__max_depth': [12],\n",
       "                          'model__n_estimators': [61]}],\n",
       "             scoring=make_scorer(rmse, greater_is_better=False), verbose=2)"
      ]
     },
     "execution_count": 53,
     "metadata": {},
     "output_type": "execute_result"
    }
   ],
   "source": [
    "pipe_light = Pipeline([\n",
    "    ('scaler', scaler),\n",
    "    ('model', LGBMRegressor(random_state=state))\n",
    "\n",
    "])\n",
    "\n",
    "params_light = [\n",
    "    {\n",
    "        'model': [LGBMRegressor(random_state=state)],\n",
    "#         'model__n_estimators': list(range(1, 300, 20)), # параметры при подборе\n",
    "        'model__n_estimators': [61], # параметры после подбора\n",
    "\n",
    "#         'model__max_depth': list(range(2, 20, 2)), # параметры при подборе\n",
    "        'model__max_depth': [12], # параметры после подбора\n",
    "    },\n",
    "]\n",
    "\n",
    "grid_light = GridSearchCV(pipe_light, param_grid=params_light, cv=tscv, n_jobs=-1, scoring=rmse_score, verbose=2)\n",
    "\n",
    "grid_light.fit(features_train_valid_gb, target_train_valid)"
   ]
  },
  {
   "cell_type": "code",
   "execution_count": 54,
   "metadata": {
    "scrolled": false
   },
   "outputs": [
    {
     "name": "stdout",
     "output_type": "stream",
     "text": [
      "Best Params: {'model': LGBMRegressor(max_depth=12, n_estimators=61, random_state=12345), 'model__max_depth': 12, 'model__n_estimators': 61}\n",
      "\n",
      "Best RMSE Score: 24.304265400902807\n"
     ]
    }
   ],
   "source": [
    "light_rmse = -grid_light.best_score_\n",
    "print('Best Params:', grid_light.best_params_)\n",
    "print()\n",
    "print('Best RMSE Score:', light_rmse)"
   ]
  },
  {
   "cell_type": "markdown",
   "metadata": {},
   "source": [
    "Кросс-валидацией нашли лучшую модель, сохраним ее."
   ]
  },
  {
   "cell_type": "code",
   "execution_count": 55,
   "metadata": {
    "scrolled": false
   },
   "outputs": [
    {
     "name": "stdout",
     "output_type": "stream",
     "text": [
      "RMSE для модели Random light 33 такси\n"
     ]
    }
   ],
   "source": [
    "light_model = grid_light.best_estimator_\n",
    "light_model.fit(features_train_gb, target_train)\n",
    "light_predicts = light_model.predict(features_valid_gb)\n",
    "rmse_light = rmse(target_valid, light_predicts)\n",
    "print(f'RMSE для модели Random light {rmse_light:.0f} такси')"
   ]
  },
  {
   "cell_type": "code",
   "execution_count": 56,
   "metadata": {},
   "outputs": [],
   "source": [
    "results.loc['LGBMRegressor', 'valid_RMSE'] = round(rmse_light)"
   ]
  },
  {
   "cell_type": "code",
   "execution_count": 57,
   "metadata": {},
   "outputs": [
    {
     "data": {
      "text/html": [
       "<div>\n",
       "<style scoped>\n",
       "    .dataframe tbody tr th:only-of-type {\n",
       "        vertical-align: middle;\n",
       "    }\n",
       "\n",
       "    .dataframe tbody tr th {\n",
       "        vertical-align: top;\n",
       "    }\n",
       "\n",
       "    .dataframe thead th {\n",
       "        text-align: right;\n",
       "    }\n",
       "</style>\n",
       "<table border=\"1\" class=\"dataframe\">\n",
       "  <thead>\n",
       "    <tr style=\"text-align: right;\">\n",
       "      <th></th>\n",
       "      <th>valid_RMSE</th>\n",
       "    </tr>\n",
       "  </thead>\n",
       "  <tbody>\n",
       "    <tr>\n",
       "      <th>constant</th>\n",
       "      <td>55</td>\n",
       "    </tr>\n",
       "    <tr>\n",
       "      <th>previous</th>\n",
       "      <td>46</td>\n",
       "    </tr>\n",
       "    <tr>\n",
       "      <th>lasso</th>\n",
       "      <td>31.26</td>\n",
       "    </tr>\n",
       "    <tr>\n",
       "      <th>ridge</th>\n",
       "      <td>31.25</td>\n",
       "    </tr>\n",
       "    <tr>\n",
       "      <th>random forest</th>\n",
       "      <td>36</td>\n",
       "    </tr>\n",
       "    <tr>\n",
       "      <th>LGBMRegressor</th>\n",
       "      <td>33</td>\n",
       "    </tr>\n",
       "  </tbody>\n",
       "</table>\n",
       "</div>"
      ],
      "text/plain": [
       "              valid_RMSE\n",
       "constant              55\n",
       "previous              46\n",
       "lasso              31.26\n",
       "ridge              31.25\n",
       "random forest         36\n",
       "LGBMRegressor         33"
      ]
     },
     "execution_count": 57,
     "metadata": {},
     "output_type": "execute_result"
    }
   ],
   "source": [
    "results"
   ]
  },
  {
   "cell_type": "markdown",
   "metadata": {},
   "source": [
    "Теперь взглянем на то, какое качество показали исследуемые модели."
   ]
  },
  {
   "cell_type": "code",
   "execution_count": 58,
   "metadata": {},
   "outputs": [
    {
     "data": {
      "image/png": "[encoded data removed]",
      "text/plain": [
       "<Figure size 432x288 with 1 Axes>"
      ]
     },
     "metadata": {
      "needs_background": "light"
     },
     "output_type": "display_data"
    }
   ],
   "source": [
    "results['valid_RMSE'].sort_values(ascending=False).plot(kind='barh')\n",
    "plt.ylabel('Модель')\n",
    "plt.xlabel('Метрика качества RMSE, количество такси в час')\n",
    "plt.title('Распределение моделей в зависимости от качества предсказания')\n",
    "plt.show()"
   ]
  },
  {
   "cell_type": "markdown",
   "metadata": {},
   "source": [
    "- Модель градиентного бустинга показала себя хуже моделей линейной регрессии, а времени на ее обучение ушло гораздо дольше. \n",
    "- Приятно видеть, что все обученные модели показали качество выше предсказания средним и предыдущим значением.\n",
    "\n",
    "\n",
    "- Лучшее качество показали модели линейной регресси Ridge и Lasso. Но так как их метрики качества практически одинаковы, попробуем обучить еще одну модель, объединяющую регуляризации обоих моделей - ElasticNet. И так же посмотрим на графиках, как они отличаются в предсказаниях."
   ]
  },
  {
   "cell_type": "markdown",
   "metadata": {},
   "source": [
    "### Модель линейной регрессии ElasticNet"
   ]
  },
  {
   "cell_type": "markdown",
   "metadata": {},
   "source": [
    "Построим пайплайн для модели ElasticNet."
   ]
  },
  {
   "cell_type": "code",
   "execution_count": 59,
   "metadata": {
    "scrolled": true
   },
   "outputs": [
    {
     "name": "stdout",
     "output_type": "stream",
     "text": [
      "Fitting 8 folds for each of 1 candidates, totalling 8 fits\n"
     ]
    },
    {
     "data": {
      "text/html": [
       "<style>#sk-container-id-5 {color: black;background-color: white;}#sk-container-id-5 pre{padding: 0;}#sk-container-id-5 div.sk-toggleable {background-color: white;}#sk-container-id-5 label.sk-toggleable__label {cursor: pointer;display: block;width: 100%;margin-bottom: 0;padding: 0.3em;box-sizing: border-box;text-align: center;}#sk-container-id-5 label.sk-toggleable__label-arrow:before {content: \"▸\";float: left;margin-right: 0.25em;color: #696969;}#sk-container-id-5 label.sk-toggleable__label-arrow:hover:before {color: black;}#sk-container-id-5 div.sk-estimator:hover label.sk-toggleable__label-arrow:before {color: black;}#sk-container-id-5 div.sk-toggleable__content {max-height: 0;max-width: 0;overflow: hidden;text-align: left;background-color: #f0f8ff;}#sk-container-id-5 div.sk-toggleable__content pre {margin: 0.2em;color: black;border-radius: 0.25em;background-color: #f0f8ff;}#sk-container-id-5 input.sk-toggleable__control:checked~div.sk-toggleable__content {max-height: 200px;max-width: 100%;overflow: auto;}#sk-container-id-5 input.sk-toggleable__control:checked~label.sk-toggleable__label-arrow:before {content: \"▾\";}#sk-container-id-5 div.sk-estimator input.sk-toggleable__control:checked~label.sk-toggleable__label {background-color: #d4ebff;}#sk-container-id-5 div.sk-label input.sk-toggleable__control:checked~label.sk-toggleable__label {background-color: #d4ebff;}#sk-container-id-5 input.sk-hidden--visually {border: 0;clip: rect(1px 1px 1px 1px);clip: rect(1px, 1px, 1px, 1px);height: 1px;margin: -1px;overflow: hidden;padding: 0;position: absolute;width: 1px;}#sk-container-id-5 div.sk-estimator {font-family: monospace;background-color: #f0f8ff;border: 1px dotted black;border-radius: 0.25em;box-sizing: border-box;margin-bottom: 0.5em;}#sk-container-id-5 div.sk-estimator:hover {background-color: #d4ebff;}#sk-container-id-5 div.sk-parallel-item::after {content: \"\";width: 100%;border-bottom: 1px solid gray;flex-grow: 1;}#sk-container-id-5 div.sk-label:hover label.sk-toggleable__label {background-color: #d4ebff;}#sk-container-id-5 div.sk-serial::before {content: \"\";position: absolute;border-left: 1px solid gray;box-sizing: border-box;top: 0;bottom: 0;left: 50%;z-index: 0;}#sk-container-id-5 div.sk-serial {display: flex;flex-direction: column;align-items: center;background-color: white;padding-right: 0.2em;padding-left: 0.2em;position: relative;}#sk-container-id-5 div.sk-item {position: relative;z-index: 1;}#sk-container-id-5 div.sk-parallel {display: flex;align-items: stretch;justify-content: center;background-color: white;position: relative;}#sk-container-id-5 div.sk-item::before, #sk-container-id-5 div.sk-parallel-item::before {content: \"\";position: absolute;border-left: 1px solid gray;box-sizing: border-box;top: 0;bottom: 0;left: 50%;z-index: -1;}#sk-container-id-5 div.sk-parallel-item {display: flex;flex-direction: column;z-index: 1;position: relative;background-color: white;}#sk-container-id-5 div.sk-parallel-item:first-child::after {align-self: flex-end;width: 50%;}#sk-container-id-5 div.sk-parallel-item:last-child::after {align-self: flex-start;width: 50%;}#sk-container-id-5 div.sk-parallel-item:only-child::after {width: 0;}#sk-container-id-5 div.sk-dashed-wrapped {border: 1px dashed gray;margin: 0 0.4em 0.5em 0.4em;box-sizing: border-box;padding-bottom: 0.4em;background-color: white;}#sk-container-id-5 div.sk-label label {font-family: monospace;font-weight: bold;display: inline-block;line-height: 1.2em;}#sk-container-id-5 div.sk-label-container {text-align: center;}#sk-container-id-5 div.sk-container {/* jupyter's `normalize.less` sets `[hidden] { display: none; }` but bootstrap.min.css set `[hidden] { display: none !important; }` so we also need the `!important` here to be able to override the default hidden behavior on the sphinx rendered scikit-learn.org. See: https://github.com/scikit-learn/scikit-learn/issues/21755 */display: inline-block !important;position: relative;}#sk-container-id-5 div.sk-text-repr-fallback {display: none;}</style><div id=\"sk-container-id-5\" class=\"sk-top-container\"><div class=\"sk-text-repr-fallback\"><pre>GridSearchCV(cv=TimeSeriesSplit(gap=0, max_train_size=None, n_splits=8, test_size=None),\n",
       "             estimator=Pipeline(steps=[(&#x27;scaler&#x27;, StandardScaler()),\n",
       "                                       (&#x27;model&#x27;,\n",
       "                                        ElasticNet(random_state=12345))]),\n",
       "             n_jobs=-1,\n",
       "             param_grid=[{&#x27;model&#x27;: [ElasticNet(alpha=0.01, l1_ratio=1.0,\n",
       "                                               random_state=12345)],\n",
       "                          &#x27;model__alpha&#x27;: [0.01], &#x27;model__l1_ratio&#x27;: [1.0]}],\n",
       "             scoring=make_scorer(rmse, greater_is_better=False), verbose=2)</pre><b>In a Jupyter environment, please rerun this cell to show the HTML representation or trust the notebook. <br />On GitHub, the HTML representation is unable to render, please try loading this page with nbviewer.org.</b></div><div class=\"sk-container\" hidden><div class=\"sk-item sk-dashed-wrapped\"><div class=\"sk-label-container\"><div class=\"sk-label sk-toggleable\"><input class=\"sk-toggleable__control sk-hidden--visually\" id=\"sk-estimator-id-17\" type=\"checkbox\" ><label for=\"sk-estimator-id-17\" class=\"sk-toggleable__label sk-toggleable__label-arrow\">GridSearchCV</label><div class=\"sk-toggleable__content\"><pre>GridSearchCV(cv=TimeSeriesSplit(gap=0, max_train_size=None, n_splits=8, test_size=None),\n",
       "             estimator=Pipeline(steps=[(&#x27;scaler&#x27;, StandardScaler()),\n",
       "                                       (&#x27;model&#x27;,\n",
       "                                        ElasticNet(random_state=12345))]),\n",
       "             n_jobs=-1,\n",
       "             param_grid=[{&#x27;model&#x27;: [ElasticNet(alpha=0.01, l1_ratio=1.0,\n",
       "                                               random_state=12345)],\n",
       "                          &#x27;model__alpha&#x27;: [0.01], &#x27;model__l1_ratio&#x27;: [1.0]}],\n",
       "             scoring=make_scorer(rmse, greater_is_better=False), verbose=2)</pre></div></div></div><div class=\"sk-parallel\"><div class=\"sk-parallel-item\"><div class=\"sk-item\"><div class=\"sk-label-container\"><div class=\"sk-label sk-toggleable\"><input class=\"sk-toggleable__control sk-hidden--visually\" id=\"sk-estimator-id-18\" type=\"checkbox\" ><label for=\"sk-estimator-id-18\" class=\"sk-toggleable__label sk-toggleable__label-arrow\">estimator: Pipeline</label><div class=\"sk-toggleable__content\"><pre>Pipeline(steps=[(&#x27;scaler&#x27;, StandardScaler()),\n",
       "                (&#x27;model&#x27;, ElasticNet(random_state=12345))])</pre></div></div></div><div class=\"sk-serial\"><div class=\"sk-item\"><div class=\"sk-serial\"><div class=\"sk-item\"><div class=\"sk-estimator sk-toggleable\"><input class=\"sk-toggleable__control sk-hidden--visually\" id=\"sk-estimator-id-19\" type=\"checkbox\" ><label for=\"sk-estimator-id-19\" class=\"sk-toggleable__label sk-toggleable__label-arrow\">StandardScaler</label><div class=\"sk-toggleable__content\"><pre>StandardScaler()</pre></div></div></div><div class=\"sk-item\"><div class=\"sk-estimator sk-toggleable\"><input class=\"sk-toggleable__control sk-hidden--visually\" id=\"sk-estimator-id-20\" type=\"checkbox\" ><label for=\"sk-estimator-id-20\" class=\"sk-toggleable__label sk-toggleable__label-arrow\">ElasticNet</label><div class=\"sk-toggleable__content\"><pre>ElasticNet(random_state=12345)</pre></div></div></div></div></div></div></div></div></div></div></div></div>"
      ],
      "text/plain": [
       "GridSearchCV(cv=TimeSeriesSplit(gap=0, max_train_size=None, n_splits=8, test_size=None),\n",
       "             estimator=Pipeline(steps=[('scaler', StandardScaler()),\n",
       "                                       ('model',\n",
       "                                        ElasticNet(random_state=12345))]),\n",
       "             n_jobs=-1,\n",
       "             param_grid=[{'model': [ElasticNet(alpha=0.01, l1_ratio=1.0,\n",
       "                                               random_state=12345)],\n",
       "                          'model__alpha': [0.01], 'model__l1_ratio': [1.0]}],\n",
       "             scoring=make_scorer(rmse, greater_is_better=False), verbose=2)"
      ]
     },
     "execution_count": 59,
     "metadata": {},
     "output_type": "execute_result"
    }
   ],
   "source": [
    "pipe_elastic = Pipeline([\n",
    "    ('scaler', scaler),\n",
    "    ('model', ElasticNet(random_state=state, max_iter=1000))\n",
    "\n",
    "])\n",
    "\n",
    "params_elastic = [\n",
    "    {\n",
    "        'model': [ElasticNet(random_state=state, max_iter=1000)],\n",
    "#         'model__alpha': [0.01, 0.1, 0.5, 1, 5, 10, 20, 40], # параметры при подборе\n",
    "        'model__alpha': [0.01], # параметры после подбора\n",
    "#         'model__l1_ratio': np.logspace(-5, 0, 15), # параметры при подборе\n",
    "        'model__l1_ratio': [1.0], # параметры после подбора\n",
    "    },\n",
    "]\n",
    "\n",
    "grid_elastic = GridSearchCV(pipe_elastic, param_grid=params_elastic, cv=tscv, n_jobs=-1, scoring=rmse_score, verbose=2)\n",
    "\n",
    "grid_elastic.fit(features_train_valid, target_train_valid)"
   ]
  },
  {
   "cell_type": "code",
   "execution_count": 60,
   "metadata": {
    "scrolled": false
   },
   "outputs": [
    {
     "name": "stdout",
     "output_type": "stream",
     "text": [
      "Best Params: {'model': ElasticNet(alpha=0.01, l1_ratio=1.0, random_state=12345), 'model__alpha': 0.01, 'model__l1_ratio': 1.0}\n",
      "\n",
      "Best RMSE Score: 24.982829864382555\n"
     ]
    }
   ],
   "source": [
    "elastic_rmse = -grid_elastic.best_score_\n",
    "print('Best Params:', grid_elastic.best_params_)\n",
    "print()\n",
    "print('Best RMSE Score:', elastic_rmse)"
   ]
  },
  {
   "cell_type": "markdown",
   "metadata": {},
   "source": [
    "- Модель показала лучшую метрику качестве при L1-регуляризации, а так как у нас уже есть такая модель - Lasso, поэтому использовать модель ElasticNet нет особого смысла. "
   ]
  },
  {
   "cell_type": "markdown",
   "metadata": {},
   "source": [
    "### Сопоставление реальных значений заказанных такси и предсказаний моделей"
   ]
  },
  {
   "cell_type": "markdown",
   "metadata": {},
   "source": [
    "Теперь посмотрим на графике, как справились с предсказаниями модели Lasso, Ridge и остальные."
   ]
  },
  {
   "cell_type": "code",
   "execution_count": 61,
   "metadata": {
    "scrolled": false
   },
   "outputs": [
    {
     "name": "stdout",
     "output_type": "stream",
     "text": [
      "Данные в валидационном наборе от 2018-07-11 17:00:00 до 2018-08-13 15:00:00\n"
     ]
    }
   ],
   "source": [
    "print(f'Данные в валидационном наборе от {target_valid.index.min()} до {target_valid.index.max()}')"
   ]
  },
  {
   "cell_type": "code",
   "execution_count": 62,
   "metadata": {},
   "outputs": [],
   "source": [
    "lasso_predicts = pd.Series(lasso_predicts, index=features_valid.index)\n",
    "ridge_predicts = pd.Series(ridge_predicts, index=features_valid.index)\n",
    "forest_predicts = pd.Series(forest_predicts, index=features_valid.index)\n",
    "light_predicts = pd.Series(light_predicts, index=features_valid.index)"
   ]
  },
  {
   "cell_type": "code",
   "execution_count": 63,
   "metadata": {},
   "outputs": [
    {
     "data": {
      "image/png": "[encoded data removed]",
      "text/plain": [
       "<Figure size 1008x288 with 1 Axes>"
      ]
     },
     "metadata": {
      "needs_background": "light"
     },
     "output_type": "display_data"
    },
    {
     "data": {
      "image/png": "[encoded data removed]",
      "text/plain": [
       "<Figure size 1008x288 with 1 Axes>"
      ]
     },
     "metadata": {
      "needs_background": "light"
     },
     "output_type": "display_data"
    }
   ],
   "source": [
    "FG = (14, 4)\n",
    "DATA_1 = '2018-07-11'\n",
    "DATA_2 = '2018-07-14'\n",
    "\n",
    "target_valid[DATA_1:DATA_2].plot(figsize=FG, label='target')\n",
    "lasso_predicts[DATA_1:DATA_2].plot(figsize=FG, label='lasso')\n",
    "ridge_predicts[DATA_1:DATA_2].plot(figsize=FG, label='ridge')\n",
    "\n",
    "plt.ylabel('Количество такси')\n",
    "plt.xlabel('Дата и время заказа')\n",
    "plt.legend()\n",
    "plt.title('Сопоставление предсказаний моделей и реальных значений заказанных такси')\n",
    "plt.show()\n",
    "\n",
    "target_valid[DATA_1:DATA_2].plot(figsize=FG, label='target')\n",
    "forest_predicts[DATA_1:DATA_2].plot(figsize=FG, label='random forest')\n",
    "light_predicts[DATA_1:DATA_2].plot(figsize=FG, label='gradient boosting')\n",
    "\n",
    "plt.ylabel('Количество такси')\n",
    "plt.xlabel('Дата и время заказа')\n",
    "plt.legend()\n",
    "plt.show()"
   ]
  },
  {
   "cell_type": "markdown",
   "metadata": {},
   "source": [
    "- Видим, что **предсказания линейных моделей сливаются в единую линию** и они **склонны занижать пиковые значения** - в целом предскажут неплохо, но если ожидается всплеск заказов - предскажут ниже реальных значений.\n",
    "\n",
    "\n",
    "- Модель **случайного леса** в целом неплохо справляется **с предсказаниями понижений спроса** на такси, однако все всплески заказов она занижает гораздо сильнее остальных моделей. \n",
    "\n",
    "\n",
    "- Модель **градиентного бустинга неплохо повторяет форму распределения спроса** на такси. Однако так же склонна занижать повышенный спрос заказов. Так же ее метрика качества оказалась хуже линейных моделей. "
   ]
  },
  {
   "cell_type": "markdown",
   "metadata": {},
   "source": [
    "Таким образом, для тестирования выбираем модель линейной регрессии Lasso."
   ]
  },
  {
   "cell_type": "markdown",
   "metadata": {},
   "source": [
    "## Тестирование"
   ]
  },
  {
   "cell_type": "markdown",
   "metadata": {},
   "source": [
    "Обучим модель градиентного бустинга на `тренировочной + обучающая` выборках и проверим на `тестировочной`."
   ]
  },
  {
   "cell_type": "code",
   "execution_count": 64,
   "metadata": {},
   "outputs": [
    {
     "name": "stdout",
     "output_type": "stream",
     "text": [
      "Финальное значение RMSE для модели Lasso 31 такси\n"
     ]
    }
   ],
   "source": [
    "lasso_model.fit(features_train_valid, target_train_valid)\n",
    "lasso_predicts_final = lasso_model.predict(features_test)\n",
    "rmse_lasso_final = rmse(target_test, lasso_predicts_final)\n",
    "print(f'Финальное значение RMSE для модели Lasso {rmse_lasso:.0f} такси')"
   ]
  },
  {
   "cell_type": "markdown",
   "metadata": {},
   "source": [
    "**Вывод**\n",
    "\n",
    "Компания «Чётенькое такси» решила привлекать больше водителей в период пиковой нагрузки и предоставила исторические данные о заказах такси в аэропортах. В рамках данного исследования нам было поручено спрогнозировать количество заказов такси на следующий час с условием, что значение метрики `RMSE` на тестовой выборке должно быть **не больше 48**.\n",
    "\n",
    "Мы обучили четыре модели: \n",
    "- модели линейной регрессии:\n",
    "    - Lasso\n",
    "    - Ridge\n",
    "    - ElasticNet\n",
    "- модель случайного леса\n",
    "- модель градиентного бустинга\n",
    "\n",
    "По значению `RMSE` на валидационной выборке и по графику предсказаний модели и реальных данных для финального тестирования была предложена **модель линейной регрессии Lasso**. \n",
    "\n",
    "**На финальном тестировании модель Lasso показала значения `RMSE` 31 такси**, что полностью удовлетворяет условиям исследования."
   ]
  }
 ],
 "metadata": {
  "ExecuteTimeLog": [
   {
    "duration": 3928,
    "start_time": "2022-04-20T12:10:41.895Z"
   },
   {
    "duration": 4,
    "start_time": "2022-04-20T12:12:22.837Z"
   },
   {
    "duration": 5,
    "start_time": "2022-04-20T12:15:42.874Z"
   },
   {
    "duration": 51,
    "start_time": "2022-04-20T12:16:46.752Z"
   },
   {
    "duration": 16,
    "start_time": "2022-04-20T12:17:06.811Z"
   },
   {
    "duration": 46,
    "start_time": "2022-04-20T12:17:35.149Z"
   },
   {
    "duration": 18,
    "start_time": "2022-04-20T12:17:38.482Z"
   },
   {
    "duration": 12,
    "start_time": "2022-04-20T12:17:49.691Z"
   },
   {
    "duration": 20,
    "start_time": "2022-04-20T12:17:56.481Z"
   },
   {
    "duration": 70,
    "start_time": "2022-04-20T12:20:18.951Z"
   },
   {
    "duration": 42,
    "start_time": "2022-04-20T12:20:24.996Z"
   },
   {
    "duration": 13,
    "start_time": "2022-04-20T12:20:26.479Z"
   },
   {
    "duration": 16,
    "start_time": "2022-04-20T12:20:30.320Z"
   },
   {
    "duration": 63,
    "start_time": "2022-04-20T12:20:42.917Z"
   },
   {
    "duration": 10,
    "start_time": "2022-04-20T12:20:45.189Z"
   },
   {
    "duration": 13,
    "start_time": "2022-04-20T12:20:48.700Z"
   },
   {
    "duration": 39,
    "start_time": "2022-04-20T12:21:27.887Z"
   },
   {
    "duration": 20,
    "start_time": "2022-04-20T12:21:29.459Z"
   },
   {
    "duration": 27,
    "start_time": "2022-04-20T12:21:31.259Z"
   },
   {
    "duration": 67,
    "start_time": "2022-04-20T12:22:05.222Z"
   },
   {
    "duration": 10,
    "start_time": "2022-04-20T12:22:06.847Z"
   },
   {
    "duration": 15,
    "start_time": "2022-04-20T12:22:08.127Z"
   },
   {
    "duration": 9,
    "start_time": "2022-04-20T12:26:40.482Z"
   },
   {
    "duration": 5,
    "start_time": "2022-04-20T12:28:13.885Z"
   },
   {
    "duration": 5,
    "start_time": "2022-04-20T12:28:34.842Z"
   },
   {
    "duration": 23,
    "start_time": "2022-04-20T12:41:44.525Z"
   },
   {
    "duration": 238,
    "start_time": "2022-04-20T12:41:52.722Z"
   },
   {
    "duration": 25,
    "start_time": "2022-04-20T12:42:01.237Z"
   },
   {
    "duration": 1276,
    "start_time": "2022-04-20T12:42:22.884Z"
   },
   {
    "duration": 15,
    "start_time": "2022-04-20T12:42:55.292Z"
   },
   {
    "duration": 9,
    "start_time": "2022-04-20T12:44:04.676Z"
   },
   {
    "duration": 1365,
    "start_time": "2022-04-20T12:47:50.611Z"
   },
   {
    "duration": 47,
    "start_time": "2022-04-20T12:48:00.096Z"
   },
   {
    "duration": 1591,
    "start_time": "2022-04-20T12:48:07.153Z"
   },
   {
    "duration": 1172,
    "start_time": "2022-04-20T12:49:11.280Z"
   },
   {
    "duration": 6,
    "start_time": "2022-04-20T12:50:03.914Z"
   },
   {
    "duration": 1117,
    "start_time": "2022-04-20T12:50:09.273Z"
   },
   {
    "duration": 896,
    "start_time": "2022-04-20T12:50:18.037Z"
   },
   {
    "duration": 941,
    "start_time": "2022-04-20T12:50:22.751Z"
   },
   {
    "duration": 492,
    "start_time": "2022-04-20T13:34:46.607Z"
   },
   {
    "duration": 315,
    "start_time": "2022-04-20T13:35:11.292Z"
   },
   {
    "duration": 710,
    "start_time": "2022-04-20T13:35:20.824Z"
   },
   {
    "duration": 431,
    "start_time": "2022-04-20T13:35:28.707Z"
   },
   {
    "duration": 10,
    "start_time": "2022-04-20T13:35:40.801Z"
   },
   {
    "duration": 473,
    "start_time": "2022-04-20T13:35:44.703Z"
   },
   {
    "duration": 802,
    "start_time": "2022-04-20T13:36:23.924Z"
   },
   {
    "duration": 646,
    "start_time": "2022-04-20T13:36:42.037Z"
   },
   {
    "duration": 716,
    "start_time": "2022-04-20T13:36:57.740Z"
   },
   {
    "duration": 818,
    "start_time": "2022-04-20T13:37:05.033Z"
   },
   {
    "duration": 625,
    "start_time": "2022-04-20T13:37:12.317Z"
   },
   {
    "duration": 392,
    "start_time": "2022-04-20T13:37:31.097Z"
   },
   {
    "duration": 715,
    "start_time": "2022-04-20T13:37:36.378Z"
   },
   {
    "duration": 338,
    "start_time": "2022-04-20T13:38:12.330Z"
   },
   {
    "duration": 11,
    "start_time": "2022-04-20T13:38:23.007Z"
   },
   {
    "duration": 669,
    "start_time": "2022-04-20T13:38:32.405Z"
   },
   {
    "duration": 1419,
    "start_time": "2022-04-20T13:39:16.002Z"
   },
   {
    "duration": 1262,
    "start_time": "2022-04-20T13:39:23.295Z"
   },
   {
    "duration": 1020,
    "start_time": "2022-04-20T13:39:51.451Z"
   },
   {
    "duration": 1276,
    "start_time": "2022-04-20T13:39:58.658Z"
   },
   {
    "duration": 1822,
    "start_time": "2022-04-20T13:40:17.412Z"
   },
   {
    "duration": 1060,
    "start_time": "2022-04-20T13:40:43.087Z"
   },
   {
    "duration": 21,
    "start_time": "2022-04-20T13:41:01.223Z"
   },
   {
    "duration": 1851,
    "start_time": "2022-04-20T13:42:47.184Z"
   },
   {
    "duration": 1903,
    "start_time": "2022-04-20T13:43:07.304Z"
   },
   {
    "duration": 2045,
    "start_time": "2022-04-20T13:43:25.188Z"
   },
   {
    "duration": 2327,
    "start_time": "2022-04-20T13:43:35.139Z"
   },
   {
    "duration": 1940,
    "start_time": "2022-04-20T13:45:39.146Z"
   },
   {
    "duration": 2004,
    "start_time": "2022-04-20T13:45:51.175Z"
   },
   {
    "duration": 2580,
    "start_time": "2022-04-20T13:48:06.336Z"
   },
   {
    "duration": 1878,
    "start_time": "2022-04-20T13:51:12.377Z"
   },
   {
    "duration": 1696,
    "start_time": "2022-04-20T13:51:19.649Z"
   },
   {
    "duration": 1820,
    "start_time": "2022-04-20T13:51:32.046Z"
   },
   {
    "duration": 1971,
    "start_time": "2022-04-20T13:51:46.243Z"
   },
   {
    "duration": 9,
    "start_time": "2022-04-20T14:07:01.247Z"
   },
   {
    "duration": 1837,
    "start_time": "2022-04-20T14:07:04.325Z"
   },
   {
    "duration": 31,
    "start_time": "2022-04-20T14:07:44.079Z"
   },
   {
    "duration": 3470,
    "start_time": "2022-04-20T14:08:25.187Z"
   },
   {
    "duration": 27,
    "start_time": "2022-04-20T14:08:49.613Z"
   },
   {
    "duration": 1867,
    "start_time": "2022-04-20T14:08:55.125Z"
   },
   {
    "duration": 3517,
    "start_time": "2022-04-20T14:10:48.732Z"
   },
   {
    "duration": 4497,
    "start_time": "2022-04-20T14:11:21.117Z"
   },
   {
    "duration": 3795,
    "start_time": "2022-04-20T14:11:45.922Z"
   },
   {
    "duration": 3356,
    "start_time": "2022-04-20T14:11:53.703Z"
   },
   {
    "duration": 210,
    "start_time": "2022-04-20T14:14:19.703Z"
   },
   {
    "duration": 216,
    "start_time": "2022-04-20T14:14:28.132Z"
   },
   {
    "duration": 73,
    "start_time": "2022-04-20T14:14:43.479Z"
   },
   {
    "duration": 44,
    "start_time": "2022-04-20T14:14:51.980Z"
   },
   {
    "duration": 3501,
    "start_time": "2022-04-20T14:15:00.666Z"
   },
   {
    "duration": 3939,
    "start_time": "2022-04-20T14:15:11.547Z"
   },
   {
    "duration": 3584,
    "start_time": "2022-04-20T14:15:34.200Z"
   },
   {
    "duration": 3367,
    "start_time": "2022-04-20T14:16:15.050Z"
   },
   {
    "duration": 2837,
    "start_time": "2022-04-20T14:16:57.941Z"
   },
   {
    "duration": 4,
    "start_time": "2022-04-20T14:17:00.782Z"
   },
   {
    "duration": 136,
    "start_time": "2022-04-20T14:17:00.789Z"
   },
   {
    "duration": 41,
    "start_time": "2022-04-20T14:17:00.929Z"
   },
   {
    "duration": 93,
    "start_time": "2022-04-20T14:17:00.973Z"
   },
   {
    "duration": 77,
    "start_time": "2022-04-20T14:17:01.070Z"
   },
   {
    "duration": 86,
    "start_time": "2022-04-20T14:17:01.150Z"
   },
   {
    "duration": 27,
    "start_time": "2022-04-20T14:17:01.239Z"
   },
   {
    "duration": 3581,
    "start_time": "2022-04-20T14:17:01.271Z"
   },
   {
    "duration": 0,
    "start_time": "2022-04-20T14:17:04.855Z"
   },
   {
    "duration": 0,
    "start_time": "2022-04-20T14:17:04.857Z"
   },
   {
    "duration": 4223,
    "start_time": "2022-04-20T14:17:38.016Z"
   },
   {
    "duration": 27,
    "start_time": "2022-04-20T14:18:31.052Z"
   },
   {
    "duration": 9,
    "start_time": "2022-04-20T14:19:05.427Z"
   },
   {
    "duration": 42,
    "start_time": "2022-04-20T14:19:08.602Z"
   },
   {
    "duration": 2370,
    "start_time": "2022-04-20T14:19:22.866Z"
   },
   {
    "duration": 6,
    "start_time": "2022-04-20T14:22:08.422Z"
   },
   {
    "duration": 19,
    "start_time": "2022-04-20T14:22:11.027Z"
   },
   {
    "duration": 2125,
    "start_time": "2022-04-20T14:22:13.514Z"
   },
   {
    "duration": 6,
    "start_time": "2022-04-20T14:22:54.847Z"
   },
   {
    "duration": 25,
    "start_time": "2022-04-20T14:22:58.339Z"
   },
   {
    "duration": 1888,
    "start_time": "2022-04-20T14:23:00.820Z"
   },
   {
    "duration": 6,
    "start_time": "2022-04-20T14:23:15.945Z"
   },
   {
    "duration": 23,
    "start_time": "2022-04-20T14:23:19.314Z"
   },
   {
    "duration": 1868,
    "start_time": "2022-04-20T14:23:21.342Z"
   },
   {
    "duration": 2139,
    "start_time": "2022-04-20T14:23:58.304Z"
   },
   {
    "duration": 1730,
    "start_time": "2022-04-20T14:24:27.157Z"
   },
   {
    "duration": 1649,
    "start_time": "2022-04-20T14:24:37.978Z"
   },
   {
    "duration": 1798,
    "start_time": "2022-04-20T14:28:21.295Z"
   },
   {
    "duration": 1617,
    "start_time": "2022-04-20T14:29:55.883Z"
   },
   {
    "duration": 2051,
    "start_time": "2022-04-20T14:30:09.063Z"
   },
   {
    "duration": 2556,
    "start_time": "2022-04-20T14:30:29.815Z"
   },
   {
    "duration": 4,
    "start_time": "2022-04-20T14:30:32.376Z"
   },
   {
    "duration": 140,
    "start_time": "2022-04-20T14:30:32.383Z"
   },
   {
    "duration": 25,
    "start_time": "2022-04-20T14:30:32.536Z"
   },
   {
    "duration": 94,
    "start_time": "2022-04-20T14:30:32.568Z"
   },
   {
    "duration": 25,
    "start_time": "2022-04-20T14:30:32.668Z"
   },
   {
    "duration": 29,
    "start_time": "2022-04-20T14:30:32.695Z"
   },
   {
    "duration": 16,
    "start_time": "2022-04-20T14:30:32.727Z"
   },
   {
    "duration": 1898,
    "start_time": "2022-04-20T14:30:32.746Z"
   },
   {
    "duration": 2309,
    "start_time": "2022-04-20T14:30:47.371Z"
   },
   {
    "duration": 18,
    "start_time": "2022-04-20T14:31:50.900Z"
   },
   {
    "duration": 1974,
    "start_time": "2022-04-20T14:32:18.223Z"
   },
   {
    "duration": 2073,
    "start_time": "2022-04-20T14:32:42.149Z"
   },
   {
    "duration": 1807,
    "start_time": "2022-04-20T14:33:10.391Z"
   },
   {
    "duration": 1940,
    "start_time": "2022-04-20T14:33:38.688Z"
   },
   {
    "duration": 2005,
    "start_time": "2022-04-20T14:34:04.188Z"
   },
   {
    "duration": 2108,
    "start_time": "2022-04-20T14:34:33.940Z"
   },
   {
    "duration": 267,
    "start_time": "2022-04-20T14:39:35.494Z"
   },
   {
    "duration": 16,
    "start_time": "2022-04-20T14:39:40.977Z"
   },
   {
    "duration": 398,
    "start_time": "2022-04-20T14:40:01.923Z"
   },
   {
    "duration": 372,
    "start_time": "2022-04-20T14:40:25.814Z"
   },
   {
    "duration": 569,
    "start_time": "2022-04-20T14:40:35.579Z"
   },
   {
    "duration": 445,
    "start_time": "2022-04-20T14:40:40.825Z"
   },
   {
    "duration": 813,
    "start_time": "2022-04-20T14:40:55.642Z"
   },
   {
    "duration": 14,
    "start_time": "2022-04-20T14:41:23.135Z"
   },
   {
    "duration": 377,
    "start_time": "2022-04-20T14:41:32.812Z"
   },
   {
    "duration": 281,
    "start_time": "2022-04-20T14:41:50.132Z"
   },
   {
    "duration": 425,
    "start_time": "2022-04-20T14:42:41.447Z"
   },
   {
    "duration": 323,
    "start_time": "2022-04-20T14:43:04.893Z"
   },
   {
    "duration": 315,
    "start_time": "2022-04-20T14:55:00.811Z"
   },
   {
    "duration": 559,
    "start_time": "2022-04-20T14:55:22.733Z"
   },
   {
    "duration": 865,
    "start_time": "2022-04-20T14:55:34.071Z"
   },
   {
    "duration": 801,
    "start_time": "2022-04-20T14:57:41.887Z"
   },
   {
    "duration": 1285,
    "start_time": "2022-04-20T14:57:59.453Z"
   },
   {
    "duration": 185,
    "start_time": "2022-04-20T14:58:38.434Z"
   },
   {
    "duration": 1233,
    "start_time": "2022-04-20T14:58:45.979Z"
   },
   {
    "duration": 61,
    "start_time": "2022-04-20T14:59:00.124Z"
   },
   {
    "duration": 34,
    "start_time": "2022-04-20T14:59:06.556Z"
   },
   {
    "duration": 29,
    "start_time": "2022-04-20T14:59:26.261Z"
   },
   {
    "duration": 2396,
    "start_time": "2022-04-20T14:59:50.062Z"
   },
   {
    "duration": 4,
    "start_time": "2022-04-20T14:59:52.463Z"
   },
   {
    "duration": 70,
    "start_time": "2022-04-20T14:59:52.470Z"
   },
   {
    "duration": 19,
    "start_time": "2022-04-20T14:59:52.544Z"
   },
   {
    "duration": 55,
    "start_time": "2022-04-20T14:59:52.566Z"
   },
   {
    "duration": 7,
    "start_time": "2022-04-20T14:59:52.625Z"
   },
   {
    "duration": 6,
    "start_time": "2022-04-20T14:59:52.634Z"
   },
   {
    "duration": 16,
    "start_time": "2022-04-20T14:59:52.642Z"
   },
   {
    "duration": 24,
    "start_time": "2022-04-20T14:59:52.667Z"
   },
   {
    "duration": 201,
    "start_time": "2022-04-20T14:59:52.696Z"
   },
   {
    "duration": 5,
    "start_time": "2022-04-20T15:00:10.952Z"
   },
   {
    "duration": 17,
    "start_time": "2022-04-20T15:00:16.075Z"
   },
   {
    "duration": 1084,
    "start_time": "2022-04-20T15:00:18.147Z"
   },
   {
    "duration": 1901,
    "start_time": "2022-04-20T15:06:55.207Z"
   },
   {
    "duration": 1439,
    "start_time": "2022-04-20T15:07:47.136Z"
   },
   {
    "duration": 1345,
    "start_time": "2022-04-20T15:08:02.379Z"
   },
   {
    "duration": 2880,
    "start_time": "2022-04-21T08:20:27.413Z"
   },
   {
    "duration": 4,
    "start_time": "2022-04-21T08:20:30.296Z"
   },
   {
    "duration": 58,
    "start_time": "2022-04-21T08:20:30.302Z"
   },
   {
    "duration": 30,
    "start_time": "2022-04-21T08:20:30.363Z"
   },
   {
    "duration": 21,
    "start_time": "2022-04-21T08:20:30.396Z"
   },
   {
    "duration": 10,
    "start_time": "2022-04-21T08:20:30.420Z"
   },
   {
    "duration": 6,
    "start_time": "2022-04-21T08:20:30.433Z"
   },
   {
    "duration": 52,
    "start_time": "2022-04-21T08:20:30.441Z"
   },
   {
    "duration": 3,
    "start_time": "2022-04-21T08:20:30.496Z"
   },
   {
    "duration": 1739,
    "start_time": "2022-04-21T08:20:30.504Z"
   },
   {
    "duration": 11,
    "start_time": "2022-04-21T08:20:32.245Z"
   },
   {
    "duration": 1115,
    "start_time": "2022-04-21T08:20:32.258Z"
   },
   {
    "duration": 177,
    "start_time": "2022-04-21T08:20:47.965Z"
   },
   {
    "duration": 13,
    "start_time": "2022-04-21T08:21:08.625Z"
   },
   {
    "duration": 1071,
    "start_time": "2022-04-21T08:22:20.563Z"
   },
   {
    "duration": 57,
    "start_time": "2022-04-21T08:22:28.299Z"
   },
   {
    "duration": 3147,
    "start_time": "2022-04-21T08:23:48.278Z"
   },
   {
    "duration": 5,
    "start_time": "2022-04-21T08:24:16.422Z"
   },
   {
    "duration": 4079,
    "start_time": "2022-04-21T08:24:24.785Z"
   },
   {
    "duration": 3477,
    "start_time": "2022-04-21T08:25:16.388Z"
   },
   {
    "duration": 4126,
    "start_time": "2022-04-21T08:25:29.452Z"
   },
   {
    "duration": 3440,
    "start_time": "2022-04-21T08:25:43.726Z"
   },
   {
    "duration": 3501,
    "start_time": "2022-04-21T08:25:56.663Z"
   },
   {
    "duration": 9,
    "start_time": "2022-04-21T09:24:09.499Z"
   },
   {
    "duration": 7445,
    "start_time": "2022-04-21T09:34:44.048Z"
   },
   {
    "duration": 4,
    "start_time": "2022-04-21T12:30:32.078Z"
   },
   {
    "duration": 21,
    "start_time": "2022-04-21T13:58:59.014Z"
   },
   {
    "duration": 13753,
    "start_time": "2022-04-21T13:59:21.026Z"
   },
   {
    "duration": 11575,
    "start_time": "2022-04-21T13:59:51.317Z"
   },
   {
    "duration": 33,
    "start_time": "2022-04-21T14:00:33.347Z"
   },
   {
    "duration": 5168,
    "start_time": "2022-04-21T14:00:47.766Z"
   },
   {
    "duration": 24,
    "start_time": "2022-04-21T14:01:00.115Z"
   },
   {
    "duration": 5417,
    "start_time": "2022-04-21T14:03:31.263Z"
   },
   {
    "duration": 6839,
    "start_time": "2022-04-21T14:03:36.683Z"
   },
   {
    "duration": 4,
    "start_time": "2022-04-21T14:03:43.525Z"
   },
   {
    "duration": 170,
    "start_time": "2022-04-21T14:03:43.534Z"
   },
   {
    "duration": 21,
    "start_time": "2022-04-21T14:03:43.709Z"
   },
   {
    "duration": 23,
    "start_time": "2022-04-21T14:03:43.733Z"
   },
   {
    "duration": 7,
    "start_time": "2022-04-21T14:03:43.759Z"
   },
   {
    "duration": 27,
    "start_time": "2022-04-21T14:03:43.768Z"
   },
   {
    "duration": 13,
    "start_time": "2022-04-21T14:03:43.808Z"
   },
   {
    "duration": 4,
    "start_time": "2022-04-21T14:03:43.826Z"
   },
   {
    "duration": 1872,
    "start_time": "2022-04-21T14:03:43.832Z"
   },
   {
    "duration": 12,
    "start_time": "2022-04-21T14:03:45.707Z"
   },
   {
    "duration": 1142,
    "start_time": "2022-04-21T14:03:45.722Z"
   },
   {
    "duration": 12,
    "start_time": "2022-04-21T14:03:46.867Z"
   },
   {
    "duration": 6459,
    "start_time": "2022-04-21T14:03:46.881Z"
   },
   {
    "duration": 5,
    "start_time": "2022-04-21T14:03:53.342Z"
   },
   {
    "duration": 0,
    "start_time": "2022-04-22T20:33:27.859Z"
   },
   {
    "duration": 104012,
    "start_time": "2022-04-22T20:35:25.394Z"
   },
   {
    "duration": 3,
    "start_time": "2022-04-22T20:37:09.412Z"
   },
   {
    "duration": 2,
    "start_time": "2022-04-22T20:37:14.180Z"
   },
   {
    "duration": 105071,
    "start_time": "2022-04-22T20:37:17.619Z"
   },
   {
    "duration": 105035,
    "start_time": "2022-04-22T20:44:59.593Z"
   },
   {
    "duration": 1377,
    "start_time": "2022-04-22T20:46:44.630Z"
   },
   {
    "duration": 0,
    "start_time": "2022-04-22T20:46:46.009Z"
   },
   {
    "duration": 0,
    "start_time": "2022-04-22T20:46:46.010Z"
   },
   {
    "duration": 0,
    "start_time": "2022-04-22T20:46:46.012Z"
   },
   {
    "duration": 0,
    "start_time": "2022-04-22T20:46:46.012Z"
   },
   {
    "duration": 0,
    "start_time": "2022-04-22T20:46:46.013Z"
   },
   {
    "duration": 0,
    "start_time": "2022-04-22T20:46:46.014Z"
   },
   {
    "duration": 0,
    "start_time": "2022-04-22T20:46:46.015Z"
   },
   {
    "duration": 0,
    "start_time": "2022-04-22T20:46:46.016Z"
   },
   {
    "duration": 0,
    "start_time": "2022-04-22T20:46:46.017Z"
   },
   {
    "duration": 0,
    "start_time": "2022-04-22T20:46:46.018Z"
   },
   {
    "duration": 0,
    "start_time": "2022-04-22T20:46:46.019Z"
   },
   {
    "duration": 0,
    "start_time": "2022-04-22T20:46:46.020Z"
   },
   {
    "duration": 0,
    "start_time": "2022-04-22T20:46:46.021Z"
   },
   {
    "duration": 0,
    "start_time": "2022-04-22T20:46:46.022Z"
   },
   {
    "duration": 0,
    "start_time": "2022-04-22T20:46:46.023Z"
   },
   {
    "duration": 0,
    "start_time": "2022-04-22T20:46:46.024Z"
   },
   {
    "duration": 38824,
    "start_time": "2022-04-22T20:57:41.397Z"
   },
   {
    "duration": 42499,
    "start_time": "2022-04-22T20:58:31.058Z"
   },
   {
    "duration": 19,
    "start_time": "2022-04-22T21:00:36.019Z"
   },
   {
    "duration": 12,
    "start_time": "2022-04-22T21:00:39.804Z"
   },
   {
    "duration": 9479,
    "start_time": "2022-04-22T21:02:41.161Z"
   },
   {
    "duration": 32,
    "start_time": "2022-04-22T21:02:57.791Z"
   },
   {
    "duration": 22,
    "start_time": "2022-04-22T21:02:59.324Z"
   },
   {
    "duration": 21,
    "start_time": "2022-04-22T21:02:59.542Z"
   },
   {
    "duration": 36,
    "start_time": "2022-04-22T21:02:59.796Z"
   },
   {
    "duration": 16403,
    "start_time": "2022-04-22T21:03:13.808Z"
   },
   {
    "duration": 22789,
    "start_time": "2022-04-22T21:03:30.221Z"
   },
   {
    "duration": 4,
    "start_time": "2022-04-22T21:03:53.012Z"
   },
   {
    "duration": 66,
    "start_time": "2022-04-22T21:03:53.019Z"
   },
   {
    "duration": 14,
    "start_time": "2022-04-22T21:03:53.087Z"
   },
   {
    "duration": 12,
    "start_time": "2022-04-22T21:03:53.103Z"
   },
   {
    "duration": 8,
    "start_time": "2022-04-22T21:03:53.117Z"
   },
   {
    "duration": 11,
    "start_time": "2022-04-22T21:03:53.127Z"
   },
   {
    "duration": 20,
    "start_time": "2022-04-22T21:03:53.140Z"
   },
   {
    "duration": 3,
    "start_time": "2022-04-22T21:03:53.174Z"
   },
   {
    "duration": 1103,
    "start_time": "2022-04-22T21:03:53.179Z"
   },
   {
    "duration": 8,
    "start_time": "2022-04-22T21:03:54.284Z"
   },
   {
    "duration": 804,
    "start_time": "2022-04-22T21:03:54.294Z"
   },
   {
    "duration": 8,
    "start_time": "2022-04-22T21:03:55.100Z"
   },
   {
    "duration": 3168,
    "start_time": "2022-04-22T21:03:55.110Z"
   },
   {
    "duration": 178,
    "start_time": "2022-04-22T21:03:58.280Z"
   },
   {
    "duration": 0,
    "start_time": "2022-04-22T21:03:58.460Z"
   },
   {
    "duration": 8,
    "start_time": "2022-04-22T21:05:11.208Z"
   },
   {
    "duration": 7,
    "start_time": "2022-04-22T21:05:47.046Z"
   },
   {
    "duration": 29,
    "start_time": "2022-04-22T21:05:54.482Z"
   },
   {
    "duration": 18,
    "start_time": "2022-04-22T21:06:05.343Z"
   },
   {
    "duration": 17,
    "start_time": "2022-04-22T21:07:22.433Z"
   },
   {
    "duration": 17,
    "start_time": "2022-04-22T21:08:25.991Z"
   },
   {
    "duration": 4,
    "start_time": "2022-04-22T21:33:40.240Z"
   },
   {
    "duration": 13,
    "start_time": "2022-04-22T21:37:15.435Z"
   },
   {
    "duration": 1356,
    "start_time": "2022-04-22T21:37:24.913Z"
   },
   {
    "duration": 4,
    "start_time": "2022-04-22T21:38:36.820Z"
   },
   {
    "duration": 16,
    "start_time": "2022-04-22T21:38:38.753Z"
   },
   {
    "duration": 12,
    "start_time": "2022-04-22T21:40:39.205Z"
   },
   {
    "duration": 10,
    "start_time": "2022-04-22T21:41:12.370Z"
   },
   {
    "duration": 11,
    "start_time": "2022-04-22T21:41:20.218Z"
   },
   {
    "duration": 14,
    "start_time": "2022-04-22T21:41:49.430Z"
   },
   {
    "duration": 5,
    "start_time": "2022-04-22T21:42:06.526Z"
   },
   {
    "duration": 14492,
    "start_time": "2022-04-23T19:32:17.651Z"
   },
   {
    "duration": 2528,
    "start_time": "2022-04-23T19:32:32.146Z"
   },
   {
    "duration": 0,
    "start_time": "2022-04-23T19:32:34.678Z"
   },
   {
    "duration": 0,
    "start_time": "2022-04-23T19:32:34.680Z"
   },
   {
    "duration": 0,
    "start_time": "2022-04-23T19:32:34.693Z"
   },
   {
    "duration": 0,
    "start_time": "2022-04-23T19:32:34.695Z"
   },
   {
    "duration": 0,
    "start_time": "2022-04-23T19:32:34.697Z"
   },
   {
    "duration": 0,
    "start_time": "2022-04-23T19:32:34.699Z"
   },
   {
    "duration": 0,
    "start_time": "2022-04-23T19:32:34.701Z"
   },
   {
    "duration": 0,
    "start_time": "2022-04-23T19:32:34.704Z"
   },
   {
    "duration": 0,
    "start_time": "2022-04-23T19:32:34.706Z"
   },
   {
    "duration": 0,
    "start_time": "2022-04-23T19:32:34.708Z"
   },
   {
    "duration": 0,
    "start_time": "2022-04-23T19:32:34.710Z"
   },
   {
    "duration": 0,
    "start_time": "2022-04-23T19:32:34.713Z"
   },
   {
    "duration": 0,
    "start_time": "2022-04-23T19:32:34.714Z"
   },
   {
    "duration": 0,
    "start_time": "2022-04-23T19:32:34.717Z"
   },
   {
    "duration": 0,
    "start_time": "2022-04-23T19:32:34.719Z"
   },
   {
    "duration": 0,
    "start_time": "2022-04-23T19:32:34.721Z"
   },
   {
    "duration": 0,
    "start_time": "2022-04-23T19:32:34.723Z"
   },
   {
    "duration": 0,
    "start_time": "2022-04-23T19:32:34.725Z"
   },
   {
    "duration": 0,
    "start_time": "2022-04-23T19:32:34.727Z"
   },
   {
    "duration": 0,
    "start_time": "2022-04-23T19:32:34.792Z"
   },
   {
    "duration": 0,
    "start_time": "2022-04-23T19:32:34.794Z"
   },
   {
    "duration": 3522,
    "start_time": "2022-04-23T19:37:24.618Z"
   },
   {
    "duration": 3693,
    "start_time": "2022-04-23T19:37:28.143Z"
   },
   {
    "duration": 4,
    "start_time": "2022-04-23T19:37:31.839Z"
   },
   {
    "duration": 52,
    "start_time": "2022-04-23T19:37:31.846Z"
   },
   {
    "duration": 14,
    "start_time": "2022-04-23T19:37:31.900Z"
   },
   {
    "duration": 16,
    "start_time": "2022-04-23T19:37:31.916Z"
   },
   {
    "duration": 6,
    "start_time": "2022-04-23T19:37:31.934Z"
   },
   {
    "duration": 8,
    "start_time": "2022-04-23T19:37:31.942Z"
   },
   {
    "duration": 49,
    "start_time": "2022-04-23T19:37:31.952Z"
   },
   {
    "duration": 10,
    "start_time": "2022-04-23T19:37:32.004Z"
   },
   {
    "duration": 5,
    "start_time": "2022-04-23T19:37:32.016Z"
   },
   {
    "duration": 1365,
    "start_time": "2022-04-23T19:37:32.023Z"
   },
   {
    "duration": 11,
    "start_time": "2022-04-23T19:37:33.390Z"
   },
   {
    "duration": 1145,
    "start_time": "2022-04-23T19:37:33.403Z"
   },
   {
    "duration": 9,
    "start_time": "2022-04-23T19:37:34.550Z"
   },
   {
    "duration": 4054,
    "start_time": "2022-04-23T19:37:34.561Z"
   },
   {
    "duration": 9,
    "start_time": "2022-04-23T19:37:38.618Z"
   },
   {
    "duration": 8,
    "start_time": "2022-04-23T19:37:38.629Z"
   },
   {
    "duration": 29,
    "start_time": "2022-04-23T19:37:38.639Z"
   },
   {
    "duration": 33,
    "start_time": "2022-04-23T19:37:38.671Z"
   },
   {
    "duration": 256,
    "start_time": "2022-04-23T19:37:38.707Z"
   },
   {
    "duration": 0,
    "start_time": "2022-04-23T19:37:38.965Z"
   },
   {
    "duration": 0,
    "start_time": "2022-04-23T19:37:38.966Z"
   },
   {
    "duration": 6,
    "start_time": "2022-04-23T19:37:50.357Z"
   },
   {
    "duration": 41,
    "start_time": "2022-04-23T19:38:00.276Z"
   },
   {
    "duration": 37,
    "start_time": "2022-04-23T19:38:09.919Z"
   },
   {
    "duration": 8,
    "start_time": "2022-04-23T19:38:27.192Z"
   },
   {
    "duration": 17,
    "start_time": "2022-04-23T19:38:47.066Z"
   },
   {
    "duration": 4,
    "start_time": "2022-04-23T19:40:28.196Z"
   },
   {
    "duration": 16,
    "start_time": "2022-04-23T19:40:41.884Z"
   },
   {
    "duration": 13,
    "start_time": "2022-04-23T19:40:50.226Z"
   },
   {
    "duration": 3600,
    "start_time": "2022-04-23T19:41:00.465Z"
   },
   {
    "duration": 3400,
    "start_time": "2022-04-23T19:41:04.068Z"
   },
   {
    "duration": 4,
    "start_time": "2022-04-23T19:41:07.472Z"
   },
   {
    "duration": 49,
    "start_time": "2022-04-23T19:41:07.479Z"
   },
   {
    "duration": 17,
    "start_time": "2022-04-23T19:41:07.530Z"
   },
   {
    "duration": 14,
    "start_time": "2022-04-23T19:41:07.549Z"
   },
   {
    "duration": 32,
    "start_time": "2022-04-23T19:41:07.565Z"
   },
   {
    "duration": 6,
    "start_time": "2022-04-23T19:41:07.599Z"
   },
   {
    "duration": 14,
    "start_time": "2022-04-23T19:41:07.607Z"
   },
   {
    "duration": 9,
    "start_time": "2022-04-23T19:41:07.625Z"
   },
   {
    "duration": 6,
    "start_time": "2022-04-23T19:41:07.636Z"
   },
   {
    "duration": 1474,
    "start_time": "2022-04-23T19:41:07.644Z"
   },
   {
    "duration": 10,
    "start_time": "2022-04-23T19:41:09.120Z"
   },
   {
    "duration": 1302,
    "start_time": "2022-04-23T19:41:09.133Z"
   },
   {
    "duration": 13,
    "start_time": "2022-04-23T19:41:10.439Z"
   },
   {
    "duration": 3798,
    "start_time": "2022-04-23T19:41:10.455Z"
   },
   {
    "duration": 5,
    "start_time": "2022-04-23T19:41:14.256Z"
   },
   {
    "duration": 30,
    "start_time": "2022-04-23T19:41:14.264Z"
   },
   {
    "duration": 9,
    "start_time": "2022-04-23T19:41:14.297Z"
   },
   {
    "duration": 30,
    "start_time": "2022-04-23T19:41:14.308Z"
   },
   {
    "duration": 12,
    "start_time": "2022-04-23T19:41:14.340Z"
   },
   {
    "duration": 18,
    "start_time": "2022-04-23T19:41:14.354Z"
   },
   {
    "duration": 500,
    "start_time": "2022-04-23T19:41:14.374Z"
   },
   {
    "duration": 0,
    "start_time": "2022-04-23T19:41:14.877Z"
   },
   {
    "duration": 24,
    "start_time": "2022-04-23T19:41:59.024Z"
   },
   {
    "duration": 5,
    "start_time": "2022-04-23T19:42:46.126Z"
   },
   {
    "duration": 41,
    "start_time": "2022-04-23T19:42:49.646Z"
   },
   {
    "duration": 4665,
    "start_time": "2022-04-23T19:43:14.499Z"
   },
   {
    "duration": 3446,
    "start_time": "2022-04-23T19:43:19.167Z"
   },
   {
    "duration": 4,
    "start_time": "2022-04-23T19:43:22.616Z"
   },
   {
    "duration": 48,
    "start_time": "2022-04-23T19:43:22.624Z"
   },
   {
    "duration": 27,
    "start_time": "2022-04-23T19:43:22.674Z"
   },
   {
    "duration": 17,
    "start_time": "2022-04-23T19:43:22.703Z"
   },
   {
    "duration": 7,
    "start_time": "2022-04-23T19:43:22.722Z"
   },
   {
    "duration": 7,
    "start_time": "2022-04-23T19:43:22.731Z"
   },
   {
    "duration": 15,
    "start_time": "2022-04-23T19:43:22.740Z"
   },
   {
    "duration": 9,
    "start_time": "2022-04-23T19:43:22.793Z"
   },
   {
    "duration": 5,
    "start_time": "2022-04-23T19:43:22.804Z"
   },
   {
    "duration": 1415,
    "start_time": "2022-04-23T19:43:22.812Z"
   },
   {
    "duration": 14,
    "start_time": "2022-04-23T19:43:24.229Z"
   },
   {
    "duration": 1072,
    "start_time": "2022-04-23T19:43:24.246Z"
   },
   {
    "duration": 9,
    "start_time": "2022-04-23T19:43:25.321Z"
   },
   {
    "duration": 3445,
    "start_time": "2022-04-23T19:43:25.332Z"
   },
   {
    "duration": 14,
    "start_time": "2022-04-23T19:43:28.780Z"
   },
   {
    "duration": 19,
    "start_time": "2022-04-23T19:43:28.798Z"
   },
   {
    "duration": 8,
    "start_time": "2022-04-23T19:43:28.820Z"
   },
   {
    "duration": 34,
    "start_time": "2022-04-23T19:43:28.831Z"
   },
   {
    "duration": 40,
    "start_time": "2022-04-23T19:43:28.868Z"
   },
   {
    "duration": 8,
    "start_time": "2022-04-23T19:43:28.911Z"
   },
   {
    "duration": 7,
    "start_time": "2022-04-23T19:43:28.921Z"
   },
   {
    "duration": 295,
    "start_time": "2022-04-23T19:43:28.931Z"
   },
   {
    "duration": 0,
    "start_time": "2022-04-23T19:43:29.228Z"
   },
   {
    "duration": 42,
    "start_time": "2022-04-23T19:43:34.720Z"
   },
   {
    "duration": 4,
    "start_time": "2022-04-23T19:43:45.698Z"
   },
   {
    "duration": 5562,
    "start_time": "2022-04-23T19:43:52.268Z"
   },
   {
    "duration": 3542,
    "start_time": "2022-04-23T19:43:57.834Z"
   },
   {
    "duration": 3,
    "start_time": "2022-04-23T19:44:01.379Z"
   },
   {
    "duration": 71,
    "start_time": "2022-04-23T19:44:01.392Z"
   },
   {
    "duration": 21,
    "start_time": "2022-04-23T19:44:01.465Z"
   },
   {
    "duration": 19,
    "start_time": "2022-04-23T19:44:01.492Z"
   },
   {
    "duration": 6,
    "start_time": "2022-04-23T19:44:01.514Z"
   },
   {
    "duration": 7,
    "start_time": "2022-04-23T19:44:01.522Z"
   },
   {
    "duration": 13,
    "start_time": "2022-04-23T19:44:01.531Z"
   },
   {
    "duration": 46,
    "start_time": "2022-04-23T19:44:01.548Z"
   },
   {
    "duration": 3,
    "start_time": "2022-04-23T19:44:01.597Z"
   },
   {
    "duration": 1387,
    "start_time": "2022-04-23T19:44:01.602Z"
   },
   {
    "duration": 10,
    "start_time": "2022-04-23T19:44:02.993Z"
   },
   {
    "duration": 1074,
    "start_time": "2022-04-23T19:44:03.005Z"
   },
   {
    "duration": 14,
    "start_time": "2022-04-23T19:44:04.081Z"
   },
   {
    "duration": 6371,
    "start_time": "2022-04-23T19:44:04.098Z"
   },
   {
    "duration": 4,
    "start_time": "2022-04-23T19:44:10.472Z"
   },
   {
    "duration": 19,
    "start_time": "2022-04-23T19:44:10.478Z"
   },
   {
    "duration": 7,
    "start_time": "2022-04-23T19:44:10.500Z"
   },
   {
    "duration": 25,
    "start_time": "2022-04-23T19:44:10.509Z"
   },
   {
    "duration": 13,
    "start_time": "2022-04-23T19:44:10.536Z"
   },
   {
    "duration": 44,
    "start_time": "2022-04-23T19:44:10.552Z"
   },
   {
    "duration": 13,
    "start_time": "2022-04-23T19:44:10.598Z"
   },
   {
    "duration": 11,
    "start_time": "2022-04-23T19:44:10.614Z"
   },
   {
    "duration": 266,
    "start_time": "2022-04-23T19:44:10.628Z"
   },
   {
    "duration": 0,
    "start_time": "2022-04-23T19:44:10.897Z"
   },
   {
    "duration": 23,
    "start_time": "2022-04-23T19:47:09.154Z"
   },
   {
    "duration": 13,
    "start_time": "2022-04-23T19:47:14.879Z"
   },
   {
    "duration": 34,
    "start_time": "2022-04-23T19:48:04.170Z"
   },
   {
    "duration": 33,
    "start_time": "2022-04-23T19:48:12.059Z"
   },
   {
    "duration": 4,
    "start_time": "2022-04-23T19:49:47.279Z"
   },
   {
    "duration": 14,
    "start_time": "2022-04-23T19:49:49.170Z"
   },
   {
    "duration": 30,
    "start_time": "2022-04-23T19:49:52.400Z"
   },
   {
    "duration": 36,
    "start_time": "2022-04-23T19:51:00.181Z"
   },
   {
    "duration": 52,
    "start_time": "2022-04-23T19:51:16.328Z"
   },
   {
    "duration": 38,
    "start_time": "2022-04-23T19:51:22.371Z"
   },
   {
    "duration": 25,
    "start_time": "2022-04-23T19:52:28.388Z"
   },
   {
    "duration": 4,
    "start_time": "2022-04-23T19:52:43.929Z"
   },
   {
    "duration": 13,
    "start_time": "2022-04-23T19:56:31.651Z"
   },
   {
    "duration": 14,
    "start_time": "2022-04-23T19:56:45.745Z"
   },
   {
    "duration": 21,
    "start_time": "2022-04-23T19:58:32.518Z"
   },
   {
    "duration": 17,
    "start_time": "2022-04-23T19:58:51.114Z"
   },
   {
    "duration": 26,
    "start_time": "2022-04-23T19:59:13.900Z"
   },
   {
    "duration": 20,
    "start_time": "2022-04-23T20:00:18.273Z"
   },
   {
    "duration": 2859,
    "start_time": "2022-04-23T20:00:51.263Z"
   },
   {
    "duration": 6,
    "start_time": "2022-04-23T20:07:49.258Z"
   },
   {
    "duration": 7,
    "start_time": "2022-04-23T20:07:57.609Z"
   },
   {
    "duration": 19,
    "start_time": "2022-04-23T20:10:07.729Z"
   },
   {
    "duration": 18,
    "start_time": "2022-04-23T20:15:35.924Z"
   },
   {
    "duration": 7,
    "start_time": "2022-04-23T20:16:04.064Z"
   },
   {
    "duration": 6,
    "start_time": "2022-04-23T20:16:41.644Z"
   },
   {
    "duration": 5,
    "start_time": "2022-04-23T20:18:07.250Z"
   },
   {
    "duration": 4,
    "start_time": "2022-04-23T20:25:48.337Z"
   },
   {
    "duration": 5,
    "start_time": "2022-04-23T20:28:09.837Z"
   },
   {
    "duration": 5,
    "start_time": "2022-04-23T20:28:44.283Z"
   },
   {
    "duration": 5,
    "start_time": "2022-04-23T20:29:00.556Z"
   },
   {
    "duration": 19,
    "start_time": "2022-04-23T20:29:06.534Z"
   },
   {
    "duration": 5,
    "start_time": "2022-04-23T20:29:11.531Z"
   },
   {
    "duration": 5,
    "start_time": "2022-04-23T20:30:21.037Z"
   },
   {
    "duration": 8,
    "start_time": "2022-04-23T20:31:03.496Z"
   },
   {
    "duration": 9,
    "start_time": "2022-04-23T20:31:07.290Z"
   },
   {
    "duration": 8,
    "start_time": "2022-04-23T20:31:46.217Z"
   },
   {
    "duration": 6,
    "start_time": "2022-04-23T20:32:06.981Z"
   },
   {
    "duration": 8,
    "start_time": "2022-04-23T20:33:58.097Z"
   },
   {
    "duration": 8,
    "start_time": "2022-04-23T20:35:28.071Z"
   },
   {
    "duration": 9,
    "start_time": "2022-04-23T20:36:17.570Z"
   },
   {
    "duration": 7,
    "start_time": "2022-04-23T20:36:55.361Z"
   },
   {
    "duration": 19396,
    "start_time": "2022-04-23T21:06:18.826Z"
   },
   {
    "duration": 216,
    "start_time": "2022-04-23T21:07:31.128Z"
   },
   {
    "duration": 16,
    "start_time": "2022-04-23T21:08:19.536Z"
   },
   {
    "duration": 8234,
    "start_time": "2022-04-23T21:08:30.239Z"
   },
   {
    "duration": 7197,
    "start_time": "2022-04-23T21:08:48.584Z"
   },
   {
    "duration": 28,
    "start_time": "2022-04-23T21:08:55.784Z"
   },
   {
    "duration": 18,
    "start_time": "2022-04-23T21:11:30.249Z"
   },
   {
    "duration": 16,
    "start_time": "2022-04-23T21:11:38.179Z"
   },
   {
    "duration": 18,
    "start_time": "2022-04-23T21:11:47.886Z"
   },
   {
    "duration": 17,
    "start_time": "2022-04-23T21:11:54.752Z"
   },
   {
    "duration": 13938,
    "start_time": "2022-04-24T19:46:48.043Z"
   },
   {
    "duration": 1925,
    "start_time": "2022-04-24T19:47:01.984Z"
   },
   {
    "duration": 0,
    "start_time": "2022-04-24T19:47:03.912Z"
   },
   {
    "duration": 0,
    "start_time": "2022-04-24T19:47:03.914Z"
   },
   {
    "duration": 0,
    "start_time": "2022-04-24T19:47:03.915Z"
   },
   {
    "duration": 0,
    "start_time": "2022-04-24T19:47:03.917Z"
   },
   {
    "duration": 0,
    "start_time": "2022-04-24T19:47:03.919Z"
   },
   {
    "duration": 0,
    "start_time": "2022-04-24T19:47:03.920Z"
   },
   {
    "duration": 0,
    "start_time": "2022-04-24T19:47:03.922Z"
   },
   {
    "duration": 0,
    "start_time": "2022-04-24T19:47:03.923Z"
   },
   {
    "duration": 0,
    "start_time": "2022-04-24T19:47:03.925Z"
   },
   {
    "duration": 0,
    "start_time": "2022-04-24T19:47:03.952Z"
   },
   {
    "duration": 0,
    "start_time": "2022-04-24T19:47:03.954Z"
   },
   {
    "duration": 0,
    "start_time": "2022-04-24T19:47:03.955Z"
   },
   {
    "duration": 0,
    "start_time": "2022-04-24T19:47:03.957Z"
   },
   {
    "duration": 0,
    "start_time": "2022-04-24T19:47:03.959Z"
   },
   {
    "duration": 0,
    "start_time": "2022-04-24T19:47:03.960Z"
   },
   {
    "duration": 0,
    "start_time": "2022-04-24T19:47:03.962Z"
   },
   {
    "duration": 0,
    "start_time": "2022-04-24T19:47:03.963Z"
   },
   {
    "duration": 0,
    "start_time": "2022-04-24T19:47:03.964Z"
   },
   {
    "duration": 0,
    "start_time": "2022-04-24T19:47:03.966Z"
   },
   {
    "duration": 0,
    "start_time": "2022-04-24T19:47:03.967Z"
   },
   {
    "duration": 0,
    "start_time": "2022-04-24T19:47:03.968Z"
   },
   {
    "duration": 0,
    "start_time": "2022-04-24T19:47:03.970Z"
   },
   {
    "duration": 0,
    "start_time": "2022-04-24T19:47:03.971Z"
   },
   {
    "duration": 0,
    "start_time": "2022-04-24T19:47:03.973Z"
   },
   {
    "duration": 0,
    "start_time": "2022-04-24T19:47:03.974Z"
   },
   {
    "duration": 0,
    "start_time": "2022-04-24T19:47:03.976Z"
   },
   {
    "duration": 0,
    "start_time": "2022-04-24T19:47:03.977Z"
   },
   {
    "duration": 0,
    "start_time": "2022-04-24T19:47:03.978Z"
   },
   {
    "duration": 0,
    "start_time": "2022-04-24T19:47:03.980Z"
   },
   {
    "duration": 0,
    "start_time": "2022-04-24T19:47:03.981Z"
   },
   {
    "duration": 0,
    "start_time": "2022-04-24T19:47:03.983Z"
   },
   {
    "duration": 0,
    "start_time": "2022-04-24T19:47:03.984Z"
   },
   {
    "duration": 568,
    "start_time": "2022-04-24T19:47:50.599Z"
   },
   {
    "duration": 5,
    "start_time": "2022-04-24T19:48:03.519Z"
   },
   {
    "duration": 2124,
    "start_time": "2022-04-24T19:48:03.530Z"
   },
   {
    "duration": 3,
    "start_time": "2022-04-24T19:48:05.657Z"
   },
   {
    "duration": 49,
    "start_time": "2022-04-24T19:48:05.662Z"
   },
   {
    "duration": 15,
    "start_time": "2022-04-24T19:48:05.713Z"
   },
   {
    "duration": 33,
    "start_time": "2022-04-24T19:48:05.732Z"
   },
   {
    "duration": 18,
    "start_time": "2022-04-24T19:48:05.767Z"
   },
   {
    "duration": 14,
    "start_time": "2022-04-24T19:48:05.788Z"
   },
   {
    "duration": 22,
    "start_time": "2022-04-24T19:48:05.804Z"
   },
   {
    "duration": 25,
    "start_time": "2022-04-24T19:48:05.828Z"
   },
   {
    "duration": 9,
    "start_time": "2022-04-24T19:48:05.855Z"
   },
   {
    "duration": 1510,
    "start_time": "2022-04-24T19:48:05.866Z"
   },
   {
    "duration": 11,
    "start_time": "2022-04-24T19:48:07.378Z"
   },
   {
    "duration": 1034,
    "start_time": "2022-04-24T19:48:07.391Z"
   },
   {
    "duration": 9,
    "start_time": "2022-04-24T19:48:08.429Z"
   },
   {
    "duration": 3783,
    "start_time": "2022-04-24T19:48:08.452Z"
   },
   {
    "duration": 5,
    "start_time": "2022-04-24T19:48:12.238Z"
   },
   {
    "duration": 9,
    "start_time": "2022-04-24T19:48:12.252Z"
   },
   {
    "duration": 7,
    "start_time": "2022-04-24T19:48:12.263Z"
   },
   {
    "duration": 28,
    "start_time": "2022-04-24T19:48:12.272Z"
   },
   {
    "duration": 51,
    "start_time": "2022-04-24T19:48:12.303Z"
   },
   {
    "duration": 24,
    "start_time": "2022-04-24T19:48:12.357Z"
   },
   {
    "duration": 5,
    "start_time": "2022-04-24T19:48:12.383Z"
   },
   {
    "duration": 5,
    "start_time": "2022-04-24T19:48:12.390Z"
   },
   {
    "duration": 7,
    "start_time": "2022-04-24T19:48:12.397Z"
   },
   {
    "duration": 48,
    "start_time": "2022-04-24T19:48:12.405Z"
   },
   {
    "duration": 10,
    "start_time": "2022-04-24T19:48:12.455Z"
   },
   {
    "duration": 7,
    "start_time": "2022-04-24T19:48:12.467Z"
   },
   {
    "duration": 7,
    "start_time": "2022-04-24T19:48:12.476Z"
   },
   {
    "duration": 6,
    "start_time": "2022-04-24T19:48:12.485Z"
   },
   {
    "duration": 15,
    "start_time": "2022-04-24T19:48:12.493Z"
   },
   {
    "duration": 55,
    "start_time": "2022-04-24T19:48:12.510Z"
   },
   {
    "duration": 203,
    "start_time": "2022-04-24T19:48:12.567Z"
   },
   {
    "duration": 0,
    "start_time": "2022-04-24T19:48:12.773Z"
   },
   {
    "duration": 2750,
    "start_time": "2022-04-24T19:50:59.371Z"
   },
   {
    "duration": 2665,
    "start_time": "2022-04-24T19:51:29.502Z"
   },
   {
    "duration": 2632,
    "start_time": "2022-04-24T19:53:42.997Z"
   },
   {
    "duration": 3378,
    "start_time": "2022-04-24T19:54:06.074Z"
   },
   {
    "duration": 3583,
    "start_time": "2022-04-24T19:54:22.754Z"
   },
   {
    "duration": 3738,
    "start_time": "2022-04-24T19:54:39.187Z"
   },
   {
    "duration": 13,
    "start_time": "2022-04-24T20:03:30.591Z"
   },
   {
    "duration": 6,
    "start_time": "2022-04-24T20:04:03.908Z"
   },
   {
    "duration": 4,
    "start_time": "2022-04-24T20:04:09.270Z"
   },
   {
    "duration": 4,
    "start_time": "2022-04-24T20:04:51.838Z"
   },
   {
    "duration": 15,
    "start_time": "2022-04-24T20:04:54.738Z"
   },
   {
    "duration": 63,
    "start_time": "2022-04-24T20:06:18.542Z"
   },
   {
    "duration": 4,
    "start_time": "2022-04-24T20:06:24.635Z"
   },
   {
    "duration": 2171,
    "start_time": "2022-04-24T20:06:24.643Z"
   },
   {
    "duration": 4,
    "start_time": "2022-04-24T20:06:26.817Z"
   },
   {
    "duration": 51,
    "start_time": "2022-04-24T20:06:26.823Z"
   },
   {
    "duration": 14,
    "start_time": "2022-04-24T20:06:26.877Z"
   },
   {
    "duration": 15,
    "start_time": "2022-04-24T20:06:26.895Z"
   },
   {
    "duration": 7,
    "start_time": "2022-04-24T20:06:26.912Z"
   },
   {
    "duration": 6,
    "start_time": "2022-04-24T20:06:26.952Z"
   },
   {
    "duration": 15,
    "start_time": "2022-04-24T20:06:26.960Z"
   },
   {
    "duration": 9,
    "start_time": "2022-04-24T20:06:26.977Z"
   },
   {
    "duration": 8,
    "start_time": "2022-04-24T20:06:26.988Z"
   },
   {
    "duration": 1565,
    "start_time": "2022-04-24T20:06:26.998Z"
   },
   {
    "duration": 13,
    "start_time": "2022-04-24T20:06:28.565Z"
   },
   {
    "duration": 1039,
    "start_time": "2022-04-24T20:06:28.581Z"
   },
   {
    "duration": 10,
    "start_time": "2022-04-24T20:06:29.624Z"
   },
   {
    "duration": 3708,
    "start_time": "2022-04-24T20:06:29.636Z"
   },
   {
    "duration": 8,
    "start_time": "2022-04-24T20:06:33.346Z"
   },
   {
    "duration": 13,
    "start_time": "2022-04-24T20:06:33.356Z"
   },
   {
    "duration": 6,
    "start_time": "2022-04-24T20:06:33.371Z"
   },
   {
    "duration": 30,
    "start_time": "2022-04-24T20:06:33.379Z"
   },
   {
    "duration": 47,
    "start_time": "2022-04-24T20:06:33.412Z"
   },
   {
    "duration": 22,
    "start_time": "2022-04-24T20:06:33.461Z"
   },
   {
    "duration": 8,
    "start_time": "2022-04-24T20:06:33.485Z"
   },
   {
    "duration": 5,
    "start_time": "2022-04-24T20:06:33.496Z"
   },
   {
    "duration": 6,
    "start_time": "2022-04-24T20:06:33.504Z"
   },
   {
    "duration": 6,
    "start_time": "2022-04-24T20:06:33.552Z"
   },
   {
    "duration": 11,
    "start_time": "2022-04-24T20:06:33.560Z"
   },
   {
    "duration": 9,
    "start_time": "2022-04-24T20:06:33.573Z"
   },
   {
    "duration": 9,
    "start_time": "2022-04-24T20:06:33.585Z"
   },
   {
    "duration": 6,
    "start_time": "2022-04-24T20:06:33.596Z"
   },
   {
    "duration": 48,
    "start_time": "2022-04-24T20:06:33.604Z"
   },
   {
    "duration": 222,
    "start_time": "2022-04-24T20:06:33.654Z"
   },
   {
    "duration": 0,
    "start_time": "2022-04-24T20:06:33.878Z"
   },
   {
    "duration": 0,
    "start_time": "2022-04-24T20:06:33.880Z"
   },
   {
    "duration": 0,
    "start_time": "2022-04-24T20:06:33.881Z"
   },
   {
    "duration": 0,
    "start_time": "2022-04-24T20:06:33.883Z"
   },
   {
    "duration": 0,
    "start_time": "2022-04-24T20:06:33.884Z"
   },
   {
    "duration": 6,
    "start_time": "2022-04-24T20:07:08.357Z"
   },
   {
    "duration": 6,
    "start_time": "2022-04-24T20:19:58.401Z"
   },
   {
    "duration": 6,
    "start_time": "2022-04-24T20:21:38.703Z"
   },
   {
    "duration": 7,
    "start_time": "2022-04-24T20:22:06.323Z"
   },
   {
    "duration": 4,
    "start_time": "2022-04-24T20:22:26.478Z"
   },
   {
    "duration": 6,
    "start_time": "2022-04-24T20:22:31.156Z"
   },
   {
    "duration": 5,
    "start_time": "2022-04-24T20:22:35.326Z"
   },
   {
    "duration": 4,
    "start_time": "2022-04-24T20:23:29.846Z"
   },
   {
    "duration": 17,
    "start_time": "2022-04-24T20:24:32.080Z"
   },
   {
    "duration": 9,
    "start_time": "2022-04-24T20:25:09.789Z"
   },
   {
    "duration": 14,
    "start_time": "2022-04-24T20:26:02.423Z"
   },
   {
    "duration": 7,
    "start_time": "2022-04-24T20:26:30.327Z"
   },
   {
    "duration": 9,
    "start_time": "2022-04-24T20:26:41.508Z"
   },
   {
    "duration": 11,
    "start_time": "2022-04-24T20:27:49.548Z"
   },
   {
    "duration": 40,
    "start_time": "2022-04-24T20:27:55.431Z"
   },
   {
    "duration": 41,
    "start_time": "2022-04-24T20:28:51.162Z"
   },
   {
    "duration": 322,
    "start_time": "2022-04-24T20:31:15.087Z"
   },
   {
    "duration": 100,
    "start_time": "2022-04-24T20:31:40.706Z"
   },
   {
    "duration": 642,
    "start_time": "2022-04-24T20:31:52.484Z"
   },
   {
    "duration": 2368,
    "start_time": "2022-04-24T20:31:58.843Z"
   },
   {
    "duration": 2334,
    "start_time": "2022-04-24T20:32:14.778Z"
   },
   {
    "duration": 3507,
    "start_time": "2022-04-24T20:32:35.454Z"
   },
   {
    "duration": 2724,
    "start_time": "2022-04-24T20:32:54.583Z"
   },
   {
    "duration": 14,
    "start_time": "2022-04-24T20:33:47.686Z"
   },
   {
    "duration": 15,
    "start_time": "2022-04-24T20:33:54.285Z"
   },
   {
    "duration": 4,
    "start_time": "2022-04-24T20:38:25.540Z"
   },
   {
    "duration": 9,
    "start_time": "2022-04-24T20:39:39.071Z"
   },
   {
    "duration": 3,
    "start_time": "2022-04-24T20:39:42.083Z"
   },
   {
    "duration": 2596,
    "start_time": "2022-04-24T20:39:53.612Z"
   },
   {
    "duration": 6,
    "start_time": "2022-04-24T20:40:26.642Z"
   },
   {
    "duration": 27,
    "start_time": "2022-04-24T20:42:42.697Z"
   },
   {
    "duration": 121,
    "start_time": "2022-04-24T20:42:59.812Z"
   },
   {
    "duration": 6,
    "start_time": "2022-04-24T20:43:09.453Z"
   },
   {
    "duration": 5,
    "start_time": "2022-04-24T20:43:48.532Z"
   },
   {
    "duration": 5149,
    "start_time": "2022-04-24T20:43:58.361Z"
   },
   {
    "duration": 46,
    "start_time": "2022-04-24T20:44:43.027Z"
   },
   {
    "duration": 9,
    "start_time": "2022-04-24T20:44:56.203Z"
   },
   {
    "duration": 9,
    "start_time": "2022-04-24T20:45:04.481Z"
   },
   {
    "duration": 6,
    "start_time": "2022-04-24T20:45:15.971Z"
   },
   {
    "duration": 6,
    "start_time": "2022-04-24T20:48:11.712Z"
   },
   {
    "duration": 7,
    "start_time": "2022-04-24T21:05:52.291Z"
   },
   {
    "duration": 15,
    "start_time": "2022-04-24T21:06:01.733Z"
   },
   {
    "duration": 6,
    "start_time": "2022-04-24T21:06:04.565Z"
   },
   {
    "duration": 4,
    "start_time": "2022-04-24T21:06:06.671Z"
   },
   {
    "duration": 6552,
    "start_time": "2022-04-24T21:06:08.716Z"
   },
   {
    "duration": 6,
    "start_time": "2022-04-24T21:06:25.780Z"
   },
   {
    "duration": 8,
    "start_time": "2022-04-24T21:11:00.937Z"
   },
   {
    "duration": 6167,
    "start_time": "2022-04-24T21:27:27.590Z"
   },
   {
    "duration": 9,
    "start_time": "2022-04-24T21:28:35.866Z"
   },
   {
    "duration": 6177,
    "start_time": "2022-04-24T21:29:21.242Z"
   },
   {
    "duration": 8,
    "start_time": "2022-04-24T21:29:45.705Z"
   },
   {
    "duration": 6,
    "start_time": "2022-04-24T21:30:14.765Z"
   },
   {
    "duration": 6,
    "start_time": "2022-04-24T21:30:22.365Z"
   },
   {
    "duration": 6,
    "start_time": "2022-04-24T21:30:39.430Z"
   },
   {
    "duration": 7,
    "start_time": "2022-04-24T21:31:09.590Z"
   },
   {
    "duration": 8,
    "start_time": "2022-04-24T21:31:27.649Z"
   },
   {
    "duration": 8,
    "start_time": "2022-04-24T21:32:07.865Z"
   },
   {
    "duration": 5,
    "start_time": "2022-04-24T21:32:31.867Z"
   },
   {
    "duration": 2390,
    "start_time": "2022-04-24T21:32:31.878Z"
   },
   {
    "duration": 4,
    "start_time": "2022-04-24T21:32:34.271Z"
   },
   {
    "duration": 46,
    "start_time": "2022-04-24T21:32:34.277Z"
   },
   {
    "duration": 13,
    "start_time": "2022-04-24T21:32:34.325Z"
   },
   {
    "duration": 19,
    "start_time": "2022-04-24T21:32:34.351Z"
   },
   {
    "duration": 6,
    "start_time": "2022-04-24T21:32:34.372Z"
   },
   {
    "duration": 7,
    "start_time": "2022-04-24T21:32:34.381Z"
   },
   {
    "duration": 12,
    "start_time": "2022-04-24T21:32:34.390Z"
   },
   {
    "duration": 9,
    "start_time": "2022-04-24T21:32:34.404Z"
   },
   {
    "duration": 9,
    "start_time": "2022-04-24T21:32:34.451Z"
   },
   {
    "duration": 1458,
    "start_time": "2022-04-24T21:32:34.462Z"
   },
   {
    "duration": 11,
    "start_time": "2022-04-24T21:32:35.922Z"
   },
   {
    "duration": 1073,
    "start_time": "2022-04-24T21:32:35.935Z"
   },
   {
    "duration": 10,
    "start_time": "2022-04-24T21:32:37.012Z"
   },
   {
    "duration": 5139,
    "start_time": "2022-04-24T21:32:37.024Z"
   },
   {
    "duration": 4,
    "start_time": "2022-04-24T21:32:42.166Z"
   },
   {
    "duration": 12,
    "start_time": "2022-04-24T21:32:42.172Z"
   },
   {
    "duration": 7,
    "start_time": "2022-04-24T21:32:42.187Z"
   },
   {
    "duration": 24,
    "start_time": "2022-04-24T21:32:42.196Z"
   },
   {
    "duration": 54,
    "start_time": "2022-04-24T21:32:42.223Z"
   },
   {
    "duration": 22,
    "start_time": "2022-04-24T21:32:42.279Z"
   },
   {
    "duration": 6,
    "start_time": "2022-04-24T21:32:42.303Z"
   },
   {
    "duration": 2457,
    "start_time": "2022-04-24T21:32:42.311Z"
   },
   {
    "duration": 4,
    "start_time": "2022-04-24T21:32:44.770Z"
   },
   {
    "duration": 9,
    "start_time": "2022-04-24T21:32:44.776Z"
   },
   {
    "duration": 7,
    "start_time": "2022-04-24T21:32:44.787Z"
   },
   {
    "duration": 4,
    "start_time": "2022-04-24T21:32:44.796Z"
   },
   {
    "duration": 49,
    "start_time": "2022-04-24T21:32:44.803Z"
   },
   {
    "duration": 5,
    "start_time": "2022-04-24T21:32:44.864Z"
   },
   {
    "duration": 10,
    "start_time": "2022-04-24T21:32:44.872Z"
   },
   {
    "duration": 9,
    "start_time": "2022-04-24T21:32:44.884Z"
   },
   {
    "duration": 8,
    "start_time": "2022-04-24T21:32:44.895Z"
   },
   {
    "duration": 10,
    "start_time": "2022-04-24T21:32:44.904Z"
   },
   {
    "duration": 6,
    "start_time": "2022-04-24T21:32:44.953Z"
   },
   {
    "duration": 15,
    "start_time": "2022-04-24T21:32:44.961Z"
   },
   {
    "duration": 11,
    "start_time": "2022-04-24T21:32:44.979Z"
   },
   {
    "duration": 6563,
    "start_time": "2022-04-24T21:32:44.992Z"
   },
   {
    "duration": 8,
    "start_time": "2022-04-24T21:32:51.558Z"
   },
   {
    "duration": 12,
    "start_time": "2022-04-24T21:32:51.569Z"
   },
   {
    "duration": 45,
    "start_time": "2022-04-24T21:32:51.583Z"
   },
   {
    "duration": 43,
    "start_time": "2022-04-24T21:32:51.634Z"
   },
   {
    "duration": 213,
    "start_time": "2022-04-24T21:32:51.679Z"
   },
   {
    "duration": 0,
    "start_time": "2022-04-24T21:32:51.895Z"
   },
   {
    "duration": 9,
    "start_time": "2022-04-24T21:33:24.564Z"
   },
   {
    "duration": 13,
    "start_time": "2022-04-24T21:33:32.743Z"
   },
   {
    "duration": 6,
    "start_time": "2022-04-24T21:33:39.426Z"
   },
   {
    "duration": 7,
    "start_time": "2022-04-24T21:33:45.581Z"
   },
   {
    "duration": 7,
    "start_time": "2022-04-24T21:34:03.943Z"
   },
   {
    "duration": 7,
    "start_time": "2022-04-24T21:34:12.494Z"
   },
   {
    "duration": 8,
    "start_time": "2022-04-24T21:34:16.846Z"
   },
   {
    "duration": 9,
    "start_time": "2022-04-24T21:34:20.462Z"
   },
   {
    "duration": 9,
    "start_time": "2022-04-24T21:34:32.979Z"
   },
   {
    "duration": 9,
    "start_time": "2022-04-24T21:34:38.814Z"
   },
   {
    "duration": 14,
    "start_time": "2022-04-24T21:35:27.173Z"
   },
   {
    "duration": 4,
    "start_time": "2022-04-24T21:35:38.545Z"
   },
   {
    "duration": 6,
    "start_time": "2022-04-24T21:35:46.622Z"
   },
   {
    "duration": 4,
    "start_time": "2022-04-24T21:35:54.205Z"
   },
   {
    "duration": 5686,
    "start_time": "2022-04-24T21:36:05.479Z"
   },
   {
    "duration": 7,
    "start_time": "2022-04-24T21:36:23.053Z"
   },
   {
    "duration": 6,
    "start_time": "2022-04-24T21:37:21.021Z"
   },
   {
    "duration": 17,
    "start_time": "2022-04-24T21:37:43.988Z"
   },
   {
    "duration": 8,
    "start_time": "2022-04-24T21:37:47.127Z"
   },
   {
    "duration": 80,
    "start_time": "2022-04-24T21:37:58.149Z"
   },
   {
    "duration": 7,
    "start_time": "2022-04-24T21:38:41.765Z"
   },
   {
    "duration": 7,
    "start_time": "2022-04-24T21:38:46.989Z"
   },
   {
    "duration": 8,
    "start_time": "2022-04-24T21:38:53.387Z"
   },
   {
    "duration": 8,
    "start_time": "2022-04-24T21:38:58.465Z"
   },
   {
    "duration": 7,
    "start_time": "2022-04-24T21:39:12.797Z"
   },
   {
    "duration": 8,
    "start_time": "2022-04-24T21:46:18.790Z"
   },
   {
    "duration": 5557,
    "start_time": "2022-04-24T21:46:24.699Z"
   },
   {
    "duration": 7,
    "start_time": "2022-04-24T21:46:33.330Z"
   },
   {
    "duration": 4,
    "start_time": "2022-04-24T21:49:22.178Z"
   },
   {
    "duration": 7,
    "start_time": "2022-04-24T21:51:23.513Z"
   },
   {
    "duration": 11,
    "start_time": "2022-04-24T21:53:07.189Z"
   },
   {
    "duration": 9,
    "start_time": "2022-04-24T21:53:14.493Z"
   },
   {
    "duration": 7,
    "start_time": "2022-04-24T21:53:56.669Z"
   },
   {
    "duration": 10,
    "start_time": "2022-04-24T21:53:58.675Z"
   },
   {
    "duration": 11,
    "start_time": "2022-04-24T21:53:59.711Z"
   },
   {
    "duration": 9,
    "start_time": "2022-04-24T21:54:01.835Z"
   },
   {
    "duration": 3,
    "start_time": "2022-04-24T21:54:07.366Z"
   },
   {
    "duration": 7,
    "start_time": "2022-04-24T21:54:07.372Z"
   },
   {
    "duration": 11,
    "start_time": "2022-04-24T21:54:07.381Z"
   },
   {
    "duration": 62,
    "start_time": "2022-04-24T21:54:07.394Z"
   },
   {
    "duration": 11,
    "start_time": "2022-04-24T21:54:07.462Z"
   },
   {
    "duration": 17,
    "start_time": "2022-04-24T21:54:07.476Z"
   },
   {
    "duration": 6,
    "start_time": "2022-04-24T21:54:07.495Z"
   },
   {
    "duration": 52,
    "start_time": "2022-04-24T21:54:07.503Z"
   },
   {
    "duration": 11,
    "start_time": "2022-04-24T21:54:07.558Z"
   },
   {
    "duration": 12,
    "start_time": "2022-04-24T21:54:07.572Z"
   },
   {
    "duration": 8,
    "start_time": "2022-04-24T21:54:07.586Z"
   },
   {
    "duration": 1670,
    "start_time": "2022-04-24T21:54:07.596Z"
   },
   {
    "duration": 10,
    "start_time": "2022-04-24T21:54:09.271Z"
   },
   {
    "duration": 960,
    "start_time": "2022-04-24T21:54:09.284Z"
   },
   {
    "duration": 17,
    "start_time": "2022-04-24T21:54:10.246Z"
   },
   {
    "duration": 5402,
    "start_time": "2022-04-24T21:54:10.265Z"
   },
   {
    "duration": 4,
    "start_time": "2022-04-24T21:54:15.669Z"
   },
   {
    "duration": 14,
    "start_time": "2022-04-24T21:54:15.675Z"
   },
   {
    "duration": 7,
    "start_time": "2022-04-24T21:54:15.691Z"
   },
   {
    "duration": 25,
    "start_time": "2022-04-24T21:54:15.700Z"
   },
   {
    "duration": 54,
    "start_time": "2022-04-24T21:54:15.727Z"
   },
   {
    "duration": 38,
    "start_time": "2022-04-24T21:54:15.783Z"
   },
   {
    "duration": 23,
    "start_time": "2022-04-24T21:54:15.823Z"
   },
   {
    "duration": 2421,
    "start_time": "2022-04-24T21:54:15.848Z"
   },
   {
    "duration": 4,
    "start_time": "2022-04-24T21:54:18.271Z"
   },
   {
    "duration": 8,
    "start_time": "2022-04-24T21:54:18.278Z"
   },
   {
    "duration": 9,
    "start_time": "2022-04-24T21:54:18.288Z"
   },
   {
    "duration": 5,
    "start_time": "2022-04-24T21:54:18.299Z"
   },
   {
    "duration": 9,
    "start_time": "2022-04-24T21:54:18.306Z"
   },
   {
    "duration": 43,
    "start_time": "2022-04-24T21:54:18.317Z"
   },
   {
    "duration": 9,
    "start_time": "2022-04-24T21:54:18.363Z"
   },
   {
    "duration": 12,
    "start_time": "2022-04-24T21:54:18.374Z"
   },
   {
    "duration": 12,
    "start_time": "2022-04-24T21:54:18.388Z"
   },
   {
    "duration": 8,
    "start_time": "2022-04-24T21:54:18.402Z"
   },
   {
    "duration": 62,
    "start_time": "2022-04-24T21:54:18.412Z"
   },
   {
    "duration": 11,
    "start_time": "2022-04-24T21:54:45.770Z"
   },
   {
    "duration": 10,
    "start_time": "2022-04-24T21:54:47.996Z"
   },
   {
    "duration": 56,
    "start_time": "2022-04-24T21:56:43.935Z"
   },
   {
    "duration": 5,
    "start_time": "2022-04-24T21:57:57.708Z"
   },
   {
    "duration": 9,
    "start_time": "2022-04-24T21:58:03.677Z"
   },
   {
    "duration": 10,
    "start_time": "2022-04-24T21:58:16.884Z"
   },
   {
    "duration": 28,
    "start_time": "2022-04-24T21:59:16.321Z"
   },
   {
    "duration": 26,
    "start_time": "2022-04-24T21:59:36.187Z"
   },
   {
    "duration": 2779,
    "start_time": "2022-04-24T21:59:47.911Z"
   },
   {
    "duration": 27,
    "start_time": "2022-04-24T22:00:07.516Z"
   },
   {
    "duration": 28,
    "start_time": "2022-04-24T22:00:17.256Z"
   },
   {
    "duration": 1433,
    "start_time": "2022-04-24T22:00:22.340Z"
   },
   {
    "duration": 2335,
    "start_time": "2022-04-24T22:00:29.861Z"
   },
   {
    "duration": 185,
    "start_time": "2022-04-24T22:00:51.417Z"
   },
   {
    "duration": 4,
    "start_time": "2022-04-24T22:01:01.680Z"
   },
   {
    "duration": 14,
    "start_time": "2022-04-24T22:01:01.688Z"
   },
   {
    "duration": 12,
    "start_time": "2022-04-24T22:01:01.706Z"
   },
   {
    "duration": 61,
    "start_time": "2022-04-24T22:01:01.720Z"
   },
   {
    "duration": 12,
    "start_time": "2022-04-24T22:01:01.784Z"
   },
   {
    "duration": 52,
    "start_time": "2022-04-24T22:01:01.800Z"
   },
   {
    "duration": 27,
    "start_time": "2022-04-24T22:01:01.855Z"
   },
   {
    "duration": 25,
    "start_time": "2022-04-24T22:01:01.885Z"
   },
   {
    "duration": 12,
    "start_time": "2022-04-24T22:01:01.913Z"
   },
   {
    "duration": 10,
    "start_time": "2022-04-24T22:01:01.927Z"
   },
   {
    "duration": 7,
    "start_time": "2022-04-24T22:01:01.939Z"
   },
   {
    "duration": 1356,
    "start_time": "2022-04-24T22:01:01.952Z"
   },
   {
    "duration": 11,
    "start_time": "2022-04-24T22:01:03.310Z"
   },
   {
    "duration": 921,
    "start_time": "2022-04-24T22:01:03.323Z"
   },
   {
    "duration": 9,
    "start_time": "2022-04-24T22:01:04.253Z"
   },
   {
    "duration": 3898,
    "start_time": "2022-04-24T22:01:04.264Z"
   },
   {
    "duration": 5,
    "start_time": "2022-04-24T22:01:08.165Z"
   },
   {
    "duration": 13,
    "start_time": "2022-04-24T22:01:08.172Z"
   },
   {
    "duration": 5,
    "start_time": "2022-04-24T22:01:08.188Z"
   },
   {
    "duration": 222,
    "start_time": "2022-04-24T22:01:08.196Z"
   },
   {
    "duration": 40,
    "start_time": "2022-04-24T22:01:08.420Z"
   },
   {
    "duration": 44,
    "start_time": "2022-04-24T22:01:08.462Z"
   },
   {
    "duration": 7,
    "start_time": "2022-04-24T22:01:08.508Z"
   },
   {
    "duration": 3009,
    "start_time": "2022-04-24T22:01:08.517Z"
   },
   {
    "duration": 4,
    "start_time": "2022-04-24T22:01:11.529Z"
   },
   {
    "duration": 17,
    "start_time": "2022-04-24T22:01:11.536Z"
   },
   {
    "duration": 11,
    "start_time": "2022-04-24T22:01:11.555Z"
   },
   {
    "duration": 6,
    "start_time": "2022-04-24T22:01:11.567Z"
   },
   {
    "duration": 10,
    "start_time": "2022-04-24T22:01:11.575Z"
   },
   {
    "duration": 4,
    "start_time": "2022-04-24T22:01:11.587Z"
   },
   {
    "duration": 8,
    "start_time": "2022-04-24T22:01:11.593Z"
   },
   {
    "duration": 50,
    "start_time": "2022-04-24T22:01:11.603Z"
   },
   {
    "duration": 8,
    "start_time": "2022-04-24T22:01:11.656Z"
   },
   {
    "duration": 6,
    "start_time": "2022-04-24T22:01:11.666Z"
   },
   {
    "duration": 11,
    "start_time": "2022-04-24T22:01:11.674Z"
   },
   {
    "duration": 6,
    "start_time": "2022-04-24T22:01:11.687Z"
   },
   {
    "duration": 6,
    "start_time": "2022-04-24T22:01:11.695Z"
   },
   {
    "duration": 50,
    "start_time": "2022-04-24T22:01:11.703Z"
   },
   {
    "duration": 593,
    "start_time": "2022-04-24T22:01:11.755Z"
   },
   {
    "duration": 7627,
    "start_time": "2022-04-24T22:01:12.351Z"
   },
   {
    "duration": 6,
    "start_time": "2022-04-24T22:01:19.980Z"
   },
   {
    "duration": 868,
    "start_time": "2022-04-24T22:01:19.992Z"
   },
   {
    "duration": 92,
    "start_time": "2022-04-24T22:01:20.863Z"
   },
   {
    "duration": 10,
    "start_time": "2022-04-24T22:01:29.920Z"
   },
   {
    "duration": 3,
    "start_time": "2022-04-24T22:03:05.354Z"
   },
   {
    "duration": 15,
    "start_time": "2022-04-24T22:03:05.365Z"
   },
   {
    "duration": 10,
    "start_time": "2022-04-24T22:03:05.383Z"
   },
   {
    "duration": 61,
    "start_time": "2022-04-24T22:03:05.395Z"
   },
   {
    "duration": 10,
    "start_time": "2022-04-24T22:03:05.461Z"
   },
   {
    "duration": 19,
    "start_time": "2022-04-24T22:03:05.474Z"
   },
   {
    "duration": 5,
    "start_time": "2022-04-24T22:03:05.496Z"
   },
   {
    "duration": 6,
    "start_time": "2022-04-24T22:03:05.503Z"
   },
   {
    "duration": 56,
    "start_time": "2022-04-24T22:03:05.511Z"
   },
   {
    "duration": 12,
    "start_time": "2022-04-24T22:03:05.570Z"
   },
   {
    "duration": 5,
    "start_time": "2022-04-24T22:03:05.588Z"
   },
   {
    "duration": 1466,
    "start_time": "2022-04-24T22:03:05.595Z"
   },
   {
    "duration": 13,
    "start_time": "2022-04-24T22:03:07.066Z"
   },
   {
    "duration": 994,
    "start_time": "2022-04-24T22:03:07.081Z"
   },
   {
    "duration": 9,
    "start_time": "2022-04-24T22:03:08.077Z"
   },
   {
    "duration": 4661,
    "start_time": "2022-04-24T22:03:08.088Z"
   },
   {
    "duration": 7,
    "start_time": "2022-04-24T22:03:12.752Z"
   },
   {
    "duration": 20,
    "start_time": "2022-04-24T22:03:12.764Z"
   },
   {
    "duration": 6,
    "start_time": "2022-04-24T22:03:12.786Z"
   },
   {
    "duration": 265,
    "start_time": "2022-04-24T22:03:12.794Z"
   },
   {
    "duration": 31,
    "start_time": "2022-04-24T22:03:13.062Z"
   },
   {
    "duration": 62,
    "start_time": "2022-04-24T22:03:13.095Z"
   },
   {
    "duration": 8,
    "start_time": "2022-04-24T22:03:13.159Z"
   },
   {
    "duration": 3432,
    "start_time": "2022-04-24T22:03:13.170Z"
   },
   {
    "duration": 4,
    "start_time": "2022-04-24T22:03:16.605Z"
   },
   {
    "duration": 14,
    "start_time": "2022-04-24T22:03:16.611Z"
   },
   {
    "duration": 38,
    "start_time": "2022-04-24T22:03:16.627Z"
   },
   {
    "duration": 8,
    "start_time": "2022-04-24T22:03:16.667Z"
   },
   {
    "duration": 14,
    "start_time": "2022-04-24T22:03:16.680Z"
   },
   {
    "duration": 7,
    "start_time": "2022-04-24T22:03:16.697Z"
   },
   {
    "duration": 8,
    "start_time": "2022-04-24T22:03:16.706Z"
   },
   {
    "duration": 8,
    "start_time": "2022-04-24T22:03:16.716Z"
   },
   {
    "duration": 35,
    "start_time": "2022-04-24T22:03:16.726Z"
   },
   {
    "duration": 10,
    "start_time": "2022-04-24T22:03:16.764Z"
   },
   {
    "duration": 11,
    "start_time": "2022-04-24T22:03:16.776Z"
   },
   {
    "duration": 9,
    "start_time": "2022-04-24T22:03:16.789Z"
   },
   {
    "duration": 6,
    "start_time": "2022-04-24T22:03:16.800Z"
   },
   {
    "duration": 9,
    "start_time": "2022-04-24T22:03:16.808Z"
   },
   {
    "duration": 762,
    "start_time": "2022-04-24T22:03:16.819Z"
   },
   {
    "duration": 11879,
    "start_time": "2022-04-24T22:03:17.583Z"
   },
   {
    "duration": 9,
    "start_time": "2022-04-24T22:03:29.465Z"
   },
   {
    "duration": 1195,
    "start_time": "2022-04-24T22:03:29.476Z"
   },
   {
    "duration": 6,
    "start_time": "2022-04-24T22:03:30.751Z"
   },
   {
    "duration": 4,
    "start_time": "2022-04-24T22:03:36.599Z"
   },
   {
    "duration": 9,
    "start_time": "2022-04-24T22:03:38.565Z"
   },
   {
    "duration": 50,
    "start_time": "2022-04-25T16:25:30.176Z"
   },
   {
    "duration": 3,
    "start_time": "2022-04-25T16:25:51.646Z"
   },
   {
    "duration": 2016,
    "start_time": "2022-04-25T16:25:51.653Z"
   },
   {
    "duration": 3,
    "start_time": "2022-04-25T16:25:53.671Z"
   },
   {
    "duration": 39,
    "start_time": "2022-04-25T16:25:53.675Z"
   },
   {
    "duration": 12,
    "start_time": "2022-04-25T16:25:53.716Z"
   },
   {
    "duration": 13,
    "start_time": "2022-04-25T16:25:53.730Z"
   },
   {
    "duration": 28,
    "start_time": "2022-04-25T16:25:53.745Z"
   },
   {
    "duration": 4,
    "start_time": "2022-04-25T16:25:53.775Z"
   },
   {
    "duration": 13,
    "start_time": "2022-04-25T16:25:53.780Z"
   },
   {
    "duration": 7,
    "start_time": "2022-04-25T16:25:53.795Z"
   },
   {
    "duration": 5,
    "start_time": "2022-04-25T16:25:53.804Z"
   },
   {
    "duration": 1013,
    "start_time": "2022-04-25T16:25:53.811Z"
   },
   {
    "duration": 9,
    "start_time": "2022-04-25T16:25:54.825Z"
   },
   {
    "duration": 738,
    "start_time": "2022-04-25T16:25:54.835Z"
   },
   {
    "duration": 8,
    "start_time": "2022-04-25T16:25:55.576Z"
   },
   {
    "duration": 3114,
    "start_time": "2022-04-25T16:25:55.586Z"
   },
   {
    "duration": 4,
    "start_time": "2022-04-25T16:25:58.701Z"
   },
   {
    "duration": 16,
    "start_time": "2022-04-25T16:25:58.707Z"
   },
   {
    "duration": 8,
    "start_time": "2022-04-25T16:25:58.725Z"
   },
   {
    "duration": 188,
    "start_time": "2022-04-25T16:25:58.735Z"
   },
   {
    "duration": 23,
    "start_time": "2022-04-25T16:25:58.925Z"
   },
   {
    "duration": 69,
    "start_time": "2022-04-25T16:25:58.949Z"
   },
   {
    "duration": 5,
    "start_time": "2022-04-25T16:25:59.020Z"
   },
   {
    "duration": 2305,
    "start_time": "2022-04-25T16:25:59.027Z"
   },
   {
    "duration": 3,
    "start_time": "2022-04-25T16:26:01.334Z"
   },
   {
    "duration": 19,
    "start_time": "2022-04-25T16:26:01.339Z"
   },
   {
    "duration": 22,
    "start_time": "2022-04-25T16:26:01.360Z"
   },
   {
    "duration": 19,
    "start_time": "2022-04-25T16:26:01.384Z"
   },
   {
    "duration": 22,
    "start_time": "2022-04-25T16:26:01.405Z"
   },
   {
    "duration": 9,
    "start_time": "2022-04-25T16:26:01.429Z"
   },
   {
    "duration": 17,
    "start_time": "2022-04-25T16:26:01.440Z"
   },
   {
    "duration": 18,
    "start_time": "2022-04-25T16:26:01.459Z"
   },
   {
    "duration": 32,
    "start_time": "2022-04-25T16:26:01.479Z"
   },
   {
    "duration": 18,
    "start_time": "2022-04-25T16:26:01.513Z"
   },
   {
    "duration": 18,
    "start_time": "2022-04-25T16:26:01.533Z"
   },
   {
    "duration": 14,
    "start_time": "2022-04-25T16:26:01.553Z"
   },
   {
    "duration": 21,
    "start_time": "2022-04-25T16:26:01.569Z"
   },
   {
    "duration": 30,
    "start_time": "2022-04-25T16:26:01.592Z"
   },
   {
    "duration": 527,
    "start_time": "2022-04-25T16:26:01.623Z"
   },
   {
    "duration": 8630,
    "start_time": "2022-04-25T16:26:02.151Z"
   },
   {
    "duration": 4,
    "start_time": "2022-04-25T16:26:10.783Z"
   },
   {
    "duration": 985,
    "start_time": "2022-04-25T16:26:10.791Z"
   },
   {
    "duration": 5,
    "start_time": "2022-04-25T16:26:11.779Z"
   },
   {
    "duration": 9,
    "start_time": "2022-04-25T16:26:19.349Z"
   },
   {
    "duration": 96,
    "start_time": "2022-04-25T16:38:53.382Z"
   },
   {
    "duration": 17,
    "start_time": "2022-04-25T16:38:58.941Z"
   },
   {
    "duration": 31,
    "start_time": "2022-04-25T16:40:40.941Z"
   },
   {
    "duration": 2303,
    "start_time": "2022-04-25T16:40:44.782Z"
   },
   {
    "duration": 2033,
    "start_time": "2022-04-25T16:43:37.359Z"
   },
   {
    "duration": 15,
    "start_time": "2022-04-25T16:45:09.445Z"
   },
   {
    "duration": 4,
    "start_time": "2022-04-25T16:47:26.623Z"
   },
   {
    "duration": 58,
    "start_time": "2022-04-25T16:47:29.667Z"
   },
   {
    "duration": 21,
    "start_time": "2022-04-25T16:47:31.609Z"
   },
   {
    "duration": 2202,
    "start_time": "2022-04-25T16:47:43.959Z"
   },
   {
    "duration": 112,
    "start_time": "2022-04-25T16:48:34.243Z"
   },
   {
    "duration": 79,
    "start_time": "2022-04-25T16:48:51.552Z"
   },
   {
    "duration": 79,
    "start_time": "2022-04-25T16:49:07.839Z"
   },
   {
    "duration": 194,
    "start_time": "2022-04-25T16:49:18.433Z"
   },
   {
    "duration": 2421,
    "start_time": "2022-04-25T16:49:42.498Z"
   },
   {
    "duration": 4,
    "start_time": "2022-04-25T16:51:27.103Z"
   },
   {
    "duration": 6,
    "start_time": "2022-04-25T16:51:32.231Z"
   },
   {
    "duration": 2,
    "start_time": "2022-04-25T16:52:54.154Z"
   },
   {
    "duration": 4,
    "start_time": "2022-04-25T16:52:54.161Z"
   },
   {
    "duration": 6,
    "start_time": "2022-04-25T16:52:54.167Z"
   },
   {
    "duration": 28,
    "start_time": "2022-04-25T16:52:54.175Z"
   },
   {
    "duration": 8,
    "start_time": "2022-04-25T16:52:54.204Z"
   },
   {
    "duration": 12,
    "start_time": "2022-04-25T16:52:54.214Z"
   },
   {
    "duration": 6,
    "start_time": "2022-04-25T16:52:54.227Z"
   },
   {
    "duration": 6,
    "start_time": "2022-04-25T16:52:54.234Z"
   },
   {
    "duration": 35,
    "start_time": "2022-04-25T16:52:54.242Z"
   },
   {
    "duration": 7,
    "start_time": "2022-04-25T16:52:54.279Z"
   },
   {
    "duration": 4,
    "start_time": "2022-04-25T16:52:54.287Z"
   },
   {
    "duration": 812,
    "start_time": "2022-04-25T16:52:54.293Z"
   },
   {
    "duration": 9,
    "start_time": "2022-04-25T16:52:55.107Z"
   },
   {
    "duration": 706,
    "start_time": "2022-04-25T16:52:55.117Z"
   },
   {
    "duration": 7,
    "start_time": "2022-04-25T16:52:55.826Z"
   },
   {
    "duration": 2607,
    "start_time": "2022-04-25T16:52:55.835Z"
   },
   {
    "duration": 3,
    "start_time": "2022-04-25T16:52:58.443Z"
   },
   {
    "duration": 11,
    "start_time": "2022-04-25T16:52:58.447Z"
   },
   {
    "duration": 14,
    "start_time": "2022-04-25T16:52:58.460Z"
   },
   {
    "duration": 157,
    "start_time": "2022-04-25T16:52:58.476Z"
   },
   {
    "duration": 21,
    "start_time": "2022-04-25T16:52:58.634Z"
   },
   {
    "duration": 1951,
    "start_time": "2022-04-25T16:52:58.657Z"
   },
   {
    "duration": 5,
    "start_time": "2022-04-25T16:53:36.746Z"
   },
   {
    "duration": 3,
    "start_time": "2022-04-25T17:01:26.817Z"
   },
   {
    "duration": 2,
    "start_time": "2022-04-25T17:02:00.596Z"
   },
   {
    "duration": 7,
    "start_time": "2022-04-25T17:02:00.603Z"
   },
   {
    "duration": 13,
    "start_time": "2022-04-25T17:02:00.612Z"
   },
   {
    "duration": 39,
    "start_time": "2022-04-25T17:02:00.627Z"
   },
   {
    "duration": 7,
    "start_time": "2022-04-25T17:02:00.668Z"
   },
   {
    "duration": 22,
    "start_time": "2022-04-25T17:02:00.677Z"
   },
   {
    "duration": 15,
    "start_time": "2022-04-25T17:02:00.701Z"
   },
   {
    "duration": 10,
    "start_time": "2022-04-25T17:02:00.717Z"
   },
   {
    "duration": 17,
    "start_time": "2022-04-25T17:02:00.728Z"
   },
   {
    "duration": 13,
    "start_time": "2022-04-25T17:02:00.747Z"
   },
   {
    "duration": 13,
    "start_time": "2022-04-25T17:02:00.762Z"
   },
   {
    "duration": 1075,
    "start_time": "2022-04-25T17:02:00.777Z"
   },
   {
    "duration": 8,
    "start_time": "2022-04-25T17:02:01.854Z"
   },
   {
    "duration": 609,
    "start_time": "2022-04-25T17:02:01.874Z"
   },
   {
    "duration": 7,
    "start_time": "2022-04-25T17:02:02.485Z"
   },
   {
    "duration": 3075,
    "start_time": "2022-04-25T17:02:02.494Z"
   },
   {
    "duration": 3,
    "start_time": "2022-04-25T17:02:05.571Z"
   },
   {
    "duration": 12,
    "start_time": "2022-04-25T17:02:05.576Z"
   },
   {
    "duration": 167,
    "start_time": "2022-04-25T17:02:05.590Z"
   },
   {
    "duration": 27,
    "start_time": "2022-04-25T17:02:05.759Z"
   },
   {
    "duration": 2437,
    "start_time": "2022-04-25T17:02:05.788Z"
   },
   {
    "duration": 4,
    "start_time": "2022-04-25T17:02:08.227Z"
   },
   {
    "duration": 21,
    "start_time": "2022-04-25T17:02:08.232Z"
   },
   {
    "duration": 18,
    "start_time": "2022-04-25T17:02:08.255Z"
   },
   {
    "duration": 31,
    "start_time": "2022-04-25T17:02:08.275Z"
   },
   {
    "duration": 4,
    "start_time": "2022-04-25T17:02:08.308Z"
   },
   {
    "duration": 8,
    "start_time": "2022-04-25T17:02:08.314Z"
   },
   {
    "duration": 6,
    "start_time": "2022-04-25T17:02:08.324Z"
   },
   {
    "duration": 6,
    "start_time": "2022-04-25T17:02:08.332Z"
   },
   {
    "duration": 6,
    "start_time": "2022-04-25T17:02:08.339Z"
   },
   {
    "duration": 34,
    "start_time": "2022-04-25T17:02:08.346Z"
   },
   {
    "duration": 9,
    "start_time": "2022-04-25T17:02:08.382Z"
   },
   {
    "duration": 5,
    "start_time": "2022-04-25T17:02:08.392Z"
   },
   {
    "duration": 6,
    "start_time": "2022-04-25T17:02:08.399Z"
   },
   {
    "duration": 7,
    "start_time": "2022-04-25T17:02:08.407Z"
   },
   {
    "duration": 550,
    "start_time": "2022-04-25T17:02:08.416Z"
   },
   {
    "duration": 1477,
    "start_time": "2022-04-25T17:02:08.968Z"
   },
   {
    "duration": 0,
    "start_time": "2022-04-25T17:02:10.446Z"
   },
   {
    "duration": 0,
    "start_time": "2022-04-25T17:02:10.447Z"
   },
   {
    "duration": 0,
    "start_time": "2022-04-25T17:02:10.449Z"
   },
   {
    "duration": 11286,
    "start_time": "2022-04-25T17:02:47.286Z"
   },
   {
    "duration": 10856,
    "start_time": "2022-04-25T17:03:03.419Z"
   },
   {
    "duration": 5,
    "start_time": "2022-04-25T17:03:45.988Z"
   },
   {
    "duration": 875,
    "start_time": "2022-04-25T17:03:50.102Z"
   },
   {
    "duration": 4,
    "start_time": "2022-04-25T17:03:53.383Z"
   },
   {
    "duration": 8,
    "start_time": "2022-04-25T17:03:55.230Z"
   },
   {
    "duration": 13793,
    "start_time": "2022-04-25T17:06:32.783Z"
   },
   {
    "duration": 5,
    "start_time": "2022-04-25T17:06:50.005Z"
   },
   {
    "duration": 1549,
    "start_time": "2022-04-25T17:06:52.726Z"
   },
   {
    "duration": 4,
    "start_time": "2022-04-25T17:07:02.252Z"
   },
   {
    "duration": 8,
    "start_time": "2022-04-25T17:07:05.533Z"
   },
   {
    "duration": 446,
    "start_time": "2022-04-25T17:08:58.323Z"
   },
   {
    "duration": 4363,
    "start_time": "2022-04-25T17:11:16.312Z"
   },
   {
    "duration": 5,
    "start_time": "2022-04-25T17:11:24.170Z"
   },
   {
    "duration": 13,
    "start_time": "2022-04-25T17:13:07.685Z"
   },
   {
    "duration": 5,
    "start_time": "2022-04-25T17:13:31.029Z"
   },
   {
    "duration": 6864,
    "start_time": "2022-04-25T17:14:05.509Z"
   },
   {
    "duration": 7676,
    "start_time": "2022-04-25T17:14:42.100Z"
   },
   {
    "duration": 8965,
    "start_time": "2022-04-25T17:15:06.617Z"
   },
   {
    "duration": 4,
    "start_time": "2022-04-25T17:15:40.208Z"
   },
   {
    "duration": 333,
    "start_time": "2022-04-25T17:17:09.443Z"
   },
   {
    "duration": 4,
    "start_time": "2022-04-25T17:17:28.521Z"
   },
   {
    "duration": 7,
    "start_time": "2022-04-25T17:17:33.683Z"
   },
   {
    "duration": 3,
    "start_time": "2022-04-25T17:17:42.404Z"
   },
   {
    "duration": 7,
    "start_time": "2022-04-25T17:17:44.156Z"
   },
   {
    "duration": 223777,
    "start_time": "2022-04-25T18:57:32.417Z"
   },
   {
    "duration": 5,
    "start_time": "2022-04-25T19:13:01.559Z"
   },
   {
    "duration": 58513,
    "start_time": "2022-04-25T19:13:57.831Z"
   },
   {
    "duration": 5,
    "start_time": "2022-04-25T19:15:01.141Z"
   },
   {
    "duration": 5,
    "start_time": "2022-04-25T19:15:41.951Z"
   },
   {
    "duration": 17698,
    "start_time": "2022-04-25T19:16:48.026Z"
   },
   {
    "duration": 348,
    "start_time": "2022-04-25T19:17:30.540Z"
   },
   {
    "duration": 17212,
    "start_time": "2022-04-25T19:17:40.979Z"
   },
   {
    "duration": 4,
    "start_time": "2022-04-25T19:18:34.704Z"
   },
   {
    "duration": 7,
    "start_time": "2022-04-25T19:18:39.249Z"
   },
   {
    "duration": 1422,
    "start_time": "2022-04-25T19:32:39.196Z"
   },
   {
    "duration": 1265,
    "start_time": "2022-04-25T19:33:19.408Z"
   },
   {
    "duration": 7,
    "start_time": "2022-04-25T19:33:33.855Z"
   },
   {
    "duration": 9,
    "start_time": "2022-04-25T19:33:50.834Z"
   },
   {
    "duration": 8,
    "start_time": "2022-04-25T19:35:31.077Z"
   },
   {
    "duration": 2,
    "start_time": "2022-04-25T19:35:40.207Z"
   },
   {
    "duration": 14,
    "start_time": "2022-04-25T19:35:40.211Z"
   },
   {
    "duration": 9,
    "start_time": "2022-04-25T19:35:40.227Z"
   },
   {
    "duration": 34,
    "start_time": "2022-04-25T19:35:40.237Z"
   },
   {
    "duration": 7,
    "start_time": "2022-04-25T19:35:40.274Z"
   },
   {
    "duration": 16,
    "start_time": "2022-04-25T19:35:40.283Z"
   },
   {
    "duration": 5,
    "start_time": "2022-04-25T19:35:40.300Z"
   },
   {
    "duration": 13,
    "start_time": "2022-04-25T19:35:40.307Z"
   },
   {
    "duration": 10,
    "start_time": "2022-04-25T19:35:40.322Z"
   },
   {
    "duration": 7,
    "start_time": "2022-04-25T19:35:40.334Z"
   },
   {
    "duration": 5,
    "start_time": "2022-04-25T19:35:40.344Z"
   },
   {
    "duration": 1093,
    "start_time": "2022-04-25T19:35:40.350Z"
   },
   {
    "duration": 8,
    "start_time": "2022-04-25T19:35:41.444Z"
   },
   {
    "duration": 563,
    "start_time": "2022-04-25T19:35:41.454Z"
   },
   {
    "duration": 8,
    "start_time": "2022-04-25T19:35:42.019Z"
   },
   {
    "duration": 2639,
    "start_time": "2022-04-25T19:35:42.028Z"
   },
   {
    "duration": 3,
    "start_time": "2022-04-25T19:35:44.673Z"
   },
   {
    "duration": 11,
    "start_time": "2022-04-25T19:35:44.678Z"
   },
   {
    "duration": 173,
    "start_time": "2022-04-25T19:35:44.690Z"
   },
   {
    "duration": 21,
    "start_time": "2022-04-25T19:35:44.865Z"
   },
   {
    "duration": 2111,
    "start_time": "2022-04-25T19:35:44.888Z"
   },
   {
    "duration": 3,
    "start_time": "2022-04-25T19:35:47.001Z"
   },
   {
    "duration": 20,
    "start_time": "2022-04-25T19:35:47.005Z"
   },
   {
    "duration": 21,
    "start_time": "2022-04-25T19:35:47.027Z"
   },
   {
    "duration": 10,
    "start_time": "2022-04-25T19:35:47.050Z"
   },
   {
    "duration": 45,
    "start_time": "2022-04-25T19:35:53.347Z"
   },
   {
    "duration": 33,
    "start_time": "2022-04-25T19:36:19.330Z"
   },
   {
    "duration": 4,
    "start_time": "2022-04-25T19:40:16.363Z"
   },
   {
    "duration": 27,
    "start_time": "2022-04-25T19:40:38.491Z"
   },
   {
    "duration": 23,
    "start_time": "2022-04-25T19:41:13.698Z"
   },
   {
    "duration": 3,
    "start_time": "2022-04-25T19:52:12.901Z"
   },
   {
    "duration": 6,
    "start_time": "2022-04-25T19:52:12.908Z"
   },
   {
    "duration": 5,
    "start_time": "2022-04-25T19:52:12.916Z"
   },
   {
    "duration": 32,
    "start_time": "2022-04-25T19:52:12.922Z"
   },
   {
    "duration": 7,
    "start_time": "2022-04-25T19:52:12.956Z"
   },
   {
    "duration": 12,
    "start_time": "2022-04-25T19:52:12.966Z"
   },
   {
    "duration": 5,
    "start_time": "2022-04-25T19:52:12.979Z"
   },
   {
    "duration": 6,
    "start_time": "2022-04-25T19:52:12.985Z"
   },
   {
    "duration": 8,
    "start_time": "2022-04-25T19:52:12.993Z"
   },
   {
    "duration": 7,
    "start_time": "2022-04-25T19:52:13.003Z"
   },
   {
    "duration": 7,
    "start_time": "2022-04-25T19:52:13.011Z"
   },
   {
    "duration": 889,
    "start_time": "2022-04-25T19:52:13.020Z"
   },
   {
    "duration": 8,
    "start_time": "2022-04-25T19:52:13.911Z"
   },
   {
    "duration": 886,
    "start_time": "2022-04-25T19:52:13.921Z"
   },
   {
    "duration": 7,
    "start_time": "2022-04-25T19:52:14.811Z"
   },
   {
    "duration": 3744,
    "start_time": "2022-04-25T19:52:14.820Z"
   },
   {
    "duration": 7,
    "start_time": "2022-04-25T19:52:18.566Z"
   },
   {
    "duration": 5,
    "start_time": "2022-04-25T19:52:18.575Z"
   },
   {
    "duration": 161,
    "start_time": "2022-04-25T19:52:18.582Z"
   },
   {
    "duration": 28,
    "start_time": "2022-04-25T19:52:18.745Z"
   },
   {
    "duration": 2179,
    "start_time": "2022-04-25T19:52:18.775Z"
   },
   {
    "duration": 5,
    "start_time": "2022-04-25T19:52:20.956Z"
   },
   {
    "duration": 25,
    "start_time": "2022-04-25T19:52:20.973Z"
   },
   {
    "duration": 3,
    "start_time": "2022-04-25T19:52:20.999Z"
   },
   {
    "duration": 69,
    "start_time": "2022-04-25T19:52:21.004Z"
   },
   {
    "duration": 19,
    "start_time": "2022-04-25T19:52:21.075Z"
   },
   {
    "duration": 38,
    "start_time": "2022-04-25T19:52:21.096Z"
   },
   {
    "duration": 3,
    "start_time": "2022-04-25T19:52:21.136Z"
   },
   {
    "duration": 88,
    "start_time": "2022-04-25T19:52:21.140Z"
   },
   {
    "duration": 4,
    "start_time": "2022-04-25T19:52:21.229Z"
   },
   {
    "duration": 52,
    "start_time": "2022-04-25T19:52:21.235Z"
   },
   {
    "duration": 4,
    "start_time": "2022-04-25T19:52:21.289Z"
   },
   {
    "duration": 11,
    "start_time": "2022-04-25T19:52:21.295Z"
   },
   {
    "duration": 13,
    "start_time": "2022-04-25T19:52:21.308Z"
   },
   {
    "duration": 11,
    "start_time": "2022-04-25T19:52:21.322Z"
   },
   {
    "duration": 8,
    "start_time": "2022-04-25T19:52:21.335Z"
   },
   {
    "duration": 10,
    "start_time": "2022-04-25T19:52:21.345Z"
   },
   {
    "duration": 17,
    "start_time": "2022-04-25T19:52:21.356Z"
   },
   {
    "duration": 9,
    "start_time": "2022-04-25T19:52:21.375Z"
   },
   {
    "duration": 5,
    "start_time": "2022-04-25T19:52:21.385Z"
   },
   {
    "duration": 4584,
    "start_time": "2022-04-25T19:52:21.392Z"
   },
   {
    "duration": 93,
    "start_time": "2022-04-25T19:52:25.982Z"
   },
   {
    "duration": 1198,
    "start_time": "2022-04-25T19:52:26.078Z"
   },
   {
    "duration": 94,
    "start_time": "2022-04-25T19:52:27.278Z"
   },
   {
    "duration": 100,
    "start_time": "2022-04-25T19:52:27.375Z"
   },
   {
    "duration": 7999,
    "start_time": "2022-04-25T19:52:27.476Z"
   },
   {
    "duration": 6,
    "start_time": "2022-04-25T19:52:35.477Z"
   },
   {
    "duration": 292,
    "start_time": "2022-04-25T19:52:35.485Z"
   },
   {
    "duration": 95,
    "start_time": "2022-04-25T19:52:35.779Z"
   },
   {
    "duration": 11,
    "start_time": "2022-04-25T19:52:35.876Z"
   },
   {
    "duration": 51268,
    "start_time": "2022-04-25T19:52:35.888Z"
   },
   {
    "duration": 4,
    "start_time": "2022-04-25T19:53:27.158Z"
   },
   {
    "duration": 16070,
    "start_time": "2022-04-25T19:53:27.163Z"
   },
   {
    "duration": 4,
    "start_time": "2022-04-25T19:53:43.234Z"
   },
   {
    "duration": 10,
    "start_time": "2022-04-25T19:53:43.239Z"
   },
   {
    "duration": 6,
    "start_time": "2022-04-25T19:54:06.819Z"
   },
   {
    "duration": 15,
    "start_time": "2022-04-25T19:57:02.970Z"
   },
   {
    "duration": 7361,
    "start_time": "2022-04-25T19:57:25.038Z"
   },
   {
    "duration": 32,
    "start_time": "2022-04-25T19:57:54.118Z"
   },
   {
    "duration": 108646,
    "start_time": "2022-04-25T19:58:05.158Z"
   },
   {
    "duration": 7386,
    "start_time": "2022-04-25T19:59:59.932Z"
   },
   {
    "duration": 6,
    "start_time": "2022-04-25T20:00:07.321Z"
   },
   {
    "duration": 11,
    "start_time": "2022-04-25T20:00:07.329Z"
   },
   {
    "duration": 49,
    "start_time": "2022-04-25T20:00:07.342Z"
   },
   {
    "duration": 10,
    "start_time": "2022-04-25T20:00:07.393Z"
   },
   {
    "duration": 38,
    "start_time": "2022-04-25T20:00:07.405Z"
   },
   {
    "duration": 73,
    "start_time": "2022-04-25T20:00:07.445Z"
   },
   {
    "duration": 24,
    "start_time": "2022-04-25T20:00:07.520Z"
   },
   {
    "duration": 29,
    "start_time": "2022-04-25T20:00:07.546Z"
   },
   {
    "duration": 12,
    "start_time": "2022-04-25T20:00:07.578Z"
   },
   {
    "duration": 11,
    "start_time": "2022-04-25T20:00:07.592Z"
   },
   {
    "duration": 930,
    "start_time": "2022-04-25T20:00:07.605Z"
   },
   {
    "duration": 8,
    "start_time": "2022-04-25T20:00:08.537Z"
   },
   {
    "duration": 1140,
    "start_time": "2022-04-25T20:00:08.547Z"
   },
   {
    "duration": 8,
    "start_time": "2022-04-25T20:00:09.689Z"
   },
   {
    "duration": 3048,
    "start_time": "2022-04-25T20:00:09.698Z"
   },
   {
    "duration": 4,
    "start_time": "2022-04-25T20:00:12.747Z"
   },
   {
    "duration": 9,
    "start_time": "2022-04-25T20:00:12.752Z"
   },
   {
    "duration": 172,
    "start_time": "2022-04-25T20:00:12.763Z"
   },
   {
    "duration": 22,
    "start_time": "2022-04-25T20:00:12.937Z"
   },
   {
    "duration": 2288,
    "start_time": "2022-04-25T20:00:12.961Z"
   },
   {
    "duration": 5,
    "start_time": "2022-04-25T20:00:15.251Z"
   },
   {
    "duration": 40,
    "start_time": "2022-04-25T20:00:15.258Z"
   },
   {
    "duration": 3,
    "start_time": "2022-04-25T20:00:15.300Z"
   },
   {
    "duration": 25,
    "start_time": "2022-04-25T20:00:15.305Z"
   },
   {
    "duration": 2,
    "start_time": "2022-04-25T20:00:15.333Z"
   },
   {
    "duration": 95,
    "start_time": "2022-04-25T20:00:15.337Z"
   },
   {
    "duration": 4,
    "start_time": "2022-04-25T20:00:15.437Z"
   },
   {
    "duration": 9,
    "start_time": "2022-04-25T20:00:15.443Z"
   },
   {
    "duration": 20,
    "start_time": "2022-04-25T20:00:15.454Z"
   },
   {
    "duration": 6,
    "start_time": "2022-04-25T20:00:15.476Z"
   },
   {
    "duration": 8,
    "start_time": "2022-04-25T20:00:15.484Z"
   },
   {
    "duration": 7,
    "start_time": "2022-04-25T20:00:15.494Z"
   },
   {
    "duration": 11,
    "start_time": "2022-04-25T20:00:15.503Z"
   },
   {
    "duration": 23,
    "start_time": "2022-04-25T20:00:15.515Z"
   },
   {
    "duration": 10,
    "start_time": "2022-04-25T20:00:15.540Z"
   },
   {
    "duration": 4530,
    "start_time": "2022-04-25T20:00:15.552Z"
   },
   {
    "duration": 92,
    "start_time": "2022-04-25T20:00:20.083Z"
   },
   {
    "duration": 999,
    "start_time": "2022-04-25T20:00:20.178Z"
   },
   {
    "duration": 95,
    "start_time": "2022-04-25T20:00:21.180Z"
   },
   {
    "duration": 99,
    "start_time": "2022-04-25T20:00:21.278Z"
   },
   {
    "duration": 8203,
    "start_time": "2022-04-25T20:00:21.379Z"
   },
   {
    "duration": 90,
    "start_time": "2022-04-25T20:00:29.585Z"
   },
   {
    "duration": 303,
    "start_time": "2022-04-25T20:00:29.678Z"
   },
   {
    "duration": 94,
    "start_time": "2022-04-25T20:00:29.983Z"
   },
   {
    "duration": 16,
    "start_time": "2022-04-25T20:00:30.080Z"
   },
   {
    "duration": 51582,
    "start_time": "2022-04-25T20:00:30.097Z"
   },
   {
    "duration": 4,
    "start_time": "2022-04-25T20:01:21.681Z"
   },
   {
    "duration": 16688,
    "start_time": "2022-04-25T20:01:21.687Z"
   },
   {
    "duration": 4,
    "start_time": "2022-04-25T20:01:38.376Z"
   },
   {
    "duration": 9,
    "start_time": "2022-04-25T20:01:38.382Z"
   },
   {
    "duration": 2908293,
    "start_time": "2022-04-25T20:01:38.393Z"
   },
   {
    "duration": 4,
    "start_time": "2022-04-25T20:50:06.688Z"
   },
   {
    "duration": 7201,
    "start_time": "2022-04-25T20:52:11.583Z"
   },
   {
    "duration": 5,
    "start_time": "2022-04-25T20:52:23.343Z"
   },
   {
    "duration": 16,
    "start_time": "2022-04-25T20:54:31.155Z"
   },
   {
    "duration": 6,
    "start_time": "2022-04-25T20:54:42.312Z"
   },
   {
    "duration": 6,
    "start_time": "2022-04-25T20:54:49.243Z"
   },
   {
    "duration": 5,
    "start_time": "2022-04-25T20:54:59.225Z"
   },
   {
    "duration": 7424,
    "start_time": "2022-04-25T20:57:22.542Z"
   },
   {
    "duration": 6,
    "start_time": "2022-04-25T20:57:29.969Z"
   },
   {
    "duration": 37,
    "start_time": "2022-04-25T20:57:29.977Z"
   },
   {
    "duration": 40,
    "start_time": "2022-04-25T20:57:30.016Z"
   },
   {
    "duration": 8,
    "start_time": "2022-04-25T20:57:30.058Z"
   },
   {
    "duration": 27,
    "start_time": "2022-04-25T20:57:30.068Z"
   },
   {
    "duration": 8,
    "start_time": "2022-04-25T20:57:30.097Z"
   },
   {
    "duration": 21,
    "start_time": "2022-04-25T20:57:30.106Z"
   },
   {
    "duration": 22,
    "start_time": "2022-04-25T20:57:30.129Z"
   },
   {
    "duration": 13,
    "start_time": "2022-04-25T20:57:30.154Z"
   },
   {
    "duration": 30,
    "start_time": "2022-04-25T20:57:30.169Z"
   },
   {
    "duration": 1289,
    "start_time": "2022-04-25T20:57:30.201Z"
   },
   {
    "duration": 8,
    "start_time": "2022-04-25T20:57:31.492Z"
   },
   {
    "duration": 620,
    "start_time": "2022-04-25T20:57:31.502Z"
   },
   {
    "duration": 8,
    "start_time": "2022-04-25T20:57:32.124Z"
   },
   {
    "duration": 2556,
    "start_time": "2022-04-25T20:57:32.133Z"
   },
   {
    "duration": 3,
    "start_time": "2022-04-25T20:57:34.692Z"
   },
   {
    "duration": 11,
    "start_time": "2022-04-25T20:57:34.697Z"
   },
   {
    "duration": 188,
    "start_time": "2022-04-25T20:57:34.710Z"
   },
   {
    "duration": 23,
    "start_time": "2022-04-25T20:57:34.900Z"
   },
   {
    "duration": 20,
    "start_time": "2022-04-25T20:57:34.924Z"
   },
   {
    "duration": 2387,
    "start_time": "2022-04-25T20:57:34.946Z"
   },
   {
    "duration": 4,
    "start_time": "2022-04-25T20:57:37.335Z"
   },
   {
    "duration": 10,
    "start_time": "2022-04-25T20:57:37.341Z"
   },
   {
    "duration": 29,
    "start_time": "2022-04-25T20:57:37.353Z"
   },
   {
    "duration": 12,
    "start_time": "2022-04-25T20:57:37.385Z"
   },
   {
    "duration": 41,
    "start_time": "2022-04-25T20:57:37.399Z"
   },
   {
    "duration": 8,
    "start_time": "2022-04-25T20:57:37.443Z"
   },
   {
    "duration": 7,
    "start_time": "2022-04-25T20:57:50.031Z"
   },
   {
    "duration": 5,
    "start_time": "2022-04-25T20:58:05.194Z"
   },
   {
    "duration": 6,
    "start_time": "2022-04-25T20:58:16.188Z"
   },
   {
    "duration": 43,
    "start_time": "2022-04-25T20:58:32.464Z"
   },
   {
    "duration": 40261,
    "start_time": "2022-04-25T20:59:12.028Z"
   },
   {
    "duration": 4,
    "start_time": "2022-04-25T20:59:58.902Z"
   },
   {
    "duration": 980,
    "start_time": "2022-04-25T21:00:30.909Z"
   },
   {
    "duration": 301599,
    "start_time": "2022-04-25T21:01:25.386Z"
   },
   {
    "duration": 4,
    "start_time": "2022-04-25T21:06:26.987Z"
   },
   {
    "duration": 12,
    "start_time": "2022-04-25T21:06:26.992Z"
   },
   {
    "duration": 5,
    "start_time": "2022-04-25T21:07:23.798Z"
   },
   {
    "duration": 26579,
    "start_time": "2022-04-25T21:07:40.002Z"
   },
   {
    "duration": 5,
    "start_time": "2022-04-25T21:08:09.772Z"
   },
   {
    "duration": 4,
    "start_time": "2022-04-25T21:08:58.686Z"
   },
   {
    "duration": 956,
    "start_time": "2022-04-25T21:09:11.232Z"
   },
   {
    "duration": 85,
    "start_time": "2022-04-25T21:09:23.053Z"
   },
   {
    "duration": 876,
    "start_time": "2022-04-25T21:09:48.914Z"
   },
   {
    "duration": 945,
    "start_time": "2022-04-25T21:10:08.344Z"
   },
   {
    "duration": 877,
    "start_time": "2022-04-25T21:10:21.313Z"
   },
   {
    "duration": 1766,
    "start_time": "2022-04-25T21:12:11.793Z"
   },
   {
    "duration": 2291,
    "start_time": "2022-04-25T21:12:21.307Z"
   },
   {
    "duration": 13007,
    "start_time": "2022-04-25T21:13:48.085Z"
   },
   {
    "duration": 16,
    "start_time": "2022-04-25T21:14:43.393Z"
   },
   {
    "duration": 12,
    "start_time": "2022-04-25T21:15:12.736Z"
   },
   {
    "duration": 4,
    "start_time": "2022-04-25T21:15:15.235Z"
   },
   {
    "duration": 13,
    "start_time": "2022-04-25T21:16:04.434Z"
   },
   {
    "duration": 7,
    "start_time": "2022-04-25T21:16:27.689Z"
   },
   {
    "duration": 138,
    "start_time": "2022-04-25T21:18:05.373Z"
   },
   {
    "duration": 135,
    "start_time": "2022-04-25T21:18:18.840Z"
   },
   {
    "duration": 6,
    "start_time": "2022-04-25T21:21:52.045Z"
   },
   {
    "duration": 245,
    "start_time": "2022-04-25T21:24:14.529Z"
   },
   {
    "duration": 7354,
    "start_time": "2022-04-25T21:26:09.787Z"
   },
   {
    "duration": 1710,
    "start_time": "2022-04-25T21:26:17.143Z"
   },
   {
    "duration": 3,
    "start_time": "2022-04-25T21:26:18.854Z"
   },
   {
    "duration": 45,
    "start_time": "2022-04-25T21:26:18.859Z"
   },
   {
    "duration": 11,
    "start_time": "2022-04-25T21:26:18.906Z"
   },
   {
    "duration": 10,
    "start_time": "2022-04-25T21:26:18.919Z"
   },
   {
    "duration": 4,
    "start_time": "2022-04-25T21:26:18.931Z"
   },
   {
    "duration": 8,
    "start_time": "2022-04-25T21:26:18.936Z"
   },
   {
    "duration": 12,
    "start_time": "2022-04-25T21:26:18.946Z"
   },
   {
    "duration": 7,
    "start_time": "2022-04-25T21:26:18.975Z"
   },
   {
    "duration": 8,
    "start_time": "2022-04-25T21:26:18.983Z"
   },
   {
    "duration": 907,
    "start_time": "2022-04-25T21:26:18.992Z"
   },
   {
    "duration": 8,
    "start_time": "2022-04-25T21:26:19.901Z"
   },
   {
    "duration": 706,
    "start_time": "2022-04-25T21:26:19.911Z"
   },
   {
    "duration": 9,
    "start_time": "2022-04-25T21:26:20.619Z"
   },
   {
    "duration": 2972,
    "start_time": "2022-04-25T21:26:20.629Z"
   },
   {
    "duration": 3,
    "start_time": "2022-04-25T21:26:23.603Z"
   },
   {
    "duration": 7,
    "start_time": "2022-04-25T21:26:23.609Z"
   },
   {
    "duration": 187,
    "start_time": "2022-04-25T21:26:23.618Z"
   },
   {
    "duration": 24,
    "start_time": "2022-04-25T21:26:23.807Z"
   },
   {
    "duration": 48,
    "start_time": "2022-04-25T21:26:23.833Z"
   },
   {
    "duration": 2351,
    "start_time": "2022-04-25T21:26:23.882Z"
   },
   {
    "duration": 4,
    "start_time": "2022-04-25T21:26:26.235Z"
   },
   {
    "duration": 5,
    "start_time": "2022-04-25T21:26:26.241Z"
   },
   {
    "duration": 35,
    "start_time": "2022-04-25T21:26:26.247Z"
   },
   {
    "duration": 2,
    "start_time": "2022-04-25T21:26:26.284Z"
   },
   {
    "duration": 54,
    "start_time": "2022-04-25T21:26:26.288Z"
   },
   {
    "duration": 30,
    "start_time": "2022-04-25T21:26:26.346Z"
   },
   {
    "duration": 9,
    "start_time": "2022-04-25T21:26:26.378Z"
   },
   {
    "duration": 9,
    "start_time": "2022-04-25T21:26:26.389Z"
   },
   {
    "duration": 12,
    "start_time": "2022-04-25T21:26:26.400Z"
   },
   {
    "duration": 9,
    "start_time": "2022-04-25T21:26:26.413Z"
   },
   {
    "duration": 10,
    "start_time": "2022-04-25T21:26:26.423Z"
   },
   {
    "duration": 13,
    "start_time": "2022-04-25T21:26:26.435Z"
   },
   {
    "duration": 6,
    "start_time": "2022-04-25T21:26:26.450Z"
   },
   {
    "duration": 17,
    "start_time": "2022-04-25T21:26:26.457Z"
   },
   {
    "duration": 5400,
    "start_time": "2022-04-25T21:26:26.476Z"
   },
   {
    "duration": 94,
    "start_time": "2022-04-25T21:26:31.879Z"
   },
   {
    "duration": 1002,
    "start_time": "2022-04-25T21:26:31.976Z"
   },
   {
    "duration": 5,
    "start_time": "2022-04-25T21:26:32.980Z"
   },
   {
    "duration": 105,
    "start_time": "2022-04-25T21:26:33.075Z"
   },
   {
    "duration": 8593,
    "start_time": "2022-04-25T21:26:33.182Z"
   },
   {
    "duration": 5,
    "start_time": "2022-04-25T21:26:41.778Z"
   },
   {
    "duration": 297,
    "start_time": "2022-04-25T21:26:41.785Z"
   },
   {
    "duration": 90,
    "start_time": "2022-04-25T21:26:42.085Z"
   },
   {
    "duration": 109,
    "start_time": "2022-04-25T21:26:42.177Z"
   },
   {
    "duration": 53174,
    "start_time": "2022-04-25T21:26:42.288Z"
   },
   {
    "duration": 10,
    "start_time": "2022-04-25T21:27:35.463Z"
   },
   {
    "duration": 16140,
    "start_time": "2022-04-25T21:27:35.474Z"
   },
   {
    "duration": 4,
    "start_time": "2022-04-25T21:27:51.616Z"
   },
   {
    "duration": 9,
    "start_time": "2022-04-25T21:27:51.621Z"
   },
   {
    "duration": 3549,
    "start_time": "2022-04-25T21:27:51.631Z"
   },
   {
    "duration": 4,
    "start_time": "2022-04-25T21:27:55.182Z"
   },
   {
    "duration": 991,
    "start_time": "2022-04-25T21:27:55.188Z"
   },
   {
    "duration": 4,
    "start_time": "2022-04-25T21:27:56.181Z"
   },
   {
    "duration": 13,
    "start_time": "2022-04-25T21:27:56.187Z"
   },
   {
    "duration": 185,
    "start_time": "2022-04-25T21:27:56.202Z"
   },
   {
    "duration": 185,
    "start_time": "2022-04-25T21:27:56.389Z"
   },
   {
    "duration": 7248,
    "start_time": "2022-04-25T21:30:37.866Z"
   },
   {
    "duration": 6,
    "start_time": "2022-04-25T21:30:45.116Z"
   },
   {
    "duration": 6,
    "start_time": "2022-04-25T21:30:45.124Z"
   },
   {
    "duration": 33,
    "start_time": "2022-04-25T21:30:45.132Z"
   },
   {
    "duration": 8,
    "start_time": "2022-04-25T21:30:45.167Z"
   },
   {
    "duration": 15,
    "start_time": "2022-04-25T21:30:45.176Z"
   },
   {
    "duration": 5,
    "start_time": "2022-04-25T21:30:45.192Z"
   },
   {
    "duration": 5,
    "start_time": "2022-04-25T21:30:45.198Z"
   },
   {
    "duration": 20,
    "start_time": "2022-04-25T21:30:45.204Z"
   },
   {
    "duration": 9,
    "start_time": "2022-04-25T21:30:45.227Z"
   },
   {
    "duration": 6,
    "start_time": "2022-04-25T21:30:45.238Z"
   },
   {
    "duration": 841,
    "start_time": "2022-04-25T21:30:45.245Z"
   },
   {
    "duration": 7,
    "start_time": "2022-04-25T21:30:46.087Z"
   },
   {
    "duration": 703,
    "start_time": "2022-04-25T21:30:46.096Z"
   },
   {
    "duration": 6,
    "start_time": "2022-04-25T21:30:46.801Z"
   },
   {
    "duration": 2837,
    "start_time": "2022-04-25T21:30:46.809Z"
   },
   {
    "duration": 3,
    "start_time": "2022-04-25T21:30:49.647Z"
   },
   {
    "duration": 9,
    "start_time": "2022-04-25T21:30:49.651Z"
   },
   {
    "duration": 22,
    "start_time": "2022-04-25T21:30:49.661Z"
   },
   {
    "duration": 16,
    "start_time": "2022-04-25T21:30:49.684Z"
   },
   {
    "duration": 9,
    "start_time": "2022-04-25T21:30:49.701Z"
   },
   {
    "duration": 1468,
    "start_time": "2022-04-25T21:30:49.712Z"
   },
   {
    "duration": 3,
    "start_time": "2022-04-25T21:30:51.182Z"
   },
   {
    "duration": 7,
    "start_time": "2022-04-25T21:30:51.187Z"
   },
   {
    "duration": 13,
    "start_time": "2022-04-25T21:30:51.196Z"
   },
   {
    "duration": 12,
    "start_time": "2022-04-25T21:30:51.211Z"
   },
   {
    "duration": 25,
    "start_time": "2022-04-25T21:30:51.225Z"
   },
   {
    "duration": 4,
    "start_time": "2022-04-25T21:30:51.254Z"
   },
   {
    "duration": 14,
    "start_time": "2022-04-25T21:30:51.260Z"
   },
   {
    "duration": 6,
    "start_time": "2022-04-25T21:30:51.275Z"
   },
   {
    "duration": 9,
    "start_time": "2022-04-25T21:30:51.283Z"
   },
   {
    "duration": 5,
    "start_time": "2022-04-25T21:30:51.293Z"
   },
   {
    "duration": 6,
    "start_time": "2022-04-25T21:30:51.300Z"
   },
   {
    "duration": 9,
    "start_time": "2022-04-25T21:30:51.307Z"
   },
   {
    "duration": 5,
    "start_time": "2022-04-25T21:30:51.318Z"
   },
   {
    "duration": 6,
    "start_time": "2022-04-25T21:30:51.324Z"
   },
   {
    "duration": 1241,
    "start_time": "2022-04-25T21:30:51.332Z"
   },
   {
    "duration": 4,
    "start_time": "2022-04-25T21:30:52.575Z"
   },
   {
    "duration": 195,
    "start_time": "2022-04-25T21:30:52.581Z"
   },
   {
    "duration": 96,
    "start_time": "2022-04-25T21:30:52.778Z"
   },
   {
    "duration": 98,
    "start_time": "2022-04-25T21:30:52.877Z"
   },
   {
    "duration": 3201,
    "start_time": "2022-04-25T21:30:52.977Z"
   },
   {
    "duration": 95,
    "start_time": "2022-04-25T21:30:56.180Z"
   },
   {
    "duration": 97,
    "start_time": "2022-04-25T21:30:56.277Z"
   },
   {
    "duration": 5,
    "start_time": "2022-04-25T21:30:56.377Z"
   },
   {
    "duration": 12,
    "start_time": "2022-04-25T21:30:56.474Z"
   },
   {
    "duration": 3715,
    "start_time": "2022-04-25T21:30:56.488Z"
   },
   {
    "duration": 4,
    "start_time": "2022-04-25T21:31:00.204Z"
   },
   {
    "duration": 1195,
    "start_time": "2022-04-25T21:31:00.210Z"
   },
   {
    "duration": 4,
    "start_time": "2022-04-25T21:31:01.407Z"
   },
   {
    "duration": 11,
    "start_time": "2022-04-25T21:31:01.413Z"
   },
   {
    "duration": 764,
    "start_time": "2022-04-25T21:31:01.425Z"
   },
   {
    "duration": 5,
    "start_time": "2022-04-25T21:31:02.191Z"
   },
   {
    "duration": 200,
    "start_time": "2022-04-25T21:31:02.274Z"
   },
   {
    "duration": 5,
    "start_time": "2022-04-25T21:31:02.476Z"
   },
   {
    "duration": 19,
    "start_time": "2022-04-25T21:31:02.482Z"
   },
   {
    "duration": 165,
    "start_time": "2022-04-25T21:31:02.503Z"
   },
   {
    "duration": 22,
    "start_time": "2022-04-25T21:31:02.670Z"
   },
   {
    "duration": 7239,
    "start_time": "2022-04-25T21:31:43.993Z"
   },
   {
    "duration": 1693,
    "start_time": "2022-04-25T21:31:51.234Z"
   },
   {
    "duration": 3,
    "start_time": "2022-04-25T21:31:52.929Z"
   },
   {
    "duration": 34,
    "start_time": "2022-04-25T21:31:52.934Z"
   },
   {
    "duration": 11,
    "start_time": "2022-04-25T21:31:52.974Z"
   },
   {
    "duration": 12,
    "start_time": "2022-04-25T21:31:52.987Z"
   },
   {
    "duration": 5,
    "start_time": "2022-04-25T21:31:53.001Z"
   },
   {
    "duration": 4,
    "start_time": "2022-04-25T21:31:53.008Z"
   },
   {
    "duration": 11,
    "start_time": "2022-04-25T21:31:53.014Z"
   },
   {
    "duration": 8,
    "start_time": "2022-04-25T21:31:53.027Z"
   },
   {
    "duration": 3,
    "start_time": "2022-04-25T21:31:53.074Z"
   },
   {
    "duration": 870,
    "start_time": "2022-04-25T21:31:53.079Z"
   },
   {
    "duration": 9,
    "start_time": "2022-04-25T21:31:53.951Z"
   },
   {
    "duration": 670,
    "start_time": "2022-04-25T21:31:53.973Z"
   },
   {
    "duration": 8,
    "start_time": "2022-04-25T21:31:54.645Z"
   },
   {
    "duration": 3090,
    "start_time": "2022-04-25T21:31:54.655Z"
   },
   {
    "duration": 3,
    "start_time": "2022-04-25T21:31:57.747Z"
   },
   {
    "duration": 6,
    "start_time": "2022-04-25T21:31:57.752Z"
   },
   {
    "duration": 176,
    "start_time": "2022-04-25T21:31:57.759Z"
   },
   {
    "duration": 23,
    "start_time": "2022-04-25T21:31:57.937Z"
   },
   {
    "duration": 39,
    "start_time": "2022-04-25T21:31:57.962Z"
   },
   {
    "duration": 2192,
    "start_time": "2022-04-25T21:31:58.003Z"
   },
   {
    "duration": 5,
    "start_time": "2022-04-25T21:32:00.197Z"
   },
   {
    "duration": 12,
    "start_time": "2022-04-25T21:32:00.205Z"
   },
   {
    "duration": 21,
    "start_time": "2022-04-25T21:32:00.219Z"
   },
   {
    "duration": 6,
    "start_time": "2022-04-25T21:32:00.242Z"
   },
   {
    "duration": 70,
    "start_time": "2022-04-25T21:32:00.250Z"
   },
   {
    "duration": 5,
    "start_time": "2022-04-25T21:32:00.322Z"
   },
   {
    "duration": 26,
    "start_time": "2022-04-25T21:32:00.329Z"
   },
   {
    "duration": 39,
    "start_time": "2022-04-25T21:32:00.357Z"
   },
   {
    "duration": 24,
    "start_time": "2022-04-25T21:32:00.398Z"
   },
   {
    "duration": 28,
    "start_time": "2022-04-25T21:32:00.423Z"
   },
   {
    "duration": 15,
    "start_time": "2022-04-25T21:32:00.453Z"
   },
   {
    "duration": 28,
    "start_time": "2022-04-25T21:32:00.470Z"
   },
   {
    "duration": 14,
    "start_time": "2022-04-25T21:32:00.499Z"
   },
   {
    "duration": 12,
    "start_time": "2022-04-25T21:32:00.515Z"
   },
   {
    "duration": 4752,
    "start_time": "2022-04-25T21:32:00.529Z"
   },
   {
    "duration": 93,
    "start_time": "2022-04-25T21:32:05.282Z"
   },
   {
    "duration": 905,
    "start_time": "2022-04-25T21:32:05.377Z"
   },
   {
    "duration": 5,
    "start_time": "2022-04-25T21:32:06.375Z"
   },
   {
    "duration": 7,
    "start_time": "2022-04-25T21:32:06.475Z"
   },
   {
    "duration": 7994,
    "start_time": "2022-04-25T21:32:06.484Z"
   },
   {
    "duration": 95,
    "start_time": "2022-04-25T21:32:14.481Z"
   },
   {
    "duration": 200,
    "start_time": "2022-04-25T21:32:14.577Z"
   },
   {
    "duration": 94,
    "start_time": "2022-04-25T21:32:14.779Z"
   },
   {
    "duration": 97,
    "start_time": "2022-04-25T21:32:14.876Z"
   },
   {
    "duration": 51024,
    "start_time": "2022-04-25T21:32:14.976Z"
   },
   {
    "duration": 4,
    "start_time": "2022-04-25T21:33:06.002Z"
   },
   {
    "duration": 16324,
    "start_time": "2022-04-25T21:33:06.007Z"
   },
   {
    "duration": 3,
    "start_time": "2022-04-25T21:33:22.333Z"
   },
   {
    "duration": 10,
    "start_time": "2022-04-25T21:33:22.338Z"
   },
   {
    "duration": 4035,
    "start_time": "2022-04-25T21:33:22.350Z"
   },
   {
    "duration": 5,
    "start_time": "2022-04-25T21:33:26.387Z"
   },
   {
    "duration": 988,
    "start_time": "2022-04-25T21:33:26.393Z"
   },
   {
    "duration": 3,
    "start_time": "2022-04-25T21:33:27.383Z"
   },
   {
    "duration": 12,
    "start_time": "2022-04-25T21:33:27.388Z"
   },
   {
    "duration": 178,
    "start_time": "2022-04-25T21:33:27.402Z"
   },
   {
    "duration": 194,
    "start_time": "2022-04-25T21:33:27.582Z"
   },
   {
    "duration": 7193,
    "start_time": "2022-04-25T21:38:54.278Z"
   },
   {
    "duration": 1770,
    "start_time": "2022-04-25T21:39:01.473Z"
   },
   {
    "duration": 2,
    "start_time": "2022-04-25T21:39:03.245Z"
   },
   {
    "duration": 36,
    "start_time": "2022-04-25T21:39:03.249Z"
   },
   {
    "duration": 10,
    "start_time": "2022-04-25T21:39:03.287Z"
   },
   {
    "duration": 29,
    "start_time": "2022-04-25T21:39:03.299Z"
   },
   {
    "duration": 4,
    "start_time": "2022-04-25T21:39:03.330Z"
   },
   {
    "duration": 7,
    "start_time": "2022-04-25T21:39:03.335Z"
   },
   {
    "duration": 10,
    "start_time": "2022-04-25T21:39:03.344Z"
   },
   {
    "duration": 16,
    "start_time": "2022-04-25T21:39:03.358Z"
   },
   {
    "duration": 7,
    "start_time": "2022-04-25T21:39:03.375Z"
   },
   {
    "duration": 857,
    "start_time": "2022-04-25T21:39:03.384Z"
   },
   {
    "duration": 7,
    "start_time": "2022-04-25T21:39:04.242Z"
   },
   {
    "duration": 667,
    "start_time": "2022-04-25T21:39:04.251Z"
   },
   {
    "duration": 7,
    "start_time": "2022-04-25T21:39:04.919Z"
   },
   {
    "duration": 3024,
    "start_time": "2022-04-25T21:39:04.928Z"
   },
   {
    "duration": 3,
    "start_time": "2022-04-25T21:39:07.954Z"
   },
   {
    "duration": 15,
    "start_time": "2022-04-25T21:39:07.958Z"
   },
   {
    "duration": 174,
    "start_time": "2022-04-25T21:39:07.975Z"
   },
   {
    "duration": 24,
    "start_time": "2022-04-25T21:39:08.151Z"
   },
   {
    "duration": 25,
    "start_time": "2022-04-25T21:39:08.177Z"
   },
   {
    "duration": 2192,
    "start_time": "2022-04-25T21:39:08.204Z"
   },
   {
    "duration": 5,
    "start_time": "2022-04-25T21:39:10.397Z"
   },
   {
    "duration": 7,
    "start_time": "2022-04-25T21:39:10.403Z"
   },
   {
    "duration": 19,
    "start_time": "2022-04-25T21:39:10.412Z"
   },
   {
    "duration": 3,
    "start_time": "2022-04-25T21:39:10.432Z"
   },
   {
    "duration": 78,
    "start_time": "2022-04-25T21:39:10.436Z"
   },
   {
    "duration": 5,
    "start_time": "2022-04-25T21:39:10.518Z"
   },
   {
    "duration": 14,
    "start_time": "2022-04-25T21:39:10.524Z"
   },
   {
    "duration": 9,
    "start_time": "2022-04-25T21:39:10.540Z"
   },
   {
    "duration": 10,
    "start_time": "2022-04-25T21:39:10.551Z"
   },
   {
    "duration": 7,
    "start_time": "2022-04-25T21:39:10.563Z"
   },
   {
    "duration": 7,
    "start_time": "2022-04-25T21:39:10.571Z"
   },
   {
    "duration": 9,
    "start_time": "2022-04-25T21:39:10.580Z"
   },
   {
    "duration": 12,
    "start_time": "2022-04-25T21:39:10.591Z"
   },
   {
    "duration": 6,
    "start_time": "2022-04-25T21:39:10.605Z"
   },
   {
    "duration": 4169,
    "start_time": "2022-04-25T21:39:10.612Z"
   },
   {
    "duration": 92,
    "start_time": "2022-04-25T21:39:14.783Z"
   },
   {
    "duration": 899,
    "start_time": "2022-04-25T21:39:14.877Z"
   },
   {
    "duration": 5,
    "start_time": "2022-04-25T21:39:15.779Z"
   },
   {
    "duration": 12,
    "start_time": "2022-04-25T21:39:15.874Z"
   },
   {
    "duration": 7804,
    "start_time": "2022-04-25T21:39:15.973Z"
   },
   {
    "duration": 5,
    "start_time": "2022-04-25T21:39:23.872Z"
   },
   {
    "duration": 198,
    "start_time": "2022-04-25T21:39:23.879Z"
   },
   {
    "duration": 95,
    "start_time": "2022-04-25T21:39:24.079Z"
   },
   {
    "duration": 19,
    "start_time": "2022-04-25T21:39:24.176Z"
   },
   {
    "duration": 50803,
    "start_time": "2022-04-25T21:39:24.274Z"
   },
   {
    "duration": 5,
    "start_time": "2022-04-25T21:40:15.078Z"
   },
   {
    "duration": 16877,
    "start_time": "2022-04-25T21:40:15.085Z"
   },
   {
    "duration": 3,
    "start_time": "2022-04-25T21:40:31.964Z"
   },
   {
    "duration": 13,
    "start_time": "2022-04-25T21:40:31.972Z"
   },
   {
    "duration": 115902,
    "start_time": "2022-04-25T21:40:31.988Z"
   },
   {
    "duration": 4,
    "start_time": "2022-04-25T21:42:27.892Z"
   },
   {
    "duration": 3496,
    "start_time": "2022-04-25T21:42:27.898Z"
   },
   {
    "duration": 5,
    "start_time": "2022-04-25T21:42:31.396Z"
   },
   {
    "duration": 84,
    "start_time": "2022-04-25T21:42:31.402Z"
   },
   {
    "duration": 150,
    "start_time": "2022-04-25T21:42:31.489Z"
   },
   {
    "duration": 235,
    "start_time": "2022-04-25T21:42:31.641Z"
   },
   {
    "duration": 4,
    "start_time": "2022-04-25T21:42:31.880Z"
   },
   {
    "duration": 1971,
    "start_time": "2022-04-25T21:46:44.405Z"
   },
   {
    "duration": 7222,
    "start_time": "2022-04-25T21:47:36.262Z"
   },
   {
    "duration": 1614,
    "start_time": "2022-04-25T21:47:43.486Z"
   },
   {
    "duration": 3,
    "start_time": "2022-04-25T21:47:45.102Z"
   },
   {
    "duration": 43,
    "start_time": "2022-04-25T21:47:45.107Z"
   },
   {
    "duration": 10,
    "start_time": "2022-04-25T21:47:45.152Z"
   },
   {
    "duration": 10,
    "start_time": "2022-04-25T21:47:45.164Z"
   },
   {
    "duration": 4,
    "start_time": "2022-04-25T21:47:45.175Z"
   },
   {
    "duration": 7,
    "start_time": "2022-04-25T21:47:45.180Z"
   },
   {
    "duration": 10,
    "start_time": "2022-04-25T21:47:45.188Z"
   },
   {
    "duration": 6,
    "start_time": "2022-04-25T21:47:45.201Z"
   },
   {
    "duration": 5,
    "start_time": "2022-04-25T21:47:45.209Z"
   },
   {
    "duration": 850,
    "start_time": "2022-04-25T21:47:45.215Z"
   },
   {
    "duration": 13,
    "start_time": "2022-04-25T21:47:46.067Z"
   },
   {
    "duration": 655,
    "start_time": "2022-04-25T21:47:46.082Z"
   },
   {
    "duration": 7,
    "start_time": "2022-04-25T21:47:46.739Z"
   },
   {
    "duration": 3004,
    "start_time": "2022-04-25T21:47:46.748Z"
   },
   {
    "duration": 2,
    "start_time": "2022-04-25T21:47:49.754Z"
   },
   {
    "duration": 6,
    "start_time": "2022-04-25T21:47:49.758Z"
   },
   {
    "duration": 168,
    "start_time": "2022-04-25T21:47:49.773Z"
   },
   {
    "duration": 32,
    "start_time": "2022-04-25T21:47:49.942Z"
   },
   {
    "duration": 26,
    "start_time": "2022-04-25T21:47:49.976Z"
   },
   {
    "duration": 2185,
    "start_time": "2022-04-25T21:47:50.004Z"
   },
   {
    "duration": 4,
    "start_time": "2022-04-25T21:47:52.191Z"
   },
   {
    "duration": 4,
    "start_time": "2022-04-25T21:47:52.197Z"
   },
   {
    "duration": 19,
    "start_time": "2022-04-25T21:47:52.203Z"
   },
   {
    "duration": 3,
    "start_time": "2022-04-25T21:47:52.223Z"
   },
   {
    "duration": 75,
    "start_time": "2022-04-25T21:47:52.227Z"
   },
   {
    "duration": 4,
    "start_time": "2022-04-25T21:47:52.306Z"
   },
   {
    "duration": 13,
    "start_time": "2022-04-25T21:47:52.311Z"
   },
   {
    "duration": 13,
    "start_time": "2022-04-25T21:47:52.326Z"
   },
   {
    "duration": 11,
    "start_time": "2022-04-25T21:47:52.341Z"
   },
   {
    "duration": 8,
    "start_time": "2022-04-25T21:47:52.354Z"
   },
   {
    "duration": 10,
    "start_time": "2022-04-25T21:47:52.364Z"
   },
   {
    "duration": 8,
    "start_time": "2022-04-25T21:47:52.376Z"
   },
   {
    "duration": 5,
    "start_time": "2022-04-25T21:47:52.386Z"
   },
   {
    "duration": 8,
    "start_time": "2022-04-25T21:47:52.393Z"
   },
   {
    "duration": 4373,
    "start_time": "2022-04-25T21:47:52.403Z"
   },
   {
    "duration": 95,
    "start_time": "2022-04-25T21:47:56.779Z"
   },
   {
    "duration": 1001,
    "start_time": "2022-04-25T21:47:56.875Z"
   },
   {
    "duration": 95,
    "start_time": "2022-04-25T21:47:57.879Z"
   },
   {
    "duration": 14,
    "start_time": "2022-04-25T21:47:57.976Z"
   },
   {
    "duration": 8188,
    "start_time": "2022-04-25T21:47:57.992Z"
   },
   {
    "duration": 95,
    "start_time": "2022-04-25T21:48:06.181Z"
   },
   {
    "duration": 199,
    "start_time": "2022-04-25T21:48:06.278Z"
   },
   {
    "duration": 4,
    "start_time": "2022-04-25T21:48:06.572Z"
   },
   {
    "duration": 9,
    "start_time": "2022-04-25T21:48:06.578Z"
   },
   {
    "duration": 50658,
    "start_time": "2022-04-25T21:48:06.589Z"
   },
   {
    "duration": 4,
    "start_time": "2022-04-25T21:48:57.249Z"
   },
   {
    "duration": 17582,
    "start_time": "2022-04-25T21:48:57.254Z"
   },
   {
    "duration": 5,
    "start_time": "2022-04-25T21:49:14.837Z"
   },
   {
    "duration": 15,
    "start_time": "2022-04-25T21:49:14.844Z"
   },
   {
    "duration": 44124,
    "start_time": "2022-04-25T21:49:14.861Z"
   },
   {
    "duration": 4,
    "start_time": "2022-04-25T21:49:58.986Z"
   },
   {
    "duration": 993,
    "start_time": "2022-04-25T21:49:58.991Z"
   },
   {
    "duration": 4,
    "start_time": "2022-04-25T21:49:59.986Z"
   },
   {
    "duration": 11,
    "start_time": "2022-04-25T21:49:59.991Z"
   },
   {
    "duration": 202,
    "start_time": "2022-04-25T21:50:00.004Z"
   },
   {
    "duration": 1868,
    "start_time": "2022-04-25T21:50:00.207Z"
   },
   {
    "duration": 7394,
    "start_time": "2022-04-25T22:00:58.979Z"
   },
   {
    "duration": 5,
    "start_time": "2022-04-25T22:01:06.376Z"
   },
   {
    "duration": 6,
    "start_time": "2022-04-25T22:01:06.384Z"
   },
   {
    "duration": 37,
    "start_time": "2022-04-25T22:01:06.392Z"
   },
   {
    "duration": 10,
    "start_time": "2022-04-25T22:01:06.431Z"
   },
   {
    "duration": 33,
    "start_time": "2022-04-25T22:01:06.443Z"
   },
   {
    "duration": 5,
    "start_time": "2022-04-25T22:01:06.477Z"
   },
   {
    "duration": 7,
    "start_time": "2022-04-25T22:01:06.484Z"
   },
   {
    "duration": 17,
    "start_time": "2022-04-25T22:01:06.493Z"
   },
   {
    "duration": 9,
    "start_time": "2022-04-25T22:01:06.512Z"
   },
   {
    "duration": 6,
    "start_time": "2022-04-25T22:01:06.523Z"
   },
   {
    "duration": 1022,
    "start_time": "2022-04-25T22:01:06.531Z"
   },
   {
    "duration": 8,
    "start_time": "2022-04-25T22:01:07.555Z"
   },
   {
    "duration": 584,
    "start_time": "2022-04-25T22:01:07.565Z"
   },
   {
    "duration": 8,
    "start_time": "2022-04-25T22:01:08.151Z"
   },
   {
    "duration": 2924,
    "start_time": "2022-04-25T22:01:08.173Z"
   },
   {
    "duration": 3,
    "start_time": "2022-04-25T22:01:11.099Z"
   },
   {
    "duration": 8,
    "start_time": "2022-04-25T22:01:11.103Z"
   },
   {
    "duration": 163,
    "start_time": "2022-04-25T22:01:11.113Z"
   },
   {
    "duration": 22,
    "start_time": "2022-04-25T22:01:11.277Z"
   },
   {
    "duration": 20,
    "start_time": "2022-04-25T22:01:11.301Z"
   },
   {
    "duration": 2218,
    "start_time": "2022-04-25T22:01:11.323Z"
   },
   {
    "duration": 5,
    "start_time": "2022-04-25T22:01:13.542Z"
   },
   {
    "duration": 6,
    "start_time": "2022-04-25T22:01:13.549Z"
   },
   {
    "duration": 26,
    "start_time": "2022-04-25T22:01:13.556Z"
   },
   {
    "duration": 5,
    "start_time": "2022-04-25T22:01:13.584Z"
   },
   {
    "duration": 39,
    "start_time": "2022-04-25T22:01:13.591Z"
   },
   {
    "duration": 5,
    "start_time": "2022-04-25T22:01:13.632Z"
   },
   {
    "duration": 8,
    "start_time": "2022-04-25T22:01:13.638Z"
   },
   {
    "duration": 27,
    "start_time": "2022-04-25T22:01:13.647Z"
   },
   {
    "duration": 7,
    "start_time": "2022-04-25T22:01:13.676Z"
   },
   {
    "duration": 9,
    "start_time": "2022-04-25T22:01:13.684Z"
   },
   {
    "duration": 9,
    "start_time": "2022-04-25T22:01:13.695Z"
   },
   {
    "duration": 11,
    "start_time": "2022-04-25T22:01:13.705Z"
   },
   {
    "duration": 7,
    "start_time": "2022-04-25T22:01:13.718Z"
   },
   {
    "duration": 8,
    "start_time": "2022-04-25T22:01:13.726Z"
   },
   {
    "duration": 4446,
    "start_time": "2022-04-25T22:01:13.736Z"
   },
   {
    "duration": 5,
    "start_time": "2022-04-25T22:01:18.274Z"
   },
   {
    "duration": 895,
    "start_time": "2022-04-25T22:01:18.281Z"
   },
   {
    "duration": 96,
    "start_time": "2022-04-25T22:01:19.178Z"
   },
   {
    "duration": 97,
    "start_time": "2022-04-25T22:01:19.276Z"
   },
   {
    "duration": 7707,
    "start_time": "2022-04-25T22:01:19.375Z"
   },
   {
    "duration": 88,
    "start_time": "2022-04-25T22:01:27.085Z"
   },
   {
    "duration": 303,
    "start_time": "2022-04-25T22:01:27.175Z"
   },
   {
    "duration": 92,
    "start_time": "2022-04-25T22:01:27.482Z"
   },
   {
    "duration": 8,
    "start_time": "2022-04-25T22:01:27.575Z"
   },
   {
    "duration": 50998,
    "start_time": "2022-04-25T22:01:27.585Z"
   },
   {
    "duration": 4,
    "start_time": "2022-04-25T22:02:18.584Z"
   },
   {
    "duration": 16447,
    "start_time": "2022-04-25T22:02:18.590Z"
   },
   {
    "duration": 4,
    "start_time": "2022-04-25T22:02:35.039Z"
   },
   {
    "duration": 12,
    "start_time": "2022-04-25T22:02:35.045Z"
   },
   {
    "duration": 3327,
    "start_time": "2022-04-25T22:02:35.059Z"
   },
   {
    "duration": 4,
    "start_time": "2022-04-25T22:02:38.388Z"
   },
   {
    "duration": 985,
    "start_time": "2022-04-25T22:02:38.393Z"
   },
   {
    "duration": 4,
    "start_time": "2022-04-25T22:02:39.379Z"
   },
   {
    "duration": 12,
    "start_time": "2022-04-25T22:02:39.385Z"
   },
   {
    "duration": 174,
    "start_time": "2022-04-25T22:02:39.398Z"
   },
   {
    "duration": 1705,
    "start_time": "2022-04-25T22:02:39.574Z"
   },
   {
    "duration": 2471,
    "start_time": "2022-04-25T22:18:36.465Z"
   },
   {
    "duration": 1662,
    "start_time": "2022-04-25T22:18:38.939Z"
   },
   {
    "duration": 3,
    "start_time": "2022-04-25T22:18:40.603Z"
   },
   {
    "duration": 34,
    "start_time": "2022-04-25T22:18:40.608Z"
   },
   {
    "duration": 10,
    "start_time": "2022-04-25T22:18:40.644Z"
   },
   {
    "duration": 19,
    "start_time": "2022-04-25T22:18:40.656Z"
   },
   {
    "duration": 4,
    "start_time": "2022-04-25T22:18:40.677Z"
   },
   {
    "duration": 7,
    "start_time": "2022-04-25T22:18:40.682Z"
   },
   {
    "duration": 13,
    "start_time": "2022-04-25T22:18:40.691Z"
   },
   {
    "duration": 6,
    "start_time": "2022-04-25T22:18:40.707Z"
   },
   {
    "duration": 5,
    "start_time": "2022-04-25T22:18:40.715Z"
   },
   {
    "duration": 884,
    "start_time": "2022-04-25T22:18:40.721Z"
   },
   {
    "duration": 8,
    "start_time": "2022-04-25T22:18:41.607Z"
   },
   {
    "duration": 666,
    "start_time": "2022-04-25T22:18:41.616Z"
   },
   {
    "duration": 7,
    "start_time": "2022-04-25T22:18:42.284Z"
   },
   {
    "duration": 2977,
    "start_time": "2022-04-25T22:18:42.293Z"
   },
   {
    "duration": 3,
    "start_time": "2022-04-25T22:18:45.271Z"
   },
   {
    "duration": 9,
    "start_time": "2022-04-25T22:18:45.276Z"
   },
   {
    "duration": 169,
    "start_time": "2022-04-25T22:18:45.286Z"
   },
   {
    "duration": 26,
    "start_time": "2022-04-25T22:18:45.456Z"
   },
   {
    "duration": 26,
    "start_time": "2022-04-25T22:18:45.484Z"
   },
   {
    "duration": 2256,
    "start_time": "2022-04-25T22:18:45.512Z"
   },
   {
    "duration": 5,
    "start_time": "2022-04-25T22:18:47.770Z"
   },
   {
    "duration": 11,
    "start_time": "2022-04-25T22:18:47.776Z"
   },
   {
    "duration": 21,
    "start_time": "2022-04-25T22:18:47.789Z"
   },
   {
    "duration": 4,
    "start_time": "2022-04-25T22:18:47.812Z"
   },
   {
    "duration": 65,
    "start_time": "2022-04-25T22:18:47.818Z"
   },
   {
    "duration": 4,
    "start_time": "2022-04-25T22:18:47.887Z"
   },
   {
    "duration": 5,
    "start_time": "2022-04-25T22:18:47.893Z"
   },
   {
    "duration": 8,
    "start_time": "2022-04-25T22:18:47.899Z"
   },
   {
    "duration": 7,
    "start_time": "2022-04-25T22:18:47.909Z"
   },
   {
    "duration": 7,
    "start_time": "2022-04-25T22:18:47.918Z"
   },
   {
    "duration": 12,
    "start_time": "2022-04-25T22:18:47.927Z"
   },
   {
    "duration": 33,
    "start_time": "2022-04-25T22:18:47.940Z"
   },
   {
    "duration": 3,
    "start_time": "2022-04-25T22:18:47.975Z"
   },
   {
    "duration": 8,
    "start_time": "2022-04-25T22:18:47.979Z"
   },
   {
    "duration": 4387,
    "start_time": "2022-04-25T22:18:47.988Z"
   },
   {
    "duration": 5,
    "start_time": "2022-04-25T22:18:52.376Z"
   },
   {
    "duration": 1091,
    "start_time": "2022-04-25T22:18:52.383Z"
   },
   {
    "duration": 6,
    "start_time": "2022-04-25T22:18:53.476Z"
   },
   {
    "duration": 10,
    "start_time": "2022-04-25T22:18:53.575Z"
   },
   {
    "duration": 7495,
    "start_time": "2022-04-25T22:18:53.587Z"
   },
   {
    "duration": 94,
    "start_time": "2022-04-25T22:19:01.083Z"
   },
   {
    "duration": 294,
    "start_time": "2022-04-25T22:19:01.179Z"
   },
   {
    "duration": 5,
    "start_time": "2022-04-25T22:19:01.476Z"
   },
   {
    "duration": 93,
    "start_time": "2022-04-25T22:19:01.483Z"
   },
   {
    "duration": 51777,
    "start_time": "2022-04-25T22:19:01.578Z"
   },
   {
    "duration": 4,
    "start_time": "2022-04-25T22:19:53.357Z"
   },
   {
    "duration": 16583,
    "start_time": "2022-04-25T22:19:53.363Z"
   },
   {
    "duration": 4,
    "start_time": "2022-04-25T22:20:09.948Z"
   },
   {
    "duration": 12,
    "start_time": "2022-04-25T22:20:09.953Z"
   },
   {
    "duration": 3612,
    "start_time": "2022-04-25T22:20:09.973Z"
   },
   {
    "duration": 4,
    "start_time": "2022-04-25T22:20:13.588Z"
   },
   {
    "duration": 990,
    "start_time": "2022-04-25T22:20:13.594Z"
   },
   {
    "duration": 4,
    "start_time": "2022-04-25T22:20:14.586Z"
   },
   {
    "duration": 10,
    "start_time": "2022-04-25T22:20:14.592Z"
   },
   {
    "duration": 190,
    "start_time": "2022-04-25T22:20:14.604Z"
   },
   {
    "duration": 1982,
    "start_time": "2022-04-25T22:20:14.795Z"
   },
   {
    "duration": 80024,
    "start_time": "2022-04-26T15:25:41.461Z"
   },
   {
    "duration": 4,
    "start_time": "2022-04-26T15:27:24.770Z"
   },
   {
    "duration": 711,
    "start_time": "2022-04-26T15:27:25.569Z"
   },
   {
    "duration": 19,
    "start_time": "2022-04-26T15:27:26.284Z"
   },
   {
    "duration": 18,
    "start_time": "2022-04-26T15:27:26.306Z"
   },
   {
    "duration": 5,
    "start_time": "2022-04-26T15:27:26.703Z"
   },
   {
    "duration": 5,
    "start_time": "2022-04-26T15:27:27.050Z"
   },
   {
    "duration": 11,
    "start_time": "2022-04-26T15:27:27.400Z"
   },
   {
    "duration": 11,
    "start_time": "2022-04-26T15:27:27.566Z"
   },
   {
    "duration": 4,
    "start_time": "2022-04-26T15:27:28.673Z"
   },
   {
    "duration": 1447,
    "start_time": "2022-04-26T15:27:28.863Z"
   },
   {
    "duration": 12,
    "start_time": "2022-04-26T15:27:30.312Z"
   },
   {
    "duration": 1148,
    "start_time": "2022-04-26T15:27:30.326Z"
   },
   {
    "duration": 18,
    "start_time": "2022-04-26T15:27:31.478Z"
   },
   {
    "duration": 3916,
    "start_time": "2022-04-26T15:27:31.586Z"
   },
   {
    "duration": 7,
    "start_time": "2022-04-26T15:28:09.313Z"
   },
   {
    "duration": 204,
    "start_time": "2022-04-26T15:29:03.187Z"
   },
   {
    "duration": 5,
    "start_time": "2022-04-26T15:29:07.784Z"
   },
   {
    "duration": 13,
    "start_time": "2022-04-26T15:29:09.797Z"
   },
   {
    "duration": 2563,
    "start_time": "2022-04-27T06:43:07.672Z"
   },
   {
    "duration": 1959,
    "start_time": "2022-04-27T06:43:13.596Z"
   },
   {
    "duration": 3,
    "start_time": "2022-04-27T06:43:18.290Z"
   },
   {
    "duration": 32,
    "start_time": "2022-04-27T06:43:20.399Z"
   },
   {
    "duration": 10,
    "start_time": "2022-04-27T06:43:23.484Z"
   },
   {
    "duration": 11,
    "start_time": "2022-04-27T06:43:27.001Z"
   },
   {
    "duration": 4,
    "start_time": "2022-04-27T06:43:32.368Z"
   },
   {
    "duration": 4,
    "start_time": "2022-04-27T06:43:35.474Z"
   },
   {
    "duration": 13,
    "start_time": "2022-04-27T06:44:00.763Z"
   },
   {
    "duration": 7,
    "start_time": "2022-04-27T06:44:02.601Z"
   },
   {
    "duration": 2,
    "start_time": "2022-04-27T06:44:07.316Z"
   },
   {
    "duration": 937,
    "start_time": "2022-04-27T06:44:09.387Z"
   },
   {
    "duration": 3,
    "start_time": "2022-04-27T07:38:57.007Z"
   },
   {
    "duration": 2304,
    "start_time": "2022-04-27T07:52:24.633Z"
   },
   {
    "duration": 2139,
    "start_time": "2022-04-27T07:52:26.939Z"
   },
   {
    "duration": 3,
    "start_time": "2022-04-27T07:52:29.080Z"
   },
   {
    "duration": 38,
    "start_time": "2022-04-27T07:52:29.085Z"
   },
   {
    "duration": 13,
    "start_time": "2022-04-27T07:52:29.125Z"
   },
   {
    "duration": 17,
    "start_time": "2022-04-27T07:52:29.140Z"
   },
   {
    "duration": 9,
    "start_time": "2022-04-27T07:52:29.158Z"
   },
   {
    "duration": 25,
    "start_time": "2022-04-27T07:52:29.170Z"
   },
   {
    "duration": 19,
    "start_time": "2022-04-27T07:52:29.197Z"
   },
   {
    "duration": 14,
    "start_time": "2022-04-27T07:52:29.220Z"
   },
   {
    "duration": 16,
    "start_time": "2022-04-27T07:52:29.236Z"
   },
   {
    "duration": 1362,
    "start_time": "2022-04-27T07:52:29.255Z"
   },
   {
    "duration": 8,
    "start_time": "2022-04-27T07:52:30.619Z"
   },
   {
    "duration": 680,
    "start_time": "2022-04-27T07:52:30.628Z"
   },
   {
    "duration": 8,
    "start_time": "2022-04-27T07:52:31.309Z"
   },
   {
    "duration": 3061,
    "start_time": "2022-04-27T07:52:31.318Z"
   },
   {
    "duration": 3,
    "start_time": "2022-04-27T07:52:34.380Z"
   },
   {
    "duration": 8,
    "start_time": "2022-04-27T07:52:34.385Z"
   },
   {
    "duration": 10,
    "start_time": "2022-04-27T07:52:34.395Z"
   },
   {
    "duration": 10,
    "start_time": "2022-04-27T07:54:58.265Z"
   },
   {
    "duration": 6,
    "start_time": "2022-04-27T07:55:04.308Z"
   },
   {
    "duration": 282,
    "start_time": "2022-04-27T07:55:09.788Z"
   },
   {
    "duration": 244,
    "start_time": "2022-04-27T07:55:28.454Z"
   },
   {
    "duration": 227,
    "start_time": "2022-04-27T07:55:36.793Z"
   },
   {
    "duration": 184,
    "start_time": "2022-04-27T07:56:25.273Z"
   },
   {
    "duration": 279,
    "start_time": "2022-04-27T07:56:50.263Z"
   },
   {
    "duration": 183,
    "start_time": "2022-04-27T07:56:56.843Z"
   },
   {
    "duration": 194,
    "start_time": "2022-04-27T07:57:03.437Z"
   },
   {
    "duration": 3,
    "start_time": "2022-04-27T08:02:36.797Z"
   },
   {
    "duration": 12,
    "start_time": "2022-04-27T08:02:47.549Z"
   },
   {
    "duration": 3,
    "start_time": "2022-04-27T08:03:41.029Z"
   },
   {
    "duration": 7,
    "start_time": "2022-04-27T08:03:46.275Z"
   },
   {
    "duration": 2,
    "start_time": "2022-04-27T08:03:49.417Z"
   },
   {
    "duration": 18,
    "start_time": "2022-04-27T08:03:55.280Z"
   },
   {
    "duration": 5,
    "start_time": "2022-04-27T08:03:56.916Z"
   },
   {
    "duration": 3,
    "start_time": "2022-04-27T08:04:01.369Z"
   },
   {
    "duration": 3,
    "start_time": "2022-04-27T08:04:04.440Z"
   },
   {
    "duration": 5,
    "start_time": "2022-04-27T08:04:16.966Z"
   },
   {
    "duration": 5,
    "start_time": "2022-04-27T08:04:34.725Z"
   },
   {
    "duration": 6,
    "start_time": "2022-04-27T08:04:40.754Z"
   },
   {
    "duration": 8,
    "start_time": "2022-04-27T08:04:46.522Z"
   },
   {
    "duration": 3,
    "start_time": "2022-04-27T08:04:49.571Z"
   },
   {
    "duration": 2,
    "start_time": "2022-04-27T08:05:08.268Z"
   },
   {
    "duration": 7271,
    "start_time": "2022-04-27T08:12:03.525Z"
   },
   {
    "duration": 5,
    "start_time": "2022-04-27T08:12:19.177Z"
   },
   {
    "duration": 8798,
    "start_time": "2022-04-27T08:13:13.799Z"
   },
   {
    "duration": 5,
    "start_time": "2022-04-27T08:13:28.547Z"
   },
   {
    "duration": 23407,
    "start_time": "2022-04-27T08:13:36.808Z"
   },
   {
    "duration": 5,
    "start_time": "2022-04-27T08:16:43.878Z"
   },
   {
    "duration": 2564,
    "start_time": "2022-04-27T08:17:09.229Z"
   },
   {
    "duration": 5,
    "start_time": "2022-04-27T08:17:24.698Z"
   },
   {
    "duration": 269,
    "start_time": "2022-04-27T08:17:26.924Z"
   },
   {
    "duration": 4,
    "start_time": "2022-04-27T08:17:30.828Z"
   },
   {
    "duration": 6,
    "start_time": "2022-04-27T08:17:32.721Z"
   },
   {
    "duration": 6,
    "start_time": "2022-04-27T08:17:49.638Z"
   },
   {
    "duration": 6398,
    "start_time": "2022-04-27T08:17:53.896Z"
   },
   {
    "duration": 4,
    "start_time": "2022-04-27T08:18:07.844Z"
   },
   {
    "duration": 7350,
    "start_time": "2022-04-27T08:18:25.751Z"
   },
   {
    "duration": 4,
    "start_time": "2022-04-27T08:18:37.307Z"
   },
   {
    "duration": 146,
    "start_time": "2022-04-27T08:18:48.981Z"
   },
   {
    "duration": 769,
    "start_time": "2022-04-27T08:19:08.836Z"
   },
   {
    "duration": 4,
    "start_time": "2022-04-27T08:19:14.984Z"
   },
   {
    "duration": 17,
    "start_time": "2022-04-27T08:19:17.345Z"
   },
   {
    "duration": 4,
    "start_time": "2022-04-27T08:19:19.943Z"
   },
   {
    "duration": 10,
    "start_time": "2022-04-27T08:19:22.037Z"
   },
   {
    "duration": 22926,
    "start_time": "2022-04-27T08:20:10.049Z"
   },
   {
    "duration": 5,
    "start_time": "2022-04-27T08:20:36.977Z"
   },
   {
    "duration": 187589,
    "start_time": "2022-04-27T08:21:32.148Z"
   },
   {
    "duration": 4,
    "start_time": "2022-04-27T08:24:59.047Z"
   },
   {
    "duration": 6768,
    "start_time": "2022-04-27T08:25:51.660Z"
   },
   {
    "duration": 5,
    "start_time": "2022-04-27T08:26:06.396Z"
   },
   {
    "duration": 1022,
    "start_time": "2022-04-27T08:26:10.549Z"
   },
   {
    "duration": 4,
    "start_time": "2022-04-27T08:26:15.013Z"
   },
   {
    "duration": 6,
    "start_time": "2022-04-27T08:26:16.968Z"
   },
   {
    "duration": 2073506,
    "start_time": "2022-04-27T08:26:39.501Z"
   },
   {
    "duration": 5,
    "start_time": "2022-04-27T09:01:17.416Z"
   },
   {
    "duration": 4286,
    "start_time": "2022-04-27T09:01:42.417Z"
   },
   {
    "duration": 5,
    "start_time": "2022-04-27T09:01:53.414Z"
   },
   {
    "duration": 509,
    "start_time": "2022-04-27T09:01:56.293Z"
   },
   {
    "duration": 4,
    "start_time": "2022-04-27T09:02:00.274Z"
   },
   {
    "duration": 7,
    "start_time": "2022-04-27T09:02:02.722Z"
   },
   {
    "duration": 134,
    "start_time": "2022-04-27T09:02:07.698Z"
   },
   {
    "duration": 5,
    "start_time": "2022-04-27T09:06:58.204Z"
   },
   {
    "duration": 3,
    "start_time": "2022-04-27T09:07:22.449Z"
   },
   {
    "duration": 5,
    "start_time": "2022-04-27T09:07:36.446Z"
   },
   {
    "duration": 5,
    "start_time": "2022-04-27T09:09:34.006Z"
   },
   {
    "duration": 4,
    "start_time": "2022-04-27T09:15:51.676Z"
   },
   {
    "duration": 4,
    "start_time": "2022-04-27T09:16:21.444Z"
   },
   {
    "duration": 211844,
    "start_time": "2022-04-27T09:16:47.255Z"
   },
   {
    "duration": 4,
    "start_time": "2022-04-27T09:21:07.636Z"
   },
   {
    "duration": 7123,
    "start_time": "2022-04-27T09:24:39.171Z"
   },
   {
    "duration": 4,
    "start_time": "2022-04-27T09:25:03.663Z"
   },
   {
    "duration": 1104,
    "start_time": "2022-04-27T09:25:31.696Z"
   },
   {
    "duration": 5,
    "start_time": "2022-04-27T09:25:38.009Z"
   },
   {
    "duration": 1219,
    "start_time": "2022-04-27T09:25:42.881Z"
   },
   {
    "duration": 5,
    "start_time": "2022-04-27T09:25:47.314Z"
   },
   {
    "duration": 843,
    "start_time": "2022-04-27T09:25:53.450Z"
   },
   {
    "duration": 4,
    "start_time": "2022-04-27T09:25:56.939Z"
   },
   {
    "duration": 20,
    "start_time": "2022-04-27T09:26:01.765Z"
   },
   {
    "duration": 3,
    "start_time": "2022-04-27T09:26:04.358Z"
   },
   {
    "duration": 8,
    "start_time": "2022-04-27T09:26:06.947Z"
   },
   {
    "duration": 2496,
    "start_time": "2022-04-27T09:28:45.103Z"
   },
   {
    "duration": 5,
    "start_time": "2022-04-27T09:28:59.404Z"
   },
   {
    "duration": 2976,
    "start_time": "2022-04-27T09:29:16.530Z"
   },
   {
    "duration": 4,
    "start_time": "2022-04-27T09:29:23.456Z"
   },
   {
    "duration": 153,
    "start_time": "2022-04-27T09:30:10.940Z"
   },
   {
    "duration": 2082,
    "start_time": "2022-04-27T09:31:25.018Z"
   },
   {
    "duration": 5,
    "start_time": "2022-04-27T09:31:30.318Z"
   },
   {
    "duration": 2713,
    "start_time": "2022-04-27T09:31:46.688Z"
   },
   {
    "duration": 6,
    "start_time": "2022-04-27T09:31:51.589Z"
   },
   {
    "duration": 270,
    "start_time": "2022-04-27T09:32:10.430Z"
   },
   {
    "duration": 262,
    "start_time": "2022-04-27T09:33:21.132Z"
   },
   {
    "duration": 17,
    "start_time": "2022-04-27T09:33:32.524Z"
   },
   {
    "duration": 6,
    "start_time": "2022-04-27T09:34:23.370Z"
   },
   {
    "duration": 3,
    "start_time": "2022-04-27T09:34:33.257Z"
   },
   {
    "duration": 6,
    "start_time": "2022-04-27T09:34:35.501Z"
   },
   {
    "duration": 3,
    "start_time": "2022-04-27T09:34:44.965Z"
   },
   {
    "duration": 7,
    "start_time": "2022-04-27T09:34:46.229Z"
   },
   {
    "duration": 3,
    "start_time": "2022-04-27T09:34:56.181Z"
   },
   {
    "duration": 3,
    "start_time": "2022-04-27T09:35:03.933Z"
   },
   {
    "duration": 7,
    "start_time": "2022-04-27T09:35:08.275Z"
   },
   {
    "duration": 130,
    "start_time": "2022-04-27T09:35:20.845Z"
   },
   {
    "duration": 822,
    "start_time": "2022-04-27T09:35:57.974Z"
   },
   {
    "duration": 7,
    "start_time": "2022-04-27T09:39:37.882Z"
   },
   {
    "duration": 317,
    "start_time": "2022-04-27T09:43:11.555Z"
   },
   {
    "duration": 3,
    "start_time": "2022-04-27T09:44:35.558Z"
   },
   {
    "duration": 3,
    "start_time": "2022-04-27T09:44:53.326Z"
   },
   {
    "duration": 117,
    "start_time": "2022-04-27T09:45:36.810Z"
   },
   {
    "duration": 106,
    "start_time": "2022-04-27T09:45:59.409Z"
   },
   {
    "duration": 112,
    "start_time": "2022-04-27T09:46:11.182Z"
   },
   {
    "duration": 141,
    "start_time": "2022-04-27T09:46:29.788Z"
   },
   {
    "duration": 146,
    "start_time": "2022-04-27T09:46:56.049Z"
   },
   {
    "duration": 13,
    "start_time": "2022-04-27T09:47:39.968Z"
   },
   {
    "duration": 135,
    "start_time": "2022-04-27T09:47:56.901Z"
   },
   {
    "duration": 131,
    "start_time": "2022-04-27T09:48:09.433Z"
   },
   {
    "duration": 132,
    "start_time": "2022-04-27T09:48:32.755Z"
   },
   {
    "duration": 137,
    "start_time": "2022-04-27T09:48:39.134Z"
   },
   {
    "duration": 190,
    "start_time": "2022-04-27T09:49:11.821Z"
   },
   {
    "duration": 147,
    "start_time": "2022-04-27T09:49:21.929Z"
   },
   {
    "duration": 147,
    "start_time": "2022-04-27T09:49:34.828Z"
   },
   {
    "duration": 173,
    "start_time": "2022-04-27T09:49:43.292Z"
   },
   {
    "duration": 155,
    "start_time": "2022-04-27T09:50:00.467Z"
   },
   {
    "duration": 9,
    "start_time": "2022-04-27T09:50:23.041Z"
   },
   {
    "duration": 16,
    "start_time": "2022-04-27T09:51:07.671Z"
   },
   {
    "duration": 179,
    "start_time": "2022-04-27T09:51:16.368Z"
   },
   {
    "duration": 158,
    "start_time": "2022-04-27T09:51:44.734Z"
   },
   {
    "duration": 166,
    "start_time": "2022-04-27T09:51:56.982Z"
   },
   {
    "duration": 163,
    "start_time": "2022-04-27T09:52:19.508Z"
   },
   {
    "duration": 191,
    "start_time": "2022-04-27T09:52:30.018Z"
   },
   {
    "duration": 171,
    "start_time": "2022-04-27T09:52:44.939Z"
   },
   {
    "duration": 176,
    "start_time": "2022-04-27T09:52:57.543Z"
   },
   {
    "duration": 193,
    "start_time": "2022-04-27T09:53:03.696Z"
   },
   {
    "duration": 165,
    "start_time": "2022-04-27T09:53:14.784Z"
   },
   {
    "duration": 4,
    "start_time": "2022-04-27T09:53:32.862Z"
   },
   {
    "duration": 118,
    "start_time": "2022-04-27T09:53:36.878Z"
   },
   {
    "duration": 179,
    "start_time": "2022-04-27T09:53:51.092Z"
   },
   {
    "duration": 10,
    "start_time": "2022-04-27T09:54:01.191Z"
   },
   {
    "duration": 5,
    "start_time": "2022-04-27T09:54:18.969Z"
   },
   {
    "duration": 10,
    "start_time": "2022-04-27T09:54:57.192Z"
   },
   {
    "duration": 7,
    "start_time": "2022-04-27T09:55:03.876Z"
   },
   {
    "duration": 5,
    "start_time": "2022-04-27T09:55:08.545Z"
   },
   {
    "duration": 3,
    "start_time": "2022-04-27T09:55:34.905Z"
   },
   {
    "duration": 6,
    "start_time": "2022-04-27T09:55:36.742Z"
   },
   {
    "duration": 3,
    "start_time": "2022-04-27T09:56:05.864Z"
   },
   {
    "duration": 6,
    "start_time": "2022-04-27T09:56:08.646Z"
   },
   {
    "duration": 3,
    "start_time": "2022-04-27T09:57:28.405Z"
   },
   {
    "duration": 176,
    "start_time": "2022-04-27T09:58:24.583Z"
   },
   {
    "duration": 9,
    "start_time": "2022-04-27T09:58:46.804Z"
   },
   {
    "duration": 16,
    "start_time": "2022-04-27T09:59:07.947Z"
   },
   {
    "duration": 3,
    "start_time": "2022-04-27T09:59:27.471Z"
   },
   {
    "duration": 6,
    "start_time": "2022-04-27T09:59:29.765Z"
   },
   {
    "duration": 3,
    "start_time": "2022-04-27T09:59:43.598Z"
   },
   {
    "duration": 7,
    "start_time": "2022-04-27T09:59:45.448Z"
   },
   {
    "duration": 2338,
    "start_time": "2022-04-27T09:59:55.798Z"
   },
   {
    "duration": 8,
    "start_time": "2022-04-27T09:59:58.140Z"
   },
   {
    "duration": 8,
    "start_time": "2022-04-27T09:59:58.149Z"
   },
   {
    "duration": 32,
    "start_time": "2022-04-27T09:59:58.159Z"
   },
   {
    "duration": 8,
    "start_time": "2022-04-27T09:59:58.193Z"
   },
   {
    "duration": 12,
    "start_time": "2022-04-27T09:59:58.202Z"
   },
   {
    "duration": 5,
    "start_time": "2022-04-27T09:59:58.216Z"
   },
   {
    "duration": 5,
    "start_time": "2022-04-27T09:59:58.222Z"
   },
   {
    "duration": 14,
    "start_time": "2022-04-27T09:59:58.228Z"
   },
   {
    "duration": 7,
    "start_time": "2022-04-27T09:59:58.245Z"
   },
   {
    "duration": 7,
    "start_time": "2022-04-27T09:59:58.254Z"
   },
   {
    "duration": 1322,
    "start_time": "2022-04-27T09:59:58.262Z"
   },
   {
    "duration": 13,
    "start_time": "2022-04-27T09:59:59.586Z"
   },
   {
    "duration": 574,
    "start_time": "2022-04-27T09:59:59.601Z"
   },
   {
    "duration": 16,
    "start_time": "2022-04-27T10:00:00.177Z"
   },
   {
    "duration": 2919,
    "start_time": "2022-04-27T10:00:00.196Z"
   },
   {
    "duration": 3,
    "start_time": "2022-04-27T10:00:03.117Z"
   },
   {
    "duration": 24,
    "start_time": "2022-04-27T10:00:03.122Z"
   },
   {
    "duration": 26,
    "start_time": "2022-04-27T10:00:03.148Z"
   },
   {
    "duration": 37,
    "start_time": "2022-04-27T10:00:03.175Z"
   },
   {
    "duration": 26,
    "start_time": "2022-04-27T10:00:03.214Z"
   },
   {
    "duration": 209,
    "start_time": "2022-04-27T10:00:03.242Z"
   },
   {
    "duration": 3,
    "start_time": "2022-04-27T10:00:03.453Z"
   },
   {
    "duration": 24,
    "start_time": "2022-04-27T10:00:03.457Z"
   },
   {
    "duration": 17,
    "start_time": "2022-04-27T10:00:03.483Z"
   },
   {
    "duration": 19,
    "start_time": "2022-04-27T10:00:03.502Z"
   },
   {
    "duration": 9,
    "start_time": "2022-04-27T10:00:03.522Z"
   },
   {
    "duration": 20,
    "start_time": "2022-04-27T10:00:03.535Z"
   },
   {
    "duration": 4,
    "start_time": "2022-04-27T10:00:03.557Z"
   },
   {
    "duration": 4,
    "start_time": "2022-04-27T10:00:03.563Z"
   },
   {
    "duration": 6,
    "start_time": "2022-04-27T10:00:03.568Z"
   },
   {
    "duration": 18,
    "start_time": "2022-04-27T10:00:03.576Z"
   },
   {
    "duration": 5,
    "start_time": "2022-04-27T10:00:03.596Z"
   },
   {
    "duration": 10,
    "start_time": "2022-04-27T10:00:03.603Z"
   },
   {
    "duration": 10,
    "start_time": "2022-04-27T10:00:03.615Z"
   },
   {
    "duration": 7,
    "start_time": "2022-04-27T10:00:03.627Z"
   },
   {
    "duration": 9,
    "start_time": "2022-04-27T10:00:03.636Z"
   },
   {
    "duration": 3358,
    "start_time": "2022-04-27T10:00:03.646Z"
   },
   {
    "duration": 5,
    "start_time": "2022-04-27T10:00:07.092Z"
   },
   {
    "duration": 294,
    "start_time": "2022-04-27T10:00:07.099Z"
   },
   {
    "duration": 5,
    "start_time": "2022-04-27T10:00:07.396Z"
   },
   {
    "duration": 92,
    "start_time": "2022-04-27T10:00:07.403Z"
   },
   {
    "duration": 1408,
    "start_time": "2022-04-27T10:00:07.497Z"
   },
   {
    "duration": 5,
    "start_time": "2022-04-27T10:00:08.908Z"
   },
   {
    "duration": 89,
    "start_time": "2022-04-27T10:00:08.915Z"
   },
   {
    "duration": 5,
    "start_time": "2022-04-27T10:00:09.095Z"
   },
   {
    "duration": 100,
    "start_time": "2022-04-27T10:00:09.102Z"
   },
   {
    "duration": 7128,
    "start_time": "2022-04-27T10:00:09.204Z"
   },
   {
    "duration": 4,
    "start_time": "2022-04-27T10:00:16.334Z"
   },
   {
    "duration": 1061,
    "start_time": "2022-04-27T10:00:16.340Z"
   },
   {
    "duration": 4,
    "start_time": "2022-04-27T10:00:17.403Z"
   },
   {
    "duration": 14,
    "start_time": "2022-04-27T10:00:17.409Z"
   },
   {
    "duration": 50283,
    "start_time": "2022-04-27T10:00:17.425Z"
   },
   {
    "duration": 4,
    "start_time": "2022-04-27T10:01:07.710Z"
   },
   {
    "duration": 580,
    "start_time": "2022-04-27T10:01:07.716Z"
   },
   {
    "duration": 4,
    "start_time": "2022-04-27T10:01:08.298Z"
   },
   {
    "duration": 23,
    "start_time": "2022-04-27T10:01:08.303Z"
   },
   {
    "duration": 167,
    "start_time": "2022-04-27T10:01:08.328Z"
   },
   {
    "duration": 4,
    "start_time": "2022-04-27T10:01:08.496Z"
   },
   {
    "duration": 2000,
    "start_time": "2022-04-27T10:01:08.502Z"
   },
   {
    "duration": 3,
    "start_time": "2022-04-27T10:01:10.594Z"
   },
   {
    "duration": 5,
    "start_time": "2022-04-27T10:01:10.599Z"
   },
   {
    "duration": 4,
    "start_time": "2022-04-27T10:01:10.606Z"
   },
   {
    "duration": 11,
    "start_time": "2022-04-27T10:01:10.612Z"
   },
   {
    "duration": 9,
    "start_time": "2022-04-27T10:01:37.274Z"
   },
   {
    "duration": 3,
    "start_time": "2022-04-27T10:01:51.123Z"
   },
   {
    "duration": 6,
    "start_time": "2022-04-27T10:01:57.834Z"
   },
   {
    "duration": 212,
    "start_time": "2022-04-27T10:02:03.366Z"
   },
   {
    "duration": 194,
    "start_time": "2022-04-27T10:02:34.469Z"
   },
   {
    "duration": 201,
    "start_time": "2022-04-27T10:02:40.605Z"
   },
   {
    "duration": 368,
    "start_time": "2022-04-27T10:02:50.467Z"
   },
   {
    "duration": 204,
    "start_time": "2022-04-27T10:03:01.316Z"
   },
   {
    "duration": 216,
    "start_time": "2022-04-27T10:03:13.886Z"
   },
   {
    "duration": 215,
    "start_time": "2022-04-27T10:03:56.101Z"
   },
   {
    "duration": 239,
    "start_time": "2022-04-27T10:04:44.972Z"
   },
   {
    "duration": 231,
    "start_time": "2022-04-27T10:04:54.164Z"
   },
   {
    "duration": 3,
    "start_time": "2022-04-27T10:06:30.099Z"
   },
   {
    "duration": 10,
    "start_time": "2022-04-27T10:06:39.710Z"
   },
   {
    "duration": 3,
    "start_time": "2022-04-27T10:06:54.377Z"
   },
   {
    "duration": 9,
    "start_time": "2022-04-27T10:06:56.866Z"
   },
   {
    "duration": 3,
    "start_time": "2022-04-27T10:07:03.278Z"
   },
   {
    "duration": 9,
    "start_time": "2022-04-27T10:07:05.206Z"
   },
   {
    "duration": 3,
    "start_time": "2022-04-27T10:07:32.529Z"
   },
   {
    "duration": 6,
    "start_time": "2022-04-27T10:07:37.620Z"
   },
   {
    "duration": 3,
    "start_time": "2022-04-27T10:07:59.064Z"
   },
   {
    "duration": 2290,
    "start_time": "2022-04-27T10:08:27.420Z"
   },
   {
    "duration": 6,
    "start_time": "2022-04-27T10:08:29.712Z"
   },
   {
    "duration": 7,
    "start_time": "2022-04-27T10:08:29.720Z"
   },
   {
    "duration": 37,
    "start_time": "2022-04-27T10:08:29.730Z"
   },
   {
    "duration": 8,
    "start_time": "2022-04-27T10:08:29.768Z"
   },
   {
    "duration": 11,
    "start_time": "2022-04-27T10:08:29.778Z"
   },
   {
    "duration": 4,
    "start_time": "2022-04-27T10:08:29.791Z"
   },
   {
    "duration": 4,
    "start_time": "2022-04-27T10:08:29.797Z"
   },
   {
    "duration": 8,
    "start_time": "2022-04-27T10:08:29.802Z"
   },
   {
    "duration": 7,
    "start_time": "2022-04-27T10:08:29.812Z"
   },
   {
    "duration": 6,
    "start_time": "2022-04-27T10:08:29.821Z"
   },
   {
    "duration": 853,
    "start_time": "2022-04-27T10:08:29.828Z"
   },
   {
    "duration": 9,
    "start_time": "2022-04-27T10:08:30.683Z"
   },
   {
    "duration": 581,
    "start_time": "2022-04-27T10:08:30.694Z"
   },
   {
    "duration": 6,
    "start_time": "2022-04-27T10:08:31.277Z"
   },
   {
    "duration": 2868,
    "start_time": "2022-04-27T10:08:31.293Z"
   },
   {
    "duration": 4,
    "start_time": "2022-04-27T10:08:34.163Z"
   },
   {
    "duration": 8,
    "start_time": "2022-04-27T10:08:34.168Z"
   },
   {
    "duration": 21,
    "start_time": "2022-04-27T10:08:34.178Z"
   },
   {
    "duration": 11,
    "start_time": "2022-04-27T10:08:34.200Z"
   },
   {
    "duration": 7,
    "start_time": "2022-04-27T10:08:34.213Z"
   },
   {
    "duration": 209,
    "start_time": "2022-04-27T10:08:34.222Z"
   },
   {
    "duration": 3,
    "start_time": "2022-04-27T10:08:34.433Z"
   },
   {
    "duration": 17,
    "start_time": "2022-04-27T10:08:34.438Z"
   },
   {
    "duration": 3,
    "start_time": "2022-04-27T10:08:34.457Z"
   },
   {
    "duration": 11,
    "start_time": "2022-04-27T10:08:34.461Z"
   },
   {
    "duration": 4,
    "start_time": "2022-04-27T10:08:34.473Z"
   },
   {
    "duration": 527,
    "start_time": "2022-04-27T10:08:34.496Z"
   },
   {
    "duration": 5,
    "start_time": "2022-04-27T10:08:35.025Z"
   },
   {
    "duration": 4,
    "start_time": "2022-04-27T10:08:35.032Z"
   },
   {
    "duration": 6,
    "start_time": "2022-04-27T10:08:35.038Z"
   },
   {
    "duration": 24,
    "start_time": "2022-04-27T10:08:35.046Z"
   },
   {
    "duration": 20,
    "start_time": "2022-04-27T10:08:35.072Z"
   },
   {
    "duration": 5,
    "start_time": "2022-04-27T10:08:35.094Z"
   },
   {
    "duration": 16,
    "start_time": "2022-04-27T10:08:35.101Z"
   },
   {
    "duration": 7,
    "start_time": "2022-04-27T10:08:35.119Z"
   },
   {
    "duration": 26,
    "start_time": "2022-04-27T10:08:35.128Z"
   },
   {
    "duration": 2746,
    "start_time": "2022-04-27T10:08:35.155Z"
   },
   {
    "duration": 5,
    "start_time": "2022-04-27T10:08:37.993Z"
   },
   {
    "duration": 196,
    "start_time": "2022-04-27T10:08:37.999Z"
   },
   {
    "duration": 98,
    "start_time": "2022-04-27T10:08:38.198Z"
   },
   {
    "duration": 96,
    "start_time": "2022-04-27T10:08:38.298Z"
   },
   {
    "duration": 1297,
    "start_time": "2022-04-27T10:08:38.395Z"
   },
   {
    "duration": 5,
    "start_time": "2022-04-27T10:08:39.694Z"
   },
   {
    "duration": 91,
    "start_time": "2022-04-27T10:08:39.701Z"
   },
   {
    "duration": 102,
    "start_time": "2022-04-27T10:08:39.795Z"
   },
   {
    "duration": 11,
    "start_time": "2022-04-27T10:08:39.899Z"
   },
   {
    "duration": 2294,
    "start_time": "2022-04-27T10:08:49.315Z"
   },
   {
    "duration": 1771,
    "start_time": "2022-04-27T10:08:51.612Z"
   },
   {
    "duration": 3,
    "start_time": "2022-04-27T10:08:53.385Z"
   },
   {
    "duration": 35,
    "start_time": "2022-04-27T10:08:53.390Z"
   },
   {
    "duration": 11,
    "start_time": "2022-04-27T10:08:53.427Z"
   },
   {
    "duration": 10,
    "start_time": "2022-04-27T10:08:53.440Z"
   },
   {
    "duration": 4,
    "start_time": "2022-04-27T10:08:53.452Z"
   },
   {
    "duration": 5,
    "start_time": "2022-04-27T10:08:53.458Z"
   },
   {
    "duration": 34,
    "start_time": "2022-04-27T10:08:53.465Z"
   },
   {
    "duration": 7,
    "start_time": "2022-04-27T10:08:53.503Z"
   },
   {
    "duration": 5,
    "start_time": "2022-04-27T10:08:53.512Z"
   },
   {
    "duration": 870,
    "start_time": "2022-04-27T10:08:53.519Z"
   },
   {
    "duration": 8,
    "start_time": "2022-04-27T10:08:54.392Z"
   },
   {
    "duration": 651,
    "start_time": "2022-04-27T10:08:54.402Z"
   },
   {
    "duration": 7,
    "start_time": "2022-04-27T10:08:55.055Z"
   },
   {
    "duration": 3116,
    "start_time": "2022-04-27T10:08:55.064Z"
   },
   {
    "duration": 10,
    "start_time": "2022-04-27T10:08:58.182Z"
   },
   {
    "duration": 5,
    "start_time": "2022-04-27T10:08:58.194Z"
   },
   {
    "duration": 9,
    "start_time": "2022-04-27T10:08:58.201Z"
   },
   {
    "duration": 10,
    "start_time": "2022-04-27T10:08:58.212Z"
   },
   {
    "duration": 7,
    "start_time": "2022-04-27T10:08:58.224Z"
   },
   {
    "duration": 228,
    "start_time": "2022-04-27T10:08:58.233Z"
   },
   {
    "duration": 3,
    "start_time": "2022-04-27T10:08:58.462Z"
   },
   {
    "duration": 25,
    "start_time": "2022-04-27T10:08:58.467Z"
   },
   {
    "duration": 3,
    "start_time": "2022-04-27T10:08:58.494Z"
   },
   {
    "duration": 11,
    "start_time": "2022-04-27T10:08:58.498Z"
   },
   {
    "duration": 4,
    "start_time": "2022-04-27T10:08:58.511Z"
   },
   {
    "duration": 20,
    "start_time": "2022-04-27T10:08:58.519Z"
   },
   {
    "duration": 5,
    "start_time": "2022-04-27T10:08:58.540Z"
   },
   {
    "duration": 6,
    "start_time": "2022-04-27T10:08:58.547Z"
   },
   {
    "duration": 37,
    "start_time": "2022-04-27T10:08:58.555Z"
   },
   {
    "duration": 26,
    "start_time": "2022-04-27T10:08:58.594Z"
   },
   {
    "duration": 8,
    "start_time": "2022-04-27T10:08:58.622Z"
   },
   {
    "duration": 11,
    "start_time": "2022-04-27T10:08:58.631Z"
   },
   {
    "duration": 18,
    "start_time": "2022-04-27T10:08:58.644Z"
   },
   {
    "duration": 8,
    "start_time": "2022-04-27T10:08:58.663Z"
   },
   {
    "duration": 9,
    "start_time": "2022-04-27T10:08:58.673Z"
   },
   {
    "duration": 2009,
    "start_time": "2022-04-27T10:08:58.684Z"
   },
   {
    "duration": 4,
    "start_time": "2022-04-27T10:09:00.695Z"
   },
   {
    "duration": 292,
    "start_time": "2022-04-27T10:09:00.701Z"
   },
   {
    "duration": 102,
    "start_time": "2022-04-27T10:09:00.995Z"
   },
   {
    "duration": 16,
    "start_time": "2022-04-27T10:09:01.099Z"
   },
   {
    "duration": 1278,
    "start_time": "2022-04-27T10:09:01.117Z"
   },
   {
    "duration": 6,
    "start_time": "2022-04-27T10:09:02.397Z"
   },
   {
    "duration": 102,
    "start_time": "2022-04-27T10:09:02.405Z"
   },
   {
    "duration": 186,
    "start_time": "2022-04-27T10:09:02.509Z"
   },
   {
    "duration": 12,
    "start_time": "2022-04-27T10:09:02.697Z"
   },
   {
    "duration": 7063,
    "start_time": "2022-04-27T10:09:02.710Z"
   },
   {
    "duration": 4,
    "start_time": "2022-04-27T10:09:09.775Z"
   },
   {
    "duration": 1025,
    "start_time": "2022-04-27T10:09:09.781Z"
   },
   {
    "duration": 4,
    "start_time": "2022-04-27T10:09:10.808Z"
   },
   {
    "duration": 14,
    "start_time": "2022-04-27T10:09:10.813Z"
   },
   {
    "duration": 6277,
    "start_time": "2022-04-27T10:09:10.829Z"
   },
   {
    "duration": 4,
    "start_time": "2022-04-27T10:09:17.108Z"
   },
   {
    "duration": 3883,
    "start_time": "2022-04-27T10:09:17.114Z"
   },
   {
    "duration": 4,
    "start_time": "2022-04-27T10:09:20.999Z"
   },
   {
    "duration": 13,
    "start_time": "2022-04-27T10:09:21.005Z"
   },
   {
    "duration": 186,
    "start_time": "2022-04-27T10:09:21.020Z"
   },
   {
    "duration": 156,
    "start_time": "2022-04-27T10:09:21.208Z"
   },
   {
    "duration": 0,
    "start_time": "2022-04-27T10:09:21.365Z"
   },
   {
    "duration": 0,
    "start_time": "2022-04-27T10:09:21.367Z"
   },
   {
    "duration": 0,
    "start_time": "2022-04-27T10:09:21.368Z"
   },
   {
    "duration": 0,
    "start_time": "2022-04-27T10:09:21.369Z"
   },
   {
    "duration": 0,
    "start_time": "2022-04-27T10:09:21.370Z"
   },
   {
    "duration": 0,
    "start_time": "2022-04-27T10:09:21.371Z"
   },
   {
    "duration": 3032,
    "start_time": "2022-04-27T10:11:23.169Z"
   },
   {
    "duration": 4,
    "start_time": "2022-04-27T10:11:28.463Z"
   },
   {
    "duration": 3,
    "start_time": "2022-04-27T10:11:31.203Z"
   },
   {
    "duration": 3,
    "start_time": "2022-04-27T10:11:35.357Z"
   },
   {
    "duration": 3,
    "start_time": "2022-04-27T10:11:37.297Z"
   },
   {
    "duration": 9,
    "start_time": "2022-04-27T10:11:39.272Z"
   },
   {
    "duration": 178,
    "start_time": "2022-04-27T10:14:06.312Z"
   },
   {
    "duration": 3,
    "start_time": "2022-04-27T10:14:15.756Z"
   },
   {
    "duration": 381,
    "start_time": "2022-04-27T10:14:21.545Z"
   },
   {
    "duration": 278,
    "start_time": "2022-04-27T10:15:22.515Z"
   },
   {
    "duration": 277,
    "start_time": "2022-04-27T10:15:26.150Z"
   },
   {
    "duration": 477,
    "start_time": "2022-04-27T10:16:07.296Z"
   },
   {
    "duration": 496,
    "start_time": "2022-04-27T10:17:18.675Z"
   },
   {
    "duration": 462,
    "start_time": "2022-04-27T10:27:34.473Z"
   },
   {
    "duration": 440,
    "start_time": "2022-04-27T10:27:45.034Z"
   },
   {
    "duration": 593,
    "start_time": "2022-04-27T10:27:59.299Z"
   },
   {
    "duration": 490,
    "start_time": "2022-04-27T10:30:08.381Z"
   },
   {
    "duration": 471,
    "start_time": "2022-04-27T10:31:51.615Z"
   },
   {
    "duration": 457,
    "start_time": "2022-04-27T10:33:10.002Z"
   },
   {
    "duration": 446,
    "start_time": "2022-04-27T10:33:20.737Z"
   },
   {
    "duration": 545,
    "start_time": "2022-04-27T10:33:48.132Z"
   },
   {
    "duration": 545,
    "start_time": "2022-04-27T10:33:53.749Z"
   },
   {
    "duration": 427,
    "start_time": "2022-04-27T10:33:55.871Z"
   },
   {
    "duration": 128,
    "start_time": "2022-04-27T10:35:00.997Z"
   },
   {
    "duration": 3,
    "start_time": "2022-04-27T10:36:49.543Z"
   },
   {
    "duration": 128,
    "start_time": "2022-04-27T10:36:50.960Z"
   },
   {
    "duration": 620,
    "start_time": "2022-04-27T10:37:05.344Z"
   },
   {
    "duration": 444,
    "start_time": "2022-04-27T10:37:17.400Z"
   },
   {
    "duration": 497,
    "start_time": "2022-04-27T10:37:28.946Z"
   },
   {
    "duration": 449,
    "start_time": "2022-04-27T10:37:46.925Z"
   },
   {
    "duration": 2553,
    "start_time": "2022-04-27T10:39:40.045Z"
   },
   {
    "duration": 2730,
    "start_time": "2022-04-27T10:39:42.600Z"
   },
   {
    "duration": 4,
    "start_time": "2022-04-27T10:39:45.332Z"
   },
   {
    "duration": 39,
    "start_time": "2022-04-27T10:39:45.338Z"
   },
   {
    "duration": 18,
    "start_time": "2022-04-27T10:39:45.379Z"
   },
   {
    "duration": 15,
    "start_time": "2022-04-27T10:39:45.398Z"
   },
   {
    "duration": 4,
    "start_time": "2022-04-27T10:39:45.415Z"
   },
   {
    "duration": 5,
    "start_time": "2022-04-27T10:39:45.421Z"
   },
   {
    "duration": 21,
    "start_time": "2022-04-27T10:39:45.428Z"
   },
   {
    "duration": 42,
    "start_time": "2022-04-27T10:39:45.453Z"
   },
   {
    "duration": 4,
    "start_time": "2022-04-27T10:39:45.497Z"
   },
   {
    "duration": 969,
    "start_time": "2022-04-27T10:39:45.503Z"
   },
   {
    "duration": 20,
    "start_time": "2022-04-27T10:39:46.474Z"
   },
   {
    "duration": 716,
    "start_time": "2022-04-27T10:39:46.496Z"
   },
   {
    "duration": 8,
    "start_time": "2022-04-27T10:39:47.214Z"
   },
   {
    "duration": 2918,
    "start_time": "2022-04-27T10:39:47.224Z"
   },
   {
    "duration": 3,
    "start_time": "2022-04-27T10:39:50.144Z"
   },
   {
    "duration": 23,
    "start_time": "2022-04-27T10:39:50.149Z"
   },
   {
    "duration": 26,
    "start_time": "2022-04-27T10:39:50.174Z"
   },
   {
    "duration": 26,
    "start_time": "2022-04-27T10:39:50.202Z"
   },
   {
    "duration": 25,
    "start_time": "2022-04-27T10:39:50.230Z"
   },
   {
    "duration": 357,
    "start_time": "2022-04-27T10:39:50.257Z"
   },
   {
    "duration": 3,
    "start_time": "2022-04-27T10:39:50.616Z"
   },
   {
    "duration": 18,
    "start_time": "2022-04-27T10:39:50.621Z"
   },
   {
    "duration": 3,
    "start_time": "2022-04-27T10:39:50.641Z"
   },
   {
    "duration": 27,
    "start_time": "2022-04-27T10:39:50.646Z"
   },
   {
    "duration": 27,
    "start_time": "2022-04-27T10:39:50.675Z"
   },
   {
    "duration": 27,
    "start_time": "2022-04-27T10:39:50.707Z"
   },
   {
    "duration": 19,
    "start_time": "2022-04-27T10:39:50.736Z"
   },
   {
    "duration": 26,
    "start_time": "2022-04-27T10:39:50.758Z"
   },
   {
    "duration": 7,
    "start_time": "2022-04-27T10:39:50.787Z"
   },
   {
    "duration": 19,
    "start_time": "2022-04-27T10:39:50.796Z"
   },
   {
    "duration": 27,
    "start_time": "2022-04-27T10:39:50.817Z"
   },
   {
    "duration": 43,
    "start_time": "2022-04-27T10:39:50.845Z"
   },
   {
    "duration": 17,
    "start_time": "2022-04-27T10:39:50.889Z"
   },
   {
    "duration": 29,
    "start_time": "2022-04-27T10:39:50.908Z"
   },
   {
    "duration": 12,
    "start_time": "2022-04-27T10:39:50.938Z"
   },
   {
    "duration": 2742,
    "start_time": "2022-04-27T10:39:50.952Z"
   },
   {
    "duration": 6,
    "start_time": "2022-04-27T10:39:53.696Z"
   },
   {
    "duration": 600,
    "start_time": "2022-04-27T10:39:53.705Z"
   },
   {
    "duration": 5,
    "start_time": "2022-04-27T10:39:54.394Z"
   },
   {
    "duration": 102,
    "start_time": "2022-04-27T10:39:54.401Z"
   },
   {
    "duration": 1190,
    "start_time": "2022-04-27T10:39:54.505Z"
   },
   {
    "duration": 6,
    "start_time": "2022-04-27T10:39:55.697Z"
   },
   {
    "duration": 121,
    "start_time": "2022-04-27T10:39:55.705Z"
   },
   {
    "duration": 170,
    "start_time": "2022-04-27T10:39:55.829Z"
   },
   {
    "duration": 9,
    "start_time": "2022-04-27T10:39:56.001Z"
   },
   {
    "duration": 10922,
    "start_time": "2022-04-27T10:39:56.013Z"
   },
   {
    "duration": 10,
    "start_time": "2022-04-27T10:40:06.937Z"
   },
   {
    "duration": 1170,
    "start_time": "2022-04-27T10:40:06.949Z"
   },
   {
    "duration": 5,
    "start_time": "2022-04-27T10:40:08.120Z"
   },
   {
    "duration": 10,
    "start_time": "2022-04-27T10:40:08.127Z"
   },
   {
    "duration": 37172,
    "start_time": "2022-04-27T10:40:08.138Z"
   },
   {
    "duration": 5,
    "start_time": "2022-04-27T10:40:45.312Z"
   },
   {
    "duration": 503,
    "start_time": "2022-04-27T10:40:45.393Z"
   },
   {
    "duration": 5,
    "start_time": "2022-04-27T10:40:45.897Z"
   },
   {
    "duration": 28,
    "start_time": "2022-04-27T10:40:45.904Z"
   },
   {
    "duration": 172,
    "start_time": "2022-04-27T10:40:45.933Z"
   },
   {
    "duration": 2694,
    "start_time": "2022-04-27T10:40:46.107Z"
   },
   {
    "duration": 92,
    "start_time": "2022-04-27T10:40:48.803Z"
   },
   {
    "duration": 14,
    "start_time": "2022-04-27T10:40:48.897Z"
   },
   {
    "duration": 19,
    "start_time": "2022-04-27T10:40:48.913Z"
   },
   {
    "duration": 541,
    "start_time": "2022-04-27T10:40:48.934Z"
   },
   {
    "duration": 315,
    "start_time": "2022-04-27T10:40:49.478Z"
   },
   {
    "duration": 2319,
    "start_time": "2022-04-27T10:44:06.342Z"
   },
   {
    "duration": 2181,
    "start_time": "2022-04-27T10:44:08.664Z"
   },
   {
    "duration": 3,
    "start_time": "2022-04-27T10:44:10.847Z"
   },
   {
    "duration": 64,
    "start_time": "2022-04-27T10:44:10.854Z"
   },
   {
    "duration": 16,
    "start_time": "2022-04-27T10:44:10.920Z"
   },
   {
    "duration": 30,
    "start_time": "2022-04-27T10:44:10.939Z"
   },
   {
    "duration": 8,
    "start_time": "2022-04-27T10:44:10.971Z"
   },
   {
    "duration": 34,
    "start_time": "2022-04-27T10:44:10.981Z"
   },
   {
    "duration": 27,
    "start_time": "2022-04-27T10:44:11.017Z"
   },
   {
    "duration": 22,
    "start_time": "2022-04-27T10:44:11.047Z"
   },
   {
    "duration": 14,
    "start_time": "2022-04-27T10:44:11.071Z"
   },
   {
    "duration": 907,
    "start_time": "2022-04-27T10:44:11.087Z"
   },
   {
    "duration": 9,
    "start_time": "2022-04-27T10:44:11.996Z"
   },
   {
    "duration": 668,
    "start_time": "2022-04-27T10:44:12.007Z"
   },
   {
    "duration": 17,
    "start_time": "2022-04-27T10:44:12.677Z"
   },
   {
    "duration": 2810,
    "start_time": "2022-04-27T10:44:12.696Z"
   },
   {
    "duration": 4,
    "start_time": "2022-04-27T10:44:15.508Z"
   },
   {
    "duration": 8,
    "start_time": "2022-04-27T10:44:15.513Z"
   },
   {
    "duration": 22,
    "start_time": "2022-04-27T10:44:15.523Z"
   },
   {
    "duration": 26,
    "start_time": "2022-04-27T10:44:15.547Z"
   },
   {
    "duration": 12,
    "start_time": "2022-04-27T10:44:15.575Z"
   },
   {
    "duration": 224,
    "start_time": "2022-04-27T10:44:15.589Z"
   },
   {
    "duration": 3,
    "start_time": "2022-04-27T10:44:15.815Z"
   },
   {
    "duration": 12,
    "start_time": "2022-04-27T10:44:15.820Z"
   },
   {
    "duration": 3,
    "start_time": "2022-04-27T10:44:15.834Z"
   },
   {
    "duration": 17,
    "start_time": "2022-04-27T10:44:15.839Z"
   },
   {
    "duration": 8,
    "start_time": "2022-04-27T10:44:15.857Z"
   },
   {
    "duration": 37,
    "start_time": "2022-04-27T10:44:15.869Z"
   },
   {
    "duration": 20,
    "start_time": "2022-04-27T10:44:15.909Z"
   },
   {
    "duration": 18,
    "start_time": "2022-04-27T10:44:15.931Z"
   },
   {
    "duration": 28,
    "start_time": "2022-04-27T10:44:15.951Z"
   },
   {
    "duration": 15,
    "start_time": "2022-04-27T10:44:15.981Z"
   },
   {
    "duration": 31,
    "start_time": "2022-04-27T10:44:15.998Z"
   },
   {
    "duration": 30,
    "start_time": "2022-04-27T10:44:16.031Z"
   },
   {
    "duration": 31,
    "start_time": "2022-04-27T10:44:16.063Z"
   },
   {
    "duration": 29,
    "start_time": "2022-04-27T10:44:16.096Z"
   },
   {
    "duration": 17,
    "start_time": "2022-04-27T10:44:16.127Z"
   },
   {
    "duration": 3258,
    "start_time": "2022-04-27T10:44:16.146Z"
   },
   {
    "duration": 91,
    "start_time": "2022-04-27T10:44:19.406Z"
   },
   {
    "duration": 494,
    "start_time": "2022-04-27T10:44:19.500Z"
   },
   {
    "duration": 5,
    "start_time": "2022-04-27T10:44:19.996Z"
   },
   {
    "duration": 92,
    "start_time": "2022-04-27T10:44:20.003Z"
   },
   {
    "duration": 1598,
    "start_time": "2022-04-27T10:44:20.097Z"
   },
   {
    "duration": 96,
    "start_time": "2022-04-27T10:44:21.697Z"
   },
   {
    "duration": 18,
    "start_time": "2022-04-27T10:44:21.795Z"
   },
   {
    "duration": 85,
    "start_time": "2022-04-27T10:44:21.817Z"
   },
   {
    "duration": 9,
    "start_time": "2022-04-27T10:44:21.993Z"
   },
   {
    "duration": 7076,
    "start_time": "2022-04-27T10:44:22.004Z"
   },
   {
    "duration": 10,
    "start_time": "2022-04-27T10:44:29.082Z"
   },
   {
    "duration": 1078,
    "start_time": "2022-04-27T10:44:29.094Z"
   },
   {
    "duration": 4,
    "start_time": "2022-04-27T10:44:30.173Z"
   },
   {
    "duration": 22,
    "start_time": "2022-04-27T10:44:30.178Z"
   },
   {
    "duration": 135375,
    "start_time": "2022-04-27T10:44:30.202Z"
   },
   {
    "duration": 0,
    "start_time": "2022-04-27T10:46:45.579Z"
   },
   {
    "duration": 0,
    "start_time": "2022-04-27T10:46:45.579Z"
   },
   {
    "duration": 0,
    "start_time": "2022-04-27T10:46:45.581Z"
   },
   {
    "duration": 0,
    "start_time": "2022-04-27T10:46:45.582Z"
   },
   {
    "duration": 0,
    "start_time": "2022-04-27T10:46:45.582Z"
   },
   {
    "duration": 0,
    "start_time": "2022-04-27T10:46:45.583Z"
   },
   {
    "duration": 0,
    "start_time": "2022-04-27T10:46:45.584Z"
   },
   {
    "duration": 0,
    "start_time": "2022-04-27T10:46:45.585Z"
   },
   {
    "duration": 0,
    "start_time": "2022-04-27T10:46:45.594Z"
   },
   {
    "duration": 0,
    "start_time": "2022-04-27T10:46:45.595Z"
   },
   {
    "duration": 0,
    "start_time": "2022-04-27T10:46:45.596Z"
   },
   {
    "duration": 2397,
    "start_time": "2022-04-27T10:46:57.864Z"
   },
   {
    "duration": 2658,
    "start_time": "2022-04-27T10:47:00.264Z"
   },
   {
    "duration": 3,
    "start_time": "2022-04-27T10:47:02.923Z"
   },
   {
    "duration": 81,
    "start_time": "2022-04-27T10:47:02.928Z"
   },
   {
    "duration": 11,
    "start_time": "2022-04-27T10:47:03.010Z"
   },
   {
    "duration": 11,
    "start_time": "2022-04-27T10:47:03.022Z"
   },
   {
    "duration": 59,
    "start_time": "2022-04-27T10:47:03.034Z"
   },
   {
    "duration": 3,
    "start_time": "2022-04-27T10:47:03.095Z"
   },
   {
    "duration": 17,
    "start_time": "2022-04-27T10:47:03.100Z"
   },
   {
    "duration": 6,
    "start_time": "2022-04-27T10:47:03.120Z"
   },
   {
    "duration": 15,
    "start_time": "2022-04-27T10:47:03.128Z"
   },
   {
    "duration": 1312,
    "start_time": "2022-04-27T10:47:03.145Z"
   },
   {
    "duration": 8,
    "start_time": "2022-04-27T10:47:04.458Z"
   },
   {
    "duration": 697,
    "start_time": "2022-04-27T10:47:04.468Z"
   },
   {
    "duration": 7,
    "start_time": "2022-04-27T10:47:05.167Z"
   },
   {
    "duration": 3885,
    "start_time": "2022-04-27T10:47:05.176Z"
   },
   {
    "duration": 3,
    "start_time": "2022-04-27T10:47:09.063Z"
   },
   {
    "duration": 8,
    "start_time": "2022-04-27T10:47:09.068Z"
   },
   {
    "duration": 19,
    "start_time": "2022-04-27T10:47:09.077Z"
   },
   {
    "duration": 11,
    "start_time": "2022-04-27T10:47:09.098Z"
   },
   {
    "duration": 7,
    "start_time": "2022-04-27T10:47:09.111Z"
   },
   {
    "duration": 209,
    "start_time": "2022-04-27T10:47:09.120Z"
   },
   {
    "duration": 3,
    "start_time": "2022-04-27T10:47:09.331Z"
   },
   {
    "duration": 13,
    "start_time": "2022-04-27T10:47:09.335Z"
   },
   {
    "duration": 3,
    "start_time": "2022-04-27T10:47:09.349Z"
   },
   {
    "duration": 10,
    "start_time": "2022-04-27T10:47:09.354Z"
   },
   {
    "duration": 28,
    "start_time": "2022-04-27T10:47:09.365Z"
   },
   {
    "duration": 20,
    "start_time": "2022-04-27T10:47:09.397Z"
   },
   {
    "duration": 6,
    "start_time": "2022-04-27T10:47:09.418Z"
   },
   {
    "duration": 4,
    "start_time": "2022-04-27T10:47:09.426Z"
   },
   {
    "duration": 8,
    "start_time": "2022-04-27T10:47:09.431Z"
   },
   {
    "duration": 11,
    "start_time": "2022-04-27T10:47:09.441Z"
   },
   {
    "duration": 8,
    "start_time": "2022-04-27T10:47:09.454Z"
   },
   {
    "duration": 33,
    "start_time": "2022-04-27T10:47:09.464Z"
   },
   {
    "duration": 9,
    "start_time": "2022-04-27T10:47:09.499Z"
   },
   {
    "duration": 20,
    "start_time": "2022-04-27T10:47:09.510Z"
   },
   {
    "duration": 18,
    "start_time": "2022-04-27T10:47:09.531Z"
   },
   {
    "duration": 3443,
    "start_time": "2022-04-27T10:47:09.551Z"
   },
   {
    "duration": 4,
    "start_time": "2022-04-27T10:47:12.995Z"
   },
   {
    "duration": 400,
    "start_time": "2022-04-27T10:47:13.001Z"
   },
   {
    "duration": 90,
    "start_time": "2022-04-27T10:47:13.403Z"
   },
   {
    "duration": 101,
    "start_time": "2022-04-27T10:47:13.496Z"
   },
   {
    "duration": 807,
    "start_time": "2022-04-27T10:47:13.598Z"
   },
   {
    "duration": 6,
    "start_time": "2022-04-27T10:47:14.493Z"
   },
   {
    "duration": 93,
    "start_time": "2022-04-27T10:47:14.501Z"
   },
   {
    "duration": 97,
    "start_time": "2022-04-27T10:47:14.596Z"
   },
   {
    "duration": 8,
    "start_time": "2022-04-27T10:47:14.695Z"
   },
   {
    "duration": 10768,
    "start_time": "2022-04-27T10:47:14.705Z"
   },
   {
    "duration": 5,
    "start_time": "2022-04-27T10:47:25.475Z"
   },
   {
    "duration": 1135,
    "start_time": "2022-04-27T10:47:25.482Z"
   },
   {
    "duration": 4,
    "start_time": "2022-04-27T10:47:26.619Z"
   },
   {
    "duration": 23,
    "start_time": "2022-04-27T10:47:26.625Z"
   },
   {
    "duration": 40246,
    "start_time": "2022-04-27T10:47:26.650Z"
   },
   {
    "duration": 4,
    "start_time": "2022-04-27T10:48:06.897Z"
   },
   {
    "duration": 609,
    "start_time": "2022-04-27T10:48:06.903Z"
   },
   {
    "duration": 5,
    "start_time": "2022-04-27T10:48:07.592Z"
   },
   {
    "duration": 10,
    "start_time": "2022-04-27T10:48:07.598Z"
   },
   {
    "duration": 152,
    "start_time": "2022-04-27T10:48:07.609Z"
   },
   {
    "duration": 2834,
    "start_time": "2022-04-27T10:48:07.763Z"
   },
   {
    "duration": 93,
    "start_time": "2022-04-27T10:48:10.599Z"
   },
   {
    "duration": 6,
    "start_time": "2022-04-27T10:48:10.695Z"
   },
   {
    "duration": 6,
    "start_time": "2022-04-27T10:48:10.702Z"
   },
   {
    "duration": 578,
    "start_time": "2022-04-27T10:48:10.710Z"
   },
   {
    "duration": 300,
    "start_time": "2022-04-27T10:48:11.293Z"
   },
   {
    "duration": 2539,
    "start_time": "2022-04-27T10:51:21.260Z"
   },
   {
    "duration": 2370,
    "start_time": "2022-04-27T10:51:23.802Z"
   },
   {
    "duration": 4,
    "start_time": "2022-04-27T10:51:26.174Z"
   },
   {
    "duration": 48,
    "start_time": "2022-04-27T10:51:26.192Z"
   },
   {
    "duration": 11,
    "start_time": "2022-04-27T10:51:26.242Z"
   },
   {
    "duration": 13,
    "start_time": "2022-04-27T10:51:26.255Z"
   },
   {
    "duration": 4,
    "start_time": "2022-04-27T10:51:26.270Z"
   },
   {
    "duration": 19,
    "start_time": "2022-04-27T10:51:26.275Z"
   },
   {
    "duration": 16,
    "start_time": "2022-04-27T10:51:26.296Z"
   },
   {
    "duration": 7,
    "start_time": "2022-04-27T10:51:26.315Z"
   },
   {
    "duration": 4,
    "start_time": "2022-04-27T10:51:26.324Z"
   },
   {
    "duration": 1137,
    "start_time": "2022-04-27T10:51:26.329Z"
   },
   {
    "duration": 7,
    "start_time": "2022-04-27T10:51:27.468Z"
   },
   {
    "duration": 718,
    "start_time": "2022-04-27T10:51:27.476Z"
   },
   {
    "duration": 7,
    "start_time": "2022-04-27T10:51:28.196Z"
   },
   {
    "duration": 2972,
    "start_time": "2022-04-27T10:51:28.205Z"
   },
   {
    "duration": 4,
    "start_time": "2022-04-27T10:51:31.179Z"
   },
   {
    "duration": 15,
    "start_time": "2022-04-27T10:51:31.193Z"
   },
   {
    "duration": 29,
    "start_time": "2022-04-27T10:51:31.210Z"
   },
   {
    "duration": 27,
    "start_time": "2022-04-27T10:51:31.241Z"
   },
   {
    "duration": 17,
    "start_time": "2022-04-27T10:51:31.270Z"
   },
   {
    "duration": 232,
    "start_time": "2022-04-27T10:51:31.289Z"
   },
   {
    "duration": 4,
    "start_time": "2022-04-27T10:51:31.522Z"
   },
   {
    "duration": 16,
    "start_time": "2022-04-27T10:51:31.527Z"
   },
   {
    "duration": 8,
    "start_time": "2022-04-27T10:51:31.544Z"
   },
   {
    "duration": 29,
    "start_time": "2022-04-27T10:51:31.554Z"
   },
   {
    "duration": 13,
    "start_time": "2022-04-27T10:51:31.585Z"
   },
   {
    "duration": 23,
    "start_time": "2022-04-27T10:51:31.602Z"
   },
   {
    "duration": 8,
    "start_time": "2022-04-27T10:51:31.627Z"
   },
   {
    "duration": 9,
    "start_time": "2022-04-27T10:51:31.638Z"
   },
   {
    "duration": 11,
    "start_time": "2022-04-27T10:51:31.648Z"
   },
   {
    "duration": 17,
    "start_time": "2022-04-27T10:51:31.661Z"
   },
   {
    "duration": 8,
    "start_time": "2022-04-27T10:51:31.680Z"
   },
   {
    "duration": 12,
    "start_time": "2022-04-27T10:51:31.693Z"
   },
   {
    "duration": 14,
    "start_time": "2022-04-27T10:51:31.707Z"
   },
   {
    "duration": 8,
    "start_time": "2022-04-27T10:51:31.723Z"
   },
   {
    "duration": 26,
    "start_time": "2022-04-27T10:51:31.732Z"
   },
   {
    "duration": 2040,
    "start_time": "2022-04-27T10:51:31.760Z"
   },
   {
    "duration": 91,
    "start_time": "2022-04-27T10:51:33.802Z"
   },
   {
    "duration": 207,
    "start_time": "2022-04-27T10:51:33.896Z"
   },
   {
    "duration": 5,
    "start_time": "2022-04-27T10:51:34.193Z"
   },
   {
    "duration": 13,
    "start_time": "2022-04-27T10:51:34.200Z"
   },
   {
    "duration": 878,
    "start_time": "2022-04-27T10:51:34.215Z"
   },
   {
    "duration": 6,
    "start_time": "2022-04-27T10:51:35.096Z"
   },
   {
    "duration": 23,
    "start_time": "2022-04-27T10:51:35.193Z"
   },
   {
    "duration": 82,
    "start_time": "2022-04-27T10:51:35.218Z"
   },
   {
    "duration": 97,
    "start_time": "2022-04-27T10:51:35.303Z"
   },
   {
    "duration": 7259,
    "start_time": "2022-04-27T10:51:35.402Z"
   },
   {
    "duration": 5,
    "start_time": "2022-04-27T10:51:42.663Z"
   },
   {
    "duration": 1100,
    "start_time": "2022-04-27T10:51:42.669Z"
   },
   {
    "duration": 4,
    "start_time": "2022-04-27T10:51:43.771Z"
   },
   {
    "duration": 7,
    "start_time": "2022-04-27T10:51:43.792Z"
   },
   {
    "duration": 9997,
    "start_time": "2022-04-27T10:51:43.801Z"
   },
   {
    "duration": 5,
    "start_time": "2022-04-27T10:51:53.800Z"
   },
   {
    "duration": 1389,
    "start_time": "2022-04-27T10:51:53.807Z"
   },
   {
    "duration": 4,
    "start_time": "2022-04-27T10:51:55.198Z"
   },
   {
    "duration": 11,
    "start_time": "2022-04-27T10:51:55.204Z"
   },
   {
    "duration": 207,
    "start_time": "2022-04-27T10:51:55.217Z"
   },
   {
    "duration": 3067,
    "start_time": "2022-04-27T10:51:55.426Z"
   },
   {
    "duration": 9,
    "start_time": "2022-04-27T10:51:58.500Z"
   },
   {
    "duration": 48,
    "start_time": "2022-04-27T10:51:58.594Z"
   },
   {
    "duration": 30,
    "start_time": "2022-04-27T10:51:58.644Z"
   },
   {
    "duration": 658,
    "start_time": "2022-04-27T10:51:58.675Z"
   },
   {
    "duration": 359,
    "start_time": "2022-04-27T10:51:59.336Z"
   }
  ],
  "kernelspec": {
   "display_name": "Python 3",
   "language": "python",
   "name": "python3"
  },
  "language_info": {
   "codemirror_mode": {
    "name": "ipython",
    "version": 3
   },
   "file_extension": ".py",
   "mimetype": "text/x-python",
   "name": "python",
   "nbconvert_exporter": "python",
   "pygments_lexer": "ipython3",
   "version": "3.8.8"
  },
  "nbTranslate": {
   "displayLangs": [
    "en",
    "ru"
   ],
   "hotkey": "alt-t",
   "langInMainMenu": true,
   "sourceLang": "ru",
   "targetLang": "en",
   "useGoogleTranslate": true
  },
  "toc": {
   "base_numbering": 1,
   "nav_menu": {},
   "number_sections": true,
   "sideBar": true,
   "skip_h1_title": true,
   "title_cell": "Содержание",
   "title_sidebar": "Contents",
   "toc_cell": true,
   "toc_position": {
    "height": "calc(100% - 180px)",
    "left": "10px",
    "top": "150px",
    "width": "257.033px"
   },
   "toc_section_display": true,
   "toc_window_display": true
  }
 },
 "nbformat": 4,
 "nbformat_minor": 2
}
