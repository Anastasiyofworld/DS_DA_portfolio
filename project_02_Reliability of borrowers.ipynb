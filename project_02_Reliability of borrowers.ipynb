{
 "cells": [
  {
   "cell_type": "markdown",
   "metadata": {},
   "source": [
    "# Исследование надёжности заёмщиков\n",
    "\n",
    "**Цель:** нужно разобраться, влияет ли семейное положение и количество детей клиента на факт погашения кредита в срок. \n",
    "\n",
    "**Заказчиком** исследования является кредитный отдел банка. \n",
    "\n",
    "**Входные данные от банка** — статистика о платёжеспособности клиентов. О качестве данных ничего не известно. Поэтому перед выявлением закономерностей понадобится обзор данных, а так же проверка данных на ошибки и оценка их влияния на исследование.\n",
    "\n",
    "Результаты исследования будут учтены при построении модели **кредитного скоринга** — специальной системы, которая оценивает способность потенциального заёмщика вернуть кредит банку.\n",
    "\n",
    "Ожидается, что исследование поможет ответить на следующие вопросы:\n",
    "* Есть ли зависимость между наличием детей и возвратом кредита в срок?\n",
    "* Есть ли зависимость между семейным положением и возвратом кредита в срок?\n",
    "* Есть ли зависимость между уровнем дохода и возвратом кредита в срок?\n",
    "* Как разные цели кредита влияют на его возврат в срок?\n",
    "\n",
    "Таким образом, исследование пройдёт в четыре этапа:\n",
    "1. Обзор данных.\n",
    "2. Предобработка данных.\n",
    "3. Поиск зависимостей.\n",
    "4. Основные выводы."
   ]
  },
  {
   "cell_type": "markdown",
   "metadata": {},
   "source": [
    "## Шаг 1. Откроем файл с данными и изучим общую информацию"
   ]
  },
  {
   "cell_type": "markdown",
   "metadata": {},
   "source": [
    "Путь к файлу с данными: `/datasets/data.csv`. \n",
    "\n",
    "Чтобы работать с `.csv`-файлом подгружаем библиотеку `pandas`. \n",
    "\n",
    "Так же для дальнейшей работы нам понадобится ряд других библиотек:\n",
    "- `numpy` - для удобной работы с некоторыми встроенными функциями,\n",
    "- `pymystem` - для лемматизации данных,\n",
    "- `collections` - для подсчета лемматизированных данных\n",
    "- `matplotlib` - для работы с графиками."
   ]
  },
  {
   "cell_type": "code",
   "execution_count": 1,
   "metadata": {},
   "outputs": [],
   "source": [
    "# импорт библиотеки pandas\n",
    "import pandas as pd\n",
    "\n",
    "# импорт библиотеки numpy\n",
    "import numpy as np\n",
    "\n",
    "# импорт модуля Mystem библиотеки pymystem3\n",
    "from pymystem3 import Mystem\n",
    "m = Mystem()\n",
    "\n",
    "# импорт модуля Counter библиотеки collections\n",
    "from collections import Counter\n",
    "\n",
    "# импорт модуля pyplot из библиотеки matplotlib\n",
    "from matplotlib import pyplot as plt"
   ]
  },
  {
   "cell_type": "markdown",
   "metadata": {},
   "source": [
    "Читаем `.csv`-файл и сохраняем его в переменную `df`. Используем блоки `try - except` на случай, если файл будет поврежден, перемещён и т.д."
   ]
  },
  {
   "cell_type": "code",
   "execution_count": 2,
   "metadata": {
    "scrolled": true
   },
   "outputs": [],
   "source": [
    "# чтение файла с данными и сохранение в df\n",
    "try:\n",
    "    df = pd.read_csv('/datasets/data.csv')\n",
    "except Exception as err:\n",
    "    try:\n",
    "        df = pd.read_csv('data.csv')\n",
    "    except Exception as err:\n",
    "        print('Ошибка чтения файла:', repr(err))"
   ]
  },
  {
   "cell_type": "code",
   "execution_count": 3,
   "metadata": {},
   "outputs": [
    {
     "data": {
      "text/html": [
       "<div>\n",
       "<style scoped>\n",
       "    .dataframe tbody tr th:only-of-type {\n",
       "        vertical-align: middle;\n",
       "    }\n",
       "\n",
       "    .dataframe tbody tr th {\n",
       "        vertical-align: top;\n",
       "    }\n",
       "\n",
       "    .dataframe thead th {\n",
       "        text-align: right;\n",
       "    }\n",
       "</style>\n",
       "<table border=\"1\" class=\"dataframe\">\n",
       "  <thead>\n",
       "    <tr style=\"text-align: right;\">\n",
       "      <th></th>\n",
       "      <th>children</th>\n",
       "      <th>days_employed</th>\n",
       "      <th>dob_years</th>\n",
       "      <th>education</th>\n",
       "      <th>education_id</th>\n",
       "      <th>family_status</th>\n",
       "      <th>family_status_id</th>\n",
       "      <th>gender</th>\n",
       "      <th>income_type</th>\n",
       "      <th>debt</th>\n",
       "      <th>total_income</th>\n",
       "      <th>purpose</th>\n",
       "    </tr>\n",
       "  </thead>\n",
       "  <tbody>\n",
       "    <tr>\n",
       "      <th>0</th>\n",
       "      <td>1</td>\n",
       "      <td>-8437.673028</td>\n",
       "      <td>42</td>\n",
       "      <td>высшее</td>\n",
       "      <td>0</td>\n",
       "      <td>женат / замужем</td>\n",
       "      <td>0</td>\n",
       "      <td>F</td>\n",
       "      <td>сотрудник</td>\n",
       "      <td>0</td>\n",
       "      <td>253875.639453</td>\n",
       "      <td>покупка жилья</td>\n",
       "    </tr>\n",
       "    <tr>\n",
       "      <th>1</th>\n",
       "      <td>1</td>\n",
       "      <td>-4024.803754</td>\n",
       "      <td>36</td>\n",
       "      <td>среднее</td>\n",
       "      <td>1</td>\n",
       "      <td>женат / замужем</td>\n",
       "      <td>0</td>\n",
       "      <td>F</td>\n",
       "      <td>сотрудник</td>\n",
       "      <td>0</td>\n",
       "      <td>112080.014102</td>\n",
       "      <td>приобретение автомобиля</td>\n",
       "    </tr>\n",
       "    <tr>\n",
       "      <th>2</th>\n",
       "      <td>0</td>\n",
       "      <td>-5623.422610</td>\n",
       "      <td>33</td>\n",
       "      <td>Среднее</td>\n",
       "      <td>1</td>\n",
       "      <td>женат / замужем</td>\n",
       "      <td>0</td>\n",
       "      <td>M</td>\n",
       "      <td>сотрудник</td>\n",
       "      <td>0</td>\n",
       "      <td>145885.952297</td>\n",
       "      <td>покупка жилья</td>\n",
       "    </tr>\n",
       "    <tr>\n",
       "      <th>3</th>\n",
       "      <td>3</td>\n",
       "      <td>-4124.747207</td>\n",
       "      <td>32</td>\n",
       "      <td>среднее</td>\n",
       "      <td>1</td>\n",
       "      <td>женат / замужем</td>\n",
       "      <td>0</td>\n",
       "      <td>M</td>\n",
       "      <td>сотрудник</td>\n",
       "      <td>0</td>\n",
       "      <td>267628.550329</td>\n",
       "      <td>дополнительное образование</td>\n",
       "    </tr>\n",
       "    <tr>\n",
       "      <th>4</th>\n",
       "      <td>0</td>\n",
       "      <td>340266.072047</td>\n",
       "      <td>53</td>\n",
       "      <td>среднее</td>\n",
       "      <td>1</td>\n",
       "      <td>гражданский брак</td>\n",
       "      <td>1</td>\n",
       "      <td>F</td>\n",
       "      <td>пенсионер</td>\n",
       "      <td>0</td>\n",
       "      <td>158616.077870</td>\n",
       "      <td>сыграть свадьбу</td>\n",
       "    </tr>\n",
       "    <tr>\n",
       "      <th>5</th>\n",
       "      <td>0</td>\n",
       "      <td>-926.185831</td>\n",
       "      <td>27</td>\n",
       "      <td>высшее</td>\n",
       "      <td>0</td>\n",
       "      <td>гражданский брак</td>\n",
       "      <td>1</td>\n",
       "      <td>M</td>\n",
       "      <td>компаньон</td>\n",
       "      <td>0</td>\n",
       "      <td>255763.565419</td>\n",
       "      <td>покупка жилья</td>\n",
       "    </tr>\n",
       "    <tr>\n",
       "      <th>6</th>\n",
       "      <td>0</td>\n",
       "      <td>-2879.202052</td>\n",
       "      <td>43</td>\n",
       "      <td>высшее</td>\n",
       "      <td>0</td>\n",
       "      <td>женат / замужем</td>\n",
       "      <td>0</td>\n",
       "      <td>F</td>\n",
       "      <td>компаньон</td>\n",
       "      <td>0</td>\n",
       "      <td>240525.971920</td>\n",
       "      <td>операции с жильем</td>\n",
       "    </tr>\n",
       "    <tr>\n",
       "      <th>7</th>\n",
       "      <td>0</td>\n",
       "      <td>-152.779569</td>\n",
       "      <td>50</td>\n",
       "      <td>СРЕДНЕЕ</td>\n",
       "      <td>1</td>\n",
       "      <td>женат / замужем</td>\n",
       "      <td>0</td>\n",
       "      <td>M</td>\n",
       "      <td>сотрудник</td>\n",
       "      <td>0</td>\n",
       "      <td>135823.934197</td>\n",
       "      <td>образование</td>\n",
       "    </tr>\n",
       "    <tr>\n",
       "      <th>8</th>\n",
       "      <td>2</td>\n",
       "      <td>-6929.865299</td>\n",
       "      <td>35</td>\n",
       "      <td>ВЫСШЕЕ</td>\n",
       "      <td>0</td>\n",
       "      <td>гражданский брак</td>\n",
       "      <td>1</td>\n",
       "      <td>F</td>\n",
       "      <td>сотрудник</td>\n",
       "      <td>0</td>\n",
       "      <td>95856.832424</td>\n",
       "      <td>на проведение свадьбы</td>\n",
       "    </tr>\n",
       "    <tr>\n",
       "      <th>9</th>\n",
       "      <td>0</td>\n",
       "      <td>-2188.756445</td>\n",
       "      <td>41</td>\n",
       "      <td>среднее</td>\n",
       "      <td>1</td>\n",
       "      <td>женат / замужем</td>\n",
       "      <td>0</td>\n",
       "      <td>M</td>\n",
       "      <td>сотрудник</td>\n",
       "      <td>0</td>\n",
       "      <td>144425.938277</td>\n",
       "      <td>покупка жилья для семьи</td>\n",
       "    </tr>\n",
       "  </tbody>\n",
       "</table>\n",
       "</div>"
      ],
      "text/plain": [
       "   children  days_employed  dob_years education  education_id  \\\n",
       "0         1   -8437.673028         42    высшее             0   \n",
       "1         1   -4024.803754         36   среднее             1   \n",
       "2         0   -5623.422610         33   Среднее             1   \n",
       "3         3   -4124.747207         32   среднее             1   \n",
       "4         0  340266.072047         53   среднее             1   \n",
       "5         0    -926.185831         27    высшее             0   \n",
       "6         0   -2879.202052         43    высшее             0   \n",
       "7         0    -152.779569         50   СРЕДНЕЕ             1   \n",
       "8         2   -6929.865299         35    ВЫСШЕЕ             0   \n",
       "9         0   -2188.756445         41   среднее             1   \n",
       "\n",
       "      family_status  family_status_id gender income_type  debt   total_income  \\\n",
       "0   женат / замужем                 0      F   сотрудник     0  253875.639453   \n",
       "1   женат / замужем                 0      F   сотрудник     0  112080.014102   \n",
       "2   женат / замужем                 0      M   сотрудник     0  145885.952297   \n",
       "3   женат / замужем                 0      M   сотрудник     0  267628.550329   \n",
       "4  гражданский брак                 1      F   пенсионер     0  158616.077870   \n",
       "5  гражданский брак                 1      M   компаньон     0  255763.565419   \n",
       "6   женат / замужем                 0      F   компаньон     0  240525.971920   \n",
       "7   женат / замужем                 0      M   сотрудник     0  135823.934197   \n",
       "8  гражданский брак                 1      F   сотрудник     0   95856.832424   \n",
       "9   женат / замужем                 0      M   сотрудник     0  144425.938277   \n",
       "\n",
       "                      purpose  \n",
       "0               покупка жилья  \n",
       "1     приобретение автомобиля  \n",
       "2               покупка жилья  \n",
       "3  дополнительное образование  \n",
       "4             сыграть свадьбу  \n",
       "5               покупка жилья  \n",
       "6           операции с жильем  \n",
       "7                 образование  \n",
       "8       на проведение свадьбы  \n",
       "9     покупка жилья для семьи  "
      ]
     },
     "execution_count": 3,
     "metadata": {},
     "output_type": "execute_result"
    }
   ],
   "source": [
    "# получение первых 10 строк таблицы df\n",
    "df.head(10)"
   ]
  },
  {
   "cell_type": "code",
   "execution_count": 4,
   "metadata": {},
   "outputs": [
    {
     "name": "stdout",
     "output_type": "stream",
     "text": [
      "<class 'pandas.core.frame.DataFrame'>\n",
      "RangeIndex: 21525 entries, 0 to 21524\n",
      "Data columns (total 12 columns):\n",
      " #   Column            Non-Null Count  Dtype  \n",
      "---  ------            --------------  -----  \n",
      " 0   children          21525 non-null  int64  \n",
      " 1   days_employed     19351 non-null  float64\n",
      " 2   dob_years         21525 non-null  int64  \n",
      " 3   education         21525 non-null  object \n",
      " 4   education_id      21525 non-null  int64  \n",
      " 5   family_status     21525 non-null  object \n",
      " 6   family_status_id  21525 non-null  int64  \n",
      " 7   gender            21525 non-null  object \n",
      " 8   income_type       21525 non-null  object \n",
      " 9   debt              21525 non-null  int64  \n",
      " 10  total_income      19351 non-null  float64\n",
      " 11  purpose           21525 non-null  object \n",
      "dtypes: float64(2), int64(5), object(5)\n",
      "memory usage: 2.0+ MB\n"
     ]
    }
   ],
   "source": [
    "# получение общей информации о данных в таблице df\n",
    "df.info()"
   ]
  },
  {
   "cell_type": "markdown",
   "metadata": {},
   "source": [
    "В таблице 21525 строк, соответствующих клиентам банка, и 12 столбцов."
   ]
  },
  {
   "cell_type": "markdown",
   "metadata": {},
   "source": [
    "**Описание данных cогласно документации:**\n",
    "* `children` — количество детей в семье\n",
    "* `days_employed` — общий трудовой стаж в днях\n",
    "* `dob_years` — возраст клиента в годах\n",
    "* `education` — уровень образования клиента\n",
    "* `education_id` — идентификатор уровня образования\n",
    "* `family_status` — семейное положение\n",
    "* `family_status_id` — идентификатор семейного положения\n",
    "* `gender` — пол клиента\n",
    "* `income_type` — тип занятости\n",
    "* `debt` — имел ли задолженность по возврату кредитов\n",
    "* `total_income` — ежемесячный доход\n",
    "* `purpose` — цель получения кредита"
   ]
  },
  {
   "cell_type": "markdown",
   "metadata": {},
   "source": [
    "**Вывод**\n",
    "\n",
    "**В каждой строке таблицы** — данные о клиенте банка. \n",
    "Часть колонок описывает самого клиента: возраст, пол, уровень образования, семейный статус и количество детей. \n",
    "Остальные данные рассказывают о пользователе с финансовой точки зрения: ежемесячный доход, трудовой стаж, цель получения кредита, а так же есть ли по нему задолженность. \n",
    "\n",
    "В таблице двенадцать столбцов. Можно сразу отметить, что:\n",
    "\n",
    "* Тип данных в столбцах — `object`, `int64` и `float64`. Для экономии памяти можно изменить тип данных в столбцах, содержащих числовые данные.\n",
    "* В названии колонок нет нарушения стиля.\n",
    "* Количество значений в столбцах различается. В данных столбцов `days_employed` и `total_income` есть пропущенные значения.\n",
    "* В колонке `days_employed` присутствуют отрицательные значения. Это противоречит возможным срокам трудового стажа (стаж исчисляется днями и может быть либо нулём, либо положительным значением величиной , не превышающей трудоспособного возраста человека в днях), что свидетельствует об ошибке в данных.\n",
    "* Сразу видны дубликаты в колонке `education` с разным регистром: СРЕДНЕЕ, Среднее и среднее, которые нужно привести к единому стилю.\n",
    "* Для удобства работы с таблицей из неё можно исключить колонки `education` и `family_status`, поместив их в отдельные таблицы и создав словари для значений `education_id` и `family_status_id` соответственно.\n",
    "* Так же бросаются в глаза высокие доходы 53-летней бездетной пенсионерки с 932-летним трудовым стажем, желающей сыграть свадьбу, из строчки с индексом 4. Ведь задолженности по выплате кредита у неё не было.\n",
    "\n",
    "Предварительно можно утверждать, что, данных достаточно для проверки гипотез. Но встречаются пропуски в данных и некорректные значения.\n"
   ]
  },
  {
   "cell_type": "markdown",
   "metadata": {},
   "source": [
    "## Шаг 2. Предобработка данных"
   ]
  },
  {
   "cell_type": "markdown",
   "metadata": {},
   "source": [
    "### Обработка пропусков"
   ]
  },
  {
   "cell_type": "markdown",
   "metadata": {},
   "source": [
    "Посчитаем, сколько в таблице пропущенных значений."
   ]
  },
  {
   "cell_type": "code",
   "execution_count": 5,
   "metadata": {},
   "outputs": [
    {
     "data": {
      "text/plain": [
       "children               0\n",
       "days_employed       2174\n",
       "dob_years              0\n",
       "education              0\n",
       "education_id           0\n",
       "family_status          0\n",
       "family_status_id       0\n",
       "gender                 0\n",
       "income_type            0\n",
       "debt                   0\n",
       "total_income        2174\n",
       "purpose                0\n",
       "dtype: int64"
      ]
     },
     "execution_count": 5,
     "metadata": {},
     "output_type": "execute_result"
    }
   ],
   "source": [
    "# подсчёт пропусков\n",
    "df.isna().sum()"
   ]
  },
  {
   "cell_type": "markdown",
   "metadata": {},
   "source": [
    "Больше _двух тысяч пропусков_ в колонках с трудовым стажем и ежемесячным доходом. Возможно, при записи данных или их выгрузке произошёл сбой, так как кредитный отдел банка не мог не запросить такую информацию от клиентов, а клиенты не могли отказаться её предоставить. \n",
    "\n",
    "Эти пропуски не должны повлиять на исследование, так как главной целью является проверка влияет ли _семейное положение_ и _количество детей_ клиента на факт погашения кредита в срок. Будь это категориальные данные, стоило бы заполнить пропуски в колонках явным обозначением `unknown`, но пропуски должны быть заполнены числами, если колонка содержит числа. При выборе такой тактики стоит учесть, что это может помешать корректно ответить на вопрос о зависимости между уровнем дохода и возвратом кредита в срок."
   ]
  },
  {
   "cell_type": "markdown",
   "metadata": {},
   "source": [
    "#### Пропуски\n",
    "Взглянем на данные с пропусками. \n",
    "Для этого создадим таблицу `df_nan`, оставив в ней только клиентов с пропусками в колонке с трудовым стажем."
   ]
  },
  {
   "cell_type": "code",
   "execution_count": 6,
   "metadata": {},
   "outputs": [
    {
     "data": {
      "text/html": [
       "<div>\n",
       "<style scoped>\n",
       "    .dataframe tbody tr th:only-of-type {\n",
       "        vertical-align: middle;\n",
       "    }\n",
       "\n",
       "    .dataframe tbody tr th {\n",
       "        vertical-align: top;\n",
       "    }\n",
       "\n",
       "    .dataframe thead th {\n",
       "        text-align: right;\n",
       "    }\n",
       "</style>\n",
       "<table border=\"1\" class=\"dataframe\">\n",
       "  <thead>\n",
       "    <tr style=\"text-align: right;\">\n",
       "      <th></th>\n",
       "      <th>children</th>\n",
       "      <th>days_employed</th>\n",
       "      <th>dob_years</th>\n",
       "      <th>education</th>\n",
       "      <th>education_id</th>\n",
       "      <th>family_status</th>\n",
       "      <th>family_status_id</th>\n",
       "      <th>gender</th>\n",
       "      <th>income_type</th>\n",
       "      <th>debt</th>\n",
       "      <th>total_income</th>\n",
       "      <th>purpose</th>\n",
       "    </tr>\n",
       "  </thead>\n",
       "  <tbody>\n",
       "    <tr>\n",
       "      <th>12</th>\n",
       "      <td>0</td>\n",
       "      <td>NaN</td>\n",
       "      <td>65</td>\n",
       "      <td>среднее</td>\n",
       "      <td>1</td>\n",
       "      <td>гражданский брак</td>\n",
       "      <td>1</td>\n",
       "      <td>M</td>\n",
       "      <td>пенсионер</td>\n",
       "      <td>0</td>\n",
       "      <td>NaN</td>\n",
       "      <td>сыграть свадьбу</td>\n",
       "    </tr>\n",
       "    <tr>\n",
       "      <th>26</th>\n",
       "      <td>0</td>\n",
       "      <td>NaN</td>\n",
       "      <td>41</td>\n",
       "      <td>среднее</td>\n",
       "      <td>1</td>\n",
       "      <td>женат / замужем</td>\n",
       "      <td>0</td>\n",
       "      <td>M</td>\n",
       "      <td>госслужащий</td>\n",
       "      <td>0</td>\n",
       "      <td>NaN</td>\n",
       "      <td>образование</td>\n",
       "    </tr>\n",
       "    <tr>\n",
       "      <th>29</th>\n",
       "      <td>0</td>\n",
       "      <td>NaN</td>\n",
       "      <td>63</td>\n",
       "      <td>среднее</td>\n",
       "      <td>1</td>\n",
       "      <td>Не женат / не замужем</td>\n",
       "      <td>4</td>\n",
       "      <td>F</td>\n",
       "      <td>пенсионер</td>\n",
       "      <td>0</td>\n",
       "      <td>NaN</td>\n",
       "      <td>строительство жилой недвижимости</td>\n",
       "    </tr>\n",
       "    <tr>\n",
       "      <th>41</th>\n",
       "      <td>0</td>\n",
       "      <td>NaN</td>\n",
       "      <td>50</td>\n",
       "      <td>среднее</td>\n",
       "      <td>1</td>\n",
       "      <td>женат / замужем</td>\n",
       "      <td>0</td>\n",
       "      <td>F</td>\n",
       "      <td>госслужащий</td>\n",
       "      <td>0</td>\n",
       "      <td>NaN</td>\n",
       "      <td>сделка с подержанным автомобилем</td>\n",
       "    </tr>\n",
       "    <tr>\n",
       "      <th>55</th>\n",
       "      <td>0</td>\n",
       "      <td>NaN</td>\n",
       "      <td>54</td>\n",
       "      <td>среднее</td>\n",
       "      <td>1</td>\n",
       "      <td>гражданский брак</td>\n",
       "      <td>1</td>\n",
       "      <td>F</td>\n",
       "      <td>пенсионер</td>\n",
       "      <td>1</td>\n",
       "      <td>NaN</td>\n",
       "      <td>сыграть свадьбу</td>\n",
       "    </tr>\n",
       "    <tr>\n",
       "      <th>65</th>\n",
       "      <td>0</td>\n",
       "      <td>NaN</td>\n",
       "      <td>21</td>\n",
       "      <td>среднее</td>\n",
       "      <td>1</td>\n",
       "      <td>Не женат / не замужем</td>\n",
       "      <td>4</td>\n",
       "      <td>M</td>\n",
       "      <td>компаньон</td>\n",
       "      <td>0</td>\n",
       "      <td>NaN</td>\n",
       "      <td>операции с коммерческой недвижимостью</td>\n",
       "    </tr>\n",
       "    <tr>\n",
       "      <th>67</th>\n",
       "      <td>0</td>\n",
       "      <td>NaN</td>\n",
       "      <td>52</td>\n",
       "      <td>высшее</td>\n",
       "      <td>0</td>\n",
       "      <td>женат / замужем</td>\n",
       "      <td>0</td>\n",
       "      <td>F</td>\n",
       "      <td>пенсионер</td>\n",
       "      <td>0</td>\n",
       "      <td>NaN</td>\n",
       "      <td>покупка жилья для семьи</td>\n",
       "    </tr>\n",
       "    <tr>\n",
       "      <th>72</th>\n",
       "      <td>1</td>\n",
       "      <td>NaN</td>\n",
       "      <td>32</td>\n",
       "      <td>высшее</td>\n",
       "      <td>0</td>\n",
       "      <td>женат / замужем</td>\n",
       "      <td>0</td>\n",
       "      <td>M</td>\n",
       "      <td>госслужащий</td>\n",
       "      <td>0</td>\n",
       "      <td>NaN</td>\n",
       "      <td>операции с коммерческой недвижимостью</td>\n",
       "    </tr>\n",
       "    <tr>\n",
       "      <th>82</th>\n",
       "      <td>2</td>\n",
       "      <td>NaN</td>\n",
       "      <td>50</td>\n",
       "      <td>высшее</td>\n",
       "      <td>0</td>\n",
       "      <td>женат / замужем</td>\n",
       "      <td>0</td>\n",
       "      <td>F</td>\n",
       "      <td>сотрудник</td>\n",
       "      <td>0</td>\n",
       "      <td>NaN</td>\n",
       "      <td>жилье</td>\n",
       "    </tr>\n",
       "    <tr>\n",
       "      <th>83</th>\n",
       "      <td>0</td>\n",
       "      <td>NaN</td>\n",
       "      <td>52</td>\n",
       "      <td>среднее</td>\n",
       "      <td>1</td>\n",
       "      <td>женат / замужем</td>\n",
       "      <td>0</td>\n",
       "      <td>M</td>\n",
       "      <td>сотрудник</td>\n",
       "      <td>0</td>\n",
       "      <td>NaN</td>\n",
       "      <td>жилье</td>\n",
       "    </tr>\n",
       "  </tbody>\n",
       "</table>\n",
       "</div>"
      ],
      "text/plain": [
       "    children  days_employed  dob_years education  education_id  \\\n",
       "12         0            NaN         65   среднее             1   \n",
       "26         0            NaN         41   среднее             1   \n",
       "29         0            NaN         63   среднее             1   \n",
       "41         0            NaN         50   среднее             1   \n",
       "55         0            NaN         54   среднее             1   \n",
       "65         0            NaN         21   среднее             1   \n",
       "67         0            NaN         52    высшее             0   \n",
       "72         1            NaN         32    высшее             0   \n",
       "82         2            NaN         50    высшее             0   \n",
       "83         0            NaN         52   среднее             1   \n",
       "\n",
       "            family_status  family_status_id gender  income_type  debt  \\\n",
       "12       гражданский брак                 1      M    пенсионер     0   \n",
       "26        женат / замужем                 0      M  госслужащий     0   \n",
       "29  Не женат / не замужем                 4      F    пенсионер     0   \n",
       "41        женат / замужем                 0      F  госслужащий     0   \n",
       "55       гражданский брак                 1      F    пенсионер     1   \n",
       "65  Не женат / не замужем                 4      M    компаньон     0   \n",
       "67        женат / замужем                 0      F    пенсионер     0   \n",
       "72        женат / замужем                 0      M  госслужащий     0   \n",
       "82        женат / замужем                 0      F    сотрудник     0   \n",
       "83        женат / замужем                 0      M    сотрудник     0   \n",
       "\n",
       "    total_income                                purpose  \n",
       "12           NaN                        сыграть свадьбу  \n",
       "26           NaN                            образование  \n",
       "29           NaN       строительство жилой недвижимости  \n",
       "41           NaN       сделка с подержанным автомобилем  \n",
       "55           NaN                        сыграть свадьбу  \n",
       "65           NaN  операции с коммерческой недвижимостью  \n",
       "67           NaN                покупка жилья для семьи  \n",
       "72           NaN  операции с коммерческой недвижимостью  \n",
       "82           NaN                                  жилье  \n",
       "83           NaN                                  жилье  "
      ]
     },
     "execution_count": 6,
     "metadata": {},
     "output_type": "execute_result"
    }
   ],
   "source": [
    "# создание таблицы с пропусками в колонке трудового стажа\n",
    "df_nan = df[df['days_employed'].isna()]\n",
    "df_nan.head(10)"
   ]
  },
  {
   "cell_type": "code",
   "execution_count": 7,
   "metadata": {},
   "outputs": [
    {
     "name": "stdout",
     "output_type": "stream",
     "text": [
      "<class 'pandas.core.frame.DataFrame'>\n",
      "Int64Index: 2174 entries, 12 to 21510\n",
      "Data columns (total 12 columns):\n",
      " #   Column            Non-Null Count  Dtype  \n",
      "---  ------            --------------  -----  \n",
      " 0   children          2174 non-null   int64  \n",
      " 1   days_employed     0 non-null      float64\n",
      " 2   dob_years         2174 non-null   int64  \n",
      " 3   education         2174 non-null   object \n",
      " 4   education_id      2174 non-null   int64  \n",
      " 5   family_status     2174 non-null   object \n",
      " 6   family_status_id  2174 non-null   int64  \n",
      " 7   gender            2174 non-null   object \n",
      " 8   income_type       2174 non-null   object \n",
      " 9   debt              2174 non-null   int64  \n",
      " 10  total_income      0 non-null      float64\n",
      " 11  purpose           2174 non-null   object \n",
      "dtypes: float64(2), int64(5), object(5)\n",
      "memory usage: 220.8+ KB\n"
     ]
    }
   ],
   "source": [
    "# получение общей информации о данных в таблице df_none\n",
    "df_nan.info()"
   ]
  },
  {
   "cell_type": "markdown",
   "metadata": {},
   "source": [
    "#### Значения трудового стажа\n",
    "Более двух тысяч клиентов имеют пропуски и в колонке с трудовым стажем, и в колонке с ежемесячным доходом. \n",
    "Рассмотрим подробнее, какие значения трудового стажа имеют клиенты без пропуска в данной колонке."
   ]
  },
  {
   "cell_type": "code",
   "execution_count": 8,
   "metadata": {},
   "outputs": [
    {
     "data": {
      "text/plain": [
       "count     19351.000000\n",
       "mean      63046.497661\n",
       "std      140827.311974\n",
       "min      -18388.949901\n",
       "25%       -2747.423625\n",
       "50%       -1203.369529\n",
       "75%        -291.095954\n",
       "max      401755.400475\n",
       "Name: days_employed, dtype: float64"
      ]
     },
     "execution_count": 8,
     "metadata": {},
     "output_type": "execute_result"
    }
   ],
   "source": [
    "# Просмотр информации из столбца общего трудового стажа\n",
    "df['days_employed'].describe()"
   ]
  },
  {
   "cell_type": "markdown",
   "metadata": {},
   "source": [
    "Мы видим, что в этом столбце много проблем.\n",
    "\n",
    "*Отрицательные значения*, возможно, появились случайно и на самом деле являются положительными, а может это некорректно сохраненные или выгруженные данных, не имеющие никакого отношения к реальному стажу клиентов. Так же стоит отметить, что *максимальное значение* стажа в 401755 дней соответствует 1100 годам. Возможно, это говорит о том, что некоторые данные в столбце представлены не в днях, как заявлено в описании к данным, а, например, в часах."
   ]
  },
  {
   "cell_type": "markdown",
   "metadata": {},
   "source": [
    "Оценим количество отрицательных значений трудового стажа."
   ]
  },
  {
   "cell_type": "code",
   "execution_count": 9,
   "metadata": {},
   "outputs": [
    {
     "data": {
      "text/plain": [
       "15906"
      ]
     },
     "execution_count": 9,
     "metadata": {},
     "output_type": "execute_result"
    }
   ],
   "source": [
    "# Посчет отрицательных значений трудового стажа\n",
    "df[df['days_employed'] <= 0]['days_employed'].count()"
   ]
  },
  {
   "cell_type": "markdown",
   "metadata": {},
   "source": [
    "Рассчитаем процентое соотношение отрицательных значений ко всем значениям трудового стажа."
   ]
  },
  {
   "cell_type": "code",
   "execution_count": 10,
   "metadata": {},
   "outputs": [
    {
     "name": "stdout",
     "output_type": "stream",
     "text": [
      "Отрицательных значений трудового стажа 82%\n"
     ]
    }
   ],
   "source": [
    "print('Отрицательных значений трудового стажа {:.0%}'.format(\n",
    "    df[\n",
    "        (df['days_employed'] <= 0) & \n",
    "        (df.days_employed.isna() != True)\n",
    "    ]\n",
    "    ['days_employed'].count() / df['days_employed'].count()))"
   ]
  },
  {
   "cell_type": "markdown",
   "metadata": {},
   "source": [
    "Ознакомимся со статистикой по отрицательным значениям трудового стажа."
   ]
  },
  {
   "cell_type": "code",
   "execution_count": 11,
   "metadata": {},
   "outputs": [
    {
     "data": {
      "text/plain": [
       "count    15906.000000\n",
       "mean     -2353.015932\n",
       "std       2304.243851\n",
       "min     -18388.949901\n",
       "25%      -3157.480084\n",
       "50%      -1630.019381\n",
       "75%       -756.371964\n",
       "max        -24.141633\n",
       "Name: days_employed, dtype: float64"
      ]
     },
     "execution_count": 11,
     "metadata": {},
     "output_type": "execute_result"
    }
   ],
   "source": [
    "df[df['days_employed'] <= 0]['days_employed'].describe()"
   ]
  },
  {
   "cell_type": "markdown",
   "metadata": {},
   "source": [
    "По данным можно сделать вывод, что значения были записаны как отрицательные вследствие ошибки. Рассмотрим данные некоторых клиентов поподробнее."
   ]
  },
  {
   "cell_type": "code",
   "execution_count": 12,
   "metadata": {},
   "outputs": [
    {
     "data": {
      "text/html": [
       "<div>\n",
       "<style scoped>\n",
       "    .dataframe tbody tr th:only-of-type {\n",
       "        vertical-align: middle;\n",
       "    }\n",
       "\n",
       "    .dataframe tbody tr th {\n",
       "        vertical-align: top;\n",
       "    }\n",
       "\n",
       "    .dataframe thead th {\n",
       "        text-align: right;\n",
       "    }\n",
       "</style>\n",
       "<table border=\"1\" class=\"dataframe\">\n",
       "  <thead>\n",
       "    <tr style=\"text-align: right;\">\n",
       "      <th></th>\n",
       "      <th>children</th>\n",
       "      <th>days_employed</th>\n",
       "      <th>dob_years</th>\n",
       "      <th>education</th>\n",
       "      <th>education_id</th>\n",
       "      <th>family_status</th>\n",
       "      <th>family_status_id</th>\n",
       "      <th>gender</th>\n",
       "      <th>income_type</th>\n",
       "      <th>debt</th>\n",
       "      <th>total_income</th>\n",
       "      <th>purpose</th>\n",
       "    </tr>\n",
       "  </thead>\n",
       "  <tbody>\n",
       "    <tr>\n",
       "      <th>16335</th>\n",
       "      <td>1</td>\n",
       "      <td>-18388.949901</td>\n",
       "      <td>61</td>\n",
       "      <td>среднее</td>\n",
       "      <td>1</td>\n",
       "      <td>женат / замужем</td>\n",
       "      <td>0</td>\n",
       "      <td>F</td>\n",
       "      <td>сотрудник</td>\n",
       "      <td>0</td>\n",
       "      <td>186178.934089</td>\n",
       "      <td>операции с недвижимостью</td>\n",
       "    </tr>\n",
       "    <tr>\n",
       "      <th>4299</th>\n",
       "      <td>0</td>\n",
       "      <td>-17615.563266</td>\n",
       "      <td>61</td>\n",
       "      <td>среднее</td>\n",
       "      <td>1</td>\n",
       "      <td>женат / замужем</td>\n",
       "      <td>0</td>\n",
       "      <td>F</td>\n",
       "      <td>компаньон</td>\n",
       "      <td>0</td>\n",
       "      <td>122560.741753</td>\n",
       "      <td>покупка жилья</td>\n",
       "    </tr>\n",
       "    <tr>\n",
       "      <th>7329</th>\n",
       "      <td>0</td>\n",
       "      <td>-16593.472817</td>\n",
       "      <td>60</td>\n",
       "      <td>высшее</td>\n",
       "      <td>0</td>\n",
       "      <td>женат / замужем</td>\n",
       "      <td>0</td>\n",
       "      <td>F</td>\n",
       "      <td>сотрудник</td>\n",
       "      <td>0</td>\n",
       "      <td>124697.846781</td>\n",
       "      <td>заняться высшим образованием</td>\n",
       "    </tr>\n",
       "    <tr>\n",
       "      <th>17838</th>\n",
       "      <td>0</td>\n",
       "      <td>-16264.699501</td>\n",
       "      <td>59</td>\n",
       "      <td>среднее</td>\n",
       "      <td>1</td>\n",
       "      <td>женат / замужем</td>\n",
       "      <td>0</td>\n",
       "      <td>F</td>\n",
       "      <td>сотрудник</td>\n",
       "      <td>0</td>\n",
       "      <td>51238.967133</td>\n",
       "      <td>на покупку автомобиля</td>\n",
       "    </tr>\n",
       "    <tr>\n",
       "      <th>16825</th>\n",
       "      <td>0</td>\n",
       "      <td>-16119.687737</td>\n",
       "      <td>64</td>\n",
       "      <td>среднее</td>\n",
       "      <td>1</td>\n",
       "      <td>женат / замужем</td>\n",
       "      <td>0</td>\n",
       "      <td>F</td>\n",
       "      <td>сотрудник</td>\n",
       "      <td>0</td>\n",
       "      <td>91527.685995</td>\n",
       "      <td>покупка жилой недвижимости</td>\n",
       "    </tr>\n",
       "  </tbody>\n",
       "</table>\n",
       "</div>"
      ],
      "text/plain": [
       "       children  days_employed  dob_years education  education_id  \\\n",
       "16335         1  -18388.949901         61   среднее             1   \n",
       "4299          0  -17615.563266         61   среднее             1   \n",
       "7329          0  -16593.472817         60    высшее             0   \n",
       "17838         0  -16264.699501         59   среднее             1   \n",
       "16825         0  -16119.687737         64   среднее             1   \n",
       "\n",
       "         family_status  family_status_id gender income_type  debt  \\\n",
       "16335  женат / замужем                 0      F   сотрудник     0   \n",
       "4299   женат / замужем                 0      F   компаньон     0   \n",
       "7329   женат / замужем                 0      F   сотрудник     0   \n",
       "17838  женат / замужем                 0      F   сотрудник     0   \n",
       "16825  женат / замужем                 0      F   сотрудник     0   \n",
       "\n",
       "        total_income                       purpose  \n",
       "16335  186178.934089      операции с недвижимостью  \n",
       "4299   122560.741753                 покупка жилья  \n",
       "7329   124697.846781  заняться высшим образованием  \n",
       "17838   51238.967133         на покупку автомобиля  \n",
       "16825   91527.685995    покупка жилой недвижимости  "
      ]
     },
     "execution_count": 12,
     "metadata": {},
     "output_type": "execute_result"
    }
   ],
   "source": [
    "# Выведем часть таблицы, отсортированной по возрастанию отрицательных значений трудового стажа\n",
    "df[df.days_employed < 0].sort_values(by='days_employed').head()"
   ]
  },
  {
   "cell_type": "markdown",
   "metadata": {},
   "source": [
    "Если предположить, что знак минус появился в значениях *по ошибке*, то для сотрудника из 16335 строки получится 50 лет трудового стажа при возрасте в 61 год. *Данные не похожи на реальные*, если только для этого клиента не был засчитан стаж на каком-нибудь вредном или опасном производстве, где год стажа считается за два. Такой информации у нас нет, а клиент с нереалистичным стажем в таблице не один. \n",
    "Так же взглянем на клиентов с максимальными из отрицательных значений трудового стажа."
   ]
  },
  {
   "cell_type": "code",
   "execution_count": 13,
   "metadata": {},
   "outputs": [
    {
     "data": {
      "text/html": [
       "<div>\n",
       "<style scoped>\n",
       "    .dataframe tbody tr th:only-of-type {\n",
       "        vertical-align: middle;\n",
       "    }\n",
       "\n",
       "    .dataframe tbody tr th {\n",
       "        vertical-align: top;\n",
       "    }\n",
       "\n",
       "    .dataframe thead th {\n",
       "        text-align: right;\n",
       "    }\n",
       "</style>\n",
       "<table border=\"1\" class=\"dataframe\">\n",
       "  <thead>\n",
       "    <tr style=\"text-align: right;\">\n",
       "      <th></th>\n",
       "      <th>children</th>\n",
       "      <th>days_employed</th>\n",
       "      <th>dob_years</th>\n",
       "      <th>education</th>\n",
       "      <th>education_id</th>\n",
       "      <th>family_status</th>\n",
       "      <th>family_status_id</th>\n",
       "      <th>gender</th>\n",
       "      <th>income_type</th>\n",
       "      <th>debt</th>\n",
       "      <th>total_income</th>\n",
       "      <th>purpose</th>\n",
       "    </tr>\n",
       "  </thead>\n",
       "  <tbody>\n",
       "    <tr>\n",
       "      <th>17437</th>\n",
       "      <td>1</td>\n",
       "      <td>-24.141633</td>\n",
       "      <td>31</td>\n",
       "      <td>среднее</td>\n",
       "      <td>1</td>\n",
       "      <td>женат / замужем</td>\n",
       "      <td>0</td>\n",
       "      <td>F</td>\n",
       "      <td>сотрудник</td>\n",
       "      <td>1</td>\n",
       "      <td>166952.415427</td>\n",
       "      <td>высшее образование</td>\n",
       "    </tr>\n",
       "    <tr>\n",
       "      <th>8336</th>\n",
       "      <td>0</td>\n",
       "      <td>-24.240695</td>\n",
       "      <td>32</td>\n",
       "      <td>высшее</td>\n",
       "      <td>0</td>\n",
       "      <td>Не женат / не замужем</td>\n",
       "      <td>4</td>\n",
       "      <td>M</td>\n",
       "      <td>сотрудник</td>\n",
       "      <td>0</td>\n",
       "      <td>124115.373655</td>\n",
       "      <td>получение дополнительного образования</td>\n",
       "    </tr>\n",
       "    <tr>\n",
       "      <th>6157</th>\n",
       "      <td>2</td>\n",
       "      <td>-30.195337</td>\n",
       "      <td>47</td>\n",
       "      <td>среднее</td>\n",
       "      <td>1</td>\n",
       "      <td>гражданский брак</td>\n",
       "      <td>1</td>\n",
       "      <td>M</td>\n",
       "      <td>компаньон</td>\n",
       "      <td>0</td>\n",
       "      <td>231461.185606</td>\n",
       "      <td>свадьба</td>\n",
       "    </tr>\n",
       "    <tr>\n",
       "      <th>9683</th>\n",
       "      <td>0</td>\n",
       "      <td>-33.520665</td>\n",
       "      <td>43</td>\n",
       "      <td>среднее</td>\n",
       "      <td>1</td>\n",
       "      <td>Не женат / не замужем</td>\n",
       "      <td>4</td>\n",
       "      <td>M</td>\n",
       "      <td>сотрудник</td>\n",
       "      <td>1</td>\n",
       "      <td>128555.897209</td>\n",
       "      <td>приобретение автомобиля</td>\n",
       "    </tr>\n",
       "    <tr>\n",
       "      <th>2127</th>\n",
       "      <td>1</td>\n",
       "      <td>-34.701045</td>\n",
       "      <td>31</td>\n",
       "      <td>высшее</td>\n",
       "      <td>0</td>\n",
       "      <td>женат / замужем</td>\n",
       "      <td>0</td>\n",
       "      <td>F</td>\n",
       "      <td>компаньон</td>\n",
       "      <td>0</td>\n",
       "      <td>90557.994311</td>\n",
       "      <td>получение образования</td>\n",
       "    </tr>\n",
       "  </tbody>\n",
       "</table>\n",
       "</div>"
      ],
      "text/plain": [
       "       children  days_employed  dob_years education  education_id  \\\n",
       "17437         1     -24.141633         31   среднее             1   \n",
       "8336          0     -24.240695         32    высшее             0   \n",
       "6157          2     -30.195337         47   среднее             1   \n",
       "9683          0     -33.520665         43   среднее             1   \n",
       "2127          1     -34.701045         31    высшее             0   \n",
       "\n",
       "               family_status  family_status_id gender income_type  debt  \\\n",
       "17437        женат / замужем                 0      F   сотрудник     1   \n",
       "8336   Не женат / не замужем                 4      M   сотрудник     0   \n",
       "6157        гражданский брак                 1      M   компаньон     0   \n",
       "9683   Не женат / не замужем                 4      M   сотрудник     1   \n",
       "2127         женат / замужем                 0      F   компаньон     0   \n",
       "\n",
       "        total_income                                purpose  \n",
       "17437  166952.415427                     высшее образование  \n",
       "8336   124115.373655  получение дополнительного образования  \n",
       "6157   231461.185606                                свадьба  \n",
       "9683   128555.897209                приобретение автомобиля  \n",
       "2127    90557.994311                  получение образования  "
      ]
     },
     "execution_count": 13,
     "metadata": {},
     "output_type": "execute_result"
    }
   ],
   "source": [
    "# Выведем часть таблицы, отсортированной по убыванию отрицательных значений трудового стажа\n",
    "df[df.days_employed < 0].sort_values(by='days_employed', ascending=False).head()"
   ]
  },
  {
   "cell_type": "markdown",
   "metadata": {},
   "source": [
    "Если перевести значения трудового стажа в положительные, они тоже не кажутся реальными - слишком маленький трудовой стаж для людей старше 30 лет.\n",
    "\n",
    "Делаем **вывод**, что отрицательные значения трудового стажа использовать в рассчетах нельзя без уточнения формата, в котором они сохранены."
   ]
  },
  {
   "cell_type": "markdown",
   "metadata": {},
   "source": [
    "Так же оценим количество значений, превышающих 55 лет трудового стажа (>20075 дней в таблице)."
   ]
  },
  {
   "cell_type": "code",
   "execution_count": 14,
   "metadata": {},
   "outputs": [
    {
     "data": {
      "text/plain": [
       "3445"
      ]
     },
     "execution_count": 14,
     "metadata": {},
     "output_type": "execute_result"
    }
   ],
   "source": [
    "# Посчет значений трудового стажа свыше 55 лет\n",
    "df[df['days_employed'] > 20075]['days_employed'].count()"
   ]
  },
  {
   "cell_type": "markdown",
   "metadata": {},
   "source": [
    "Рассчитаем процентное соотношение трудового стажа, превышающего 55 лет, ко всем значениям."
   ]
  },
  {
   "cell_type": "code",
   "execution_count": 15,
   "metadata": {},
   "outputs": [
    {
     "name": "stdout",
     "output_type": "stream",
     "text": [
      "Значений трудового стажа свыше 55 лет 18%\n"
     ]
    }
   ],
   "source": [
    "print('Значений трудового стажа свыше 55 лет {:.0%}'.format(df[df['days_employed'] > 20075]['days_employed'].count()/df.days_employed.count()))"
   ]
  },
  {
   "cell_type": "markdown",
   "metadata": {},
   "source": [
    "Ознакомимся с положительными значениями трудового стажа."
   ]
  },
  {
   "cell_type": "code",
   "execution_count": 16,
   "metadata": {},
   "outputs": [
    {
     "data": {
      "text/plain": [
       "count      3445.000000\n",
       "mean     365004.309916\n",
       "std       21075.016396\n",
       "min      328728.720605\n",
       "25%      346639.413916\n",
       "50%      365213.306266\n",
       "75%      383246.444219\n",
       "max      401755.400475\n",
       "Name: days_employed, dtype: float64"
      ]
     },
     "execution_count": 16,
     "metadata": {},
     "output_type": "execute_result"
    }
   ],
   "source": [
    "# Статистика по положительным значениям трудового стажа\n",
    "df[df['days_employed'] > 20075]['days_employed'].describe()"
   ]
  },
  {
   "cell_type": "markdown",
   "metadata": {},
   "source": [
    "Больше похоже, что положительные значения трудового стажа представлены не в днях, а в часах."
   ]
  },
  {
   "cell_type": "markdown",
   "metadata": {},
   "source": [
    "**Вывод**\n",
    "\n",
    "Все значения **колонки с трудовым стажем** *не соответсвуют заявленным*: 82% - отрицательный стаж, и 18% - представлены в часах.\n",
    "Так как значения трудового стажа не являются ключевыми данными для ответа на поставленные для исследования вопросты, предположим, что данную колонку можно исключить из исследования без существеннх потерь для самого исследования."
   ]
  },
  {
   "cell_type": "code",
   "execution_count": 17,
   "metadata": {},
   "outputs": [],
   "source": [
    "# Удаляем колонку 'days_employed' из таблицы df\n",
    "df.drop(columns = ['days_employed'], axis = 1, inplace=True)"
   ]
  },
  {
   "cell_type": "code",
   "execution_count": 18,
   "metadata": {},
   "outputs": [
    {
     "data": {
      "text/html": [
       "<div>\n",
       "<style scoped>\n",
       "    .dataframe tbody tr th:only-of-type {\n",
       "        vertical-align: middle;\n",
       "    }\n",
       "\n",
       "    .dataframe tbody tr th {\n",
       "        vertical-align: top;\n",
       "    }\n",
       "\n",
       "    .dataframe thead th {\n",
       "        text-align: right;\n",
       "    }\n",
       "</style>\n",
       "<table border=\"1\" class=\"dataframe\">\n",
       "  <thead>\n",
       "    <tr style=\"text-align: right;\">\n",
       "      <th></th>\n",
       "      <th>children</th>\n",
       "      <th>dob_years</th>\n",
       "      <th>education</th>\n",
       "      <th>education_id</th>\n",
       "      <th>family_status</th>\n",
       "      <th>family_status_id</th>\n",
       "      <th>gender</th>\n",
       "      <th>income_type</th>\n",
       "      <th>debt</th>\n",
       "      <th>total_income</th>\n",
       "      <th>purpose</th>\n",
       "    </tr>\n",
       "  </thead>\n",
       "  <tbody>\n",
       "    <tr>\n",
       "      <th>0</th>\n",
       "      <td>1</td>\n",
       "      <td>42</td>\n",
       "      <td>высшее</td>\n",
       "      <td>0</td>\n",
       "      <td>женат / замужем</td>\n",
       "      <td>0</td>\n",
       "      <td>F</td>\n",
       "      <td>сотрудник</td>\n",
       "      <td>0</td>\n",
       "      <td>253875.639453</td>\n",
       "      <td>покупка жилья</td>\n",
       "    </tr>\n",
       "    <tr>\n",
       "      <th>1</th>\n",
       "      <td>1</td>\n",
       "      <td>36</td>\n",
       "      <td>среднее</td>\n",
       "      <td>1</td>\n",
       "      <td>женат / замужем</td>\n",
       "      <td>0</td>\n",
       "      <td>F</td>\n",
       "      <td>сотрудник</td>\n",
       "      <td>0</td>\n",
       "      <td>112080.014102</td>\n",
       "      <td>приобретение автомобиля</td>\n",
       "    </tr>\n",
       "    <tr>\n",
       "      <th>2</th>\n",
       "      <td>0</td>\n",
       "      <td>33</td>\n",
       "      <td>Среднее</td>\n",
       "      <td>1</td>\n",
       "      <td>женат / замужем</td>\n",
       "      <td>0</td>\n",
       "      <td>M</td>\n",
       "      <td>сотрудник</td>\n",
       "      <td>0</td>\n",
       "      <td>145885.952297</td>\n",
       "      <td>покупка жилья</td>\n",
       "    </tr>\n",
       "    <tr>\n",
       "      <th>3</th>\n",
       "      <td>3</td>\n",
       "      <td>32</td>\n",
       "      <td>среднее</td>\n",
       "      <td>1</td>\n",
       "      <td>женат / замужем</td>\n",
       "      <td>0</td>\n",
       "      <td>M</td>\n",
       "      <td>сотрудник</td>\n",
       "      <td>0</td>\n",
       "      <td>267628.550329</td>\n",
       "      <td>дополнительное образование</td>\n",
       "    </tr>\n",
       "    <tr>\n",
       "      <th>4</th>\n",
       "      <td>0</td>\n",
       "      <td>53</td>\n",
       "      <td>среднее</td>\n",
       "      <td>1</td>\n",
       "      <td>гражданский брак</td>\n",
       "      <td>1</td>\n",
       "      <td>F</td>\n",
       "      <td>пенсионер</td>\n",
       "      <td>0</td>\n",
       "      <td>158616.077870</td>\n",
       "      <td>сыграть свадьбу</td>\n",
       "    </tr>\n",
       "  </tbody>\n",
       "</table>\n",
       "</div>"
      ],
      "text/plain": [
       "   children  dob_years education  education_id     family_status  \\\n",
       "0         1         42    высшее             0   женат / замужем   \n",
       "1         1         36   среднее             1   женат / замужем   \n",
       "2         0         33   Среднее             1   женат / замужем   \n",
       "3         3         32   среднее             1   женат / замужем   \n",
       "4         0         53   среднее             1  гражданский брак   \n",
       "\n",
       "   family_status_id gender income_type  debt   total_income  \\\n",
       "0                 0      F   сотрудник     0  253875.639453   \n",
       "1                 0      F   сотрудник     0  112080.014102   \n",
       "2                 0      M   сотрудник     0  145885.952297   \n",
       "3                 0      M   сотрудник     0  267628.550329   \n",
       "4                 1      F   пенсионер     0  158616.077870   \n",
       "\n",
       "                      purpose  \n",
       "0               покупка жилья  \n",
       "1     приобретение автомобиля  \n",
       "2               покупка жилья  \n",
       "3  дополнительное образование  \n",
       "4             сыграть свадьбу  "
      ]
     },
     "execution_count": 18,
     "metadata": {},
     "output_type": "execute_result"
    }
   ],
   "source": [
    "# Убедимся, что колонка действительно удалена\n",
    "df.head()"
   ]
  },
  {
   "cell_type": "markdown",
   "metadata": {},
   "source": [
    "#### Колонка с возрастом\n",
    "Во время работы с колонкой стажа, приходилось опираться на колонку с возрастом.\n",
    "Посмотрим, клиенты какого возраста представлены в таблице."
   ]
  },
  {
   "cell_type": "code",
   "execution_count": 19,
   "metadata": {},
   "outputs": [
    {
     "data": {
      "text/plain": [
       "array([ 0, 19, 20, 21, 22, 23, 24, 25, 26, 27, 28, 29, 30, 31, 32, 33, 34,\n",
       "       35, 36, 37, 38, 39, 40, 41, 42, 43, 44, 45, 46, 47, 48, 49, 50, 51,\n",
       "       52, 53, 54, 55, 56, 57, 58, 59, 60, 61, 62, 63, 64, 65, 66, 67, 68,\n",
       "       69, 70, 71, 72, 73, 74, 75], dtype=int64)"
      ]
     },
     "execution_count": 19,
     "metadata": {},
     "output_type": "execute_result"
    }
   ],
   "source": [
    "# Просмотр уникальных значений возраста клиентов\n",
    "df['dob_years'].sort_values().unique()"
   ]
  },
  {
   "cell_type": "markdown",
   "metadata": {},
   "source": [
    "В колонке с возрастом так же произошёл сбой при записи или выгрузке данных, либо оператор опечатался при вводе.\n",
    "Посчитаем клиентов с нулевым возрастом."
   ]
  },
  {
   "cell_type": "code",
   "execution_count": 20,
   "metadata": {},
   "outputs": [
    {
     "data": {
      "text/plain": [
       "101"
      ]
     },
     "execution_count": 20,
     "metadata": {},
     "output_type": "execute_result"
    }
   ],
   "source": [
    "# Подсчёт количества клиентов с нулевым возрастом\n",
    "df[df['dob_years'] == 0]['dob_years'].count()"
   ]
  },
  {
   "cell_type": "markdown",
   "metadata": {},
   "source": [
    "Сто один клиент без возраста. Оценим, клиенты какого возраста чаще всего брали кредит."
   ]
  },
  {
   "cell_type": "code",
   "execution_count": 21,
   "metadata": {},
   "outputs": [
    {
     "name": "stdout",
     "output_type": "stream",
     "text": [
      "Среднее значение возраста клиентов: 43\n",
      "Медианное значение возраста клиентов:42\n"
     ]
    }
   ],
   "source": [
    "# среднее и медианное значение возраста клиентов\n",
    "print('Среднее значение возраста клиентов: {:.0f}\\nМедианное значение возраста клиентов:{:.0f}'.format(\n",
    "    df['dob_years'].mean(),\n",
    "    df['dob_years'].median()))"
   ]
  },
  {
   "cell_type": "markdown",
   "metadata": {},
   "source": [
    "Средний и  медианный возраст клиентов без утерянных данных - чуть старше сорока лет.\n",
    "\n",
    "Восстановить возраст пропущенных значений постараемся с учётом типа занятости клиентов."
   ]
  },
  {
   "cell_type": "markdown",
   "metadata": {},
   "source": [
    "Начнем с того, что посмотрим все <a id='income_type'>**уникальные значения для типа занятости**</a>."
   ]
  },
  {
   "cell_type": "code",
   "execution_count": 22,
   "metadata": {},
   "outputs": [
    {
     "data": {
      "text/plain": [
       "array(['сотрудник', 'пенсионер', 'компаньон', 'госслужащий',\n",
       "       'безработный', 'предприниматель', 'студент', 'в декрете'],\n",
       "      dtype=object)"
      ]
     },
     "execution_count": 22,
     "metadata": {},
     "output_type": "execute_result"
    }
   ],
   "source": [
    "# Просмотр уникальных значений типа занятости клиентов\n",
    "df['income_type'].unique()"
   ]
  },
  {
   "cell_type": "markdown",
   "metadata": {},
   "source": [
    "Восемь уникальных типов занятости клиентов, дубликаты отсутствуют, колонка содержит корректные данные.\n",
    "\n",
    "Взглянем, чем занимаются клиенты с нулевым возрастом."
   ]
  },
  {
   "cell_type": "code",
   "execution_count": 23,
   "metadata": {},
   "outputs": [
    {
     "data": {
      "text/plain": [
       "array(['пенсионер', 'сотрудник', 'компаньон', 'госслужащий'], dtype=object)"
      ]
     },
     "execution_count": 23,
     "metadata": {},
     "output_type": "execute_result"
    }
   ],
   "source": [
    "# Тип занятости клиентов с нулевым возрастом\n",
    "df[df['dob_years'] == 0]['income_type'].unique()"
   ]
  },
  {
   "cell_type": "markdown",
   "metadata": {},
   "source": [
    "Зная тип занятости клиентов, можно оценить их возраст - присвоим клиентам среднее значение возраста в их категории: *пенсионеры* и *работающие* клиенты."
   ]
  },
  {
   "cell_type": "markdown",
   "metadata": {},
   "source": [
    "Подсчитаем средний возраст клиентов *пенсионного* возраста."
   ]
  },
  {
   "cell_type": "code",
   "execution_count": 24,
   "metadata": {},
   "outputs": [
    {
     "data": {
      "text/plain": [
       "59"
      ]
     },
     "execution_count": 24,
     "metadata": {},
     "output_type": "execute_result"
    }
   ],
   "source": [
    "# Средний возраст клиентов пенсионного возраста\n",
    "pensioner_age = int(round(df[df['income_type'] == 'пенсионер']['dob_years'].mean()))\n",
    "pensioner_age"
   ]
  },
  {
   "cell_type": "markdown",
   "metadata": {},
   "source": [
    "Напишем функцию для замены возраста в таблице. Функция `change_age` принимает `list_of_types` - список типов занятости клиентов с нулевым значением возраста, и `age` - возраст, на который нужно заменить нулевое значение.\n",
    "\n",
    "Для того, чтобы заменить возраст клиента в строке с нулевым значением, воспользуемся методом библиотеки `numpy` `logical_and`, позволяющей выбрать одновременно значение `0` в колонке `dob_years`, и желаемое значение занятости в колонке `income_type`."
   ]
  },
  {
   "cell_type": "code",
   "execution_count": 25,
   "metadata": {},
   "outputs": [],
   "source": [
    "def change_age(list_of_types, age):\n",
    "    '''\n",
    "    Функция для замены возраста в таблице\n",
    "    list_of_types - список типов занятости клиентов с нулевым значением возраста, \n",
    "    age - возраст, на который нужно заменить нулевое значение\n",
    "    '''\n",
    "    for type in list_of_types:\n",
    "        df.loc[np.logical_and(df['dob_years'] == 0, df['income_type'] == type), 'dob_years'] = age"
   ]
  },
  {
   "cell_type": "code",
   "execution_count": 26,
   "metadata": {},
   "outputs": [],
   "source": [
    "# Заменим нулевые значения возраста клиентов-пенсионеров на среднее значение возраста в данной категории\n",
    "change_age(['пенсионер'], pensioner_age)"
   ]
  },
  {
   "cell_type": "markdown",
   "metadata": {},
   "source": [
    "Для *работающих* клиентов подсчитаем средний возраст, исключив всех безработных, пенсионеров и студентов."
   ]
  },
  {
   "cell_type": "code",
   "execution_count": 27,
   "metadata": {},
   "outputs": [
    {
     "data": {
      "text/plain": [
       "40.0"
      ]
     },
     "execution_count": 27,
     "metadata": {},
     "output_type": "execute_result"
    }
   ],
   "source": [
    "# Средний возраст работающих клиентов\n",
    "working_age = np.round(df[(df['income_type'] != 'пенсионер') & (df['income_type'] != 'безработный') & (df['income_type'] != 'студент')]['dob_years'].mean())\n",
    "working_age"
   ]
  },
  {
   "cell_type": "markdown",
   "metadata": {},
   "source": [
    "Заменим возраст *работающих* клиентов в строчках с нулевым значением на средний возраст среди работающих клиентов - 40 лет."
   ]
  },
  {
   "cell_type": "code",
   "execution_count": 28,
   "metadata": {},
   "outputs": [],
   "source": [
    "# Заменим нулевые значения возраста работающих клиентов на среднее значение возраста в данной категории\n",
    "change_age(['сотрудник', 'компаньон', 'госслужащий'], working_age)"
   ]
  },
  {
   "cell_type": "markdown",
   "metadata": {},
   "source": [
    "Проверим, не осталось ли нулевых значений возраста в таблице."
   ]
  },
  {
   "cell_type": "code",
   "execution_count": 29,
   "metadata": {},
   "outputs": [
    {
     "data": {
      "text/plain": [
       "array([19., 20., 21., 22., 23., 24., 25., 26., 27., 28., 29., 30., 31.,\n",
       "       32., 33., 34., 35., 36., 37., 38., 39., 40., 41., 42., 43., 44.,\n",
       "       45., 46., 47., 48., 49., 50., 51., 52., 53., 54., 55., 56., 57.,\n",
       "       58., 59., 60., 61., 62., 63., 64., 65., 66., 67., 68., 69., 70.,\n",
       "       71., 72., 73., 74., 75.])"
      ]
     },
     "execution_count": 29,
     "metadata": {},
     "output_type": "execute_result"
    }
   ],
   "source": [
    "# Проверка уникальных значений возраста\n",
    "df['dob_years'].sort_values().unique()"
   ]
  },
  {
   "cell_type": "markdown",
   "metadata": {},
   "source": [
    "**Вывод**\n",
    "\n",
    "Нулевое значение возраста клиентов было заменено на среднее значение возраста в зависимости от того, работает клиент или нет."
   ]
  },
  {
   "cell_type": "markdown",
   "metadata": {},
   "source": [
    "#### Колонка с ежемесячным доходом\n",
    "Прежде чем приступить к заполнению пропусков в колонке с ежемесячным доходом, проверим её на корректность."
   ]
  },
  {
   "cell_type": "code",
   "execution_count": 30,
   "metadata": {},
   "outputs": [
    {
     "data": {
      "text/plain": [
       "count    1.935100e+04\n",
       "mean     1.674223e+05\n",
       "std      1.029716e+05\n",
       "min      2.066726e+04\n",
       "25%      1.030532e+05\n",
       "50%      1.450179e+05\n",
       "75%      2.034351e+05\n",
       "max      2.265604e+06\n",
       "Name: total_income, dtype: float64"
      ]
     },
     "execution_count": 30,
     "metadata": {},
     "output_type": "execute_result"
    }
   ],
   "source": [
    "# Просмотр статистики по колонке с ежемесячным доходом клиентов\n",
    "df['total_income'].describe()"
   ]
  },
  {
   "cell_type": "code",
   "execution_count": 31,
   "metadata": {},
   "outputs": [
    {
     "data": {
      "text/plain": [
       "145017.93753253992"
      ]
     },
     "execution_count": 31,
     "metadata": {},
     "output_type": "execute_result"
    }
   ],
   "source": [
    "# Просмотр медианного значения колонки с ежемесячным доходом клиентов\n",
    "df['total_income'].median()"
   ]
  },
  {
   "cell_type": "markdown",
   "metadata": {},
   "source": [
    "В колонке нет нереалистичных значений. Разброс в доходах достаточно большой.\n",
    "* Средний доход клиентов составляет 167 тысяч. \n",
    "* Медиана - 145 тысяч.\n",
    "* Минимальный доход клиента составил 20 тысяч.\n",
    "* Максимальный доход клиента - 2 миллиона 265 тысяч. "
   ]
  },
  {
   "cell_type": "markdown",
   "metadata": {},
   "source": [
    "Чтобы заполнить пропуски в колонке с ежемесячным доходом будем ориентироваться [на тип занятости клиента](#income_type). Выше она была проверена на корректность. "
   ]
  },
  {
   "cell_type": "markdown",
   "metadata": {},
   "source": [
    "Обновим значения в таблице `df_nan` и посмотрим, чем занимаются клиенты с пропущенным доходом"
   ]
  },
  {
   "cell_type": "code",
   "execution_count": 32,
   "metadata": {},
   "outputs": [
    {
     "data": {
      "text/html": [
       "<div>\n",
       "<style scoped>\n",
       "    .dataframe tbody tr th:only-of-type {\n",
       "        vertical-align: middle;\n",
       "    }\n",
       "\n",
       "    .dataframe tbody tr th {\n",
       "        vertical-align: top;\n",
       "    }\n",
       "\n",
       "    .dataframe thead th {\n",
       "        text-align: right;\n",
       "    }\n",
       "</style>\n",
       "<table border=\"1\" class=\"dataframe\">\n",
       "  <thead>\n",
       "    <tr style=\"text-align: right;\">\n",
       "      <th></th>\n",
       "      <th>children</th>\n",
       "      <th>dob_years</th>\n",
       "      <th>education</th>\n",
       "      <th>education_id</th>\n",
       "      <th>family_status</th>\n",
       "      <th>family_status_id</th>\n",
       "      <th>gender</th>\n",
       "      <th>income_type</th>\n",
       "      <th>debt</th>\n",
       "      <th>total_income</th>\n",
       "      <th>purpose</th>\n",
       "    </tr>\n",
       "  </thead>\n",
       "  <tbody>\n",
       "    <tr>\n",
       "      <th>12</th>\n",
       "      <td>0</td>\n",
       "      <td>65.0</td>\n",
       "      <td>среднее</td>\n",
       "      <td>1</td>\n",
       "      <td>гражданский брак</td>\n",
       "      <td>1</td>\n",
       "      <td>M</td>\n",
       "      <td>пенсионер</td>\n",
       "      <td>0</td>\n",
       "      <td>NaN</td>\n",
       "      <td>сыграть свадьбу</td>\n",
       "    </tr>\n",
       "    <tr>\n",
       "      <th>26</th>\n",
       "      <td>0</td>\n",
       "      <td>41.0</td>\n",
       "      <td>среднее</td>\n",
       "      <td>1</td>\n",
       "      <td>женат / замужем</td>\n",
       "      <td>0</td>\n",
       "      <td>M</td>\n",
       "      <td>госслужащий</td>\n",
       "      <td>0</td>\n",
       "      <td>NaN</td>\n",
       "      <td>образование</td>\n",
       "    </tr>\n",
       "    <tr>\n",
       "      <th>29</th>\n",
       "      <td>0</td>\n",
       "      <td>63.0</td>\n",
       "      <td>среднее</td>\n",
       "      <td>1</td>\n",
       "      <td>Не женат / не замужем</td>\n",
       "      <td>4</td>\n",
       "      <td>F</td>\n",
       "      <td>пенсионер</td>\n",
       "      <td>0</td>\n",
       "      <td>NaN</td>\n",
       "      <td>строительство жилой недвижимости</td>\n",
       "    </tr>\n",
       "    <tr>\n",
       "      <th>41</th>\n",
       "      <td>0</td>\n",
       "      <td>50.0</td>\n",
       "      <td>среднее</td>\n",
       "      <td>1</td>\n",
       "      <td>женат / замужем</td>\n",
       "      <td>0</td>\n",
       "      <td>F</td>\n",
       "      <td>госслужащий</td>\n",
       "      <td>0</td>\n",
       "      <td>NaN</td>\n",
       "      <td>сделка с подержанным автомобилем</td>\n",
       "    </tr>\n",
       "    <tr>\n",
       "      <th>55</th>\n",
       "      <td>0</td>\n",
       "      <td>54.0</td>\n",
       "      <td>среднее</td>\n",
       "      <td>1</td>\n",
       "      <td>гражданский брак</td>\n",
       "      <td>1</td>\n",
       "      <td>F</td>\n",
       "      <td>пенсионер</td>\n",
       "      <td>1</td>\n",
       "      <td>NaN</td>\n",
       "      <td>сыграть свадьбу</td>\n",
       "    </tr>\n",
       "  </tbody>\n",
       "</table>\n",
       "</div>"
      ],
      "text/plain": [
       "    children  dob_years education  education_id          family_status  \\\n",
       "12         0       65.0   среднее             1       гражданский брак   \n",
       "26         0       41.0   среднее             1        женат / замужем   \n",
       "29         0       63.0   среднее             1  Не женат / не замужем   \n",
       "41         0       50.0   среднее             1        женат / замужем   \n",
       "55         0       54.0   среднее             1       гражданский брак   \n",
       "\n",
       "    family_status_id gender  income_type  debt  total_income  \\\n",
       "12                 1      M    пенсионер     0           NaN   \n",
       "26                 0      M  госслужащий     0           NaN   \n",
       "29                 4      F    пенсионер     0           NaN   \n",
       "41                 0      F  госслужащий     0           NaN   \n",
       "55                 1      F    пенсионер     1           NaN   \n",
       "\n",
       "                             purpose  \n",
       "12                   сыграть свадьбу  \n",
       "26                       образование  \n",
       "29  строительство жилой недвижимости  \n",
       "41  сделка с подержанным автомобилем  \n",
       "55                   сыграть свадьбу  "
      ]
     },
     "execution_count": 32,
     "metadata": {},
     "output_type": "execute_result"
    }
   ],
   "source": [
    "# Обновление таблицы с пропущенными значениями и вывод её первых строк\n",
    "df_nan = df[df['total_income'].isna()]\n",
    "df_nan.head()"
   ]
  },
  {
   "cell_type": "code",
   "execution_count": 33,
   "metadata": {},
   "outputs": [
    {
     "data": {
      "text/plain": [
       "array(['пенсионер', 'госслужащий', 'компаньон', 'сотрудник',\n",
       "       'предприниматель'], dtype=object)"
      ]
     },
     "execution_count": 33,
     "metadata": {},
     "output_type": "execute_result"
    }
   ],
   "source": [
    "# Просмотр уникальных значений типов занятости клиентов с пропущенными значениями ежемесячного дохода\n",
    "types_of_nan_income = df_nan['income_type'].unique()\n",
    "types_of_nan_income"
   ]
  },
  {
   "cell_type": "markdown",
   "metadata": {},
   "source": [
    "Видим, что у нас 5 разных типов занятости с пропущенными значениями."
   ]
  },
  {
   "cell_type": "markdown",
   "metadata": {},
   "source": [
    "Чтобы проверить пропуски на случайность, было решено проверить их на независимость от значений в других столбцах. Для этого посмотрим на распределение значений для среза с пропусками и сравним его с таким же распределением для среза без пропусков.\n",
    "Таблица с пропусками `df_nan` у нас уже имеется, создадим таблицу без пропусков `df_no_nan`."
   ]
  },
  {
   "cell_type": "code",
   "execution_count": 34,
   "metadata": {},
   "outputs": [
    {
     "data": {
      "text/html": [
       "<div>\n",
       "<style scoped>\n",
       "    .dataframe tbody tr th:only-of-type {\n",
       "        vertical-align: middle;\n",
       "    }\n",
       "\n",
       "    .dataframe tbody tr th {\n",
       "        vertical-align: top;\n",
       "    }\n",
       "\n",
       "    .dataframe thead th {\n",
       "        text-align: right;\n",
       "    }\n",
       "</style>\n",
       "<table border=\"1\" class=\"dataframe\">\n",
       "  <thead>\n",
       "    <tr style=\"text-align: right;\">\n",
       "      <th></th>\n",
       "      <th>children</th>\n",
       "      <th>dob_years</th>\n",
       "      <th>education</th>\n",
       "      <th>education_id</th>\n",
       "      <th>family_status</th>\n",
       "      <th>family_status_id</th>\n",
       "      <th>gender</th>\n",
       "      <th>income_type</th>\n",
       "      <th>debt</th>\n",
       "      <th>total_income</th>\n",
       "      <th>purpose</th>\n",
       "    </tr>\n",
       "  </thead>\n",
       "  <tbody>\n",
       "  </tbody>\n",
       "</table>\n",
       "</div>"
      ],
      "text/plain": [
       "Empty DataFrame\n",
       "Columns: [children, dob_years, education, education_id, family_status, family_status_id, gender, income_type, debt, total_income, purpose]\n",
       "Index: []"
      ]
     },
     "execution_count": 34,
     "metadata": {},
     "output_type": "execute_result"
    }
   ],
   "source": [
    "df.head(0)"
   ]
  },
  {
   "cell_type": "code",
   "execution_count": 35,
   "metadata": {},
   "outputs": [],
   "source": [
    "# таблица без пропусков\n",
    "df_no_nan = df[~df['total_income'].isna()]"
   ]
  },
  {
   "cell_type": "markdown",
   "metadata": {},
   "source": [
    "Далее напишем функцию `nan_dependence` для быстрой оценки зависимости пропусков от данных других столбцов. Данная функция принимает на входе значение колонки `column`, для которой будет осуществлена проверка на зависимость пропусков и возвращает таблицу с распределением в долях каждого значения из колонки `column` в таблице с пропусками и в таблице без пропусков."
   ]
  },
  {
   "cell_type": "code",
   "execution_count": 36,
   "metadata": {},
   "outputs": [],
   "source": [
    "def nan_dependence(column):\n",
    "    # создаем датафрейм с распределением в долях каждого значения в таблице с пропусками \n",
    "    df_table1 = pd.DataFrame(df_nan[column].value_counts(normalize=True))\n",
    "    # создаем датафрейм с распределением в долях каждого значения в таблице без пропусков\n",
    "    # и только по значениям, которые есть в таблице с пропусками, используя индексы из df_table1 \n",
    "    df_table2 = pd.DataFrame(df_no_nan[df[column].isin(df_table1.index)][column].value_counts(normalize=True))\n",
    "    # объединяем таблицы в одну по индексам\n",
    "    df_table_income = df_table1.merge(df_table2, right_index=True, left_index=True, how='outer', suffixes=('_with_nan', '_without_nan'))\n",
    "    return df_table_income\n"
   ]
  },
  {
   "cell_type": "markdown",
   "metadata": {},
   "source": [
    "Взглянем на её работу функции."
   ]
  },
  {
   "cell_type": "code",
   "execution_count": 37,
   "metadata": {},
   "outputs": [
    {
     "name": "stderr",
     "output_type": "stream",
     "text": [
      "<ipython-input-36-d574adcd52e1>:6: UserWarning: Boolean Series key will be reindexed to match DataFrame index.\n",
      "  df_table2 = pd.DataFrame(df_no_nan[df[column].isin(df_table1.index)][column].value_counts(normalize=True))\n"
     ]
    },
    {
     "data": {
      "text/html": [
       "<div>\n",
       "<style scoped>\n",
       "    .dataframe tbody tr th:only-of-type {\n",
       "        vertical-align: middle;\n",
       "    }\n",
       "\n",
       "    .dataframe tbody tr th {\n",
       "        vertical-align: top;\n",
       "    }\n",
       "\n",
       "    .dataframe thead th {\n",
       "        text-align: right;\n",
       "    }\n",
       "</style>\n",
       "<table border=\"1\" class=\"dataframe\">\n",
       "  <thead>\n",
       "    <tr style=\"text-align: right;\">\n",
       "      <th></th>\n",
       "      <th>children_with_nan</th>\n",
       "      <th>children_without_nan</th>\n",
       "    </tr>\n",
       "  </thead>\n",
       "  <tbody>\n",
       "    <tr>\n",
       "      <th>-1</th>\n",
       "      <td>0.001380</td>\n",
       "      <td>0.002274</td>\n",
       "    </tr>\n",
       "    <tr>\n",
       "      <th>0</th>\n",
       "      <td>0.661914</td>\n",
       "      <td>0.656814</td>\n",
       "    </tr>\n",
       "    <tr>\n",
       "      <th>1</th>\n",
       "      <td>0.218491</td>\n",
       "      <td>0.224433</td>\n",
       "    </tr>\n",
       "    <tr>\n",
       "      <th>2</th>\n",
       "      <td>0.093836</td>\n",
       "      <td>0.095654</td>\n",
       "    </tr>\n",
       "    <tr>\n",
       "      <th>3</th>\n",
       "      <td>0.016559</td>\n",
       "      <td>0.015193</td>\n",
       "    </tr>\n",
       "    <tr>\n",
       "      <th>4</th>\n",
       "      <td>0.003220</td>\n",
       "      <td>0.001757</td>\n",
       "    </tr>\n",
       "    <tr>\n",
       "      <th>5</th>\n",
       "      <td>0.000460</td>\n",
       "      <td>0.000413</td>\n",
       "    </tr>\n",
       "    <tr>\n",
       "      <th>20</th>\n",
       "      <td>0.004140</td>\n",
       "      <td>0.003462</td>\n",
       "    </tr>\n",
       "  </tbody>\n",
       "</table>\n",
       "</div>"
      ],
      "text/plain": [
       "     children_with_nan  children_without_nan\n",
       "-1            0.001380              0.002274\n",
       " 0            0.661914              0.656814\n",
       " 1            0.218491              0.224433\n",
       " 2            0.093836              0.095654\n",
       " 3            0.016559              0.015193\n",
       " 4            0.003220              0.001757\n",
       " 5            0.000460              0.000413\n",
       " 20           0.004140              0.003462"
      ]
     },
     "execution_count": 37,
     "metadata": {},
     "output_type": "execute_result"
    }
   ],
   "source": [
    "nan_dependence('children')"
   ]
  },
  {
   "cell_type": "markdown",
   "metadata": {},
   "source": [
    "`UserWarning` печалит, но эта функция делает ровно то, что было задумано: функция вернула таблицу с распределениями значений количества детей для данных с пропусками `children_with_nan` и `children_without_nan`. "
   ]
  },
  {
   "cell_type": "markdown",
   "metadata": {},
   "source": [
    "Далее для наглядности выводить таблицу уже не будем, а используем столбчатую диаграмму. Для ускорения работы используем функцию `show_plot`, принимающую в себя колонку, для которой хотим посмотреть распределение `column` и название категорий, для которых сравниваем значения `xlab`."
   ]
  },
  {
   "cell_type": "code",
   "execution_count": 38,
   "metadata": {},
   "outputs": [],
   "source": [
    "# Функция для отрисовки столбчатой диаграммы\n",
    "def show_plot(column, xlab, rot=0):\n",
    "    \n",
    "    nan_dependence(column).plot(kind='bar', figsize=(14, 4), rot=rot, title='Распределение значений для данных с пропусками и без').set(xlabel=xlab,\n",
    "         ylabel='доли')"
   ]
  },
  {
   "cell_type": "markdown",
   "metadata": {},
   "source": [
    "Далее визуально оценим диаграммы зависимостей пропусков в данных от отстальных столбцов в колонке."
   ]
  },
  {
   "cell_type": "code",
   "execution_count": 39,
   "metadata": {},
   "outputs": [
    {
     "name": "stderr",
     "output_type": "stream",
     "text": [
      "<ipython-input-36-d574adcd52e1>:6: UserWarning: Boolean Series key will be reindexed to match DataFrame index.\n",
      "  df_table2 = pd.DataFrame(df_no_nan[df[column].isin(df_table1.index)][column].value_counts(normalize=True))\n"
     ]
    },
    {
     "data": {
      "image/png": "[encoded data removed]",
      "text/plain": [
       "<Figure size 1008x288 with 1 Axes>"
      ]
     },
     "metadata": {
      "needs_background": "light"
     },
     "output_type": "display_data"
    }
   ],
   "source": [
    "# Показать диаграмму зависимости пропуска от колонки income_type\n",
    "show_plot('income_type', 'Тип занятости')"
   ]
  },
  {
   "cell_type": "markdown",
   "metadata": {},
   "source": [
    "Исходя из графика, нельзя выявить какую-то явную зависимость в распределении пропусков исходя из типов занятости клиентов."
   ]
  },
  {
   "cell_type": "code",
   "execution_count": 40,
   "metadata": {},
   "outputs": [
    {
     "name": "stderr",
     "output_type": "stream",
     "text": [
      "<ipython-input-36-d574adcd52e1>:6: UserWarning: Boolean Series key will be reindexed to match DataFrame index.\n",
      "  df_table2 = pd.DataFrame(df_no_nan[df[column].isin(df_table1.index)][column].value_counts(normalize=True))\n"
     ]
    },
    {
     "data": {
      "image/png": "[encoded data removed]",
      "text/plain": [
       "<Figure size 1008x288 with 1 Axes>"
      ]
     },
     "metadata": {
      "needs_background": "light"
     },
     "output_type": "display_data"
    }
   ],
   "source": [
    "# Показать диаграмму зависимости пропуска от колонки children\n",
    "show_plot('children', 'Количество детей')"
   ]
  },
  {
   "cell_type": "markdown",
   "metadata": {},
   "source": [
    "Видим, что зависимости пропусков от количества детей нет, а данные в ошибках есть. Осознанно не заменяем их сразу, так как подобные ошибки могут так же коррелировать с количеством пропусков."
   ]
  },
  {
   "cell_type": "code",
   "execution_count": 41,
   "metadata": {},
   "outputs": [
    {
     "name": "stderr",
     "output_type": "stream",
     "text": [
      "<ipython-input-36-d574adcd52e1>:6: UserWarning: Boolean Series key will be reindexed to match DataFrame index.\n",
      "  df_table2 = pd.DataFrame(df_no_nan[df[column].isin(df_table1.index)][column].value_counts(normalize=True))\n"
     ]
    },
    {
     "data": {
      "image/png": "[encoded data removed]",
      "text/plain": [
       "<Figure size 1008x288 with 1 Axes>"
      ]
     },
     "metadata": {
      "needs_background": "light"
     },
     "output_type": "display_data"
    }
   ],
   "source": [
    "# Показать диаграмму зависимости пропуска от колонки education\n",
    "show_plot('education', 'Уровень образования', rot=45)"
   ]
  },
  {
   "cell_type": "markdown",
   "metadata": {},
   "source": [
    "По аналогии с предыдущей диаграммой видим, что зависимости пропусков от уровня образования нет, а данные в ошибках есть. Возможно, разные операторы использовали разный регистр."
   ]
  },
  {
   "cell_type": "code",
   "execution_count": 42,
   "metadata": {},
   "outputs": [
    {
     "name": "stderr",
     "output_type": "stream",
     "text": [
      "<ipython-input-36-d574adcd52e1>:6: UserWarning: Boolean Series key will be reindexed to match DataFrame index.\n",
      "  df_table2 = pd.DataFrame(df_no_nan[df[column].isin(df_table1.index)][column].value_counts(normalize=True))\n"
     ]
    },
    {
     "data": {
      "image/png": "[encoded data removed]",
      "text/plain": [
       "<Figure size 1008x288 with 1 Axes>"
      ]
     },
     "metadata": {
      "needs_background": "light"
     },
     "output_type": "display_data"
    }
   ],
   "source": [
    "# Показать диаграмму зависимости пропуска от колонки education_id\n",
    "show_plot('education_id', 'Идентификатор уровеня образования')"
   ]
  },
  {
   "cell_type": "markdown",
   "metadata": {},
   "source": [
    "Зависимости пропусков от индентификатора уровня образования так же нет, а данные в ошибках есть."
   ]
  },
  {
   "cell_type": "code",
   "execution_count": 43,
   "metadata": {},
   "outputs": [
    {
     "name": "stderr",
     "output_type": "stream",
     "text": [
      "<ipython-input-36-d574adcd52e1>:6: UserWarning: Boolean Series key will be reindexed to match DataFrame index.\n",
      "  df_table2 = pd.DataFrame(df_no_nan[df[column].isin(df_table1.index)][column].value_counts(normalize=True))\n"
     ]
    },
    {
     "data": {
      "image/png": "[encoded data removed]",
      "text/plain": [
       "<Figure size 1008x288 with 1 Axes>"
      ]
     },
     "metadata": {
      "needs_background": "light"
     },
     "output_type": "display_data"
    }
   ],
   "source": [
    "# Показать диаграмму зависимости пропуска от колонки family_status\n",
    "show_plot('family_status', 'Семейный статус')"
   ]
  },
  {
   "cell_type": "markdown",
   "metadata": {},
   "source": [
    "Зависимость от семейного статуса не найдена."
   ]
  },
  {
   "cell_type": "code",
   "execution_count": 44,
   "metadata": {},
   "outputs": [
    {
     "name": "stderr",
     "output_type": "stream",
     "text": [
      "<ipython-input-36-d574adcd52e1>:6: UserWarning: Boolean Series key will be reindexed to match DataFrame index.\n",
      "  df_table2 = pd.DataFrame(df_no_nan[df[column].isin(df_table1.index)][column].value_counts(normalize=True))\n"
     ]
    },
    {
     "data": {
      "image/png": "[encoded data removed]",
      "text/plain": [
       "<Figure size 1008x288 with 1 Axes>"
      ]
     },
     "metadata": {
      "needs_background": "light"
     },
     "output_type": "display_data"
    }
   ],
   "source": [
    "# Показать диаграмму зависимости пропуска от колонки gender\n",
    "show_plot('gender', 'Пол')"
   ]
  },
  {
   "cell_type": "markdown",
   "metadata": {},
   "source": [
    "Зависимость от пола клиента не найдена. Это был последний столбец, который мы хотели проверить, поэтому можно считать **пропуски в данных случайными**."
   ]
  },
  {
   "cell_type": "markdown",
   "metadata": {},
   "source": [
    "Далее для клиентов каждого типа занятости заменим пропуски на **медианное значение ежемесячного дохода**. Медианное значение выбираем для сокращения влияния данных, сильно выбивающихся из общей массы."
   ]
  },
  {
   "cell_type": "code",
   "execution_count": 45,
   "metadata": {},
   "outputs": [],
   "source": [
    "# Заменяем пропуски в значениях на медианные значения\n",
    "df['total_income'] = df.groupby('income_type')['total_income'].transform(lambda x : x.fillna(x.median()))"
   ]
  },
  {
   "cell_type": "markdown",
   "metadata": {},
   "source": [
    "Проверим, что формула отработала, как и задумано. Для этого опять подсчитаем количество пропущенных значений в таблице."
   ]
  },
  {
   "cell_type": "code",
   "execution_count": 46,
   "metadata": {},
   "outputs": [
    {
     "data": {
      "text/plain": [
       "children            0\n",
       "dob_years           0\n",
       "education           0\n",
       "education_id        0\n",
       "family_status       0\n",
       "family_status_id    0\n",
       "gender              0\n",
       "income_type         0\n",
       "debt                0\n",
       "total_income        0\n",
       "purpose             0\n",
       "dtype: int64"
      ]
     },
     "execution_count": 46,
     "metadata": {},
     "output_type": "execute_result"
    }
   ],
   "source": [
    "# подсчёт пропусков\n",
    "df.isna().sum()"
   ]
  },
  {
   "cell_type": "markdown",
   "metadata": {},
   "source": [
    "**Вывод**\n",
    "\n",
    "Пропуски в колонке с ежемесячным доходом были заполнены медианным значением с учётом типа занятости клиентов. На этом явные пропуски в таблице закончены."
   ]
  },
  {
   "cell_type": "markdown",
   "metadata": {},
   "source": [
    "### Неявные пропуски\n",
    "\n",
    "Пропуски в таблице могут быть не только явными: `None` и `NaN`. При заполнении таблицы так же могли использоваться и неявные обозначения типа `'None'`, `'no data'` и многие другие, которые не могут быть выявлены методом `.isna()`. Чтобы ничего не упустить, проверим каждый из оставшихся столбцов."
   ]
  },
  {
   "cell_type": "markdown",
   "metadata": {},
   "source": [
    "Подробно рассмотрим содержание каждого столбца."
   ]
  },
  {
   "cell_type": "markdown",
   "metadata": {},
   "source": [
    "#### Колонка с количеством детей"
   ]
  },
  {
   "cell_type": "code",
   "execution_count": 47,
   "metadata": {},
   "outputs": [
    {
     "data": {
      "text/plain": [
       "array([-1,  0,  1,  2,  3,  4,  5, 20], dtype=int64)"
      ]
     },
     "execution_count": 47,
     "metadata": {},
     "output_type": "execute_result"
    }
   ],
   "source": [
    "# Просмотр уникальных значений количества детей в семье\n",
    "df['children'].sort_values().unique()"
   ]
  },
  {
   "cell_type": "markdown",
   "metadata": {},
   "source": [
    "В значениях есть проблемы: -1 и 20 детей, появившиеся, возможно, в результате опечатки оператора банка во время ввода данных или во время автозамены в таблице. Скорее всего это 1 и 2 детей соответственно."
   ]
  },
  {
   "cell_type": "code",
   "execution_count": 48,
   "metadata": {},
   "outputs": [],
   "source": [
    "# Замена значений в столбце с количеством детей\n",
    "df['children'] = df['children'].replace({20: 2, -1: 1})"
   ]
  },
  {
   "cell_type": "markdown",
   "metadata": {},
   "source": [
    "Убедимся, что данные в колонке изменены."
   ]
  },
  {
   "cell_type": "code",
   "execution_count": 49,
   "metadata": {},
   "outputs": [
    {
     "data": {
      "text/plain": [
       "array([0, 1, 2, 3, 4, 5], dtype=int64)"
      ]
     },
     "execution_count": 49,
     "metadata": {},
     "output_type": "execute_result"
    }
   ],
   "source": [
    "# Проверка уникальных значений колонки с количеством детей\n",
    "df.children.sort_values().unique()"
   ]
  },
  {
   "cell_type": "markdown",
   "metadata": {},
   "source": [
    "**Вывод**\n",
    "\n",
    "В колонке заменены ошибочные значения детей -1 и 20 на 1 и 2 соответственно."
   ]
  },
  {
   "cell_type": "markdown",
   "metadata": {},
   "source": [
    "#### Колонка с семейным статусом и колонка с идентификатором семейного статуса"
   ]
  },
  {
   "cell_type": "code",
   "execution_count": 50,
   "metadata": {},
   "outputs": [
    {
     "data": {
      "text/plain": [
       "array(['женат / замужем', 'гражданский брак', 'вдовец / вдова',\n",
       "       'в разводе', 'Не женат / не замужем'], dtype=object)"
      ]
     },
     "execution_count": 50,
     "metadata": {},
     "output_type": "execute_result"
    }
   ],
   "source": [
    "# Просмотр уникальных значений семейного статуса клиентов\n",
    "df['family_status'].unique()"
   ]
  },
  {
   "cell_type": "markdown",
   "metadata": {},
   "source": [
    "В значениях семейного статуса есть отклонения от единообразия стиля - сочетание заглавных и строчных букв, и отсутствуют дубликаты. Всего пять уникальных значений семейного статуса. Исправим отклонения в стиле."
   ]
  },
  {
   "cell_type": "code",
   "execution_count": 51,
   "metadata": {},
   "outputs": [
    {
     "data": {
      "text/plain": [
       "array(['женат / замужем', 'гражданский брак', 'вдовец / вдова',\n",
       "       'в разводе', 'не женат / не замужем'], dtype=object)"
      ]
     },
     "execution_count": 51,
     "metadata": {},
     "output_type": "execute_result"
    }
   ],
   "source": [
    "# Изменение сочетания заглавных и строчных букв\n",
    "df['family_status'] = df['family_status'].str.lower()\n",
    "df['family_status'].unique()"
   ]
  },
  {
   "cell_type": "code",
   "execution_count": 52,
   "metadata": {},
   "outputs": [
    {
     "data": {
      "text/plain": [
       "array([0, 1, 2, 3, 4], dtype=int64)"
      ]
     },
     "execution_count": 52,
     "metadata": {},
     "output_type": "execute_result"
    }
   ],
   "source": [
    "# Просмотр уникальных значений идентификатора семейного статуса клиентов\n",
    "df['family_status_id'].unique()"
   ]
  },
  {
   "cell_type": "markdown",
   "metadata": {},
   "source": [
    "Пять значений идентификатора совпадают с количеством уникальных значений семейного статуса. Данные этой колонки корректны."
   ]
  },
  {
   "cell_type": "markdown",
   "metadata": {},
   "source": [
    "**Вывод** \n",
    "\n",
    "Значения колонки с семейным статусом приведены к единому стилю."
   ]
  },
  {
   "cell_type": "markdown",
   "metadata": {},
   "source": [
    "#### Колонка с полом клиентов"
   ]
  },
  {
   "cell_type": "code",
   "execution_count": 53,
   "metadata": {},
   "outputs": [
    {
     "data": {
      "text/plain": [
       "array(['F', 'M', 'XNA'], dtype=object)"
      ]
     },
     "execution_count": 53,
     "metadata": {},
     "output_type": "execute_result"
    }
   ],
   "source": [
    "# Просмотр уникальных значений пола клиентов\n",
    "df['gender'].unique()"
   ]
  },
  {
   "cell_type": "markdown",
   "metadata": {},
   "source": [
    "В колонке с полом клиента существуют пропуски, так как кредитный отдел банка вряд ли бы выделил небинарных личностей в отдельную категорию. Подсчитаем количество пропусков."
   ]
  },
  {
   "cell_type": "code",
   "execution_count": 54,
   "metadata": {},
   "outputs": [
    {
     "data": {
      "text/plain": [
       "1"
      ]
     },
     "execution_count": 54,
     "metadata": {},
     "output_type": "execute_result"
    }
   ],
   "source": [
    "# Подсчет количества пропусков в колонке с полом клиентов\n",
    "df[df['gender'] == 'XNA']['gender'].count()"
   ]
  },
  {
   "cell_type": "markdown",
   "metadata": {},
   "source": [
    "Всего один клиент с утерянным значением пола. Взглянем на него, вдруг сможем восстановить его пол по остальным данным."
   ]
  },
  {
   "cell_type": "code",
   "execution_count": 55,
   "metadata": {},
   "outputs": [
    {
     "data": {
      "text/html": [
       "<div>\n",
       "<style scoped>\n",
       "    .dataframe tbody tr th:only-of-type {\n",
       "        vertical-align: middle;\n",
       "    }\n",
       "\n",
       "    .dataframe tbody tr th {\n",
       "        vertical-align: top;\n",
       "    }\n",
       "\n",
       "    .dataframe thead th {\n",
       "        text-align: right;\n",
       "    }\n",
       "</style>\n",
       "<table border=\"1\" class=\"dataframe\">\n",
       "  <thead>\n",
       "    <tr style=\"text-align: right;\">\n",
       "      <th></th>\n",
       "      <th>children</th>\n",
       "      <th>dob_years</th>\n",
       "      <th>education</th>\n",
       "      <th>education_id</th>\n",
       "      <th>family_status</th>\n",
       "      <th>family_status_id</th>\n",
       "      <th>gender</th>\n",
       "      <th>income_type</th>\n",
       "      <th>debt</th>\n",
       "      <th>total_income</th>\n",
       "      <th>purpose</th>\n",
       "    </tr>\n",
       "  </thead>\n",
       "  <tbody>\n",
       "    <tr>\n",
       "      <th>10701</th>\n",
       "      <td>0</td>\n",
       "      <td>24.0</td>\n",
       "      <td>неоконченное высшее</td>\n",
       "      <td>2</td>\n",
       "      <td>гражданский брак</td>\n",
       "      <td>1</td>\n",
       "      <td>XNA</td>\n",
       "      <td>компаньон</td>\n",
       "      <td>0</td>\n",
       "      <td>203905.157261</td>\n",
       "      <td>покупка недвижимости</td>\n",
       "    </tr>\n",
       "  </tbody>\n",
       "</table>\n",
       "</div>"
      ],
      "text/plain": [
       "       children  dob_years            education  education_id  \\\n",
       "10701         0       24.0  неоконченное высшее             2   \n",
       "\n",
       "          family_status  family_status_id gender income_type  debt  \\\n",
       "10701  гражданский брак                 1    XNA   компаньон     0   \n",
       "\n",
       "        total_income               purpose  \n",
       "10701  203905.157261  покупка недвижимости  "
      ]
     },
     "execution_count": 55,
     "metadata": {},
     "output_type": "execute_result"
    }
   ],
   "source": [
    "# Вывод на экран данных по клиенту с неизвестным полом\n",
    "df[df['gender'] == 'XNA']"
   ]
  },
  {
   "cell_type": "markdown",
   "metadata": {},
   "source": [
    "Клиент не в декрете, а значит, восстановить его пол не удалось, заменим его на более распространенный среди клиентов банка. Подсчитаем количество клиенток и клиентов."
   ]
  },
  {
   "cell_type": "code",
   "execution_count": 56,
   "metadata": {},
   "outputs": [
    {
     "name": "stdout",
     "output_type": "stream",
     "text": [
      "Количество женщин: 14236.\n",
      "Количество мужчин: 7288.\n"
     ]
    }
   ],
   "source": [
    "# Подсчет клиентов различного пола\n",
    "print('Количество женщин: {}.'.format(df[df['gender'] == 'F']['gender'].count()))\n",
    "print('Количество мужчин: {}.'.format(df[df['gender'] == 'M']['gender'].count()))"
   ]
  },
  {
   "cell_type": "markdown",
   "metadata": {},
   "source": [
    "Женщин больше почти в два раза, заменим неизвестный пол клиента на женский."
   ]
  },
  {
   "cell_type": "code",
   "execution_count": 57,
   "metadata": {},
   "outputs": [
    {
     "data": {
      "text/plain": [
       "array(['F', 'M'], dtype=object)"
      ]
     },
     "execution_count": 57,
     "metadata": {},
     "output_type": "execute_result"
    }
   ],
   "source": [
    "# Замена неизвестного пола на женский\n",
    "df.loc[df['gender'] == 'XNA', 'gender'] = 'F'\n",
    "# Проверка колонки с полом клиентов\n",
    "df['gender'].unique()"
   ]
  },
  {
   "cell_type": "markdown",
   "metadata": {},
   "source": [
    "#### Колонка с задолженностью"
   ]
  },
  {
   "cell_type": "code",
   "execution_count": 58,
   "metadata": {},
   "outputs": [
    {
     "data": {
      "text/plain": [
       "array([0, 1], dtype=int64)"
      ]
     },
     "execution_count": 58,
     "metadata": {},
     "output_type": "execute_result"
    }
   ],
   "source": [
    "# Просмотр уникальных значений колонки с задолженностью\n",
    "df['debt'].unique()"
   ]
  },
  {
   "cell_type": "markdown",
   "metadata": {},
   "source": [
    "Столбец содержит только два возможных значения: была ли задолженность по кредиту или нет."
   ]
  },
  {
   "cell_type": "markdown",
   "metadata": {},
   "source": [
    "#### Колонка с уровнем образования и колонка с идентификатором уровня образования"
   ]
  },
  {
   "cell_type": "code",
   "execution_count": 59,
   "metadata": {},
   "outputs": [
    {
     "data": {
      "text/plain": [
       "array(['высшее', 'среднее', 'Среднее', 'СРЕДНЕЕ', 'ВЫСШЕЕ',\n",
       "       'неоконченное высшее', 'начальное', 'Высшее',\n",
       "       'НЕОКОНЧЕННОЕ ВЫСШЕЕ', 'Неоконченное высшее', 'НАЧАЛЬНОЕ',\n",
       "       'Начальное', 'Ученая степень', 'УЧЕНАЯ СТЕПЕНЬ', 'ученая степень'],\n",
       "      dtype=object)"
      ]
     },
     "execution_count": 59,
     "metadata": {},
     "output_type": "execute_result"
    }
   ],
   "source": [
    "# Просмотр уникальных значений уровня образования клиентов\n",
    "df['education'].unique()"
   ]
  },
  {
   "cell_type": "markdown",
   "metadata": {},
   "source": [
    "Клиентами банка являются люди с начальным, средним, неоконченным высшим и высшим образованием и ученой степенью. Всего пять уникальных категорий, однако в колонке много дубликатов. Дубликаты могли появиться в таблице из-за разного формата записи данных разными операторами банка. Приведем их к одному стилю и напишем всё в нижнем регистре."
   ]
  },
  {
   "cell_type": "code",
   "execution_count": 60,
   "metadata": {},
   "outputs": [
    {
     "data": {
      "text/plain": [
       "array(['высшее', 'среднее', 'неоконченное высшее', 'начальное',\n",
       "       'ученая степень'], dtype=object)"
      ]
     },
     "execution_count": 60,
     "metadata": {},
     "output_type": "execute_result"
    }
   ],
   "source": [
    "# Изменение регистра в колонке образования\n",
    "df['education'] = df['education'].str.lower()\n",
    "df['education'].unique()"
   ]
  },
  {
   "cell_type": "code",
   "execution_count": 61,
   "metadata": {},
   "outputs": [
    {
     "data": {
      "text/plain": [
       "array([0, 1, 2, 3, 4], dtype=int64)"
      ]
     },
     "execution_count": 61,
     "metadata": {},
     "output_type": "execute_result"
    }
   ],
   "source": [
    "# Просмотр уникальных значений идентификационного номера уровня образованя клиентов\n",
    "df['education_id'].unique()"
   ]
  },
  {
   "cell_type": "markdown",
   "metadata": {},
   "source": [
    "Колонка с идентификационными номерами уровня образования соответствует количеству уникальных категорий уровня образования, исходя из чего заключаем, что она содержит корректные значения."
   ]
  },
  {
   "cell_type": "markdown",
   "metadata": {},
   "source": [
    "**Вывод**\n",
    "\n",
    "Колонка с уровнем образования была приведена к единому стилю."
   ]
  },
  {
   "cell_type": "markdown",
   "metadata": {},
   "source": [
    "#### Колонка с целью получения кредита\n",
    "<a id='goals'> </a>"
   ]
  },
  {
   "cell_type": "code",
   "execution_count": 62,
   "metadata": {},
   "outputs": [
    {
     "data": {
      "text/plain": [
       "array(['автомобили', 'автомобиль', 'высшее образование',\n",
       "       'дополнительное образование', 'жилье',\n",
       "       'заняться высшим образованием', 'заняться образованием',\n",
       "       'на покупку автомобиля', 'на покупку подержанного автомобиля',\n",
       "       'на покупку своего автомобиля', 'на проведение свадьбы',\n",
       "       'недвижимость', 'образование', 'операции с жильем',\n",
       "       'операции с коммерческой недвижимостью',\n",
       "       'операции с недвижимостью', 'операции со своей недвижимостью',\n",
       "       'покупка жилой недвижимости', 'покупка жилья',\n",
       "       'покупка жилья для сдачи', 'покупка жилья для семьи',\n",
       "       'покупка коммерческой недвижимости', 'покупка недвижимости',\n",
       "       'покупка своего жилья', 'получение высшего образования',\n",
       "       'получение дополнительного образования', 'получение образования',\n",
       "       'приобретение автомобиля', 'профильное образование',\n",
       "       'ремонт жилью', 'свадьба', 'свой автомобиль',\n",
       "       'сделка с автомобилем', 'сделка с подержанным автомобилем',\n",
       "       'строительство жилой недвижимости', 'строительство недвижимости',\n",
       "       'строительство собственной недвижимости', 'сыграть свадьбу'],\n",
       "      dtype=object)"
      ]
     },
     "execution_count": 62,
     "metadata": {},
     "output_type": "execute_result"
    }
   ],
   "source": [
    "# Просмотр уникальных значений целей получения кредита\n",
    "df['purpose'].sort_values().unique()"
   ]
  },
  {
   "cell_type": "markdown",
   "metadata": {},
   "source": [
    "Видим, что достаточно много дублирующихся по смыслу значений."
   ]
  },
  {
   "cell_type": "markdown",
   "metadata": {},
   "source": [
    "**Вывод**\n",
    "\n",
    "Данная колонка требует лемматизации."
   ]
  },
  {
   "cell_type": "markdown",
   "metadata": {},
   "source": [
    "### Замена типа данных"
   ]
  },
  {
   "cell_type": "markdown",
   "metadata": {},
   "source": [
    "В колонке было произведено много преобразований, взглянем на типы данных в таблице `df` на текущий момент."
   ]
  },
  {
   "cell_type": "code",
   "execution_count": 63,
   "metadata": {},
   "outputs": [
    {
     "data": {
      "text/plain": [
       "children              int64\n",
       "dob_years           float64\n",
       "education            object\n",
       "education_id          int64\n",
       "family_status        object\n",
       "family_status_id      int64\n",
       "gender               object\n",
       "income_type          object\n",
       "debt                  int64\n",
       "total_income        float64\n",
       "purpose              object\n",
       "dtype: object"
      ]
     },
     "execution_count": 63,
     "metadata": {},
     "output_type": "execute_result"
    }
   ],
   "source": [
    "# получение общей информации о данных в таблице df\n",
    "df.dtypes"
   ]
  },
  {
   "cell_type": "markdown",
   "metadata": {},
   "source": [
    "Видим, что числовые значения представлены двумя типами данных: `int64` и `float64`. Библиотека `pandas` присваивает их по умолчанию. Это требует большего объёма памяти, чем нужно для наших вычислений. \n",
    "\n",
    "Например:\n",
    "`int64` - принимает целое значение от -9223372036854775808 до 9223372036854775807.\n",
    "\n",
    "Соответственно, для колонок `children`, `dob_years`, `education_id`, `family_status_id` и `debt` хватит памяти, выделяемой для `int8`, принимающего значения от -128 до 127.\n",
    "\n",
    "А для колонки `total_income` будет достаточно `int32`, принимающего значения от -2147483648 до 2147483647.\n",
    "\n",
    "Для изменения типа данных выбираем метод `astype()`, потому как он позволяет явно задать желаемый тип данных."
   ]
  },
  {
   "cell_type": "code",
   "execution_count": 64,
   "metadata": {},
   "outputs": [],
   "source": [
    "# Замена типа данных int64 на int8\n",
    "for column in ['children', 'dob_years', 'education_id', 'family_status_id', 'debt']:\n",
    "    df[column] = df[column].astype('int8')"
   ]
  },
  {
   "cell_type": "code",
   "execution_count": 65,
   "metadata": {},
   "outputs": [],
   "source": [
    "# Замена типа данных float64 на int32\n",
    "df['total_income'] = df['total_income'].astype('int32')"
   ]
  },
  {
   "cell_type": "markdown",
   "metadata": {},
   "source": [
    "Посмотрим, как теперь выглядят типы данных."
   ]
  },
  {
   "cell_type": "code",
   "execution_count": 66,
   "metadata": {},
   "outputs": [
    {
     "data": {
      "text/plain": [
       "children              int8\n",
       "dob_years             int8\n",
       "education           object\n",
       "education_id          int8\n",
       "family_status       object\n",
       "family_status_id      int8\n",
       "gender              object\n",
       "income_type         object\n",
       "debt                  int8\n",
       "total_income         int32\n",
       "purpose             object\n",
       "dtype: object"
      ]
     },
     "execution_count": 66,
     "metadata": {},
     "output_type": "execute_result"
    }
   ],
   "source": [
    "# Проверка типов данных \n",
    "df.dtypes"
   ]
  },
  {
   "cell_type": "code",
   "execution_count": 67,
   "metadata": {},
   "outputs": [
    {
     "data": {
      "text/html": [
       "<div>\n",
       "<style scoped>\n",
       "    .dataframe tbody tr th:only-of-type {\n",
       "        vertical-align: middle;\n",
       "    }\n",
       "\n",
       "    .dataframe tbody tr th {\n",
       "        vertical-align: top;\n",
       "    }\n",
       "\n",
       "    .dataframe thead th {\n",
       "        text-align: right;\n",
       "    }\n",
       "</style>\n",
       "<table border=\"1\" class=\"dataframe\">\n",
       "  <thead>\n",
       "    <tr style=\"text-align: right;\">\n",
       "      <th></th>\n",
       "      <th>children</th>\n",
       "      <th>dob_years</th>\n",
       "      <th>education</th>\n",
       "      <th>education_id</th>\n",
       "      <th>family_status</th>\n",
       "      <th>family_status_id</th>\n",
       "      <th>gender</th>\n",
       "      <th>income_type</th>\n",
       "      <th>debt</th>\n",
       "      <th>total_income</th>\n",
       "      <th>purpose</th>\n",
       "    </tr>\n",
       "  </thead>\n",
       "  <tbody>\n",
       "    <tr>\n",
       "      <th>0</th>\n",
       "      <td>1</td>\n",
       "      <td>42</td>\n",
       "      <td>высшее</td>\n",
       "      <td>0</td>\n",
       "      <td>женат / замужем</td>\n",
       "      <td>0</td>\n",
       "      <td>F</td>\n",
       "      <td>сотрудник</td>\n",
       "      <td>0</td>\n",
       "      <td>253875</td>\n",
       "      <td>покупка жилья</td>\n",
       "    </tr>\n",
       "    <tr>\n",
       "      <th>1</th>\n",
       "      <td>1</td>\n",
       "      <td>36</td>\n",
       "      <td>среднее</td>\n",
       "      <td>1</td>\n",
       "      <td>женат / замужем</td>\n",
       "      <td>0</td>\n",
       "      <td>F</td>\n",
       "      <td>сотрудник</td>\n",
       "      <td>0</td>\n",
       "      <td>112080</td>\n",
       "      <td>приобретение автомобиля</td>\n",
       "    </tr>\n",
       "    <tr>\n",
       "      <th>2</th>\n",
       "      <td>0</td>\n",
       "      <td>33</td>\n",
       "      <td>среднее</td>\n",
       "      <td>1</td>\n",
       "      <td>женат / замужем</td>\n",
       "      <td>0</td>\n",
       "      <td>M</td>\n",
       "      <td>сотрудник</td>\n",
       "      <td>0</td>\n",
       "      <td>145885</td>\n",
       "      <td>покупка жилья</td>\n",
       "    </tr>\n",
       "    <tr>\n",
       "      <th>3</th>\n",
       "      <td>3</td>\n",
       "      <td>32</td>\n",
       "      <td>среднее</td>\n",
       "      <td>1</td>\n",
       "      <td>женат / замужем</td>\n",
       "      <td>0</td>\n",
       "      <td>M</td>\n",
       "      <td>сотрудник</td>\n",
       "      <td>0</td>\n",
       "      <td>267628</td>\n",
       "      <td>дополнительное образование</td>\n",
       "    </tr>\n",
       "    <tr>\n",
       "      <th>4</th>\n",
       "      <td>0</td>\n",
       "      <td>53</td>\n",
       "      <td>среднее</td>\n",
       "      <td>1</td>\n",
       "      <td>гражданский брак</td>\n",
       "      <td>1</td>\n",
       "      <td>F</td>\n",
       "      <td>пенсионер</td>\n",
       "      <td>0</td>\n",
       "      <td>158616</td>\n",
       "      <td>сыграть свадьбу</td>\n",
       "    </tr>\n",
       "  </tbody>\n",
       "</table>\n",
       "</div>"
      ],
      "text/plain": [
       "   children  dob_years education  education_id     family_status  \\\n",
       "0         1         42    высшее             0   женат / замужем   \n",
       "1         1         36   среднее             1   женат / замужем   \n",
       "2         0         33   среднее             1   женат / замужем   \n",
       "3         3         32   среднее             1   женат / замужем   \n",
       "4         0         53   среднее             1  гражданский брак   \n",
       "\n",
       "   family_status_id gender income_type  debt  total_income  \\\n",
       "0                 0      F   сотрудник     0        253875   \n",
       "1                 0      F   сотрудник     0        112080   \n",
       "2                 0      M   сотрудник     0        145885   \n",
       "3                 0      M   сотрудник     0        267628   \n",
       "4                 1      F   пенсионер     0        158616   \n",
       "\n",
       "                      purpose  \n",
       "0               покупка жилья  \n",
       "1     приобретение автомобиля  \n",
       "2               покупка жилья  \n",
       "3  дополнительное образование  \n",
       "4             сыграть свадьбу  "
      ]
     },
     "execution_count": 67,
     "metadata": {},
     "output_type": "execute_result"
    }
   ],
   "source": [
    "# получение первых 5 строк таблицы df\n",
    "df.head()"
   ]
  },
  {
   "cell_type": "markdown",
   "metadata": {},
   "source": [
    "**Вывод**\n",
    "\n",
    "Сейчас таблица выглядит занимает меньше места в памяти и выглядит чуть аккуратнее из-за целых чисел в ежемесячном доходе клиентов."
   ]
  },
  {
   "cell_type": "markdown",
   "metadata": {},
   "source": [
    "### Выделение из таблицы словарей для колонок с уровнем образования и семейным статусом\n",
    "Для удобства работы с колонкой вынесем дублирующиеся колонки в отдельные таблицы, создав их них подобие словаря. \n",
    "\n",
    "Для уровня образования клиентов сохраним в таблицу `df_education` колонки `education` и `education_id`, избавимся от дубликатов и отсортируем по колонке `education_id`."
   ]
  },
  {
   "cell_type": "code",
   "execution_count": 68,
   "metadata": {},
   "outputs": [
    {
     "data": {
      "text/html": [
       "<div>\n",
       "<style scoped>\n",
       "    .dataframe tbody tr th:only-of-type {\n",
       "        vertical-align: middle;\n",
       "    }\n",
       "\n",
       "    .dataframe tbody tr th {\n",
       "        vertical-align: top;\n",
       "    }\n",
       "\n",
       "    .dataframe thead th {\n",
       "        text-align: right;\n",
       "    }\n",
       "</style>\n",
       "<table border=\"1\" class=\"dataframe\">\n",
       "  <thead>\n",
       "    <tr style=\"text-align: right;\">\n",
       "      <th></th>\n",
       "      <th>education_id</th>\n",
       "      <th>education</th>\n",
       "    </tr>\n",
       "  </thead>\n",
       "  <tbody>\n",
       "    <tr>\n",
       "      <th>0</th>\n",
       "      <td>0</td>\n",
       "      <td>высшее</td>\n",
       "    </tr>\n",
       "    <tr>\n",
       "      <th>1</th>\n",
       "      <td>1</td>\n",
       "      <td>среднее</td>\n",
       "    </tr>\n",
       "    <tr>\n",
       "      <th>2</th>\n",
       "      <td>2</td>\n",
       "      <td>неоконченное высшее</td>\n",
       "    </tr>\n",
       "    <tr>\n",
       "      <th>3</th>\n",
       "      <td>3</td>\n",
       "      <td>начальное</td>\n",
       "    </tr>\n",
       "    <tr>\n",
       "      <th>4</th>\n",
       "      <td>4</td>\n",
       "      <td>ученая степень</td>\n",
       "    </tr>\n",
       "  </tbody>\n",
       "</table>\n",
       "</div>"
      ],
      "text/plain": [
       "   education_id            education\n",
       "0             0               высшее\n",
       "1             1              среднее\n",
       "2             2  неоконченное высшее\n",
       "3             3            начальное\n",
       "4             4       ученая степень"
      ]
     },
     "execution_count": 68,
     "metadata": {},
     "output_type": "execute_result"
    }
   ],
   "source": [
    "# Создание таблицы с уровнем образования клиентов\n",
    "df_education = df[['education_id', 'education']].drop_duplicates().reset_index(drop=True).sort_values(by='education_id')\n",
    "df_education"
   ]
  },
  {
   "cell_type": "markdown",
   "metadata": {},
   "source": [
    "По аналогии с предыдущей таблицей создаем таблицу `df_family` для колонок с семейным статусом."
   ]
  },
  {
   "cell_type": "code",
   "execution_count": 69,
   "metadata": {},
   "outputs": [
    {
     "data": {
      "text/html": [
       "<div>\n",
       "<style scoped>\n",
       "    .dataframe tbody tr th:only-of-type {\n",
       "        vertical-align: middle;\n",
       "    }\n",
       "\n",
       "    .dataframe tbody tr th {\n",
       "        vertical-align: top;\n",
       "    }\n",
       "\n",
       "    .dataframe thead th {\n",
       "        text-align: right;\n",
       "    }\n",
       "</style>\n",
       "<table border=\"1\" class=\"dataframe\">\n",
       "  <thead>\n",
       "    <tr style=\"text-align: right;\">\n",
       "      <th></th>\n",
       "      <th>family_status_id</th>\n",
       "      <th>family_status</th>\n",
       "    </tr>\n",
       "  </thead>\n",
       "  <tbody>\n",
       "    <tr>\n",
       "      <th>0</th>\n",
       "      <td>0</td>\n",
       "      <td>женат / замужем</td>\n",
       "    </tr>\n",
       "    <tr>\n",
       "      <th>1</th>\n",
       "      <td>1</td>\n",
       "      <td>гражданский брак</td>\n",
       "    </tr>\n",
       "    <tr>\n",
       "      <th>2</th>\n",
       "      <td>2</td>\n",
       "      <td>вдовец / вдова</td>\n",
       "    </tr>\n",
       "    <tr>\n",
       "      <th>3</th>\n",
       "      <td>3</td>\n",
       "      <td>в разводе</td>\n",
       "    </tr>\n",
       "    <tr>\n",
       "      <th>4</th>\n",
       "      <td>4</td>\n",
       "      <td>не женат / не замужем</td>\n",
       "    </tr>\n",
       "  </tbody>\n",
       "</table>\n",
       "</div>"
      ],
      "text/plain": [
       "   family_status_id          family_status\n",
       "0                 0        женат / замужем\n",
       "1                 1       гражданский брак\n",
       "2                 2         вдовец / вдова\n",
       "3                 3              в разводе\n",
       "4                 4  не женат / не замужем"
      ]
     },
     "execution_count": 69,
     "metadata": {},
     "output_type": "execute_result"
    }
   ],
   "source": [
    "# Создание таблицы с семейным статусом клиентов\n",
    "df_family = df[['family_status_id', 'family_status']].drop_duplicates().reset_index(drop=True).sort_values(by='family_status_id')\n",
    "df_family"
   ]
  },
  {
   "cell_type": "markdown",
   "metadata": {},
   "source": [
    "Когда таблицы-словари созданы, можем удалить колонки с дублирующими значениями из главной таблицы."
   ]
  },
  {
   "cell_type": "code",
   "execution_count": 70,
   "metadata": {},
   "outputs": [
    {
     "data": {
      "text/html": [
       "<div>\n",
       "<style scoped>\n",
       "    .dataframe tbody tr th:only-of-type {\n",
       "        vertical-align: middle;\n",
       "    }\n",
       "\n",
       "    .dataframe tbody tr th {\n",
       "        vertical-align: top;\n",
       "    }\n",
       "\n",
       "    .dataframe thead th {\n",
       "        text-align: right;\n",
       "    }\n",
       "</style>\n",
       "<table border=\"1\" class=\"dataframe\">\n",
       "  <thead>\n",
       "    <tr style=\"text-align: right;\">\n",
       "      <th></th>\n",
       "      <th>children</th>\n",
       "      <th>dob_years</th>\n",
       "      <th>education_id</th>\n",
       "      <th>family_status_id</th>\n",
       "      <th>gender</th>\n",
       "      <th>income_type</th>\n",
       "      <th>debt</th>\n",
       "      <th>total_income</th>\n",
       "      <th>purpose</th>\n",
       "    </tr>\n",
       "  </thead>\n",
       "  <tbody>\n",
       "    <tr>\n",
       "      <th>0</th>\n",
       "      <td>1</td>\n",
       "      <td>42</td>\n",
       "      <td>0</td>\n",
       "      <td>0</td>\n",
       "      <td>F</td>\n",
       "      <td>сотрудник</td>\n",
       "      <td>0</td>\n",
       "      <td>253875</td>\n",
       "      <td>покупка жилья</td>\n",
       "    </tr>\n",
       "    <tr>\n",
       "      <th>1</th>\n",
       "      <td>1</td>\n",
       "      <td>36</td>\n",
       "      <td>1</td>\n",
       "      <td>0</td>\n",
       "      <td>F</td>\n",
       "      <td>сотрудник</td>\n",
       "      <td>0</td>\n",
       "      <td>112080</td>\n",
       "      <td>приобретение автомобиля</td>\n",
       "    </tr>\n",
       "    <tr>\n",
       "      <th>2</th>\n",
       "      <td>0</td>\n",
       "      <td>33</td>\n",
       "      <td>1</td>\n",
       "      <td>0</td>\n",
       "      <td>M</td>\n",
       "      <td>сотрудник</td>\n",
       "      <td>0</td>\n",
       "      <td>145885</td>\n",
       "      <td>покупка жилья</td>\n",
       "    </tr>\n",
       "    <tr>\n",
       "      <th>3</th>\n",
       "      <td>3</td>\n",
       "      <td>32</td>\n",
       "      <td>1</td>\n",
       "      <td>0</td>\n",
       "      <td>M</td>\n",
       "      <td>сотрудник</td>\n",
       "      <td>0</td>\n",
       "      <td>267628</td>\n",
       "      <td>дополнительное образование</td>\n",
       "    </tr>\n",
       "    <tr>\n",
       "      <th>4</th>\n",
       "      <td>0</td>\n",
       "      <td>53</td>\n",
       "      <td>1</td>\n",
       "      <td>1</td>\n",
       "      <td>F</td>\n",
       "      <td>пенсионер</td>\n",
       "      <td>0</td>\n",
       "      <td>158616</td>\n",
       "      <td>сыграть свадьбу</td>\n",
       "    </tr>\n",
       "  </tbody>\n",
       "</table>\n",
       "</div>"
      ],
      "text/plain": [
       "   children  dob_years  education_id  family_status_id gender income_type  \\\n",
       "0         1         42             0                 0      F   сотрудник   \n",
       "1         1         36             1                 0      F   сотрудник   \n",
       "2         0         33             1                 0      M   сотрудник   \n",
       "3         3         32             1                 0      M   сотрудник   \n",
       "4         0         53             1                 1      F   пенсионер   \n",
       "\n",
       "   debt  total_income                     purpose  \n",
       "0     0        253875               покупка жилья  \n",
       "1     0        112080     приобретение автомобиля  \n",
       "2     0        145885               покупка жилья  \n",
       "3     0        267628  дополнительное образование  \n",
       "4     0        158616             сыграть свадьбу  "
      ]
     },
     "execution_count": 70,
     "metadata": {},
     "output_type": "execute_result"
    }
   ],
   "source": [
    "# Удаляем колонки 'education' и 'family_status' из таблицы df\n",
    "df.drop(columns = ['education', 'family_status'], axis = 1, inplace=True)\n",
    "# Выводим на экран первые 5 строк обновленной таблицы\n",
    "df.head()"
   ]
  },
  {
   "cell_type": "markdown",
   "metadata": {},
   "source": [
    "**Вывод**"
   ]
  },
  {
   "cell_type": "markdown",
   "metadata": {},
   "source": [
    "Из таблицы `df` были созданы две таблицы-словаря для образования `df_education` и семейного статуса `df_family`, а сами эти колонки удалены из главной таблицы."
   ]
  },
  {
   "cell_type": "markdown",
   "metadata": {},
   "source": [
    "### Обработка дубликатов"
   ]
  },
  {
   "cell_type": "markdown",
   "metadata": {},
   "source": [
    "Проверим таблицу `df` на явные дубликаты."
   ]
  },
  {
   "cell_type": "code",
   "execution_count": 71,
   "metadata": {},
   "outputs": [
    {
     "data": {
      "text/plain": [
       "71"
      ]
     },
     "execution_count": 71,
     "metadata": {},
     "output_type": "execute_result"
    }
   ],
   "source": [
    "# Подсчёт явных дубликатов в таблице\n",
    "df.duplicated().sum()"
   ]
  },
  {
   "cell_type": "markdown",
   "metadata": {},
   "source": [
    "В таблице дублируется 71 клиент - они могли появиться при формировании таблицы из разных источников, при случайном продублировании клиентов и т.д. \n",
    "\n",
    "Нужно избавиться от повторяющихся данных. Для избавления от явных дубликатов используем метод `.drop_duplicates()` и обновим индексацию методом `.reset_index(drop=True)`."
   ]
  },
  {
   "cell_type": "code",
   "execution_count": 72,
   "metadata": {},
   "outputs": [],
   "source": [
    "# Избавление от явных дубликатов\n",
    "df = df.drop_duplicates().reset_index(drop=True)"
   ]
  },
  {
   "cell_type": "code",
   "execution_count": 73,
   "metadata": {},
   "outputs": [
    {
     "data": {
      "text/plain": [
       "0"
      ]
     },
     "execution_count": 73,
     "metadata": {},
     "output_type": "execute_result"
    }
   ],
   "source": [
    "# Подсчёт явных дубликатов в таблице\n",
    "df.duplicated().sum()"
   ]
  },
  {
   "cell_type": "markdown",
   "metadata": {},
   "source": [
    "В таблице не осталось дублирующихся клиентов."
   ]
  },
  {
   "cell_type": "markdown",
   "metadata": {},
   "source": [
    "**Вывод**\n",
    "\n",
    "Строки в таблице теперь представлены только уникальными клиентами."
   ]
  },
  {
   "cell_type": "markdown",
   "metadata": {},
   "source": [
    "### Лемматизация"
   ]
  },
  {
   "cell_type": "markdown",
   "metadata": {},
   "source": [
    "[Выше было обнаружено](#goals), что цели получения кредита у многих клиентов схожи, однако в таблице они прописаны по-разному. \n",
    "Сохраним их в переменную `purpose_list` для удобства работы."
   ]
  },
  {
   "cell_type": "code",
   "execution_count": 74,
   "metadata": {},
   "outputs": [
    {
     "data": {
      "text/plain": [
       "array(['автомобили', 'автомобиль', 'высшее образование',\n",
       "       'дополнительное образование', 'жилье',\n",
       "       'заняться высшим образованием', 'заняться образованием',\n",
       "       'на покупку автомобиля', 'на покупку подержанного автомобиля',\n",
       "       'на покупку своего автомобиля', 'на проведение свадьбы',\n",
       "       'недвижимость', 'образование', 'операции с жильем',\n",
       "       'операции с коммерческой недвижимостью',\n",
       "       'операции с недвижимостью', 'операции со своей недвижимостью',\n",
       "       'покупка жилой недвижимости', 'покупка жилья',\n",
       "       'покупка жилья для сдачи', 'покупка жилья для семьи',\n",
       "       'покупка коммерческой недвижимости', 'покупка недвижимости',\n",
       "       'покупка своего жилья', 'получение высшего образования',\n",
       "       'получение дополнительного образования', 'получение образования',\n",
       "       'приобретение автомобиля', 'профильное образование',\n",
       "       'ремонт жилью', 'свадьба', 'свой автомобиль',\n",
       "       'сделка с автомобилем', 'сделка с подержанным автомобилем',\n",
       "       'строительство жилой недвижимости', 'строительство недвижимости',\n",
       "       'строительство собственной недвижимости', 'сыграть свадьбу'],\n",
       "      dtype=object)"
      ]
     },
     "execution_count": 74,
     "metadata": {},
     "output_type": "execute_result"
    }
   ],
   "source": [
    "# Создание переменной с уникальными значениями целей получения кредита\n",
    "puprose_list = df['purpose'].sort_values().unique()\n",
    "puprose_list"
   ]
  },
  {
   "cell_type": "markdown",
   "metadata": {},
   "source": [
    "Подсчитаем, как часто определенные леммы встречаются в данном списке. Для этого создадим пустой список `lemmas_list`, куда сохраним все леммы. Для дальнейшего подсчета их количества удобно использовать специальный счётчик `Counter`."
   ]
  },
  {
   "cell_type": "code",
   "execution_count": 75,
   "metadata": {},
   "outputs": [],
   "source": [
    "# Подсчет частоты встречаемости лемм в списке целей получения кредита\n",
    "lemmas_list = []\n",
    "for goal in puprose_list:\n",
    "    lemmas = m.lemmatize(goal)\n",
    "    for lemma in lemmas:\n",
    "        lemmas_list.append(lemma)"
   ]
  },
  {
   "cell_type": "code",
   "execution_count": 76,
   "metadata": {},
   "outputs": [
    {
     "data": {
      "text/plain": [
       "[(' ', 59),\n",
       " ('\\n', 38),\n",
       " ('покупка', 10),\n",
       " ('недвижимость', 10),\n",
       " ('автомобиль', 9),\n",
       " ('образование', 9),\n",
       " ('жилье', 7),\n",
       " ('с', 5),\n",
       " ('на', 4),\n",
       " ('свой', 4),\n",
       " ('операция', 4),\n",
       " ('высокий', 3),\n",
       " ('свадьба', 3),\n",
       " ('получение', 3),\n",
       " ('строительство', 3),\n",
       " ('дополнительный', 2),\n",
       " ('заниматься', 2),\n",
       " ('коммерческий', 2),\n",
       " ('жилой', 2),\n",
       " ('для', 2),\n",
       " ('сделка', 2),\n",
       " ('подержать', 1),\n",
       " ('проведение', 1),\n",
       " ('со', 1),\n",
       " ('сдача', 1),\n",
       " ('семья', 1),\n",
       " ('приобретение', 1),\n",
       " ('профильный', 1),\n",
       " ('ремонт', 1),\n",
       " ('подержанный', 1),\n",
       " ('собственный', 1),\n",
       " ('сыграть', 1)]"
      ]
     },
     "execution_count": 76,
     "metadata": {},
     "output_type": "execute_result"
    }
   ],
   "source": [
    "Counter(lemmas_list).most_common()"
   ]
  },
  {
   "cell_type": "markdown",
   "metadata": {},
   "source": [
    "Исходя из данных, можно выделить четыре главных категорий целей клиентов:\n",
    "1. Автомобиль\n",
    "2. Жильё / недвижимость\n",
    "3. Образование\n",
    "4. Свадьба\n"
   ]
  },
  {
   "cell_type": "markdown",
   "metadata": {},
   "source": [
    "Хотелось бы разделить *коммерческую* и *жилую* недвижимость, но в некоторых случаях по данным, указанным в таблице, невозможно понять, о недвижимости какого типа идет речь. Поэтому во избежание создания некорректного распределения все цели кредита, связанные с жильём и недвижимостью, объединили в одну. Так же нет достаточных данных, что входит в понятие _\"операция с недвижимостью\"_ и входит ли туда ремонт жилья. Исходя из этого все клиенты, имеющие целью какие бы то ни было манипуляцпии с жильем и недвижимостью, так же объединены в одну категорию."
   ]
  },
  {
   "cell_type": "markdown",
   "metadata": {},
   "source": [
    "Создадим список, куда занесем основные леммы для целей получения кредита. "
   ]
  },
  {
   "cell_type": "code",
   "execution_count": 77,
   "metadata": {},
   "outputs": [],
   "source": [
    "# Создание списка главных лемм\n",
    "list_of_purpose = ['автомобиль', 'образование', 'жилье', 'недвижимость', 'свадьба']"
   ]
  },
  {
   "cell_type": "markdown",
   "metadata": {},
   "source": [
    "Далее создадим четыре списка с целями получения кредита."
   ]
  },
  {
   "cell_type": "code",
   "execution_count": 78,
   "metadata": {},
   "outputs": [],
   "source": [
    "# Создадим списки для каждой категории цели получения кредита: \n",
    "# для автомобиля, для образования, для недвижимости / жилья, для свадьбы\n",
    "car = []\n",
    "education = []\n",
    "flat = []\n",
    "marriage = []\n",
    "main_goals_list = {'автомобиль': car, 'образование': education, 'недвижимость': flat, 'жилье': flat, 'свадьба': marriage} \n",
    "# flat дублируется из-за того, что жильё и недвижимость объединены в одну категорию"
   ]
  },
  {
   "cell_type": "markdown",
   "metadata": {},
   "source": [
    "Напишем функцию `purpose_lemma`, которая лемматизирует каждое уникальное значение цели получения кредита `all_purpose_list` и заполняет соответствующие списки словаря `list_with_lemma` при совпадении лемматизированных целей ключом словаря."
   ]
  },
  {
   "cell_type": "code",
   "execution_count": 79,
   "metadata": {},
   "outputs": [],
   "source": [
    "# Функция для заполнения списков при лемматизации\n",
    "def purpose_lemma(all_purposes_list, list_with_lemma):\n",
    "    for purpose in all_purposes_list:\n",
    "        lemmas = m.lemmatize(purpose)\n",
    "        for lemma in lemmas:\n",
    "            if lemma in list_with_lemma:\n",
    "                list_with_lemma[lemma].append(purpose)"
   ]
  },
  {
   "cell_type": "markdown",
   "metadata": {},
   "source": [
    "Дальше применим цикл, чтобы применить фукцию `purpose_lemma` для заполнения каждого из списков значениями со схожими целями."
   ]
  },
  {
   "cell_type": "code",
   "execution_count": 80,
   "metadata": {},
   "outputs": [],
   "source": [
    "# Заполнение в списков car, education, flat и marriage значениями по леммам\n",
    "# 'автомобиль', 'образование', 'жилье', 'недвижимость' и 'свадьба'\n",
    "purpose_lemma(puprose_list, main_goals_list)"
   ]
  },
  {
   "cell_type": "markdown",
   "metadata": {},
   "source": [
    "Напишем функцию, заменяющую в таблице `df` исходные значения в целях получения кредита, на \"автомобиль\", \"образование\", \"недвижимость\" или \"свадьбу\". Функция `change_purpose` получает на входе исходные цели из списка `list` и заменяет их на значение с конечной целью `right_goal`."
   ]
  },
  {
   "cell_type": "code",
   "execution_count": 81,
   "metadata": {},
   "outputs": [],
   "source": [
    "# Функция для замены цели в таблице df\n",
    "def change_purpose(list, right_goal):\n",
    "    for wrong_goal in list:\n",
    "        df.loc[df['purpose'] == wrong_goal, 'purpose'] = right_goal"
   ]
  },
  {
   "cell_type": "markdown",
   "metadata": {},
   "source": [
    "Создадим список корректных целей и пройдемся циклом, заменяя каждое значение из конкретного списка с исходными целями на соответствующее корректное значение."
   ]
  },
  {
   "cell_type": "code",
   "execution_count": 82,
   "metadata": {},
   "outputs": [],
   "source": [
    "# Создание списков с целями\n",
    "list_of_purpose_right = ['автомобиль', 'образование', 'недвижимость', 'свадьба']\n",
    "# Создание списка списков с исходными целями\n",
    "main_goals_list = [car, education, flat, marriage]  # обновим данный список, оставив только один flat"
   ]
  },
  {
   "cell_type": "code",
   "execution_count": 83,
   "metadata": {},
   "outputs": [],
   "source": [
    "# Изменение исходных целей на корректные\n",
    "for i in range(len(list_of_purpose_right)):\n",
    "    change_purpose(main_goals_list[i], list_of_purpose_right[i])"
   ]
  },
  {
   "cell_type": "code",
   "execution_count": 84,
   "metadata": {},
   "outputs": [
    {
     "data": {
      "text/plain": [
       "array(['недвижимость', 'автомобиль', 'образование', 'свадьба'],\n",
       "      dtype=object)"
      ]
     },
     "execution_count": 84,
     "metadata": {},
     "output_type": "execute_result"
    }
   ],
   "source": [
    "# Проверка уникальных значений цели получения кредита\n",
    "df.purpose.unique()"
   ]
  },
  {
   "cell_type": "code",
   "execution_count": 85,
   "metadata": {},
   "outputs": [
    {
     "data": {
      "text/html": [
       "<div>\n",
       "<style scoped>\n",
       "    .dataframe tbody tr th:only-of-type {\n",
       "        vertical-align: middle;\n",
       "    }\n",
       "\n",
       "    .dataframe tbody tr th {\n",
       "        vertical-align: top;\n",
       "    }\n",
       "\n",
       "    .dataframe thead th {\n",
       "        text-align: right;\n",
       "    }\n",
       "</style>\n",
       "<table border=\"1\" class=\"dataframe\">\n",
       "  <thead>\n",
       "    <tr style=\"text-align: right;\">\n",
       "      <th></th>\n",
       "      <th>children</th>\n",
       "      <th>dob_years</th>\n",
       "      <th>education_id</th>\n",
       "      <th>family_status_id</th>\n",
       "      <th>gender</th>\n",
       "      <th>income_type</th>\n",
       "      <th>debt</th>\n",
       "      <th>total_income</th>\n",
       "      <th>purpose</th>\n",
       "    </tr>\n",
       "  </thead>\n",
       "  <tbody>\n",
       "    <tr>\n",
       "      <th>0</th>\n",
       "      <td>1</td>\n",
       "      <td>42</td>\n",
       "      <td>0</td>\n",
       "      <td>0</td>\n",
       "      <td>F</td>\n",
       "      <td>сотрудник</td>\n",
       "      <td>0</td>\n",
       "      <td>253875</td>\n",
       "      <td>недвижимость</td>\n",
       "    </tr>\n",
       "    <tr>\n",
       "      <th>1</th>\n",
       "      <td>1</td>\n",
       "      <td>36</td>\n",
       "      <td>1</td>\n",
       "      <td>0</td>\n",
       "      <td>F</td>\n",
       "      <td>сотрудник</td>\n",
       "      <td>0</td>\n",
       "      <td>112080</td>\n",
       "      <td>автомобиль</td>\n",
       "    </tr>\n",
       "    <tr>\n",
       "      <th>2</th>\n",
       "      <td>0</td>\n",
       "      <td>33</td>\n",
       "      <td>1</td>\n",
       "      <td>0</td>\n",
       "      <td>M</td>\n",
       "      <td>сотрудник</td>\n",
       "      <td>0</td>\n",
       "      <td>145885</td>\n",
       "      <td>недвижимость</td>\n",
       "    </tr>\n",
       "    <tr>\n",
       "      <th>3</th>\n",
       "      <td>3</td>\n",
       "      <td>32</td>\n",
       "      <td>1</td>\n",
       "      <td>0</td>\n",
       "      <td>M</td>\n",
       "      <td>сотрудник</td>\n",
       "      <td>0</td>\n",
       "      <td>267628</td>\n",
       "      <td>образование</td>\n",
       "    </tr>\n",
       "    <tr>\n",
       "      <th>4</th>\n",
       "      <td>0</td>\n",
       "      <td>53</td>\n",
       "      <td>1</td>\n",
       "      <td>1</td>\n",
       "      <td>F</td>\n",
       "      <td>пенсионер</td>\n",
       "      <td>0</td>\n",
       "      <td>158616</td>\n",
       "      <td>свадьба</td>\n",
       "    </tr>\n",
       "  </tbody>\n",
       "</table>\n",
       "</div>"
      ],
      "text/plain": [
       "   children  dob_years  education_id  family_status_id gender income_type  \\\n",
       "0         1         42             0                 0      F   сотрудник   \n",
       "1         1         36             1                 0      F   сотрудник   \n",
       "2         0         33             1                 0      M   сотрудник   \n",
       "3         3         32             1                 0      M   сотрудник   \n",
       "4         0         53             1                 1      F   пенсионер   \n",
       "\n",
       "   debt  total_income       purpose  \n",
       "0     0        253875  недвижимость  \n",
       "1     0        112080    автомобиль  \n",
       "2     0        145885  недвижимость  \n",
       "3     0        267628   образование  \n",
       "4     0        158616       свадьба  "
      ]
     },
     "execution_count": 85,
     "metadata": {},
     "output_type": "execute_result"
    }
   ],
   "source": [
    "# Вывод на экран первых пяти строчек таблицы\n",
    "df.head()"
   ]
  },
  {
   "cell_type": "markdown",
   "metadata": {},
   "source": [
    "**Вывод**\n",
    "\n",
    "В таблице было очень много целей с одним и тем же смыслом. Используя лемматизацию, выделили четыре основные цели получения кредита."
   ]
  },
  {
   "cell_type": "markdown",
   "metadata": {},
   "source": [
    "### Категоризация данных"
   ]
  },
  {
   "cell_type": "markdown",
   "metadata": {},
   "source": [
    "#### Колонка с количеством детей\n",
    "\n",
    "В таблице представлены клиенты с разным количеством детей. Их можно объединить в категории для упрощения работы с данными. Каждого клиента можно отнести к одной из следующих категорий:\n",
    "1. бездетный -  присвоим такому клиенту категорию 0\n",
    "2. один ребенок - категорию 1\n",
    "3. два ребенка - категорию 2\n",
    "4. три и более детей - категорию 3.\n",
    "\n",
    "Так совпало, что для всех категорий, кроме последней, номер категории совпадает с количеством детей, однако стоит учитывать, что в категории представлены категориальные данные, а количество детей - данные числовые. "
   ]
  },
  {
   "cell_type": "code",
   "execution_count": 86,
   "metadata": {},
   "outputs": [
    {
     "data": {
      "text/html": [
       "<div>\n",
       "<style scoped>\n",
       "    .dataframe tbody tr th:only-of-type {\n",
       "        vertical-align: middle;\n",
       "    }\n",
       "\n",
       "    .dataframe tbody tr th {\n",
       "        vertical-align: top;\n",
       "    }\n",
       "\n",
       "    .dataframe thead th {\n",
       "        text-align: right;\n",
       "    }\n",
       "</style>\n",
       "<table border=\"1\" class=\"dataframe\">\n",
       "  <thead>\n",
       "    <tr style=\"text-align: right;\">\n",
       "      <th></th>\n",
       "      <th>children</th>\n",
       "      <th>dob_years</th>\n",
       "      <th>education_id</th>\n",
       "      <th>family_status_id</th>\n",
       "      <th>gender</th>\n",
       "      <th>income_type</th>\n",
       "      <th>debt</th>\n",
       "      <th>total_income</th>\n",
       "      <th>purpose</th>\n",
       "      <th>children_id</th>\n",
       "    </tr>\n",
       "  </thead>\n",
       "  <tbody>\n",
       "    <tr>\n",
       "      <th>0</th>\n",
       "      <td>1</td>\n",
       "      <td>42</td>\n",
       "      <td>0</td>\n",
       "      <td>0</td>\n",
       "      <td>F</td>\n",
       "      <td>сотрудник</td>\n",
       "      <td>0</td>\n",
       "      <td>253875</td>\n",
       "      <td>недвижимость</td>\n",
       "      <td>1</td>\n",
       "    </tr>\n",
       "    <tr>\n",
       "      <th>1</th>\n",
       "      <td>1</td>\n",
       "      <td>36</td>\n",
       "      <td>1</td>\n",
       "      <td>0</td>\n",
       "      <td>F</td>\n",
       "      <td>сотрудник</td>\n",
       "      <td>0</td>\n",
       "      <td>112080</td>\n",
       "      <td>автомобиль</td>\n",
       "      <td>1</td>\n",
       "    </tr>\n",
       "    <tr>\n",
       "      <th>2</th>\n",
       "      <td>0</td>\n",
       "      <td>33</td>\n",
       "      <td>1</td>\n",
       "      <td>0</td>\n",
       "      <td>M</td>\n",
       "      <td>сотрудник</td>\n",
       "      <td>0</td>\n",
       "      <td>145885</td>\n",
       "      <td>недвижимость</td>\n",
       "      <td>0</td>\n",
       "    </tr>\n",
       "    <tr>\n",
       "      <th>3</th>\n",
       "      <td>3</td>\n",
       "      <td>32</td>\n",
       "      <td>1</td>\n",
       "      <td>0</td>\n",
       "      <td>M</td>\n",
       "      <td>сотрудник</td>\n",
       "      <td>0</td>\n",
       "      <td>267628</td>\n",
       "      <td>образование</td>\n",
       "      <td>3</td>\n",
       "    </tr>\n",
       "    <tr>\n",
       "      <th>4</th>\n",
       "      <td>0</td>\n",
       "      <td>53</td>\n",
       "      <td>1</td>\n",
       "      <td>1</td>\n",
       "      <td>F</td>\n",
       "      <td>пенсионер</td>\n",
       "      <td>0</td>\n",
       "      <td>158616</td>\n",
       "      <td>свадьба</td>\n",
       "      <td>0</td>\n",
       "    </tr>\n",
       "  </tbody>\n",
       "</table>\n",
       "</div>"
      ],
      "text/plain": [
       "   children  dob_years  education_id  family_status_id gender income_type  \\\n",
       "0         1         42             0                 0      F   сотрудник   \n",
       "1         1         36             1                 0      F   сотрудник   \n",
       "2         0         33             1                 0      M   сотрудник   \n",
       "3         3         32             1                 0      M   сотрудник   \n",
       "4         0         53             1                 1      F   пенсионер   \n",
       "\n",
       "   debt  total_income       purpose  children_id  \n",
       "0     0        253875  недвижимость            1  \n",
       "1     0        112080    автомобиль            1  \n",
       "2     0        145885  недвижимость            0  \n",
       "3     0        267628   образование            3  \n",
       "4     0        158616       свадьба            0  "
      ]
     },
     "execution_count": 86,
     "metadata": {},
     "output_type": "execute_result"
    }
   ],
   "source": [
    "# функция, возвращающая категорию клиента в зависимости от количества детей\n",
    "def children_count(number): \n",
    "    if number > 2:\n",
    "        return 3\n",
    "    return number\n",
    "df['children_id'] = df['children'].apply(children_count)\n",
    "df.head()"
   ]
  },
  {
   "cell_type": "markdown",
   "metadata": {},
   "source": [
    "#### Колонка с ежемесячным заработком\n"
   ]
  },
  {
   "cell_type": "markdown",
   "metadata": {},
   "source": [
    "Категоризация по уровню дохода населения всегда была непростой задачей. Даже такое понятие, как [средний класс](https://journal.tinkoff.ru/middle-class/) до сих пор не имеет своей четкой формулировки. Поэтому чтобы оценить, как доходы влияют на выплаты, было решено разбить клиентов на пять категорий согласно ежемесячному доходу:\n",
    "1. Доход < 60 тысяч - категория 0\n",
    "2. Доход 60 - 100 тысяч - категория 1\n",
    "3. Доход 100 - 160 тысяч - категория 2\n",
    "4. Доход 160 - 200 тысяч - категория 3\n",
    "5. Доход > 200 тысяч - категория 4."
   ]
  },
  {
   "cell_type": "code",
   "execution_count": 87,
   "metadata": {},
   "outputs": [
    {
     "data": {
      "text/html": [
       "<div>\n",
       "<style scoped>\n",
       "    .dataframe tbody tr th:only-of-type {\n",
       "        vertical-align: middle;\n",
       "    }\n",
       "\n",
       "    .dataframe tbody tr th {\n",
       "        vertical-align: top;\n",
       "    }\n",
       "\n",
       "    .dataframe thead th {\n",
       "        text-align: right;\n",
       "    }\n",
       "</style>\n",
       "<table border=\"1\" class=\"dataframe\">\n",
       "  <thead>\n",
       "    <tr style=\"text-align: right;\">\n",
       "      <th></th>\n",
       "      <th>children</th>\n",
       "      <th>dob_years</th>\n",
       "      <th>education_id</th>\n",
       "      <th>family_status_id</th>\n",
       "      <th>gender</th>\n",
       "      <th>income_type</th>\n",
       "      <th>debt</th>\n",
       "      <th>total_income</th>\n",
       "      <th>purpose</th>\n",
       "      <th>children_id</th>\n",
       "      <th>income_id</th>\n",
       "    </tr>\n",
       "  </thead>\n",
       "  <tbody>\n",
       "    <tr>\n",
       "      <th>0</th>\n",
       "      <td>1</td>\n",
       "      <td>42</td>\n",
       "      <td>0</td>\n",
       "      <td>0</td>\n",
       "      <td>F</td>\n",
       "      <td>сотрудник</td>\n",
       "      <td>0</td>\n",
       "      <td>253875</td>\n",
       "      <td>недвижимость</td>\n",
       "      <td>1</td>\n",
       "      <td>4</td>\n",
       "    </tr>\n",
       "    <tr>\n",
       "      <th>1</th>\n",
       "      <td>1</td>\n",
       "      <td>36</td>\n",
       "      <td>1</td>\n",
       "      <td>0</td>\n",
       "      <td>F</td>\n",
       "      <td>сотрудник</td>\n",
       "      <td>0</td>\n",
       "      <td>112080</td>\n",
       "      <td>автомобиль</td>\n",
       "      <td>1</td>\n",
       "      <td>2</td>\n",
       "    </tr>\n",
       "    <tr>\n",
       "      <th>2</th>\n",
       "      <td>0</td>\n",
       "      <td>33</td>\n",
       "      <td>1</td>\n",
       "      <td>0</td>\n",
       "      <td>M</td>\n",
       "      <td>сотрудник</td>\n",
       "      <td>0</td>\n",
       "      <td>145885</td>\n",
       "      <td>недвижимость</td>\n",
       "      <td>0</td>\n",
       "      <td>2</td>\n",
       "    </tr>\n",
       "    <tr>\n",
       "      <th>3</th>\n",
       "      <td>3</td>\n",
       "      <td>32</td>\n",
       "      <td>1</td>\n",
       "      <td>0</td>\n",
       "      <td>M</td>\n",
       "      <td>сотрудник</td>\n",
       "      <td>0</td>\n",
       "      <td>267628</td>\n",
       "      <td>образование</td>\n",
       "      <td>3</td>\n",
       "      <td>4</td>\n",
       "    </tr>\n",
       "    <tr>\n",
       "      <th>4</th>\n",
       "      <td>0</td>\n",
       "      <td>53</td>\n",
       "      <td>1</td>\n",
       "      <td>1</td>\n",
       "      <td>F</td>\n",
       "      <td>пенсионер</td>\n",
       "      <td>0</td>\n",
       "      <td>158616</td>\n",
       "      <td>свадьба</td>\n",
       "      <td>0</td>\n",
       "      <td>2</td>\n",
       "    </tr>\n",
       "  </tbody>\n",
       "</table>\n",
       "</div>"
      ],
      "text/plain": [
       "   children  dob_years  education_id  family_status_id gender income_type  \\\n",
       "0         1         42             0                 0      F   сотрудник   \n",
       "1         1         36             1                 0      F   сотрудник   \n",
       "2         0         33             1                 0      M   сотрудник   \n",
       "3         3         32             1                 0      M   сотрудник   \n",
       "4         0         53             1                 1      F   пенсионер   \n",
       "\n",
       "   debt  total_income       purpose  children_id  income_id  \n",
       "0     0        253875  недвижимость            1          4  \n",
       "1     0        112080    автомобиль            1          2  \n",
       "2     0        145885  недвижимость            0          2  \n",
       "3     0        267628   образование            3          4  \n",
       "4     0        158616       свадьба            0          2  "
      ]
     },
     "execution_count": 87,
     "metadata": {},
     "output_type": "execute_result"
    }
   ],
   "source": [
    "# функция, возвращающая категорию клиента в зависимости от ежемесячного дохода\n",
    "def income_count(number): \n",
    "    if number <= 60000:\n",
    "        return 0\n",
    "    elif 60000 < number <= 100000:\n",
    "        return 1\n",
    "    elif 100000 < number <= 160000:\n",
    "        return 2\n",
    "    elif 160000 < number <= 200000:\n",
    "        return 3\n",
    "    return 4\n",
    "df['income_id'] = df['total_income'].apply(income_count)\n",
    "df.head()"
   ]
  },
  {
   "cell_type": "markdown",
   "metadata": {},
   "source": [
    "**Вывод**\n",
    "\n",
    "Была проведена категоризация по количеству детей. Исходя из того, что финансовые возможности и психология клиента может сильно различаться в зависимости от количества детей, было принято оставить \"типичну классификацию\", объединив в одну категорию только многодетных клиентов.\n",
    "\n",
    "Так же провели классификацию по ежемесячному доходу. Так как четких критериев для разбивки нет, было выбрано разделить клиентов на пять категорий.\n",
    "\n",
    "Ввиду того, что исходные колонки `children` и `total_income` имеют числовые значения, было принято решение не удалять их из основной таблицы, как было сделано с колонками `education` и `family_status`."
   ]
  },
  {
   "cell_type": "markdown",
   "metadata": {},
   "source": [
    "## Шаг 3. Ответьте на вопросы"
   ]
  },
  {
   "cell_type": "markdown",
   "metadata": {},
   "source": [
    "### Есть ли зависимость между наличием детей и возвратом кредита в срок?"
   ]
  },
  {
   "cell_type": "markdown",
   "metadata": {},
   "source": [
    "Подсчитаем долю должников от всех клиентов."
   ]
  },
  {
   "cell_type": "code",
   "execution_count": 88,
   "metadata": {},
   "outputs": [
    {
     "name": "stdout",
     "output_type": "stream",
     "text": [
      "Общая доля должников составляет 8.12%\n"
     ]
    }
   ],
   "source": [
    "# Общая доля должников\n",
    "total_debt = df.debt.mean()\n",
    "print('Общая доля должников составляет {:.2%}'.format(total_debt))"
   ]
  },
  {
   "cell_type": "markdown",
   "metadata": {},
   "source": [
    "Оценим долю должников в каждой категории клиентов в зависимости от количества детей."
   ]
  },
  {
   "cell_type": "code",
   "execution_count": 89,
   "metadata": {},
   "outputs": [
    {
     "data": {
      "text/html": [
       "<div>\n",
       "<style scoped>\n",
       "    .dataframe tbody tr th:only-of-type {\n",
       "        vertical-align: middle;\n",
       "    }\n",
       "\n",
       "    .dataframe tbody tr th {\n",
       "        vertical-align: top;\n",
       "    }\n",
       "\n",
       "    .dataframe thead th {\n",
       "        text-align: right;\n",
       "    }\n",
       "</style>\n",
       "<table border=\"1\" class=\"dataframe\">\n",
       "  <thead>\n",
       "    <tr style=\"text-align: right;\">\n",
       "      <th></th>\n",
       "      <th>debt</th>\n",
       "    </tr>\n",
       "    <tr>\n",
       "      <th>children_id</th>\n",
       "      <th></th>\n",
       "    </tr>\n",
       "  </thead>\n",
       "  <tbody>\n",
       "    <tr>\n",
       "      <th>0</th>\n",
       "      <td>7.54%</td>\n",
       "    </tr>\n",
       "    <tr>\n",
       "      <th>3</th>\n",
       "      <td>8.16%</td>\n",
       "    </tr>\n",
       "    <tr>\n",
       "      <th>1</th>\n",
       "      <td>9.17%</td>\n",
       "    </tr>\n",
       "    <tr>\n",
       "      <th>2</th>\n",
       "      <td>9.49%</td>\n",
       "    </tr>\n",
       "  </tbody>\n",
       "</table>\n",
       "</div>"
      ],
      "text/plain": [
       "             debt\n",
       "children_id      \n",
       "0           7.54%\n",
       "3           8.16%\n",
       "1           9.17%\n",
       "2           9.49%"
      ]
     },
     "metadata": {},
     "output_type": "display_data"
    }
   ],
   "source": [
    "final_df_children = pd.DataFrame(df.groupby('children_id')['debt'].mean())\n",
    "with pd.option_context('display.float_format','{:.2%}'.format):\n",
    "    display(final_df_children.sort_values(by='debt'))"
   ]
  },
  {
   "cell_type": "markdown",
   "metadata": {},
   "source": [
    "Отобразим данные значения на столбчатой диаграмме. Горизонтальной линией отобразим долю должников от всех клиентов."
   ]
  },
  {
   "cell_type": "code",
   "execution_count": 90,
   "metadata": {},
   "outputs": [
    {
     "data": {
      "image/png": "[encoded data removed]",
      "text/plain": [
       "<Figure size 720x288 with 1 Axes>"
      ]
     },
     "metadata": {
      "needs_background": "light"
     },
     "output_type": "display_data"
    }
   ],
   "source": [
    "# Столбчатая диаграмма по распределению должников\n",
    "rot = 0\n",
    "figsize = (10, 4)\n",
    "\n",
    "final_df_children.plot(kind='bar', rot=rot, figsize=figsize, title=\"Распределение должников в зависимости от количества детей\").set(\n",
    "    xlabel='категория клиентов по количеству детей', \n",
    "    ylabel=\"доля должников\")\n",
    "plt.axhline(y=total_debt, color='r', linestyle='-')\n",
    "plt.show()"
   ]
  },
  {
   "cell_type": "markdown",
   "metadata": {},
   "source": [
    "**Вывод**\n",
    "\n",
    "Сравнение клиентов с разным количеством детей показало, что:\n",
    "- **процент должников по кредиту выше всего в категории клиентов, имеющих два ребенка**: `9.49%` от всех клиентов с двумя детьми; \n",
    "- далее со значением в `9.17%` должников идут **клиенты с одним ребенком**;\n",
    "- **у многодетных клиентов** процент должников составил `8.16%`. \n",
    "\n",
    "\n",
    "- Исследование показывает, что **самыми ответственными клиентами являются бездетные**, их процент должников составил `7.54%`.\n"
   ]
  },
  {
   "cell_type": "markdown",
   "metadata": {},
   "source": [
    "### Есть ли зависимость между семейным положением и возвратом кредита в срок?"
   ]
  },
  {
   "cell_type": "markdown",
   "metadata": {},
   "source": [
    "По аналогии с выявлением зависимости между количеством детей и возвратом кредита в срок, подсчитаем количество должников в каждой категории клиентов."
   ]
  },
  {
   "cell_type": "code",
   "execution_count": 91,
   "metadata": {},
   "outputs": [
    {
     "data": {
      "text/html": [
       "<div>\n",
       "<style scoped>\n",
       "    .dataframe tbody tr th:only-of-type {\n",
       "        vertical-align: middle;\n",
       "    }\n",
       "\n",
       "    .dataframe tbody tr th {\n",
       "        vertical-align: top;\n",
       "    }\n",
       "\n",
       "    .dataframe thead th {\n",
       "        text-align: right;\n",
       "    }\n",
       "</style>\n",
       "<table border=\"1\" class=\"dataframe\">\n",
       "  <thead>\n",
       "    <tr style=\"text-align: right;\">\n",
       "      <th></th>\n",
       "      <th>debt</th>\n",
       "      <th>family_status</th>\n",
       "    </tr>\n",
       "  </thead>\n",
       "  <tbody>\n",
       "    <tr>\n",
       "      <th>2</th>\n",
       "      <td>6.57%</td>\n",
       "      <td>вдовец / вдова</td>\n",
       "    </tr>\n",
       "    <tr>\n",
       "      <th>3</th>\n",
       "      <td>7.11%</td>\n",
       "      <td>в разводе</td>\n",
       "    </tr>\n",
       "    <tr>\n",
       "      <th>0</th>\n",
       "      <td>7.55%</td>\n",
       "      <td>женат / замужем</td>\n",
       "    </tr>\n",
       "    <tr>\n",
       "      <th>1</th>\n",
       "      <td>9.35%</td>\n",
       "      <td>гражданский брак</td>\n",
       "    </tr>\n",
       "    <tr>\n",
       "      <th>4</th>\n",
       "      <td>9.75%</td>\n",
       "      <td>не женат / не замужем</td>\n",
       "    </tr>\n",
       "  </tbody>\n",
       "</table>\n",
       "</div>"
      ],
      "text/plain": [
       "   debt          family_status\n",
       "2 6.57%         вдовец / вдова\n",
       "3 7.11%              в разводе\n",
       "0 7.55%        женат / замужем\n",
       "1 9.35%       гражданский брак\n",
       "4 9.75%  не женат / не замужем"
      ]
     },
     "metadata": {},
     "output_type": "display_data"
    }
   ],
   "source": [
    "# Вывод данных в таблице по возрастанию процента должников\n",
    "final_df_family = pd.DataFrame(df.groupby('family_status_id')['debt'].mean())\n",
    "final_df_family = final_df_family.merge(df_family, on='family_status_id').drop(columns=['family_status_id'])\n",
    "with pd.option_context('display.float_format','{:.2%}'.format):\n",
    "    display(final_df_family.sort_values(by='debt'))"
   ]
  },
  {
   "cell_type": "markdown",
   "metadata": {},
   "source": [
    "Отобразим данные значения на столбчатой диаграмме. Горизонтальной линией отобразим долю должников от всех клиентов."
   ]
  },
  {
   "cell_type": "code",
   "execution_count": 92,
   "metadata": {},
   "outputs": [
    {
     "data": {
      "image/png": "[encoded data removed]",
      "text/plain": [
       "<Figure size 720x288 with 1 Axes>"
      ]
     },
     "metadata": {
      "needs_background": "light"
     },
     "output_type": "display_data"
    }
   ],
   "source": [
    "# Столбчатая диаграмма по распределению должников\n",
    "final_df_family.plot(kind='bar', rot=rot, figsize=figsize, x='family_status', title=\"Распределение должников в зависимости от семейного положения\").set(\n",
    "    xlabel='категория клиентов по семейному положению', \n",
    "    ylabel=\"доля должников\")\n",
    "plt.axhline(y=total_debt, color='r', linestyle='-')\n",
    "plt.show()"
   ]
  },
  {
   "cell_type": "markdown",
   "metadata": {},
   "source": [
    "**Вывод**\n",
    "\n",
    "**Наиболее безответственными** в плане выплата кредитов оказались клиенты, **не состоящие и не состоявшие в официальных отношениях**:\n",
    "- **максимальный процент должников** зафиксирован среди **не женатых и не замужних клиентов** - `9.75%`;\n",
    "- чуть меньший процент должников у клиентов, **живущих в гражданском браке** - `9.35%`.\n",
    "\n",
    "Клиенты, находящиеся или находившиеся ранее **в официальных отношениях** оказались **более ответственны**:\n",
    "- **женатые и замужние** клиенты оказались должниками в `7.55%` случаев;\n",
    "- клиенты, находящиеся в разводе - в `7.11%` случаев;\n",
    "\n",
    "\n",
    "- **самыми ответственными клиентами** являются те, кто потерял своего партнера: **среди вдовцов и вдов самый низкий процент должников**, он составляет `6.57%`."
   ]
  },
  {
   "cell_type": "markdown",
   "metadata": {},
   "source": [
    "### Есть ли зависимость между уровнем дохода и возвратом кредита в срок?"
   ]
  },
  {
   "cell_type": "markdown",
   "metadata": {},
   "source": [
    "По аналогии с выявлением зависимости между количеством детей и возвратом кредита в срок, подсчитаем количество должников в каждой категории клиентов."
   ]
  },
  {
   "cell_type": "code",
   "execution_count": 93,
   "metadata": {},
   "outputs": [
    {
     "data": {
      "text/plain": [
       "income_id\n",
       "0   6.08%\n",
       "4   7.07%\n",
       "1   8.34%\n",
       "3   8.49%\n",
       "2   8.69%\n",
       "Name: debt, dtype: float64"
      ]
     },
     "metadata": {},
     "output_type": "display_data"
    }
   ],
   "source": [
    "# Вывод данных в таблице по возрастанию процента должников\n",
    "final_df_income = df.groupby(by='income_id')['debt'].mean()\n",
    "with pd.option_context('display.float_format','{:.2%}'.format):\n",
    "    display(final_df_income.sort_values())"
   ]
  },
  {
   "cell_type": "code",
   "execution_count": 94,
   "metadata": {},
   "outputs": [
    {
     "data": {
      "image/png": "[encoded data removed]",
      "text/plain": [
       "<Figure size 720x288 with 1 Axes>"
      ]
     },
     "metadata": {
      "needs_background": "light"
     },
     "output_type": "display_data"
    }
   ],
   "source": [
    "# Столбчатая диаграмма по распределению должников\n",
    "final_df_income.plot(kind='bar', rot=45, figsize=figsize, title=\"Распределение должников в зависимости от уровня дохода\").set(\n",
    "    xlabel='категория клиентов по уровню дохода', \n",
    "    ylabel=\"доля должников\")\n",
    "income_category_list = ['доход < 60 тысяч', \n",
    "                        'доход 60 - 100 тысяч', \n",
    "                        'доход 100 - 160 тысяч', \n",
    "                        'доход 160 - 200 тысяч',\n",
    "                        'доход > 200 тысяч']\n",
    "plt.xticks([0, 1, 2, 3, 4], income_category_list)\n",
    "\n",
    "plt.axhline(y=total_debt, color='r', linestyle='-')\n",
    "plt.show()"
   ]
  },
  {
   "cell_type": "markdown",
   "metadata": {},
   "source": [
    "**Вывод**\n",
    "\n",
    "- В целом клиенты с уровнем дохода от 60 до 200 тысяч показали себя не очень ответственными в плане выплаты кредита.\n",
    "- **Наибольшее количество должников** наблюдается среди клиентов, зарабатывающих **100-160 тысяч** - `8.69%`.\n",
    "- **Самыми ответственными** оказались клиенты с доходом **ниже 60 тысяч** - `6.08%`."
   ]
  },
  {
   "cell_type": "markdown",
   "metadata": {},
   "source": [
    "### Как разные цели кредита влияют на его возврат в срок?"
   ]
  },
  {
   "cell_type": "markdown",
   "metadata": {},
   "source": [
    "По аналогии с выявлением зависимости между количеством детей и возвратом кредита в срок, подсчитаем количество должников в каждой категории клиентов."
   ]
  },
  {
   "cell_type": "code",
   "execution_count": 95,
   "metadata": {},
   "outputs": [
    {
     "data": {
      "text/plain": [
       "purpose\n",
       "недвижимость   7.23%\n",
       "свадьба        8.00%\n",
       "образование    9.22%\n",
       "автомобиль     9.36%\n",
       "Name: debt, dtype: float64"
      ]
     },
     "metadata": {},
     "output_type": "display_data"
    }
   ],
   "source": [
    "# Вывод данных в таблице по возрастанию процента должников\n",
    "final_df_purpose = df.groupby('purpose')['debt'].mean()\n",
    "with pd.option_context('display.float_format','{:.2%}'.format):\n",
    "    display(final_df_purpose.sort_values())"
   ]
  },
  {
   "cell_type": "code",
   "execution_count": 96,
   "metadata": {},
   "outputs": [
    {
     "data": {
      "image/png": "[encoded data removed]",
      "text/plain": [
       "<Figure size 720x288 with 1 Axes>"
      ]
     },
     "metadata": {
      "needs_background": "light"
     },
     "output_type": "display_data"
    }
   ],
   "source": [
    "# Столбчатая диаграмма по распределению должников\n",
    "final_df_purpose.plot(kind='bar', rot=rot, figsize=figsize, title=\"Распределение должников в зависимости от цели кредита\").set(\n",
    "    xlabel='категория клиентов по цели кредита', \n",
    "    ylabel=\"доля должников\")\n",
    "plt.axhline(y=total_debt, color='r', linestyle='-')\n",
    "plt.show()"
   ]
  },
  {
   "cell_type": "markdown",
   "metadata": {},
   "source": [
    "**Вывод**"
   ]
  },
  {
   "cell_type": "markdown",
   "metadata": {},
   "source": [
    "- Клиентами с **самым высоким процентом должников** в категории оказались те, кто брал кредит на **автомобиль** - `9.36%`.\n",
    "- Далее следуют клиенты, желающие получить **образование** - `9.22%`.\n",
    "- Среди тех, кто брал кредит на **свадьбу**, задолженность по кредиту имели `8.00%` клиентов.\n",
    "- **Самыми ответственными клиентами** являются те, кто брал кредит на операции с **недвижимостью** - всего `7.23%`."
   ]
  },
  {
   "cell_type": "markdown",
   "metadata": {},
   "source": [
    "## Шаг 4. Общий вывод"
   ]
  },
  {
   "cell_type": "markdown",
   "metadata": {},
   "source": [
    "В результате исследования были выявлены **более перспективные категории клиентов с точки зрения возврата кредита**:\n",
    "- бездетные и многодетные; \n",
    "- вдовцы и вдовы, в разводе или женатые / замужние; \n",
    "- с доходом ниже 60 тысяч или выше 200 тысяч;\n",
    "- взявшие кредит на недвижимость или свадьбу.\n",
    "\n",
    "**Самые опасные клиенты**, среди которых процент должников выше всего:\n",
    "- клиенты с одним или двумя детьми;\n",
    "- не женатые / не замужние, либо живущие в гражданском браке;\n",
    "- с доходом 60-200 тысяч;\n",
    "- взявшие кредит на автомобиль или образование.\n"
   ]
  }
 ],
 "metadata": {
  "ExecuteTimeLog": [
   {
    "duration": 576,
    "start_time": "2021-11-19T20:16:31.988Z"
   },
   {
    "duration": 68,
    "start_time": "2021-11-19T20:17:22.380Z"
   },
   {
    "duration": 47,
    "start_time": "2021-11-19T20:17:44.066Z"
   },
   {
    "duration": 590,
    "start_time": "2021-11-19T20:28:19.731Z"
   },
   {
    "duration": 51,
    "start_time": "2021-11-19T20:28:20.323Z"
   },
   {
    "duration": 18,
    "start_time": "2021-11-19T20:28:20.376Z"
   },
   {
    "duration": 10,
    "start_time": "2021-11-19T20:28:53.668Z"
   },
   {
    "duration": 15,
    "start_time": "2021-11-19T20:38:23.384Z"
   },
   {
    "duration": 16,
    "start_time": "2021-11-19T20:39:02.975Z"
   },
   {
    "duration": 20,
    "start_time": "2021-11-19T20:39:56.320Z"
   },
   {
    "duration": 4,
    "start_time": "2021-11-19T20:44:50.689Z"
   },
   {
    "duration": 5,
    "start_time": "2021-11-19T20:44:58.768Z"
   },
   {
    "duration": 557,
    "start_time": "2021-11-20T21:08:56.200Z"
   },
   {
    "duration": 766,
    "start_time": "2021-11-20T21:09:12.466Z"
   },
   {
    "duration": 65,
    "start_time": "2021-11-20T21:09:13.234Z"
   },
   {
    "duration": 29,
    "start_time": "2021-11-20T21:09:13.302Z"
   },
   {
    "duration": 30,
    "start_time": "2021-11-20T21:09:13.334Z"
   },
   {
    "duration": 6,
    "start_time": "2021-11-20T21:09:13.367Z"
   },
   {
    "duration": 18,
    "start_time": "2021-11-20T21:10:45.848Z"
   },
   {
    "duration": 461,
    "start_time": "2021-11-20T22:18:04.452Z"
   },
   {
    "duration": 5,
    "start_time": "2021-11-20T22:18:12.515Z"
   },
   {
    "duration": 29,
    "start_time": "2021-11-20T22:18:43.533Z"
   },
   {
    "duration": 13,
    "start_time": "2021-11-20T22:18:48.797Z"
   },
   {
    "duration": 14,
    "start_time": "2021-11-20T22:19:49.685Z"
   },
   {
    "duration": 11,
    "start_time": "2021-11-20T22:35:07.643Z"
   },
   {
    "duration": 9,
    "start_time": "2021-11-20T22:35:10.409Z"
   },
   {
    "duration": 19,
    "start_time": "2021-11-20T22:36:00.232Z"
   },
   {
    "duration": -818,
    "start_time": "2021-11-20T22:40:54.517Z"
   },
   {
    "duration": 24,
    "start_time": "2021-11-20T22:41:00.633Z"
   },
   {
    "duration": 37,
    "start_time": "2021-11-20T22:44:39.468Z"
   },
   {
    "duration": 15,
    "start_time": "2021-11-20T22:47:45.516Z"
   },
   {
    "duration": 11,
    "start_time": "2021-11-20T22:48:33.532Z"
   },
   {
    "duration": 460,
    "start_time": "2021-11-20T23:20:23.360Z"
   },
   {
    "duration": 14,
    "start_time": "2021-11-20T23:20:36.847Z"
   },
   {
    "duration": 772,
    "start_time": "2021-11-21T17:27:00.850Z"
   },
   {
    "duration": 64,
    "start_time": "2021-11-21T17:27:01.625Z"
   },
   {
    "duration": 30,
    "start_time": "2021-11-21T17:27:01.692Z"
   },
   {
    "duration": 16,
    "start_time": "2021-11-21T17:27:01.724Z"
   },
   {
    "duration": 33,
    "start_time": "2021-11-21T17:27:01.742Z"
   },
   {
    "duration": 17,
    "start_time": "2021-11-21T17:27:01.778Z"
   },
   {
    "duration": 21,
    "start_time": "2021-11-21T17:27:01.798Z"
   },
   {
    "duration": 52,
    "start_time": "2021-11-21T17:27:01.822Z"
   },
   {
    "duration": 10,
    "start_time": "2021-11-21T17:27:01.878Z"
   },
   {
    "duration": 24,
    "start_time": "2021-11-21T17:27:01.891Z"
   },
   {
    "duration": 33,
    "start_time": "2021-11-21T17:28:29.517Z"
   },
   {
    "duration": 36,
    "start_time": "2021-11-21T17:29:13.797Z"
   },
   {
    "duration": 360,
    "start_time": "2021-11-21T17:55:47.228Z"
   },
   {
    "duration": 268,
    "start_time": "2021-11-21T17:56:02.390Z"
   },
   {
    "duration": 13,
    "start_time": "2021-11-21T17:56:32.340Z"
   },
   {
    "duration": 715,
    "start_time": "2021-11-21T17:57:18.898Z"
   },
   {
    "duration": 65,
    "start_time": "2021-11-21T17:57:19.616Z"
   },
   {
    "duration": 30,
    "start_time": "2021-11-21T17:57:19.684Z"
   },
   {
    "duration": 15,
    "start_time": "2021-11-21T17:57:19.717Z"
   },
   {
    "duration": 40,
    "start_time": "2021-11-21T17:57:19.734Z"
   },
   {
    "duration": 26,
    "start_time": "2021-11-21T17:57:19.779Z"
   },
   {
    "duration": 13,
    "start_time": "2021-11-21T17:57:19.808Z"
   },
   {
    "duration": 59,
    "start_time": "2021-11-21T17:57:19.824Z"
   },
   {
    "duration": 32,
    "start_time": "2021-11-21T17:57:19.887Z"
   },
   {
    "duration": 11,
    "start_time": "2021-11-21T17:57:19.922Z"
   },
   {
    "duration": 38,
    "start_time": "2021-11-21T17:57:19.935Z"
   },
   {
    "duration": 14,
    "start_time": "2021-11-21T18:10:15.697Z"
   },
   {
    "duration": 13,
    "start_time": "2021-11-21T18:10:23.209Z"
   },
   {
    "duration": 806,
    "start_time": "2021-11-21T18:10:47.920Z"
   },
   {
    "duration": 62,
    "start_time": "2021-11-21T18:10:48.729Z"
   },
   {
    "duration": 29,
    "start_time": "2021-11-21T18:10:48.794Z"
   },
   {
    "duration": 16,
    "start_time": "2021-11-21T18:10:48.826Z"
   },
   {
    "duration": 13,
    "start_time": "2021-11-21T18:10:48.868Z"
   },
   {
    "duration": 37,
    "start_time": "2021-11-21T18:10:48.883Z"
   },
   {
    "duration": 12,
    "start_time": "2021-11-21T18:10:48.922Z"
   },
   {
    "duration": 24,
    "start_time": "2021-11-21T18:10:48.968Z"
   },
   {
    "duration": 23,
    "start_time": "2021-11-21T18:10:48.994Z"
   },
   {
    "duration": 17,
    "start_time": "2021-11-21T18:10:49.020Z"
   },
   {
    "duration": 39,
    "start_time": "2021-11-21T18:10:49.040Z"
   },
   {
    "duration": 15,
    "start_time": "2021-11-21T18:11:33.350Z"
   },
   {
    "duration": 745,
    "start_time": "2021-11-21T18:12:11.680Z"
   },
   {
    "duration": 65,
    "start_time": "2021-11-21T18:12:12.427Z"
   },
   {
    "duration": 29,
    "start_time": "2021-11-21T18:12:12.495Z"
   },
   {
    "duration": 16,
    "start_time": "2021-11-21T18:12:12.527Z"
   },
   {
    "duration": 34,
    "start_time": "2021-11-21T18:12:12.545Z"
   },
   {
    "duration": 23,
    "start_time": "2021-11-21T18:12:12.581Z"
   },
   {
    "duration": 11,
    "start_time": "2021-11-21T18:12:12.606Z"
   },
   {
    "duration": 54,
    "start_time": "2021-11-21T18:12:12.621Z"
   },
   {
    "duration": 23,
    "start_time": "2021-11-21T18:12:12.678Z"
   },
   {
    "duration": 9,
    "start_time": "2021-11-21T18:12:12.704Z"
   },
   {
    "duration": 50,
    "start_time": "2021-11-21T18:12:12.716Z"
   },
   {
    "duration": 36,
    "start_time": "2021-11-21T18:12:46.913Z"
   },
   {
    "duration": 770,
    "start_time": "2021-11-21T18:14:38.124Z"
   },
   {
    "duration": 69,
    "start_time": "2021-11-21T18:14:38.897Z"
   },
   {
    "duration": 30,
    "start_time": "2021-11-21T18:14:38.968Z"
   },
   {
    "duration": 18,
    "start_time": "2021-11-21T18:14:39.001Z"
   },
   {
    "duration": 12,
    "start_time": "2021-11-21T18:14:39.022Z"
   },
   {
    "duration": 47,
    "start_time": "2021-11-21T18:14:39.036Z"
   },
   {
    "duration": 47,
    "start_time": "2021-11-21T18:14:39.085Z"
   },
   {
    "duration": 40,
    "start_time": "2021-11-21T18:14:39.136Z"
   },
   {
    "duration": 10,
    "start_time": "2021-11-21T18:17:33.355Z"
   },
   {
    "duration": 22,
    "start_time": "2021-11-21T18:21:06.543Z"
   },
   {
    "duration": 47,
    "start_time": "2021-11-21T18:21:18.437Z"
   },
   {
    "duration": 12,
    "start_time": "2021-11-21T18:21:26.702Z"
   },
   {
    "duration": 15,
    "start_time": "2021-11-21T18:29:44.215Z"
   },
   {
    "duration": 59,
    "start_time": "2021-11-21T18:35:38.234Z"
   },
   {
    "duration": 25,
    "start_time": "2021-11-21T18:45:28.643Z"
   },
   {
    "duration": 949,
    "start_time": "2021-11-21T18:48:11.132Z"
   },
   {
    "duration": 67,
    "start_time": "2021-11-21T18:48:12.084Z"
   },
   {
    "duration": 34,
    "start_time": "2021-11-21T18:48:12.154Z"
   },
   {
    "duration": 16,
    "start_time": "2021-11-21T18:48:12.190Z"
   },
   {
    "duration": 13,
    "start_time": "2021-11-21T18:48:12.208Z"
   },
   {
    "duration": 60,
    "start_time": "2021-11-21T18:48:12.223Z"
   },
   {
    "duration": 10,
    "start_time": "2021-11-21T18:48:12.286Z"
   },
   {
    "duration": 26,
    "start_time": "2021-11-21T18:48:12.298Z"
   },
   {
    "duration": 391,
    "start_time": "2021-11-21T18:48:12.327Z"
   },
   {
    "duration": -98,
    "start_time": "2021-11-21T18:48:12.818Z"
   },
   {
    "duration": 21,
    "start_time": "2021-11-21T18:49:01.689Z"
   },
   {
    "duration": 7,
    "start_time": "2021-11-21T18:50:42.990Z"
   },
   {
    "duration": 8,
    "start_time": "2021-11-21T18:51:09.218Z"
   },
   {
    "duration": 7,
    "start_time": "2021-11-21T20:20:15.975Z"
   },
   {
    "duration": 9,
    "start_time": "2021-11-21T20:56:22.646Z"
   },
   {
    "duration": 6,
    "start_time": "2021-11-21T21:08:10.046Z"
   },
   {
    "duration": 4,
    "start_time": "2021-11-21T21:08:26.608Z"
   },
   {
    "duration": 8,
    "start_time": "2021-11-21T21:08:40.461Z"
   },
   {
    "duration": 6,
    "start_time": "2021-11-21T21:08:58.149Z"
   },
   {
    "duration": 47,
    "start_time": "2021-11-21T21:13:09.439Z"
   },
   {
    "duration": 19,
    "start_time": "2021-11-21T21:13:26.090Z"
   },
   {
    "duration": 45,
    "start_time": "2021-11-21T21:14:08.360Z"
   },
   {
    "duration": 21,
    "start_time": "2021-11-21T22:44:01.885Z"
   },
   {
    "duration": 10,
    "start_time": "2021-11-21T22:45:59.254Z"
   },
   {
    "duration": 8,
    "start_time": "2021-11-21T22:46:35.374Z"
   },
   {
    "duration": 37,
    "start_time": "2021-11-21T22:50:09.857Z"
   },
   {
    "duration": 34,
    "start_time": "2021-11-21T22:50:31.071Z"
   },
   {
    "duration": 36,
    "start_time": "2021-11-21T22:51:02.112Z"
   },
   {
    "duration": 7,
    "start_time": "2021-11-21T22:52:47.759Z"
   },
   {
    "duration": 36,
    "start_time": "2021-11-21T22:52:56.062Z"
   },
   {
    "duration": 279,
    "start_time": "2021-11-21T22:53:25.472Z"
   },
   {
    "duration": 12,
    "start_time": "2021-11-21T22:53:46.689Z"
   },
   {
    "duration": 267,
    "start_time": "2021-11-21T22:54:09.695Z"
   },
   {
    "duration": 12,
    "start_time": "2021-11-21T22:54:21.023Z"
   },
   {
    "duration": 13,
    "start_time": "2021-11-21T22:54:32.937Z"
   },
   {
    "duration": 12,
    "start_time": "2021-11-21T22:54:48.776Z"
   },
   {
    "duration": 13,
    "start_time": "2021-11-21T22:55:05.631Z"
   },
   {
    "duration": 22,
    "start_time": "2021-11-21T22:57:54.499Z"
   },
   {
    "duration": 8,
    "start_time": "2021-11-21T22:59:41.881Z"
   },
   {
    "duration": 10,
    "start_time": "2021-11-21T23:07:04.980Z"
   },
   {
    "duration": 270,
    "start_time": "2021-11-21T23:07:36.853Z"
   },
   {
    "duration": 8,
    "start_time": "2021-11-21T23:07:47.428Z"
   },
   {
    "duration": 10,
    "start_time": "2021-11-21T23:08:43.213Z"
   },
   {
    "duration": 36,
    "start_time": "2021-11-21T23:10:37.941Z"
   },
   {
    "duration": 104,
    "start_time": "2021-11-21T23:11:01.687Z"
   },
   {
    "duration": 266,
    "start_time": "2021-11-21T23:11:06.219Z"
   },
   {
    "duration": 94,
    "start_time": "2021-11-21T23:11:17.836Z"
   },
   {
    "duration": 262,
    "start_time": "2021-11-21T23:11:20.107Z"
   },
   {
    "duration": 98,
    "start_time": "2021-11-21T23:11:47.070Z"
   },
   {
    "duration": 37,
    "start_time": "2021-11-21T23:11:52.419Z"
   },
   {
    "duration": 298,
    "start_time": "2021-11-21T23:11:58.828Z"
   },
   {
    "duration": 6,
    "start_time": "2021-11-21T23:13:04.548Z"
   },
   {
    "duration": 7,
    "start_time": "2021-11-21T23:13:34.045Z"
   },
   {
    "duration": 7,
    "start_time": "2021-11-21T23:13:47.756Z"
   },
   {
    "duration": 7,
    "start_time": "2021-11-21T23:14:01.927Z"
   },
   {
    "duration": 6,
    "start_time": "2021-11-21T23:14:14.124Z"
   },
   {
    "duration": 6,
    "start_time": "2021-11-21T23:14:33.086Z"
   },
   {
    "duration": 8,
    "start_time": "2021-11-21T23:14:41.093Z"
   },
   {
    "duration": 8,
    "start_time": "2021-11-21T23:14:55.358Z"
   },
   {
    "duration": 6,
    "start_time": "2021-11-21T23:15:05.045Z"
   },
   {
    "duration": 8,
    "start_time": "2021-11-21T23:15:15.484Z"
   },
   {
    "duration": 36,
    "start_time": "2021-11-21T23:15:23.268Z"
   },
   {
    "duration": 8,
    "start_time": "2021-11-21T23:15:47.984Z"
   },
   {
    "duration": 7,
    "start_time": "2021-11-21T23:19:27.429Z"
   },
   {
    "duration": 761,
    "start_time": "2021-11-21T23:19:37.553Z"
   },
   {
    "duration": 65,
    "start_time": "2021-11-21T23:19:38.317Z"
   },
   {
    "duration": 29,
    "start_time": "2021-11-21T23:19:38.385Z"
   },
   {
    "duration": 17,
    "start_time": "2021-11-21T23:19:38.416Z"
   },
   {
    "duration": 33,
    "start_time": "2021-11-21T23:19:38.435Z"
   },
   {
    "duration": 8,
    "start_time": "2021-11-21T23:19:38.471Z"
   },
   {
    "duration": 13,
    "start_time": "2021-11-21T23:19:38.481Z"
   },
   {
    "duration": 22,
    "start_time": "2021-11-21T23:19:38.498Z"
   },
   {
    "duration": 50,
    "start_time": "2021-11-21T23:19:38.523Z"
   },
   {
    "duration": 6,
    "start_time": "2021-11-21T23:19:38.575Z"
   },
   {
    "duration": 12,
    "start_time": "2021-11-21T23:19:38.584Z"
   },
   {
    "duration": 8,
    "start_time": "2021-11-21T23:19:38.598Z"
   },
   {
    "duration": 351,
    "start_time": "2021-11-21T23:19:38.608Z"
   },
   {
    "duration": -208,
    "start_time": "2021-11-21T23:19:39.170Z"
   },
   {
    "duration": -212,
    "start_time": "2021-11-21T23:19:39.175Z"
   },
   {
    "duration": -223,
    "start_time": "2021-11-21T23:19:39.188Z"
   },
   {
    "duration": -225,
    "start_time": "2021-11-21T23:19:39.191Z"
   },
   {
    "duration": 8,
    "start_time": "2021-11-21T23:26:08.219Z"
   },
   {
    "duration": 8,
    "start_time": "2021-11-21T23:26:23.458Z"
   },
   {
    "duration": 285,
    "start_time": "2021-11-21T23:26:57.477Z"
   },
   {
    "duration": 277,
    "start_time": "2021-11-21T23:27:08.651Z"
   },
   {
    "duration": 7,
    "start_time": "2021-11-21T23:27:28.012Z"
   },
   {
    "duration": 7,
    "start_time": "2021-11-21T23:27:34.714Z"
   },
   {
    "duration": 7,
    "start_time": "2021-11-21T23:27:46.012Z"
   },
   {
    "duration": 285,
    "start_time": "2021-11-21T23:28:05.212Z"
   },
   {
    "duration": 7,
    "start_time": "2021-11-21T23:28:12.315Z"
   },
   {
    "duration": 11,
    "start_time": "2021-11-21T23:28:24.059Z"
   },
   {
    "duration": 12,
    "start_time": "2021-11-21T23:29:12.063Z"
   },
   {
    "duration": -326,
    "start_time": "2021-11-21T23:41:25.345Z"
   },
   {
    "duration": 6,
    "start_time": "2021-11-21T23:41:41.961Z"
   },
   {
    "duration": 8053,
    "start_time": "2021-11-21T23:41:56.224Z"
   },
   {
    "duration": 1796,
    "start_time": "2021-11-21T23:42:33.075Z"
   },
   {
    "duration": 276,
    "start_time": "2021-11-21T23:42:45.431Z"
   },
   {
    "duration": 6509,
    "start_time": "2021-11-21T23:43:30.585Z"
   },
   {
    "duration": 6921,
    "start_time": "2021-11-21T23:44:09.234Z"
   },
   {
    "duration": 13,
    "start_time": "2021-11-21T23:45:42.521Z"
   },
   {
    "duration": 13,
    "start_time": "2021-11-21T23:46:20.330Z"
   },
   {
    "duration": 18,
    "start_time": "2021-11-21T23:46:44.199Z"
   },
   {
    "duration": 37,
    "start_time": "2021-11-21T23:48:28.609Z"
   },
   {
    "duration": 36,
    "start_time": "2021-11-22T00:07:10.227Z"
   },
   {
    "duration": 12,
    "start_time": "2021-11-22T00:07:16.472Z"
   },
   {
    "duration": 18,
    "start_time": "2021-11-22T00:07:22.638Z"
   },
   {
    "duration": 6,
    "start_time": "2021-11-22T00:09:29.911Z"
   },
   {
    "duration": 6,
    "start_time": "2021-11-22T00:10:24.080Z"
   },
   {
    "duration": 276,
    "start_time": "2021-11-22T00:10:43.466Z"
   },
   {
    "duration": 286,
    "start_time": "2021-11-22T00:10:54.944Z"
   },
   {
    "duration": 268,
    "start_time": "2021-11-22T00:11:02.960Z"
   },
   {
    "duration": 11,
    "start_time": "2021-11-22T00:11:48.505Z"
   },
   {
    "duration": 6,
    "start_time": "2021-11-22T11:58:12.011Z"
   },
   {
    "duration": 790,
    "start_time": "2021-11-22T11:58:32.440Z"
   },
   {
    "duration": 62,
    "start_time": "2021-11-22T11:58:33.232Z"
   },
   {
    "duration": 28,
    "start_time": "2021-11-22T11:58:33.297Z"
   },
   {
    "duration": 15,
    "start_time": "2021-11-22T11:58:33.327Z"
   },
   {
    "duration": 28,
    "start_time": "2021-11-22T11:58:33.344Z"
   },
   {
    "duration": 16,
    "start_time": "2021-11-22T11:58:33.375Z"
   },
   {
    "duration": 10,
    "start_time": "2021-11-22T11:58:33.393Z"
   },
   {
    "duration": 9,
    "start_time": "2021-11-22T11:58:33.407Z"
   },
   {
    "duration": 59,
    "start_time": "2021-11-22T11:58:33.419Z"
   },
   {
    "duration": 45,
    "start_time": "2021-11-22T11:58:33.480Z"
   },
   {
    "duration": 13,
    "start_time": "2021-11-22T11:58:33.527Z"
   },
   {
    "duration": 26,
    "start_time": "2021-11-22T11:58:33.543Z"
   },
   {
    "duration": 15,
    "start_time": "2021-11-22T11:58:33.572Z"
   },
   {
    "duration": 12,
    "start_time": "2021-11-22T11:58:33.589Z"
   },
   {
    "duration": 353,
    "start_time": "2021-11-22T11:58:33.604Z"
   },
   {
    "duration": -987,
    "start_time": "2021-11-22T11:58:34.946Z"
   },
   {
    "duration": -988,
    "start_time": "2021-11-22T11:58:34.949Z"
   },
   {
    "duration": -1033,
    "start_time": "2021-11-22T11:58:34.995Z"
   },
   {
    "duration": -1036,
    "start_time": "2021-11-22T11:58:34.999Z"
   },
   {
    "duration": 10,
    "start_time": "2021-11-22T12:00:38.432Z"
   },
   {
    "duration": 7,
    "start_time": "2021-11-22T12:00:54.825Z"
   },
   {
    "duration": 7899,
    "start_time": "2021-11-22T12:02:17.650Z"
   },
   {
    "duration": 16,
    "start_time": "2021-11-22T12:02:51.594Z"
   },
   {
    "duration": 9,
    "start_time": "2021-11-22T12:03:10.964Z"
   },
   {
    "duration": 9,
    "start_time": "2021-11-22T12:05:29.275Z"
   },
   {
    "duration": 94,
    "start_time": "2021-11-22T12:05:45.424Z"
   },
   {
    "duration": 8,
    "start_time": "2021-11-22T12:05:52.211Z"
   },
   {
    "duration": 7,
    "start_time": "2021-11-22T12:06:46.369Z"
   },
   {
    "duration": 8,
    "start_time": "2021-11-22T12:07:42.865Z"
   },
   {
    "duration": 6,
    "start_time": "2021-11-22T12:08:02.211Z"
   },
   {
    "duration": 9,
    "start_time": "2021-11-22T12:09:19.002Z"
   },
   {
    "duration": 10,
    "start_time": "2021-11-22T12:09:27.651Z"
   },
   {
    "duration": 94,
    "start_time": "2021-11-22T12:12:39.767Z"
   },
   {
    "duration": 103,
    "start_time": "2021-11-22T12:13:04.012Z"
   },
   {
    "duration": 91,
    "start_time": "2021-11-22T12:13:23.955Z"
   },
   {
    "duration": 550,
    "start_time": "2021-11-22T12:14:17.722Z"
   },
   {
    "duration": 306,
    "start_time": "2021-11-22T12:14:54.837Z"
   },
   {
    "duration": 80,
    "start_time": "2021-11-22T12:15:02.731Z"
   },
   {
    "duration": 9,
    "start_time": "2021-11-22T12:15:13.543Z"
   },
   {
    "duration": 10,
    "start_time": "2021-11-22T12:15:27.733Z"
   },
   {
    "duration": 5,
    "start_time": "2021-11-22T12:16:05.141Z"
   },
   {
    "duration": 9,
    "start_time": "2021-11-22T12:16:26.613Z"
   },
   {
    "duration": 166,
    "start_time": "2021-11-22T12:17:09.396Z"
   },
   {
    "duration": 83,
    "start_time": "2021-11-22T12:17:37.101Z"
   },
   {
    "duration": 10,
    "start_time": "2021-11-22T12:33:28.602Z"
   },
   {
    "duration": 8,
    "start_time": "2021-11-22T12:43:00.035Z"
   },
   {
    "duration": 8,
    "start_time": "2021-11-22T12:45:00.826Z"
   },
   {
    "duration": 9,
    "start_time": "2021-11-22T12:46:59.644Z"
   },
   {
    "duration": 12,
    "start_time": "2021-11-22T12:47:39.102Z"
   },
   {
    "duration": 15,
    "start_time": "2021-11-22T12:52:30.231Z"
   },
   {
    "duration": 17,
    "start_time": "2021-11-22T12:55:58.400Z"
   },
   {
    "duration": 11,
    "start_time": "2021-11-22T12:56:07.567Z"
   },
   {
    "duration": 22,
    "start_time": "2021-11-22T12:56:21.985Z"
   },
   {
    "duration": 283,
    "start_time": "2021-11-22T12:57:07.640Z"
   },
   {
    "duration": 394,
    "start_time": "2021-11-22T12:57:15.176Z"
   },
   {
    "duration": 263,
    "start_time": "2021-11-22T12:58:10.215Z"
   },
   {
    "duration": 24,
    "start_time": "2021-11-22T12:58:18.016Z"
   },
   {
    "duration": 25,
    "start_time": "2021-11-22T12:58:38.865Z"
   },
   {
    "duration": 30,
    "start_time": "2021-11-22T12:59:03.881Z"
   },
   {
    "duration": 31,
    "start_time": "2021-11-22T12:59:12.866Z"
   },
   {
    "duration": 18,
    "start_time": "2021-11-22T13:00:17.641Z"
   },
   {
    "duration": 19,
    "start_time": "2021-11-22T13:06:58.426Z"
   },
   {
    "duration": 28,
    "start_time": "2021-11-22T13:11:31.205Z"
   },
   {
    "duration": 30,
    "start_time": "2021-11-22T13:13:28.709Z"
   },
   {
    "duration": 27,
    "start_time": "2021-11-22T13:18:41.702Z"
   },
   {
    "duration": 25,
    "start_time": "2021-11-22T13:19:51.197Z"
   },
   {
    "duration": 26,
    "start_time": "2021-11-22T13:29:29.112Z"
   },
   {
    "duration": 11,
    "start_time": "2021-11-22T13:42:22.684Z"
   },
   {
    "duration": 22,
    "start_time": "2021-11-22T13:48:32.926Z"
   },
   {
    "duration": 10,
    "start_time": "2021-11-22T13:51:30.211Z"
   },
   {
    "duration": 6,
    "start_time": "2021-11-22T13:52:05.423Z"
   },
   {
    "duration": 97,
    "start_time": "2021-11-22T13:54:51.791Z"
   },
   {
    "duration": 243,
    "start_time": "2021-11-22T13:55:21.913Z"
   },
   {
    "duration": 6,
    "start_time": "2021-11-22T13:55:33.895Z"
   },
   {
    "duration": 7,
    "start_time": "2021-11-22T13:57:47.831Z"
   },
   {
    "duration": 20,
    "start_time": "2021-11-22T13:58:12.375Z"
   },
   {
    "duration": 7,
    "start_time": "2021-11-22T13:58:37.718Z"
   },
   {
    "duration": 98,
    "start_time": "2021-11-22T13:59:26.743Z"
   },
   {
    "duration": 98,
    "start_time": "2021-11-22T13:59:37.663Z"
   },
   {
    "duration": 154,
    "start_time": "2021-11-22T13:59:55.768Z"
   },
   {
    "duration": 36,
    "start_time": "2021-11-22T14:00:07.663Z"
   },
   {
    "duration": 7,
    "start_time": "2021-11-22T14:03:29.040Z"
   },
   {
    "duration": 424,
    "start_time": "2021-11-22T14:06:01.937Z"
   },
   {
    "duration": 8,
    "start_time": "2021-11-22T14:06:21.450Z"
   },
   {
    "duration": 8,
    "start_time": "2021-11-22T14:11:23.559Z"
   },
   {
    "duration": 5,
    "start_time": "2021-11-22T14:14:59.075Z"
   },
   {
    "duration": 6,
    "start_time": "2021-11-22T14:18:37.001Z"
   },
   {
    "duration": 7,
    "start_time": "2021-11-22T14:22:37.181Z"
   },
   {
    "duration": 19,
    "start_time": "2021-11-22T14:23:47.789Z"
   },
   {
    "duration": 11,
    "start_time": "2021-11-22T14:24:03.021Z"
   },
   {
    "duration": 9,
    "start_time": "2021-11-22T14:24:17.030Z"
   },
   {
    "duration": 18,
    "start_time": "2021-11-22T14:25:15.825Z"
   },
   {
    "duration": 7,
    "start_time": "2021-11-22T14:26:33.112Z"
   },
   {
    "duration": 6,
    "start_time": "2021-11-22T14:27:37.718Z"
   },
   {
    "duration": 318,
    "start_time": "2021-11-22T14:28:03.438Z"
   },
   {
    "duration": 7,
    "start_time": "2021-11-22T14:28:55.817Z"
   },
   {
    "duration": 322,
    "start_time": "2021-11-22T14:29:04.130Z"
   },
   {
    "duration": 268,
    "start_time": "2021-11-22T14:29:14.476Z"
   },
   {
    "duration": 6,
    "start_time": "2021-11-22T14:29:29.760Z"
   },
   {
    "duration": 7,
    "start_time": "2021-11-22T14:29:39.319Z"
   },
   {
    "duration": 7,
    "start_time": "2021-11-22T14:31:52.472Z"
   },
   {
    "duration": 13,
    "start_time": "2021-11-22T14:34:50.496Z"
   },
   {
    "duration": 289,
    "start_time": "2021-11-22T14:35:45.051Z"
   },
   {
    "duration": 52,
    "start_time": "2021-11-22T14:37:12.076Z"
   },
   {
    "duration": 16,
    "start_time": "2021-11-22T14:37:38.124Z"
   },
   {
    "duration": 15,
    "start_time": "2021-11-22T14:37:49.219Z"
   },
   {
    "duration": 15,
    "start_time": "2021-11-22T14:38:07.474Z"
   },
   {
    "duration": 16,
    "start_time": "2021-11-22T14:38:10.859Z"
   },
   {
    "duration": 12,
    "start_time": "2021-11-22T14:38:43.582Z"
   },
   {
    "duration": 8,
    "start_time": "2021-11-22T14:39:15.874Z"
   },
   {
    "duration": 6,
    "start_time": "2021-11-22T14:39:27.315Z"
   },
   {
    "duration": 6,
    "start_time": "2021-11-22T14:39:36.066Z"
   },
   {
    "duration": 8,
    "start_time": "2021-11-22T14:39:57.497Z"
   },
   {
    "duration": 6,
    "start_time": "2021-11-22T14:40:03.903Z"
   },
   {
    "duration": 36,
    "start_time": "2021-11-22T14:42:33.618Z"
   },
   {
    "duration": 52,
    "start_time": "2021-11-22T14:43:58.118Z"
   },
   {
    "duration": 19,
    "start_time": "2021-11-22T14:44:17.650Z"
   },
   {
    "duration": 11,
    "start_time": "2021-11-22T14:44:46.954Z"
   },
   {
    "duration": 18,
    "start_time": "2021-11-22T14:44:58.050Z"
   },
   {
    "duration": 16,
    "start_time": "2021-11-22T14:47:55.187Z"
   },
   {
    "duration": 11,
    "start_time": "2021-11-22T14:48:44.623Z"
   },
   {
    "duration": 15,
    "start_time": "2021-11-22T14:49:21.653Z"
   },
   {
    "duration": 12,
    "start_time": "2021-11-22T14:49:49.180Z"
   },
   {
    "duration": 11,
    "start_time": "2021-11-22T14:50:37.491Z"
   },
   {
    "duration": 9,
    "start_time": "2021-11-22T14:51:41.317Z"
   },
   {
    "duration": 12,
    "start_time": "2021-11-22T14:52:17.629Z"
   },
   {
    "duration": 273,
    "start_time": "2021-11-22T15:03:08.740Z"
   },
   {
    "duration": 307,
    "start_time": "2021-11-22T15:04:54.336Z"
   },
   {
    "duration": 27,
    "start_time": "2021-11-22T15:05:11.556Z"
   },
   {
    "duration": 828,
    "start_time": "2021-11-22T15:18:07.636Z"
   },
   {
    "duration": 64,
    "start_time": "2021-11-22T15:18:14.203Z"
   },
   {
    "duration": 32,
    "start_time": "2021-11-22T15:18:15.773Z"
   },
   {
    "duration": 16,
    "start_time": "2021-11-22T15:18:19.028Z"
   },
   {
    "duration": 13,
    "start_time": "2021-11-22T15:18:30.236Z"
   },
   {
    "duration": 23,
    "start_time": "2021-11-22T15:19:54.812Z"
   },
   {
    "duration": 13,
    "start_time": "2021-11-22T15:20:14.785Z"
   },
   {
    "duration": 11,
    "start_time": "2021-11-22T15:32:20.697Z"
   },
   {
    "duration": 9,
    "start_time": "2021-11-22T15:33:09.905Z"
   },
   {
    "duration": 10,
    "start_time": "2021-11-22T15:33:13.817Z"
   },
   {
    "duration": 17,
    "start_time": "2021-11-22T15:33:24.566Z"
   },
   {
    "duration": 27,
    "start_time": "2021-11-22T15:33:32.842Z"
   },
   {
    "duration": 27,
    "start_time": "2021-11-22T15:33:51.106Z"
   },
   {
    "duration": 9,
    "start_time": "2021-11-22T15:34:17.353Z"
   },
   {
    "duration": 8,
    "start_time": "2021-11-22T15:34:26.587Z"
   },
   {
    "duration": 13,
    "start_time": "2021-11-22T15:34:32.134Z"
   },
   {
    "duration": 7,
    "start_time": "2021-11-22T15:39:22.133Z"
   },
   {
    "duration": 18,
    "start_time": "2021-11-22T15:39:33.070Z"
   },
   {
    "duration": 19,
    "start_time": "2021-11-22T15:40:36.365Z"
   },
   {
    "duration": 848,
    "start_time": "2021-11-22T15:40:41.787Z"
   },
   {
    "duration": 789,
    "start_time": "2021-11-22T15:40:57.431Z"
   },
   {
    "duration": 74,
    "start_time": "2021-11-22T15:40:58.222Z"
   },
   {
    "duration": 32,
    "start_time": "2021-11-22T15:40:58.300Z"
   },
   {
    "duration": 45,
    "start_time": "2021-11-22T15:40:58.335Z"
   },
   {
    "duration": 16,
    "start_time": "2021-11-22T15:40:58.383Z"
   },
   {
    "duration": 25,
    "start_time": "2021-11-22T15:40:58.402Z"
   },
   {
    "duration": 44,
    "start_time": "2021-11-22T15:40:58.430Z"
   },
   {
    "duration": 15,
    "start_time": "2021-11-22T15:40:58.478Z"
   },
   {
    "duration": 10,
    "start_time": "2021-11-22T15:40:58.495Z"
   },
   {
    "duration": 11,
    "start_time": "2021-11-22T15:40:58.508Z"
   },
   {
    "duration": 62,
    "start_time": "2021-11-22T15:40:58.521Z"
   },
   {
    "duration": 29,
    "start_time": "2021-11-22T15:40:58.586Z"
   },
   {
    "duration": 62,
    "start_time": "2021-11-22T15:40:58.617Z"
   },
   {
    "duration": 10,
    "start_time": "2021-11-22T15:40:58.681Z"
   },
   {
    "duration": 10,
    "start_time": "2021-11-22T15:40:58.694Z"
   },
   {
    "duration": 14,
    "start_time": "2021-11-22T15:40:58.707Z"
   },
   {
    "duration": 6,
    "start_time": "2021-11-22T15:41:01.899Z"
   },
   {
    "duration": 21,
    "start_time": "2021-11-22T15:41:04.178Z"
   },
   {
    "duration": 7,
    "start_time": "2021-11-22T15:43:35.843Z"
   },
   {
    "duration": 14,
    "start_time": "2021-11-22T15:44:00.276Z"
   },
   {
    "duration": 8,
    "start_time": "2021-11-22T15:44:14.733Z"
   },
   {
    "duration": 9,
    "start_time": "2021-11-22T15:44:23.425Z"
   },
   {
    "duration": 7,
    "start_time": "2021-11-22T15:55:37.742Z"
   },
   {
    "duration": 8,
    "start_time": "2021-11-22T15:59:21.169Z"
   },
   {
    "duration": 799,
    "start_time": "2021-11-22T16:02:22.359Z"
   },
   {
    "duration": 69,
    "start_time": "2021-11-22T16:02:23.160Z"
   },
   {
    "duration": 38,
    "start_time": "2021-11-22T16:02:23.232Z"
   },
   {
    "duration": 24,
    "start_time": "2021-11-22T16:02:23.273Z"
   },
   {
    "duration": 12,
    "start_time": "2021-11-22T16:02:23.300Z"
   },
   {
    "duration": 55,
    "start_time": "2021-11-22T16:02:23.315Z"
   },
   {
    "duration": 13,
    "start_time": "2021-11-22T16:02:23.374Z"
   },
   {
    "duration": 14,
    "start_time": "2021-11-22T16:02:23.393Z"
   },
   {
    "duration": 11,
    "start_time": "2021-11-22T16:02:23.410Z"
   },
   {
    "duration": 45,
    "start_time": "2021-11-22T16:02:23.424Z"
   },
   {
    "duration": 18,
    "start_time": "2021-11-22T16:02:23.473Z"
   },
   {
    "duration": 41,
    "start_time": "2021-11-22T16:02:23.494Z"
   },
   {
    "duration": 31,
    "start_time": "2021-11-22T16:02:23.567Z"
   },
   {
    "duration": 9,
    "start_time": "2021-11-22T16:02:23.600Z"
   },
   {
    "duration": 12,
    "start_time": "2021-11-22T16:02:23.611Z"
   },
   {
    "duration": 45,
    "start_time": "2021-11-22T16:02:23.626Z"
   },
   {
    "duration": 8,
    "start_time": "2021-11-22T16:02:23.673Z"
   },
   {
    "duration": 22,
    "start_time": "2021-11-22T16:02:23.684Z"
   },
   {
    "duration": 7,
    "start_time": "2021-11-22T16:02:23.709Z"
   },
   {
    "duration": 18,
    "start_time": "2021-11-22T16:02:23.718Z"
   },
   {
    "duration": 33,
    "start_time": "2021-11-22T16:02:23.738Z"
   },
   {
    "duration": 9,
    "start_time": "2021-11-22T16:02:27.829Z"
   },
   {
    "duration": 7412,
    "start_time": "2021-11-22T16:02:50.768Z"
   },
   {
    "duration": 22,
    "start_time": "2021-11-22T16:05:03.896Z"
   },
   {
    "duration": 1071,
    "start_time": "2021-11-22T16:06:23.424Z"
   },
   {
    "duration": 28,
    "start_time": "2021-11-22T16:08:03.608Z"
   },
   {
    "duration": 22,
    "start_time": "2021-11-22T16:08:22.760Z"
   },
   {
    "duration": 324,
    "start_time": "2021-11-22T16:09:07.882Z"
   },
   {
    "duration": 7588,
    "start_time": "2021-11-22T16:09:32.835Z"
   },
   {
    "duration": -1029,
    "start_time": "2021-11-22T16:10:10.077Z"
   },
   {
    "duration": 10,
    "start_time": "2021-11-22T16:10:11.206Z"
   },
   {
    "duration": 15,
    "start_time": "2021-11-22T16:12:59.042Z"
   },
   {
    "duration": 301,
    "start_time": "2021-11-22T16:13:21.434Z"
   },
   {
    "duration": 15,
    "start_time": "2021-11-22T16:13:26.283Z"
   },
   {
    "duration": 14,
    "start_time": "2021-11-22T16:13:43.648Z"
   },
   {
    "duration": 11,
    "start_time": "2021-11-22T16:15:30.493Z"
   },
   {
    "duration": 11,
    "start_time": "2021-11-22T16:16:54.733Z"
   },
   {
    "duration": 12,
    "start_time": "2021-11-22T16:25:45.317Z"
   },
   {
    "duration": 11,
    "start_time": "2021-11-22T16:25:59.301Z"
   },
   {
    "duration": 12,
    "start_time": "2021-11-22T16:26:44.621Z"
   },
   {
    "duration": 11,
    "start_time": "2021-11-22T16:26:55.759Z"
   },
   {
    "duration": 12,
    "start_time": "2021-11-22T16:27:03.884Z"
   },
   {
    "duration": 13,
    "start_time": "2021-11-22T16:27:08.712Z"
   },
   {
    "duration": 9,
    "start_time": "2021-11-22T16:28:07.831Z"
   },
   {
    "duration": 12,
    "start_time": "2021-11-22T16:28:12.454Z"
   },
   {
    "duration": 12,
    "start_time": "2021-11-22T16:28:23.109Z"
   },
   {
    "duration": 10,
    "start_time": "2021-11-22T16:32:30.281Z"
   },
   {
    "duration": 277,
    "start_time": "2021-11-22T16:34:26.512Z"
   },
   {
    "duration": 290,
    "start_time": "2021-11-22T16:34:57.099Z"
   },
   {
    "duration": 38,
    "start_time": "2021-11-22T16:35:29.168Z"
   },
   {
    "duration": 4,
    "start_time": "2021-11-22T16:36:25.088Z"
   },
   {
    "duration": 885,
    "start_time": "2021-11-22T16:36:43.768Z"
   },
   {
    "duration": 77,
    "start_time": "2021-11-22T16:36:44.656Z"
   },
   {
    "duration": 50,
    "start_time": "2021-11-22T16:36:44.737Z"
   },
   {
    "duration": 19,
    "start_time": "2021-11-22T16:36:44.790Z"
   },
   {
    "duration": 17,
    "start_time": "2021-11-22T16:36:44.812Z"
   },
   {
    "duration": 58,
    "start_time": "2021-11-22T16:36:44.832Z"
   },
   {
    "duration": 12,
    "start_time": "2021-11-22T16:36:44.893Z"
   },
   {
    "duration": 19,
    "start_time": "2021-11-22T16:36:44.912Z"
   },
   {
    "duration": 45,
    "start_time": "2021-11-22T16:36:44.935Z"
   },
   {
    "duration": 11,
    "start_time": "2021-11-22T16:36:44.983Z"
   },
   {
    "duration": 18,
    "start_time": "2021-11-22T16:36:44.997Z"
   },
   {
    "duration": 75,
    "start_time": "2021-11-22T16:36:45.017Z"
   },
   {
    "duration": 29,
    "start_time": "2021-11-22T16:36:45.095Z"
   },
   {
    "duration": 8,
    "start_time": "2021-11-22T16:36:45.126Z"
   },
   {
    "duration": 12,
    "start_time": "2021-11-22T16:36:45.167Z"
   },
   {
    "duration": 16,
    "start_time": "2021-11-22T16:36:45.181Z"
   },
   {
    "duration": 7,
    "start_time": "2021-11-22T16:36:45.205Z"
   },
   {
    "duration": 54,
    "start_time": "2021-11-22T16:36:45.215Z"
   },
   {
    "duration": 9,
    "start_time": "2021-11-22T16:36:45.272Z"
   },
   {
    "duration": 9,
    "start_time": "2021-11-22T16:36:45.284Z"
   },
   {
    "duration": 9,
    "start_time": "2021-11-22T16:36:45.296Z"
   },
   {
    "duration": 10,
    "start_time": "2021-11-22T16:36:45.308Z"
   },
   {
    "duration": 22,
    "start_time": "2021-11-22T16:36:45.368Z"
   },
   {
    "duration": 13,
    "start_time": "2021-11-22T16:36:50.682Z"
   },
   {
    "duration": 11,
    "start_time": "2021-11-22T16:37:11.428Z"
   },
   {
    "duration": 10,
    "start_time": "2021-11-22T16:37:19.538Z"
   },
   {
    "duration": 38,
    "start_time": "2021-11-22T16:38:36.482Z"
   },
   {
    "duration": 22,
    "start_time": "2021-11-22T16:39:43.298Z"
   },
   {
    "duration": 45,
    "start_time": "2021-11-22T16:39:54.097Z"
   },
   {
    "duration": 800,
    "start_time": "2021-11-22T16:40:38.555Z"
   },
   {
    "duration": 69,
    "start_time": "2021-11-22T16:40:39.357Z"
   },
   {
    "duration": 49,
    "start_time": "2021-11-22T16:40:39.429Z"
   },
   {
    "duration": 23,
    "start_time": "2021-11-22T16:40:39.481Z"
   },
   {
    "duration": 15,
    "start_time": "2021-11-22T16:40:39.507Z"
   },
   {
    "duration": 59,
    "start_time": "2021-11-22T16:40:39.525Z"
   },
   {
    "duration": 12,
    "start_time": "2021-11-22T16:40:39.587Z"
   },
   {
    "duration": 13,
    "start_time": "2021-11-22T16:40:39.606Z"
   },
   {
    "duration": 52,
    "start_time": "2021-11-22T16:40:39.623Z"
   },
   {
    "duration": 14,
    "start_time": "2021-11-22T16:40:39.678Z"
   },
   {
    "duration": 17,
    "start_time": "2021-11-22T16:40:39.695Z"
   },
   {
    "duration": 78,
    "start_time": "2021-11-22T16:40:39.715Z"
   },
   {
    "duration": 29,
    "start_time": "2021-11-22T16:40:39.796Z"
   },
   {
    "duration": 11,
    "start_time": "2021-11-22T16:40:39.828Z"
   },
   {
    "duration": 11,
    "start_time": "2021-11-22T16:40:39.867Z"
   },
   {
    "duration": 28,
    "start_time": "2021-11-22T16:40:39.881Z"
   },
   {
    "duration": 6,
    "start_time": "2021-11-22T16:40:39.911Z"
   },
   {
    "duration": 15,
    "start_time": "2021-11-22T16:40:39.920Z"
   },
   {
    "duration": 33,
    "start_time": "2021-11-22T16:40:39.937Z"
   },
   {
    "duration": 24,
    "start_time": "2021-11-22T16:40:39.973Z"
   },
   {
    "duration": 21,
    "start_time": "2021-11-22T16:40:40.000Z"
   },
   {
    "duration": 11,
    "start_time": "2021-11-22T16:40:40.023Z"
   },
   {
    "duration": 10,
    "start_time": "2021-11-22T16:40:40.038Z"
   },
   {
    "duration": 51,
    "start_time": "2021-11-22T16:40:43.858Z"
   },
   {
    "duration": 25,
    "start_time": "2021-11-22T16:40:57.773Z"
   },
   {
    "duration": 23,
    "start_time": "2021-11-22T16:41:06.022Z"
   },
   {
    "duration": 760,
    "start_time": "2021-11-22T16:47:38.426Z"
   },
   {
    "duration": 67,
    "start_time": "2021-11-22T16:47:39.188Z"
   },
   {
    "duration": 34,
    "start_time": "2021-11-22T16:47:39.258Z"
   },
   {
    "duration": 15,
    "start_time": "2021-11-22T16:47:39.295Z"
   },
   {
    "duration": 19,
    "start_time": "2021-11-22T16:47:39.313Z"
   },
   {
    "duration": 53,
    "start_time": "2021-11-22T16:47:39.335Z"
   },
   {
    "duration": 13,
    "start_time": "2021-11-22T16:47:39.391Z"
   },
   {
    "duration": 12,
    "start_time": "2021-11-22T16:47:39.410Z"
   },
   {
    "duration": 49,
    "start_time": "2021-11-22T16:47:39.425Z"
   },
   {
    "duration": 10,
    "start_time": "2021-11-22T16:47:39.476Z"
   },
   {
    "duration": 15,
    "start_time": "2021-11-22T16:47:39.488Z"
   },
   {
    "duration": 65,
    "start_time": "2021-11-22T16:47:39.506Z"
   },
   {
    "duration": 28,
    "start_time": "2021-11-22T16:47:39.573Z"
   },
   {
    "duration": 10,
    "start_time": "2021-11-22T16:47:39.604Z"
   },
   {
    "duration": 51,
    "start_time": "2021-11-22T16:47:39.617Z"
   },
   {
    "duration": 14,
    "start_time": "2021-11-22T16:47:39.671Z"
   },
   {
    "duration": 7,
    "start_time": "2021-11-22T16:47:39.687Z"
   },
   {
    "duration": 10,
    "start_time": "2021-11-22T16:47:39.697Z"
   },
   {
    "duration": 8,
    "start_time": "2021-11-22T16:47:39.710Z"
   },
   {
    "duration": 46,
    "start_time": "2021-11-22T16:47:39.721Z"
   },
   {
    "duration": 8,
    "start_time": "2021-11-22T16:47:39.770Z"
   },
   {
    "duration": 16,
    "start_time": "2021-11-22T16:47:39.781Z"
   },
   {
    "duration": 18,
    "start_time": "2021-11-22T16:47:39.801Z"
   },
   {
    "duration": 14,
    "start_time": "2021-11-22T16:47:45.600Z"
   },
   {
    "duration": 32,
    "start_time": "2021-11-22T16:48:37.800Z"
   },
   {
    "duration": 1199,
    "start_time": "2021-11-22T17:14:15.585Z"
   },
   {
    "duration": 62,
    "start_time": "2021-11-22T17:14:39.715Z"
   },
   {
    "duration": 41,
    "start_time": "2021-11-22T17:15:12.048Z"
   },
   {
    "duration": 18,
    "start_time": "2021-11-22T17:15:34.321Z"
   },
   {
    "duration": 18,
    "start_time": "2021-11-22T17:15:40.271Z"
   },
   {
    "duration": 17,
    "start_time": "2021-11-22T17:17:22.730Z"
   },
   {
    "duration": 18,
    "start_time": "2021-11-22T17:17:45.129Z"
   },
   {
    "duration": 863,
    "start_time": "2021-11-22T17:18:17.733Z"
   },
   {
    "duration": 66,
    "start_time": "2021-11-22T17:18:18.598Z"
   },
   {
    "duration": 32,
    "start_time": "2021-11-22T17:18:18.668Z"
   },
   {
    "duration": 16,
    "start_time": "2021-11-22T17:18:18.703Z"
   },
   {
    "duration": 15,
    "start_time": "2021-11-22T17:18:18.722Z"
   },
   {
    "duration": 22,
    "start_time": "2021-11-22T17:18:18.768Z"
   },
   {
    "duration": 17,
    "start_time": "2021-11-22T17:18:18.792Z"
   },
   {
    "duration": 15,
    "start_time": "2021-11-22T17:18:18.815Z"
   },
   {
    "duration": 38,
    "start_time": "2021-11-22T17:18:18.833Z"
   },
   {
    "duration": 10,
    "start_time": "2021-11-22T17:18:18.873Z"
   },
   {
    "duration": 19,
    "start_time": "2021-11-22T17:18:18.886Z"
   },
   {
    "duration": 61,
    "start_time": "2021-11-22T17:18:18.908Z"
   },
   {
    "duration": 28,
    "start_time": "2021-11-22T17:18:18.972Z"
   },
   {
    "duration": 8,
    "start_time": "2021-11-22T17:18:19.002Z"
   },
   {
    "duration": 9,
    "start_time": "2021-11-22T17:18:19.013Z"
   },
   {
    "duration": 51,
    "start_time": "2021-11-22T17:18:19.024Z"
   },
   {
    "duration": 6,
    "start_time": "2021-11-22T17:18:19.078Z"
   },
   {
    "duration": 19,
    "start_time": "2021-11-22T17:18:19.087Z"
   },
   {
    "duration": 8,
    "start_time": "2021-11-22T17:18:19.109Z"
   },
   {
    "duration": 13,
    "start_time": "2021-11-22T17:18:19.121Z"
   },
   {
    "duration": 36,
    "start_time": "2021-11-22T17:18:19.136Z"
   },
   {
    "duration": 8,
    "start_time": "2021-11-22T17:18:19.175Z"
   },
   {
    "duration": 20,
    "start_time": "2021-11-22T17:18:19.187Z"
   },
   {
    "duration": 17,
    "start_time": "2021-11-22T17:18:19.209Z"
   },
   {
    "duration": 17,
    "start_time": "2021-11-22T17:18:24.598Z"
   },
   {
    "duration": 759,
    "start_time": "2021-11-22T17:35:51.685Z"
   },
   {
    "duration": 69,
    "start_time": "2021-11-22T17:35:52.447Z"
   },
   {
    "duration": 29,
    "start_time": "2021-11-22T17:35:52.519Z"
   },
   {
    "duration": 29,
    "start_time": "2021-11-22T17:35:52.551Z"
   },
   {
    "duration": 15,
    "start_time": "2021-11-22T17:35:52.583Z"
   },
   {
    "duration": 24,
    "start_time": "2021-11-22T17:35:52.600Z"
   },
   {
    "duration": 43,
    "start_time": "2021-11-22T17:35:52.626Z"
   },
   {
    "duration": 19,
    "start_time": "2021-11-22T17:35:52.676Z"
   },
   {
    "duration": 17,
    "start_time": "2021-11-22T17:35:52.699Z"
   },
   {
    "duration": 9,
    "start_time": "2021-11-22T17:35:52.719Z"
   },
   {
    "duration": 45,
    "start_time": "2021-11-22T17:35:52.730Z"
   },
   {
    "duration": 29,
    "start_time": "2021-11-22T17:35:52.778Z"
   },
   {
    "duration": 28,
    "start_time": "2021-11-22T17:35:52.809Z"
   },
   {
    "duration": 11,
    "start_time": "2021-11-22T17:35:52.868Z"
   },
   {
    "duration": 12,
    "start_time": "2021-11-22T17:35:52.882Z"
   },
   {
    "duration": 16,
    "start_time": "2021-11-22T17:35:52.896Z"
   },
   {
    "duration": 7,
    "start_time": "2021-11-22T17:35:52.914Z"
   },
   {
    "duration": 47,
    "start_time": "2021-11-22T17:35:52.924Z"
   },
   {
    "duration": 9,
    "start_time": "2021-11-22T17:35:52.974Z"
   },
   {
    "duration": 10,
    "start_time": "2021-11-22T17:35:52.986Z"
   },
   {
    "duration": 8,
    "start_time": "2021-11-22T17:35:52.998Z"
   },
   {
    "duration": 8,
    "start_time": "2021-11-22T17:35:53.009Z"
   },
   {
    "duration": 12,
    "start_time": "2021-11-22T17:35:53.066Z"
   },
   {
    "duration": 5,
    "start_time": "2021-11-22T17:35:53.081Z"
   },
   {
    "duration": 15,
    "start_time": "2021-11-22T17:35:53.089Z"
   },
   {
    "duration": 106,
    "start_time": "2021-11-22T17:36:26.705Z"
   },
   {
    "duration": 15,
    "start_time": "2021-11-22T17:36:38.025Z"
   },
   {
    "duration": 751,
    "start_time": "2021-11-22T17:39:24.189Z"
   },
   {
    "duration": 68,
    "start_time": "2021-11-22T17:39:24.943Z"
   },
   {
    "duration": 33,
    "start_time": "2021-11-22T17:39:25.014Z"
   },
   {
    "duration": 18,
    "start_time": "2021-11-22T17:39:25.067Z"
   },
   {
    "duration": 13,
    "start_time": "2021-11-22T17:39:25.088Z"
   },
   {
    "duration": 27,
    "start_time": "2021-11-22T17:39:25.104Z"
   },
   {
    "duration": 43,
    "start_time": "2021-11-22T17:39:25.134Z"
   },
   {
    "duration": 12,
    "start_time": "2021-11-22T17:39:25.181Z"
   },
   {
    "duration": 10,
    "start_time": "2021-11-22T17:39:25.196Z"
   },
   {
    "duration": 8,
    "start_time": "2021-11-22T17:39:25.208Z"
   },
   {
    "duration": 59,
    "start_time": "2021-11-22T17:39:25.218Z"
   },
   {
    "duration": 29,
    "start_time": "2021-11-22T17:39:25.280Z"
   },
   {
    "duration": 58,
    "start_time": "2021-11-22T17:39:25.311Z"
   },
   {
    "duration": 9,
    "start_time": "2021-11-22T17:39:25.371Z"
   },
   {
    "duration": 9,
    "start_time": "2021-11-22T17:39:25.382Z"
   },
   {
    "duration": 12,
    "start_time": "2021-11-22T17:39:25.393Z"
   },
   {
    "duration": 6,
    "start_time": "2021-11-22T17:39:25.408Z"
   },
   {
    "duration": 56,
    "start_time": "2021-11-22T17:39:25.417Z"
   },
   {
    "duration": 10,
    "start_time": "2021-11-22T17:39:25.476Z"
   },
   {
    "duration": 8,
    "start_time": "2021-11-22T17:39:25.488Z"
   },
   {
    "duration": 8,
    "start_time": "2021-11-22T17:39:25.498Z"
   },
   {
    "duration": 9,
    "start_time": "2021-11-22T17:39:25.508Z"
   },
   {
    "duration": 52,
    "start_time": "2021-11-22T17:39:25.521Z"
   },
   {
    "duration": 4,
    "start_time": "2021-11-22T17:39:30.872Z"
   },
   {
    "duration": 11,
    "start_time": "2021-11-22T17:39:34.144Z"
   },
   {
    "duration": 19,
    "start_time": "2021-11-22T17:41:22.185Z"
   },
   {
    "duration": 21,
    "start_time": "2021-11-22T17:41:26.369Z"
   },
   {
    "duration": 9,
    "start_time": "2021-11-22T17:41:58.809Z"
   },
   {
    "duration": 784,
    "start_time": "2021-11-23T09:43:22.178Z"
   },
   {
    "duration": 65,
    "start_time": "2021-11-23T09:43:22.964Z"
   },
   {
    "duration": 45,
    "start_time": "2021-11-23T09:43:23.033Z"
   },
   {
    "duration": 22,
    "start_time": "2021-11-23T09:43:23.082Z"
   },
   {
    "duration": 18,
    "start_time": "2021-11-23T09:43:23.107Z"
   },
   {
    "duration": 23,
    "start_time": "2021-11-23T09:43:23.160Z"
   },
   {
    "duration": 12,
    "start_time": "2021-11-23T09:43:23.186Z"
   },
   {
    "duration": 11,
    "start_time": "2021-11-23T09:43:23.202Z"
   },
   {
    "duration": 50,
    "start_time": "2021-11-23T09:43:23.216Z"
   },
   {
    "duration": 12,
    "start_time": "2021-11-23T09:43:23.269Z"
   },
   {
    "duration": 18,
    "start_time": "2021-11-23T09:43:23.283Z"
   },
   {
    "duration": 75,
    "start_time": "2021-11-23T09:43:23.304Z"
   },
   {
    "duration": 37,
    "start_time": "2021-11-23T09:43:23.382Z"
   },
   {
    "duration": 9,
    "start_time": "2021-11-23T09:43:23.422Z"
   },
   {
    "duration": 10,
    "start_time": "2021-11-23T09:43:23.459Z"
   },
   {
    "duration": 18,
    "start_time": "2021-11-23T09:43:23.473Z"
   },
   {
    "duration": 6,
    "start_time": "2021-11-23T09:43:23.494Z"
   },
   {
    "duration": 12,
    "start_time": "2021-11-23T09:43:23.502Z"
   },
   {
    "duration": 48,
    "start_time": "2021-11-23T09:43:23.517Z"
   },
   {
    "duration": 7,
    "start_time": "2021-11-23T09:43:23.567Z"
   },
   {
    "duration": 6,
    "start_time": "2021-11-23T09:43:23.577Z"
   },
   {
    "duration": 8,
    "start_time": "2021-11-23T09:43:23.585Z"
   },
   {
    "duration": 9,
    "start_time": "2021-11-23T09:43:23.598Z"
   },
   {
    "duration": 55,
    "start_time": "2021-11-23T09:43:23.611Z"
   },
   {
    "duration": 15,
    "start_time": "2021-11-23T09:43:23.669Z"
   },
   {
    "duration": 18,
    "start_time": "2021-11-23T09:43:23.687Z"
   },
   {
    "duration": 18,
    "start_time": "2021-11-23T09:43:23.708Z"
   },
   {
    "duration": 9,
    "start_time": "2021-11-23T09:43:31.429Z"
   },
   {
    "duration": 997,
    "start_time": "2021-11-23T09:44:34.502Z"
   },
   {
    "duration": 68,
    "start_time": "2021-11-23T09:44:35.503Z"
   },
   {
    "duration": 29,
    "start_time": "2021-11-23T09:44:35.573Z"
   },
   {
    "duration": 17,
    "start_time": "2021-11-23T09:44:35.604Z"
   },
   {
    "duration": 36,
    "start_time": "2021-11-23T09:44:35.623Z"
   },
   {
    "duration": 23,
    "start_time": "2021-11-23T09:44:35.661Z"
   },
   {
    "duration": 17,
    "start_time": "2021-11-23T09:44:35.687Z"
   },
   {
    "duration": 16,
    "start_time": "2021-11-23T09:44:35.711Z"
   },
   {
    "duration": 12,
    "start_time": "2021-11-23T09:44:35.762Z"
   },
   {
    "duration": 9,
    "start_time": "2021-11-23T09:44:35.777Z"
   },
   {
    "duration": 16,
    "start_time": "2021-11-23T09:44:35.788Z"
   },
   {
    "duration": 66,
    "start_time": "2021-11-23T09:44:35.806Z"
   },
   {
    "duration": 28,
    "start_time": "2021-11-23T09:44:35.876Z"
   },
   {
    "duration": 9,
    "start_time": "2021-11-23T09:44:35.907Z"
   },
   {
    "duration": 43,
    "start_time": "2021-11-23T09:44:35.919Z"
   },
   {
    "duration": 17,
    "start_time": "2021-11-23T09:44:35.965Z"
   },
   {
    "duration": 8,
    "start_time": "2021-11-23T09:44:35.986Z"
   },
   {
    "duration": 22,
    "start_time": "2021-11-23T09:44:35.997Z"
   },
   {
    "duration": 37,
    "start_time": "2021-11-23T09:44:36.022Z"
   },
   {
    "duration": 8,
    "start_time": "2021-11-23T09:44:36.063Z"
   },
   {
    "duration": 9,
    "start_time": "2021-11-23T09:44:36.073Z"
   },
   {
    "duration": 15,
    "start_time": "2021-11-23T09:44:36.085Z"
   },
   {
    "duration": 23,
    "start_time": "2021-11-23T09:44:36.105Z"
   },
   {
    "duration": 5,
    "start_time": "2021-11-23T09:44:36.159Z"
   },
   {
    "duration": 15,
    "start_time": "2021-11-23T09:44:36.167Z"
   },
   {
    "duration": 17,
    "start_time": "2021-11-23T09:44:36.185Z"
   },
   {
    "duration": 19,
    "start_time": "2021-11-23T09:44:36.205Z"
   },
   {
    "duration": 8,
    "start_time": "2021-11-23T09:44:36.260Z"
   },
   {
    "duration": 13,
    "start_time": "2021-11-23T09:44:36.270Z"
   },
   {
    "duration": 12,
    "start_time": "2021-11-23T09:44:36.285Z"
   },
   {
    "duration": 9,
    "start_time": "2021-11-23T09:44:36.299Z"
   },
   {
    "duration": 13,
    "start_time": "2021-11-23T09:44:36.310Z"
   },
   {
    "duration": 38,
    "start_time": "2021-11-23T09:44:36.325Z"
   },
   {
    "duration": 12,
    "start_time": "2021-11-23T09:44:36.365Z"
   },
   {
    "duration": 8,
    "start_time": "2021-11-23T09:44:36.379Z"
   },
   {
    "duration": 7,
    "start_time": "2021-11-23T09:44:36.389Z"
   },
   {
    "duration": 9,
    "start_time": "2021-11-23T09:44:36.399Z"
   },
   {
    "duration": 9,
    "start_time": "2021-11-23T09:44:36.410Z"
   },
   {
    "duration": 21,
    "start_time": "2021-11-23T09:44:36.461Z"
   },
   {
    "duration": 9,
    "start_time": "2021-11-23T09:44:36.484Z"
   },
   {
    "duration": 26,
    "start_time": "2021-11-23T09:44:36.495Z"
   },
   {
    "duration": 562,
    "start_time": "2021-11-23T19:36:41.566Z"
   },
   {
    "duration": 48,
    "start_time": "2021-11-23T19:36:42.130Z"
   },
   {
    "duration": 16,
    "start_time": "2021-11-23T19:36:42.180Z"
   },
   {
    "duration": 10,
    "start_time": "2021-11-23T19:36:42.198Z"
   },
   {
    "duration": 14,
    "start_time": "2021-11-23T19:36:42.210Z"
   },
   {
    "duration": 12,
    "start_time": "2021-11-23T19:36:42.226Z"
   },
   {
    "duration": 5,
    "start_time": "2021-11-23T19:36:42.239Z"
   },
   {
    "duration": 11,
    "start_time": "2021-11-23T19:36:42.247Z"
   },
   {
    "duration": 31,
    "start_time": "2021-11-23T19:36:42.260Z"
   },
   {
    "duration": 7,
    "start_time": "2021-11-23T19:36:42.293Z"
   },
   {
    "duration": 11,
    "start_time": "2021-11-23T19:36:42.302Z"
   },
   {
    "duration": 23,
    "start_time": "2021-11-23T19:36:42.315Z"
   },
   {
    "duration": 21,
    "start_time": "2021-11-23T19:36:42.340Z"
   },
   {
    "duration": 7,
    "start_time": "2021-11-23T19:36:42.388Z"
   },
   {
    "duration": 6,
    "start_time": "2021-11-23T19:36:42.396Z"
   },
   {
    "duration": 11,
    "start_time": "2021-11-23T19:36:42.404Z"
   },
   {
    "duration": 4,
    "start_time": "2021-11-23T19:36:42.417Z"
   },
   {
    "duration": 11,
    "start_time": "2021-11-23T19:36:42.423Z"
   },
   {
    "duration": 6,
    "start_time": "2021-11-23T19:36:42.435Z"
   },
   {
    "duration": 5,
    "start_time": "2021-11-23T19:36:42.442Z"
   },
   {
    "duration": 39,
    "start_time": "2021-11-23T19:36:42.449Z"
   },
   {
    "duration": 5,
    "start_time": "2021-11-23T19:36:42.490Z"
   },
   {
    "duration": 8,
    "start_time": "2021-11-23T19:36:42.498Z"
   },
   {
    "duration": 3,
    "start_time": "2021-11-23T19:36:42.507Z"
   },
   {
    "duration": 11,
    "start_time": "2021-11-23T19:36:42.512Z"
   },
   {
    "duration": 11,
    "start_time": "2021-11-23T19:36:42.525Z"
   },
   {
    "duration": 15,
    "start_time": "2021-11-23T19:36:42.537Z"
   },
   {
    "duration": 5,
    "start_time": "2021-11-23T19:36:42.553Z"
   },
   {
    "duration": 553,
    "start_time": "2021-11-23T19:57:24.083Z"
   },
   {
    "duration": 48,
    "start_time": "2021-11-23T19:57:24.637Z"
   },
   {
    "duration": 16,
    "start_time": "2021-11-23T19:57:24.687Z"
   },
   {
    "duration": 13,
    "start_time": "2021-11-23T19:57:24.705Z"
   },
   {
    "duration": 8,
    "start_time": "2021-11-23T19:57:24.719Z"
   },
   {
    "duration": 12,
    "start_time": "2021-11-23T19:57:24.728Z"
   },
   {
    "duration": 6,
    "start_time": "2021-11-23T19:57:24.741Z"
   },
   {
    "duration": 7,
    "start_time": "2021-11-23T19:57:24.749Z"
   },
   {
    "duration": 30,
    "start_time": "2021-11-23T19:57:24.758Z"
   },
   {
    "duration": 5,
    "start_time": "2021-11-23T19:57:24.790Z"
   },
   {
    "duration": 9,
    "start_time": "2021-11-23T19:57:24.796Z"
   },
   {
    "duration": 15,
    "start_time": "2021-11-23T19:57:24.806Z"
   },
   {
    "duration": 15,
    "start_time": "2021-11-23T19:57:24.823Z"
   },
   {
    "duration": 5,
    "start_time": "2021-11-23T19:57:24.840Z"
   },
   {
    "duration": 42,
    "start_time": "2021-11-23T19:57:24.846Z"
   },
   {
    "duration": 8,
    "start_time": "2021-11-23T19:57:24.889Z"
   },
   {
    "duration": 6,
    "start_time": "2021-11-23T19:57:24.898Z"
   },
   {
    "duration": 9,
    "start_time": "2021-11-23T19:57:24.905Z"
   },
   {
    "duration": 13,
    "start_time": "2021-11-23T19:57:24.915Z"
   },
   {
    "duration": 6,
    "start_time": "2021-11-23T19:57:24.929Z"
   },
   {
    "duration": 6,
    "start_time": "2021-11-23T19:57:24.936Z"
   },
   {
    "duration": 5,
    "start_time": "2021-11-23T19:57:24.944Z"
   },
   {
    "duration": 38,
    "start_time": "2021-11-23T19:57:24.951Z"
   },
   {
    "duration": 8,
    "start_time": "2021-11-23T19:57:24.991Z"
   },
   {
    "duration": 6,
    "start_time": "2021-11-23T19:57:25.001Z"
   },
   {
    "duration": 9,
    "start_time": "2021-11-23T19:57:25.008Z"
   },
   {
    "duration": 13,
    "start_time": "2021-11-23T19:57:25.018Z"
   },
   {
    "duration": 13,
    "start_time": "2021-11-23T19:57:25.033Z"
   },
   {
    "duration": 6,
    "start_time": "2021-11-23T19:57:25.048Z"
   },
   {
    "duration": 6,
    "start_time": "2021-11-23T19:58:31.823Z"
   },
   {
    "duration": 539,
    "start_time": "2021-11-23T19:59:33.597Z"
   },
   {
    "duration": 48,
    "start_time": "2021-11-23T19:59:34.137Z"
   },
   {
    "duration": 16,
    "start_time": "2021-11-23T19:59:34.187Z"
   },
   {
    "duration": 11,
    "start_time": "2021-11-23T19:59:34.204Z"
   },
   {
    "duration": 8,
    "start_time": "2021-11-23T19:59:34.217Z"
   },
   {
    "duration": 17,
    "start_time": "2021-11-23T19:59:34.226Z"
   },
   {
    "duration": 5,
    "start_time": "2021-11-23T19:59:34.245Z"
   },
   {
    "duration": 7,
    "start_time": "2021-11-23T19:59:34.253Z"
   },
   {
    "duration": 5,
    "start_time": "2021-11-23T19:59:34.288Z"
   },
   {
    "duration": 4,
    "start_time": "2021-11-23T19:59:34.295Z"
   },
   {
    "duration": 8,
    "start_time": "2021-11-23T19:59:34.301Z"
   },
   {
    "duration": 15,
    "start_time": "2021-11-23T19:59:34.310Z"
   },
   {
    "duration": 14,
    "start_time": "2021-11-23T19:59:34.326Z"
   },
   {
    "duration": 5,
    "start_time": "2021-11-23T19:59:34.341Z"
   },
   {
    "duration": 41,
    "start_time": "2021-11-23T19:59:34.347Z"
   },
   {
    "duration": 8,
    "start_time": "2021-11-23T19:59:34.390Z"
   },
   {
    "duration": 6,
    "start_time": "2021-11-23T19:59:34.399Z"
   },
   {
    "duration": 8,
    "start_time": "2021-11-23T19:59:34.406Z"
   },
   {
    "duration": 7,
    "start_time": "2021-11-23T19:59:34.415Z"
   },
   {
    "duration": 8,
    "start_time": "2021-11-23T19:59:34.423Z"
   },
   {
    "duration": 5,
    "start_time": "2021-11-23T19:59:34.432Z"
   },
   {
    "duration": 10,
    "start_time": "2021-11-23T19:59:34.438Z"
   },
   {
    "duration": 8,
    "start_time": "2021-11-23T19:59:34.451Z"
   },
   {
    "duration": 6,
    "start_time": "2021-11-23T19:59:34.489Z"
   },
   {
    "duration": 11,
    "start_time": "2021-11-23T19:59:34.496Z"
   },
   {
    "duration": 3,
    "start_time": "2021-11-23T19:59:34.509Z"
   },
   {
    "duration": 11,
    "start_time": "2021-11-23T19:59:34.514Z"
   },
   {
    "duration": 15,
    "start_time": "2021-11-23T19:59:34.526Z"
   },
   {
    "duration": 15,
    "start_time": "2021-11-23T19:59:34.543Z"
   },
   {
    "duration": 6,
    "start_time": "2021-11-23T19:59:34.560Z"
   },
   {
    "duration": 4,
    "start_time": "2021-11-23T19:59:34.588Z"
   },
   {
    "duration": 7,
    "start_time": "2021-11-23T19:59:34.594Z"
   },
   {
    "duration": 6,
    "start_time": "2021-11-23T19:59:34.603Z"
   },
   {
    "duration": 7,
    "start_time": "2021-11-23T19:59:34.611Z"
   },
   {
    "duration": 7,
    "start_time": "2021-11-23T19:59:34.620Z"
   },
   {
    "duration": 10,
    "start_time": "2021-11-23T19:59:34.629Z"
   },
   {
    "duration": 5,
    "start_time": "2021-11-23T19:59:34.641Z"
   },
   {
    "duration": 7,
    "start_time": "2021-11-23T19:59:34.647Z"
   },
   {
    "duration": 36,
    "start_time": "2021-11-23T19:59:34.655Z"
   },
   {
    "duration": 6,
    "start_time": "2021-11-23T19:59:34.693Z"
   },
   {
    "duration": 11,
    "start_time": "2021-11-23T19:59:34.701Z"
   },
   {
    "duration": 7,
    "start_time": "2021-11-23T19:59:34.713Z"
   },
   {
    "duration": 17,
    "start_time": "2021-11-23T19:59:34.721Z"
   },
   {
    "duration": 539,
    "start_time": "2021-11-23T20:01:03.698Z"
   },
   {
    "duration": 48,
    "start_time": "2021-11-23T20:01:04.239Z"
   },
   {
    "duration": 16,
    "start_time": "2021-11-23T20:01:04.288Z"
   },
   {
    "duration": 11,
    "start_time": "2021-11-23T20:01:04.306Z"
   },
   {
    "duration": 17,
    "start_time": "2021-11-23T20:01:04.318Z"
   },
   {
    "duration": 15,
    "start_time": "2021-11-23T20:01:04.337Z"
   },
   {
    "duration": 7,
    "start_time": "2021-11-23T20:01:04.353Z"
   },
   {
    "duration": 26,
    "start_time": "2021-11-23T20:01:04.362Z"
   },
   {
    "duration": 5,
    "start_time": "2021-11-23T20:01:04.390Z"
   },
   {
    "duration": 6,
    "start_time": "2021-11-23T20:01:04.396Z"
   },
   {
    "duration": 7,
    "start_time": "2021-11-23T20:01:04.403Z"
   },
   {
    "duration": 14,
    "start_time": "2021-11-23T20:01:04.412Z"
   },
   {
    "duration": 19,
    "start_time": "2021-11-23T20:01:04.428Z"
   },
   {
    "duration": 40,
    "start_time": "2021-11-23T20:01:04.449Z"
   },
   {
    "duration": 6,
    "start_time": "2021-11-23T20:01:04.490Z"
   },
   {
    "duration": 11,
    "start_time": "2021-11-23T20:01:04.498Z"
   },
   {
    "duration": 7,
    "start_time": "2021-11-23T20:01:04.511Z"
   },
   {
    "duration": 13,
    "start_time": "2021-11-23T20:01:04.519Z"
   },
   {
    "duration": 5,
    "start_time": "2021-11-23T20:01:04.533Z"
   },
   {
    "duration": 11,
    "start_time": "2021-11-23T20:01:04.539Z"
   },
   {
    "duration": 37,
    "start_time": "2021-11-23T20:01:04.552Z"
   },
   {
    "duration": 5,
    "start_time": "2021-11-23T20:01:43.263Z"
   },
   {
    "duration": 6,
    "start_time": "2021-11-23T20:02:11.850Z"
   },
   {
    "duration": 10,
    "start_time": "2021-11-23T20:02:29.575Z"
   },
   {
    "duration": 10,
    "start_time": "2021-11-23T20:02:30.495Z"
   },
   {
    "duration": 10,
    "start_time": "2021-11-23T20:02:31.077Z"
   },
   {
    "duration": 518,
    "start_time": "2021-11-23T20:03:18.219Z"
   },
   {
    "duration": 49,
    "start_time": "2021-11-23T20:03:18.739Z"
   },
   {
    "duration": 16,
    "start_time": "2021-11-23T20:03:18.790Z"
   },
   {
    "duration": 11,
    "start_time": "2021-11-23T20:03:18.807Z"
   },
   {
    "duration": 7,
    "start_time": "2021-11-23T20:03:18.820Z"
   },
   {
    "duration": 11,
    "start_time": "2021-11-23T20:03:18.829Z"
   },
   {
    "duration": 6,
    "start_time": "2021-11-23T20:03:18.841Z"
   },
   {
    "duration": 10,
    "start_time": "2021-11-23T20:03:18.849Z"
   },
   {
    "duration": 31,
    "start_time": "2021-11-23T20:03:18.860Z"
   },
   {
    "duration": 5,
    "start_time": "2021-11-23T20:03:18.893Z"
   },
   {
    "duration": 9,
    "start_time": "2021-11-23T20:03:18.899Z"
   },
   {
    "duration": 14,
    "start_time": "2021-11-23T20:03:18.909Z"
   },
   {
    "duration": 14,
    "start_time": "2021-11-23T20:03:18.925Z"
   },
   {
    "duration": 5,
    "start_time": "2021-11-23T20:03:18.940Z"
   },
   {
    "duration": 5,
    "start_time": "2021-11-23T20:03:18.946Z"
   },
   {
    "duration": 8,
    "start_time": "2021-11-23T20:03:18.988Z"
   },
   {
    "duration": 5,
    "start_time": "2021-11-23T20:03:18.998Z"
   },
   {
    "duration": 8,
    "start_time": "2021-11-23T20:03:19.005Z"
   },
   {
    "duration": 5,
    "start_time": "2021-11-23T20:03:19.015Z"
   },
   {
    "duration": 12,
    "start_time": "2021-11-23T20:03:19.021Z"
   },
   {
    "duration": 9,
    "start_time": "2021-11-23T20:03:19.035Z"
   },
   {
    "duration": 5,
    "start_time": "2021-11-23T20:03:19.045Z"
   },
   {
    "duration": 6,
    "start_time": "2021-11-23T20:05:48.406Z"
   },
   {
    "duration": 11,
    "start_time": "2021-11-23T20:07:14.157Z"
   },
   {
    "duration": 282,
    "start_time": "2021-11-23T20:07:32.989Z"
   },
   {
    "duration": 536,
    "start_time": "2021-11-23T20:08:00.748Z"
   },
   {
    "duration": 50,
    "start_time": "2021-11-23T20:08:01.285Z"
   },
   {
    "duration": 17,
    "start_time": "2021-11-23T20:08:01.337Z"
   },
   {
    "duration": 22,
    "start_time": "2021-11-23T20:08:01.356Z"
   },
   {
    "duration": 8,
    "start_time": "2021-11-23T20:08:01.380Z"
   },
   {
    "duration": 15,
    "start_time": "2021-11-23T20:08:01.390Z"
   },
   {
    "duration": 7,
    "start_time": "2021-11-23T20:08:01.407Z"
   },
   {
    "duration": 21,
    "start_time": "2021-11-23T20:08:01.417Z"
   },
   {
    "duration": 10,
    "start_time": "2021-11-23T20:08:01.440Z"
   },
   {
    "duration": 14,
    "start_time": "2021-11-23T20:08:01.452Z"
   },
   {
    "duration": 25,
    "start_time": "2021-11-23T20:08:01.467Z"
   },
   {
    "duration": 25,
    "start_time": "2021-11-23T20:08:01.494Z"
   },
   {
    "duration": 14,
    "start_time": "2021-11-23T20:08:01.520Z"
   },
   {
    "duration": 10,
    "start_time": "2021-11-23T20:08:01.536Z"
   },
   {
    "duration": 15,
    "start_time": "2021-11-23T20:08:01.548Z"
   },
   {
    "duration": 15,
    "start_time": "2021-11-23T20:08:01.565Z"
   },
   {
    "duration": 21,
    "start_time": "2021-11-23T20:08:01.581Z"
   },
   {
    "duration": 24,
    "start_time": "2021-11-23T20:08:01.604Z"
   },
   {
    "duration": 18,
    "start_time": "2021-11-23T20:08:01.630Z"
   },
   {
    "duration": 17,
    "start_time": "2021-11-23T20:08:01.649Z"
   },
   {
    "duration": 17,
    "start_time": "2021-11-23T20:08:01.667Z"
   },
   {
    "duration": 11,
    "start_time": "2021-11-23T20:08:01.686Z"
   },
   {
    "duration": 28,
    "start_time": "2021-11-23T20:08:01.700Z"
   },
   {
    "duration": 531,
    "start_time": "2021-11-23T20:16:31.210Z"
   },
   {
    "duration": 49,
    "start_time": "2021-11-23T20:16:31.742Z"
   },
   {
    "duration": 17,
    "start_time": "2021-11-23T20:16:31.792Z"
   },
   {
    "duration": 11,
    "start_time": "2021-11-23T20:16:31.810Z"
   },
   {
    "duration": 8,
    "start_time": "2021-11-23T20:16:31.823Z"
   },
   {
    "duration": 20,
    "start_time": "2021-11-23T20:16:31.832Z"
   },
   {
    "duration": 6,
    "start_time": "2021-11-23T20:16:31.854Z"
   },
   {
    "duration": 32,
    "start_time": "2021-11-23T20:16:31.862Z"
   },
   {
    "duration": 8,
    "start_time": "2021-11-23T20:16:31.895Z"
   },
   {
    "duration": 8,
    "start_time": "2021-11-23T20:16:31.905Z"
   },
   {
    "duration": 8,
    "start_time": "2021-11-23T20:16:31.915Z"
   },
   {
    "duration": 15,
    "start_time": "2021-11-23T20:16:31.924Z"
   },
   {
    "duration": 15,
    "start_time": "2021-11-23T20:16:31.940Z"
   },
   {
    "duration": 34,
    "start_time": "2021-11-23T20:16:31.956Z"
   },
   {
    "duration": 5,
    "start_time": "2021-11-23T20:16:31.992Z"
   },
   {
    "duration": 9,
    "start_time": "2021-11-23T20:16:31.998Z"
   },
   {
    "duration": 3,
    "start_time": "2021-11-23T20:16:32.009Z"
   },
   {
    "duration": 12,
    "start_time": "2021-11-23T20:16:32.014Z"
   },
   {
    "duration": 7,
    "start_time": "2021-11-23T20:16:46.876Z"
   },
   {
    "duration": 5,
    "start_time": "2021-11-23T20:16:49.966Z"
   },
   {
    "duration": 5,
    "start_time": "2021-11-23T20:16:51.979Z"
   },
   {
    "duration": 5,
    "start_time": "2021-11-23T20:16:56.933Z"
   },
   {
    "duration": 5,
    "start_time": "2021-11-23T20:17:15.614Z"
   },
   {
    "duration": 7,
    "start_time": "2021-11-23T20:17:17.349Z"
   },
   {
    "duration": 3,
    "start_time": "2021-11-23T20:17:22.365Z"
   },
   {
    "duration": 9,
    "start_time": "2021-11-23T20:17:26.643Z"
   },
   {
    "duration": 11,
    "start_time": "2021-11-23T20:17:29.148Z"
   },
   {
    "duration": 15,
    "start_time": "2021-11-23T20:17:31.084Z"
   },
   {
    "duration": 5,
    "start_time": "2021-11-23T20:17:36.116Z"
   },
   {
    "duration": 9,
    "start_time": "2021-11-23T20:22:03.653Z"
   },
   {
    "duration": 12,
    "start_time": "2021-11-23T20:22:15.013Z"
   },
   {
    "duration": 8,
    "start_time": "2021-11-23T20:23:53.478Z"
   },
   {
    "duration": 11,
    "start_time": "2021-11-23T20:26:38.517Z"
   },
   {
    "duration": 8,
    "start_time": "2021-11-23T20:26:40.022Z"
   },
   {
    "duration": 5,
    "start_time": "2021-11-23T20:27:32.887Z"
   },
   {
    "duration": 10,
    "start_time": "2021-11-23T20:27:53.486Z"
   },
   {
    "duration": 7,
    "start_time": "2021-11-23T20:28:01.976Z"
   },
   {
    "duration": 6,
    "start_time": "2021-11-23T20:28:02.981Z"
   },
   {
    "duration": 6,
    "start_time": "2021-11-23T20:28:03.452Z"
   },
   {
    "duration": 7,
    "start_time": "2021-11-23T20:28:03.789Z"
   },
   {
    "duration": 6,
    "start_time": "2021-11-23T20:28:04.197Z"
   },
   {
    "duration": 564,
    "start_time": "2021-11-23T20:29:26.582Z"
   },
   {
    "duration": 50,
    "start_time": "2021-11-23T20:29:27.148Z"
   },
   {
    "duration": 17,
    "start_time": "2021-11-23T20:29:27.199Z"
   },
   {
    "duration": 11,
    "start_time": "2021-11-23T20:29:27.218Z"
   },
   {
    "duration": 15,
    "start_time": "2021-11-23T20:29:27.231Z"
   },
   {
    "duration": 12,
    "start_time": "2021-11-23T20:29:27.247Z"
   },
   {
    "duration": 27,
    "start_time": "2021-11-23T20:29:27.261Z"
   },
   {
    "duration": 7,
    "start_time": "2021-11-23T20:29:27.290Z"
   },
   {
    "duration": 8,
    "start_time": "2021-11-23T20:29:27.299Z"
   },
   {
    "duration": 5,
    "start_time": "2021-11-23T20:29:27.309Z"
   },
   {
    "duration": 9,
    "start_time": "2021-11-23T20:29:27.315Z"
   },
   {
    "duration": 14,
    "start_time": "2021-11-23T20:29:27.326Z"
   },
   {
    "duration": 14,
    "start_time": "2021-11-23T20:29:27.342Z"
   },
   {
    "duration": 6,
    "start_time": "2021-11-23T20:29:27.387Z"
   },
   {
    "duration": 9,
    "start_time": "2021-11-23T20:29:27.394Z"
   },
   {
    "duration": 7,
    "start_time": "2021-11-23T20:29:27.405Z"
   },
   {
    "duration": 4,
    "start_time": "2021-11-23T20:29:27.414Z"
   },
   {
    "duration": 11,
    "start_time": "2021-11-23T20:29:27.419Z"
   },
   {
    "duration": 7,
    "start_time": "2021-11-23T20:29:27.431Z"
   },
   {
    "duration": 4,
    "start_time": "2021-11-23T20:29:27.439Z"
   },
   {
    "duration": 5,
    "start_time": "2021-11-23T20:29:27.444Z"
   },
   {
    "duration": 37,
    "start_time": "2021-11-23T20:29:27.451Z"
   },
   {
    "duration": 5,
    "start_time": "2021-11-23T20:29:27.491Z"
   },
   {
    "duration": 7,
    "start_time": "2021-11-23T20:29:27.497Z"
   },
   {
    "duration": 3,
    "start_time": "2021-11-23T20:29:27.506Z"
   },
   {
    "duration": 11,
    "start_time": "2021-11-23T20:29:27.510Z"
   },
   {
    "duration": 11,
    "start_time": "2021-11-23T20:29:27.522Z"
   },
   {
    "duration": 13,
    "start_time": "2021-11-23T20:29:27.534Z"
   },
   {
    "duration": 5,
    "start_time": "2021-11-23T20:29:27.549Z"
   },
   {
    "duration": 35,
    "start_time": "2021-11-23T20:29:27.555Z"
   },
   {
    "duration": 4,
    "start_time": "2021-11-23T20:29:27.591Z"
   },
   {
    "duration": 10,
    "start_time": "2021-11-23T20:29:27.597Z"
   },
   {
    "duration": 6,
    "start_time": "2021-11-23T20:29:27.608Z"
   },
   {
    "duration": 11,
    "start_time": "2021-11-23T20:29:27.615Z"
   },
   {
    "duration": 7,
    "start_time": "2021-11-23T20:30:06.880Z"
   },
   {
    "duration": 4,
    "start_time": "2021-11-23T20:43:30.434Z"
   },
   {
    "duration": 3,
    "start_time": "2021-11-23T20:45:47.329Z"
   },
   {
    "duration": 3,
    "start_time": "2021-11-23T20:49:20.987Z"
   },
   {
    "duration": 3,
    "start_time": "2021-11-23T20:49:39.707Z"
   },
   {
    "duration": 513,
    "start_time": "2021-11-23T20:49:55.674Z"
   },
   {
    "duration": 3,
    "start_time": "2021-11-23T20:50:36.612Z"
   },
   {
    "duration": 9,
    "start_time": "2021-11-23T20:50:38.852Z"
   },
   {
    "duration": 9,
    "start_time": "2021-11-23T20:50:57.715Z"
   },
   {
    "duration": 10,
    "start_time": "2021-11-23T20:51:05.122Z"
   },
   {
    "duration": 11,
    "start_time": "2021-11-23T20:51:10.514Z"
   },
   {
    "duration": 8,
    "start_time": "2021-11-23T20:51:18.048Z"
   },
   {
    "duration": 4,
    "start_time": "2021-11-23T20:55:39.979Z"
   },
   {
    "duration": 4,
    "start_time": "2021-11-23T20:56:20.677Z"
   },
   {
    "duration": 30,
    "start_time": "2021-11-23T20:56:41.229Z"
   },
   {
    "duration": 9,
    "start_time": "2021-11-23T20:57:05.485Z"
   },
   {
    "duration": 513,
    "start_time": "2021-11-23T20:59:19.927Z"
   },
   {
    "duration": 48,
    "start_time": "2021-11-23T20:59:20.441Z"
   },
   {
    "duration": 17,
    "start_time": "2021-11-23T20:59:20.491Z"
   },
   {
    "duration": 9,
    "start_time": "2021-11-23T20:59:20.510Z"
   },
   {
    "duration": 10,
    "start_time": "2021-11-23T20:59:20.520Z"
   },
   {
    "duration": 14,
    "start_time": "2021-11-23T20:59:20.531Z"
   },
   {
    "duration": 7,
    "start_time": "2021-11-23T20:59:20.546Z"
   },
   {
    "duration": 35,
    "start_time": "2021-11-23T20:59:20.557Z"
   },
   {
    "duration": 6,
    "start_time": "2021-11-23T20:59:20.594Z"
   },
   {
    "duration": 6,
    "start_time": "2021-11-23T20:59:20.601Z"
   },
   {
    "duration": 10,
    "start_time": "2021-11-23T20:59:20.609Z"
   },
   {
    "duration": 14,
    "start_time": "2021-11-23T20:59:20.621Z"
   },
   {
    "duration": 15,
    "start_time": "2021-11-23T20:59:20.637Z"
   },
   {
    "duration": 5,
    "start_time": "2021-11-23T20:59:20.688Z"
   },
   {
    "duration": 5,
    "start_time": "2021-11-23T20:59:20.694Z"
   },
   {
    "duration": 7,
    "start_time": "2021-11-23T20:59:20.701Z"
   },
   {
    "duration": 4,
    "start_time": "2021-11-23T20:59:20.709Z"
   },
   {
    "duration": 15,
    "start_time": "2021-11-23T20:59:20.715Z"
   },
   {
    "duration": 13,
    "start_time": "2021-11-23T20:59:20.731Z"
   },
   {
    "duration": 5,
    "start_time": "2021-11-23T20:59:20.745Z"
   },
   {
    "duration": 5,
    "start_time": "2021-11-23T20:59:20.752Z"
   },
   {
    "duration": 33,
    "start_time": "2021-11-23T20:59:20.758Z"
   },
   {
    "duration": 9,
    "start_time": "2021-11-23T20:59:20.794Z"
   },
   {
    "duration": 7,
    "start_time": "2021-11-23T20:59:20.804Z"
   },
   {
    "duration": 3,
    "start_time": "2021-11-23T20:59:20.813Z"
   },
   {
    "duration": 8,
    "start_time": "2021-11-23T20:59:20.818Z"
   },
   {
    "duration": 13,
    "start_time": "2021-11-23T20:59:20.827Z"
   },
   {
    "duration": 11,
    "start_time": "2021-11-23T20:59:20.842Z"
   },
   {
    "duration": 5,
    "start_time": "2021-11-23T20:59:20.855Z"
   },
   {
    "duration": 7,
    "start_time": "2021-11-23T20:59:20.888Z"
   },
   {
    "duration": 4,
    "start_time": "2021-11-23T20:59:20.897Z"
   },
   {
    "duration": 13,
    "start_time": "2021-11-23T20:59:20.902Z"
   },
   {
    "duration": 3,
    "start_time": "2021-11-23T20:59:20.917Z"
   },
   {
    "duration": 77,
    "start_time": "2021-11-23T20:59:20.922Z"
   },
   {
    "duration": -901,
    "start_time": "2021-11-23T20:59:21.902Z"
   },
   {
    "duration": -906,
    "start_time": "2021-11-23T20:59:21.908Z"
   },
   {
    "duration": 3,
    "start_time": "2021-11-23T20:59:36.975Z"
   },
   {
    "duration": 29,
    "start_time": "2021-11-23T20:59:40.864Z"
   },
   {
    "duration": 9,
    "start_time": "2021-11-23T20:59:45.953Z"
   },
   {
    "duration": 660,
    "start_time": "2021-11-23T21:00:05.470Z"
   },
   {
    "duration": 49,
    "start_time": "2021-11-23T21:00:06.132Z"
   },
   {
    "duration": 17,
    "start_time": "2021-11-23T21:00:06.183Z"
   },
   {
    "duration": 14,
    "start_time": "2021-11-23T21:00:06.204Z"
   },
   {
    "duration": 34,
    "start_time": "2021-11-23T21:00:06.220Z"
   },
   {
    "duration": 12,
    "start_time": "2021-11-23T21:00:06.256Z"
   },
   {
    "duration": 8,
    "start_time": "2021-11-23T21:00:06.270Z"
   },
   {
    "duration": 20,
    "start_time": "2021-11-23T21:00:06.282Z"
   },
   {
    "duration": 19,
    "start_time": "2021-11-23T21:00:06.304Z"
   },
   {
    "duration": 35,
    "start_time": "2021-11-23T21:00:06.325Z"
   },
   {
    "duration": 69,
    "start_time": "2021-11-23T21:00:06.361Z"
   },
   {
    "duration": 37,
    "start_time": "2021-11-23T21:00:06.432Z"
   },
   {
    "duration": 75,
    "start_time": "2021-11-23T21:00:06.470Z"
   },
   {
    "duration": 24,
    "start_time": "2021-11-23T21:00:06.547Z"
   },
   {
    "duration": 62,
    "start_time": "2021-11-23T21:00:06.572Z"
   },
   {
    "duration": 53,
    "start_time": "2021-11-23T21:00:06.636Z"
   },
   {
    "duration": 25,
    "start_time": "2021-11-23T21:00:06.690Z"
   },
   {
    "duration": 59,
    "start_time": "2021-11-23T21:00:06.717Z"
   },
   {
    "duration": 34,
    "start_time": "2021-11-23T21:00:06.778Z"
   },
   {
    "duration": 30,
    "start_time": "2021-11-23T21:00:06.813Z"
   },
   {
    "duration": 29,
    "start_time": "2021-11-23T21:00:06.844Z"
   },
   {
    "duration": 19,
    "start_time": "2021-11-23T21:00:06.874Z"
   },
   {
    "duration": 25,
    "start_time": "2021-11-23T21:00:06.895Z"
   },
   {
    "duration": 11,
    "start_time": "2021-11-23T21:00:06.921Z"
   },
   {
    "duration": 4,
    "start_time": "2021-11-23T21:00:06.933Z"
   },
   {
    "duration": 11,
    "start_time": "2021-11-23T21:00:06.939Z"
   },
   {
    "duration": 23,
    "start_time": "2021-11-23T21:00:06.952Z"
   },
   {
    "duration": 16,
    "start_time": "2021-11-23T21:00:06.977Z"
   },
   {
    "duration": 5,
    "start_time": "2021-11-23T21:00:06.995Z"
   },
   {
    "duration": 7,
    "start_time": "2021-11-23T21:00:07.002Z"
   },
   {
    "duration": 5,
    "start_time": "2021-11-23T21:00:07.010Z"
   },
   {
    "duration": 19,
    "start_time": "2021-11-23T21:00:07.017Z"
   },
   {
    "duration": 4,
    "start_time": "2021-11-23T21:00:07.038Z"
   },
   {
    "duration": 10,
    "start_time": "2021-11-23T21:00:07.043Z"
   },
   {
    "duration": 56,
    "start_time": "2021-11-23T21:00:07.054Z"
   },
   {
    "duration": 8,
    "start_time": "2021-11-23T21:00:07.112Z"
   },
   {
    "duration": 577,
    "start_time": "2021-11-23T21:16:32.680Z"
   },
   {
    "duration": 50,
    "start_time": "2021-11-23T21:16:33.259Z"
   },
   {
    "duration": 18,
    "start_time": "2021-11-23T21:16:33.311Z"
   },
   {
    "duration": 13,
    "start_time": "2021-11-23T21:16:33.330Z"
   },
   {
    "duration": 10,
    "start_time": "2021-11-23T21:16:33.344Z"
   },
   {
    "duration": 36,
    "start_time": "2021-11-23T21:16:33.356Z"
   },
   {
    "duration": 7,
    "start_time": "2021-11-23T21:16:33.394Z"
   },
   {
    "duration": 8,
    "start_time": "2021-11-23T21:16:33.403Z"
   },
   {
    "duration": 6,
    "start_time": "2021-11-23T21:16:33.412Z"
   },
   {
    "duration": 5,
    "start_time": "2021-11-23T21:16:33.420Z"
   },
   {
    "duration": 11,
    "start_time": "2021-11-23T21:16:33.426Z"
   },
   {
    "duration": 15,
    "start_time": "2021-11-23T21:16:33.439Z"
   },
   {
    "duration": 17,
    "start_time": "2021-11-23T21:16:33.487Z"
   },
   {
    "duration": 4,
    "start_time": "2021-11-23T21:16:33.506Z"
   },
   {
    "duration": 5,
    "start_time": "2021-11-23T21:16:33.512Z"
   },
   {
    "duration": 8,
    "start_time": "2021-11-23T21:16:33.518Z"
   },
   {
    "duration": 4,
    "start_time": "2021-11-23T21:16:33.527Z"
   },
   {
    "duration": 14,
    "start_time": "2021-11-23T21:16:33.533Z"
   },
   {
    "duration": 41,
    "start_time": "2021-11-23T21:16:33.548Z"
   },
   {
    "duration": 5,
    "start_time": "2021-11-23T21:16:33.591Z"
   },
   {
    "duration": 6,
    "start_time": "2021-11-23T21:16:33.597Z"
   },
   {
    "duration": 7,
    "start_time": "2021-11-23T21:16:33.605Z"
   },
   {
    "duration": 5,
    "start_time": "2021-11-23T21:16:33.615Z"
   },
   {
    "duration": 6,
    "start_time": "2021-11-23T21:16:33.622Z"
   },
   {
    "duration": 3,
    "start_time": "2021-11-23T21:16:33.630Z"
   },
   {
    "duration": 10,
    "start_time": "2021-11-23T21:16:33.634Z"
   },
   {
    "duration": 15,
    "start_time": "2021-11-23T21:16:33.646Z"
   },
   {
    "duration": 14,
    "start_time": "2021-11-23T21:16:33.687Z"
   },
   {
    "duration": 6,
    "start_time": "2021-11-23T21:16:33.702Z"
   },
   {
    "duration": 8,
    "start_time": "2021-11-23T21:16:33.709Z"
   },
   {
    "duration": 4,
    "start_time": "2021-11-23T21:16:33.718Z"
   },
   {
    "duration": 11,
    "start_time": "2021-11-23T21:16:33.723Z"
   },
   {
    "duration": 4,
    "start_time": "2021-11-23T21:16:33.735Z"
   },
   {
    "duration": 5,
    "start_time": "2021-11-23T21:16:33.740Z"
   },
   {
    "duration": 67,
    "start_time": "2021-11-23T21:16:33.747Z"
   },
   {
    "duration": 9,
    "start_time": "2021-11-23T21:16:33.815Z"
   },
   {
    "duration": 978,
    "start_time": "2021-11-23T21:17:05.123Z"
   },
   {
    "duration": 49,
    "start_time": "2021-11-23T21:17:06.103Z"
   },
   {
    "duration": 19,
    "start_time": "2021-11-23T21:17:06.154Z"
   },
   {
    "duration": 34,
    "start_time": "2021-11-23T21:17:06.174Z"
   },
   {
    "duration": 15,
    "start_time": "2021-11-23T21:17:06.210Z"
   },
   {
    "duration": 37,
    "start_time": "2021-11-23T21:17:06.227Z"
   },
   {
    "duration": 20,
    "start_time": "2021-11-23T21:17:06.265Z"
   },
   {
    "duration": 14,
    "start_time": "2021-11-23T21:17:06.288Z"
   },
   {
    "duration": 28,
    "start_time": "2021-11-23T21:17:06.304Z"
   },
   {
    "duration": 15,
    "start_time": "2021-11-23T21:17:06.334Z"
   },
   {
    "duration": 33,
    "start_time": "2021-11-23T21:17:06.351Z"
   },
   {
    "duration": 36,
    "start_time": "2021-11-23T21:17:06.386Z"
   },
   {
    "duration": 15,
    "start_time": "2021-11-23T21:17:06.424Z"
   },
   {
    "duration": 21,
    "start_time": "2021-11-23T21:17:06.441Z"
   },
   {
    "duration": 30,
    "start_time": "2021-11-23T21:17:06.463Z"
   },
   {
    "duration": 26,
    "start_time": "2021-11-23T21:17:06.494Z"
   },
   {
    "duration": 28,
    "start_time": "2021-11-23T21:17:06.521Z"
   },
   {
    "duration": 27,
    "start_time": "2021-11-23T21:17:06.551Z"
   },
   {
    "duration": 24,
    "start_time": "2021-11-23T21:17:06.579Z"
   },
   {
    "duration": 32,
    "start_time": "2021-11-23T21:17:06.605Z"
   },
   {
    "duration": 11,
    "start_time": "2021-11-23T21:17:06.638Z"
   },
   {
    "duration": 32,
    "start_time": "2021-11-23T21:17:06.651Z"
   },
   {
    "duration": 31,
    "start_time": "2021-11-23T21:17:06.685Z"
   },
   {
    "duration": 18,
    "start_time": "2021-11-23T21:17:06.718Z"
   },
   {
    "duration": 25,
    "start_time": "2021-11-23T21:17:06.737Z"
   },
   {
    "duration": 29,
    "start_time": "2021-11-23T21:17:06.764Z"
   },
   {
    "duration": 46,
    "start_time": "2021-11-23T21:17:06.794Z"
   },
   {
    "duration": 32,
    "start_time": "2021-11-23T21:17:06.842Z"
   },
   {
    "duration": 13,
    "start_time": "2021-11-23T21:17:06.876Z"
   },
   {
    "duration": 39,
    "start_time": "2021-11-23T21:17:06.890Z"
   },
   {
    "duration": 38,
    "start_time": "2021-11-23T21:17:06.931Z"
   },
   {
    "duration": 40,
    "start_time": "2021-11-23T21:17:06.970Z"
   },
   {
    "duration": 18,
    "start_time": "2021-11-23T21:17:07.012Z"
   },
   {
    "duration": 34,
    "start_time": "2021-11-23T21:17:07.032Z"
   },
   {
    "duration": 58,
    "start_time": "2021-11-23T21:17:07.067Z"
   },
   {
    "duration": 17,
    "start_time": "2021-11-23T21:17:07.127Z"
   },
   {
    "duration": 4,
    "start_time": "2021-11-23T21:33:20.772Z"
   },
   {
    "duration": 6,
    "start_time": "2021-11-23T21:33:35.795Z"
   },
   {
    "duration": 3,
    "start_time": "2021-11-23T21:42:25.166Z"
   },
   {
    "duration": 8,
    "start_time": "2021-11-23T21:44:32.049Z"
   },
   {
    "duration": 4,
    "start_time": "2021-11-23T21:44:52.839Z"
   },
   {
    "duration": 5,
    "start_time": "2021-11-23T21:45:07.871Z"
   },
   {
    "duration": 5,
    "start_time": "2021-11-23T21:51:37.003Z"
   },
   {
    "duration": 14,
    "start_time": "2021-11-23T21:55:36.140Z"
   },
   {
    "duration": 5,
    "start_time": "2021-11-23T21:55:50.474Z"
   },
   {
    "duration": 5,
    "start_time": "2021-11-23T21:57:18.866Z"
   },
   {
    "duration": 6,
    "start_time": "2021-11-23T21:57:25.547Z"
   },
   {
    "duration": 11,
    "start_time": "2021-11-23T21:58:31.403Z"
   },
   {
    "duration": 8,
    "start_time": "2021-11-23T22:00:16.230Z"
   },
   {
    "duration": 7,
    "start_time": "2021-11-23T22:00:24.915Z"
   },
   {
    "duration": 84,
    "start_time": "2021-11-23T22:03:22.869Z"
   },
   {
    "duration": 76,
    "start_time": "2021-11-23T22:04:10.076Z"
   },
   {
    "duration": 78,
    "start_time": "2021-11-23T22:05:03.653Z"
   },
   {
    "duration": 11,
    "start_time": "2021-11-23T22:05:23.101Z"
   },
   {
    "duration": 11,
    "start_time": "2021-11-23T22:05:32.717Z"
   },
   {
    "duration": 7,
    "start_time": "2021-11-23T22:10:03.487Z"
   },
   {
    "duration": 8,
    "start_time": "2021-11-23T22:10:38.694Z"
   },
   {
    "duration": 4,
    "start_time": "2021-11-23T22:11:43.276Z"
   },
   {
    "duration": 5,
    "start_time": "2021-11-23T22:19:02.561Z"
   },
   {
    "duration": 14,
    "start_time": "2021-11-23T22:20:27.251Z"
   },
   {
    "duration": 15,
    "start_time": "2021-11-23T22:21:31.362Z"
   },
   {
    "duration": 4,
    "start_time": "2021-11-23T22:21:37.338Z"
   },
   {
    "duration": 19,
    "start_time": "2021-11-23T22:22:54.225Z"
   },
   {
    "duration": 11,
    "start_time": "2021-11-23T22:28:03.324Z"
   },
   {
    "duration": 294,
    "start_time": "2021-11-23T22:55:19.124Z"
   },
   {
    "duration": 5,
    "start_time": "2021-11-23T22:55:23.979Z"
   },
   {
    "duration": 5,
    "start_time": "2021-11-23T22:55:59.914Z"
   },
   {
    "duration": 270,
    "start_time": "2021-11-23T22:56:25.619Z"
   },
   {
    "duration": 6,
    "start_time": "2021-11-23T23:00:02.108Z"
   },
   {
    "duration": 4,
    "start_time": "2021-11-23T23:00:54.973Z"
   },
   {
    "duration": 4,
    "start_time": "2021-11-23T23:01:02.757Z"
   },
   {
    "duration": 10,
    "start_time": "2021-11-23T23:01:16.045Z"
   },
   {
    "duration": 5,
    "start_time": "2021-11-23T23:01:32.127Z"
   },
   {
    "duration": 10,
    "start_time": "2021-11-23T23:03:45.197Z"
   },
   {
    "duration": 7,
    "start_time": "2021-11-23T23:49:20.123Z"
   },
   {
    "duration": 11,
    "start_time": "2021-11-23T23:50:22.608Z"
   },
   {
    "duration": 11,
    "start_time": "2021-11-23T23:50:40.418Z"
   },
   {
    "duration": 11,
    "start_time": "2021-11-23T23:51:06.220Z"
   },
   {
    "duration": 11,
    "start_time": "2021-11-23T23:54:11.779Z"
   },
   {
    "duration": 11,
    "start_time": "2021-11-23T23:54:30.914Z"
   },
   {
    "duration": 163,
    "start_time": "2021-11-23T23:56:15.749Z"
   },
   {
    "duration": 11,
    "start_time": "2021-11-23T23:56:21.603Z"
   },
   {
    "duration": 12,
    "start_time": "2021-11-23T23:57:33.125Z"
   },
   {
    "duration": 10,
    "start_time": "2021-11-24T00:01:29.212Z"
   },
   {
    "duration": 277,
    "start_time": "2021-11-24T00:06:41.918Z"
   },
   {
    "duration": 12,
    "start_time": "2021-11-24T00:07:14.808Z"
   },
   {
    "duration": 10,
    "start_time": "2021-11-24T00:07:20.938Z"
   },
   {
    "duration": 17,
    "start_time": "2021-11-24T00:08:05.312Z"
   },
   {
    "duration": 20,
    "start_time": "2021-11-24T00:14:03.220Z"
   },
   {
    "duration": 12,
    "start_time": "2021-11-24T00:14:18.926Z"
   },
   {
    "duration": 14,
    "start_time": "2021-11-24T00:14:24.239Z"
   },
   {
    "duration": 11,
    "start_time": "2021-11-24T00:14:45.321Z"
   },
   {
    "duration": 852,
    "start_time": "2021-11-24T13:36:31.937Z"
   },
   {
    "duration": 66,
    "start_time": "2021-11-24T13:36:32.792Z"
   },
   {
    "duration": 33,
    "start_time": "2021-11-24T13:36:32.861Z"
   },
   {
    "duration": 15,
    "start_time": "2021-11-24T13:36:32.897Z"
   },
   {
    "duration": 13,
    "start_time": "2021-11-24T13:36:32.914Z"
   },
   {
    "duration": 55,
    "start_time": "2021-11-24T13:36:32.929Z"
   },
   {
    "duration": 14,
    "start_time": "2021-11-24T13:36:32.987Z"
   },
   {
    "duration": 15,
    "start_time": "2021-11-24T13:36:33.005Z"
   },
   {
    "duration": 10,
    "start_time": "2021-11-24T13:36:33.023Z"
   },
   {
    "duration": 39,
    "start_time": "2021-11-24T13:36:33.035Z"
   },
   {
    "duration": 15,
    "start_time": "2021-11-24T13:36:33.076Z"
   },
   {
    "duration": 27,
    "start_time": "2021-11-24T13:36:33.093Z"
   },
   {
    "duration": 66,
    "start_time": "2021-11-24T13:36:33.122Z"
   },
   {
    "duration": 8,
    "start_time": "2021-11-24T13:36:33.190Z"
   },
   {
    "duration": 21,
    "start_time": "2021-11-24T13:36:33.200Z"
   },
   {
    "duration": 13,
    "start_time": "2021-11-24T13:36:33.224Z"
   },
   {
    "duration": 36,
    "start_time": "2021-11-24T13:36:33.239Z"
   },
   {
    "duration": 26,
    "start_time": "2021-11-24T13:36:33.278Z"
   },
   {
    "duration": 13,
    "start_time": "2021-11-24T13:36:33.307Z"
   },
   {
    "duration": 44,
    "start_time": "2021-11-24T13:36:33.323Z"
   },
   {
    "duration": 9,
    "start_time": "2021-11-24T13:36:33.370Z"
   },
   {
    "duration": 11,
    "start_time": "2021-11-24T13:36:33.381Z"
   },
   {
    "duration": 9,
    "start_time": "2021-11-24T13:36:33.399Z"
   },
   {
    "duration": 62,
    "start_time": "2021-11-24T13:36:33.413Z"
   },
   {
    "duration": 6,
    "start_time": "2021-11-24T13:36:33.478Z"
   },
   {
    "duration": 17,
    "start_time": "2021-11-24T13:36:33.488Z"
   },
   {
    "duration": 26,
    "start_time": "2021-11-24T13:36:33.508Z"
   },
   {
    "duration": 57,
    "start_time": "2021-11-24T13:36:33.536Z"
   },
   {
    "duration": 10,
    "start_time": "2021-11-24T13:36:33.596Z"
   },
   {
    "duration": 12,
    "start_time": "2021-11-24T13:36:33.609Z"
   },
   {
    "duration": 50,
    "start_time": "2021-11-24T13:36:33.623Z"
   },
   {
    "duration": 24,
    "start_time": "2021-11-24T13:36:33.675Z"
   },
   {
    "duration": 13,
    "start_time": "2021-11-24T13:36:33.702Z"
   },
   {
    "duration": 11,
    "start_time": "2021-11-24T13:36:33.717Z"
   },
   {
    "duration": 74,
    "start_time": "2021-11-24T13:36:33.731Z"
   },
   {
    "duration": 13,
    "start_time": "2021-11-24T13:36:33.807Z"
   },
   {
    "duration": 8,
    "start_time": "2021-11-24T13:36:33.823Z"
   },
   {
    "duration": 33,
    "start_time": "2021-11-24T13:36:33.834Z"
   },
   {
    "duration": 13,
    "start_time": "2021-11-24T13:36:33.870Z"
   },
   {
    "duration": 7,
    "start_time": "2021-11-24T13:36:33.886Z"
   },
   {
    "duration": 7,
    "start_time": "2021-11-24T13:36:33.895Z"
   },
   {
    "duration": 64,
    "start_time": "2021-11-24T13:36:33.904Z"
   },
   {
    "duration": 6,
    "start_time": "2021-11-24T13:36:33.970Z"
   },
   {
    "duration": 11,
    "start_time": "2021-11-24T13:36:33.978Z"
   },
   {
    "duration": 15,
    "start_time": "2021-11-24T13:36:33.992Z"
   },
   {
    "duration": 29,
    "start_time": "2021-11-24T13:36:34.010Z"
   },
   {
    "duration": 36,
    "start_time": "2021-11-24T13:36:34.041Z"
   },
   {
    "duration": 13,
    "start_time": "2021-11-24T13:36:34.080Z"
   },
   {
    "duration": 5,
    "start_time": "2021-11-24T13:36:34.096Z"
   },
   {
    "duration": 10,
    "start_time": "2021-11-24T13:36:34.104Z"
   },
   {
    "duration": 74,
    "start_time": "2021-11-24T13:36:34.116Z"
   },
   {
    "duration": 23,
    "start_time": "2021-11-24T13:36:34.196Z"
   },
   {
    "duration": 46,
    "start_time": "2021-11-24T13:36:34.222Z"
   },
   {
    "duration": 6,
    "start_time": "2021-11-24T13:36:34.271Z"
   },
   {
    "duration": 17,
    "start_time": "2021-11-24T13:36:34.279Z"
   },
   {
    "duration": 5,
    "start_time": "2021-11-24T13:36:34.298Z"
   },
   {
    "duration": 9,
    "start_time": "2021-11-24T13:36:34.306Z"
   },
   {
    "duration": 53,
    "start_time": "2021-11-24T13:36:34.317Z"
   },
   {
    "duration": 30,
    "start_time": "2021-11-24T13:36:34.372Z"
   },
   {
    "duration": 17,
    "start_time": "2021-11-24T13:36:34.404Z"
   },
   {
    "duration": 18,
    "start_time": "2021-11-24T13:36:34.424Z"
   },
   {
    "duration": 19,
    "start_time": "2021-11-24T13:36:34.468Z"
   },
   {
    "duration": 19,
    "start_time": "2021-11-24T13:36:34.489Z"
   },
   {
    "duration": 21,
    "start_time": "2021-11-24T13:36:34.510Z"
   },
   {
    "duration": 790,
    "start_time": "2021-11-24T13:46:42.906Z"
   },
   {
    "duration": 70,
    "start_time": "2021-11-24T13:46:43.699Z"
   },
   {
    "duration": 30,
    "start_time": "2021-11-24T13:46:43.774Z"
   },
   {
    "duration": 21,
    "start_time": "2021-11-24T13:46:43.807Z"
   },
   {
    "duration": 47,
    "start_time": "2021-11-24T13:46:43.831Z"
   },
   {
    "duration": 25,
    "start_time": "2021-11-24T13:46:43.882Z"
   },
   {
    "duration": 9,
    "start_time": "2021-11-24T13:46:43.911Z"
   },
   {
    "duration": 54,
    "start_time": "2021-11-24T13:46:43.923Z"
   },
   {
    "duration": 10,
    "start_time": "2021-11-24T13:46:43.980Z"
   },
   {
    "duration": 9,
    "start_time": "2021-11-24T13:46:43.992Z"
   },
   {
    "duration": 63,
    "start_time": "2021-11-24T13:46:44.004Z"
   },
   {
    "duration": 31,
    "start_time": "2021-11-24T13:46:44.070Z"
   },
   {
    "duration": 72,
    "start_time": "2021-11-24T13:46:44.104Z"
   },
   {
    "duration": 11,
    "start_time": "2021-11-24T13:46:44.179Z"
   },
   {
    "duration": 9,
    "start_time": "2021-11-24T13:46:44.194Z"
   },
   {
    "duration": 63,
    "start_time": "2021-11-24T13:46:44.206Z"
   },
   {
    "duration": 8,
    "start_time": "2021-11-24T13:46:44.272Z"
   },
   {
    "duration": 22,
    "start_time": "2021-11-24T13:46:44.283Z"
   },
   {
    "duration": 61,
    "start_time": "2021-11-24T13:46:44.307Z"
   },
   {
    "duration": 9,
    "start_time": "2021-11-24T13:46:44.372Z"
   },
   {
    "duration": 6,
    "start_time": "2021-11-24T13:46:44.393Z"
   },
   {
    "duration": 10,
    "start_time": "2021-11-24T13:46:44.405Z"
   },
   {
    "duration": 11,
    "start_time": "2021-11-24T13:46:44.469Z"
   },
   {
    "duration": 14,
    "start_time": "2021-11-24T13:46:44.483Z"
   },
   {
    "duration": 7,
    "start_time": "2021-11-24T13:46:44.501Z"
   },
   {
    "duration": 13,
    "start_time": "2021-11-24T13:46:44.567Z"
   },
   {
    "duration": 22,
    "start_time": "2021-11-24T13:46:44.583Z"
   },
   {
    "duration": 69,
    "start_time": "2021-11-24T13:46:44.608Z"
   },
   {
    "duration": 12,
    "start_time": "2021-11-24T13:46:44.680Z"
   },
   {
    "duration": 14,
    "start_time": "2021-11-24T13:46:44.695Z"
   },
   {
    "duration": 9,
    "start_time": "2021-11-24T13:46:44.712Z"
   },
   {
    "duration": 25,
    "start_time": "2021-11-24T13:46:44.769Z"
   },
   {
    "duration": 8,
    "start_time": "2021-11-24T13:46:44.797Z"
   },
   {
    "duration": 7,
    "start_time": "2021-11-24T13:46:44.808Z"
   },
   {
    "duration": 55,
    "start_time": "2021-11-24T13:46:44.869Z"
   },
   {
    "duration": 47,
    "start_time": "2021-11-24T13:46:44.927Z"
   },
   {
    "duration": 11,
    "start_time": "2021-11-24T13:46:44.977Z"
   },
   {
    "duration": 4,
    "start_time": "2021-11-24T13:46:44.991Z"
   },
   {
    "duration": 18,
    "start_time": "2021-11-24T13:46:44.997Z"
   },
   {
    "duration": 53,
    "start_time": "2021-11-24T13:46:45.018Z"
   },
   {
    "duration": 12,
    "start_time": "2021-11-24T13:46:45.073Z"
   },
   {
    "duration": 29,
    "start_time": "2021-11-24T13:46:45.088Z"
   },
   {
    "duration": 5,
    "start_time": "2021-11-24T13:46:45.119Z"
   },
   {
    "duration": 45,
    "start_time": "2021-11-24T13:46:45.127Z"
   },
   {
    "duration": 10,
    "start_time": "2021-11-24T13:46:45.175Z"
   },
   {
    "duration": 24,
    "start_time": "2021-11-24T13:46:45.187Z"
   },
   {
    "duration": 64,
    "start_time": "2021-11-24T13:46:45.213Z"
   },
   {
    "duration": 12,
    "start_time": "2021-11-24T13:46:45.279Z"
   },
   {
    "duration": 8,
    "start_time": "2021-11-24T13:46:45.294Z"
   },
   {
    "duration": 11,
    "start_time": "2021-11-24T13:46:45.304Z"
   },
   {
    "duration": 64,
    "start_time": "2021-11-24T13:46:45.317Z"
   },
   {
    "duration": 5,
    "start_time": "2021-11-24T13:46:45.383Z"
   },
   {
    "duration": 32,
    "start_time": "2021-11-24T13:46:45.392Z"
   },
   {
    "duration": 7,
    "start_time": "2021-11-24T13:46:45.468Z"
   },
   {
    "duration": 13,
    "start_time": "2021-11-24T13:46:45.478Z"
   },
   {
    "duration": 6,
    "start_time": "2021-11-24T13:46:45.495Z"
   },
   {
    "duration": 9,
    "start_time": "2021-11-24T13:46:45.503Z"
   },
   {
    "duration": 74,
    "start_time": "2021-11-24T13:46:45.515Z"
   },
   {
    "duration": 24,
    "start_time": "2021-11-24T13:46:45.593Z"
   },
   {
    "duration": 55,
    "start_time": "2021-11-24T13:46:45.620Z"
   },
   {
    "duration": 21,
    "start_time": "2021-11-24T13:46:45.678Z"
   },
   {
    "duration": 24,
    "start_time": "2021-11-24T13:46:45.702Z"
   },
   {
    "duration": 23,
    "start_time": "2021-11-24T13:46:45.768Z"
   },
   {
    "duration": 23,
    "start_time": "2021-11-24T13:46:45.794Z"
   },
   {
    "duration": 3,
    "start_time": "2021-11-24T13:46:57.303Z"
   },
   {
    "duration": 72,
    "start_time": "2021-11-24T13:46:57.309Z"
   },
   {
    "duration": 19,
    "start_time": "2021-11-24T13:46:57.384Z"
   },
   {
    "duration": 16,
    "start_time": "2021-11-24T13:46:57.406Z"
   },
   {
    "duration": 49,
    "start_time": "2021-11-24T13:46:57.425Z"
   },
   {
    "duration": 22,
    "start_time": "2021-11-24T13:46:57.477Z"
   },
   {
    "duration": 12,
    "start_time": "2021-11-24T13:46:57.502Z"
   },
   {
    "duration": 14,
    "start_time": "2021-11-24T13:46:57.568Z"
   },
   {
    "duration": 9,
    "start_time": "2021-11-24T13:46:57.585Z"
   },
   {
    "duration": 9,
    "start_time": "2021-11-24T13:46:57.597Z"
   },
   {
    "duration": 69,
    "start_time": "2021-11-24T13:46:57.609Z"
   },
   {
    "duration": 25,
    "start_time": "2021-11-24T13:46:57.681Z"
   },
   {
    "duration": 60,
    "start_time": "2021-11-24T13:46:57.709Z"
   },
   {
    "duration": 9,
    "start_time": "2021-11-24T13:46:57.771Z"
   },
   {
    "duration": 13,
    "start_time": "2021-11-24T13:46:57.782Z"
   },
   {
    "duration": 27,
    "start_time": "2021-11-24T13:46:57.797Z"
   },
   {
    "duration": 42,
    "start_time": "2021-11-24T13:46:57.827Z"
   },
   {
    "duration": 19,
    "start_time": "2021-11-24T13:46:57.871Z"
   },
   {
    "duration": 17,
    "start_time": "2021-11-24T13:46:57.892Z"
   },
   {
    "duration": 10,
    "start_time": "2021-11-24T13:46:57.912Z"
   },
   {
    "duration": 47,
    "start_time": "2021-11-24T13:46:57.925Z"
   },
   {
    "duration": 16,
    "start_time": "2021-11-24T13:46:57.975Z"
   },
   {
    "duration": 8,
    "start_time": "2021-11-24T13:46:57.998Z"
   },
   {
    "duration": 16,
    "start_time": "2021-11-24T13:46:58.009Z"
   },
   {
    "duration": 5,
    "start_time": "2021-11-24T13:46:58.068Z"
   },
   {
    "duration": 16,
    "start_time": "2021-11-24T13:46:58.076Z"
   },
   {
    "duration": 27,
    "start_time": "2021-11-24T13:46:58.094Z"
   },
   {
    "duration": 51,
    "start_time": "2021-11-24T13:46:58.124Z"
   },
   {
    "duration": 10,
    "start_time": "2021-11-24T13:46:58.178Z"
   },
   {
    "duration": 13,
    "start_time": "2021-11-24T13:46:58.190Z"
   },
   {
    "duration": 7,
    "start_time": "2021-11-24T13:46:58.206Z"
   },
   {
    "duration": 70,
    "start_time": "2021-11-24T13:46:58.216Z"
   },
   {
    "duration": 7,
    "start_time": "2021-11-24T13:46:58.289Z"
   },
   {
    "duration": 8,
    "start_time": "2021-11-24T13:46:58.298Z"
   },
   {
    "duration": 88,
    "start_time": "2021-11-24T13:46:58.309Z"
   },
   {
    "duration": 15,
    "start_time": "2021-11-24T13:46:58.400Z"
   },
   {
    "duration": 8,
    "start_time": "2021-11-24T13:46:58.417Z"
   },
   {
    "duration": 40,
    "start_time": "2021-11-24T13:46:58.428Z"
   },
   {
    "duration": 15,
    "start_time": "2021-11-24T13:46:58.470Z"
   },
   {
    "duration": 9,
    "start_time": "2021-11-24T13:46:58.488Z"
   },
   {
    "duration": 7,
    "start_time": "2021-11-24T13:46:58.499Z"
   },
   {
    "duration": 69,
    "start_time": "2021-11-24T13:46:58.508Z"
   },
   {
    "duration": 6,
    "start_time": "2021-11-24T13:46:58.579Z"
   },
   {
    "duration": 7,
    "start_time": "2021-11-24T13:46:58.587Z"
   },
   {
    "duration": 9,
    "start_time": "2021-11-24T13:46:58.596Z"
   },
   {
    "duration": 72,
    "start_time": "2021-11-24T13:46:58.607Z"
   },
   {
    "duration": 21,
    "start_time": "2021-11-24T13:46:58.682Z"
   },
   {
    "duration": 11,
    "start_time": "2021-11-24T13:46:58.706Z"
   },
   {
    "duration": 8,
    "start_time": "2021-11-24T13:46:58.719Z"
   },
   {
    "duration": 6,
    "start_time": "2021-11-24T13:46:58.768Z"
   },
   {
    "duration": 21,
    "start_time": "2021-11-24T13:46:58.777Z"
   },
   {
    "duration": 6,
    "start_time": "2021-11-24T13:46:58.801Z"
   },
   {
    "duration": 75,
    "start_time": "2021-11-24T13:46:58.809Z"
   },
   {
    "duration": 7,
    "start_time": "2021-11-24T13:46:58.887Z"
   },
   {
    "duration": 10,
    "start_time": "2021-11-24T13:46:58.897Z"
   },
   {
    "duration": 6,
    "start_time": "2021-11-24T13:46:58.910Z"
   },
   {
    "duration": 51,
    "start_time": "2021-11-24T13:46:58.919Z"
   },
   {
    "duration": 19,
    "start_time": "2021-11-24T13:46:58.972Z"
   },
   {
    "duration": 24,
    "start_time": "2021-11-24T13:46:58.993Z"
   },
   {
    "duration": 62,
    "start_time": "2021-11-24T13:46:59.019Z"
   },
   {
    "duration": 18,
    "start_time": "2021-11-24T13:46:59.084Z"
   },
   {
    "duration": 22,
    "start_time": "2021-11-24T13:46:59.105Z"
   },
   {
    "duration": 54,
    "start_time": "2021-11-24T13:46:59.130Z"
   },
   {
    "duration": 17,
    "start_time": "2021-11-24T13:46:59.187Z"
   },
   {
    "duration": 9,
    "start_time": "2021-11-24T14:57:13.325Z"
   },
   {
    "duration": 372,
    "start_time": "2021-11-24T14:59:31.933Z"
   },
   {
    "duration": 1040,
    "start_time": "2021-11-24T15:02:21.830Z"
   },
   {
    "duration": 7,
    "start_time": "2021-11-24T15:03:30.979Z"
   },
   {
    "duration": 6,
    "start_time": "2021-11-24T15:03:39.793Z"
   },
   {
    "duration": 1024,
    "start_time": "2021-11-24T15:05:03.947Z"
   },
   {
    "duration": 51,
    "start_time": "2021-11-24T15:05:45.393Z"
   },
   {
    "duration": 376,
    "start_time": "2021-11-24T15:06:01.892Z"
   },
   {
    "duration": 44,
    "start_time": "2021-11-24T15:06:18.116Z"
   },
   {
    "duration": 49,
    "start_time": "2021-11-24T15:10:58.091Z"
   },
   {
    "duration": 54,
    "start_time": "2021-11-24T15:11:55.868Z"
   },
   {
    "duration": 35,
    "start_time": "2021-11-24T15:12:01.738Z"
   },
   {
    "duration": 34,
    "start_time": "2021-11-24T15:12:20.380Z"
   },
   {
    "duration": 315,
    "start_time": "2021-11-24T15:12:31.459Z"
   },
   {
    "duration": 36,
    "start_time": "2021-11-24T15:12:48.218Z"
   },
   {
    "duration": 39,
    "start_time": "2021-11-24T15:15:59.946Z"
   },
   {
    "duration": 39,
    "start_time": "2021-11-24T15:16:32.373Z"
   },
   {
    "duration": 46,
    "start_time": "2021-11-24T15:17:07.796Z"
   },
   {
    "duration": 39,
    "start_time": "2021-11-24T15:17:13.364Z"
   },
   {
    "duration": 42,
    "start_time": "2021-11-24T15:25:03.437Z"
   },
   {
    "duration": 53,
    "start_time": "2021-11-24T15:25:15.164Z"
   },
   {
    "duration": 4,
    "start_time": "2021-11-24T15:39:24.929Z"
   },
   {
    "duration": 89,
    "start_time": "2021-11-24T15:39:27.206Z"
   },
   {
    "duration": 6,
    "start_time": "2021-11-24T15:39:32.260Z"
   },
   {
    "duration": 5,
    "start_time": "2021-11-24T16:33:44.048Z"
   },
   {
    "duration": 6,
    "start_time": "2021-11-24T16:33:46.054Z"
   },
   {
    "duration": 584,
    "start_time": "2021-11-24T16:34:16.336Z"
   },
   {
    "duration": 5,
    "start_time": "2021-11-24T16:34:29.368Z"
   },
   {
    "duration": 5,
    "start_time": "2021-11-24T16:34:32.271Z"
   },
   {
    "duration": 6,
    "start_time": "2021-11-24T16:34:33.856Z"
   },
   {
    "duration": 610,
    "start_time": "2021-11-24T16:34:36.399Z"
   },
   {
    "duration": 5,
    "start_time": "2021-11-24T16:34:50.240Z"
   },
   {
    "duration": 754,
    "start_time": "2021-11-24T16:34:51.558Z"
   },
   {
    "duration": 5,
    "start_time": "2021-11-24T16:42:01.251Z"
   },
   {
    "duration": 405,
    "start_time": "2021-11-24T16:42:33.779Z"
   },
   {
    "duration": 558,
    "start_time": "2021-11-24T16:42:41.578Z"
   },
   {
    "duration": 5,
    "start_time": "2021-11-24T16:44:20.307Z"
   },
   {
    "duration": 542,
    "start_time": "2021-11-24T16:44:22.043Z"
   },
   {
    "duration": 91,
    "start_time": "2021-11-24T16:48:23.102Z"
   },
   {
    "duration": 8,
    "start_time": "2021-11-24T16:48:28.380Z"
   },
   {
    "duration": 374,
    "start_time": "2021-11-24T21:16:43.284Z"
   },
   {
    "duration": 657,
    "start_time": "2021-11-24T21:16:51.348Z"
   },
   {
    "duration": 56,
    "start_time": "2021-11-24T21:16:52.007Z"
   },
   {
    "duration": 18,
    "start_time": "2021-11-24T21:16:52.065Z"
   },
   {
    "duration": 10,
    "start_time": "2021-11-24T21:16:52.086Z"
   },
   {
    "duration": 10,
    "start_time": "2021-11-24T21:16:52.106Z"
   },
   {
    "duration": 14,
    "start_time": "2021-11-24T21:16:52.118Z"
   },
   {
    "duration": 6,
    "start_time": "2021-11-24T21:16:52.134Z"
   },
   {
    "duration": 12,
    "start_time": "2021-11-24T21:16:52.143Z"
   },
   {
    "duration": 6,
    "start_time": "2021-11-24T21:16:52.157Z"
   },
   {
    "duration": 43,
    "start_time": "2021-11-24T21:16:52.165Z"
   },
   {
    "duration": 11,
    "start_time": "2021-11-24T21:16:52.210Z"
   },
   {
    "duration": 22,
    "start_time": "2021-11-24T21:16:52.223Z"
   },
   {
    "duration": 19,
    "start_time": "2021-11-24T21:16:52.247Z"
   },
   {
    "duration": 5,
    "start_time": "2021-11-24T21:16:52.268Z"
   },
   {
    "duration": 7,
    "start_time": "2021-11-24T21:16:52.306Z"
   },
   {
    "duration": 10,
    "start_time": "2021-11-24T21:16:52.314Z"
   },
   {
    "duration": 6,
    "start_time": "2021-11-24T21:16:52.325Z"
   },
   {
    "duration": 10,
    "start_time": "2021-11-24T21:16:52.332Z"
   },
   {
    "duration": 8,
    "start_time": "2021-11-24T21:16:52.344Z"
   },
   {
    "duration": 5,
    "start_time": "2021-11-24T21:16:52.354Z"
   },
   {
    "duration": 8,
    "start_time": "2021-11-24T21:16:52.360Z"
   },
   {
    "duration": 40,
    "start_time": "2021-11-24T21:16:52.370Z"
   },
   {
    "duration": 6,
    "start_time": "2021-11-24T21:16:52.415Z"
   },
   {
    "duration": 10,
    "start_time": "2021-11-24T21:16:52.424Z"
   },
   {
    "duration": 5,
    "start_time": "2021-11-24T21:16:52.436Z"
   },
   {
    "duration": 8,
    "start_time": "2021-11-24T21:16:52.443Z"
   },
   {
    "duration": 12,
    "start_time": "2021-11-24T21:16:52.453Z"
   },
   {
    "duration": 51,
    "start_time": "2021-11-24T21:16:52.467Z"
   },
   {
    "duration": 7,
    "start_time": "2021-11-24T21:16:52.520Z"
   },
   {
    "duration": 8,
    "start_time": "2021-11-24T21:16:52.529Z"
   },
   {
    "duration": 6,
    "start_time": "2021-11-24T21:16:52.539Z"
   },
   {
    "duration": 26,
    "start_time": "2021-11-24T21:16:52.547Z"
   },
   {
    "duration": 5,
    "start_time": "2021-11-24T21:16:52.575Z"
   },
   {
    "duration": 26,
    "start_time": "2021-11-24T21:16:52.582Z"
   },
   {
    "duration": 63,
    "start_time": "2021-11-24T21:16:52.610Z"
   },
   {
    "duration": 14,
    "start_time": "2021-11-24T21:16:52.675Z"
   },
   {
    "duration": 16,
    "start_time": "2021-11-24T21:16:52.691Z"
   },
   {
    "duration": 5,
    "start_time": "2021-11-24T21:16:52.709Z"
   },
   {
    "duration": 21,
    "start_time": "2021-11-24T21:16:52.716Z"
   },
   {
    "duration": 14,
    "start_time": "2021-11-24T21:16:52.739Z"
   },
   {
    "duration": 12,
    "start_time": "2021-11-24T21:16:52.754Z"
   },
   {
    "duration": 20,
    "start_time": "2021-11-24T21:16:52.768Z"
   },
   {
    "duration": 18,
    "start_time": "2021-11-24T21:16:52.789Z"
   },
   {
    "duration": 29,
    "start_time": "2021-11-24T21:16:52.808Z"
   },
   {
    "duration": 28,
    "start_time": "2021-11-24T21:16:52.839Z"
   },
   {
    "duration": 32,
    "start_time": "2021-11-24T21:16:52.868Z"
   },
   {
    "duration": 11,
    "start_time": "2021-11-24T21:16:52.902Z"
   },
   {
    "duration": 9,
    "start_time": "2021-11-24T21:16:52.915Z"
   },
   {
    "duration": 8,
    "start_time": "2021-11-24T21:16:52.926Z"
   },
   {
    "duration": 6,
    "start_time": "2021-11-24T21:16:52.936Z"
   },
   {
    "duration": 25,
    "start_time": "2021-11-24T21:16:52.945Z"
   },
   {
    "duration": 36,
    "start_time": "2021-11-24T21:16:52.972Z"
   },
   {
    "duration": 19,
    "start_time": "2021-11-24T21:16:53.010Z"
   },
   {
    "duration": 5,
    "start_time": "2021-11-24T21:16:53.031Z"
   },
   {
    "duration": 12,
    "start_time": "2021-11-24T21:16:53.038Z"
   },
   {
    "duration": 8,
    "start_time": "2021-11-24T21:16:53.052Z"
   },
   {
    "duration": 8,
    "start_time": "2021-11-24T21:16:53.063Z"
   },
   {
    "duration": 41,
    "start_time": "2021-11-24T21:16:53.072Z"
   },
   {
    "duration": 17,
    "start_time": "2021-11-24T21:16:53.115Z"
   },
   {
    "duration": 17,
    "start_time": "2021-11-24T21:16:53.135Z"
   },
   {
    "duration": 19,
    "start_time": "2021-11-24T21:16:53.154Z"
   },
   {
    "duration": 42,
    "start_time": "2021-11-24T21:16:53.175Z"
   },
   {
    "duration": 24,
    "start_time": "2021-11-24T21:16:53.218Z"
   },
   {
    "duration": 19,
    "start_time": "2021-11-24T21:16:53.244Z"
   },
   {
    "duration": 728,
    "start_time": "2021-11-24T21:16:57.256Z"
   },
   {
    "duration": 7,
    "start_time": "2021-11-24T22:14:41.432Z"
   },
   {
    "duration": 6,
    "start_time": "2021-11-24T22:15:02.511Z"
   },
   {
    "duration": 3,
    "start_time": "2021-11-24T22:16:08.664Z"
   },
   {
    "duration": 4,
    "start_time": "2021-11-24T22:16:11.831Z"
   },
   {
    "duration": 422,
    "start_time": "2021-11-24T22:16:14.976Z"
   },
   {
    "duration": 28,
    "start_time": "2021-11-24T22:17:21.217Z"
   },
   {
    "duration": 28,
    "start_time": "2021-11-24T22:17:45.304Z"
   },
   {
    "duration": 3,
    "start_time": "2021-11-24T22:19:40.082Z"
   },
   {
    "duration": 37,
    "start_time": "2021-11-24T22:19:42.503Z"
   },
   {
    "duration": 27,
    "start_time": "2021-11-24T22:19:56.154Z"
   },
   {
    "duration": 37,
    "start_time": "2021-11-24T22:20:10.367Z"
   },
   {
    "duration": 10,
    "start_time": "2021-11-24T22:21:59.186Z"
   },
   {
    "duration": 399,
    "start_time": "2021-11-24T22:24:07.441Z"
   },
   {
    "duration": 178,
    "start_time": "2021-11-24T22:25:15.755Z"
   },
   {
    "duration": 15,
    "start_time": "2021-11-24T22:26:14.561Z"
   },
   {
    "duration": 15,
    "start_time": "2021-11-24T22:26:23.459Z"
   },
   {
    "duration": 14,
    "start_time": "2021-11-24T22:26:33.028Z"
   },
   {
    "duration": 13,
    "start_time": "2021-11-24T22:26:51.092Z"
   },
   {
    "duration": 183,
    "start_time": "2021-11-24T22:38:03.310Z"
   },
   {
    "duration": 769,
    "start_time": "2021-11-24T22:41:37.355Z"
   },
   {
    "duration": 258,
    "start_time": "2021-11-24T22:41:52.230Z"
   },
   {
    "duration": 629,
    "start_time": "2021-11-24T22:46:22.123Z"
   },
   {
    "duration": 53,
    "start_time": "2021-11-24T22:46:22.754Z"
   },
   {
    "duration": 18,
    "start_time": "2021-11-24T22:46:22.809Z"
   },
   {
    "duration": 11,
    "start_time": "2021-11-24T22:46:22.829Z"
   },
   {
    "duration": 13,
    "start_time": "2021-11-24T22:46:22.841Z"
   },
   {
    "duration": 14,
    "start_time": "2021-11-24T22:46:22.856Z"
   },
   {
    "duration": 35,
    "start_time": "2021-11-24T22:46:22.871Z"
   },
   {
    "duration": 8,
    "start_time": "2021-11-24T22:46:22.909Z"
   },
   {
    "duration": 7,
    "start_time": "2021-11-24T22:46:22.919Z"
   },
   {
    "duration": 6,
    "start_time": "2021-11-24T22:46:22.927Z"
   },
   {
    "duration": 9,
    "start_time": "2021-11-24T22:46:22.935Z"
   },
   {
    "duration": 63,
    "start_time": "2021-11-24T22:46:22.945Z"
   },
   {
    "duration": 18,
    "start_time": "2021-11-24T22:46:23.009Z"
   },
   {
    "duration": 5,
    "start_time": "2021-11-24T22:46:23.029Z"
   },
   {
    "duration": 5,
    "start_time": "2021-11-24T22:46:23.036Z"
   },
   {
    "duration": 13,
    "start_time": "2021-11-24T22:46:23.042Z"
   },
   {
    "duration": 4,
    "start_time": "2021-11-24T22:46:23.057Z"
   },
   {
    "duration": 46,
    "start_time": "2021-11-24T22:46:23.063Z"
   },
   {
    "duration": 13,
    "start_time": "2021-11-24T22:46:23.111Z"
   },
   {
    "duration": 5,
    "start_time": "2021-11-24T22:46:23.126Z"
   },
   {
    "duration": 5,
    "start_time": "2021-11-24T22:46:23.133Z"
   },
   {
    "duration": 6,
    "start_time": "2021-11-24T22:46:23.140Z"
   },
   {
    "duration": 5,
    "start_time": "2021-11-24T22:46:23.150Z"
   },
   {
    "duration": 10,
    "start_time": "2021-11-24T22:46:23.157Z"
   },
   {
    "duration": 3,
    "start_time": "2021-11-24T22:46:23.207Z"
   },
   {
    "duration": 11,
    "start_time": "2021-11-24T22:46:23.212Z"
   },
   {
    "duration": 15,
    "start_time": "2021-11-24T22:46:23.224Z"
   },
   {
    "duration": 14,
    "start_time": "2021-11-24T22:46:23.240Z"
   },
   {
    "duration": 5,
    "start_time": "2021-11-24T22:46:23.256Z"
   },
   {
    "duration": 46,
    "start_time": "2021-11-24T22:46:23.263Z"
   },
   {
    "duration": 4,
    "start_time": "2021-11-24T22:46:23.311Z"
   },
   {
    "duration": 14,
    "start_time": "2021-11-24T22:46:23.317Z"
   },
   {
    "duration": 4,
    "start_time": "2021-11-24T22:46:23.332Z"
   },
   {
    "duration": 6,
    "start_time": "2021-11-24T22:46:23.338Z"
   },
   {
    "duration": 64,
    "start_time": "2021-11-24T22:46:23.346Z"
   },
   {
    "duration": 10,
    "start_time": "2021-11-24T22:46:23.411Z"
   },
   {
    "duration": 6,
    "start_time": "2021-11-24T22:46:23.423Z"
   },
   {
    "duration": 3,
    "start_time": "2021-11-24T22:46:23.431Z"
   },
   {
    "duration": 19,
    "start_time": "2021-11-24T22:46:23.435Z"
   },
   {
    "duration": 6,
    "start_time": "2021-11-24T22:46:23.456Z"
   },
   {
    "duration": 6,
    "start_time": "2021-11-24T22:46:23.463Z"
   },
   {
    "duration": 18,
    "start_time": "2021-11-24T22:46:23.506Z"
   },
   {
    "duration": 4,
    "start_time": "2021-11-24T22:46:23.526Z"
   },
   {
    "duration": 8,
    "start_time": "2021-11-24T22:46:23.532Z"
   },
   {
    "duration": 8,
    "start_time": "2021-11-24T22:46:23.541Z"
   },
   {
    "duration": 12,
    "start_time": "2021-11-24T22:46:23.550Z"
   },
   {
    "duration": 49,
    "start_time": "2021-11-24T22:46:23.564Z"
   },
   {
    "duration": 8,
    "start_time": "2021-11-24T22:46:23.615Z"
   },
   {
    "duration": 8,
    "start_time": "2021-11-24T22:46:23.625Z"
   },
   {
    "duration": 8,
    "start_time": "2021-11-24T22:46:23.635Z"
   },
   {
    "duration": 17,
    "start_time": "2021-11-24T22:46:23.645Z"
   },
   {
    "duration": 43,
    "start_time": "2021-11-24T22:46:23.664Z"
   },
   {
    "duration": 18,
    "start_time": "2021-11-24T22:46:23.709Z"
   },
   {
    "duration": 5,
    "start_time": "2021-11-24T22:46:23.729Z"
   },
   {
    "duration": 9,
    "start_time": "2021-11-24T22:46:23.735Z"
   },
   {
    "duration": 7,
    "start_time": "2021-11-24T22:46:23.745Z"
   },
   {
    "duration": 7,
    "start_time": "2021-11-24T22:46:23.753Z"
   },
   {
    "duration": 47,
    "start_time": "2021-11-24T22:46:23.761Z"
   },
   {
    "duration": 19,
    "start_time": "2021-11-24T22:46:23.809Z"
   },
   {
    "duration": 12,
    "start_time": "2021-11-24T22:46:23.829Z"
   },
   {
    "duration": 10,
    "start_time": "2021-11-24T22:46:23.843Z"
   },
   {
    "duration": 16,
    "start_time": "2021-11-24T22:46:23.855Z"
   },
   {
    "duration": 40,
    "start_time": "2021-11-24T22:46:23.873Z"
   },
   {
    "duration": 12,
    "start_time": "2021-11-24T22:46:23.915Z"
   },
   {
    "duration": 723,
    "start_time": "2021-11-24T22:46:23.928Z"
   },
   {
    "duration": 6,
    "start_time": "2021-11-24T22:46:24.653Z"
   },
   {
    "duration": 9,
    "start_time": "2021-11-24T22:46:24.660Z"
   },
   {
    "duration": 5,
    "start_time": "2021-11-24T22:46:24.674Z"
   },
   {
    "duration": 47,
    "start_time": "2021-11-24T22:46:24.680Z"
   },
   {
    "duration": 10,
    "start_time": "2021-11-24T22:46:24.729Z"
   },
   {
    "duration": 14,
    "start_time": "2021-11-24T22:46:24.741Z"
   },
   {
    "duration": 855,
    "start_time": "2021-11-24T22:46:24.757Z"
   },
   {
    "duration": 477,
    "start_time": "2021-11-24T22:46:30.182Z"
   },
   {
    "duration": 271,
    "start_time": "2021-11-24T22:46:39.080Z"
   },
   {
    "duration": 5,
    "start_time": "2021-11-24T22:47:24.537Z"
   },
   {
    "duration": 274,
    "start_time": "2021-11-24T22:47:46.999Z"
   },
   {
    "duration": 650,
    "start_time": "2021-11-24T22:49:42.145Z"
   },
   {
    "duration": 3,
    "start_time": "2021-11-24T22:57:11.505Z"
   },
   {
    "duration": 116,
    "start_time": "2021-11-24T22:58:06.349Z"
   },
   {
    "duration": 339,
    "start_time": "2021-11-24T22:59:26.395Z"
   },
   {
    "duration": 146,
    "start_time": "2021-11-24T22:59:39.081Z"
   },
   {
    "duration": 9,
    "start_time": "2021-11-24T22:59:53.020Z"
   },
   {
    "duration": 10,
    "start_time": "2021-11-24T23:00:29.363Z"
   },
   {
    "duration": 11,
    "start_time": "2021-11-24T23:01:05.004Z"
   },
   {
    "duration": 607,
    "start_time": "2021-11-24T23:01:19.735Z"
   },
   {
    "duration": 52,
    "start_time": "2021-11-24T23:01:20.343Z"
   },
   {
    "duration": 21,
    "start_time": "2021-11-24T23:01:20.397Z"
   },
   {
    "duration": 14,
    "start_time": "2021-11-24T23:01:20.420Z"
   },
   {
    "duration": 19,
    "start_time": "2021-11-24T23:01:20.436Z"
   },
   {
    "duration": 14,
    "start_time": "2021-11-24T23:01:20.458Z"
   },
   {
    "duration": 7,
    "start_time": "2021-11-24T23:01:20.473Z"
   },
   {
    "duration": 24,
    "start_time": "2021-11-24T23:01:20.483Z"
   },
   {
    "duration": 6,
    "start_time": "2021-11-24T23:01:20.510Z"
   },
   {
    "duration": 7,
    "start_time": "2021-11-24T23:01:20.518Z"
   },
   {
    "duration": 10,
    "start_time": "2021-11-24T23:01:20.527Z"
   },
   {
    "duration": 16,
    "start_time": "2021-11-24T23:01:20.539Z"
   },
   {
    "duration": 51,
    "start_time": "2021-11-24T23:01:20.557Z"
   },
   {
    "duration": 6,
    "start_time": "2021-11-24T23:01:20.609Z"
   },
   {
    "duration": 6,
    "start_time": "2021-11-24T23:01:20.617Z"
   },
   {
    "duration": 8,
    "start_time": "2021-11-24T23:01:20.625Z"
   },
   {
    "duration": 6,
    "start_time": "2021-11-24T23:01:20.635Z"
   },
   {
    "duration": 22,
    "start_time": "2021-11-24T23:01:20.642Z"
   },
   {
    "duration": 8,
    "start_time": "2021-11-24T23:01:20.666Z"
   },
   {
    "duration": 31,
    "start_time": "2021-11-24T23:01:20.676Z"
   },
   {
    "duration": 4,
    "start_time": "2021-11-24T23:01:20.709Z"
   },
   {
    "duration": 7,
    "start_time": "2021-11-24T23:01:20.715Z"
   },
   {
    "duration": 5,
    "start_time": "2021-11-24T23:01:20.726Z"
   },
   {
    "duration": 13,
    "start_time": "2021-11-24T23:01:20.734Z"
   },
   {
    "duration": 5,
    "start_time": "2021-11-24T23:01:20.749Z"
   },
   {
    "duration": 12,
    "start_time": "2021-11-24T23:01:20.755Z"
   },
   {
    "duration": 42,
    "start_time": "2021-11-24T23:01:20.769Z"
   },
   {
    "duration": 13,
    "start_time": "2021-11-24T23:01:20.813Z"
   },
   {
    "duration": 6,
    "start_time": "2021-11-24T23:01:20.828Z"
   },
   {
    "duration": 11,
    "start_time": "2021-11-24T23:01:20.835Z"
   },
   {
    "duration": 5,
    "start_time": "2021-11-24T23:01:20.847Z"
   },
   {
    "duration": 16,
    "start_time": "2021-11-24T23:01:20.854Z"
   },
   {
    "duration": 4,
    "start_time": "2021-11-24T23:01:20.872Z"
   },
   {
    "duration": 31,
    "start_time": "2021-11-24T23:01:20.877Z"
   },
   {
    "duration": 40,
    "start_time": "2021-11-24T23:01:20.910Z"
   },
   {
    "duration": 9,
    "start_time": "2021-11-24T23:01:20.952Z"
   },
   {
    "duration": 7,
    "start_time": "2021-11-24T23:01:20.963Z"
   },
   {
    "duration": 3,
    "start_time": "2021-11-24T23:01:20.972Z"
   },
   {
    "duration": 33,
    "start_time": "2021-11-24T23:01:20.976Z"
   },
   {
    "duration": 5,
    "start_time": "2021-11-24T23:01:21.011Z"
   },
   {
    "duration": 11,
    "start_time": "2021-11-24T23:01:21.017Z"
   },
   {
    "duration": 19,
    "start_time": "2021-11-24T23:01:21.031Z"
   },
   {
    "duration": 6,
    "start_time": "2021-11-24T23:01:21.052Z"
   },
   {
    "duration": 6,
    "start_time": "2021-11-24T23:01:21.060Z"
   },
   {
    "duration": 38,
    "start_time": "2021-11-24T23:01:21.068Z"
   },
   {
    "duration": 13,
    "start_time": "2021-11-24T23:01:21.108Z"
   },
   {
    "duration": 15,
    "start_time": "2021-11-24T23:01:21.123Z"
   },
   {
    "duration": 14,
    "start_time": "2021-11-24T23:01:21.140Z"
   },
   {
    "duration": 7,
    "start_time": "2021-11-24T23:01:21.156Z"
   },
   {
    "duration": 11,
    "start_time": "2021-11-24T23:01:21.165Z"
   },
   {
    "duration": 40,
    "start_time": "2021-11-24T23:01:21.178Z"
   },
   {
    "duration": 7,
    "start_time": "2021-11-24T23:01:21.220Z"
   },
   {
    "duration": 25,
    "start_time": "2021-11-24T23:01:21.228Z"
   },
   {
    "duration": 5,
    "start_time": "2021-11-24T23:01:21.255Z"
   },
   {
    "duration": 10,
    "start_time": "2021-11-24T23:01:21.261Z"
   },
   {
    "duration": 10,
    "start_time": "2021-11-24T23:01:21.272Z"
   },
   {
    "duration": 10,
    "start_time": "2021-11-24T23:01:21.284Z"
   },
   {
    "duration": 10,
    "start_time": "2021-11-24T23:01:21.307Z"
   },
   {
    "duration": 18,
    "start_time": "2021-11-24T23:01:21.319Z"
   },
   {
    "duration": 13,
    "start_time": "2021-11-24T23:01:21.338Z"
   },
   {
    "duration": 12,
    "start_time": "2021-11-24T23:01:21.353Z"
   },
   {
    "duration": 45,
    "start_time": "2021-11-24T23:01:21.367Z"
   },
   {
    "duration": 11,
    "start_time": "2021-11-24T23:01:21.414Z"
   },
   {
    "duration": 13,
    "start_time": "2021-11-24T23:01:21.427Z"
   },
   {
    "duration": 723,
    "start_time": "2021-11-24T23:01:21.442Z"
   },
   {
    "duration": 7,
    "start_time": "2021-11-24T23:01:22.167Z"
   },
   {
    "duration": 10,
    "start_time": "2021-11-24T23:01:22.176Z"
   },
   {
    "duration": 3,
    "start_time": "2021-11-24T23:01:22.207Z"
   },
   {
    "duration": 35,
    "start_time": "2021-11-24T23:01:22.212Z"
   },
   {
    "duration": 3,
    "start_time": "2021-11-24T23:01:22.249Z"
   },
   {
    "duration": 17,
    "start_time": "2021-11-24T23:01:22.254Z"
   },
   {
    "duration": 169,
    "start_time": "2021-11-24T23:01:22.273Z"
   },
   {
    "duration": 11,
    "start_time": "2021-11-24T23:01:22.443Z"
   },
   {
    "duration": 11,
    "start_time": "2021-11-24T23:01:22.456Z"
   },
   {
    "duration": 18,
    "start_time": "2021-11-24T23:01:22.469Z"
   },
   {
    "duration": 821,
    "start_time": "2021-11-24T23:01:22.507Z"
   },
   {
    "duration": 269,
    "start_time": "2021-11-24T23:01:23.330Z"
   },
   {
    "duration": 661,
    "start_time": "2021-11-24T23:01:23.601Z"
   },
   {
    "duration": 5,
    "start_time": "2021-11-24T23:04:02.878Z"
   },
   {
    "duration": 5,
    "start_time": "2021-11-24T23:05:59.238Z"
   },
   {
    "duration": 5,
    "start_time": "2021-11-24T23:06:06.597Z"
   },
   {
    "duration": 517,
    "start_time": "2021-11-24T23:07:11.414Z"
   },
   {
    "duration": 16,
    "start_time": "2021-11-24T23:07:40.358Z"
   },
   {
    "duration": 11,
    "start_time": "2021-11-24T23:07:54.334Z"
   },
   {
    "duration": 10,
    "start_time": "2021-11-24T23:08:17.809Z"
   },
   {
    "duration": 102,
    "start_time": "2021-11-24T23:08:29.191Z"
   },
   {
    "duration": 16,
    "start_time": "2021-11-24T23:08:45.065Z"
   },
   {
    "duration": 5,
    "start_time": "2021-11-24T23:10:17.168Z"
   },
   {
    "duration": 276,
    "start_time": "2021-11-24T23:12:04.224Z"
   },
   {
    "duration": 283,
    "start_time": "2021-11-24T23:12:50.090Z"
   },
   {
    "duration": 281,
    "start_time": "2021-11-24T23:13:04.256Z"
   },
   {
    "duration": 294,
    "start_time": "2021-11-24T23:13:22.904Z"
   },
   {
    "duration": 244,
    "start_time": "2021-11-24T23:24:28.125Z"
   },
   {
    "duration": 243,
    "start_time": "2021-11-24T23:24:46.554Z"
   },
   {
    "duration": 262,
    "start_time": "2021-11-24T23:25:04.732Z"
   },
   {
    "duration": 1489,
    "start_time": "2021-11-24T23:37:25.246Z"
   },
   {
    "duration": 627,
    "start_time": "2021-11-24T23:37:39.650Z"
   },
   {
    "duration": 52,
    "start_time": "2021-11-24T23:37:40.279Z"
   },
   {
    "duration": 18,
    "start_time": "2021-11-24T23:37:40.333Z"
   },
   {
    "duration": 19,
    "start_time": "2021-11-24T23:37:40.353Z"
   },
   {
    "duration": 12,
    "start_time": "2021-11-24T23:37:40.373Z"
   },
   {
    "duration": 24,
    "start_time": "2021-11-24T23:37:40.387Z"
   },
   {
    "duration": 6,
    "start_time": "2021-11-24T23:37:40.413Z"
   },
   {
    "duration": 7,
    "start_time": "2021-11-24T23:37:40.421Z"
   },
   {
    "duration": 6,
    "start_time": "2021-11-24T23:37:40.430Z"
   },
   {
    "duration": 9,
    "start_time": "2021-11-24T23:37:40.438Z"
   },
   {
    "duration": 9,
    "start_time": "2021-11-24T23:37:40.448Z"
   },
   {
    "duration": 49,
    "start_time": "2021-11-24T23:37:40.459Z"
   },
   {
    "duration": 17,
    "start_time": "2021-11-24T23:37:40.509Z"
   },
   {
    "duration": 6,
    "start_time": "2021-11-24T23:37:40.528Z"
   },
   {
    "duration": 9,
    "start_time": "2021-11-24T23:37:40.535Z"
   },
   {
    "duration": 8,
    "start_time": "2021-11-24T23:37:40.546Z"
   },
   {
    "duration": 4,
    "start_time": "2021-11-24T23:37:40.556Z"
   },
   {
    "duration": 12,
    "start_time": "2021-11-24T23:37:40.561Z"
   },
   {
    "duration": 6,
    "start_time": "2021-11-24T23:37:40.607Z"
   },
   {
    "duration": 5,
    "start_time": "2021-11-24T23:37:40.615Z"
   },
   {
    "duration": 7,
    "start_time": "2021-11-24T23:37:40.621Z"
   },
   {
    "duration": 9,
    "start_time": "2021-11-24T23:37:40.629Z"
   },
   {
    "duration": 6,
    "start_time": "2021-11-24T23:37:40.641Z"
   },
   {
    "duration": 7,
    "start_time": "2021-11-24T23:37:40.649Z"
   },
   {
    "duration": 5,
    "start_time": "2021-11-24T23:37:40.657Z"
   },
   {
    "duration": 43,
    "start_time": "2021-11-24T23:37:40.663Z"
   },
   {
    "duration": 14,
    "start_time": "2021-11-24T23:37:40.708Z"
   },
   {
    "duration": 15,
    "start_time": "2021-11-24T23:37:40.723Z"
   },
   {
    "duration": 6,
    "start_time": "2021-11-24T23:37:40.739Z"
   },
   {
    "duration": 7,
    "start_time": "2021-11-24T23:37:40.747Z"
   },
   {
    "duration": 4,
    "start_time": "2021-11-24T23:37:40.756Z"
   },
   {
    "duration": 50,
    "start_time": "2021-11-24T23:37:40.762Z"
   },
   {
    "duration": 6,
    "start_time": "2021-11-24T23:37:40.814Z"
   },
   {
    "duration": 81,
    "start_time": "2021-11-24T23:37:40.822Z"
   },
   {
    "duration": 82,
    "start_time": "2021-11-24T23:37:40.905Z"
   },
   {
    "duration": 18,
    "start_time": "2021-11-24T23:37:40.990Z"
   },
   {
    "duration": 8,
    "start_time": "2021-11-24T23:37:41.010Z"
   },
   {
    "duration": 3,
    "start_time": "2021-11-24T23:37:41.020Z"
   },
   {
    "duration": 29,
    "start_time": "2021-11-24T23:37:41.035Z"
   },
   {
    "duration": 11,
    "start_time": "2021-11-24T23:37:41.067Z"
   },
   {
    "duration": 13,
    "start_time": "2021-11-24T23:37:41.080Z"
   },
   {
    "duration": 50,
    "start_time": "2021-11-24T23:37:41.106Z"
   },
   {
    "duration": 8,
    "start_time": "2021-11-24T23:37:41.159Z"
   },
   {
    "duration": 11,
    "start_time": "2021-11-24T23:37:41.169Z"
   },
   {
    "duration": 19,
    "start_time": "2021-11-24T23:37:41.182Z"
   },
   {
    "duration": 29,
    "start_time": "2021-11-24T23:37:41.203Z"
   },
   {
    "duration": 22,
    "start_time": "2021-11-24T23:37:41.234Z"
   },
   {
    "duration": 10,
    "start_time": "2021-11-24T23:37:41.258Z"
   },
   {
    "duration": 5,
    "start_time": "2021-11-24T23:37:41.269Z"
   },
   {
    "duration": 10,
    "start_time": "2021-11-24T23:37:41.275Z"
   },
   {
    "duration": 29,
    "start_time": "2021-11-24T23:37:41.286Z"
   },
   {
    "duration": 5,
    "start_time": "2021-11-24T23:37:41.317Z"
   },
   {
    "duration": 21,
    "start_time": "2021-11-24T23:37:41.323Z"
   },
   {
    "duration": 5,
    "start_time": "2021-11-24T23:37:41.345Z"
   },
   {
    "duration": 7,
    "start_time": "2021-11-24T23:37:41.352Z"
   },
   {
    "duration": 4,
    "start_time": "2021-11-24T23:37:41.361Z"
   },
   {
    "duration": 13,
    "start_time": "2021-11-24T23:37:41.366Z"
   },
   {
    "duration": 11,
    "start_time": "2021-11-24T23:37:41.407Z"
   },
   {
    "duration": 14,
    "start_time": "2021-11-24T23:37:41.419Z"
   },
   {
    "duration": 12,
    "start_time": "2021-11-24T23:37:41.435Z"
   },
   {
    "duration": 10,
    "start_time": "2021-11-24T23:37:41.449Z"
   },
   {
    "duration": 13,
    "start_time": "2021-11-24T23:37:41.460Z"
   },
   {
    "duration": 41,
    "start_time": "2021-11-24T23:37:41.475Z"
   },
   {
    "duration": 11,
    "start_time": "2021-11-24T23:37:41.518Z"
   },
   {
    "duration": 713,
    "start_time": "2021-11-24T23:37:41.530Z"
   },
   {
    "duration": 7,
    "start_time": "2021-11-24T23:37:42.245Z"
   },
   {
    "duration": 19,
    "start_time": "2021-11-24T23:37:42.253Z"
   },
   {
    "duration": 23,
    "start_time": "2021-11-24T23:37:42.277Z"
   },
   {
    "duration": 47,
    "start_time": "2021-11-24T23:37:42.302Z"
   },
   {
    "duration": 3,
    "start_time": "2021-11-24T23:37:42.351Z"
   },
   {
    "duration": 159,
    "start_time": "2021-11-24T23:37:42.355Z"
   },
   {
    "duration": 6,
    "start_time": "2021-11-24T23:37:42.516Z"
   },
   {
    "duration": 804,
    "start_time": "2021-11-24T23:37:42.524Z"
   },
   {
    "duration": 260,
    "start_time": "2021-11-24T23:37:57.387Z"
   },
   {
    "duration": 249,
    "start_time": "2021-11-24T23:38:03.691Z"
   },
   {
    "duration": 279,
    "start_time": "2021-11-24T23:38:10.403Z"
   },
   {
    "duration": 271,
    "start_time": "2021-11-24T23:38:18.090Z"
   },
   {
    "duration": 284,
    "start_time": "2021-11-24T23:38:23.354Z"
   },
   {
    "duration": 333,
    "start_time": "2021-11-24T23:38:31.268Z"
   },
   {
    "duration": 253,
    "start_time": "2021-11-24T23:38:36.468Z"
   },
   {
    "duration": 272,
    "start_time": "2021-11-24T23:38:42.147Z"
   },
   {
    "duration": 262,
    "start_time": "2021-11-24T23:39:13.613Z"
   },
   {
    "duration": 11,
    "start_time": "2021-11-24T23:42:01.019Z"
   },
   {
    "duration": 576,
    "start_time": "2021-11-24T23:45:29.780Z"
   },
   {
    "duration": 16,
    "start_time": "2021-11-24T23:45:39.567Z"
   },
   {
    "duration": 7,
    "start_time": "2021-11-24T23:45:53.869Z"
   },
   {
    "duration": 18,
    "start_time": "2021-11-24T23:46:33.110Z"
   },
   {
    "duration": 20,
    "start_time": "2021-11-24T23:47:48.142Z"
   },
   {
    "duration": 10,
    "start_time": "2021-11-24T23:48:01.917Z"
   },
   {
    "duration": 8,
    "start_time": "2021-11-24T23:49:28.598Z"
   },
   {
    "duration": 306,
    "start_time": "2021-11-24T23:51:50.714Z"
   },
   {
    "duration": 273,
    "start_time": "2021-11-24T23:52:02.070Z"
   },
   {
    "duration": 260,
    "start_time": "2021-11-24T23:53:38.065Z"
   },
   {
    "duration": 574,
    "start_time": "2021-11-24T23:55:12.103Z"
   },
   {
    "duration": 350,
    "start_time": "2021-11-24T23:55:40.578Z"
   },
   {
    "duration": 245,
    "start_time": "2021-11-24T23:55:43.359Z"
   },
   {
    "duration": 589,
    "start_time": "2021-11-24T23:57:45.968Z"
   },
   {
    "duration": 600,
    "start_time": "2021-11-24T23:57:53.632Z"
   },
   {
    "duration": 251,
    "start_time": "2021-11-24T23:58:01.384Z"
   },
   {
    "duration": 543,
    "start_time": "2021-11-24T23:58:37.082Z"
   },
   {
    "duration": 234,
    "start_time": "2021-11-24T23:58:46.584Z"
   },
   {
    "duration": 233,
    "start_time": "2021-11-24T23:59:15.688Z"
   },
   {
    "duration": 244,
    "start_time": "2021-11-24T23:59:31.041Z"
   },
   {
    "duration": 236,
    "start_time": "2021-11-24T23:59:52.368Z"
   },
   {
    "duration": 243,
    "start_time": "2021-11-25T00:03:43.814Z"
   },
   {
    "duration": 142,
    "start_time": "2021-11-25T00:05:30.668Z"
   },
   {
    "duration": 171,
    "start_time": "2021-11-25T00:05:47.938Z"
   },
   {
    "duration": 173,
    "start_time": "2021-11-25T00:05:57.342Z"
   },
   {
    "duration": 135,
    "start_time": "2021-11-25T00:06:14.950Z"
   },
   {
    "duration": 123,
    "start_time": "2021-11-25T00:06:30.466Z"
   },
   {
    "duration": 113,
    "start_time": "2021-11-25T00:07:27.667Z"
   },
   {
    "duration": 8,
    "start_time": "2021-11-25T00:07:34.199Z"
   },
   {
    "duration": 10,
    "start_time": "2021-11-25T00:08:06.126Z"
   },
   {
    "duration": 3,
    "start_time": "2021-11-25T00:09:25.407Z"
   },
   {
    "duration": 21,
    "start_time": "2021-11-25T00:09:57.314Z"
   },
   {
    "duration": 3,
    "start_time": "2021-11-25T00:10:48.828Z"
   },
   {
    "duration": 20,
    "start_time": "2021-11-25T00:10:51.235Z"
   },
   {
    "duration": 15,
    "start_time": "2021-11-25T00:12:48.365Z"
   },
   {
    "duration": 12,
    "start_time": "2021-11-25T00:13:28.660Z"
   },
   {
    "duration": 12,
    "start_time": "2021-11-25T00:13:38.452Z"
   },
   {
    "duration": 13,
    "start_time": "2021-11-25T00:14:21.516Z"
   },
   {
    "duration": 3,
    "start_time": "2021-11-25T00:17:25.023Z"
   },
   {
    "duration": 109,
    "start_time": "2021-11-25T00:17:37.029Z"
   },
   {
    "duration": 3,
    "start_time": "2021-11-25T00:17:48.730Z"
   },
   {
    "duration": 3,
    "start_time": "2021-11-25T00:18:19.181Z"
   },
   {
    "duration": 3,
    "start_time": "2021-11-25T00:18:45.878Z"
   },
   {
    "duration": 713,
    "start_time": "2021-11-25T00:18:49.260Z"
   },
   {
    "duration": 3,
    "start_time": "2021-11-25T00:19:07.406Z"
   },
   {
    "duration": 4,
    "start_time": "2021-11-25T00:19:08.901Z"
   },
   {
    "duration": 3,
    "start_time": "2021-11-25T00:19:39.870Z"
   },
   {
    "duration": 3,
    "start_time": "2021-11-25T00:21:20.278Z"
   },
   {
    "duration": 4,
    "start_time": "2021-11-25T00:21:22.185Z"
   },
   {
    "duration": 3,
    "start_time": "2021-11-25T00:22:43.168Z"
   },
   {
    "duration": 6,
    "start_time": "2021-11-25T00:22:45.629Z"
   },
   {
    "duration": 7,
    "start_time": "2021-11-25T00:22:46.836Z"
   },
   {
    "duration": 6,
    "start_time": "2021-11-25T00:22:47.878Z"
   },
   {
    "duration": 6,
    "start_time": "2021-11-25T00:22:49.522Z"
   },
   {
    "duration": 3,
    "start_time": "2021-11-25T00:22:51.046Z"
   },
   {
    "duration": 4,
    "start_time": "2021-11-25T00:22:52.325Z"
   },
   {
    "duration": 3,
    "start_time": "2021-11-25T00:27:39.923Z"
   },
   {
    "duration": 7,
    "start_time": "2021-11-25T00:27:41.472Z"
   },
   {
    "duration": 7,
    "start_time": "2021-11-25T00:27:42.549Z"
   },
   {
    "duration": 7,
    "start_time": "2021-11-25T00:27:43.622Z"
   },
   {
    "duration": 7,
    "start_time": "2021-11-25T00:27:45.439Z"
   },
   {
    "duration": 3,
    "start_time": "2021-11-25T00:27:48.054Z"
   },
   {
    "duration": 4,
    "start_time": "2021-11-25T00:27:49.647Z"
   },
   {
    "duration": 3,
    "start_time": "2021-11-25T00:29:55.504Z"
   },
   {
    "duration": 6,
    "start_time": "2021-11-25T00:29:57.032Z"
   },
   {
    "duration": 6,
    "start_time": "2021-11-25T00:29:58.094Z"
   },
   {
    "duration": 7,
    "start_time": "2021-11-25T00:29:59.321Z"
   },
   {
    "duration": 5,
    "start_time": "2021-11-25T00:30:00.496Z"
   },
   {
    "duration": 3,
    "start_time": "2021-11-25T00:30:03.517Z"
   },
   {
    "duration": 4,
    "start_time": "2021-11-25T00:30:05.240Z"
   },
   {
    "duration": 5,
    "start_time": "2021-11-25T00:33:39.812Z"
   },
   {
    "duration": 9,
    "start_time": "2021-11-25T00:35:43.338Z"
   },
   {
    "duration": 21,
    "start_time": "2021-11-25T00:35:51.106Z"
   },
   {
    "duration": 20,
    "start_time": "2021-11-25T00:35:58.851Z"
   },
   {
    "duration": 3,
    "start_time": "2021-11-25T00:37:03.890Z"
   },
   {
    "duration": 5,
    "start_time": "2021-11-25T00:37:06.186Z"
   },
   {
    "duration": 9,
    "start_time": "2021-11-25T00:38:45.090Z"
   },
   {
    "duration": 3,
    "start_time": "2021-11-25T00:38:47.865Z"
   },
   {
    "duration": 6,
    "start_time": "2021-11-25T00:38:50.321Z"
   },
   {
    "duration": 6,
    "start_time": "2021-11-25T00:38:51.328Z"
   },
   {
    "duration": 6,
    "start_time": "2021-11-25T00:38:52.287Z"
   },
   {
    "duration": 5,
    "start_time": "2021-11-25T00:38:53.289Z"
   },
   {
    "duration": 3,
    "start_time": "2021-11-25T00:38:54.619Z"
   },
   {
    "duration": 10,
    "start_time": "2021-11-25T00:41:18.229Z"
   },
   {
    "duration": 674,
    "start_time": "2021-11-25T00:44:54.157Z"
   },
   {
    "duration": 7,
    "start_time": "2021-11-25T00:46:14.902Z"
   },
   {
    "duration": 6,
    "start_time": "2021-11-25T00:46:37.836Z"
   },
   {
    "duration": 9,
    "start_time": "2021-11-25T00:47:03.468Z"
   },
   {
    "duration": 8,
    "start_time": "2021-11-25T00:47:17.174Z"
   },
   {
    "duration": 9,
    "start_time": "2021-11-25T00:47:22.213Z"
   },
   {
    "duration": 7,
    "start_time": "2021-11-25T00:47:43.253Z"
   },
   {
    "duration": 6,
    "start_time": "2021-11-25T00:47:52.888Z"
   },
   {
    "duration": 492,
    "start_time": "2021-11-25T00:48:20.237Z"
   },
   {
    "duration": 544,
    "start_time": "2021-11-25T00:48:30.142Z"
   },
   {
    "duration": 7,
    "start_time": "2021-11-25T00:48:37.524Z"
   },
   {
    "duration": 656,
    "start_time": "2021-11-25T00:49:12.822Z"
   },
   {
    "duration": 333,
    "start_time": "2021-11-25T00:53:17.855Z"
   },
   {
    "duration": -878,
    "start_time": "2021-11-25T00:53:38.332Z"
   },
   {
    "duration": 8824,
    "start_time": "2021-11-25T00:53:45.558Z"
   },
   {
    "duration": 666,
    "start_time": "2021-11-25T10:36:57.136Z"
   },
   {
    "duration": 51,
    "start_time": "2021-11-25T10:36:57.804Z"
   },
   {
    "duration": 18,
    "start_time": "2021-11-25T10:36:57.857Z"
   },
   {
    "duration": 12,
    "start_time": "2021-11-25T10:36:57.877Z"
   },
   {
    "duration": 10,
    "start_time": "2021-11-25T10:36:57.890Z"
   },
   {
    "duration": 13,
    "start_time": "2021-11-25T10:36:57.901Z"
   },
   {
    "duration": 33,
    "start_time": "2021-11-25T10:36:57.916Z"
   },
   {
    "duration": 8,
    "start_time": "2021-11-25T10:36:57.952Z"
   },
   {
    "duration": 6,
    "start_time": "2021-11-25T10:36:57.962Z"
   },
   {
    "duration": 6,
    "start_time": "2021-11-25T10:36:57.970Z"
   },
   {
    "duration": 8,
    "start_time": "2021-11-25T10:36:57.978Z"
   },
   {
    "duration": 17,
    "start_time": "2021-11-25T10:36:57.988Z"
   },
   {
    "duration": 17,
    "start_time": "2021-11-25T10:36:58.045Z"
   },
   {
    "duration": 5,
    "start_time": "2021-11-25T10:36:58.064Z"
   },
   {
    "duration": 5,
    "start_time": "2021-11-25T10:36:58.071Z"
   },
   {
    "duration": 9,
    "start_time": "2021-11-25T10:36:58.077Z"
   },
   {
    "duration": 4,
    "start_time": "2021-11-25T10:36:58.088Z"
   },
   {
    "duration": 13,
    "start_time": "2021-11-25T10:36:58.094Z"
   },
   {
    "duration": 39,
    "start_time": "2021-11-25T10:36:58.109Z"
   },
   {
    "duration": 5,
    "start_time": "2021-11-25T10:36:58.150Z"
   },
   {
    "duration": 6,
    "start_time": "2021-11-25T10:36:58.156Z"
   },
   {
    "duration": 8,
    "start_time": "2021-11-25T10:36:58.163Z"
   },
   {
    "duration": 5,
    "start_time": "2021-11-25T10:36:58.175Z"
   },
   {
    "duration": 9,
    "start_time": "2021-11-25T10:36:58.183Z"
   },
   {
    "duration": 3,
    "start_time": "2021-11-25T10:36:58.194Z"
   },
   {
    "duration": 46,
    "start_time": "2021-11-25T10:36:58.199Z"
   },
   {
    "duration": 14,
    "start_time": "2021-11-25T10:36:58.247Z"
   },
   {
    "duration": 16,
    "start_time": "2021-11-25T10:36:58.263Z"
   },
   {
    "duration": 7,
    "start_time": "2021-11-25T10:36:58.281Z"
   },
   {
    "duration": 7,
    "start_time": "2021-11-25T10:36:58.290Z"
   },
   {
    "duration": 4,
    "start_time": "2021-11-25T10:36:58.299Z"
   },
   {
    "duration": 46,
    "start_time": "2021-11-25T10:36:58.305Z"
   },
   {
    "duration": 26,
    "start_time": "2021-11-25T10:36:58.353Z"
   },
   {
    "duration": 11,
    "start_time": "2021-11-25T10:36:58.380Z"
   },
   {
    "duration": 34,
    "start_time": "2021-11-25T10:36:58.392Z"
   },
   {
    "duration": 8,
    "start_time": "2021-11-25T10:36:58.428Z"
   },
   {
    "duration": 7,
    "start_time": "2021-11-25T10:36:58.438Z"
   },
   {
    "duration": 10,
    "start_time": "2021-11-25T10:36:58.447Z"
   },
   {
    "duration": 18,
    "start_time": "2021-11-25T10:36:58.459Z"
   },
   {
    "duration": 6,
    "start_time": "2021-11-25T10:36:58.478Z"
   },
   {
    "duration": 6,
    "start_time": "2021-11-25T10:36:58.485Z"
   },
   {
    "duration": 18,
    "start_time": "2021-11-25T10:36:58.492Z"
   },
   {
    "duration": 6,
    "start_time": "2021-11-25T10:36:58.511Z"
   },
   {
    "duration": 26,
    "start_time": "2021-11-25T10:36:58.519Z"
   },
   {
    "duration": 6,
    "start_time": "2021-11-25T10:36:58.547Z"
   },
   {
    "duration": 15,
    "start_time": "2021-11-25T10:36:58.555Z"
   },
   {
    "duration": 12,
    "start_time": "2021-11-25T10:36:58.571Z"
   },
   {
    "duration": 10,
    "start_time": "2021-11-25T10:36:58.585Z"
   },
   {
    "duration": 5,
    "start_time": "2021-11-25T10:36:58.597Z"
   },
   {
    "duration": 42,
    "start_time": "2021-11-25T10:36:58.603Z"
   },
   {
    "duration": 19,
    "start_time": "2021-11-25T10:36:58.647Z"
   },
   {
    "duration": 5,
    "start_time": "2021-11-25T10:36:58.668Z"
   },
   {
    "duration": 20,
    "start_time": "2021-11-25T10:36:58.674Z"
   },
   {
    "duration": 4,
    "start_time": "2021-11-25T10:36:58.696Z"
   },
   {
    "duration": 7,
    "start_time": "2021-11-25T10:36:58.702Z"
   },
   {
    "duration": 4,
    "start_time": "2021-11-25T10:36:58.745Z"
   },
   {
    "duration": 10,
    "start_time": "2021-11-25T10:36:58.750Z"
   },
   {
    "duration": 12,
    "start_time": "2021-11-25T10:36:58.762Z"
   },
   {
    "duration": 13,
    "start_time": "2021-11-25T10:36:58.775Z"
   },
   {
    "duration": 12,
    "start_time": "2021-11-25T10:36:58.789Z"
   },
   {
    "duration": 40,
    "start_time": "2021-11-25T10:36:58.803Z"
   },
   {
    "duration": 14,
    "start_time": "2021-11-25T10:36:58.845Z"
   },
   {
    "duration": 11,
    "start_time": "2021-11-25T10:36:58.861Z"
   },
   {
    "duration": 12,
    "start_time": "2021-11-25T10:36:58.874Z"
   },
   {
    "duration": 712,
    "start_time": "2021-11-25T10:36:58.887Z"
   },
   {
    "duration": 6,
    "start_time": "2021-11-25T10:36:59.600Z"
   },
   {
    "duration": 5,
    "start_time": "2021-11-25T10:36:59.608Z"
   },
   {
    "duration": 3,
    "start_time": "2021-11-25T10:36:59.618Z"
   },
   {
    "duration": 52,
    "start_time": "2021-11-25T10:36:59.623Z"
   },
   {
    "duration": 3,
    "start_time": "2021-11-25T10:36:59.676Z"
   },
   {
    "duration": 164,
    "start_time": "2021-11-25T10:36:59.680Z"
   },
   {
    "duration": 5,
    "start_time": "2021-11-25T10:36:59.845Z"
   },
   {
    "duration": 12,
    "start_time": "2021-11-25T10:36:59.851Z"
   },
   {
    "duration": 3,
    "start_time": "2021-11-25T10:36:59.864Z"
   },
   {
    "duration": 9,
    "start_time": "2021-11-25T10:36:59.869Z"
   },
   {
    "duration": 6,
    "start_time": "2021-11-25T10:36:59.880Z"
   },
   {
    "duration": 7,
    "start_time": "2021-11-25T10:36:59.888Z"
   },
   {
    "duration": 7,
    "start_time": "2021-11-25T10:36:59.896Z"
   },
   {
    "duration": 41,
    "start_time": "2021-11-25T10:36:59.904Z"
   },
   {
    "duration": 8,
    "start_time": "2021-11-25T10:36:59.947Z"
   },
   {
    "duration": 684,
    "start_time": "2021-11-25T10:36:59.956Z"
   },
   {
    "duration": 132,
    "start_time": "2021-11-25T10:37:00.642Z"
   },
   {
    "duration": 243,
    "start_time": "2021-11-25T10:37:00.776Z"
   },
   {
    "duration": 253,
    "start_time": "2021-11-25T10:37:01.020Z"
   },
   {
    "duration": 5,
    "start_time": "2021-11-25T10:37:01.275Z"
   },
   {
    "duration": 310,
    "start_time": "2021-11-25T10:37:01.282Z"
   },
   {
    "duration": 601,
    "start_time": "2021-11-25T10:38:14.678Z"
   },
   {
    "duration": 50,
    "start_time": "2021-11-25T10:38:15.281Z"
   },
   {
    "duration": 19,
    "start_time": "2021-11-25T10:38:15.333Z"
   },
   {
    "duration": 17,
    "start_time": "2021-11-25T10:38:15.353Z"
   },
   {
    "duration": 13,
    "start_time": "2021-11-25T10:38:15.372Z"
   },
   {
    "duration": 33,
    "start_time": "2021-11-25T10:38:15.386Z"
   },
   {
    "duration": 13,
    "start_time": "2021-11-25T10:38:15.421Z"
   },
   {
    "duration": 15,
    "start_time": "2021-11-25T10:38:15.437Z"
   },
   {
    "duration": 25,
    "start_time": "2021-11-25T10:38:15.454Z"
   },
   {
    "duration": 23,
    "start_time": "2021-11-25T10:38:15.481Z"
   },
   {
    "duration": 31,
    "start_time": "2021-11-25T10:38:15.506Z"
   },
   {
    "duration": 28,
    "start_time": "2021-11-25T10:38:15.539Z"
   },
   {
    "duration": 17,
    "start_time": "2021-11-25T10:38:15.569Z"
   },
   {
    "duration": 6,
    "start_time": "2021-11-25T10:38:15.587Z"
   },
   {
    "duration": 10,
    "start_time": "2021-11-25T10:38:15.595Z"
   },
   {
    "duration": 15,
    "start_time": "2021-11-25T10:38:15.607Z"
   },
   {
    "duration": 15,
    "start_time": "2021-11-25T10:38:15.624Z"
   },
   {
    "duration": 19,
    "start_time": "2021-11-25T10:38:15.641Z"
   },
   {
    "duration": 30,
    "start_time": "2021-11-25T10:38:15.662Z"
   },
   {
    "duration": 23,
    "start_time": "2021-11-25T10:38:15.694Z"
   },
   {
    "duration": 28,
    "start_time": "2021-11-25T10:38:15.719Z"
   },
   {
    "duration": 29,
    "start_time": "2021-11-25T10:38:15.749Z"
   },
   {
    "duration": 20,
    "start_time": "2021-11-25T10:38:15.782Z"
   },
   {
    "duration": 29,
    "start_time": "2021-11-25T10:38:15.805Z"
   },
   {
    "duration": 29,
    "start_time": "2021-11-25T10:38:15.835Z"
   },
   {
    "duration": 36,
    "start_time": "2021-11-25T10:38:15.866Z"
   },
   {
    "duration": 40,
    "start_time": "2021-11-25T10:38:15.903Z"
   },
   {
    "duration": 37,
    "start_time": "2021-11-25T10:38:15.945Z"
   },
   {
    "duration": 35,
    "start_time": "2021-11-25T10:38:15.984Z"
   },
   {
    "duration": 38,
    "start_time": "2021-11-25T10:38:16.021Z"
   },
   {
    "duration": 16,
    "start_time": "2021-11-25T10:38:16.060Z"
   },
   {
    "duration": 32,
    "start_time": "2021-11-25T10:38:16.077Z"
   },
   {
    "duration": 26,
    "start_time": "2021-11-25T10:38:16.111Z"
   },
   {
    "duration": 9,
    "start_time": "2021-11-25T10:38:16.140Z"
   },
   {
    "duration": 49,
    "start_time": "2021-11-25T10:38:16.151Z"
   },
   {
    "duration": 10,
    "start_time": "2021-11-25T10:38:16.203Z"
   },
   {
    "duration": 25,
    "start_time": "2021-11-25T10:38:16.214Z"
   },
   {
    "duration": 28,
    "start_time": "2021-11-25T10:38:16.241Z"
   },
   {
    "duration": 38,
    "start_time": "2021-11-25T10:38:16.271Z"
   },
   {
    "duration": 40,
    "start_time": "2021-11-25T10:38:16.311Z"
   },
   {
    "duration": 23,
    "start_time": "2021-11-25T10:38:16.353Z"
   },
   {
    "duration": 37,
    "start_time": "2021-11-25T10:38:16.378Z"
   },
   {
    "duration": 25,
    "start_time": "2021-11-25T10:38:16.417Z"
   },
   {
    "duration": 25,
    "start_time": "2021-11-25T10:38:16.443Z"
   },
   {
    "duration": 36,
    "start_time": "2021-11-25T10:38:16.470Z"
   },
   {
    "duration": 35,
    "start_time": "2021-11-25T10:38:16.507Z"
   },
   {
    "duration": 28,
    "start_time": "2021-11-25T10:38:16.544Z"
   },
   {
    "duration": 22,
    "start_time": "2021-11-25T10:38:16.573Z"
   },
   {
    "duration": 27,
    "start_time": "2021-11-25T10:38:16.596Z"
   },
   {
    "duration": 29,
    "start_time": "2021-11-25T10:38:16.625Z"
   },
   {
    "duration": 39,
    "start_time": "2021-11-25T10:38:16.655Z"
   },
   {
    "duration": 35,
    "start_time": "2021-11-25T10:38:16.696Z"
   },
   {
    "duration": 45,
    "start_time": "2021-11-25T10:38:16.733Z"
   },
   {
    "duration": 24,
    "start_time": "2021-11-25T10:38:16.780Z"
   },
   {
    "duration": 34,
    "start_time": "2021-11-25T10:38:16.805Z"
   },
   {
    "duration": 29,
    "start_time": "2021-11-25T10:38:16.840Z"
   },
   {
    "duration": 37,
    "start_time": "2021-11-25T10:38:16.871Z"
   },
   {
    "duration": 40,
    "start_time": "2021-11-25T10:38:16.910Z"
   },
   {
    "duration": 40,
    "start_time": "2021-11-25T10:38:16.951Z"
   },
   {
    "duration": 32,
    "start_time": "2021-11-25T10:38:16.992Z"
   },
   {
    "duration": 39,
    "start_time": "2021-11-25T10:38:17.025Z"
   },
   {
    "duration": 42,
    "start_time": "2021-11-25T10:38:17.065Z"
   },
   {
    "duration": 33,
    "start_time": "2021-11-25T10:38:17.108Z"
   },
   {
    "duration": 18,
    "start_time": "2021-11-25T10:38:17.143Z"
   },
   {
    "duration": 723,
    "start_time": "2021-11-25T10:38:17.163Z"
   },
   {
    "duration": 6,
    "start_time": "2021-11-25T10:38:17.888Z"
   },
   {
    "duration": 38,
    "start_time": "2021-11-25T10:38:17.896Z"
   },
   {
    "duration": 32,
    "start_time": "2021-11-25T10:38:17.940Z"
   },
   {
    "duration": 57,
    "start_time": "2021-11-25T10:38:17.975Z"
   },
   {
    "duration": 4,
    "start_time": "2021-11-25T10:38:18.034Z"
   },
   {
    "duration": 180,
    "start_time": "2021-11-25T10:38:18.040Z"
   },
   {
    "duration": 5,
    "start_time": "2021-11-25T10:38:18.222Z"
   },
   {
    "duration": 36,
    "start_time": "2021-11-25T10:38:18.228Z"
   },
   {
    "duration": 19,
    "start_time": "2021-11-25T10:38:18.266Z"
   },
   {
    "duration": 41,
    "start_time": "2021-11-25T10:38:18.287Z"
   },
   {
    "duration": 27,
    "start_time": "2021-11-25T10:38:18.329Z"
   },
   {
    "duration": 17,
    "start_time": "2021-11-25T10:38:18.358Z"
   },
   {
    "duration": 30,
    "start_time": "2021-11-25T10:38:18.377Z"
   },
   {
    "duration": 35,
    "start_time": "2021-11-25T10:38:18.408Z"
   },
   {
    "duration": 36,
    "start_time": "2021-11-25T10:38:18.444Z"
   },
   {
    "duration": 746,
    "start_time": "2021-11-25T10:38:18.482Z"
   },
   {
    "duration": 129,
    "start_time": "2021-11-25T10:38:19.230Z"
   },
   {
    "duration": 261,
    "start_time": "2021-11-25T10:38:19.361Z"
   },
   {
    "duration": 255,
    "start_time": "2021-11-25T10:38:19.624Z"
   },
   {
    "duration": 4,
    "start_time": "2021-11-25T10:38:19.881Z"
   },
   {
    "duration": 304,
    "start_time": "2021-11-25T10:38:19.887Z"
   },
   {
    "duration": 615,
    "start_time": "2021-11-25T10:57:43.776Z"
   },
   {
    "duration": 50,
    "start_time": "2021-11-25T10:57:44.393Z"
   },
   {
    "duration": 19,
    "start_time": "2021-11-25T10:57:44.445Z"
   },
   {
    "duration": 12,
    "start_time": "2021-11-25T10:57:44.466Z"
   },
   {
    "duration": 10,
    "start_time": "2021-11-25T10:57:44.480Z"
   },
   {
    "duration": 15,
    "start_time": "2021-11-25T10:57:44.492Z"
   },
   {
    "duration": 42,
    "start_time": "2021-11-25T10:57:44.509Z"
   },
   {
    "duration": 13,
    "start_time": "2021-11-25T10:57:44.554Z"
   },
   {
    "duration": 7,
    "start_time": "2021-11-25T10:57:44.570Z"
   },
   {
    "duration": 6,
    "start_time": "2021-11-25T10:57:44.579Z"
   },
   {
    "duration": 10,
    "start_time": "2021-11-25T10:57:44.587Z"
   },
   {
    "duration": 54,
    "start_time": "2021-11-25T10:57:44.599Z"
   },
   {
    "duration": 17,
    "start_time": "2021-11-25T10:57:44.655Z"
   },
   {
    "duration": 6,
    "start_time": "2021-11-25T10:57:44.673Z"
   },
   {
    "duration": 9,
    "start_time": "2021-11-25T10:57:44.681Z"
   },
   {
    "duration": 14,
    "start_time": "2021-11-25T10:57:44.691Z"
   },
   {
    "duration": 6,
    "start_time": "2021-11-25T10:57:44.707Z"
   },
   {
    "duration": 39,
    "start_time": "2021-11-25T10:57:44.715Z"
   },
   {
    "duration": 14,
    "start_time": "2021-11-25T10:57:44.756Z"
   },
   {
    "duration": 6,
    "start_time": "2021-11-25T10:57:44.772Z"
   },
   {
    "duration": 6,
    "start_time": "2021-11-25T10:57:44.780Z"
   },
   {
    "duration": 5,
    "start_time": "2021-11-25T10:57:44.788Z"
   },
   {
    "duration": 6,
    "start_time": "2021-11-25T10:57:44.799Z"
   },
   {
    "duration": 43,
    "start_time": "2021-11-25T10:57:44.808Z"
   },
   {
    "duration": 5,
    "start_time": "2021-11-25T10:57:44.853Z"
   },
   {
    "duration": 12,
    "start_time": "2021-11-25T10:57:44.859Z"
   },
   {
    "duration": 17,
    "start_time": "2021-11-25T10:57:44.873Z"
   },
   {
    "duration": 19,
    "start_time": "2021-11-25T10:57:44.892Z"
   },
   {
    "duration": 33,
    "start_time": "2021-11-25T10:57:44.913Z"
   },
   {
    "duration": 11,
    "start_time": "2021-11-25T10:57:44.948Z"
   },
   {
    "duration": 5,
    "start_time": "2021-11-25T10:57:44.961Z"
   },
   {
    "duration": 17,
    "start_time": "2021-11-25T10:57:44.968Z"
   },
   {
    "duration": 4,
    "start_time": "2021-11-25T10:57:44.987Z"
   },
   {
    "duration": 23,
    "start_time": "2021-11-25T10:57:44.993Z"
   },
   {
    "duration": 71,
    "start_time": "2021-11-25T10:57:45.018Z"
   },
   {
    "duration": 14,
    "start_time": "2021-11-25T10:57:45.092Z"
   },
   {
    "duration": 5,
    "start_time": "2021-11-25T10:57:45.108Z"
   },
   {
    "duration": 4,
    "start_time": "2021-11-25T10:57:45.115Z"
   },
   {
    "duration": 31,
    "start_time": "2021-11-25T10:57:45.120Z"
   },
   {
    "duration": 11,
    "start_time": "2021-11-25T10:57:45.153Z"
   },
   {
    "duration": 7,
    "start_time": "2021-11-25T10:57:45.166Z"
   },
   {
    "duration": 23,
    "start_time": "2021-11-25T10:57:45.175Z"
   },
   {
    "duration": 4,
    "start_time": "2021-11-25T10:57:45.200Z"
   },
   {
    "duration": 9,
    "start_time": "2021-11-25T10:57:45.206Z"
   },
   {
    "duration": 33,
    "start_time": "2021-11-25T10:57:45.216Z"
   },
   {
    "duration": 17,
    "start_time": "2021-11-25T10:57:45.251Z"
   },
   {
    "duration": 13,
    "start_time": "2021-11-25T10:57:45.269Z"
   },
   {
    "duration": 8,
    "start_time": "2021-11-25T10:57:45.284Z"
   },
   {
    "duration": 5,
    "start_time": "2021-11-25T10:57:45.294Z"
   },
   {
    "duration": 6,
    "start_time": "2021-11-25T10:57:45.301Z"
   },
   {
    "duration": 48,
    "start_time": "2021-11-25T10:57:45.309Z"
   },
   {
    "duration": 6,
    "start_time": "2021-11-25T10:57:45.359Z"
   },
   {
    "duration": 28,
    "start_time": "2021-11-25T10:57:45.367Z"
   },
   {
    "duration": 6,
    "start_time": "2021-11-25T10:57:45.397Z"
   },
   {
    "duration": 42,
    "start_time": "2021-11-25T10:57:45.405Z"
   },
   {
    "duration": 4,
    "start_time": "2021-11-25T10:57:45.449Z"
   },
   {
    "duration": 14,
    "start_time": "2021-11-25T10:57:45.455Z"
   },
   {
    "duration": 17,
    "start_time": "2021-11-25T10:57:45.471Z"
   },
   {
    "duration": 16,
    "start_time": "2021-11-25T10:57:45.490Z"
   },
   {
    "duration": 15,
    "start_time": "2021-11-25T10:57:45.509Z"
   },
   {
    "duration": 16,
    "start_time": "2021-11-25T10:57:45.545Z"
   },
   {
    "duration": 22,
    "start_time": "2021-11-25T10:57:45.563Z"
   },
   {
    "duration": 13,
    "start_time": "2021-11-25T10:57:45.587Z"
   },
   {
    "duration": 14,
    "start_time": "2021-11-25T10:57:45.602Z"
   },
   {
    "duration": 704,
    "start_time": "2021-11-25T10:57:45.645Z"
   },
   {
    "duration": 7,
    "start_time": "2021-11-25T10:57:46.351Z"
   },
   {
    "duration": 4,
    "start_time": "2021-11-25T10:57:46.360Z"
   },
   {
    "duration": 3,
    "start_time": "2021-11-25T10:57:46.370Z"
   },
   {
    "duration": 36,
    "start_time": "2021-11-25T10:57:46.375Z"
   },
   {
    "duration": 33,
    "start_time": "2021-11-25T10:57:46.413Z"
   },
   {
    "duration": 158,
    "start_time": "2021-11-25T10:57:46.448Z"
   },
   {
    "duration": 5,
    "start_time": "2021-11-25T10:57:46.608Z"
   },
   {
    "duration": 9,
    "start_time": "2021-11-25T10:57:46.614Z"
   },
   {
    "duration": 3,
    "start_time": "2021-11-25T10:57:46.624Z"
   },
   {
    "duration": 5,
    "start_time": "2021-11-25T10:57:46.645Z"
   },
   {
    "duration": 9,
    "start_time": "2021-11-25T10:57:46.652Z"
   },
   {
    "duration": 6,
    "start_time": "2021-11-25T10:57:46.663Z"
   },
   {
    "duration": 11,
    "start_time": "2021-11-25T10:57:46.670Z"
   },
   {
    "duration": 10,
    "start_time": "2021-11-25T10:57:46.683Z"
   },
   {
    "duration": 7,
    "start_time": "2021-11-25T10:57:46.694Z"
   },
   {
    "duration": 787,
    "start_time": "2021-11-25T10:57:46.703Z"
   },
   {
    "duration": 134,
    "start_time": "2021-11-25T10:57:47.492Z"
   },
   {
    "duration": 245,
    "start_time": "2021-11-25T10:57:47.628Z"
   },
   {
    "duration": 255,
    "start_time": "2021-11-25T10:57:47.874Z"
   },
   {
    "duration": 13,
    "start_time": "2021-11-25T10:57:48.132Z"
   },
   {
    "duration": 292,
    "start_time": "2021-11-25T10:57:48.147Z"
   },
   {
    "duration": 402175,
    "start_time": "2021-11-25T10:57:48.444Z"
   },
   {
    "duration": 653,
    "start_time": "2021-11-25T11:04:30.621Z"
   },
   {
    "duration": 4,
    "start_time": "2021-11-25T11:04:31.276Z"
   },
   {
    "duration": 12,
    "start_time": "2021-11-25T11:04:31.282Z"
   },
   {
    "duration": 11,
    "start_time": "2021-11-25T11:04:31.296Z"
   },
   {
    "duration": 6612,
    "start_time": "2021-11-25T11:04:31.309Z"
   },
   {
    "duration": -2068,
    "start_time": "2021-11-25T11:04:39.991Z"
   },
   {
    "duration": -2079,
    "start_time": "2021-11-25T11:04:40.003Z"
   },
   {
    "duration": -2087,
    "start_time": "2021-11-25T11:04:40.012Z"
   },
   {
    "duration": 5,
    "start_time": "2021-11-25T11:05:49.787Z"
   },
   {
    "duration": 316,
    "start_time": "2021-11-25T11:05:54.969Z"
   },
   {
    "duration": 6,
    "start_time": "2021-11-25T11:05:57.313Z"
   },
   {
    "duration": 12,
    "start_time": "2021-11-25T11:06:02.713Z"
   },
   {
    "duration": 11,
    "start_time": "2021-11-25T11:06:09.467Z"
   },
   {
    "duration": 11,
    "start_time": "2021-11-25T11:06:10.647Z"
   },
   {
    "duration": 10,
    "start_time": "2021-11-25T11:06:11.160Z"
   },
   {
    "duration": 590,
    "start_time": "2021-11-25T11:07:14.469Z"
   },
   {
    "duration": 54,
    "start_time": "2021-11-25T11:07:15.060Z"
   },
   {
    "duration": 19,
    "start_time": "2021-11-25T11:07:15.116Z"
   },
   {
    "duration": 17,
    "start_time": "2021-11-25T11:07:15.137Z"
   },
   {
    "duration": 15,
    "start_time": "2021-11-25T11:07:15.155Z"
   },
   {
    "duration": 14,
    "start_time": "2021-11-25T11:07:15.172Z"
   },
   {
    "duration": 9,
    "start_time": "2021-11-25T11:07:15.188Z"
   },
   {
    "duration": 8,
    "start_time": "2021-11-25T11:07:15.199Z"
   },
   {
    "duration": 36,
    "start_time": "2021-11-25T11:07:15.209Z"
   },
   {
    "duration": 6,
    "start_time": "2021-11-25T11:07:15.247Z"
   },
   {
    "duration": 9,
    "start_time": "2021-11-25T11:07:15.254Z"
   },
   {
    "duration": 16,
    "start_time": "2021-11-25T11:07:15.265Z"
   },
   {
    "duration": 17,
    "start_time": "2021-11-25T11:07:15.283Z"
   },
   {
    "duration": 43,
    "start_time": "2021-11-25T11:07:15.302Z"
   },
   {
    "duration": 7,
    "start_time": "2021-11-25T11:07:15.347Z"
   },
   {
    "duration": 10,
    "start_time": "2021-11-25T11:07:15.356Z"
   },
   {
    "duration": 5,
    "start_time": "2021-11-25T11:07:15.367Z"
   },
   {
    "duration": 23,
    "start_time": "2021-11-25T11:07:15.374Z"
   },
   {
    "duration": 7,
    "start_time": "2021-11-25T11:07:15.399Z"
   },
   {
    "duration": 4,
    "start_time": "2021-11-25T11:07:15.408Z"
   },
   {
    "duration": 33,
    "start_time": "2021-11-25T11:07:15.414Z"
   },
   {
    "duration": 10,
    "start_time": "2021-11-25T11:07:15.449Z"
   },
   {
    "duration": 6,
    "start_time": "2021-11-25T11:07:15.463Z"
   },
   {
    "duration": 7,
    "start_time": "2021-11-25T11:07:15.471Z"
   },
   {
    "duration": 3,
    "start_time": "2021-11-25T11:07:15.480Z"
   },
   {
    "duration": 9,
    "start_time": "2021-11-25T11:07:15.484Z"
   },
   {
    "duration": 20,
    "start_time": "2021-11-25T11:07:15.494Z"
   },
   {
    "duration": 39,
    "start_time": "2021-11-25T11:07:15.516Z"
   },
   {
    "duration": 6,
    "start_time": "2021-11-25T11:07:15.557Z"
   },
   {
    "duration": 10,
    "start_time": "2021-11-25T11:07:15.564Z"
   },
   {
    "duration": 5,
    "start_time": "2021-11-25T11:07:15.575Z"
   },
   {
    "duration": 13,
    "start_time": "2021-11-25T11:07:15.582Z"
   },
   {
    "duration": 5,
    "start_time": "2021-11-25T11:07:15.596Z"
   },
   {
    "duration": 42,
    "start_time": "2021-11-25T11:07:15.603Z"
   },
   {
    "duration": 38,
    "start_time": "2021-11-25T11:07:15.647Z"
   },
   {
    "duration": 9,
    "start_time": "2021-11-25T11:07:15.687Z"
   },
   {
    "duration": 5,
    "start_time": "2021-11-25T11:07:15.698Z"
   },
   {
    "duration": 3,
    "start_time": "2021-11-25T11:07:15.705Z"
   },
   {
    "duration": 36,
    "start_time": "2021-11-25T11:07:15.709Z"
   },
   {
    "duration": 7,
    "start_time": "2021-11-25T11:07:15.746Z"
   },
   {
    "duration": 7,
    "start_time": "2021-11-25T11:07:15.754Z"
   },
   {
    "duration": 19,
    "start_time": "2021-11-25T11:07:15.763Z"
   },
   {
    "duration": 5,
    "start_time": "2021-11-25T11:07:15.783Z"
   },
   {
    "duration": 6,
    "start_time": "2021-11-25T11:07:15.789Z"
   },
   {
    "duration": 5,
    "start_time": "2021-11-25T11:07:15.797Z"
   },
   {
    "duration": 48,
    "start_time": "2021-11-25T11:07:15.804Z"
   },
   {
    "duration": 11,
    "start_time": "2021-11-25T11:07:15.854Z"
   },
   {
    "duration": 9,
    "start_time": "2021-11-25T11:07:15.867Z"
   },
   {
    "duration": 5,
    "start_time": "2021-11-25T11:07:15.877Z"
   },
   {
    "duration": 7,
    "start_time": "2021-11-25T11:07:15.883Z"
   },
   {
    "duration": 15,
    "start_time": "2021-11-25T11:07:15.891Z"
   },
   {
    "duration": 37,
    "start_time": "2021-11-25T11:07:15.908Z"
   },
   {
    "duration": 20,
    "start_time": "2021-11-25T11:07:15.947Z"
   },
   {
    "duration": 6,
    "start_time": "2021-11-25T11:07:15.969Z"
   },
   {
    "duration": 7,
    "start_time": "2021-11-25T11:07:15.977Z"
   },
   {
    "duration": 4,
    "start_time": "2021-11-25T11:07:15.985Z"
   },
   {
    "duration": 7,
    "start_time": "2021-11-25T11:07:15.991Z"
   },
   {
    "duration": 46,
    "start_time": "2021-11-25T11:07:16.000Z"
   },
   {
    "duration": 14,
    "start_time": "2021-11-25T11:07:16.048Z"
   },
   {
    "duration": 13,
    "start_time": "2021-11-25T11:07:16.064Z"
   },
   {
    "duration": 11,
    "start_time": "2021-11-25T11:07:16.079Z"
   },
   {
    "duration": 52,
    "start_time": "2021-11-25T11:07:16.092Z"
   },
   {
    "duration": 14,
    "start_time": "2021-11-25T11:07:16.146Z"
   },
   {
    "duration": 14,
    "start_time": "2021-11-25T11:07:21.532Z"
   },
   {
    "duration": 13,
    "start_time": "2021-11-25T11:08:09.496Z"
   },
   {
    "duration": 741,
    "start_time": "2021-11-25T11:08:09.512Z"
   },
   {
    "duration": 6,
    "start_time": "2021-11-25T11:08:10.256Z"
   },
   {
    "duration": 5,
    "start_time": "2021-11-25T11:08:10.263Z"
   },
   {
    "duration": 5,
    "start_time": "2021-11-25T11:08:10.269Z"
   },
   {
    "duration": 29,
    "start_time": "2021-11-25T11:08:10.276Z"
   },
   {
    "duration": 3,
    "start_time": "2021-11-25T11:08:10.307Z"
   },
   {
    "duration": 159,
    "start_time": "2021-11-25T11:08:10.344Z"
   },
   {
    "duration": 5,
    "start_time": "2021-11-25T11:08:10.505Z"
   },
   {
    "duration": 20,
    "start_time": "2021-11-25T11:08:10.511Z"
   },
   {
    "duration": 22,
    "start_time": "2021-11-25T11:08:10.533Z"
   },
   {
    "duration": 21,
    "start_time": "2021-11-25T11:08:10.557Z"
   },
   {
    "duration": 26,
    "start_time": "2021-11-25T11:08:10.579Z"
   },
   {
    "duration": 33,
    "start_time": "2021-11-25T11:08:10.606Z"
   },
   {
    "duration": 36,
    "start_time": "2021-11-25T11:08:10.640Z"
   },
   {
    "duration": 25,
    "start_time": "2021-11-25T11:08:10.678Z"
   },
   {
    "duration": 33,
    "start_time": "2021-11-25T11:08:10.705Z"
   },
   {
    "duration": 703,
    "start_time": "2021-11-25T11:08:10.739Z"
   },
   {
    "duration": 136,
    "start_time": "2021-11-25T11:08:11.446Z"
   },
   {
    "duration": 252,
    "start_time": "2021-11-25T11:08:11.584Z"
   },
   {
    "duration": 249,
    "start_time": "2021-11-25T11:08:11.837Z"
   },
   {
    "duration": 5,
    "start_time": "2021-11-25T11:08:12.088Z"
   },
   {
    "duration": 273,
    "start_time": "2021-11-25T11:08:12.094Z"
   },
   {
    "duration": 5,
    "start_time": "2021-11-25T11:08:12.368Z"
   },
   {
    "duration": 22,
    "start_time": "2021-11-25T11:08:12.374Z"
   },
   {
    "duration": 32,
    "start_time": "2021-11-25T11:08:12.397Z"
   },
   {
    "duration": 6655,
    "start_time": "2021-11-25T11:08:12.431Z"
   },
   {
    "duration": 300,
    "start_time": "2021-11-25T11:08:41.501Z"
   },
   {
    "duration": 6,
    "start_time": "2021-11-25T11:12:59.127Z"
   },
   {
    "duration": 6723,
    "start_time": "2021-11-25T11:13:57.511Z"
   },
   {
    "duration": 5,
    "start_time": "2021-11-25T11:14:09.031Z"
   },
   {
    "duration": 274,
    "start_time": "2021-11-25T11:14:41.927Z"
   },
   {
    "duration": 580,
    "start_time": "2021-11-25T11:15:00.288Z"
   },
   {
    "duration": 11,
    "start_time": "2021-11-25T11:15:53.161Z"
   },
   {
    "duration": 10,
    "start_time": "2021-11-25T11:16:38.601Z"
   },
   {
    "duration": 4,
    "start_time": "2021-11-25T11:16:39.918Z"
   },
   {
    "duration": 11,
    "start_time": "2021-11-25T11:16:41.222Z"
   },
   {
    "duration": 5,
    "start_time": "2021-11-25T11:20:07.239Z"
   },
   {
    "duration": 8,
    "start_time": "2021-11-25T11:20:16.488Z"
   },
   {
    "duration": 289,
    "start_time": "2021-11-25T11:20:36.402Z"
   },
   {
    "duration": 6,
    "start_time": "2021-11-25T11:20:42.107Z"
   },
   {
    "duration": 6,
    "start_time": "2021-11-25T11:22:46.377Z"
   },
   {
    "duration": 13,
    "start_time": "2021-11-25T11:26:01.771Z"
   },
   {
    "duration": 7,
    "start_time": "2021-11-25T11:27:23.050Z"
   },
   {
    "duration": 10,
    "start_time": "2021-11-25T11:27:44.892Z"
   },
   {
    "duration": 18,
    "start_time": "2021-11-25T12:22:23.185Z"
   },
   {
    "duration": 17,
    "start_time": "2021-11-25T12:23:15.528Z"
   },
   {
    "duration": 17,
    "start_time": "2021-11-25T12:23:35.448Z"
   },
   {
    "duration": 18,
    "start_time": "2021-11-25T12:23:52.394Z"
   },
   {
    "duration": 17,
    "start_time": "2021-11-25T12:24:27.290Z"
   },
   {
    "duration": 23,
    "start_time": "2021-11-25T12:28:21.603Z"
   },
   {
    "duration": 23,
    "start_time": "2021-11-25T12:28:33.402Z"
   },
   {
    "duration": 13,
    "start_time": "2021-11-25T12:30:00.667Z"
   },
   {
    "duration": 36,
    "start_time": "2021-11-25T12:30:08.265Z"
   },
   {
    "duration": 11,
    "start_time": "2021-11-25T12:30:19.821Z"
   },
   {
    "duration": 13,
    "start_time": "2021-11-25T12:39:36.424Z"
   },
   {
    "duration": 3,
    "start_time": "2021-11-25T12:39:37.588Z"
   },
   {
    "duration": 10,
    "start_time": "2021-11-25T12:40:40.878Z"
   },
   {
    "duration": 14,
    "start_time": "2021-11-25T12:44:26.656Z"
   },
   {
    "duration": 14,
    "start_time": "2021-11-25T12:44:56.927Z"
   },
   {
    "duration": 18,
    "start_time": "2021-11-25T12:45:28.657Z"
   },
   {
    "duration": 11,
    "start_time": "2021-11-25T12:45:32.524Z"
   },
   {
    "duration": 13,
    "start_time": "2021-11-25T12:45:56.151Z"
   },
   {
    "duration": 11,
    "start_time": "2021-11-25T12:45:57.902Z"
   },
   {
    "duration": 13,
    "start_time": "2021-11-25T12:47:00.762Z"
   },
   {
    "duration": 10,
    "start_time": "2021-11-25T12:47:02.390Z"
   },
   {
    "duration": 588,
    "start_time": "2021-11-25T12:48:48.785Z"
   },
   {
    "duration": 56,
    "start_time": "2021-11-25T12:48:49.375Z"
   },
   {
    "duration": 25,
    "start_time": "2021-11-25T12:48:49.433Z"
   },
   {
    "duration": 13,
    "start_time": "2021-11-25T12:48:49.461Z"
   },
   {
    "duration": 9,
    "start_time": "2021-11-25T12:48:49.476Z"
   },
   {
    "duration": 15,
    "start_time": "2021-11-25T12:48:49.487Z"
   },
   {
    "duration": 8,
    "start_time": "2021-11-25T12:48:49.504Z"
   },
   {
    "duration": 10,
    "start_time": "2021-11-25T12:48:49.546Z"
   },
   {
    "duration": 8,
    "start_time": "2021-11-25T12:48:49.558Z"
   },
   {
    "duration": 8,
    "start_time": "2021-11-25T12:48:49.568Z"
   },
   {
    "duration": 15,
    "start_time": "2021-11-25T12:48:49.578Z"
   },
   {
    "duration": 53,
    "start_time": "2021-11-25T12:48:49.595Z"
   },
   {
    "duration": 20,
    "start_time": "2021-11-25T12:48:49.650Z"
   },
   {
    "duration": 6,
    "start_time": "2021-11-25T12:48:49.673Z"
   },
   {
    "duration": 10,
    "start_time": "2021-11-25T12:48:49.680Z"
   },
   {
    "duration": 15,
    "start_time": "2021-11-25T12:48:49.692Z"
   },
   {
    "duration": 39,
    "start_time": "2021-11-25T12:48:49.709Z"
   },
   {
    "duration": 19,
    "start_time": "2021-11-25T12:48:49.749Z"
   },
   {
    "duration": 11,
    "start_time": "2021-11-25T12:48:49.771Z"
   },
   {
    "duration": 11,
    "start_time": "2021-11-25T12:48:49.784Z"
   },
   {
    "duration": 12,
    "start_time": "2021-11-25T12:48:49.797Z"
   },
   {
    "duration": 15,
    "start_time": "2021-11-25T12:48:49.811Z"
   },
   {
    "duration": 7,
    "start_time": "2021-11-25T12:48:49.848Z"
   },
   {
    "duration": 10,
    "start_time": "2021-11-25T12:48:49.858Z"
   },
   {
    "duration": 4,
    "start_time": "2021-11-25T12:48:49.871Z"
   },
   {
    "duration": 11,
    "start_time": "2021-11-25T12:48:49.877Z"
   },
   {
    "duration": 15,
    "start_time": "2021-11-25T12:48:49.890Z"
   },
   {
    "duration": 51,
    "start_time": "2021-11-25T12:48:49.906Z"
   },
   {
    "duration": 6,
    "start_time": "2021-11-25T12:48:49.959Z"
   },
   {
    "duration": 9,
    "start_time": "2021-11-25T12:48:49.967Z"
   },
   {
    "duration": 11,
    "start_time": "2021-11-25T12:48:49.978Z"
   },
   {
    "duration": 17,
    "start_time": "2021-11-25T12:48:49.991Z"
   },
   {
    "duration": 5,
    "start_time": "2021-11-25T12:48:50.010Z"
   },
   {
    "duration": 4,
    "start_time": "2021-11-25T12:48:50.044Z"
   },
   {
    "duration": 49,
    "start_time": "2021-11-25T12:48:50.050Z"
   },
   {
    "duration": 10,
    "start_time": "2021-11-25T12:48:50.101Z"
   },
   {
    "duration": 7,
    "start_time": "2021-11-25T12:48:50.113Z"
   },
   {
    "duration": 23,
    "start_time": "2021-11-25T12:48:50.122Z"
   },
   {
    "duration": 10,
    "start_time": "2021-11-25T12:48:50.146Z"
   },
   {
    "duration": 15,
    "start_time": "2021-11-25T12:48:50.158Z"
   },
   {
    "duration": 14,
    "start_time": "2021-11-25T12:48:50.174Z"
   },
   {
    "duration": 37,
    "start_time": "2021-11-25T12:48:50.190Z"
   },
   {
    "duration": 6,
    "start_time": "2021-11-25T12:48:50.230Z"
   },
   {
    "duration": 13,
    "start_time": "2021-11-25T12:48:50.238Z"
   },
   {
    "duration": 16,
    "start_time": "2021-11-25T12:48:50.253Z"
   },
   {
    "duration": 26,
    "start_time": "2021-11-25T12:48:50.270Z"
   },
   {
    "duration": 13,
    "start_time": "2021-11-25T12:48:50.298Z"
   },
   {
    "duration": 10,
    "start_time": "2021-11-25T12:48:50.313Z"
   },
   {
    "duration": 22,
    "start_time": "2021-11-25T12:48:50.325Z"
   },
   {
    "duration": 5,
    "start_time": "2021-11-25T12:48:50.349Z"
   },
   {
    "duration": 18,
    "start_time": "2021-11-25T12:48:50.356Z"
   },
   {
    "duration": 5,
    "start_time": "2021-11-25T12:48:50.377Z"
   },
   {
    "duration": 27,
    "start_time": "2021-11-25T12:48:50.384Z"
   },
   {
    "duration": 35,
    "start_time": "2021-11-25T12:48:50.413Z"
   },
   {
    "duration": 8,
    "start_time": "2021-11-25T12:48:50.450Z"
   },
   {
    "duration": 4,
    "start_time": "2021-11-25T12:48:50.460Z"
   },
   {
    "duration": 12,
    "start_time": "2021-11-25T12:48:50.466Z"
   },
   {
    "duration": 18,
    "start_time": "2021-11-25T12:48:50.480Z"
   },
   {
    "duration": 15,
    "start_time": "2021-11-25T12:48:50.500Z"
   },
   {
    "duration": 40,
    "start_time": "2021-11-25T12:48:50.517Z"
   },
   {
    "duration": 11,
    "start_time": "2021-11-25T12:48:50.559Z"
   },
   {
    "duration": 26,
    "start_time": "2021-11-25T12:48:50.571Z"
   },
   {
    "duration": 13,
    "start_time": "2021-11-25T12:48:50.599Z"
   },
   {
    "duration": 12,
    "start_time": "2021-11-25T12:48:50.614Z"
   },
   {
    "duration": 892,
    "start_time": "2021-11-25T12:48:50.645Z"
   },
   {
    "duration": 9,
    "start_time": "2021-11-25T12:48:51.545Z"
   },
   {
    "duration": 5,
    "start_time": "2021-11-25T12:48:51.556Z"
   },
   {
    "duration": 4,
    "start_time": "2021-11-25T12:48:51.567Z"
   },
   {
    "duration": 35,
    "start_time": "2021-11-25T12:48:51.574Z"
   },
   {
    "duration": 4,
    "start_time": "2021-11-25T12:48:51.644Z"
   },
   {
    "duration": 166,
    "start_time": "2021-11-25T12:48:51.650Z"
   },
   {
    "duration": 5,
    "start_time": "2021-11-25T12:48:51.818Z"
   },
   {
    "duration": 22,
    "start_time": "2021-11-25T12:48:51.825Z"
   },
   {
    "duration": 4,
    "start_time": "2021-11-25T12:48:51.849Z"
   },
   {
    "duration": 10,
    "start_time": "2021-11-25T12:48:51.855Z"
   },
   {
    "duration": 7,
    "start_time": "2021-11-25T12:48:51.867Z"
   },
   {
    "duration": 15,
    "start_time": "2021-11-25T12:48:51.876Z"
   },
   {
    "duration": 8,
    "start_time": "2021-11-25T12:48:51.893Z"
   },
   {
    "duration": 10,
    "start_time": "2021-11-25T12:48:51.902Z"
   },
   {
    "duration": 32,
    "start_time": "2021-11-25T12:48:51.914Z"
   },
   {
    "duration": 980,
    "start_time": "2021-11-25T12:48:51.949Z"
   },
   {
    "duration": 193,
    "start_time": "2021-11-25T12:48:52.932Z"
   },
   {
    "duration": 263,
    "start_time": "2021-11-25T12:48:53.127Z"
   },
   {
    "duration": 258,
    "start_time": "2021-11-25T12:48:53.392Z"
   },
   {
    "duration": 5,
    "start_time": "2021-11-25T12:48:53.652Z"
   },
   {
    "duration": 294,
    "start_time": "2021-11-25T12:48:53.659Z"
   },
   {
    "duration": 4,
    "start_time": "2021-11-25T12:48:53.955Z"
   },
   {
    "duration": 10,
    "start_time": "2021-11-25T12:48:53.961Z"
   },
   {
    "duration": 3,
    "start_time": "2021-11-25T12:48:53.973Z"
   },
   {
    "duration": 7,
    "start_time": "2021-11-25T12:48:53.978Z"
   },
   {
    "duration": 13,
    "start_time": "2021-11-25T12:48:53.986Z"
   },
   {
    "duration": 75,
    "start_time": "2021-11-25T12:48:54.001Z"
   },
   {
    "duration": 3,
    "start_time": "2021-11-25T12:48:54.078Z"
   },
   {
    "duration": 16,
    "start_time": "2021-11-25T12:48:54.084Z"
   },
   {
    "duration": 12,
    "start_time": "2021-11-25T12:48:54.101Z"
   },
   {
    "duration": 9,
    "start_time": "2021-11-25T12:48:54.115Z"
   },
   {
    "duration": 7,
    "start_time": "2021-11-25T12:48:54.126Z"
   },
   {
    "duration": 14,
    "start_time": "2021-11-25T12:48:54.144Z"
   },
   {
    "duration": 9,
    "start_time": "2021-11-25T12:48:54.160Z"
   },
   {
    "duration": 24,
    "start_time": "2021-11-25T13:12:20.665Z"
   },
   {
    "duration": 587,
    "start_time": "2021-11-25T13:12:36.482Z"
   },
   {
    "duration": 54,
    "start_time": "2021-11-25T13:12:37.071Z"
   },
   {
    "duration": 20,
    "start_time": "2021-11-25T13:12:37.127Z"
   },
   {
    "duration": 32,
    "start_time": "2021-11-25T13:12:37.150Z"
   },
   {
    "duration": 38,
    "start_time": "2021-11-25T13:12:37.183Z"
   },
   {
    "duration": 38,
    "start_time": "2021-11-25T13:12:37.222Z"
   },
   {
    "duration": 31,
    "start_time": "2021-11-25T13:12:37.262Z"
   },
   {
    "duration": 14,
    "start_time": "2021-11-25T13:12:37.296Z"
   },
   {
    "duration": 14,
    "start_time": "2021-11-25T13:12:37.312Z"
   },
   {
    "duration": 13,
    "start_time": "2021-11-25T13:12:37.328Z"
   },
   {
    "duration": 26,
    "start_time": "2021-11-25T13:12:37.343Z"
   },
   {
    "duration": 37,
    "start_time": "2021-11-25T13:12:37.371Z"
   },
   {
    "duration": 38,
    "start_time": "2021-11-25T13:12:37.411Z"
   },
   {
    "duration": 6,
    "start_time": "2021-11-25T13:12:37.451Z"
   },
   {
    "duration": 25,
    "start_time": "2021-11-25T13:12:37.459Z"
   },
   {
    "duration": 21,
    "start_time": "2021-11-25T13:12:37.486Z"
   },
   {
    "duration": 21,
    "start_time": "2021-11-25T13:12:37.508Z"
   },
   {
    "duration": 25,
    "start_time": "2021-11-25T13:12:37.531Z"
   },
   {
    "duration": 26,
    "start_time": "2021-11-25T13:12:37.558Z"
   },
   {
    "duration": 12,
    "start_time": "2021-11-25T13:12:37.585Z"
   },
   {
    "duration": 18,
    "start_time": "2021-11-25T13:12:37.598Z"
   },
   {
    "duration": 19,
    "start_time": "2021-11-25T13:12:37.619Z"
   },
   {
    "duration": 18,
    "start_time": "2021-11-25T13:12:37.644Z"
   },
   {
    "duration": 34,
    "start_time": "2021-11-25T13:12:37.665Z"
   },
   {
    "duration": 9,
    "start_time": "2021-11-25T13:12:37.701Z"
   },
   {
    "duration": 25,
    "start_time": "2021-11-25T13:12:37.713Z"
   },
   {
    "duration": 27,
    "start_time": "2021-11-25T13:12:37.740Z"
   },
   {
    "duration": 25,
    "start_time": "2021-11-25T13:12:37.769Z"
   },
   {
    "duration": 18,
    "start_time": "2021-11-25T13:12:37.796Z"
   },
   {
    "duration": 16,
    "start_time": "2021-11-25T13:12:37.816Z"
   },
   {
    "duration": 12,
    "start_time": "2021-11-25T13:12:37.834Z"
   },
   {
    "duration": 33,
    "start_time": "2021-11-25T13:12:37.847Z"
   },
   {
    "duration": 15,
    "start_time": "2021-11-25T13:12:37.882Z"
   },
   {
    "duration": 16,
    "start_time": "2021-11-25T13:12:37.899Z"
   },
   {
    "duration": 60,
    "start_time": "2021-11-25T13:12:37.916Z"
   },
   {
    "duration": 10,
    "start_time": "2021-11-25T13:12:37.978Z"
   },
   {
    "duration": 29,
    "start_time": "2021-11-25T13:12:37.990Z"
   },
   {
    "duration": 21,
    "start_time": "2021-11-25T13:12:38.021Z"
   },
   {
    "duration": 18,
    "start_time": "2021-11-25T13:12:38.045Z"
   },
   {
    "duration": 26,
    "start_time": "2021-11-25T13:12:38.065Z"
   },
   {
    "duration": 19,
    "start_time": "2021-11-25T13:12:38.093Z"
   },
   {
    "duration": 39,
    "start_time": "2021-11-25T13:12:38.114Z"
   },
   {
    "duration": 29,
    "start_time": "2021-11-25T13:12:38.154Z"
   },
   {
    "duration": 36,
    "start_time": "2021-11-25T13:12:38.185Z"
   },
   {
    "duration": 22,
    "start_time": "2021-11-25T13:12:38.222Z"
   },
   {
    "duration": 30,
    "start_time": "2021-11-25T13:12:38.246Z"
   },
   {
    "duration": 25,
    "start_time": "2021-11-25T13:12:38.278Z"
   },
   {
    "duration": 10,
    "start_time": "2021-11-25T13:12:38.305Z"
   },
   {
    "duration": 34,
    "start_time": "2021-11-25T13:12:38.317Z"
   },
   {
    "duration": 14,
    "start_time": "2021-11-25T13:12:38.352Z"
   },
   {
    "duration": 35,
    "start_time": "2021-11-25T13:12:38.368Z"
   },
   {
    "duration": 15,
    "start_time": "2021-11-25T13:12:38.405Z"
   },
   {
    "duration": 40,
    "start_time": "2021-11-25T13:12:38.422Z"
   },
   {
    "duration": 17,
    "start_time": "2021-11-25T13:12:38.464Z"
   },
   {
    "duration": 17,
    "start_time": "2021-11-25T13:12:38.483Z"
   },
   {
    "duration": 33,
    "start_time": "2021-11-25T13:12:38.502Z"
   },
   {
    "duration": 26,
    "start_time": "2021-11-25T13:12:38.537Z"
   },
   {
    "duration": 35,
    "start_time": "2021-11-25T13:12:38.565Z"
   },
   {
    "duration": 23,
    "start_time": "2021-11-25T13:12:38.602Z"
   },
   {
    "duration": 56,
    "start_time": "2021-11-25T13:12:38.627Z"
   },
   {
    "duration": 12,
    "start_time": "2021-11-25T13:12:38.685Z"
   },
   {
    "duration": 15,
    "start_time": "2021-11-25T13:12:38.699Z"
   },
   {
    "duration": 14,
    "start_time": "2021-11-25T13:12:38.716Z"
   },
   {
    "duration": 14,
    "start_time": "2021-11-25T13:12:38.731Z"
   },
   {
    "duration": 20,
    "start_time": "2021-11-25T13:12:41.674Z"
   },
   {
    "duration": 132,
    "start_time": "2021-11-25T13:13:39.359Z"
   },
   {
    "duration": 637,
    "start_time": "2021-11-25T13:14:04.886Z"
   },
   {
    "duration": 688,
    "start_time": "2021-11-25T13:14:45.159Z"
   },
   {
    "duration": 53,
    "start_time": "2021-11-25T13:14:45.849Z"
   },
   {
    "duration": 21,
    "start_time": "2021-11-25T13:14:45.904Z"
   },
   {
    "duration": 20,
    "start_time": "2021-11-25T13:14:45.927Z"
   },
   {
    "duration": 12,
    "start_time": "2021-11-25T13:14:45.949Z"
   },
   {
    "duration": 14,
    "start_time": "2021-11-25T13:14:45.963Z"
   },
   {
    "duration": 9,
    "start_time": "2021-11-25T13:14:45.979Z"
   },
   {
    "duration": 12,
    "start_time": "2021-11-25T13:14:45.991Z"
   },
   {
    "duration": 40,
    "start_time": "2021-11-25T13:14:46.005Z"
   },
   {
    "duration": 7,
    "start_time": "2021-11-25T13:14:46.047Z"
   },
   {
    "duration": 10,
    "start_time": "2021-11-25T13:14:46.056Z"
   },
   {
    "duration": 20,
    "start_time": "2021-11-25T13:14:46.068Z"
   },
   {
    "duration": 18,
    "start_time": "2021-11-25T13:14:46.089Z"
   },
   {
    "duration": 39,
    "start_time": "2021-11-25T13:14:46.108Z"
   },
   {
    "duration": 11,
    "start_time": "2021-11-25T13:14:46.149Z"
   },
   {
    "duration": 9,
    "start_time": "2021-11-25T13:14:46.163Z"
   },
   {
    "duration": 5,
    "start_time": "2021-11-25T13:14:46.173Z"
   },
   {
    "duration": 14,
    "start_time": "2021-11-25T13:14:46.179Z"
   },
   {
    "duration": 7,
    "start_time": "2021-11-25T13:14:46.195Z"
   },
   {
    "duration": 5,
    "start_time": "2021-11-25T13:14:46.204Z"
   },
   {
    "duration": 37,
    "start_time": "2021-11-25T13:14:46.210Z"
   },
   {
    "duration": 12,
    "start_time": "2021-11-25T13:14:46.249Z"
   },
   {
    "duration": 7,
    "start_time": "2021-11-25T13:14:46.265Z"
   },
   {
    "duration": 18,
    "start_time": "2021-11-25T13:14:46.274Z"
   },
   {
    "duration": 6,
    "start_time": "2021-11-25T13:14:46.294Z"
   },
   {
    "duration": 18,
    "start_time": "2021-11-25T13:14:46.302Z"
   },
   {
    "duration": 26,
    "start_time": "2021-11-25T13:14:46.321Z"
   },
   {
    "duration": 21,
    "start_time": "2021-11-25T13:14:46.349Z"
   },
   {
    "duration": 8,
    "start_time": "2021-11-25T13:14:46.372Z"
   },
   {
    "duration": 19,
    "start_time": "2021-11-25T13:14:46.382Z"
   },
   {
    "duration": 14,
    "start_time": "2021-11-25T13:14:46.402Z"
   },
   {
    "duration": 29,
    "start_time": "2021-11-25T13:14:46.418Z"
   },
   {
    "duration": 4,
    "start_time": "2021-11-25T13:14:46.449Z"
   },
   {
    "duration": 12,
    "start_time": "2021-11-25T13:14:46.454Z"
   },
   {
    "duration": 52,
    "start_time": "2021-11-25T13:14:46.467Z"
   },
   {
    "duration": 8,
    "start_time": "2021-11-25T13:14:46.521Z"
   },
   {
    "duration": 7,
    "start_time": "2021-11-25T13:14:46.531Z"
   },
   {
    "duration": 9,
    "start_time": "2021-11-25T13:14:46.540Z"
   },
   {
    "duration": 21,
    "start_time": "2021-11-25T13:14:46.551Z"
   },
   {
    "duration": 13,
    "start_time": "2021-11-25T13:14:46.574Z"
   },
   {
    "duration": 20,
    "start_time": "2021-11-25T13:14:46.588Z"
   },
   {
    "duration": 18,
    "start_time": "2021-11-25T13:14:46.609Z"
   },
   {
    "duration": 4,
    "start_time": "2021-11-25T13:14:46.629Z"
   },
   {
    "duration": 6,
    "start_time": "2021-11-25T13:14:46.635Z"
   },
   {
    "duration": 6,
    "start_time": "2021-11-25T13:14:46.643Z"
   },
   {
    "duration": 11,
    "start_time": "2021-11-25T13:14:46.651Z"
   },
   {
    "duration": 13,
    "start_time": "2021-11-25T13:14:46.664Z"
   },
   {
    "duration": 9,
    "start_time": "2021-11-25T13:14:46.678Z"
   },
   {
    "duration": 8,
    "start_time": "2021-11-25T13:14:46.689Z"
   },
   {
    "duration": 7,
    "start_time": "2021-11-25T13:14:46.698Z"
   },
   {
    "duration": 45,
    "start_time": "2021-11-25T13:14:46.706Z"
   },
   {
    "duration": 5,
    "start_time": "2021-11-25T13:14:46.752Z"
   },
   {
    "duration": 17,
    "start_time": "2021-11-25T13:14:46.759Z"
   },
   {
    "duration": 5,
    "start_time": "2021-11-25T13:14:46.778Z"
   },
   {
    "duration": 7,
    "start_time": "2021-11-25T13:14:46.784Z"
   },
   {
    "duration": 5,
    "start_time": "2021-11-25T13:14:46.793Z"
   },
   {
    "duration": 7,
    "start_time": "2021-11-25T13:14:46.799Z"
   },
   {
    "duration": 40,
    "start_time": "2021-11-25T13:14:46.808Z"
   },
   {
    "duration": 14,
    "start_time": "2021-11-25T13:14:46.850Z"
   },
   {
    "duration": 12,
    "start_time": "2021-11-25T13:14:46.866Z"
   },
   {
    "duration": 11,
    "start_time": "2021-11-25T13:14:46.880Z"
   },
   {
    "duration": 13,
    "start_time": "2021-11-25T13:14:46.893Z"
   },
   {
    "duration": 45,
    "start_time": "2021-11-25T13:14:46.908Z"
   },
   {
    "duration": 13,
    "start_time": "2021-11-25T13:14:46.954Z"
   },
   {
    "duration": 18,
    "start_time": "2021-11-25T13:14:46.969Z"
   },
   {
    "duration": 688,
    "start_time": "2021-11-25T13:14:51.349Z"
   },
   {
    "duration": 12,
    "start_time": "2021-11-25T13:18:52.591Z"
   },
   {
    "duration": 6,
    "start_time": "2021-11-25T13:22:00.525Z"
   },
   {
    "duration": 3,
    "start_time": "2021-11-25T13:24:05.664Z"
   },
   {
    "duration": 2,
    "start_time": "2021-11-25T13:24:15.117Z"
   },
   {
    "duration": 3,
    "start_time": "2021-11-25T13:26:26.008Z"
   },
   {
    "duration": 4,
    "start_time": "2021-11-25T13:27:10.775Z"
   },
   {
    "duration": 3,
    "start_time": "2021-11-25T13:27:38.880Z"
   },
   {
    "duration": 29,
    "start_time": "2021-11-25T13:27:42.928Z"
   },
   {
    "duration": 3,
    "start_time": "2021-11-25T13:28:03.159Z"
   },
   {
    "duration": 159,
    "start_time": "2021-11-25T13:28:06.022Z"
   },
   {
    "duration": 5,
    "start_time": "2021-11-25T13:28:08.575Z"
   },
   {
    "duration": 3,
    "start_time": "2021-11-25T13:28:37.312Z"
   },
   {
    "duration": 26,
    "start_time": "2021-11-25T13:39:23.863Z"
   },
   {
    "duration": 26,
    "start_time": "2021-11-25T13:39:25.314Z"
   },
   {
    "duration": 25,
    "start_time": "2021-11-25T13:39:36.302Z"
   },
   {
    "duration": 26,
    "start_time": "2021-11-25T13:39:45.994Z"
   },
   {
    "duration": 28,
    "start_time": "2021-11-25T13:39:55.796Z"
   },
   {
    "duration": 34,
    "start_time": "2021-11-25T13:39:56.998Z"
   },
   {
    "duration": 29,
    "start_time": "2021-11-25T13:39:57.626Z"
   },
   {
    "duration": 29,
    "start_time": "2021-11-25T13:39:58.049Z"
   },
   {
    "duration": 638,
    "start_time": "2021-11-25T13:40:27.256Z"
   },
   {
    "duration": 54,
    "start_time": "2021-11-25T13:40:27.896Z"
   },
   {
    "duration": 19,
    "start_time": "2021-11-25T13:40:27.952Z"
   },
   {
    "duration": 16,
    "start_time": "2021-11-25T13:40:27.973Z"
   },
   {
    "duration": 10,
    "start_time": "2021-11-25T13:40:27.991Z"
   },
   {
    "duration": 14,
    "start_time": "2021-11-25T13:40:28.003Z"
   },
   {
    "duration": 25,
    "start_time": "2021-11-25T13:40:28.019Z"
   },
   {
    "duration": 9,
    "start_time": "2021-11-25T13:40:28.047Z"
   },
   {
    "duration": 7,
    "start_time": "2021-11-25T13:40:28.058Z"
   },
   {
    "duration": 7,
    "start_time": "2021-11-25T13:40:28.067Z"
   },
   {
    "duration": 10,
    "start_time": "2021-11-25T13:40:28.076Z"
   },
   {
    "duration": 18,
    "start_time": "2021-11-25T13:40:28.087Z"
   },
   {
    "duration": 55,
    "start_time": "2021-11-25T13:40:28.106Z"
   },
   {
    "duration": 6,
    "start_time": "2021-11-25T13:40:28.162Z"
   },
   {
    "duration": 6,
    "start_time": "2021-11-25T13:40:28.170Z"
   },
   {
    "duration": 10,
    "start_time": "2021-11-25T13:40:28.177Z"
   },
   {
    "duration": 5,
    "start_time": "2021-11-25T13:40:28.189Z"
   },
   {
    "duration": 50,
    "start_time": "2021-11-25T13:40:28.196Z"
   },
   {
    "duration": 6,
    "start_time": "2021-11-25T13:40:28.248Z"
   },
   {
    "duration": 7,
    "start_time": "2021-11-25T13:40:28.256Z"
   },
   {
    "duration": 6,
    "start_time": "2021-11-25T13:40:28.264Z"
   },
   {
    "duration": 6,
    "start_time": "2021-11-25T13:40:28.271Z"
   },
   {
    "duration": 5,
    "start_time": "2021-11-25T13:40:28.281Z"
   },
   {
    "duration": 7,
    "start_time": "2021-11-25T13:40:28.289Z"
   },
   {
    "duration": 3,
    "start_time": "2021-11-25T13:40:28.298Z"
   },
   {
    "duration": 48,
    "start_time": "2021-11-25T13:40:28.303Z"
   },
   {
    "duration": 18,
    "start_time": "2021-11-25T13:40:28.353Z"
   },
   {
    "duration": 15,
    "start_time": "2021-11-25T13:40:28.373Z"
   },
   {
    "duration": 6,
    "start_time": "2021-11-25T13:40:28.390Z"
   },
   {
    "duration": 7,
    "start_time": "2021-11-25T13:40:28.398Z"
   },
   {
    "duration": 4,
    "start_time": "2021-11-25T13:40:28.407Z"
   },
   {
    "duration": 44,
    "start_time": "2021-11-25T13:40:28.412Z"
   },
   {
    "duration": 4,
    "start_time": "2021-11-25T13:40:28.457Z"
   },
   {
    "duration": 6,
    "start_time": "2021-11-25T13:40:28.463Z"
   },
   {
    "duration": 33,
    "start_time": "2021-11-25T13:40:28.471Z"
   },
   {
    "duration": 8,
    "start_time": "2021-11-25T13:40:28.506Z"
   },
   {
    "duration": 30,
    "start_time": "2021-11-25T13:40:28.516Z"
   },
   {
    "duration": 2,
    "start_time": "2021-11-25T13:40:28.548Z"
   },
   {
    "duration": 10,
    "start_time": "2021-11-25T13:40:28.552Z"
   },
   {
    "duration": 5,
    "start_time": "2021-11-25T13:40:28.564Z"
   },
   {
    "duration": 5,
    "start_time": "2021-11-25T13:40:28.571Z"
   },
   {
    "duration": 19,
    "start_time": "2021-11-25T13:40:28.578Z"
   },
   {
    "duration": 4,
    "start_time": "2021-11-25T13:40:28.599Z"
   },
   {
    "duration": 6,
    "start_time": "2021-11-25T13:40:28.645Z"
   },
   {
    "duration": 7,
    "start_time": "2021-11-25T13:40:28.653Z"
   },
   {
    "duration": 15,
    "start_time": "2021-11-25T13:40:28.662Z"
   },
   {
    "duration": 11,
    "start_time": "2021-11-25T13:40:28.679Z"
   },
   {
    "duration": 8,
    "start_time": "2021-11-25T13:40:28.692Z"
   },
   {
    "duration": 5,
    "start_time": "2021-11-25T13:40:28.701Z"
   },
   {
    "duration": 6,
    "start_time": "2021-11-25T13:40:28.744Z"
   },
   {
    "duration": 24,
    "start_time": "2021-11-25T13:40:28.751Z"
   },
   {
    "duration": 11,
    "start_time": "2021-11-25T13:40:28.777Z"
   },
   {
    "duration": 21,
    "start_time": "2021-11-25T13:40:28.789Z"
   },
   {
    "duration": 4,
    "start_time": "2021-11-25T13:40:28.812Z"
   },
   {
    "duration": 26,
    "start_time": "2021-11-25T13:40:28.818Z"
   },
   {
    "duration": 4,
    "start_time": "2021-11-25T13:40:28.846Z"
   },
   {
    "duration": 8,
    "start_time": "2021-11-25T13:40:28.851Z"
   },
   {
    "duration": 12,
    "start_time": "2021-11-25T13:40:28.861Z"
   },
   {
    "duration": 12,
    "start_time": "2021-11-25T13:40:28.875Z"
   },
   {
    "duration": 12,
    "start_time": "2021-11-25T13:40:28.888Z"
   },
   {
    "duration": 45,
    "start_time": "2021-11-25T13:40:28.902Z"
   },
   {
    "duration": 12,
    "start_time": "2021-11-25T13:40:28.950Z"
   },
   {
    "duration": 23,
    "start_time": "2021-11-25T13:40:28.964Z"
   },
   {
    "duration": 22,
    "start_time": "2021-11-25T13:40:28.989Z"
   },
   {
    "duration": 21,
    "start_time": "2021-11-25T13:40:29.013Z"
   },
   {
    "duration": 666,
    "start_time": "2021-11-25T13:40:29.036Z"
   },
   {
    "duration": 2,
    "start_time": "2021-11-25T13:40:29.704Z"
   },
   {
    "duration": 27,
    "start_time": "2021-11-25T13:40:29.710Z"
   },
   {
    "duration": 21,
    "start_time": "2021-11-25T13:40:29.738Z"
   },
   {
    "duration": 29,
    "start_time": "2021-11-25T13:40:39.327Z"
   },
   {
    "duration": 3,
    "start_time": "2021-11-25T13:57:57.108Z"
   },
   {
    "duration": 146,
    "start_time": "2021-11-25T13:57:58.371Z"
   },
   {
    "duration": 6,
    "start_time": "2021-11-25T13:57:59.345Z"
   },
   {
    "duration": 156,
    "start_time": "2021-11-25T14:00:46.032Z"
   },
   {
    "duration": 476,
    "start_time": "2021-11-25T14:00:56.649Z"
   },
   {
    "duration": 146,
    "start_time": "2021-11-25T14:01:32.462Z"
   },
   {
    "duration": 5,
    "start_time": "2021-11-25T14:01:34.047Z"
   },
   {
    "duration": 7,
    "start_time": "2021-11-25T14:01:39.046Z"
   },
   {
    "duration": 155,
    "start_time": "2021-11-25T14:01:40.349Z"
   },
   {
    "duration": 6,
    "start_time": "2021-11-25T14:01:41.330Z"
   },
   {
    "duration": 6,
    "start_time": "2021-11-25T14:01:42.331Z"
   },
   {
    "duration": 3,
    "start_time": "2021-11-25T14:01:46.270Z"
   },
   {
    "duration": 181,
    "start_time": "2021-11-25T14:01:47.388Z"
   },
   {
    "duration": 5,
    "start_time": "2021-11-25T14:01:52.958Z"
   },
   {
    "duration": 3,
    "start_time": "2021-11-25T14:02:44.111Z"
   },
   {
    "duration": 3,
    "start_time": "2021-11-25T14:02:50.895Z"
   },
   {
    "duration": 4,
    "start_time": "2021-11-25T14:03:09.685Z"
   },
   {
    "duration": 4,
    "start_time": "2021-11-25T14:03:24.189Z"
   },
   {
    "duration": 677,
    "start_time": "2021-11-25T14:04:49.924Z"
   },
   {
    "duration": 54,
    "start_time": "2021-11-25T14:04:50.602Z"
   },
   {
    "duration": 19,
    "start_time": "2021-11-25T14:04:50.658Z"
   },
   {
    "duration": 12,
    "start_time": "2021-11-25T14:04:50.679Z"
   },
   {
    "duration": 10,
    "start_time": "2021-11-25T14:04:50.693Z"
   },
   {
    "duration": 43,
    "start_time": "2021-11-25T14:04:50.705Z"
   },
   {
    "duration": 7,
    "start_time": "2021-11-25T14:04:50.750Z"
   },
   {
    "duration": 14,
    "start_time": "2021-11-25T14:04:50.759Z"
   },
   {
    "duration": 7,
    "start_time": "2021-11-25T14:04:50.775Z"
   },
   {
    "duration": 7,
    "start_time": "2021-11-25T14:04:50.784Z"
   },
   {
    "duration": 12,
    "start_time": "2021-11-25T14:04:50.793Z"
   },
   {
    "duration": 50,
    "start_time": "2021-11-25T14:04:50.807Z"
   },
   {
    "duration": 19,
    "start_time": "2021-11-25T14:04:50.859Z"
   },
   {
    "duration": 7,
    "start_time": "2021-11-25T14:04:50.880Z"
   },
   {
    "duration": 8,
    "start_time": "2021-11-25T14:04:50.889Z"
   },
   {
    "duration": 47,
    "start_time": "2021-11-25T14:04:50.898Z"
   },
   {
    "duration": 5,
    "start_time": "2021-11-25T14:04:50.946Z"
   },
   {
    "duration": 19,
    "start_time": "2021-11-25T14:04:50.953Z"
   },
   {
    "duration": 8,
    "start_time": "2021-11-25T14:04:50.974Z"
   },
   {
    "duration": 6,
    "start_time": "2021-11-25T14:04:50.984Z"
   },
   {
    "duration": 7,
    "start_time": "2021-11-25T14:04:50.992Z"
   },
   {
    "duration": 6,
    "start_time": "2021-11-25T14:04:51.001Z"
   },
   {
    "duration": 36,
    "start_time": "2021-11-25T14:04:51.011Z"
   },
   {
    "duration": 7,
    "start_time": "2021-11-25T14:04:51.050Z"
   },
   {
    "duration": 17,
    "start_time": "2021-11-25T14:04:51.058Z"
   },
   {
    "duration": 10,
    "start_time": "2021-11-25T14:04:51.077Z"
   },
   {
    "duration": 13,
    "start_time": "2021-11-25T14:04:51.089Z"
   },
   {
    "duration": 16,
    "start_time": "2021-11-25T14:04:51.104Z"
   },
   {
    "duration": 23,
    "start_time": "2021-11-25T14:04:51.122Z"
   },
   {
    "duration": 8,
    "start_time": "2021-11-25T14:04:51.147Z"
   },
   {
    "duration": 5,
    "start_time": "2021-11-25T14:04:51.157Z"
   },
   {
    "duration": 13,
    "start_time": "2021-11-25T14:04:51.164Z"
   },
   {
    "duration": 7,
    "start_time": "2021-11-25T14:04:51.178Z"
   },
   {
    "duration": 4,
    "start_time": "2021-11-25T14:04:51.187Z"
   },
   {
    "duration": 75,
    "start_time": "2021-11-25T14:04:51.192Z"
   },
   {
    "duration": 9,
    "start_time": "2021-11-25T14:04:51.269Z"
   },
   {
    "duration": 5,
    "start_time": "2021-11-25T14:04:51.280Z"
   },
   {
    "duration": 3,
    "start_time": "2021-11-25T14:04:51.287Z"
   },
   {
    "duration": 10,
    "start_time": "2021-11-25T14:04:51.291Z"
   },
   {
    "duration": 9,
    "start_time": "2021-11-25T14:04:51.303Z"
   },
   {
    "duration": 32,
    "start_time": "2021-11-25T14:04:51.314Z"
   },
   {
    "duration": 26,
    "start_time": "2021-11-25T14:04:51.348Z"
   },
   {
    "duration": 13,
    "start_time": "2021-11-25T14:04:51.376Z"
   },
   {
    "duration": 9,
    "start_time": "2021-11-25T14:04:51.391Z"
   },
   {
    "duration": 8,
    "start_time": "2021-11-25T14:04:51.402Z"
   },
   {
    "duration": 33,
    "start_time": "2021-11-25T14:04:51.412Z"
   },
   {
    "duration": 11,
    "start_time": "2021-11-25T14:04:51.447Z"
   },
   {
    "duration": 10,
    "start_time": "2021-11-25T14:04:51.460Z"
   },
   {
    "duration": 22,
    "start_time": "2021-11-25T14:04:51.472Z"
   },
   {
    "duration": 7,
    "start_time": "2021-11-25T14:04:51.496Z"
   },
   {
    "duration": 17,
    "start_time": "2021-11-25T14:04:51.505Z"
   },
   {
    "duration": 24,
    "start_time": "2021-11-25T14:04:51.523Z"
   },
   {
    "duration": 20,
    "start_time": "2021-11-25T14:04:51.549Z"
   },
   {
    "duration": 4,
    "start_time": "2021-11-25T14:04:51.571Z"
   },
   {
    "duration": 18,
    "start_time": "2021-11-25T14:04:51.577Z"
   },
   {
    "duration": 7,
    "start_time": "2021-11-25T14:04:51.597Z"
   },
   {
    "duration": 9,
    "start_time": "2021-11-25T14:04:51.605Z"
   },
   {
    "duration": 37,
    "start_time": "2021-11-25T14:04:51.616Z"
   },
   {
    "duration": 13,
    "start_time": "2021-11-25T14:04:51.654Z"
   },
   {
    "duration": 15,
    "start_time": "2021-11-25T14:04:51.669Z"
   },
   {
    "duration": 12,
    "start_time": "2021-11-25T14:04:51.686Z"
   },
   {
    "duration": 51,
    "start_time": "2021-11-25T14:04:51.700Z"
   },
   {
    "duration": 13,
    "start_time": "2021-11-25T14:04:51.753Z"
   },
   {
    "duration": 13,
    "start_time": "2021-11-25T14:04:51.768Z"
   },
   {
    "duration": 21,
    "start_time": "2021-11-25T14:04:51.783Z"
   },
   {
    "duration": 767,
    "start_time": "2021-11-25T14:04:51.806Z"
   },
   {
    "duration": 3,
    "start_time": "2021-11-25T14:04:52.576Z"
   },
   {
    "duration": 4,
    "start_time": "2021-11-25T14:04:52.589Z"
   },
   {
    "duration": 5,
    "start_time": "2021-11-25T14:04:52.596Z"
   },
   {
    "duration": 65,
    "start_time": "2021-11-25T14:04:52.603Z"
   },
   {
    "duration": 4,
    "start_time": "2021-11-25T14:04:52.670Z"
   },
   {
    "duration": 15,
    "start_time": "2021-11-25T14:04:52.677Z"
   },
   {
    "duration": 4,
    "start_time": "2021-11-25T14:04:52.695Z"
   },
   {
    "duration": 8,
    "start_time": "2021-11-25T14:04:52.701Z"
   },
   {
    "duration": 4,
    "start_time": "2021-11-25T14:04:52.711Z"
   },
   {
    "duration": 194,
    "start_time": "2021-11-25T14:04:52.717Z"
   },
   {
    "duration": 5,
    "start_time": "2021-11-25T14:04:52.913Z"
   },
   {
    "duration": 24,
    "start_time": "2021-11-25T14:04:52.920Z"
   },
   {
    "duration": 3,
    "start_time": "2021-11-25T14:04:52.946Z"
   },
   {
    "duration": 21,
    "start_time": "2021-11-25T14:04:52.951Z"
   },
   {
    "duration": 5,
    "start_time": "2021-11-25T14:04:52.974Z"
   },
   {
    "duration": 6,
    "start_time": "2021-11-25T14:04:52.981Z"
   },
   {
    "duration": 7,
    "start_time": "2021-11-25T14:04:52.989Z"
   },
   {
    "duration": 3,
    "start_time": "2021-11-25T14:04:52.998Z"
   },
   {
    "duration": 5,
    "start_time": "2021-11-25T14:04:53.003Z"
   },
   {
    "duration": 727,
    "start_time": "2021-11-25T14:04:53.010Z"
   },
   {
    "duration": 135,
    "start_time": "2021-11-25T14:04:53.739Z"
   },
   {
    "duration": 256,
    "start_time": "2021-11-25T14:04:53.876Z"
   },
   {
    "duration": 270,
    "start_time": "2021-11-25T14:04:54.134Z"
   },
   {
    "duration": 5,
    "start_time": "2021-11-25T14:04:54.406Z"
   },
   {
    "duration": 338,
    "start_time": "2021-11-25T14:04:54.413Z"
   },
   {
    "duration": 5,
    "start_time": "2021-11-25T14:04:54.753Z"
   },
   {
    "duration": 12,
    "start_time": "2021-11-25T14:04:54.760Z"
   },
   {
    "duration": 5,
    "start_time": "2021-11-25T14:04:54.774Z"
   },
   {
    "duration": 16,
    "start_time": "2021-11-25T14:04:54.781Z"
   },
   {
    "duration": 17,
    "start_time": "2021-11-25T14:04:54.800Z"
   },
   {
    "duration": 19,
    "start_time": "2021-11-25T14:04:54.845Z"
   },
   {
    "duration": 3,
    "start_time": "2021-11-25T14:04:54.867Z"
   },
   {
    "duration": 15,
    "start_time": "2021-11-25T14:04:54.872Z"
   },
   {
    "duration": 17,
    "start_time": "2021-11-25T14:04:54.889Z"
   },
   {
    "duration": 43,
    "start_time": "2021-11-25T14:04:54.909Z"
   },
   {
    "duration": 7,
    "start_time": "2021-11-25T14:04:54.954Z"
   },
   {
    "duration": 20,
    "start_time": "2021-11-25T14:04:54.963Z"
   },
   {
    "duration": 12,
    "start_time": "2021-11-25T14:04:54.986Z"
   },
   {
    "duration": 4,
    "start_time": "2021-11-25T14:05:28.539Z"
   },
   {
    "duration": 150,
    "start_time": "2021-11-25T14:06:48.229Z"
   },
   {
    "duration": 6,
    "start_time": "2021-11-25T14:06:50.964Z"
   },
   {
    "duration": 5,
    "start_time": "2021-11-25T14:06:55.067Z"
   },
   {
    "duration": 428,
    "start_time": "2021-11-25T14:07:15.836Z"
   },
   {
    "duration": 265,
    "start_time": "2021-11-25T14:07:24.341Z"
   },
   {
    "duration": 7,
    "start_time": "2021-11-25T14:07:27.405Z"
   },
   {
    "duration": 148,
    "start_time": "2021-11-25T14:08:48.603Z"
   },
   {
    "duration": 5,
    "start_time": "2021-11-25T14:08:51.156Z"
   },
   {
    "duration": 103,
    "start_time": "2021-11-25T14:15:57.600Z"
   },
   {
    "duration": 5,
    "start_time": "2021-11-25T14:16:00.990Z"
   },
   {
    "duration": 3,
    "start_time": "2021-11-25T14:16:04.358Z"
   },
   {
    "duration": 11,
    "start_time": "2021-11-25T14:16:17.951Z"
   },
   {
    "duration": 12,
    "start_time": "2021-11-25T14:16:37.990Z"
   },
   {
    "duration": 595,
    "start_time": "2021-11-25T14:16:56.279Z"
   },
   {
    "duration": 52,
    "start_time": "2021-11-25T14:16:56.876Z"
   },
   {
    "duration": 19,
    "start_time": "2021-11-25T14:16:56.930Z"
   },
   {
    "duration": 13,
    "start_time": "2021-11-25T14:16:56.951Z"
   },
   {
    "duration": 9,
    "start_time": "2021-11-25T14:16:56.965Z"
   },
   {
    "duration": 15,
    "start_time": "2021-11-25T14:16:56.975Z"
   },
   {
    "duration": 7,
    "start_time": "2021-11-25T14:16:56.992Z"
   },
   {
    "duration": 46,
    "start_time": "2021-11-25T14:16:57.003Z"
   },
   {
    "duration": 7,
    "start_time": "2021-11-25T14:16:57.052Z"
   },
   {
    "duration": 6,
    "start_time": "2021-11-25T14:16:57.061Z"
   },
   {
    "duration": 9,
    "start_time": "2021-11-25T14:16:57.069Z"
   },
   {
    "duration": 18,
    "start_time": "2021-11-25T14:16:57.080Z"
   },
   {
    "duration": 56,
    "start_time": "2021-11-25T14:16:57.100Z"
   },
   {
    "duration": 6,
    "start_time": "2021-11-25T14:16:57.158Z"
   },
   {
    "duration": 7,
    "start_time": "2021-11-25T14:16:57.166Z"
   },
   {
    "duration": 9,
    "start_time": "2021-11-25T14:16:57.175Z"
   },
   {
    "duration": 7,
    "start_time": "2021-11-25T14:16:57.186Z"
   },
   {
    "duration": 50,
    "start_time": "2021-11-25T14:16:57.194Z"
   },
   {
    "duration": 7,
    "start_time": "2021-11-25T14:16:57.246Z"
   },
   {
    "duration": 5,
    "start_time": "2021-11-25T14:16:57.255Z"
   },
   {
    "duration": 5,
    "start_time": "2021-11-25T14:16:57.262Z"
   },
   {
    "duration": 8,
    "start_time": "2021-11-25T14:16:57.268Z"
   },
   {
    "duration": 5,
    "start_time": "2021-11-25T14:16:57.280Z"
   },
   {
    "duration": 9,
    "start_time": "2021-11-25T14:16:57.287Z"
   },
   {
    "duration": 7,
    "start_time": "2021-11-25T14:16:57.298Z"
   },
   {
    "duration": 42,
    "start_time": "2021-11-25T14:16:57.307Z"
   },
   {
    "duration": 14,
    "start_time": "2021-11-25T14:16:57.350Z"
   },
   {
    "duration": 16,
    "start_time": "2021-11-25T14:16:57.365Z"
   },
   {
    "duration": 6,
    "start_time": "2021-11-25T14:16:57.383Z"
   },
   {
    "duration": 8,
    "start_time": "2021-11-25T14:16:57.391Z"
   },
   {
    "duration": 5,
    "start_time": "2021-11-25T14:16:57.401Z"
   },
   {
    "duration": 49,
    "start_time": "2021-11-25T14:16:57.407Z"
   },
   {
    "duration": 5,
    "start_time": "2021-11-25T14:16:57.458Z"
   },
   {
    "duration": 6,
    "start_time": "2021-11-25T14:16:57.464Z"
   },
   {
    "duration": 36,
    "start_time": "2021-11-25T14:16:57.472Z"
   },
   {
    "duration": 35,
    "start_time": "2021-11-25T14:16:57.510Z"
   },
   {
    "duration": 5,
    "start_time": "2021-11-25T14:16:57.547Z"
   },
   {
    "duration": 3,
    "start_time": "2021-11-25T14:16:57.554Z"
   },
   {
    "duration": 11,
    "start_time": "2021-11-25T14:16:57.558Z"
   },
   {
    "duration": 6,
    "start_time": "2021-11-25T14:16:57.571Z"
   },
   {
    "duration": 6,
    "start_time": "2021-11-25T14:16:57.579Z"
   },
   {
    "duration": 62,
    "start_time": "2021-11-25T14:16:57.586Z"
   },
   {
    "duration": 5,
    "start_time": "2021-11-25T14:16:57.651Z"
   },
   {
    "duration": 6,
    "start_time": "2021-11-25T14:16:57.658Z"
   },
   {
    "duration": 10,
    "start_time": "2021-11-25T14:16:57.665Z"
   },
   {
    "duration": 16,
    "start_time": "2021-11-25T14:16:57.677Z"
   },
   {
    "duration": 15,
    "start_time": "2021-11-25T14:16:57.695Z"
   },
   {
    "duration": 40,
    "start_time": "2021-11-25T14:16:57.712Z"
   },
   {
    "duration": 4,
    "start_time": "2021-11-25T14:16:57.754Z"
   },
   {
    "duration": 6,
    "start_time": "2021-11-25T14:16:57.760Z"
   },
   {
    "duration": 23,
    "start_time": "2021-11-25T14:16:57.768Z"
   },
   {
    "duration": 5,
    "start_time": "2021-11-25T14:16:57.793Z"
   },
   {
    "duration": 63,
    "start_time": "2021-11-25T14:16:57.800Z"
   },
   {
    "duration": 6,
    "start_time": "2021-11-25T14:16:57.865Z"
   },
   {
    "duration": 8,
    "start_time": "2021-11-25T14:16:57.873Z"
   },
   {
    "duration": 3,
    "start_time": "2021-11-25T14:16:57.884Z"
   },
   {
    "duration": 9,
    "start_time": "2021-11-25T14:16:57.889Z"
   },
   {
    "duration": 15,
    "start_time": "2021-11-25T14:16:57.900Z"
   },
   {
    "duration": 44,
    "start_time": "2021-11-25T14:16:57.917Z"
   },
   {
    "duration": 17,
    "start_time": "2021-11-25T14:16:57.964Z"
   },
   {
    "duration": 15,
    "start_time": "2021-11-25T14:16:57.983Z"
   },
   {
    "duration": 45,
    "start_time": "2021-11-25T14:16:58.000Z"
   },
   {
    "duration": 17,
    "start_time": "2021-11-25T14:16:58.047Z"
   },
   {
    "duration": 23,
    "start_time": "2021-11-25T14:16:58.066Z"
   },
   {
    "duration": 18,
    "start_time": "2021-11-25T14:16:58.091Z"
   },
   {
    "duration": 774,
    "start_time": "2021-11-25T14:16:58.111Z"
   },
   {
    "duration": 2,
    "start_time": "2021-11-25T14:16:58.887Z"
   },
   {
    "duration": 4,
    "start_time": "2021-11-25T14:16:58.894Z"
   },
   {
    "duration": 5,
    "start_time": "2021-11-25T14:16:58.900Z"
   },
   {
    "duration": 59,
    "start_time": "2021-11-25T14:16:58.907Z"
   },
   {
    "duration": 4,
    "start_time": "2021-11-25T14:16:58.968Z"
   },
   {
    "duration": 6,
    "start_time": "2021-11-25T14:16:58.974Z"
   },
   {
    "duration": 5,
    "start_time": "2021-11-25T14:16:58.982Z"
   },
   {
    "duration": 5,
    "start_time": "2021-11-25T14:16:58.988Z"
   },
   {
    "duration": 4,
    "start_time": "2021-11-25T14:16:58.995Z"
   },
   {
    "duration": 52,
    "start_time": "2021-11-25T14:16:59.000Z"
   },
   {
    "duration": 112,
    "start_time": "2021-11-25T14:16:59.054Z"
   },
   {
    "duration": 6,
    "start_time": "2021-11-25T14:16:59.168Z"
   },
   {
    "duration": 11,
    "start_time": "2021-11-25T14:16:59.176Z"
   },
   {
    "duration": 416,
    "start_time": "2021-11-25T14:20:04.238Z"
   },
   {
    "duration": 10,
    "start_time": "2021-11-25T14:20:19.314Z"
   },
   {
    "duration": 10,
    "start_time": "2021-11-25T14:23:57.965Z"
   },
   {
    "duration": 20,
    "start_time": "2021-11-25T14:34:31.238Z"
   },
   {
    "duration": 19,
    "start_time": "2021-11-25T14:34:40.136Z"
   },
   {
    "duration": 20,
    "start_time": "2021-11-25T14:34:50.276Z"
   },
   {
    "duration": 20,
    "start_time": "2021-11-25T14:35:18.520Z"
   },
   {
    "duration": 17,
    "start_time": "2021-11-25T14:35:36.863Z"
   },
   {
    "duration": 17,
    "start_time": "2021-11-25T14:35:51.048Z"
   },
   {
    "duration": 599,
    "start_time": "2021-11-25T14:36:07.875Z"
   },
   {
    "duration": 52,
    "start_time": "2021-11-25T14:36:08.475Z"
   },
   {
    "duration": 18,
    "start_time": "2021-11-25T14:36:08.529Z"
   },
   {
    "duration": 20,
    "start_time": "2021-11-25T14:36:08.548Z"
   },
   {
    "duration": 9,
    "start_time": "2021-11-25T14:36:08.569Z"
   },
   {
    "duration": 13,
    "start_time": "2021-11-25T14:36:08.580Z"
   },
   {
    "duration": 9,
    "start_time": "2021-11-25T14:36:08.595Z"
   },
   {
    "duration": 8,
    "start_time": "2021-11-25T14:36:08.607Z"
   },
   {
    "duration": 32,
    "start_time": "2021-11-25T14:36:08.617Z"
   },
   {
    "duration": 7,
    "start_time": "2021-11-25T14:36:08.651Z"
   },
   {
    "duration": 11,
    "start_time": "2021-11-25T14:36:08.660Z"
   },
   {
    "duration": 18,
    "start_time": "2021-11-25T14:36:08.672Z"
   },
   {
    "duration": 57,
    "start_time": "2021-11-25T14:36:08.692Z"
   },
   {
    "duration": 6,
    "start_time": "2021-11-25T14:36:08.751Z"
   },
   {
    "duration": 8,
    "start_time": "2021-11-25T14:36:08.759Z"
   },
   {
    "duration": 9,
    "start_time": "2021-11-25T14:36:08.769Z"
   },
   {
    "duration": 6,
    "start_time": "2021-11-25T14:36:08.779Z"
   },
   {
    "duration": 12,
    "start_time": "2021-11-25T14:36:08.787Z"
   },
   {
    "duration": 9,
    "start_time": "2021-11-25T14:36:08.800Z"
   },
   {
    "duration": 37,
    "start_time": "2021-11-25T14:36:08.811Z"
   },
   {
    "duration": 4,
    "start_time": "2021-11-25T14:36:08.850Z"
   },
   {
    "duration": 6,
    "start_time": "2021-11-25T14:36:08.856Z"
   },
   {
    "duration": 5,
    "start_time": "2021-11-25T14:36:08.866Z"
   },
   {
    "duration": 6,
    "start_time": "2021-11-25T14:36:08.874Z"
   },
   {
    "duration": 4,
    "start_time": "2021-11-25T14:36:08.882Z"
   },
   {
    "duration": 9,
    "start_time": "2021-11-25T14:36:08.888Z"
   },
   {
    "duration": 54,
    "start_time": "2021-11-25T14:36:08.899Z"
   },
   {
    "duration": 15,
    "start_time": "2021-11-25T14:36:08.955Z"
   },
   {
    "duration": 7,
    "start_time": "2021-11-25T14:36:08.971Z"
   },
   {
    "duration": 9,
    "start_time": "2021-11-25T14:36:08.979Z"
   },
   {
    "duration": 5,
    "start_time": "2021-11-25T14:36:08.990Z"
   },
   {
    "duration": 54,
    "start_time": "2021-11-25T14:36:08.997Z"
   },
   {
    "duration": 6,
    "start_time": "2021-11-25T14:36:09.053Z"
   },
   {
    "duration": 4,
    "start_time": "2021-11-25T14:36:09.061Z"
   },
   {
    "duration": 35,
    "start_time": "2021-11-25T14:36:09.067Z"
   },
   {
    "duration": 9,
    "start_time": "2021-11-25T14:36:09.103Z"
   },
   {
    "duration": 32,
    "start_time": "2021-11-25T14:36:09.113Z"
   },
   {
    "duration": 2,
    "start_time": "2021-11-25T14:36:09.147Z"
   },
   {
    "duration": 9,
    "start_time": "2021-11-25T14:36:09.151Z"
   },
   {
    "duration": 5,
    "start_time": "2021-11-25T14:36:09.162Z"
   },
   {
    "duration": 5,
    "start_time": "2021-11-25T14:36:09.168Z"
   },
   {
    "duration": 17,
    "start_time": "2021-11-25T14:36:09.175Z"
   },
   {
    "duration": 4,
    "start_time": "2021-11-25T14:36:09.194Z"
   },
   {
    "duration": 46,
    "start_time": "2021-11-25T14:36:09.199Z"
   },
   {
    "duration": 6,
    "start_time": "2021-11-25T14:36:09.247Z"
   },
   {
    "duration": 12,
    "start_time": "2021-11-25T14:36:09.255Z"
   },
   {
    "duration": 12,
    "start_time": "2021-11-25T14:36:09.269Z"
   },
   {
    "duration": 8,
    "start_time": "2021-11-25T14:36:09.282Z"
   },
   {
    "duration": 4,
    "start_time": "2021-11-25T14:36:09.292Z"
   },
   {
    "duration": 7,
    "start_time": "2021-11-25T14:36:09.298Z"
   },
   {
    "duration": 49,
    "start_time": "2021-11-25T14:36:09.307Z"
   },
   {
    "duration": 4,
    "start_time": "2021-11-25T14:36:09.358Z"
   },
   {
    "duration": 20,
    "start_time": "2021-11-25T14:36:09.363Z"
   },
   {
    "duration": 5,
    "start_time": "2021-11-25T14:36:09.384Z"
   },
   {
    "duration": 7,
    "start_time": "2021-11-25T14:36:09.391Z"
   },
   {
    "duration": 12,
    "start_time": "2021-11-25T14:36:09.400Z"
   },
   {
    "duration": 30,
    "start_time": "2021-11-25T14:36:09.414Z"
   },
   {
    "duration": 11,
    "start_time": "2021-11-25T14:36:09.446Z"
   },
   {
    "duration": 14,
    "start_time": "2021-11-25T14:36:09.459Z"
   },
   {
    "duration": 13,
    "start_time": "2021-11-25T14:36:09.475Z"
   },
   {
    "duration": 11,
    "start_time": "2021-11-25T14:36:09.489Z"
   },
   {
    "duration": 45,
    "start_time": "2021-11-25T14:36:09.501Z"
   },
   {
    "duration": 12,
    "start_time": "2021-11-25T14:36:09.548Z"
   },
   {
    "duration": 11,
    "start_time": "2021-11-25T14:36:09.562Z"
   },
   {
    "duration": 17,
    "start_time": "2021-11-25T14:36:09.575Z"
   },
   {
    "duration": 699,
    "start_time": "2021-11-25T14:36:09.593Z"
   },
   {
    "duration": 3,
    "start_time": "2021-11-25T14:36:10.293Z"
   },
   {
    "duration": 3,
    "start_time": "2021-11-25T14:36:10.302Z"
   },
   {
    "duration": 6,
    "start_time": "2021-11-25T14:36:10.307Z"
   },
   {
    "duration": 52,
    "start_time": "2021-11-25T14:36:10.314Z"
   },
   {
    "duration": 3,
    "start_time": "2021-11-25T14:36:10.367Z"
   },
   {
    "duration": 5,
    "start_time": "2021-11-25T14:36:10.372Z"
   },
   {
    "duration": 113,
    "start_time": "2021-11-25T14:36:10.378Z"
   },
   {
    "duration": 5,
    "start_time": "2021-11-25T14:36:10.493Z"
   },
   {
    "duration": 10,
    "start_time": "2021-11-25T14:36:10.499Z"
   },
   {
    "duration": 34,
    "start_time": "2021-11-25T14:36:10.511Z"
   },
   {
    "duration": 9,
    "start_time": "2021-11-25T14:36:10.547Z"
   },
   {
    "duration": 3,
    "start_time": "2021-11-25T14:36:10.558Z"
   },
   {
    "duration": 8,
    "start_time": "2021-11-25T14:36:10.562Z"
   },
   {
    "duration": 6,
    "start_time": "2021-11-25T14:36:10.572Z"
   },
   {
    "duration": 6,
    "start_time": "2021-11-25T14:36:10.579Z"
   },
   {
    "duration": 6,
    "start_time": "2021-11-25T14:36:10.586Z"
   },
   {
    "duration": 5,
    "start_time": "2021-11-25T14:36:10.594Z"
   },
   {
    "duration": 5,
    "start_time": "2021-11-25T14:36:10.601Z"
   },
   {
    "duration": 688,
    "start_time": "2021-11-25T14:36:10.645Z"
   },
   {
    "duration": 138,
    "start_time": "2021-11-25T14:36:11.334Z"
   },
   {
    "duration": 259,
    "start_time": "2021-11-25T14:36:11.474Z"
   },
   {
    "duration": 273,
    "start_time": "2021-11-25T14:36:11.735Z"
   },
   {
    "duration": 4,
    "start_time": "2021-11-25T14:36:12.010Z"
   },
   {
    "duration": 275,
    "start_time": "2021-11-25T14:36:12.016Z"
   },
   {
    "duration": 4,
    "start_time": "2021-11-25T14:36:12.293Z"
   },
   {
    "duration": 17,
    "start_time": "2021-11-25T14:36:12.298Z"
   },
   {
    "duration": 24,
    "start_time": "2021-11-25T14:36:12.316Z"
   },
   {
    "duration": 21,
    "start_time": "2021-11-25T14:36:12.342Z"
   },
   {
    "duration": 12,
    "start_time": "2021-11-25T14:36:12.364Z"
   },
   {
    "duration": 13,
    "start_time": "2021-11-25T14:36:12.378Z"
   },
   {
    "duration": 3,
    "start_time": "2021-11-25T14:36:12.392Z"
   },
   {
    "duration": 14,
    "start_time": "2021-11-25T14:36:12.397Z"
   },
   {
    "duration": 12,
    "start_time": "2021-11-25T14:36:12.413Z"
   },
   {
    "duration": 22,
    "start_time": "2021-11-25T14:36:12.426Z"
   },
   {
    "duration": 10,
    "start_time": "2021-11-25T14:36:12.450Z"
   },
   {
    "duration": 13,
    "start_time": "2021-11-25T14:36:12.462Z"
   },
   {
    "duration": 10,
    "start_time": "2021-11-25T14:36:12.477Z"
   },
   {
    "duration": 343,
    "start_time": "2021-11-25T14:58:42.681Z"
   },
   {
    "duration": 663,
    "start_time": "2021-11-25T14:59:03.003Z"
   },
   {
    "duration": 58,
    "start_time": "2021-11-25T14:59:03.669Z"
   },
   {
    "duration": 26,
    "start_time": "2021-11-25T14:59:03.730Z"
   },
   {
    "duration": 35,
    "start_time": "2021-11-25T14:59:03.759Z"
   },
   {
    "duration": 30,
    "start_time": "2021-11-25T14:59:03.795Z"
   },
   {
    "duration": 39,
    "start_time": "2021-11-25T14:59:03.827Z"
   },
   {
    "duration": 47,
    "start_time": "2021-11-25T14:59:03.868Z"
   },
   {
    "duration": 27,
    "start_time": "2021-11-25T14:59:03.918Z"
   },
   {
    "duration": 23,
    "start_time": "2021-11-25T14:59:03.948Z"
   },
   {
    "duration": 26,
    "start_time": "2021-11-25T14:59:03.973Z"
   },
   {
    "duration": 34,
    "start_time": "2021-11-25T14:59:04.001Z"
   },
   {
    "duration": 39,
    "start_time": "2021-11-25T14:59:04.037Z"
   },
   {
    "duration": 30,
    "start_time": "2021-11-25T14:59:04.078Z"
   },
   {
    "duration": 13,
    "start_time": "2021-11-25T14:59:04.109Z"
   },
   {
    "duration": 28,
    "start_time": "2021-11-25T14:59:04.124Z"
   },
   {
    "duration": 30,
    "start_time": "2021-11-25T14:59:04.154Z"
   },
   {
    "duration": 27,
    "start_time": "2021-11-25T14:59:04.185Z"
   },
   {
    "duration": 40,
    "start_time": "2021-11-25T14:59:04.214Z"
   },
   {
    "duration": 59,
    "start_time": "2021-11-25T14:59:04.256Z"
   },
   {
    "duration": 24,
    "start_time": "2021-11-25T14:59:04.317Z"
   },
   {
    "duration": 28,
    "start_time": "2021-11-25T14:59:04.343Z"
   },
   {
    "duration": 33,
    "start_time": "2021-11-25T14:59:04.373Z"
   },
   {
    "duration": 24,
    "start_time": "2021-11-25T14:59:04.409Z"
   },
   {
    "duration": 41,
    "start_time": "2021-11-25T14:59:04.436Z"
   },
   {
    "duration": 25,
    "start_time": "2021-11-25T14:59:04.478Z"
   },
   {
    "duration": 38,
    "start_time": "2021-11-25T14:59:04.505Z"
   },
   {
    "duration": 37,
    "start_time": "2021-11-25T14:59:04.545Z"
   },
   {
    "duration": 59,
    "start_time": "2021-11-25T14:59:04.584Z"
   },
   {
    "duration": 30,
    "start_time": "2021-11-25T14:59:04.645Z"
   },
   {
    "duration": 22,
    "start_time": "2021-11-25T14:59:04.677Z"
   },
   {
    "duration": 26,
    "start_time": "2021-11-25T14:59:04.701Z"
   },
   {
    "duration": 39,
    "start_time": "2021-11-25T14:59:04.729Z"
   },
   {
    "duration": 20,
    "start_time": "2021-11-25T14:59:04.769Z"
   },
   {
    "duration": 30,
    "start_time": "2021-11-25T14:59:04.791Z"
   },
   {
    "duration": 70,
    "start_time": "2021-11-25T14:59:04.823Z"
   },
   {
    "duration": 10,
    "start_time": "2021-11-25T14:59:04.895Z"
   },
   {
    "duration": 45,
    "start_time": "2021-11-25T14:59:04.906Z"
   },
   {
    "duration": 42,
    "start_time": "2021-11-25T14:59:04.953Z"
   },
   {
    "duration": 48,
    "start_time": "2021-11-25T14:59:04.997Z"
   },
   {
    "duration": 39,
    "start_time": "2021-11-25T14:59:05.046Z"
   },
   {
    "duration": 30,
    "start_time": "2021-11-25T14:59:05.087Z"
   },
   {
    "duration": 61,
    "start_time": "2021-11-25T14:59:05.118Z"
   },
   {
    "duration": 30,
    "start_time": "2021-11-25T14:59:05.180Z"
   },
   {
    "duration": 36,
    "start_time": "2021-11-25T14:59:05.211Z"
   },
   {
    "duration": 41,
    "start_time": "2021-11-25T14:59:05.249Z"
   },
   {
    "duration": 35,
    "start_time": "2021-11-25T14:59:05.292Z"
   },
   {
    "duration": 29,
    "start_time": "2021-11-25T14:59:05.329Z"
   },
   {
    "duration": 24,
    "start_time": "2021-11-25T14:59:05.360Z"
   },
   {
    "duration": 31,
    "start_time": "2021-11-25T14:59:05.386Z"
   },
   {
    "duration": 36,
    "start_time": "2021-11-25T14:59:05.418Z"
   },
   {
    "duration": 49,
    "start_time": "2021-11-25T14:59:05.455Z"
   },
   {
    "duration": 34,
    "start_time": "2021-11-25T14:59:05.506Z"
   },
   {
    "duration": 44,
    "start_time": "2021-11-25T14:59:05.541Z"
   },
   {
    "duration": 39,
    "start_time": "2021-11-25T14:59:05.587Z"
   },
   {
    "duration": 38,
    "start_time": "2021-11-25T14:59:05.628Z"
   },
   {
    "duration": 20,
    "start_time": "2021-11-25T14:59:05.668Z"
   },
   {
    "duration": 33,
    "start_time": "2021-11-25T14:59:05.690Z"
   },
   {
    "duration": 29,
    "start_time": "2021-11-25T14:59:05.725Z"
   },
   {
    "duration": 29,
    "start_time": "2021-11-25T14:59:05.755Z"
   },
   {
    "duration": 26,
    "start_time": "2021-11-25T14:59:05.786Z"
   },
   {
    "duration": 12,
    "start_time": "2021-11-25T14:59:05.814Z"
   },
   {
    "duration": 52,
    "start_time": "2021-11-25T14:59:05.828Z"
   },
   {
    "duration": 23,
    "start_time": "2021-11-25T14:59:05.882Z"
   },
   {
    "duration": 29,
    "start_time": "2021-11-25T14:59:05.907Z"
   },
   {
    "duration": 19,
    "start_time": "2021-11-25T14:59:05.938Z"
   },
   {
    "duration": 672,
    "start_time": "2021-11-25T14:59:05.959Z"
   },
   {
    "duration": 2,
    "start_time": "2021-11-25T14:59:06.633Z"
   },
   {
    "duration": 25,
    "start_time": "2021-11-25T14:59:06.644Z"
   },
   {
    "duration": 27,
    "start_time": "2021-11-25T14:59:06.671Z"
   },
   {
    "duration": 66,
    "start_time": "2021-11-25T14:59:06.700Z"
   },
   {
    "duration": 3,
    "start_time": "2021-11-25T14:59:06.768Z"
   },
   {
    "duration": 21,
    "start_time": "2021-11-25T14:59:06.772Z"
   },
   {
    "duration": 137,
    "start_time": "2021-11-25T14:59:06.795Z"
   },
   {
    "duration": 4,
    "start_time": "2021-11-25T14:59:06.934Z"
   },
   {
    "duration": 36,
    "start_time": "2021-11-25T14:59:06.940Z"
   },
   {
    "duration": 43,
    "start_time": "2021-11-25T14:59:06.978Z"
   },
   {
    "duration": 13,
    "start_time": "2021-11-25T14:59:07.023Z"
   },
   {
    "duration": 45,
    "start_time": "2021-11-25T14:59:07.038Z"
   },
   {
    "duration": 38,
    "start_time": "2021-11-25T14:59:07.084Z"
   },
   {
    "duration": 25,
    "start_time": "2021-11-25T14:59:07.123Z"
   },
   {
    "duration": 33,
    "start_time": "2021-11-25T14:59:07.150Z"
   },
   {
    "duration": 26,
    "start_time": "2021-11-25T14:59:07.184Z"
   },
   {
    "duration": 33,
    "start_time": "2021-11-25T14:59:07.211Z"
   },
   {
    "duration": 334,
    "start_time": "2021-11-25T14:59:10.876Z"
   },
   {
    "duration": 330,
    "start_time": "2021-11-25T14:59:23.250Z"
   },
   {
    "duration": 4,
    "start_time": "2021-11-25T14:59:31.907Z"
   },
   {
    "duration": 4,
    "start_time": "2021-11-25T14:59:37.400Z"
   },
   {
    "duration": 596,
    "start_time": "2021-11-25T15:21:29.057Z"
   },
   {
    "duration": 50,
    "start_time": "2021-11-25T15:21:29.655Z"
   },
   {
    "duration": 18,
    "start_time": "2021-11-25T15:21:29.707Z"
   },
   {
    "duration": 24,
    "start_time": "2021-11-25T15:21:29.727Z"
   },
   {
    "duration": 23,
    "start_time": "2021-11-25T15:21:29.752Z"
   },
   {
    "duration": 26,
    "start_time": "2021-11-25T15:21:29.777Z"
   },
   {
    "duration": 9,
    "start_time": "2021-11-25T15:21:29.805Z"
   },
   {
    "duration": 18,
    "start_time": "2021-11-25T15:21:29.816Z"
   },
   {
    "duration": 12,
    "start_time": "2021-11-25T15:21:29.837Z"
   },
   {
    "duration": 14,
    "start_time": "2021-11-25T15:21:29.851Z"
   },
   {
    "duration": 9,
    "start_time": "2021-11-25T15:21:29.867Z"
   },
   {
    "duration": 24,
    "start_time": "2021-11-25T15:21:29.878Z"
   },
   {
    "duration": 36,
    "start_time": "2021-11-25T15:21:29.903Z"
   },
   {
    "duration": 7,
    "start_time": "2021-11-25T15:21:29.941Z"
   },
   {
    "duration": 21,
    "start_time": "2021-11-25T15:21:29.949Z"
   },
   {
    "duration": 16,
    "start_time": "2021-11-25T15:21:29.972Z"
   },
   {
    "duration": 10,
    "start_time": "2021-11-25T15:21:29.990Z"
   },
   {
    "duration": 34,
    "start_time": "2021-11-25T15:21:30.002Z"
   },
   {
    "duration": 23,
    "start_time": "2021-11-25T15:21:30.037Z"
   },
   {
    "duration": 15,
    "start_time": "2021-11-25T15:21:30.061Z"
   },
   {
    "duration": 22,
    "start_time": "2021-11-25T15:21:30.078Z"
   },
   {
    "duration": 31,
    "start_time": "2021-11-25T15:21:30.101Z"
   },
   {
    "duration": 18,
    "start_time": "2021-11-25T15:21:30.136Z"
   },
   {
    "duration": 28,
    "start_time": "2021-11-25T15:21:30.157Z"
   },
   {
    "duration": 32,
    "start_time": "2021-11-25T15:21:30.187Z"
   },
   {
    "duration": 20,
    "start_time": "2021-11-25T15:21:30.221Z"
   },
   {
    "duration": 27,
    "start_time": "2021-11-25T15:21:30.242Z"
   },
   {
    "duration": 36,
    "start_time": "2021-11-25T15:21:30.271Z"
   },
   {
    "duration": 20,
    "start_time": "2021-11-25T15:21:30.308Z"
   },
   {
    "duration": 44,
    "start_time": "2021-11-25T15:21:30.329Z"
   },
   {
    "duration": 29,
    "start_time": "2021-11-25T15:21:30.375Z"
   },
   {
    "duration": 62,
    "start_time": "2021-11-25T15:21:30.405Z"
   },
   {
    "duration": 13,
    "start_time": "2021-11-25T15:21:30.469Z"
   },
   {
    "duration": 16,
    "start_time": "2021-11-25T15:21:30.484Z"
   },
   {
    "duration": 52,
    "start_time": "2021-11-25T15:21:30.501Z"
   },
   {
    "duration": 9,
    "start_time": "2021-11-25T15:21:30.555Z"
   },
   {
    "duration": 22,
    "start_time": "2021-11-25T15:21:30.565Z"
   },
   {
    "duration": 20,
    "start_time": "2021-11-25T15:21:30.588Z"
   },
   {
    "duration": 25,
    "start_time": "2021-11-25T15:21:30.609Z"
   },
   {
    "duration": 30,
    "start_time": "2021-11-25T15:21:30.636Z"
   },
   {
    "duration": 23,
    "start_time": "2021-11-25T15:21:30.668Z"
   },
   {
    "duration": 40,
    "start_time": "2021-11-25T15:21:30.693Z"
   },
   {
    "duration": 50,
    "start_time": "2021-11-25T15:21:30.735Z"
   },
   {
    "duration": 59,
    "start_time": "2021-11-25T15:21:30.786Z"
   },
   {
    "duration": 24,
    "start_time": "2021-11-25T15:21:30.847Z"
   },
   {
    "duration": 31,
    "start_time": "2021-11-25T15:21:30.873Z"
   },
   {
    "duration": 29,
    "start_time": "2021-11-25T15:21:30.906Z"
   },
   {
    "duration": 38,
    "start_time": "2021-11-25T15:21:30.936Z"
   },
   {
    "duration": 27,
    "start_time": "2021-11-25T15:21:30.976Z"
   },
   {
    "duration": 18,
    "start_time": "2021-11-25T15:21:31.005Z"
   },
   {
    "duration": 25,
    "start_time": "2021-11-25T15:21:31.025Z"
   },
   {
    "duration": 19,
    "start_time": "2021-11-25T15:21:31.052Z"
   },
   {
    "duration": 39,
    "start_time": "2021-11-25T15:21:31.073Z"
   },
   {
    "duration": 24,
    "start_time": "2021-11-25T15:21:31.113Z"
   },
   {
    "duration": 16,
    "start_time": "2021-11-25T15:21:31.139Z"
   },
   {
    "duration": 39,
    "start_time": "2021-11-25T15:21:31.157Z"
   },
   {
    "duration": 37,
    "start_time": "2021-11-25T15:21:31.198Z"
   },
   {
    "duration": 29,
    "start_time": "2021-11-25T15:21:31.237Z"
   },
   {
    "duration": 28,
    "start_time": "2021-11-25T15:21:31.267Z"
   },
   {
    "duration": 31,
    "start_time": "2021-11-25T15:21:31.297Z"
   },
   {
    "duration": 18,
    "start_time": "2021-11-25T15:21:31.329Z"
   },
   {
    "duration": 39,
    "start_time": "2021-11-25T15:21:31.348Z"
   },
   {
    "duration": 27,
    "start_time": "2021-11-25T15:21:31.389Z"
   },
   {
    "duration": 30,
    "start_time": "2021-11-25T15:21:31.417Z"
   },
   {
    "duration": 34,
    "start_time": "2021-11-25T15:21:31.449Z"
   },
   {
    "duration": 661,
    "start_time": "2021-11-25T15:21:31.485Z"
   },
   {
    "duration": 3,
    "start_time": "2021-11-25T15:21:32.148Z"
   },
   {
    "duration": 34,
    "start_time": "2021-11-25T15:21:32.156Z"
   },
   {
    "duration": 23,
    "start_time": "2021-11-25T15:21:32.193Z"
   },
   {
    "duration": 55,
    "start_time": "2021-11-25T15:21:32.218Z"
   },
   {
    "duration": 3,
    "start_time": "2021-11-25T15:21:32.275Z"
   },
   {
    "duration": 15,
    "start_time": "2021-11-25T15:21:32.280Z"
   },
   {
    "duration": 137,
    "start_time": "2021-11-25T15:21:32.297Z"
   },
   {
    "duration": 8,
    "start_time": "2021-11-25T15:21:32.436Z"
   },
   {
    "duration": 26,
    "start_time": "2021-11-25T15:21:32.446Z"
   },
   {
    "duration": 35,
    "start_time": "2021-11-25T15:21:32.474Z"
   },
   {
    "duration": 26,
    "start_time": "2021-11-25T15:21:32.511Z"
   },
   {
    "duration": 14,
    "start_time": "2021-11-25T15:21:32.538Z"
   },
   {
    "duration": 29,
    "start_time": "2021-11-25T15:21:32.554Z"
   },
   {
    "duration": 37,
    "start_time": "2021-11-25T15:21:32.584Z"
   },
   {
    "duration": 33,
    "start_time": "2021-11-25T15:21:32.623Z"
   },
   {
    "duration": 36,
    "start_time": "2021-11-25T15:21:32.658Z"
   },
   {
    "duration": 29,
    "start_time": "2021-11-25T15:21:32.695Z"
   },
   {
    "duration": 19,
    "start_time": "2021-11-25T15:21:32.726Z"
   },
   {
    "duration": 25,
    "start_time": "2021-11-25T15:21:32.746Z"
   },
   {
    "duration": 32,
    "start_time": "2021-11-25T15:21:32.773Z"
   },
   {
    "duration": 33,
    "start_time": "2021-11-25T15:21:32.807Z"
   },
   {
    "duration": 24,
    "start_time": "2021-11-25T15:21:32.842Z"
   },
   {
    "duration": 36,
    "start_time": "2021-11-25T15:21:32.868Z"
   },
   {
    "duration": 32,
    "start_time": "2021-11-25T15:21:32.906Z"
   },
   {
    "duration": 17,
    "start_time": "2021-11-25T15:21:32.940Z"
   },
   {
    "duration": 24,
    "start_time": "2021-11-25T15:21:32.959Z"
   },
   {
    "duration": 26,
    "start_time": "2021-11-25T15:21:32.985Z"
   },
   {
    "duration": 19,
    "start_time": "2021-11-25T15:21:33.013Z"
   },
   {
    "duration": 694,
    "start_time": "2021-11-25T15:21:33.034Z"
   },
   {
    "duration": 130,
    "start_time": "2021-11-25T15:21:33.730Z"
   },
   {
    "duration": 250,
    "start_time": "2021-11-25T15:21:33.862Z"
   },
   {
    "duration": 277,
    "start_time": "2021-11-25T15:21:34.114Z"
   },
   {
    "duration": 5,
    "start_time": "2021-11-25T15:21:34.393Z"
   },
   {
    "duration": 327,
    "start_time": "2021-11-25T15:21:34.400Z"
   },
   {
    "duration": 397,
    "start_time": "2021-11-25T18:30:54.765Z"
   },
   {
    "duration": 728,
    "start_time": "2021-11-25T18:31:04.480Z"
   },
   {
    "duration": 54,
    "start_time": "2021-11-25T18:31:05.211Z"
   },
   {
    "duration": 20,
    "start_time": "2021-11-25T18:31:05.267Z"
   },
   {
    "duration": 39,
    "start_time": "2021-11-25T18:31:05.289Z"
   },
   {
    "duration": 36,
    "start_time": "2021-11-25T18:31:05.331Z"
   },
   {
    "duration": 33,
    "start_time": "2021-11-25T18:31:05.368Z"
   },
   {
    "duration": 36,
    "start_time": "2021-11-25T18:31:05.402Z"
   },
   {
    "duration": 35,
    "start_time": "2021-11-25T18:31:05.440Z"
   },
   {
    "duration": 20,
    "start_time": "2021-11-25T18:31:05.477Z"
   },
   {
    "duration": 34,
    "start_time": "2021-11-25T18:31:05.499Z"
   },
   {
    "duration": 25,
    "start_time": "2021-11-25T18:31:05.535Z"
   },
   {
    "duration": 33,
    "start_time": "2021-11-25T18:31:05.562Z"
   },
   {
    "duration": 18,
    "start_time": "2021-11-25T18:31:05.596Z"
   },
   {
    "duration": 6,
    "start_time": "2021-11-25T18:31:05.616Z"
   },
   {
    "duration": 16,
    "start_time": "2021-11-25T18:31:05.624Z"
   },
   {
    "duration": 20,
    "start_time": "2021-11-25T18:31:05.642Z"
   },
   {
    "duration": 14,
    "start_time": "2021-11-25T18:31:05.664Z"
   },
   {
    "duration": 20,
    "start_time": "2021-11-25T18:31:05.680Z"
   },
   {
    "duration": 13,
    "start_time": "2021-11-25T18:31:05.702Z"
   },
   {
    "duration": 19,
    "start_time": "2021-11-25T18:31:05.716Z"
   },
   {
    "duration": 28,
    "start_time": "2021-11-25T18:31:05.737Z"
   },
   {
    "duration": 17,
    "start_time": "2021-11-25T18:31:05.767Z"
   },
   {
    "duration": 23,
    "start_time": "2021-11-25T18:31:05.788Z"
   },
   {
    "duration": 13,
    "start_time": "2021-11-25T18:31:05.814Z"
   },
   {
    "duration": 7,
    "start_time": "2021-11-25T18:31:05.828Z"
   },
   {
    "duration": 27,
    "start_time": "2021-11-25T18:31:05.837Z"
   },
   {
    "duration": 19,
    "start_time": "2021-11-25T18:31:05.866Z"
   },
   {
    "duration": 33,
    "start_time": "2021-11-25T18:31:05.887Z"
   },
   {
    "duration": 14,
    "start_time": "2021-11-25T18:31:05.922Z"
   },
   {
    "duration": 22,
    "start_time": "2021-11-25T18:31:05.938Z"
   },
   {
    "duration": 12,
    "start_time": "2021-11-25T18:31:05.962Z"
   },
   {
    "duration": 21,
    "start_time": "2021-11-25T18:31:05.975Z"
   },
   {
    "duration": 5,
    "start_time": "2021-11-25T18:31:05.998Z"
   },
   {
    "duration": 8,
    "start_time": "2021-11-25T18:31:06.004Z"
   },
   {
    "duration": 40,
    "start_time": "2021-11-25T18:31:06.014Z"
   },
   {
    "duration": 13,
    "start_time": "2021-11-25T18:31:06.056Z"
   },
   {
    "duration": 7,
    "start_time": "2021-11-25T18:31:06.071Z"
   },
   {
    "duration": 24,
    "start_time": "2021-11-25T18:31:06.080Z"
   },
   {
    "duration": 16,
    "start_time": "2021-11-25T18:31:06.107Z"
   },
   {
    "duration": 21,
    "start_time": "2021-11-25T18:31:06.125Z"
   },
   {
    "duration": 16,
    "start_time": "2021-11-25T18:31:06.149Z"
   },
   {
    "duration": 21,
    "start_time": "2021-11-25T18:31:06.167Z"
   },
   {
    "duration": 10,
    "start_time": "2021-11-25T18:31:06.190Z"
   },
   {
    "duration": 24,
    "start_time": "2021-11-25T18:31:06.202Z"
   },
   {
    "duration": 20,
    "start_time": "2021-11-25T18:31:06.228Z"
   },
   {
    "duration": 28,
    "start_time": "2021-11-25T18:31:06.250Z"
   },
   {
    "duration": 27,
    "start_time": "2021-11-25T18:31:06.280Z"
   },
   {
    "duration": 10,
    "start_time": "2021-11-25T18:31:06.309Z"
   },
   {
    "duration": 18,
    "start_time": "2021-11-25T18:31:06.320Z"
   },
   {
    "duration": 21,
    "start_time": "2021-11-25T18:31:06.340Z"
   },
   {
    "duration": 43,
    "start_time": "2021-11-25T18:31:06.364Z"
   },
   {
    "duration": 7,
    "start_time": "2021-11-25T18:31:06.410Z"
   },
   {
    "duration": 41,
    "start_time": "2021-11-25T18:31:06.420Z"
   },
   {
    "duration": 7,
    "start_time": "2021-11-25T18:31:06.464Z"
   },
   {
    "duration": 27,
    "start_time": "2021-11-25T18:31:06.473Z"
   },
   {
    "duration": 32,
    "start_time": "2021-11-25T18:31:06.502Z"
   },
   {
    "duration": 24,
    "start_time": "2021-11-25T18:31:06.536Z"
   },
   {
    "duration": 16,
    "start_time": "2021-11-25T18:31:06.562Z"
   },
   {
    "duration": 20,
    "start_time": "2021-11-25T18:31:06.579Z"
   },
   {
    "duration": 14,
    "start_time": "2021-11-25T18:31:06.601Z"
   },
   {
    "duration": 18,
    "start_time": "2021-11-25T18:31:06.616Z"
   },
   {
    "duration": 20,
    "start_time": "2021-11-25T18:31:06.636Z"
   },
   {
    "duration": 18,
    "start_time": "2021-11-25T18:31:06.658Z"
   },
   {
    "duration": 28,
    "start_time": "2021-11-25T18:31:06.678Z"
   },
   {
    "duration": 19,
    "start_time": "2021-11-25T18:31:06.708Z"
   },
   {
    "duration": 716,
    "start_time": "2021-11-25T18:31:06.729Z"
   },
   {
    "duration": 3,
    "start_time": "2021-11-25T18:31:07.447Z"
   },
   {
    "duration": 13,
    "start_time": "2021-11-25T18:31:07.456Z"
   },
   {
    "duration": 20,
    "start_time": "2021-11-25T18:31:07.472Z"
   },
   {
    "duration": 43,
    "start_time": "2021-11-25T18:31:07.494Z"
   },
   {
    "duration": 4,
    "start_time": "2021-11-25T18:31:07.539Z"
   },
   {
    "duration": 19,
    "start_time": "2021-11-25T18:31:07.545Z"
   },
   {
    "duration": 166,
    "start_time": "2021-11-25T18:31:07.566Z"
   },
   {
    "duration": 5,
    "start_time": "2021-11-25T18:31:07.734Z"
   },
   {
    "duration": 22,
    "start_time": "2021-11-25T18:31:07.741Z"
   },
   {
    "duration": 26,
    "start_time": "2021-11-25T18:31:07.765Z"
   },
   {
    "duration": 20,
    "start_time": "2021-11-25T18:31:07.793Z"
   },
   {
    "duration": 5,
    "start_time": "2021-11-25T18:31:07.815Z"
   },
   {
    "duration": 19,
    "start_time": "2021-11-25T18:31:07.822Z"
   },
   {
    "duration": 13,
    "start_time": "2021-11-25T18:31:07.843Z"
   },
   {
    "duration": 23,
    "start_time": "2021-11-25T18:31:07.858Z"
   },
   {
    "duration": 27,
    "start_time": "2021-11-25T18:31:07.883Z"
   },
   {
    "duration": 42,
    "start_time": "2021-11-25T18:31:07.912Z"
   },
   {
    "duration": 28,
    "start_time": "2021-11-25T18:31:07.956Z"
   },
   {
    "duration": 24,
    "start_time": "2021-11-25T18:31:07.986Z"
   },
   {
    "duration": 29,
    "start_time": "2021-11-25T18:31:08.011Z"
   },
   {
    "duration": 28,
    "start_time": "2021-11-25T18:31:08.042Z"
   },
   {
    "duration": 27,
    "start_time": "2021-11-25T18:31:08.072Z"
   },
   {
    "duration": 28,
    "start_time": "2021-11-25T18:31:08.101Z"
   },
   {
    "duration": 20,
    "start_time": "2021-11-25T18:31:08.131Z"
   },
   {
    "duration": 25,
    "start_time": "2021-11-25T18:31:08.152Z"
   },
   {
    "duration": 28,
    "start_time": "2021-11-25T18:31:08.179Z"
   },
   {
    "duration": 810,
    "start_time": "2021-11-25T18:31:08.209Z"
   },
   {
    "duration": 156,
    "start_time": "2021-11-25T18:31:09.021Z"
   },
   {
    "duration": 265,
    "start_time": "2021-11-25T18:31:09.179Z"
   },
   {
    "duration": 267,
    "start_time": "2021-11-25T18:31:09.447Z"
   },
   {
    "duration": 7,
    "start_time": "2021-11-25T18:31:09.716Z"
   },
   {
    "duration": 275,
    "start_time": "2021-11-25T18:31:09.725Z"
   },
   {
    "duration": 21,
    "start_time": "2021-11-25T18:31:26.878Z"
   },
   {
    "duration": 21,
    "start_time": "2021-11-25T18:31:54.605Z"
   },
   {
    "duration": 689,
    "start_time": "2021-11-25T18:32:07.695Z"
   },
   {
    "duration": 57,
    "start_time": "2021-11-25T18:32:08.386Z"
   },
   {
    "duration": 19,
    "start_time": "2021-11-25T18:32:08.445Z"
   },
   {
    "duration": 16,
    "start_time": "2021-11-25T18:32:08.466Z"
   },
   {
    "duration": 27,
    "start_time": "2021-11-25T18:32:08.483Z"
   },
   {
    "duration": 15,
    "start_time": "2021-11-25T18:32:08.512Z"
   },
   {
    "duration": 8,
    "start_time": "2021-11-25T18:32:08.528Z"
   },
   {
    "duration": 12,
    "start_time": "2021-11-25T18:32:08.538Z"
   },
   {
    "duration": 12,
    "start_time": "2021-11-25T18:32:08.552Z"
   },
   {
    "duration": 6,
    "start_time": "2021-11-25T18:32:08.566Z"
   },
   {
    "duration": 36,
    "start_time": "2021-11-25T18:32:08.574Z"
   },
   {
    "duration": 30,
    "start_time": "2021-11-25T18:32:08.612Z"
   },
   {
    "duration": 25,
    "start_time": "2021-11-25T18:32:08.644Z"
   },
   {
    "duration": 36,
    "start_time": "2021-11-25T18:32:08.672Z"
   },
   {
    "duration": 9,
    "start_time": "2021-11-25T18:32:08.710Z"
   },
   {
    "duration": 19,
    "start_time": "2021-11-25T18:32:08.721Z"
   },
   {
    "duration": 5,
    "start_time": "2021-11-25T18:32:08.742Z"
   },
   {
    "duration": 22,
    "start_time": "2021-11-25T18:32:08.749Z"
   },
   {
    "duration": 12,
    "start_time": "2021-11-25T18:32:08.774Z"
   },
   {
    "duration": 6,
    "start_time": "2021-11-25T18:32:08.808Z"
   },
   {
    "duration": 5,
    "start_time": "2021-11-25T18:32:08.816Z"
   },
   {
    "duration": 8,
    "start_time": "2021-11-25T18:32:08.823Z"
   },
   {
    "duration": 6,
    "start_time": "2021-11-25T18:32:08.836Z"
   },
   {
    "duration": 8,
    "start_time": "2021-11-25T18:32:08.845Z"
   },
   {
    "duration": 11,
    "start_time": "2021-11-25T18:32:08.855Z"
   },
   {
    "duration": 46,
    "start_time": "2021-11-25T18:32:08.868Z"
   },
   {
    "duration": 23,
    "start_time": "2021-11-25T18:32:08.916Z"
   },
   {
    "duration": 17,
    "start_time": "2021-11-25T18:32:08.941Z"
   },
   {
    "duration": 8,
    "start_time": "2021-11-25T18:32:08.960Z"
   },
   {
    "duration": 39,
    "start_time": "2021-11-25T18:32:08.970Z"
   },
   {
    "duration": 6,
    "start_time": "2021-11-25T18:32:09.012Z"
   },
   {
    "duration": 18,
    "start_time": "2021-11-25T18:32:09.020Z"
   },
   {
    "duration": 6,
    "start_time": "2021-11-25T18:32:09.040Z"
   },
   {
    "duration": 6,
    "start_time": "2021-11-25T18:32:09.048Z"
   },
   {
    "duration": 70,
    "start_time": "2021-11-25T18:32:09.056Z"
   },
   {
    "duration": 9,
    "start_time": "2021-11-25T18:32:09.128Z"
   },
   {
    "duration": 11,
    "start_time": "2021-11-25T18:32:09.139Z"
   },
   {
    "duration": 9,
    "start_time": "2021-11-25T18:32:09.151Z"
   },
   {
    "duration": 13,
    "start_time": "2021-11-25T18:32:09.162Z"
   },
   {
    "duration": 7,
    "start_time": "2021-11-25T18:32:09.177Z"
   },
   {
    "duration": 21,
    "start_time": "2021-11-25T18:32:09.186Z"
   },
   {
    "duration": 20,
    "start_time": "2021-11-25T18:32:09.209Z"
   },
   {
    "duration": 7,
    "start_time": "2021-11-25T18:32:09.231Z"
   },
   {
    "duration": 17,
    "start_time": "2021-11-25T18:32:09.239Z"
   },
   {
    "duration": 15,
    "start_time": "2021-11-25T18:32:09.258Z"
   },
   {
    "duration": 35,
    "start_time": "2021-11-25T18:32:09.275Z"
   },
   {
    "duration": 21,
    "start_time": "2021-11-25T18:32:09.312Z"
   },
   {
    "duration": 15,
    "start_time": "2021-11-25T18:32:09.335Z"
   },
   {
    "duration": 10,
    "start_time": "2021-11-25T18:32:09.352Z"
   },
   {
    "duration": 12,
    "start_time": "2021-11-25T18:32:09.364Z"
   },
   {
    "duration": 31,
    "start_time": "2021-11-25T18:32:09.378Z"
   },
   {
    "duration": 5,
    "start_time": "2021-11-25T18:32:09.411Z"
   },
   {
    "duration": 22,
    "start_time": "2021-11-25T18:32:09.418Z"
   },
   {
    "duration": 6,
    "start_time": "2021-11-25T18:32:09.442Z"
   },
   {
    "duration": 8,
    "start_time": "2021-11-25T18:32:09.450Z"
   },
   {
    "duration": 8,
    "start_time": "2021-11-25T18:32:09.460Z"
   },
   {
    "duration": 39,
    "start_time": "2021-11-25T18:32:09.471Z"
   },
   {
    "duration": 15,
    "start_time": "2021-11-25T18:32:09.512Z"
   },
   {
    "duration": 14,
    "start_time": "2021-11-25T18:32:09.529Z"
   },
   {
    "duration": 13,
    "start_time": "2021-11-25T18:32:09.545Z"
   },
   {
    "duration": 32,
    "start_time": "2021-11-25T18:32:09.560Z"
   },
   {
    "duration": 75,
    "start_time": "2021-11-25T18:32:09.594Z"
   },
   {
    "duration": 13,
    "start_time": "2021-11-25T18:32:09.671Z"
   },
   {
    "duration": 13,
    "start_time": "2021-11-25T18:32:09.686Z"
   },
   {
    "duration": 18,
    "start_time": "2021-11-25T18:32:09.701Z"
   },
   {
    "duration": 1098,
    "start_time": "2021-11-25T18:32:09.721Z"
   },
   {
    "duration": 3,
    "start_time": "2021-11-25T18:32:10.821Z"
   },
   {
    "duration": 7,
    "start_time": "2021-11-25T18:32:10.829Z"
   },
   {
    "duration": 6,
    "start_time": "2021-11-25T18:32:10.838Z"
   },
   {
    "duration": 47,
    "start_time": "2021-11-25T18:32:10.846Z"
   },
   {
    "duration": 3,
    "start_time": "2021-11-25T18:32:10.895Z"
   },
   {
    "duration": 12,
    "start_time": "2021-11-25T18:32:10.900Z"
   },
   {
    "duration": 240,
    "start_time": "2021-11-25T18:32:10.914Z"
   },
   {
    "duration": 6,
    "start_time": "2021-11-25T18:32:11.156Z"
   },
   {
    "duration": 19,
    "start_time": "2021-11-25T18:32:11.164Z"
   },
   {
    "duration": 27,
    "start_time": "2021-11-25T18:32:17.284Z"
   },
   {
    "duration": 10,
    "start_time": "2021-11-25T18:32:55.707Z"
   },
   {
    "duration": 3,
    "start_time": "2021-11-25T18:33:01.523Z"
   },
   {
    "duration": 10,
    "start_time": "2021-11-25T18:33:04.099Z"
   },
   {
    "duration": 3,
    "start_time": "2021-11-25T18:33:07.650Z"
   },
   {
    "duration": 4,
    "start_time": "2021-11-25T18:33:10.803Z"
   },
   {
    "duration": 19,
    "start_time": "2021-11-25T18:33:30.291Z"
   },
   {
    "duration": 14,
    "start_time": "2021-11-25T18:33:39.044Z"
   },
   {
    "duration": 35,
    "start_time": "2021-11-25T18:33:53.236Z"
   },
   {
    "duration": 75,
    "start_time": "2021-11-25T18:34:00.748Z"
   },
   {
    "duration": 640,
    "start_time": "2021-11-25T18:34:10.123Z"
   },
   {
    "duration": 52,
    "start_time": "2021-11-25T18:34:10.765Z"
   },
   {
    "duration": 18,
    "start_time": "2021-11-25T18:34:10.819Z"
   },
   {
    "duration": 12,
    "start_time": "2021-11-25T18:34:10.839Z"
   },
   {
    "duration": 10,
    "start_time": "2021-11-25T18:34:10.853Z"
   },
   {
    "duration": 43,
    "start_time": "2021-11-25T18:34:10.865Z"
   },
   {
    "duration": 7,
    "start_time": "2021-11-25T18:34:10.910Z"
   },
   {
    "duration": 8,
    "start_time": "2021-11-25T18:34:10.921Z"
   },
   {
    "duration": 7,
    "start_time": "2021-11-25T18:34:10.932Z"
   },
   {
    "duration": 10,
    "start_time": "2021-11-25T18:34:10.942Z"
   },
   {
    "duration": 54,
    "start_time": "2021-11-25T18:34:10.955Z"
   },
   {
    "duration": 35,
    "start_time": "2021-11-25T18:34:11.012Z"
   },
   {
    "duration": 27,
    "start_time": "2021-11-25T18:34:11.050Z"
   },
   {
    "duration": 28,
    "start_time": "2021-11-25T18:34:11.079Z"
   },
   {
    "duration": 7,
    "start_time": "2021-11-25T18:34:11.109Z"
   },
   {
    "duration": 12,
    "start_time": "2021-11-25T18:34:11.119Z"
   },
   {
    "duration": 7,
    "start_time": "2021-11-25T18:34:11.133Z"
   },
   {
    "duration": 21,
    "start_time": "2021-11-25T18:34:11.142Z"
   },
   {
    "duration": 11,
    "start_time": "2021-11-25T18:34:11.165Z"
   },
   {
    "duration": 8,
    "start_time": "2021-11-25T18:34:11.207Z"
   },
   {
    "duration": 11,
    "start_time": "2021-11-25T18:34:11.217Z"
   },
   {
    "duration": 11,
    "start_time": "2021-11-25T18:34:11.230Z"
   },
   {
    "duration": 6,
    "start_time": "2021-11-25T18:34:11.247Z"
   },
   {
    "duration": 21,
    "start_time": "2021-11-25T18:34:11.256Z"
   },
   {
    "duration": 6,
    "start_time": "2021-11-25T18:34:11.279Z"
   },
   {
    "duration": 27,
    "start_time": "2021-11-25T18:34:11.287Z"
   },
   {
    "duration": 17,
    "start_time": "2021-11-25T18:34:11.315Z"
   },
   {
    "duration": 28,
    "start_time": "2021-11-25T18:34:11.334Z"
   },
   {
    "duration": 17,
    "start_time": "2021-11-25T18:34:11.364Z"
   },
   {
    "duration": 15,
    "start_time": "2021-11-25T18:34:11.383Z"
   },
   {
    "duration": 8,
    "start_time": "2021-11-25T18:34:11.401Z"
   },
   {
    "duration": 27,
    "start_time": "2021-11-25T18:34:11.412Z"
   },
   {
    "duration": 7,
    "start_time": "2021-11-25T18:34:11.442Z"
   },
   {
    "duration": 6,
    "start_time": "2021-11-25T18:34:11.452Z"
   },
   {
    "duration": 62,
    "start_time": "2021-11-25T18:34:11.460Z"
   },
   {
    "duration": 9,
    "start_time": "2021-11-25T18:34:11.524Z"
   },
   {
    "duration": 7,
    "start_time": "2021-11-25T18:34:11.534Z"
   },
   {
    "duration": 11,
    "start_time": "2021-11-25T18:34:11.543Z"
   },
   {
    "duration": 15,
    "start_time": "2021-11-25T18:34:11.555Z"
   },
   {
    "duration": 12,
    "start_time": "2021-11-25T18:34:11.572Z"
   },
   {
    "duration": 7,
    "start_time": "2021-11-25T18:34:11.586Z"
   },
   {
    "duration": 22,
    "start_time": "2021-11-25T18:34:11.607Z"
   },
   {
    "duration": 6,
    "start_time": "2021-11-25T18:34:11.632Z"
   },
   {
    "duration": 9,
    "start_time": "2021-11-25T18:34:11.640Z"
   },
   {
    "duration": 8,
    "start_time": "2021-11-25T18:34:11.650Z"
   },
   {
    "duration": 17,
    "start_time": "2021-11-25T18:34:11.660Z"
   },
   {
    "duration": 37,
    "start_time": "2021-11-25T18:34:11.680Z"
   },
   {
    "duration": 10,
    "start_time": "2021-11-25T18:34:11.719Z"
   },
   {
    "duration": 11,
    "start_time": "2021-11-25T18:34:11.731Z"
   },
   {
    "duration": 10,
    "start_time": "2021-11-25T18:34:11.744Z"
   },
   {
    "duration": 23,
    "start_time": "2021-11-25T18:34:11.756Z"
   },
   {
    "duration": 35,
    "start_time": "2021-11-25T18:34:11.781Z"
   },
   {
    "duration": 29,
    "start_time": "2021-11-25T18:34:11.818Z"
   },
   {
    "duration": 7,
    "start_time": "2021-11-25T18:34:11.849Z"
   },
   {
    "duration": 9,
    "start_time": "2021-11-25T18:34:11.858Z"
   },
   {
    "duration": 10,
    "start_time": "2021-11-25T18:34:11.869Z"
   },
   {
    "duration": 6,
    "start_time": "2021-11-25T18:34:11.881Z"
   },
   {
    "duration": 11,
    "start_time": "2021-11-25T18:34:11.889Z"
   },
   {
    "duration": 12,
    "start_time": "2021-11-25T18:34:11.907Z"
   },
   {
    "duration": 13,
    "start_time": "2021-11-25T18:34:11.921Z"
   },
   {
    "duration": 12,
    "start_time": "2021-11-25T18:34:11.936Z"
   },
   {
    "duration": 14,
    "start_time": "2021-11-25T18:34:11.949Z"
   },
   {
    "duration": 46,
    "start_time": "2021-11-25T18:34:11.965Z"
   },
   {
    "duration": 14,
    "start_time": "2021-11-25T18:34:12.013Z"
   },
   {
    "duration": 18,
    "start_time": "2021-11-25T18:34:12.029Z"
   },
   {
    "duration": 734,
    "start_time": "2021-11-25T18:34:12.049Z"
   },
   {
    "duration": 3,
    "start_time": "2021-11-25T18:34:12.785Z"
   },
   {
    "duration": 3,
    "start_time": "2021-11-25T18:34:12.808Z"
   },
   {
    "duration": 6,
    "start_time": "2021-11-25T18:34:12.814Z"
   },
   {
    "duration": 27,
    "start_time": "2021-11-25T18:34:12.822Z"
   },
   {
    "duration": 3,
    "start_time": "2021-11-25T18:34:12.851Z"
   },
   {
    "duration": 8,
    "start_time": "2021-11-25T18:34:12.856Z"
   },
   {
    "duration": 130,
    "start_time": "2021-11-25T18:34:12.866Z"
   },
   {
    "duration": 9,
    "start_time": "2021-11-25T18:34:12.998Z"
   },
   {
    "duration": 10,
    "start_time": "2021-11-25T18:34:13.009Z"
   },
   {
    "duration": 27,
    "start_time": "2021-11-25T18:34:13.020Z"
   },
   {
    "duration": 10,
    "start_time": "2021-11-25T18:34:13.048Z"
   },
   {
    "duration": 4,
    "start_time": "2021-11-25T18:34:13.059Z"
   },
   {
    "duration": 10,
    "start_time": "2021-11-25T18:34:13.065Z"
   },
   {
    "duration": 30,
    "start_time": "2021-11-25T18:34:13.077Z"
   },
   {
    "duration": 8,
    "start_time": "2021-11-25T18:34:13.109Z"
   },
   {
    "duration": 11,
    "start_time": "2021-11-25T18:34:13.118Z"
   },
   {
    "duration": 11,
    "start_time": "2021-11-25T18:34:13.131Z"
   },
   {
    "duration": 22,
    "start_time": "2021-11-25T18:34:13.143Z"
   },
   {
    "duration": 40,
    "start_time": "2021-11-25T18:34:13.167Z"
   },
   {
    "duration": 3,
    "start_time": "2021-11-25T18:34:13.210Z"
   },
   {
    "duration": 26,
    "start_time": "2021-11-25T18:34:13.214Z"
   },
   {
    "duration": 24,
    "start_time": "2021-11-25T18:34:13.243Z"
   },
   {
    "duration": 13,
    "start_time": "2021-11-25T18:34:13.270Z"
   },
   {
    "duration": 15,
    "start_time": "2021-11-25T18:34:13.284Z"
   },
   {
    "duration": 13,
    "start_time": "2021-11-25T18:34:13.307Z"
   },
   {
    "duration": 9,
    "start_time": "2021-11-25T18:34:13.321Z"
   },
   {
    "duration": 716,
    "start_time": "2021-11-25T18:34:13.332Z"
   },
   {
    "duration": 134,
    "start_time": "2021-11-25T18:34:14.049Z"
   },
   {
    "duration": 259,
    "start_time": "2021-11-25T18:34:14.185Z"
   },
   {
    "duration": 262,
    "start_time": "2021-11-25T18:34:14.446Z"
   },
   {
    "duration": 5,
    "start_time": "2021-11-25T18:34:14.709Z"
   },
   {
    "duration": 290,
    "start_time": "2021-11-25T18:34:14.716Z"
   },
   {
    "duration": 10,
    "start_time": "2021-11-25T18:42:27.421Z"
   },
   {
    "duration": 700,
    "start_time": "2021-11-25T18:42:41.823Z"
   },
   {
    "duration": 64,
    "start_time": "2021-11-25T18:42:42.526Z"
   },
   {
    "duration": 24,
    "start_time": "2021-11-25T18:42:42.592Z"
   },
   {
    "duration": 18,
    "start_time": "2021-11-25T18:42:42.618Z"
   },
   {
    "duration": 9,
    "start_time": "2021-11-25T18:42:42.638Z"
   },
   {
    "duration": 15,
    "start_time": "2021-11-25T18:42:42.649Z"
   },
   {
    "duration": 7,
    "start_time": "2021-11-25T18:42:42.666Z"
   },
   {
    "duration": 9,
    "start_time": "2021-11-25T18:42:42.708Z"
   },
   {
    "duration": 7,
    "start_time": "2021-11-25T18:42:42.719Z"
   },
   {
    "duration": 7,
    "start_time": "2021-11-25T18:42:42.728Z"
   },
   {
    "duration": 10,
    "start_time": "2021-11-25T18:42:42.737Z"
   },
   {
    "duration": 19,
    "start_time": "2021-11-25T18:42:42.748Z"
   },
   {
    "duration": 57,
    "start_time": "2021-11-25T18:42:42.768Z"
   },
   {
    "duration": 6,
    "start_time": "2021-11-25T18:42:42.827Z"
   },
   {
    "duration": 9,
    "start_time": "2021-11-25T18:42:42.835Z"
   },
   {
    "duration": 13,
    "start_time": "2021-11-25T18:42:42.846Z"
   },
   {
    "duration": 8,
    "start_time": "2021-11-25T18:42:42.861Z"
   },
   {
    "duration": 14,
    "start_time": "2021-11-25T18:42:42.871Z"
   },
   {
    "duration": 25,
    "start_time": "2021-11-25T18:42:42.887Z"
   },
   {
    "duration": 5,
    "start_time": "2021-11-25T18:42:42.914Z"
   },
   {
    "duration": 8,
    "start_time": "2021-11-25T18:42:42.920Z"
   },
   {
    "duration": 7,
    "start_time": "2021-11-25T18:42:42.930Z"
   },
   {
    "duration": 5,
    "start_time": "2021-11-25T18:42:42.941Z"
   },
   {
    "duration": 10,
    "start_time": "2021-11-25T18:42:42.949Z"
   },
   {
    "duration": 4,
    "start_time": "2021-11-25T18:42:42.960Z"
   },
   {
    "duration": 45,
    "start_time": "2021-11-25T18:42:42.965Z"
   },
   {
    "duration": 25,
    "start_time": "2021-11-25T18:42:43.012Z"
   },
   {
    "duration": 14,
    "start_time": "2021-11-25T18:42:43.039Z"
   },
   {
    "duration": 6,
    "start_time": "2021-11-25T18:42:43.055Z"
   },
   {
    "duration": 8,
    "start_time": "2021-11-25T18:42:43.063Z"
   },
   {
    "duration": 6,
    "start_time": "2021-11-25T18:42:43.073Z"
   },
   {
    "duration": 33,
    "start_time": "2021-11-25T18:42:43.081Z"
   },
   {
    "duration": 10,
    "start_time": "2021-11-25T18:42:43.116Z"
   },
   {
    "duration": 9,
    "start_time": "2021-11-25T18:42:43.128Z"
   },
   {
    "duration": 35,
    "start_time": "2021-11-25T18:42:43.138Z"
   },
   {
    "duration": 34,
    "start_time": "2021-11-25T18:42:43.175Z"
   },
   {
    "duration": 6,
    "start_time": "2021-11-25T18:42:43.210Z"
   },
   {
    "duration": 10,
    "start_time": "2021-11-25T18:42:43.218Z"
   },
   {
    "duration": 16,
    "start_time": "2021-11-25T18:42:43.229Z"
   },
   {
    "duration": 7,
    "start_time": "2021-11-25T18:42:43.247Z"
   },
   {
    "duration": 5,
    "start_time": "2021-11-25T18:42:43.256Z"
   },
   {
    "duration": 26,
    "start_time": "2021-11-25T18:42:43.263Z"
   },
   {
    "duration": 5,
    "start_time": "2021-11-25T18:42:43.307Z"
   },
   {
    "duration": 33,
    "start_time": "2021-11-25T18:42:43.313Z"
   },
   {
    "duration": 10,
    "start_time": "2021-11-25T18:42:43.347Z"
   },
   {
    "duration": 29,
    "start_time": "2021-11-25T18:42:43.359Z"
   },
   {
    "duration": 13,
    "start_time": "2021-11-25T18:42:43.390Z"
   },
   {
    "duration": 8,
    "start_time": "2021-11-25T18:42:43.404Z"
   },
   {
    "duration": 6,
    "start_time": "2021-11-25T18:42:43.414Z"
   },
   {
    "duration": 9,
    "start_time": "2021-11-25T18:42:43.422Z"
   },
   {
    "duration": 17,
    "start_time": "2021-11-25T18:42:43.433Z"
   },
   {
    "duration": 6,
    "start_time": "2021-11-25T18:42:43.452Z"
   },
   {
    "duration": 23,
    "start_time": "2021-11-25T18:42:43.460Z"
   },
   {
    "duration": 6,
    "start_time": "2021-11-25T18:42:43.507Z"
   },
   {
    "duration": 12,
    "start_time": "2021-11-25T18:42:43.515Z"
   },
   {
    "duration": 10,
    "start_time": "2021-11-25T18:42:43.529Z"
   },
   {
    "duration": 17,
    "start_time": "2021-11-25T18:42:43.540Z"
   },
   {
    "duration": 12,
    "start_time": "2021-11-25T18:42:43.559Z"
   },
   {
    "duration": 19,
    "start_time": "2021-11-25T18:42:43.573Z"
   },
   {
    "duration": 24,
    "start_time": "2021-11-25T18:42:43.594Z"
   },
   {
    "duration": 15,
    "start_time": "2021-11-25T18:42:43.620Z"
   },
   {
    "duration": 14,
    "start_time": "2021-11-25T18:42:43.637Z"
   },
   {
    "duration": 12,
    "start_time": "2021-11-25T18:42:43.653Z"
   },
   {
    "duration": 40,
    "start_time": "2021-11-25T18:42:43.667Z"
   },
   {
    "duration": 22,
    "start_time": "2021-11-25T18:42:43.709Z"
   },
   {
    "duration": 687,
    "start_time": "2021-11-25T18:42:43.733Z"
   },
   {
    "duration": 3,
    "start_time": "2021-11-25T18:42:44.422Z"
   },
   {
    "duration": 3,
    "start_time": "2021-11-25T18:42:44.431Z"
   },
   {
    "duration": 15,
    "start_time": "2021-11-25T18:42:44.436Z"
   },
   {
    "duration": 28,
    "start_time": "2021-11-25T18:42:44.452Z"
   },
   {
    "duration": 2,
    "start_time": "2021-11-25T18:42:44.482Z"
   },
   {
    "duration": 27,
    "start_time": "2021-11-25T18:42:44.486Z"
   },
   {
    "duration": 108,
    "start_time": "2021-11-25T18:42:44.514Z"
   },
   {
    "duration": 5,
    "start_time": "2021-11-25T18:42:44.624Z"
   },
   {
    "duration": 24,
    "start_time": "2021-11-25T18:42:44.630Z"
   },
   {
    "duration": 23,
    "start_time": "2021-11-25T18:42:44.655Z"
   },
   {
    "duration": 20,
    "start_time": "2021-11-25T18:42:44.679Z"
   },
   {
    "duration": 9,
    "start_time": "2021-11-25T18:42:44.705Z"
   },
   {
    "duration": 4,
    "start_time": "2021-11-25T18:42:44.716Z"
   },
   {
    "duration": 13,
    "start_time": "2021-11-25T18:42:44.722Z"
   },
   {
    "duration": 3,
    "start_time": "2021-11-25T18:42:44.737Z"
   },
   {
    "duration": 9,
    "start_time": "2021-11-25T18:42:44.742Z"
   },
   {
    "duration": 14,
    "start_time": "2021-11-25T18:42:44.752Z"
   },
   {
    "duration": 11,
    "start_time": "2021-11-25T18:42:44.767Z"
   },
   {
    "duration": 36,
    "start_time": "2021-11-25T18:42:44.779Z"
   },
   {
    "duration": 3,
    "start_time": "2021-11-25T18:42:44.816Z"
   },
   {
    "duration": 14,
    "start_time": "2021-11-25T18:42:44.820Z"
   },
   {
    "duration": 17,
    "start_time": "2021-11-25T18:42:44.836Z"
   },
   {
    "duration": 18,
    "start_time": "2021-11-25T18:42:44.855Z"
   },
   {
    "duration": 12,
    "start_time": "2021-11-25T18:42:44.874Z"
   },
   {
    "duration": 22,
    "start_time": "2021-11-25T18:42:44.888Z"
   },
   {
    "duration": 8,
    "start_time": "2021-11-25T18:42:44.912Z"
   },
   {
    "duration": 679,
    "start_time": "2021-11-25T18:42:44.922Z"
   },
   {
    "duration": 124,
    "start_time": "2021-11-25T18:42:45.603Z"
   },
   {
    "duration": 242,
    "start_time": "2021-11-25T18:42:45.729Z"
   },
   {
    "duration": 246,
    "start_time": "2021-11-25T18:42:45.973Z"
   },
   {
    "duration": 5,
    "start_time": "2021-11-25T18:42:46.222Z"
   },
   {
    "duration": 265,
    "start_time": "2021-11-25T18:42:46.229Z"
   },
   {
    "duration": 24,
    "start_time": "2021-11-25T19:01:13.169Z"
   },
   {
    "duration": 636,
    "start_time": "2021-11-25T19:01:25.221Z"
   },
   {
    "duration": 53,
    "start_time": "2021-11-25T19:01:25.859Z"
   },
   {
    "duration": 26,
    "start_time": "2021-11-25T19:01:25.914Z"
   },
   {
    "duration": 12,
    "start_time": "2021-11-25T19:01:25.942Z"
   },
   {
    "duration": 12,
    "start_time": "2021-11-25T19:01:25.956Z"
   },
   {
    "duration": 44,
    "start_time": "2021-11-25T19:01:25.970Z"
   },
   {
    "duration": 8,
    "start_time": "2021-11-25T19:01:26.015Z"
   },
   {
    "duration": 17,
    "start_time": "2021-11-25T19:01:26.026Z"
   },
   {
    "duration": 7,
    "start_time": "2021-11-25T19:01:26.046Z"
   },
   {
    "duration": 7,
    "start_time": "2021-11-25T19:01:26.057Z"
   },
   {
    "duration": 47,
    "start_time": "2021-11-25T19:01:26.066Z"
   },
   {
    "duration": 17,
    "start_time": "2021-11-25T19:01:26.115Z"
   },
   {
    "duration": 36,
    "start_time": "2021-11-25T19:01:26.135Z"
   },
   {
    "duration": 39,
    "start_time": "2021-11-25T19:01:26.173Z"
   },
   {
    "duration": 7,
    "start_time": "2021-11-25T19:01:26.214Z"
   },
   {
    "duration": 10,
    "start_time": "2021-11-25T19:01:26.222Z"
   },
   {
    "duration": 5,
    "start_time": "2021-11-25T19:01:26.234Z"
   },
   {
    "duration": 15,
    "start_time": "2021-11-25T19:01:26.242Z"
   },
   {
    "duration": 51,
    "start_time": "2021-11-25T19:01:26.260Z"
   },
   {
    "duration": 6,
    "start_time": "2021-11-25T19:01:26.313Z"
   },
   {
    "duration": 8,
    "start_time": "2021-11-25T19:01:26.321Z"
   },
   {
    "duration": 7,
    "start_time": "2021-11-25T19:01:26.331Z"
   },
   {
    "duration": 5,
    "start_time": "2021-11-25T19:01:26.342Z"
   },
   {
    "duration": 7,
    "start_time": "2021-11-25T19:01:26.350Z"
   },
   {
    "duration": 5,
    "start_time": "2021-11-25T19:01:26.359Z"
   },
   {
    "duration": 41,
    "start_time": "2021-11-25T19:01:26.366Z"
   },
   {
    "duration": 17,
    "start_time": "2021-11-25T19:01:26.410Z"
   },
   {
    "duration": 32,
    "start_time": "2021-11-25T19:01:26.429Z"
   },
   {
    "duration": 8,
    "start_time": "2021-11-25T19:01:26.463Z"
   },
   {
    "duration": 21,
    "start_time": "2021-11-25T19:01:26.473Z"
   },
   {
    "duration": 11,
    "start_time": "2021-11-25T19:01:26.496Z"
   },
   {
    "duration": 14,
    "start_time": "2021-11-25T19:01:26.508Z"
   },
   {
    "duration": 4,
    "start_time": "2021-11-25T19:01:26.524Z"
   },
   {
    "duration": 6,
    "start_time": "2021-11-25T19:01:26.529Z"
   },
   {
    "duration": 38,
    "start_time": "2021-11-25T19:01:26.536Z"
   },
   {
    "duration": 32,
    "start_time": "2021-11-25T19:01:26.576Z"
   },
   {
    "duration": 6,
    "start_time": "2021-11-25T19:01:26.609Z"
   },
   {
    "duration": 4,
    "start_time": "2021-11-25T19:01:26.617Z"
   },
   {
    "duration": 11,
    "start_time": "2021-11-25T19:01:26.623Z"
   },
   {
    "duration": 15,
    "start_time": "2021-11-25T19:01:26.636Z"
   },
   {
    "duration": 9,
    "start_time": "2021-11-25T19:01:26.653Z"
   },
   {
    "duration": 50,
    "start_time": "2021-11-25T19:01:26.664Z"
   },
   {
    "duration": 7,
    "start_time": "2021-11-25T19:01:26.716Z"
   },
   {
    "duration": 10,
    "start_time": "2021-11-25T19:01:26.724Z"
   },
   {
    "duration": 9,
    "start_time": "2021-11-25T19:01:26.736Z"
   },
   {
    "duration": 24,
    "start_time": "2021-11-25T19:01:26.747Z"
   },
   {
    "duration": 31,
    "start_time": "2021-11-25T19:01:26.775Z"
   },
   {
    "duration": 11,
    "start_time": "2021-11-25T19:01:26.809Z"
   },
   {
    "duration": 6,
    "start_time": "2021-11-25T19:01:26.822Z"
   },
   {
    "duration": 6,
    "start_time": "2021-11-25T19:01:26.830Z"
   },
   {
    "duration": 21,
    "start_time": "2021-11-25T19:01:26.837Z"
   },
   {
    "duration": 11,
    "start_time": "2021-11-25T19:01:26.860Z"
   },
   {
    "duration": 41,
    "start_time": "2021-11-25T19:01:26.872Z"
   },
   {
    "duration": 11,
    "start_time": "2021-11-25T19:01:26.915Z"
   },
   {
    "duration": 9,
    "start_time": "2021-11-25T19:01:26.928Z"
   },
   {
    "duration": 8,
    "start_time": "2021-11-25T19:01:26.939Z"
   },
   {
    "duration": 9,
    "start_time": "2021-11-25T19:01:26.949Z"
   },
   {
    "duration": 18,
    "start_time": "2021-11-25T19:01:26.960Z"
   },
   {
    "duration": 28,
    "start_time": "2021-11-25T19:01:26.980Z"
   },
   {
    "duration": 14,
    "start_time": "2021-11-25T19:01:27.010Z"
   },
   {
    "duration": 12,
    "start_time": "2021-11-25T19:01:27.026Z"
   },
   {
    "duration": 18,
    "start_time": "2021-11-25T19:01:27.040Z"
   },
   {
    "duration": 49,
    "start_time": "2021-11-25T19:01:27.060Z"
   },
   {
    "duration": 20,
    "start_time": "2021-11-25T19:01:27.111Z"
   },
   {
    "duration": 18,
    "start_time": "2021-11-25T19:01:27.134Z"
   },
   {
    "duration": 986,
    "start_time": "2021-11-25T19:01:27.155Z"
   },
   {
    "duration": 3,
    "start_time": "2021-11-25T19:01:28.143Z"
   },
   {
    "duration": 5,
    "start_time": "2021-11-25T19:01:28.151Z"
   },
   {
    "duration": 4,
    "start_time": "2021-11-25T19:01:28.158Z"
   },
   {
    "duration": 53,
    "start_time": "2021-11-25T19:01:28.164Z"
   },
   {
    "duration": 4,
    "start_time": "2021-11-25T19:01:28.219Z"
   },
   {
    "duration": 30,
    "start_time": "2021-11-25T19:01:28.225Z"
   },
   {
    "duration": 120,
    "start_time": "2021-11-25T19:01:28.256Z"
   },
   {
    "duration": 6,
    "start_time": "2021-11-25T19:01:28.378Z"
   },
   {
    "duration": 23,
    "start_time": "2021-11-25T19:01:28.385Z"
   },
   {
    "duration": 45,
    "start_time": "2021-11-25T19:01:28.411Z"
   },
   {
    "duration": 36,
    "start_time": "2021-11-25T19:01:28.459Z"
   },
   {
    "duration": 12,
    "start_time": "2021-11-25T19:01:28.506Z"
   },
   {
    "duration": 12,
    "start_time": "2021-11-25T19:01:28.520Z"
   },
   {
    "duration": 17,
    "start_time": "2021-11-25T19:01:28.534Z"
   },
   {
    "duration": 4,
    "start_time": "2021-11-25T19:01:28.553Z"
   },
   {
    "duration": 6,
    "start_time": "2021-11-25T19:01:28.558Z"
   },
   {
    "duration": 12,
    "start_time": "2021-11-25T19:01:28.566Z"
   },
   {
    "duration": 27,
    "start_time": "2021-11-25T19:01:28.580Z"
   },
   {
    "duration": 24,
    "start_time": "2021-11-25T19:01:28.609Z"
   },
   {
    "duration": 3,
    "start_time": "2021-11-25T19:01:28.635Z"
   },
   {
    "duration": 13,
    "start_time": "2021-11-25T19:01:28.639Z"
   },
   {
    "duration": 12,
    "start_time": "2021-11-25T19:01:28.654Z"
   },
   {
    "duration": 9,
    "start_time": "2021-11-25T19:01:28.668Z"
   },
   {
    "duration": 5,
    "start_time": "2021-11-25T19:01:28.707Z"
   },
   {
    "duration": 16,
    "start_time": "2021-11-25T19:01:28.714Z"
   },
   {
    "duration": 9,
    "start_time": "2021-11-25T19:01:28.731Z"
   },
   {
    "duration": 764,
    "start_time": "2021-11-25T19:01:28.742Z"
   },
   {
    "duration": 143,
    "start_time": "2021-11-25T19:01:29.508Z"
   },
   {
    "duration": 255,
    "start_time": "2021-11-25T19:01:29.653Z"
   },
   {
    "duration": 258,
    "start_time": "2021-11-25T19:01:29.909Z"
   },
   {
    "duration": 5,
    "start_time": "2021-11-25T19:01:30.169Z"
   },
   {
    "duration": 277,
    "start_time": "2021-11-25T19:01:30.176Z"
   },
   {
    "duration": 696,
    "start_time": "2021-11-25T19:04:03.995Z"
   },
   {
    "duration": 56,
    "start_time": "2021-11-25T19:04:04.693Z"
   },
   {
    "duration": 20,
    "start_time": "2021-11-25T19:04:04.752Z"
   },
   {
    "duration": 18,
    "start_time": "2021-11-25T19:04:04.774Z"
   },
   {
    "duration": 11,
    "start_time": "2021-11-25T19:04:04.806Z"
   },
   {
    "duration": 30,
    "start_time": "2021-11-25T19:04:04.819Z"
   },
   {
    "duration": 7,
    "start_time": "2021-11-25T19:04:04.851Z"
   },
   {
    "duration": 26,
    "start_time": "2021-11-25T19:04:04.861Z"
   },
   {
    "duration": 9,
    "start_time": "2021-11-25T19:04:04.889Z"
   },
   {
    "duration": 11,
    "start_time": "2021-11-25T19:04:04.900Z"
   },
   {
    "duration": 15,
    "start_time": "2021-11-25T19:04:04.913Z"
   },
   {
    "duration": 20,
    "start_time": "2021-11-25T19:04:04.929Z"
   },
   {
    "duration": 18,
    "start_time": "2021-11-25T19:04:04.950Z"
   },
   {
    "duration": 39,
    "start_time": "2021-11-25T19:04:04.970Z"
   },
   {
    "duration": 7,
    "start_time": "2021-11-25T19:04:05.011Z"
   },
   {
    "duration": 12,
    "start_time": "2021-11-25T19:04:05.020Z"
   },
   {
    "duration": 5,
    "start_time": "2021-11-25T19:04:05.034Z"
   },
   {
    "duration": 33,
    "start_time": "2021-11-25T19:04:05.041Z"
   },
   {
    "duration": 16,
    "start_time": "2021-11-25T19:04:05.076Z"
   },
   {
    "duration": 30,
    "start_time": "2021-11-25T19:04:05.093Z"
   },
   {
    "duration": 13,
    "start_time": "2021-11-25T19:04:05.124Z"
   },
   {
    "duration": 10,
    "start_time": "2021-11-25T19:04:05.139Z"
   },
   {
    "duration": 19,
    "start_time": "2021-11-25T19:04:05.154Z"
   },
   {
    "duration": 10,
    "start_time": "2021-11-25T19:04:05.176Z"
   },
   {
    "duration": 4,
    "start_time": "2021-11-25T19:04:05.188Z"
   },
   {
    "duration": 13,
    "start_time": "2021-11-25T19:04:05.194Z"
   },
   {
    "duration": 17,
    "start_time": "2021-11-25T19:04:05.209Z"
   },
   {
    "duration": 19,
    "start_time": "2021-11-25T19:04:05.228Z"
   },
   {
    "duration": 27,
    "start_time": "2021-11-25T19:04:05.249Z"
   },
   {
    "duration": 45,
    "start_time": "2021-11-25T19:04:05.278Z"
   },
   {
    "duration": 10,
    "start_time": "2021-11-25T19:04:05.325Z"
   },
   {
    "duration": 27,
    "start_time": "2021-11-25T19:04:05.337Z"
   },
   {
    "duration": 30,
    "start_time": "2021-11-25T19:04:05.366Z"
   },
   {
    "duration": 7,
    "start_time": "2021-11-25T19:04:05.398Z"
   },
   {
    "duration": 52,
    "start_time": "2021-11-25T19:04:05.407Z"
   },
   {
    "duration": 11,
    "start_time": "2021-11-25T19:04:05.461Z"
   },
   {
    "duration": 7,
    "start_time": "2021-11-25T19:04:05.474Z"
   },
   {
    "duration": 10,
    "start_time": "2021-11-25T19:04:05.483Z"
   },
   {
    "duration": 14,
    "start_time": "2021-11-25T19:04:05.495Z"
   },
   {
    "duration": 11,
    "start_time": "2021-11-25T19:04:05.511Z"
   },
   {
    "duration": 8,
    "start_time": "2021-11-25T19:04:05.523Z"
   },
   {
    "duration": 22,
    "start_time": "2021-11-25T19:04:05.533Z"
   },
   {
    "duration": 7,
    "start_time": "2021-11-25T19:04:05.557Z"
   },
   {
    "duration": 20,
    "start_time": "2021-11-25T19:04:05.566Z"
   },
   {
    "duration": 17,
    "start_time": "2021-11-25T19:04:05.588Z"
   },
   {
    "duration": 22,
    "start_time": "2021-11-25T19:04:05.607Z"
   },
   {
    "duration": 17,
    "start_time": "2021-11-25T19:04:05.631Z"
   },
   {
    "duration": 10,
    "start_time": "2021-11-25T19:04:05.650Z"
   },
   {
    "duration": 35,
    "start_time": "2021-11-25T19:04:05.662Z"
   },
   {
    "duration": 9,
    "start_time": "2021-11-25T19:04:05.699Z"
   },
   {
    "duration": 21,
    "start_time": "2021-11-25T19:04:05.710Z"
   },
   {
    "duration": 7,
    "start_time": "2021-11-25T19:04:05.733Z"
   },
   {
    "duration": 23,
    "start_time": "2021-11-25T19:04:05.742Z"
   },
   {
    "duration": 9,
    "start_time": "2021-11-25T19:04:05.767Z"
   },
   {
    "duration": 12,
    "start_time": "2021-11-25T19:04:05.778Z"
   },
   {
    "duration": 19,
    "start_time": "2021-11-25T19:04:05.791Z"
   },
   {
    "duration": 10,
    "start_time": "2021-11-25T19:04:05.812Z"
   },
   {
    "duration": 19,
    "start_time": "2021-11-25T19:04:05.824Z"
   },
   {
    "duration": 18,
    "start_time": "2021-11-25T19:04:05.845Z"
   },
   {
    "duration": 16,
    "start_time": "2021-11-25T19:04:05.865Z"
   },
   {
    "duration": 25,
    "start_time": "2021-11-25T19:04:05.883Z"
   },
   {
    "duration": 24,
    "start_time": "2021-11-25T19:04:05.910Z"
   },
   {
    "duration": 13,
    "start_time": "2021-11-25T19:04:05.936Z"
   },
   {
    "duration": 13,
    "start_time": "2021-11-25T19:04:05.951Z"
   },
   {
    "duration": 21,
    "start_time": "2021-11-25T19:04:05.965Z"
   },
   {
    "duration": 721,
    "start_time": "2021-11-25T19:04:06.006Z"
   },
   {
    "duration": 3,
    "start_time": "2021-11-25T19:04:06.729Z"
   },
   {
    "duration": 3,
    "start_time": "2021-11-25T19:04:06.738Z"
   },
   {
    "duration": 5,
    "start_time": "2021-11-25T19:04:06.744Z"
   },
   {
    "duration": 63,
    "start_time": "2021-11-25T19:04:06.751Z"
   },
   {
    "duration": 3,
    "start_time": "2021-11-25T19:04:06.815Z"
   },
   {
    "duration": 8,
    "start_time": "2021-11-25T19:04:06.820Z"
   },
   {
    "duration": 119,
    "start_time": "2021-11-25T19:04:06.830Z"
   },
   {
    "duration": 6,
    "start_time": "2021-11-25T19:04:06.951Z"
   },
   {
    "duration": 19,
    "start_time": "2021-11-25T19:04:06.959Z"
   },
   {
    "duration": 30,
    "start_time": "2021-11-25T19:04:06.980Z"
   },
   {
    "duration": 40,
    "start_time": "2021-11-25T19:04:07.012Z"
   },
   {
    "duration": 14,
    "start_time": "2021-11-25T19:04:07.055Z"
   },
   {
    "duration": 4,
    "start_time": "2021-11-25T19:04:07.072Z"
   },
   {
    "duration": 40,
    "start_time": "2021-11-25T19:04:07.078Z"
   },
   {
    "duration": 3,
    "start_time": "2021-11-25T19:04:07.120Z"
   },
   {
    "duration": 8,
    "start_time": "2021-11-25T19:04:07.125Z"
   },
   {
    "duration": 13,
    "start_time": "2021-11-25T19:04:07.135Z"
   },
   {
    "duration": 12,
    "start_time": "2021-11-25T19:04:07.150Z"
   },
   {
    "duration": 42,
    "start_time": "2021-11-25T19:04:07.164Z"
   },
   {
    "duration": 3,
    "start_time": "2021-11-25T19:04:07.208Z"
   },
   {
    "duration": 14,
    "start_time": "2021-11-25T19:04:07.212Z"
   },
   {
    "duration": 5,
    "start_time": "2021-11-25T19:12:04.542Z"
   },
   {
    "duration": 14,
    "start_time": "2021-11-25T19:12:06.645Z"
   },
   {
    "duration": 10,
    "start_time": "2021-11-25T19:12:08.740Z"
   },
   {
    "duration": 425,
    "start_time": "2021-11-25T19:30:25.343Z"
   },
   {
    "duration": 3,
    "start_time": "2021-11-25T19:31:26.812Z"
   },
   {
    "duration": 5,
    "start_time": "2021-11-25T19:31:47.930Z"
   },
   {
    "duration": 347,
    "start_time": "2021-11-25T19:34:08.111Z"
   },
   {
    "duration": 8,
    "start_time": "2021-11-25T19:34:30.230Z"
   },
   {
    "duration": 7,
    "start_time": "2021-11-25T19:35:12.053Z"
   },
   {
    "duration": 453,
    "start_time": "2021-11-25T19:35:25.814Z"
   },
   {
    "duration": 7,
    "start_time": "2021-11-25T19:35:38.800Z"
   },
   {
    "duration": 10,
    "start_time": "2021-11-25T19:36:35.077Z"
   },
   {
    "duration": 331,
    "start_time": "2021-11-25T19:41:13.623Z"
   },
   {
    "duration": 354,
    "start_time": "2021-11-25T19:41:20.282Z"
   },
   {
    "duration": 3,
    "start_time": "2021-11-25T19:42:08.401Z"
   },
   {
    "duration": 4,
    "start_time": "2021-11-25T19:42:14.031Z"
   },
   {
    "duration": 14,
    "start_time": "2021-11-25T19:42:20.966Z"
   },
   {
    "duration": 346,
    "start_time": "2021-11-25T19:42:50.591Z"
   },
   {
    "duration": 410,
    "start_time": "2021-11-25T19:43:28.026Z"
   },
   {
    "duration": 11,
    "start_time": "2021-11-25T19:43:33.999Z"
   },
   {
    "duration": 358,
    "start_time": "2021-11-25T19:43:43.490Z"
   },
   {
    "duration": 12,
    "start_time": "2021-11-25T19:43:51.600Z"
   },
   {
    "duration": 346,
    "start_time": "2021-11-25T19:44:04.839Z"
   },
   {
    "duration": 14,
    "start_time": "2021-11-25T19:44:24.423Z"
   },
   {
    "duration": 14,
    "start_time": "2021-11-25T19:44:33.903Z"
   },
   {
    "duration": 348,
    "start_time": "2021-11-25T19:44:40.474Z"
   },
   {
    "duration": 8,
    "start_time": "2021-11-25T19:44:50.272Z"
   },
   {
    "duration": 9,
    "start_time": "2021-11-25T19:45:12.807Z"
   },
   {
    "duration": 3,
    "start_time": "2021-11-25T19:45:15.974Z"
   },
   {
    "duration": 5,
    "start_time": "2021-11-25T19:45:17.014Z"
   },
   {
    "duration": 3,
    "start_time": "2021-11-25T19:45:25.983Z"
   },
   {
    "duration": 5,
    "start_time": "2021-11-25T19:45:28.390Z"
   },
   {
    "duration": 9,
    "start_time": "2021-11-25T19:45:34.163Z"
   },
   {
    "duration": 2,
    "start_time": "2021-11-25T19:45:36.255Z"
   },
   {
    "duration": 4,
    "start_time": "2021-11-25T19:45:37.261Z"
   },
   {
    "duration": 897,
    "start_time": "2021-11-25T19:47:15.838Z"
   },
   {
    "duration": 357,
    "start_time": "2021-11-25T19:47:31.144Z"
   },
   {
    "duration": 134,
    "start_time": "2021-11-25T19:47:57.356Z"
   },
   {
    "duration": 421,
    "start_time": "2021-11-25T19:48:41.361Z"
   },
   {
    "duration": 176,
    "start_time": "2021-11-25T19:49:09.882Z"
   },
   {
    "duration": 349,
    "start_time": "2021-11-25T19:49:50.446Z"
   },
   {
    "duration": 218,
    "start_time": "2021-11-25T19:49:59.194Z"
   },
   {
    "duration": 10,
    "start_time": "2021-11-25T19:51:04.065Z"
   },
   {
    "duration": 7,
    "start_time": "2021-11-25T19:51:20.634Z"
   },
   {
    "duration": 8,
    "start_time": "2021-11-25T19:51:35.358Z"
   },
   {
    "duration": 544,
    "start_time": "2021-11-25T19:51:40.664Z"
   },
   {
    "duration": 11,
    "start_time": "2021-11-25T19:52:21.419Z"
   },
   {
    "duration": 8,
    "start_time": "2021-11-25T19:52:36.770Z"
   },
   {
    "duration": 121,
    "start_time": "2021-11-25T19:52:51.579Z"
   },
   {
    "duration": 7,
    "start_time": "2021-11-25T19:53:31.346Z"
   },
   {
    "duration": 10,
    "start_time": "2021-11-25T19:54:10.490Z"
   },
   {
    "duration": 6,
    "start_time": "2021-11-25T19:54:19.396Z"
   },
   {
    "duration": 356,
    "start_time": "2021-11-25T19:54:33.626Z"
   },
   {
    "duration": 385,
    "start_time": "2021-11-25T19:55:28.044Z"
   },
   {
    "duration": 9,
    "start_time": "2021-11-25T19:57:14.827Z"
   },
   {
    "duration": 4,
    "start_time": "2021-11-25T19:57:47.166Z"
   },
   {
    "duration": 5,
    "start_time": "2021-11-25T19:58:02.379Z"
   },
   {
    "duration": 4,
    "start_time": "2021-11-25T19:58:23.466Z"
   },
   {
    "duration": 8,
    "start_time": "2021-11-25T19:58:36.396Z"
   },
   {
    "duration": 466,
    "start_time": "2021-11-25T19:58:41.484Z"
   },
   {
    "duration": 484,
    "start_time": "2021-11-25T19:58:53.627Z"
   },
   {
    "duration": 407,
    "start_time": "2021-11-25T19:59:24.021Z"
   },
   {
    "duration": 173,
    "start_time": "2021-11-25T19:59:43.484Z"
   },
   {
    "duration": 7,
    "start_time": "2021-11-25T20:04:16.886Z"
   },
   {
    "duration": 9,
    "start_time": "2021-11-25T20:04:29.807Z"
   },
   {
    "duration": 9,
    "start_time": "2021-11-25T20:05:00.630Z"
   },
   {
    "duration": 353,
    "start_time": "2021-11-25T20:10:28.878Z"
   },
   {
    "duration": 329,
    "start_time": "2021-11-25T20:10:50.033Z"
   },
   {
    "duration": 340,
    "start_time": "2021-11-25T20:11:05.871Z"
   },
   {
    "duration": 328,
    "start_time": "2021-11-25T20:11:50.321Z"
   },
   {
    "duration": 351,
    "start_time": "2021-11-25T20:17:04.562Z"
   },
   {
    "duration": 350,
    "start_time": "2021-11-25T20:17:16.340Z"
   },
   {
    "duration": 10,
    "start_time": "2021-11-25T20:17:19.490Z"
   },
   {
    "duration": 346,
    "start_time": "2021-11-25T20:17:26.626Z"
   },
   {
    "duration": 10,
    "start_time": "2021-11-25T20:17:37.041Z"
   },
   {
    "duration": 10,
    "start_time": "2021-11-25T20:19:06.635Z"
   },
   {
    "duration": 3,
    "start_time": "2021-11-25T20:23:22.668Z"
   },
   {
    "duration": 11,
    "start_time": "2021-11-25T20:23:27.497Z"
   },
   {
    "duration": 16,
    "start_time": "2021-11-25T20:23:36.082Z"
   },
   {
    "duration": 4,
    "start_time": "2021-11-25T20:23:44.232Z"
   },
   {
    "duration": 18,
    "start_time": "2021-11-25T20:24:08.981Z"
   },
   {
    "duration": 4,
    "start_time": "2021-11-25T20:24:16.371Z"
   },
   {
    "duration": 16,
    "start_time": "2021-11-25T20:24:30.835Z"
   },
   {
    "duration": 4,
    "start_time": "2021-11-25T20:24:32.889Z"
   },
   {
    "duration": 16,
    "start_time": "2021-11-25T20:24:44.195Z"
   },
   {
    "duration": 4,
    "start_time": "2021-11-25T20:24:46.299Z"
   },
   {
    "duration": 3,
    "start_time": "2021-11-25T20:24:52.003Z"
   },
   {
    "duration": 15,
    "start_time": "2021-11-25T20:24:53.201Z"
   },
   {
    "duration": 3,
    "start_time": "2021-11-25T20:24:55.282Z"
   },
   {
    "duration": 8,
    "start_time": "2021-11-25T20:27:00.916Z"
   },
   {
    "duration": 9,
    "start_time": "2021-11-25T20:28:16.126Z"
   },
   {
    "duration": 10,
    "start_time": "2021-11-25T20:28:36.613Z"
   },
   {
    "duration": 5,
    "start_time": "2021-11-25T20:29:06.324Z"
   },
   {
    "duration": 9,
    "start_time": "2021-11-25T20:29:26.684Z"
   },
   {
    "duration": 9,
    "start_time": "2021-11-25T20:29:47.301Z"
   },
   {
    "duration": 17,
    "start_time": "2021-11-25T20:32:18.182Z"
   },
   {
    "duration": 10,
    "start_time": "2021-11-25T20:32:23.573Z"
   },
   {
    "duration": 700,
    "start_time": "2021-11-25T20:48:06.995Z"
   },
   {
    "duration": 55,
    "start_time": "2021-11-25T20:48:07.698Z"
   },
   {
    "duration": 19,
    "start_time": "2021-11-25T20:48:07.755Z"
   },
   {
    "duration": 24,
    "start_time": "2021-11-25T20:48:07.776Z"
   },
   {
    "duration": 12,
    "start_time": "2021-11-25T20:48:07.802Z"
   },
   {
    "duration": 16,
    "start_time": "2021-11-25T20:48:07.815Z"
   },
   {
    "duration": 7,
    "start_time": "2021-11-25T20:48:07.833Z"
   },
   {
    "duration": 19,
    "start_time": "2021-11-25T20:48:07.843Z"
   },
   {
    "duration": 6,
    "start_time": "2021-11-25T20:48:07.865Z"
   },
   {
    "duration": 36,
    "start_time": "2021-11-25T20:48:07.873Z"
   },
   {
    "duration": 10,
    "start_time": "2021-11-25T20:48:07.910Z"
   },
   {
    "duration": 17,
    "start_time": "2021-11-25T20:48:07.922Z"
   },
   {
    "duration": 17,
    "start_time": "2021-11-25T20:48:07.941Z"
   },
   {
    "duration": 5,
    "start_time": "2021-11-25T20:48:07.960Z"
   },
   {
    "duration": 39,
    "start_time": "2021-11-25T20:48:07.967Z"
   },
   {
    "duration": 11,
    "start_time": "2021-11-25T20:48:08.009Z"
   },
   {
    "duration": 6,
    "start_time": "2021-11-25T20:48:08.022Z"
   },
   {
    "duration": 12,
    "start_time": "2021-11-25T20:48:08.030Z"
   },
   {
    "duration": 11,
    "start_time": "2021-11-25T20:48:08.044Z"
   },
   {
    "duration": 6,
    "start_time": "2021-11-25T20:48:08.057Z"
   },
   {
    "duration": 46,
    "start_time": "2021-11-25T20:48:08.065Z"
   },
   {
    "duration": 7,
    "start_time": "2021-11-25T20:48:08.113Z"
   },
   {
    "duration": 6,
    "start_time": "2021-11-25T20:48:08.125Z"
   },
   {
    "duration": 8,
    "start_time": "2021-11-25T20:48:08.134Z"
   },
   {
    "duration": 17,
    "start_time": "2021-11-25T20:48:08.143Z"
   },
   {
    "duration": 9,
    "start_time": "2021-11-25T20:48:08.162Z"
   },
   {
    "duration": 43,
    "start_time": "2021-11-25T20:48:08.173Z"
   },
   {
    "duration": 16,
    "start_time": "2021-11-25T20:48:08.219Z"
   },
   {
    "duration": 7,
    "start_time": "2021-11-25T20:48:08.236Z"
   },
   {
    "duration": 10,
    "start_time": "2021-11-25T20:48:08.244Z"
   },
   {
    "duration": 6,
    "start_time": "2021-11-25T20:48:08.256Z"
   },
   {
    "duration": 55,
    "start_time": "2021-11-25T20:48:08.264Z"
   },
   {
    "duration": 6,
    "start_time": "2021-11-25T20:48:08.321Z"
   },
   {
    "duration": 5,
    "start_time": "2021-11-25T20:48:08.329Z"
   },
   {
    "duration": 36,
    "start_time": "2021-11-25T20:48:08.335Z"
   },
   {
    "duration": 40,
    "start_time": "2021-11-25T20:48:08.373Z"
   },
   {
    "duration": 8,
    "start_time": "2021-11-25T20:48:08.415Z"
   },
   {
    "duration": 3,
    "start_time": "2021-11-25T20:48:08.425Z"
   },
   {
    "duration": 9,
    "start_time": "2021-11-25T20:48:08.430Z"
   },
   {
    "duration": 7,
    "start_time": "2021-11-25T20:48:08.441Z"
   },
   {
    "duration": 7,
    "start_time": "2021-11-25T20:48:08.450Z"
   },
   {
    "duration": 65,
    "start_time": "2021-11-25T20:48:08.459Z"
   },
   {
    "duration": 4,
    "start_time": "2021-11-25T20:48:08.526Z"
   },
   {
    "duration": 19,
    "start_time": "2021-11-25T20:48:08.532Z"
   },
   {
    "duration": 22,
    "start_time": "2021-11-25T20:48:08.552Z"
   },
   {
    "duration": 18,
    "start_time": "2021-11-25T20:48:08.576Z"
   },
   {
    "duration": 30,
    "start_time": "2021-11-25T20:48:08.596Z"
   },
   {
    "duration": 18,
    "start_time": "2021-11-25T20:48:08.627Z"
   },
   {
    "duration": 24,
    "start_time": "2021-11-25T20:48:08.647Z"
   },
   {
    "duration": 20,
    "start_time": "2021-11-25T20:48:08.673Z"
   },
   {
    "duration": 20,
    "start_time": "2021-11-25T20:48:08.695Z"
   },
   {
    "duration": 16,
    "start_time": "2021-11-25T20:48:08.717Z"
   },
   {
    "duration": 23,
    "start_time": "2021-11-25T20:48:08.735Z"
   },
   {
    "duration": 7,
    "start_time": "2021-11-25T20:48:08.760Z"
   },
   {
    "duration": 38,
    "start_time": "2021-11-25T20:48:08.769Z"
   },
   {
    "duration": 18,
    "start_time": "2021-11-25T20:48:08.809Z"
   },
   {
    "duration": 37,
    "start_time": "2021-11-25T20:48:08.829Z"
   },
   {
    "duration": 29,
    "start_time": "2021-11-25T20:48:08.868Z"
   },
   {
    "duration": 19,
    "start_time": "2021-11-25T20:48:08.899Z"
   },
   {
    "duration": 35,
    "start_time": "2021-11-25T20:48:08.920Z"
   },
   {
    "duration": 17,
    "start_time": "2021-11-25T20:48:08.957Z"
   },
   {
    "duration": 39,
    "start_time": "2021-11-25T20:48:08.977Z"
   },
   {
    "duration": 17,
    "start_time": "2021-11-25T20:48:09.019Z"
   },
   {
    "duration": 20,
    "start_time": "2021-11-25T20:48:09.038Z"
   },
   {
    "duration": 37,
    "start_time": "2021-11-25T20:48:09.060Z"
   },
   {
    "duration": 719,
    "start_time": "2021-11-25T20:48:09.100Z"
   },
   {
    "duration": 4,
    "start_time": "2021-11-25T20:48:09.821Z"
   },
   {
    "duration": 28,
    "start_time": "2021-11-25T20:48:09.832Z"
   },
   {
    "duration": 19,
    "start_time": "2021-11-25T20:48:09.863Z"
   },
   {
    "duration": 50,
    "start_time": "2021-11-25T20:48:09.884Z"
   },
   {
    "duration": 4,
    "start_time": "2021-11-25T20:48:09.936Z"
   },
   {
    "duration": 27,
    "start_time": "2021-11-25T20:48:09.942Z"
   },
   {
    "duration": 132,
    "start_time": "2021-11-25T20:48:09.971Z"
   },
   {
    "duration": 6,
    "start_time": "2021-11-25T20:48:10.105Z"
   },
   {
    "duration": 15,
    "start_time": "2021-11-25T20:48:10.113Z"
   },
   {
    "duration": 25,
    "start_time": "2021-11-25T20:48:10.130Z"
   },
   {
    "duration": 28,
    "start_time": "2021-11-25T20:48:10.157Z"
   },
   {
    "duration": 19,
    "start_time": "2021-11-25T20:48:10.187Z"
   },
   {
    "duration": 3,
    "start_time": "2021-11-25T20:48:10.208Z"
   },
   {
    "duration": 19,
    "start_time": "2021-11-25T20:48:10.212Z"
   },
   {
    "duration": 26,
    "start_time": "2021-11-25T20:48:10.233Z"
   },
   {
    "duration": 24,
    "start_time": "2021-11-25T20:48:10.260Z"
   },
   {
    "duration": 14,
    "start_time": "2021-11-25T20:48:10.286Z"
   },
   {
    "duration": 22,
    "start_time": "2021-11-25T20:48:10.302Z"
   },
   {
    "duration": 43,
    "start_time": "2021-11-25T20:48:10.325Z"
   },
   {
    "duration": 18,
    "start_time": "2021-11-25T20:48:10.370Z"
   },
   {
    "duration": 11,
    "start_time": "2021-11-25T20:48:10.390Z"
   },
   {
    "duration": 35,
    "start_time": "2021-11-25T20:48:10.403Z"
   },
   {
    "duration": 5,
    "start_time": "2021-11-25T20:48:10.440Z"
   },
   {
    "duration": 22,
    "start_time": "2021-11-25T20:48:10.446Z"
   },
   {
    "duration": 17,
    "start_time": "2021-11-25T20:48:10.469Z"
   },
   {
    "duration": 12,
    "start_time": "2021-11-25T20:48:10.488Z"
   },
   {
    "duration": 32,
    "start_time": "2021-11-25T20:48:10.501Z"
   },
   {
    "duration": 9,
    "start_time": "2021-11-25T20:48:10.535Z"
   },
   {
    "duration": 9,
    "start_time": "2021-11-25T20:48:39.888Z"
   },
   {
    "duration": 391,
    "start_time": "2021-11-25T20:51:24.571Z"
   },
   {
    "duration": 16,
    "start_time": "2021-11-25T20:51:40.061Z"
   },
   {
    "duration": 9,
    "start_time": "2021-11-25T20:51:43.283Z"
   },
   {
    "duration": 339,
    "start_time": "2021-11-25T20:53:45.780Z"
   },
   {
    "duration": 10,
    "start_time": "2021-11-25T20:54:29.326Z"
   },
   {
    "duration": 17,
    "start_time": "2021-11-25T20:54:43.470Z"
   },
   {
    "duration": 9,
    "start_time": "2021-11-25T20:55:42.388Z"
   },
   {
    "duration": 10,
    "start_time": "2021-11-25T20:56:11.670Z"
   },
   {
    "duration": 9,
    "start_time": "2021-11-25T20:56:37.710Z"
   },
   {
    "duration": 9,
    "start_time": "2021-11-25T20:57:16.236Z"
   },
   {
    "duration": 9,
    "start_time": "2021-11-25T20:57:45.989Z"
   },
   {
    "duration": 19,
    "start_time": "2021-11-25T20:57:51.399Z"
   },
   {
    "duration": 683,
    "start_time": "2021-11-25T21:05:02.803Z"
   },
   {
    "duration": 55,
    "start_time": "2021-11-25T21:05:03.488Z"
   },
   {
    "duration": 22,
    "start_time": "2021-11-25T21:05:03.546Z"
   },
   {
    "duration": 25,
    "start_time": "2021-11-25T21:05:03.570Z"
   },
   {
    "duration": 25,
    "start_time": "2021-11-25T21:05:03.597Z"
   },
   {
    "duration": 31,
    "start_time": "2021-11-25T21:05:03.624Z"
   },
   {
    "duration": 22,
    "start_time": "2021-11-25T21:05:03.658Z"
   },
   {
    "duration": 20,
    "start_time": "2021-11-25T21:05:03.684Z"
   },
   {
    "duration": 14,
    "start_time": "2021-11-25T21:05:03.707Z"
   },
   {
    "duration": 10,
    "start_time": "2021-11-25T21:05:03.723Z"
   },
   {
    "duration": 26,
    "start_time": "2021-11-25T21:05:03.735Z"
   },
   {
    "duration": 23,
    "start_time": "2021-11-25T21:05:03.762Z"
   },
   {
    "duration": 25,
    "start_time": "2021-11-25T21:05:03.787Z"
   },
   {
    "duration": 7,
    "start_time": "2021-11-25T21:05:03.814Z"
   },
   {
    "duration": 24,
    "start_time": "2021-11-25T21:05:03.823Z"
   },
   {
    "duration": 27,
    "start_time": "2021-11-25T21:05:03.849Z"
   },
   {
    "duration": 13,
    "start_time": "2021-11-25T21:05:03.878Z"
   },
   {
    "duration": 26,
    "start_time": "2021-11-25T21:05:03.893Z"
   },
   {
    "duration": 32,
    "start_time": "2021-11-25T21:05:03.921Z"
   },
   {
    "duration": 14,
    "start_time": "2021-11-25T21:05:03.955Z"
   },
   {
    "duration": 17,
    "start_time": "2021-11-25T21:05:03.971Z"
   },
   {
    "duration": 30,
    "start_time": "2021-11-25T21:05:03.990Z"
   },
   {
    "duration": 17,
    "start_time": "2021-11-25T21:05:04.025Z"
   },
   {
    "duration": 17,
    "start_time": "2021-11-25T21:05:04.046Z"
   },
   {
    "duration": 14,
    "start_time": "2021-11-25T21:05:04.065Z"
   },
   {
    "duration": 22,
    "start_time": "2021-11-25T21:05:04.081Z"
   },
   {
    "duration": 24,
    "start_time": "2021-11-25T21:05:04.105Z"
   },
   {
    "duration": 34,
    "start_time": "2021-11-25T21:05:04.131Z"
   },
   {
    "duration": 17,
    "start_time": "2021-11-25T21:05:04.166Z"
   },
   {
    "duration": 14,
    "start_time": "2021-11-25T21:05:04.184Z"
   },
   {
    "duration": 14,
    "start_time": "2021-11-25T21:05:04.200Z"
   },
   {
    "duration": 17,
    "start_time": "2021-11-25T21:05:04.215Z"
   },
   {
    "duration": 15,
    "start_time": "2021-11-25T21:05:04.234Z"
   },
   {
    "duration": 15,
    "start_time": "2021-11-25T21:05:04.251Z"
   },
   {
    "duration": 49,
    "start_time": "2021-11-25T21:05:04.268Z"
   },
   {
    "duration": 10,
    "start_time": "2021-11-25T21:05:04.319Z"
   },
   {
    "duration": 44,
    "start_time": "2021-11-25T21:05:04.331Z"
   },
   {
    "duration": 79,
    "start_time": "2021-11-25T21:05:04.377Z"
   },
   {
    "duration": 70,
    "start_time": "2021-11-25T21:05:04.457Z"
   },
   {
    "duration": 11,
    "start_time": "2021-11-25T21:05:04.528Z"
   },
   {
    "duration": 23,
    "start_time": "2021-11-25T21:05:04.540Z"
   },
   {
    "duration": 39,
    "start_time": "2021-11-25T21:05:04.565Z"
   },
   {
    "duration": 17,
    "start_time": "2021-11-25T21:05:04.606Z"
   },
   {
    "duration": 27,
    "start_time": "2021-11-25T21:05:04.625Z"
   },
   {
    "duration": 20,
    "start_time": "2021-11-25T21:05:04.654Z"
   },
   {
    "duration": 25,
    "start_time": "2021-11-25T21:05:04.676Z"
   },
   {
    "duration": 20,
    "start_time": "2021-11-25T21:05:04.703Z"
   },
   {
    "duration": 10,
    "start_time": "2021-11-25T21:05:04.725Z"
   },
   {
    "duration": 8,
    "start_time": "2021-11-25T21:05:04.737Z"
   },
   {
    "duration": 21,
    "start_time": "2021-11-25T21:05:04.747Z"
   },
   {
    "duration": 27,
    "start_time": "2021-11-25T21:05:04.770Z"
   },
   {
    "duration": 15,
    "start_time": "2021-11-25T21:05:04.799Z"
   },
   {
    "duration": 47,
    "start_time": "2021-11-25T21:05:04.816Z"
   },
   {
    "duration": 10,
    "start_time": "2021-11-25T21:05:04.864Z"
   },
   {
    "duration": 19,
    "start_time": "2021-11-25T21:05:04.875Z"
   },
   {
    "duration": 13,
    "start_time": "2021-11-25T21:05:04.895Z"
   },
   {
    "duration": 16,
    "start_time": "2021-11-25T21:05:04.910Z"
   },
   {
    "duration": 22,
    "start_time": "2021-11-25T21:05:04.928Z"
   },
   {
    "duration": 36,
    "start_time": "2021-11-25T21:05:04.951Z"
   },
   {
    "duration": 21,
    "start_time": "2021-11-25T21:05:04.988Z"
   },
   {
    "duration": 23,
    "start_time": "2021-11-25T21:05:05.010Z"
   },
   {
    "duration": 29,
    "start_time": "2021-11-25T21:05:05.035Z"
   },
   {
    "duration": 22,
    "start_time": "2021-11-25T21:05:05.066Z"
   },
   {
    "duration": 23,
    "start_time": "2021-11-25T21:05:05.090Z"
   },
   {
    "duration": 27,
    "start_time": "2021-11-25T21:05:05.115Z"
   },
   {
    "duration": 725,
    "start_time": "2021-11-25T21:05:05.144Z"
   },
   {
    "duration": 2,
    "start_time": "2021-11-25T21:05:05.871Z"
   },
   {
    "duration": 12,
    "start_time": "2021-11-25T21:05:05.880Z"
   },
   {
    "duration": 12,
    "start_time": "2021-11-25T21:05:05.895Z"
   },
   {
    "duration": 44,
    "start_time": "2021-11-25T21:05:05.908Z"
   },
   {
    "duration": 4,
    "start_time": "2021-11-25T21:05:05.953Z"
   },
   {
    "duration": 15,
    "start_time": "2021-11-25T21:05:05.959Z"
   },
   {
    "duration": 130,
    "start_time": "2021-11-25T21:05:05.976Z"
   },
   {
    "duration": 7,
    "start_time": "2021-11-25T21:05:06.108Z"
   },
   {
    "duration": 13,
    "start_time": "2021-11-25T21:05:06.116Z"
   },
   {
    "duration": 25,
    "start_time": "2021-11-25T21:05:06.131Z"
   },
   {
    "duration": 26,
    "start_time": "2021-11-25T21:05:06.158Z"
   },
   {
    "duration": 27,
    "start_time": "2021-11-25T21:05:06.187Z"
   },
   {
    "duration": 17,
    "start_time": "2021-11-25T21:05:06.216Z"
   },
   {
    "duration": 29,
    "start_time": "2021-11-25T21:05:06.235Z"
   },
   {
    "duration": 20,
    "start_time": "2021-11-25T21:05:06.266Z"
   },
   {
    "duration": 27,
    "start_time": "2021-11-25T21:05:06.288Z"
   },
   {
    "duration": 16,
    "start_time": "2021-11-25T21:05:06.317Z"
   },
   {
    "duration": 29,
    "start_time": "2021-11-25T21:05:06.335Z"
   },
   {
    "duration": 16,
    "start_time": "2021-11-25T21:05:06.366Z"
   },
   {
    "duration": 25,
    "start_time": "2021-11-25T21:05:06.384Z"
   },
   {
    "duration": 23,
    "start_time": "2021-11-25T21:05:06.411Z"
   },
   {
    "duration": 31,
    "start_time": "2021-11-25T21:05:06.436Z"
   },
   {
    "duration": 21,
    "start_time": "2021-11-25T21:05:06.468Z"
   },
   {
    "duration": 40,
    "start_time": "2021-11-25T21:05:06.491Z"
   },
   {
    "duration": 20,
    "start_time": "2021-11-25T21:05:06.533Z"
   },
   {
    "duration": 34,
    "start_time": "2021-11-25T21:05:06.555Z"
   },
   {
    "duration": 22,
    "start_time": "2021-11-25T21:05:06.591Z"
   },
   {
    "duration": 37,
    "start_time": "2021-11-25T21:05:06.615Z"
   },
   {
    "duration": 13,
    "start_time": "2021-11-25T21:05:06.654Z"
   },
   {
    "duration": 646,
    "start_time": "2021-11-26T08:39:50.117Z"
   },
   {
    "duration": 5,
    "start_time": "2021-11-26T08:39:50.765Z"
   },
   {
    "duration": 113,
    "start_time": "2021-11-26T08:39:50.773Z"
   },
   {
    "duration": -3217,
    "start_time": "2021-11-26T08:39:54.109Z"
   },
   {
    "duration": -3220,
    "start_time": "2021-11-26T08:39:54.113Z"
   },
   {
    "duration": -3222,
    "start_time": "2021-11-26T08:39:54.116Z"
   },
   {
    "duration": -3224,
    "start_time": "2021-11-26T08:39:54.120Z"
   },
   {
    "duration": -3226,
    "start_time": "2021-11-26T08:39:54.123Z"
   },
   {
    "duration": -3229,
    "start_time": "2021-11-26T08:39:54.127Z"
   },
   {
    "duration": -3231,
    "start_time": "2021-11-26T08:39:54.131Z"
   },
   {
    "duration": -3233,
    "start_time": "2021-11-26T08:39:54.134Z"
   },
   {
    "duration": -3234,
    "start_time": "2021-11-26T08:39:54.137Z"
   },
   {
    "duration": -3236,
    "start_time": "2021-11-26T08:39:54.140Z"
   },
   {
    "duration": -3238,
    "start_time": "2021-11-26T08:39:54.143Z"
   },
   {
    "duration": -3239,
    "start_time": "2021-11-26T08:39:54.146Z"
   },
   {
    "duration": -3241,
    "start_time": "2021-11-26T08:39:54.149Z"
   },
   {
    "duration": -3250,
    "start_time": "2021-11-26T08:39:54.160Z"
   },
   {
    "duration": -3252,
    "start_time": "2021-11-26T08:39:54.163Z"
   },
   {
    "duration": -3253,
    "start_time": "2021-11-26T08:39:54.166Z"
   },
   {
    "duration": -3256,
    "start_time": "2021-11-26T08:39:54.170Z"
   },
   {
    "duration": -3258,
    "start_time": "2021-11-26T08:39:54.173Z"
   },
   {
    "duration": -3261,
    "start_time": "2021-11-26T08:39:54.178Z"
   },
   {
    "duration": -3263,
    "start_time": "2021-11-26T08:39:54.181Z"
   },
   {
    "duration": -3264,
    "start_time": "2021-11-26T08:39:54.184Z"
   },
   {
    "duration": -3267,
    "start_time": "2021-11-26T08:39:54.188Z"
   },
   {
    "duration": -3270,
    "start_time": "2021-11-26T08:39:54.192Z"
   },
   {
    "duration": -3271,
    "start_time": "2021-11-26T08:39:54.195Z"
   },
   {
    "duration": -3275,
    "start_time": "2021-11-26T08:39:54.200Z"
   },
   {
    "duration": -3277,
    "start_time": "2021-11-26T08:39:54.203Z"
   },
   {
    "duration": -3278,
    "start_time": "2021-11-26T08:39:54.206Z"
   },
   {
    "duration": -3281,
    "start_time": "2021-11-26T08:39:54.210Z"
   },
   {
    "duration": -3282,
    "start_time": "2021-11-26T08:39:54.213Z"
   },
   {
    "duration": -3284,
    "start_time": "2021-11-26T08:39:54.216Z"
   },
   {
    "duration": -3276,
    "start_time": "2021-11-26T08:39:54.220Z"
   },
   {
    "duration": -3279,
    "start_time": "2021-11-26T08:39:54.224Z"
   },
   {
    "duration": -3282,
    "start_time": "2021-11-26T08:39:54.228Z"
   },
   {
    "duration": -3284,
    "start_time": "2021-11-26T08:39:54.231Z"
   },
   {
    "duration": -3287,
    "start_time": "2021-11-26T08:39:54.235Z"
   },
   {
    "duration": -3289,
    "start_time": "2021-11-26T08:39:54.238Z"
   },
   {
    "duration": -3291,
    "start_time": "2021-11-26T08:39:54.241Z"
   },
   {
    "duration": -3293,
    "start_time": "2021-11-26T08:39:54.244Z"
   },
   {
    "duration": -3309,
    "start_time": "2021-11-26T08:39:54.261Z"
   },
   {
    "duration": -3315,
    "start_time": "2021-11-26T08:39:54.267Z"
   },
   {
    "duration": -3318,
    "start_time": "2021-11-26T08:39:54.271Z"
   },
   {
    "duration": -3320,
    "start_time": "2021-11-26T08:39:54.274Z"
   },
   {
    "duration": -3331,
    "start_time": "2021-11-26T08:39:54.286Z"
   },
   {
    "duration": -3333,
    "start_time": "2021-11-26T08:39:54.289Z"
   },
   {
    "duration": -3337,
    "start_time": "2021-11-26T08:39:54.294Z"
   },
   {
    "duration": -3345,
    "start_time": "2021-11-26T08:39:54.303Z"
   },
   {
    "duration": -3348,
    "start_time": "2021-11-26T08:39:54.307Z"
   },
   {
    "duration": -3351,
    "start_time": "2021-11-26T08:39:54.311Z"
   },
   {
    "duration": -3361,
    "start_time": "2021-11-26T08:39:54.322Z"
   },
   {
    "duration": -3364,
    "start_time": "2021-11-26T08:39:54.326Z"
   },
   {
    "duration": -3374,
    "start_time": "2021-11-26T08:39:54.337Z"
   },
   {
    "duration": -3377,
    "start_time": "2021-11-26T08:39:54.341Z"
   },
   {
    "duration": -3388,
    "start_time": "2021-11-26T08:39:54.352Z"
   },
   {
    "duration": -3389,
    "start_time": "2021-11-26T08:39:54.355Z"
   },
   {
    "duration": -3394,
    "start_time": "2021-11-26T08:39:54.361Z"
   },
   {
    "duration": -3403,
    "start_time": "2021-11-26T08:39:54.371Z"
   },
   {
    "duration": -3406,
    "start_time": "2021-11-26T08:39:54.375Z"
   },
   {
    "duration": -3415,
    "start_time": "2021-11-26T08:39:54.385Z"
   },
   {
    "duration": -3418,
    "start_time": "2021-11-26T08:39:54.389Z"
   },
   {
    "duration": -3420,
    "start_time": "2021-11-26T08:39:54.392Z"
   },
   {
    "duration": -3429,
    "start_time": "2021-11-26T08:39:54.403Z"
   },
   {
    "duration": -3431,
    "start_time": "2021-11-26T08:39:54.406Z"
   },
   {
    "duration": -3434,
    "start_time": "2021-11-26T08:39:54.410Z"
   },
   {
    "duration": -3443,
    "start_time": "2021-11-26T08:39:54.420Z"
   },
   {
    "duration": -3445,
    "start_time": "2021-11-26T08:39:54.423Z"
   },
   {
    "duration": -3449,
    "start_time": "2021-11-26T08:39:54.428Z"
   },
   {
    "duration": -3459,
    "start_time": "2021-11-26T08:39:54.439Z"
   },
   {
    "duration": -3462,
    "start_time": "2021-11-26T08:39:54.444Z"
   },
   {
    "duration": -3410,
    "start_time": "2021-11-26T08:39:54.454Z"
   },
   {
    "duration": -3411,
    "start_time": "2021-11-26T08:39:54.457Z"
   },
   {
    "duration": -3415,
    "start_time": "2021-11-26T08:39:54.462Z"
   },
   {
    "duration": -3424,
    "start_time": "2021-11-26T08:39:54.472Z"
   },
   {
    "duration": -3481,
    "start_time": "2021-11-26T08:39:54.530Z"
   },
   {
    "duration": -3490,
    "start_time": "2021-11-26T08:39:54.540Z"
   },
   {
    "duration": -3495,
    "start_time": "2021-11-26T08:39:54.546Z"
   },
   {
    "duration": -3503,
    "start_time": "2021-11-26T08:39:54.555Z"
   },
   {
    "duration": -3507,
    "start_time": "2021-11-26T08:39:54.560Z"
   },
   {
    "duration": -3518,
    "start_time": "2021-11-26T08:39:54.572Z"
   },
   {
    "duration": -3521,
    "start_time": "2021-11-26T08:39:54.576Z"
   },
   {
    "duration": -3530,
    "start_time": "2021-11-26T08:39:54.586Z"
   },
   {
    "duration": -3533,
    "start_time": "2021-11-26T08:39:54.590Z"
   },
   {
    "duration": -3565,
    "start_time": "2021-11-26T08:39:54.623Z"
   },
   {
    "duration": -3570,
    "start_time": "2021-11-26T08:39:54.629Z"
   },
   {
    "duration": -3579,
    "start_time": "2021-11-26T08:39:54.639Z"
   },
   {
    "duration": -3596,
    "start_time": "2021-11-26T08:39:54.657Z"
   },
   {
    "duration": -3600,
    "start_time": "2021-11-26T08:39:54.662Z"
   },
   {
    "duration": -3615,
    "start_time": "2021-11-26T08:39:54.678Z"
   },
   {
    "duration": -3628,
    "start_time": "2021-11-26T08:39:54.692Z"
   },
   {
    "duration": -3638,
    "start_time": "2021-11-26T08:39:54.703Z"
   },
   {
    "duration": -3640,
    "start_time": "2021-11-26T08:39:54.706Z"
   },
   {
    "duration": -3643,
    "start_time": "2021-11-26T08:39:54.710Z"
   },
   {
    "duration": -3653,
    "start_time": "2021-11-26T08:39:54.722Z"
   },
   {
    "duration": -3669,
    "start_time": "2021-11-26T08:39:54.739Z"
   },
   {
    "duration": 4,
    "start_time": "2021-11-26T08:42:42.093Z"
   },
   {
    "duration": 58,
    "start_time": "2021-11-26T08:42:42.099Z"
   },
   {
    "duration": 23,
    "start_time": "2021-11-26T08:42:42.159Z"
   },
   {
    "duration": 24,
    "start_time": "2021-11-26T08:42:42.185Z"
   },
   {
    "duration": 47,
    "start_time": "2021-11-26T08:42:42.211Z"
   },
   {
    "duration": 18,
    "start_time": "2021-11-26T08:42:42.260Z"
   },
   {
    "duration": 10,
    "start_time": "2021-11-26T08:42:42.281Z"
   },
   {
    "duration": 58,
    "start_time": "2021-11-26T08:42:42.293Z"
   },
   {
    "duration": 9,
    "start_time": "2021-11-26T08:42:42.353Z"
   },
   {
    "duration": 6,
    "start_time": "2021-11-26T08:42:42.364Z"
   },
   {
    "duration": 11,
    "start_time": "2021-11-26T08:42:42.372Z"
   },
   {
    "duration": 64,
    "start_time": "2021-11-26T08:42:42.385Z"
   },
   {
    "duration": 18,
    "start_time": "2021-11-26T08:42:42.451Z"
   },
   {
    "duration": 6,
    "start_time": "2021-11-26T08:42:42.471Z"
   },
   {
    "duration": 12,
    "start_time": "2021-11-26T08:42:42.479Z"
   },
   {
    "duration": 16,
    "start_time": "2021-11-26T08:42:42.493Z"
   },
   {
    "duration": 9,
    "start_time": "2021-11-26T08:42:42.511Z"
   },
   {
    "duration": 12,
    "start_time": "2021-11-26T08:42:42.544Z"
   },
   {
    "duration": 11,
    "start_time": "2021-11-26T08:42:42.561Z"
   },
   {
    "duration": 6,
    "start_time": "2021-11-26T08:42:42.574Z"
   },
   {
    "duration": 16,
    "start_time": "2021-11-26T08:42:42.582Z"
   },
   {
    "duration": 8,
    "start_time": "2021-11-26T08:42:42.601Z"
   },
   {
    "duration": 10,
    "start_time": "2021-11-26T08:42:42.611Z"
   },
   {
    "duration": 31,
    "start_time": "2021-11-26T08:42:42.623Z"
   },
   {
    "duration": 8,
    "start_time": "2021-11-26T08:42:42.655Z"
   },
   {
    "duration": 16,
    "start_time": "2021-11-26T08:42:42.665Z"
   },
   {
    "duration": 27,
    "start_time": "2021-11-26T08:42:42.683Z"
   },
   {
    "duration": 33,
    "start_time": "2021-11-26T08:42:42.712Z"
   },
   {
    "duration": 6,
    "start_time": "2021-11-26T08:42:42.747Z"
   },
   {
    "duration": 9,
    "start_time": "2021-11-26T08:42:42.755Z"
   },
   {
    "duration": 5,
    "start_time": "2021-11-26T08:42:42.765Z"
   },
   {
    "duration": 14,
    "start_time": "2021-11-26T08:42:42.771Z"
   },
   {
    "duration": 5,
    "start_time": "2021-11-26T08:42:42.786Z"
   },
   {
    "duration": 4,
    "start_time": "2021-11-26T08:42:42.793Z"
   },
   {
    "duration": 108,
    "start_time": "2021-11-26T08:42:42.799Z"
   },
   {
    "duration": 39,
    "start_time": "2021-11-26T08:42:42.909Z"
   },
   {
    "duration": 7,
    "start_time": "2021-11-26T08:42:42.950Z"
   },
   {
    "duration": 3,
    "start_time": "2021-11-26T08:42:42.959Z"
   },
   {
    "duration": 16,
    "start_time": "2021-11-26T08:42:42.964Z"
   },
   {
    "duration": 7,
    "start_time": "2021-11-26T08:42:42.981Z"
   },
   {
    "duration": 7,
    "start_time": "2021-11-26T08:42:42.990Z"
   },
   {
    "duration": 48,
    "start_time": "2021-11-26T08:42:42.998Z"
   },
   {
    "duration": 6,
    "start_time": "2021-11-26T08:42:43.047Z"
   },
   {
    "duration": 11,
    "start_time": "2021-11-26T08:42:43.054Z"
   },
   {
    "duration": 9,
    "start_time": "2021-11-26T08:42:43.067Z"
   },
   {
    "duration": 24,
    "start_time": "2021-11-26T08:42:43.078Z"
   },
   {
    "duration": 17,
    "start_time": "2021-11-26T08:42:43.104Z"
   },
   {
    "duration": 27,
    "start_time": "2021-11-26T08:42:43.123Z"
   },
   {
    "duration": 5,
    "start_time": "2021-11-26T08:42:43.152Z"
   },
   {
    "duration": 11,
    "start_time": "2021-11-26T08:42:43.158Z"
   },
   {
    "duration": 19,
    "start_time": "2021-11-26T08:42:43.171Z"
   },
   {
    "duration": 11,
    "start_time": "2021-11-26T08:42:43.192Z"
   },
   {
    "duration": 47,
    "start_time": "2021-11-26T08:42:43.204Z"
   },
   {
    "duration": 6,
    "start_time": "2021-11-26T08:42:43.252Z"
   },
   {
    "duration": 9,
    "start_time": "2021-11-26T08:42:43.263Z"
   },
   {
    "duration": 6,
    "start_time": "2021-11-26T08:42:43.274Z"
   },
   {
    "duration": 17,
    "start_time": "2021-11-26T08:42:43.282Z"
   },
   {
    "duration": 15,
    "start_time": "2021-11-26T08:42:43.301Z"
   },
   {
    "duration": 27,
    "start_time": "2021-11-26T08:42:43.318Z"
   },
   {
    "duration": 14,
    "start_time": "2021-11-26T08:42:43.347Z"
   },
   {
    "duration": 12,
    "start_time": "2021-11-26T08:42:43.363Z"
   },
   {
    "duration": 14,
    "start_time": "2021-11-26T08:42:43.377Z"
   },
   {
    "duration": 14,
    "start_time": "2021-11-26T08:42:43.393Z"
   },
   {
    "duration": 47,
    "start_time": "2021-11-26T08:42:43.409Z"
   },
   {
    "duration": 18,
    "start_time": "2021-11-26T08:42:43.458Z"
   },
   {
    "duration": 779,
    "start_time": "2021-11-26T08:42:43.478Z"
   },
   {
    "duration": 2,
    "start_time": "2021-11-26T08:42:44.259Z"
   },
   {
    "duration": 6,
    "start_time": "2021-11-26T08:42:44.263Z"
   },
   {
    "duration": 6,
    "start_time": "2021-11-26T08:42:44.271Z"
   },
   {
    "duration": 33,
    "start_time": "2021-11-26T08:42:44.279Z"
   },
   {
    "duration": 3,
    "start_time": "2021-11-26T08:42:44.314Z"
   },
   {
    "duration": 26,
    "start_time": "2021-11-26T08:42:44.318Z"
   },
   {
    "duration": 192,
    "start_time": "2021-11-26T08:42:44.346Z"
   },
   {
    "duration": 5,
    "start_time": "2021-11-26T08:42:44.540Z"
   },
   {
    "duration": 62,
    "start_time": "2021-11-26T08:42:44.547Z"
   },
   {
    "duration": 28,
    "start_time": "2021-11-26T08:42:44.611Z"
   },
   {
    "duration": 57,
    "start_time": "2021-11-26T08:42:44.641Z"
   },
   {
    "duration": 34,
    "start_time": "2021-11-26T08:42:44.700Z"
   },
   {
    "duration": 24,
    "start_time": "2021-11-26T08:42:44.736Z"
   },
   {
    "duration": 45,
    "start_time": "2021-11-26T08:42:44.762Z"
   },
   {
    "duration": 30,
    "start_time": "2021-11-26T08:42:44.808Z"
   },
   {
    "duration": 29,
    "start_time": "2021-11-26T08:42:44.840Z"
   },
   {
    "duration": 17,
    "start_time": "2021-11-26T08:42:44.871Z"
   },
   {
    "duration": 25,
    "start_time": "2021-11-26T08:42:44.890Z"
   },
   {
    "duration": 26,
    "start_time": "2021-11-26T08:42:44.917Z"
   },
   {
    "duration": 18,
    "start_time": "2021-11-26T08:42:44.945Z"
   },
   {
    "duration": 23,
    "start_time": "2021-11-26T08:42:44.965Z"
   },
   {
    "duration": 29,
    "start_time": "2021-11-26T08:42:44.990Z"
   },
   {
    "duration": 57,
    "start_time": "2021-11-26T08:42:45.021Z"
   },
   {
    "duration": 62,
    "start_time": "2021-11-26T08:42:45.080Z"
   },
   {
    "duration": 17,
    "start_time": "2021-11-26T08:42:45.144Z"
   },
   {
    "duration": 37,
    "start_time": "2021-11-26T08:42:45.162Z"
   },
   {
    "duration": 7,
    "start_time": "2021-11-26T08:42:45.200Z"
   },
   {
    "duration": 37,
    "start_time": "2021-11-26T08:42:45.208Z"
   },
   {
    "duration": 26,
    "start_time": "2021-11-26T08:42:45.247Z"
   },
   {
    "duration": 16,
    "start_time": "2021-11-26T08:52:13.214Z"
   },
   {
    "duration": 18,
    "start_time": "2021-11-26T08:52:27.942Z"
   },
   {
    "duration": 62,
    "start_time": "2021-11-26T08:52:27.962Z"
   },
   {
    "duration": 18,
    "start_time": "2021-11-26T08:52:28.027Z"
   },
   {
    "duration": 18,
    "start_time": "2021-11-26T08:52:28.047Z"
   },
   {
    "duration": 26,
    "start_time": "2021-11-26T08:52:28.067Z"
   },
   {
    "duration": 23,
    "start_time": "2021-11-26T08:52:28.094Z"
   },
   {
    "duration": 30,
    "start_time": "2021-11-26T08:52:28.119Z"
   },
   {
    "duration": 9,
    "start_time": "2021-11-26T08:52:28.152Z"
   },
   {
    "duration": 8,
    "start_time": "2021-11-26T08:52:28.163Z"
   },
   {
    "duration": 6,
    "start_time": "2021-11-26T08:52:28.173Z"
   },
   {
    "duration": 11,
    "start_time": "2021-11-26T08:52:28.180Z"
   },
   {
    "duration": 62,
    "start_time": "2021-11-26T08:52:28.192Z"
   },
   {
    "duration": 17,
    "start_time": "2021-11-26T08:52:28.256Z"
   },
   {
    "duration": 5,
    "start_time": "2021-11-26T08:52:28.275Z"
   },
   {
    "duration": 6,
    "start_time": "2021-11-26T08:52:28.282Z"
   },
   {
    "duration": 8,
    "start_time": "2021-11-26T08:52:28.290Z"
   },
   {
    "duration": 5,
    "start_time": "2021-11-26T08:52:28.300Z"
   },
   {
    "duration": 11,
    "start_time": "2021-11-26T08:52:28.344Z"
   },
   {
    "duration": 7,
    "start_time": "2021-11-26T08:52:28.357Z"
   },
   {
    "duration": 7,
    "start_time": "2021-11-26T08:52:28.366Z"
   },
   {
    "duration": 9,
    "start_time": "2021-11-26T08:52:28.375Z"
   },
   {
    "duration": 15,
    "start_time": "2021-11-26T08:52:28.386Z"
   },
   {
    "duration": 7,
    "start_time": "2021-11-26T08:52:28.406Z"
   },
   {
    "duration": 9,
    "start_time": "2021-11-26T08:52:28.445Z"
   },
   {
    "duration": 8,
    "start_time": "2021-11-26T08:52:28.455Z"
   },
   {
    "duration": 23,
    "start_time": "2021-11-26T08:52:28.465Z"
   },
   {
    "duration": 7,
    "start_time": "2021-11-26T08:52:28.490Z"
   },
   {
    "duration": 45,
    "start_time": "2021-11-26T08:52:28.499Z"
   },
   {
    "duration": 24,
    "start_time": "2021-11-26T08:52:28.547Z"
   },
   {
    "duration": 7,
    "start_time": "2021-11-26T08:52:28.573Z"
   },
   {
    "duration": 10,
    "start_time": "2021-11-26T08:52:28.582Z"
   },
   {
    "duration": 5,
    "start_time": "2021-11-26T08:52:28.594Z"
   },
   {
    "duration": 44,
    "start_time": "2021-11-26T08:52:28.601Z"
   },
   {
    "duration": 6,
    "start_time": "2021-11-26T08:52:28.647Z"
   },
   {
    "duration": 5,
    "start_time": "2021-11-26T08:52:28.655Z"
   },
   {
    "duration": 61,
    "start_time": "2021-11-26T08:52:28.662Z"
   },
   {
    "duration": 20,
    "start_time": "2021-11-26T08:52:28.745Z"
   },
   {
    "duration": 7,
    "start_time": "2021-11-26T08:52:28.767Z"
   },
   {
    "duration": 3,
    "start_time": "2021-11-26T08:52:28.776Z"
   },
   {
    "duration": 14,
    "start_time": "2021-11-26T08:52:28.781Z"
   },
   {
    "duration": 6,
    "start_time": "2021-11-26T08:52:28.797Z"
   },
   {
    "duration": 6,
    "start_time": "2021-11-26T08:52:28.805Z"
   },
   {
    "duration": 29,
    "start_time": "2021-11-26T08:52:28.845Z"
   },
   {
    "duration": 6,
    "start_time": "2021-11-26T08:52:28.876Z"
   },
   {
    "duration": 8,
    "start_time": "2021-11-26T08:52:28.884Z"
   },
   {
    "duration": 9,
    "start_time": "2021-11-26T08:52:28.894Z"
   },
   {
    "duration": 43,
    "start_time": "2021-11-26T08:52:28.904Z"
   },
   {
    "duration": 16,
    "start_time": "2021-11-26T08:52:28.949Z"
   },
   {
    "duration": 9,
    "start_time": "2021-11-26T08:52:28.966Z"
   },
   {
    "duration": 7,
    "start_time": "2021-11-26T08:52:28.977Z"
   },
   {
    "duration": 5,
    "start_time": "2021-11-26T08:52:28.986Z"
   },
   {
    "duration": 18,
    "start_time": "2021-11-26T08:52:28.993Z"
   },
   {
    "duration": 4,
    "start_time": "2021-11-26T08:52:29.045Z"
   },
   {
    "duration": 24,
    "start_time": "2021-11-26T08:52:29.050Z"
   },
   {
    "duration": 18,
    "start_time": "2021-11-26T08:52:29.075Z"
   },
   {
    "duration": 18,
    "start_time": "2021-11-26T08:52:29.094Z"
   },
   {
    "duration": 21,
    "start_time": "2021-11-26T08:52:29.114Z"
   },
   {
    "duration": 19,
    "start_time": "2021-11-26T08:52:29.137Z"
   },
   {
    "duration": 32,
    "start_time": "2021-11-26T08:52:29.158Z"
   },
   {
    "duration": 22,
    "start_time": "2021-11-26T08:52:29.192Z"
   },
   {
    "duration": 14,
    "start_time": "2021-11-26T08:52:29.216Z"
   },
   {
    "duration": 22,
    "start_time": "2021-11-26T08:52:29.232Z"
   },
   {
    "duration": 35,
    "start_time": "2021-11-26T08:52:29.256Z"
   },
   {
    "duration": 12,
    "start_time": "2021-11-26T08:52:29.293Z"
   },
   {
    "duration": 21,
    "start_time": "2021-11-26T08:52:29.307Z"
   },
   {
    "duration": 23,
    "start_time": "2021-11-26T08:52:29.330Z"
   },
   {
    "duration": 645,
    "start_time": "2021-11-26T08:52:29.355Z"
   },
   {
    "duration": 3,
    "start_time": "2021-11-26T08:52:30.010Z"
   },
   {
    "duration": 18,
    "start_time": "2021-11-26T08:52:30.015Z"
   },
   {
    "duration": 9,
    "start_time": "2021-11-26T08:52:30.035Z"
   },
   {
    "duration": 53,
    "start_time": "2021-11-26T08:52:30.046Z"
   },
   {
    "duration": 3,
    "start_time": "2021-11-26T08:52:30.100Z"
   },
   {
    "duration": 8,
    "start_time": "2021-11-26T08:52:30.105Z"
   },
   {
    "duration": 199,
    "start_time": "2021-11-26T08:52:30.114Z"
   },
   {
    "duration": 5,
    "start_time": "2021-11-26T08:52:30.314Z"
   },
   {
    "duration": 11,
    "start_time": "2021-11-26T08:52:30.321Z"
   },
   {
    "duration": 26,
    "start_time": "2021-11-26T08:52:30.334Z"
   },
   {
    "duration": 22,
    "start_time": "2021-11-26T08:52:30.362Z"
   },
   {
    "duration": 10,
    "start_time": "2021-11-26T08:52:30.386Z"
   },
   {
    "duration": 5,
    "start_time": "2021-11-26T08:52:30.398Z"
   },
   {
    "duration": 40,
    "start_time": "2021-11-26T08:52:30.404Z"
   },
   {
    "duration": 5,
    "start_time": "2021-11-26T08:52:30.446Z"
   },
   {
    "duration": 16,
    "start_time": "2021-11-26T08:52:30.453Z"
   },
   {
    "duration": 23,
    "start_time": "2021-11-26T08:52:30.471Z"
   },
   {
    "duration": 17,
    "start_time": "2021-11-26T08:52:30.495Z"
   },
   {
    "duration": 24,
    "start_time": "2021-11-26T08:52:30.513Z"
   },
   {
    "duration": 51,
    "start_time": "2021-11-26T08:52:30.539Z"
   },
   {
    "duration": 12,
    "start_time": "2021-11-26T08:52:30.591Z"
   },
   {
    "duration": 32,
    "start_time": "2021-11-26T08:52:30.605Z"
   },
   {
    "duration": 14,
    "start_time": "2021-11-26T08:52:30.639Z"
   },
   {
    "duration": 21,
    "start_time": "2021-11-26T08:52:30.655Z"
   },
   {
    "duration": 11,
    "start_time": "2021-11-26T08:52:30.678Z"
   },
   {
    "duration": 40,
    "start_time": "2021-11-26T08:52:30.691Z"
   },
   {
    "duration": 6,
    "start_time": "2021-11-26T08:52:30.733Z"
   },
   {
    "duration": 21,
    "start_time": "2021-11-26T08:52:30.741Z"
   },
   {
    "duration": 9,
    "start_time": "2021-11-26T08:52:30.763Z"
   },
   {
    "duration": 346,
    "start_time": "2021-11-26T09:00:00.887Z"
   },
   {
    "duration": 6,
    "start_time": "2021-11-26T09:00:07.303Z"
   },
   {
    "duration": 11,
    "start_time": "2021-11-26T09:00:10.947Z"
   },
   {
    "duration": 5,
    "start_time": "2021-11-26T09:02:46.531Z"
   },
   {
    "duration": 15,
    "start_time": "2021-11-26T09:07:49.696Z"
   },
   {
    "duration": 7,
    "start_time": "2021-11-26T09:11:10.129Z"
   },
   {
    "duration": 84,
    "start_time": "2021-11-26T09:17:06.702Z"
   },
   {
    "duration": 417,
    "start_time": "2021-11-26T14:41:13.962Z"
   },
   {
    "duration": 595,
    "start_time": "2021-11-26T14:41:23.935Z"
   },
   {
    "duration": 52,
    "start_time": "2021-11-26T14:41:24.531Z"
   },
   {
    "duration": 18,
    "start_time": "2021-11-26T14:41:24.585Z"
   },
   {
    "duration": 12,
    "start_time": "2021-11-26T14:41:24.605Z"
   },
   {
    "duration": 9,
    "start_time": "2021-11-26T14:41:24.619Z"
   },
   {
    "duration": 16,
    "start_time": "2021-11-26T14:41:24.629Z"
   },
   {
    "duration": 6,
    "start_time": "2021-11-26T14:41:24.647Z"
   },
   {
    "duration": 12,
    "start_time": "2021-11-26T14:41:24.655Z"
   },
   {
    "duration": 13,
    "start_time": "2021-11-26T14:41:24.669Z"
   },
   {
    "duration": 26,
    "start_time": "2021-11-26T14:41:24.684Z"
   },
   {
    "duration": 5,
    "start_time": "2021-11-26T14:41:29.329Z"
   },
   {
    "duration": 5,
    "start_time": "2021-11-26T14:43:46.749Z"
   },
   {
    "duration": 4,
    "start_time": "2021-11-26T14:46:11.731Z"
   },
   {
    "duration": 440,
    "start_time": "2021-11-26T19:37:46.690Z"
   },
   {
    "duration": 778,
    "start_time": "2021-11-26T19:37:51.255Z"
   },
   {
    "duration": 65,
    "start_time": "2021-11-26T19:37:52.036Z"
   },
   {
    "duration": 28,
    "start_time": "2021-11-26T19:37:52.104Z"
   },
   {
    "duration": 35,
    "start_time": "2021-11-26T19:37:52.135Z"
   },
   {
    "duration": 11,
    "start_time": "2021-11-26T19:37:52.172Z"
   },
   {
    "duration": 21,
    "start_time": "2021-11-26T19:37:52.185Z"
   },
   {
    "duration": 10,
    "start_time": "2021-11-26T19:37:52.208Z"
   },
   {
    "duration": 49,
    "start_time": "2021-11-26T19:37:52.221Z"
   },
   {
    "duration": 9,
    "start_time": "2021-11-26T19:37:52.272Z"
   },
   {
    "duration": 11,
    "start_time": "2021-11-26T19:37:52.284Z"
   },
   {
    "duration": 5,
    "start_time": "2021-11-26T19:37:52.298Z"
   },
   {
    "duration": 9,
    "start_time": "2021-11-26T19:37:52.306Z"
   },
   {
    "duration": 13,
    "start_time": "2021-11-26T19:37:54.723Z"
   },
   {
    "duration": 422,
    "start_time": "2021-11-26T19:42:46.052Z"
   },
   {
    "duration": 39,
    "start_time": "2021-11-26T19:43:31.372Z"
   },
   {
    "duration": 11,
    "start_time": "2021-11-26T19:45:56.065Z"
   },
   {
    "duration": 920,
    "start_time": "2021-11-28T22:16:51.651Z"
   },
   {
    "duration": 68,
    "start_time": "2021-11-28T22:16:52.574Z"
   },
   {
    "duration": 29,
    "start_time": "2021-11-28T22:16:52.645Z"
   },
   {
    "duration": 28,
    "start_time": "2021-11-28T22:16:52.676Z"
   },
   {
    "duration": 26,
    "start_time": "2021-11-28T22:16:52.707Z"
   },
   {
    "duration": 25,
    "start_time": "2021-11-28T22:16:52.735Z"
   },
   {
    "duration": 10,
    "start_time": "2021-11-28T22:16:52.763Z"
   },
   {
    "duration": 12,
    "start_time": "2021-11-28T22:16:52.778Z"
   },
   {
    "duration": 43,
    "start_time": "2021-11-28T22:16:52.794Z"
   },
   {
    "duration": 13,
    "start_time": "2021-11-28T22:16:52.845Z"
   },
   {
    "duration": 17,
    "start_time": "2021-11-28T22:16:52.860Z"
   },
   {
    "duration": 25,
    "start_time": "2021-11-28T22:16:52.879Z"
   },
   {
    "duration": 41,
    "start_time": "2021-11-28T22:16:52.907Z"
   },
   {
    "duration": 28,
    "start_time": "2021-11-28T22:16:52.951Z"
   },
   {
    "duration": 8,
    "start_time": "2021-11-28T22:16:52.981Z"
   },
   {
    "duration": 43,
    "start_time": "2021-11-28T22:16:52.991Z"
   },
   {
    "duration": 15,
    "start_time": "2021-11-28T22:16:53.042Z"
   },
   {
    "duration": 13,
    "start_time": "2021-11-28T22:16:53.059Z"
   },
   {
    "duration": 22,
    "start_time": "2021-11-28T22:16:53.075Z"
   },
   {
    "duration": 33,
    "start_time": "2021-11-28T22:16:53.100Z"
   },
   {
    "duration": 9,
    "start_time": "2021-11-28T22:16:53.136Z"
   },
   {
    "duration": 8,
    "start_time": "2021-11-28T22:16:53.148Z"
   },
   {
    "duration": 8,
    "start_time": "2021-11-28T22:16:53.164Z"
   },
   {
    "duration": 8,
    "start_time": "2021-11-28T22:16:53.177Z"
   },
   {
    "duration": 54,
    "start_time": "2021-11-28T22:16:53.187Z"
   },
   {
    "duration": 15,
    "start_time": "2021-11-28T22:16:53.244Z"
   },
   {
    "duration": 18,
    "start_time": "2021-11-28T22:16:53.261Z"
   },
   {
    "duration": 23,
    "start_time": "2021-11-28T22:16:53.281Z"
   },
   {
    "duration": 46,
    "start_time": "2021-11-28T22:16:53.306Z"
   },
   {
    "duration": 7,
    "start_time": "2021-11-28T22:16:53.355Z"
   },
   {
    "duration": 17,
    "start_time": "2021-11-28T22:16:53.364Z"
   },
   {
    "duration": 14,
    "start_time": "2021-11-28T22:16:53.383Z"
   },
   {
    "duration": 26,
    "start_time": "2021-11-28T22:16:53.431Z"
   },
   {
    "duration": 7,
    "start_time": "2021-11-28T22:16:53.460Z"
   },
   {
    "duration": 14,
    "start_time": "2021-11-28T22:16:53.470Z"
   },
   {
    "duration": 80,
    "start_time": "2021-11-28T22:16:53.487Z"
   },
   {
    "duration": 13,
    "start_time": "2021-11-28T22:16:53.569Z"
   },
   {
    "duration": 12,
    "start_time": "2021-11-28T22:16:53.584Z"
   },
   {
    "duration": 13,
    "start_time": "2021-11-28T22:16:53.598Z"
   },
   {
    "duration": 27,
    "start_time": "2021-11-28T22:16:53.613Z"
   },
   {
    "duration": 16,
    "start_time": "2021-11-28T22:16:53.643Z"
   },
   {
    "duration": 16,
    "start_time": "2021-11-28T22:16:53.662Z"
   },
   {
    "duration": 33,
    "start_time": "2021-11-28T22:16:53.681Z"
   },
   {
    "duration": 21,
    "start_time": "2021-11-28T22:16:53.716Z"
   },
   {
    "duration": 15,
    "start_time": "2021-11-28T22:16:53.740Z"
   },
   {
    "duration": 34,
    "start_time": "2021-11-28T22:16:53.758Z"
   },
   {
    "duration": 44,
    "start_time": "2021-11-28T22:16:53.795Z"
   },
   {
    "duration": 16,
    "start_time": "2021-11-28T22:16:53.841Z"
   },
   {
    "duration": 12,
    "start_time": "2021-11-28T22:16:53.859Z"
   },
   {
    "duration": 6,
    "start_time": "2021-11-28T22:16:53.873Z"
   },
   {
    "duration": 10,
    "start_time": "2021-11-28T22:16:53.881Z"
   },
   {
    "duration": 61,
    "start_time": "2021-11-28T22:16:53.893Z"
   },
   {
    "duration": 5,
    "start_time": "2021-11-28T22:16:53.957Z"
   },
   {
    "duration": 29,
    "start_time": "2021-11-28T22:16:53.965Z"
   },
   {
    "duration": 31,
    "start_time": "2021-11-28T22:16:53.997Z"
   },
   {
    "duration": 15,
    "start_time": "2021-11-28T22:16:54.032Z"
   },
   {
    "duration": 8,
    "start_time": "2021-11-28T22:16:54.049Z"
   },
   {
    "duration": 8,
    "start_time": "2021-11-28T22:16:54.059Z"
   },
   {
    "duration": 17,
    "start_time": "2021-11-28T22:16:54.069Z"
   },
   {
    "duration": 53,
    "start_time": "2021-11-28T22:16:54.088Z"
   },
   {
    "duration": 22,
    "start_time": "2021-11-28T22:16:54.143Z"
   },
   {
    "duration": 17,
    "start_time": "2021-11-28T22:16:54.167Z"
   },
   {
    "duration": 16,
    "start_time": "2021-11-28T22:16:54.186Z"
   },
   {
    "duration": 46,
    "start_time": "2021-11-28T22:16:54.204Z"
   },
   {
    "duration": 18,
    "start_time": "2021-11-28T22:16:54.252Z"
   },
   {
    "duration": 25,
    "start_time": "2021-11-28T22:16:54.272Z"
   },
   {
    "duration": 55,
    "start_time": "2021-11-28T22:16:54.299Z"
   },
   {
    "duration": 989,
    "start_time": "2021-11-28T22:16:54.362Z"
   },
   {
    "duration": 8,
    "start_time": "2021-11-28T22:16:55.354Z"
   },
   {
    "duration": 14,
    "start_time": "2021-11-28T22:16:55.364Z"
   },
   {
    "duration": 15,
    "start_time": "2021-11-28T22:16:55.381Z"
   },
   {
    "duration": 6,
    "start_time": "2021-11-28T22:16:55.398Z"
   },
   {
    "duration": 61,
    "start_time": "2021-11-28T22:16:55.406Z"
   },
   {
    "duration": 7,
    "start_time": "2021-11-28T22:16:55.471Z"
   },
   {
    "duration": 14,
    "start_time": "2021-11-28T22:16:55.481Z"
   },
   {
    "duration": 193,
    "start_time": "2021-11-28T22:16:55.497Z"
   },
   {
    "duration": 6,
    "start_time": "2021-11-28T22:16:55.693Z"
   },
   {
    "duration": 37,
    "start_time": "2021-11-28T22:16:55.702Z"
   },
   {
    "duration": 31,
    "start_time": "2021-11-28T22:16:55.744Z"
   },
   {
    "duration": 61,
    "start_time": "2021-11-28T22:16:55.777Z"
   },
   {
    "duration": 34,
    "start_time": "2021-11-28T22:16:55.841Z"
   },
   {
    "duration": 17,
    "start_time": "2021-11-28T22:16:55.878Z"
   },
   {
    "duration": 33,
    "start_time": "2021-11-28T22:16:55.899Z"
   },
   {
    "duration": 21,
    "start_time": "2021-11-28T22:16:55.935Z"
   },
   {
    "duration": 14,
    "start_time": "2021-11-28T22:16:55.958Z"
   },
   {
    "duration": 15,
    "start_time": "2021-11-28T22:16:55.974Z"
   },
   {
    "duration": 15,
    "start_time": "2021-11-28T22:16:55.991Z"
   },
   {
    "duration": 28,
    "start_time": "2021-11-28T22:16:56.008Z"
   },
   {
    "duration": 10,
    "start_time": "2021-11-28T22:16:56.039Z"
   },
   {
    "duration": 19,
    "start_time": "2021-11-28T22:16:56.052Z"
   },
   {
    "duration": 32,
    "start_time": "2021-11-28T22:16:56.074Z"
   },
   {
    "duration": 36,
    "start_time": "2021-11-28T22:16:56.109Z"
   },
   {
    "duration": 21,
    "start_time": "2021-11-28T22:16:56.148Z"
   },
   {
    "duration": 3,
    "start_time": "2021-11-28T22:16:56.172Z"
   },
   {
    "duration": 55,
    "start_time": "2021-11-28T22:16:56.178Z"
   },
   {
    "duration": 15,
    "start_time": "2021-11-28T22:16:56.236Z"
   },
   {
    "duration": 25,
    "start_time": "2021-11-28T22:16:56.253Z"
   },
   {
    "duration": 6,
    "start_time": "2021-11-28T22:16:56.281Z"
   },
   {
    "duration": 54,
    "start_time": "2021-11-28T22:16:56.289Z"
   },
   {
    "duration": 14,
    "start_time": "2021-11-28T22:16:56.345Z"
   },
   {
    "duration": 773,
    "start_time": "2021-11-28T23:23:44.291Z"
   },
   {
    "duration": 88,
    "start_time": "2021-11-28T23:23:45.066Z"
   },
   {
    "duration": 29,
    "start_time": "2021-11-28T23:23:45.156Z"
   },
   {
    "duration": 17,
    "start_time": "2021-11-28T23:23:45.187Z"
   },
   {
    "duration": 33,
    "start_time": "2021-11-28T23:23:45.206Z"
   },
   {
    "duration": 21,
    "start_time": "2021-11-28T23:23:45.241Z"
   },
   {
    "duration": 10,
    "start_time": "2021-11-28T23:23:45.264Z"
   },
   {
    "duration": 11,
    "start_time": "2021-11-28T23:23:45.277Z"
   },
   {
    "duration": 10,
    "start_time": "2021-11-28T23:23:45.330Z"
   },
   {
    "duration": 10,
    "start_time": "2021-11-28T23:23:45.343Z"
   },
   {
    "duration": 6,
    "start_time": "2021-11-28T23:23:45.355Z"
   },
   {
    "duration": 14,
    "start_time": "2021-11-28T23:23:45.363Z"
   },
   {
    "duration": 70,
    "start_time": "2021-11-28T23:23:45.380Z"
   },
   {
    "duration": 28,
    "start_time": "2021-11-28T23:23:45.453Z"
   },
   {
    "duration": 9,
    "start_time": "2021-11-28T23:23:45.483Z"
   },
   {
    "duration": 40,
    "start_time": "2021-11-28T23:23:45.494Z"
   },
   {
    "duration": 13,
    "start_time": "2021-11-28T23:23:45.536Z"
   },
   {
    "duration": 7,
    "start_time": "2021-11-28T23:23:45.551Z"
   },
   {
    "duration": 18,
    "start_time": "2021-11-28T23:23:45.561Z"
   },
   {
    "duration": 48,
    "start_time": "2021-11-28T23:23:45.581Z"
   },
   {
    "duration": 8,
    "start_time": "2021-11-28T23:23:45.631Z"
   },
   {
    "duration": 8,
    "start_time": "2021-11-28T23:23:45.641Z"
   },
   {
    "duration": 7,
    "start_time": "2021-11-28T23:23:45.653Z"
   },
   {
    "duration": 8,
    "start_time": "2021-11-28T23:23:45.662Z"
   },
   {
    "duration": 59,
    "start_time": "2021-11-28T23:23:45.672Z"
   },
   {
    "duration": 6,
    "start_time": "2021-11-28T23:23:45.733Z"
   },
   {
    "duration": 12,
    "start_time": "2021-11-28T23:23:45.741Z"
   },
   {
    "duration": 18,
    "start_time": "2021-11-28T23:23:45.755Z"
   },
   {
    "duration": 57,
    "start_time": "2021-11-28T23:23:45.775Z"
   },
   {
    "duration": 11,
    "start_time": "2021-11-28T23:23:45.835Z"
   },
   {
    "duration": 13,
    "start_time": "2021-11-28T23:23:45.849Z"
   },
   {
    "duration": 8,
    "start_time": "2021-11-28T23:23:45.864Z"
   },
   {
    "duration": 67,
    "start_time": "2021-11-28T23:23:45.875Z"
   },
   {
    "duration": 6,
    "start_time": "2021-11-28T23:23:45.944Z"
   },
   {
    "duration": 14,
    "start_time": "2021-11-28T23:56:37.718Z"
   },
   {
    "duration": 16,
    "start_time": "2021-11-28T23:58:54.647Z"
   },
   {
    "duration": 11,
    "start_time": "2021-11-28T23:59:51.286Z"
   },
   {
    "duration": 14,
    "start_time": "2021-11-29T00:00:25.719Z"
   },
   {
    "duration": 552,
    "start_time": "2021-11-29T10:53:07.573Z"
   },
   {
    "duration": 47,
    "start_time": "2021-11-29T10:53:08.126Z"
   },
   {
    "duration": 17,
    "start_time": "2021-11-29T10:53:08.175Z"
   },
   {
    "duration": 26,
    "start_time": "2021-11-29T10:53:08.194Z"
   },
   {
    "duration": 24,
    "start_time": "2021-11-29T10:53:08.221Z"
   },
   {
    "duration": 34,
    "start_time": "2021-11-29T10:53:08.247Z"
   },
   {
    "duration": 12,
    "start_time": "2021-11-29T10:53:08.283Z"
   },
   {
    "duration": 33,
    "start_time": "2021-11-29T10:53:08.297Z"
   },
   {
    "duration": 10,
    "start_time": "2021-11-29T10:53:08.332Z"
   },
   {
    "duration": 31,
    "start_time": "2021-11-29T10:53:08.343Z"
   },
   {
    "duration": 5,
    "start_time": "2021-11-29T10:53:18.141Z"
   },
   {
    "duration": 5,
    "start_time": "2021-11-29T11:00:49.865Z"
   },
   {
    "duration": 3,
    "start_time": "2021-11-29T11:00:57.157Z"
   },
   {
    "duration": 64,
    "start_time": "2021-11-29T11:00:57.162Z"
   },
   {
    "duration": 11,
    "start_time": "2021-11-29T11:00:57.228Z"
   },
   {
    "duration": 12,
    "start_time": "2021-11-29T11:00:57.241Z"
   },
   {
    "duration": 9,
    "start_time": "2021-11-29T11:00:57.255Z"
   },
   {
    "duration": 17,
    "start_time": "2021-11-29T11:00:57.265Z"
   },
   {
    "duration": 7,
    "start_time": "2021-11-29T11:00:57.283Z"
   },
   {
    "duration": 12,
    "start_time": "2021-11-29T11:00:57.291Z"
   },
   {
    "duration": 6,
    "start_time": "2021-11-29T11:00:57.305Z"
   },
   {
    "duration": 7,
    "start_time": "2021-11-29T11:00:57.346Z"
   },
   {
    "duration": 4,
    "start_time": "2021-11-29T11:00:57.355Z"
   },
   {
    "duration": 12,
    "start_time": "2021-11-29T11:00:57.360Z"
   },
   {
    "duration": 16,
    "start_time": "2021-11-29T11:00:57.373Z"
   },
   {
    "duration": 21,
    "start_time": "2021-11-29T11:00:57.390Z"
   },
   {
    "duration": 36,
    "start_time": "2021-11-29T11:00:57.412Z"
   },
   {
    "duration": 6,
    "start_time": "2021-11-29T11:00:57.450Z"
   },
   {
    "duration": 9,
    "start_time": "2021-11-29T11:00:57.458Z"
   },
   {
    "duration": 4,
    "start_time": "2021-11-29T11:00:57.469Z"
   },
   {
    "duration": 20,
    "start_time": "2021-11-29T11:00:57.475Z"
   },
   {
    "duration": 12,
    "start_time": "2021-11-29T11:00:57.497Z"
   },
   {
    "duration": 10,
    "start_time": "2021-11-29T11:00:57.511Z"
   },
   {
    "duration": 25,
    "start_time": "2021-11-29T11:00:57.523Z"
   },
   {
    "duration": 8,
    "start_time": "2021-11-29T11:00:57.550Z"
   },
   {
    "duration": 12,
    "start_time": "2021-11-29T11:00:57.560Z"
   },
   {
    "duration": 32,
    "start_time": "2021-11-29T11:00:57.574Z"
   },
   {
    "duration": 18,
    "start_time": "2021-11-29T11:00:57.608Z"
   },
   {
    "duration": 12,
    "start_time": "2021-11-29T11:00:57.629Z"
   },
   {
    "duration": 19,
    "start_time": "2021-11-29T11:00:57.643Z"
   },
   {
    "duration": 18,
    "start_time": "2021-11-29T11:00:57.664Z"
   },
   {
    "duration": 6,
    "start_time": "2021-11-29T11:00:57.684Z"
   },
   {
    "duration": 11,
    "start_time": "2021-11-29T11:00:57.691Z"
   },
   {
    "duration": 6,
    "start_time": "2021-11-29T11:00:57.703Z"
   },
   {
    "duration": 15,
    "start_time": "2021-11-29T11:00:57.710Z"
   },
   {
    "duration": 17,
    "start_time": "2021-11-29T11:00:57.727Z"
   },
   {
    "duration": 12,
    "start_time": "2021-11-29T11:00:57.746Z"
   },
   {
    "duration": 9,
    "start_time": "2021-11-29T11:00:57.759Z"
   },
   {
    "duration": 6,
    "start_time": "2021-11-29T11:01:08.152Z"
   },
   {
    "duration": 7,
    "start_time": "2021-11-29T11:01:23.204Z"
   },
   {
    "duration": 6,
    "start_time": "2021-11-29T11:02:24.941Z"
   },
   {
    "duration": 12,
    "start_time": "2021-11-29T11:02:49.924Z"
   },
   {
    "duration": 12,
    "start_time": "2021-11-29T11:03:01.933Z"
   },
   {
    "duration": 13,
    "start_time": "2021-11-29T11:03:44.476Z"
   },
   {
    "duration": 11,
    "start_time": "2021-11-29T11:04:01.499Z"
   },
   {
    "duration": 7699,
    "start_time": "2021-11-29T11:04:27.363Z"
   },
   {
    "duration": 11,
    "start_time": "2021-11-29T11:04:55.137Z"
   },
   {
    "duration": 9,
    "start_time": "2021-11-29T11:06:36.445Z"
   },
   {
    "duration": 7,
    "start_time": "2021-11-29T11:06:41.735Z"
   },
   {
    "duration": 5,
    "start_time": "2021-11-29T11:07:57.830Z"
   },
   {
    "duration": 9,
    "start_time": "2021-11-29T11:09:06.340Z"
   },
   {
    "duration": 9,
    "start_time": "2021-11-29T11:11:21.954Z"
   },
   {
    "duration": 6,
    "start_time": "2021-11-29T11:11:35.330Z"
   },
   {
    "duration": 10,
    "start_time": "2021-11-29T11:11:42.737Z"
   },
   {
    "duration": 13,
    "start_time": "2021-11-29T11:11:49.686Z"
   },
   {
    "duration": 290,
    "start_time": "2021-11-29T11:14:12.362Z"
   },
   {
    "duration": 624,
    "start_time": "2021-11-29T11:14:20.145Z"
   },
   {
    "duration": 9,
    "start_time": "2021-11-29T11:14:39.464Z"
   },
   {
    "duration": 8,
    "start_time": "2021-11-29T11:19:21.685Z"
   },
   {
    "duration": 24,
    "start_time": "2021-11-29T11:21:29.516Z"
   },
   {
    "duration": 15,
    "start_time": "2021-11-29T11:22:09.350Z"
   },
   {
    "duration": 7,
    "start_time": "2021-11-29T11:22:14.894Z"
   },
   {
    "duration": 349,
    "start_time": "2021-11-29T11:23:21.805Z"
   },
   {
    "duration": 154,
    "start_time": "2021-11-29T11:23:40.046Z"
   },
   {
    "duration": 165,
    "start_time": "2021-11-29T11:24:52.916Z"
   },
   {
    "duration": 170,
    "start_time": "2021-11-29T11:28:24.314Z"
   },
   {
    "duration": 170,
    "start_time": "2021-11-29T11:29:13.409Z"
   },
   {
    "duration": 194,
    "start_time": "2021-11-29T11:30:25.513Z"
   },
   {
    "duration": 444,
    "start_time": "2021-11-29T11:31:13.910Z"
   },
   {
    "duration": 1611,
    "start_time": "2021-11-29T11:32:03.163Z"
   },
   {
    "duration": 200,
    "start_time": "2021-11-29T11:32:19.182Z"
   },
   {
    "duration": 91,
    "start_time": "2021-11-29T11:34:34.588Z"
   },
   {
    "duration": 396,
    "start_time": "2021-11-29T11:34:39.512Z"
   },
   {
    "duration": 1037,
    "start_time": "2021-11-29T11:34:55.034Z"
   },
   {
    "duration": 180,
    "start_time": "2021-11-29T11:35:53.762Z"
   },
   {
    "duration": 662,
    "start_time": "2021-11-29T11:35:59.204Z"
   },
   {
    "duration": 192,
    "start_time": "2021-11-29T11:36:15.080Z"
   },
   {
    "duration": 292,
    "start_time": "2021-11-29T11:36:21.797Z"
   },
   {
    "duration": 182,
    "start_time": "2021-11-29T11:36:43.248Z"
   },
   {
    "duration": 179,
    "start_time": "2021-11-29T11:37:09.855Z"
   },
   {
    "duration": 183,
    "start_time": "2021-11-29T11:39:29.814Z"
   },
   {
    "duration": 182,
    "start_time": "2021-11-29T11:39:45.025Z"
   },
   {
    "duration": 917,
    "start_time": "2021-11-29T11:40:04.051Z"
   },
   {
    "duration": 800,
    "start_time": "2021-11-29T11:41:33.207Z"
   },
   {
    "duration": 187,
    "start_time": "2021-11-29T11:46:21.449Z"
   },
   {
    "duration": 462,
    "start_time": "2021-11-29T11:47:05.365Z"
   },
   {
    "duration": 458,
    "start_time": "2021-11-29T11:47:58.831Z"
   },
   {
    "duration": 497,
    "start_time": "2021-11-29T11:48:22.179Z"
   },
   {
    "duration": 506,
    "start_time": "2021-11-29T11:48:45.460Z"
   },
   {
    "duration": 797,
    "start_time": "2021-11-29T11:49:33.019Z"
   },
   {
    "duration": 448,
    "start_time": "2021-11-29T11:49:44.479Z"
   },
   {
    "duration": 186,
    "start_time": "2021-11-29T11:51:12.657Z"
   },
   {
    "duration": 653,
    "start_time": "2021-11-29T11:51:48.741Z"
   },
   {
    "duration": 191,
    "start_time": "2021-11-29T11:51:59.386Z"
   },
   {
    "duration": 191,
    "start_time": "2021-11-29T11:52:08.994Z"
   },
   {
    "duration": 875,
    "start_time": "2021-11-29T11:52:21.836Z"
   },
   {
    "duration": 683,
    "start_time": "2021-11-29T11:52:28.028Z"
   },
   {
    "duration": 187,
    "start_time": "2021-11-29T11:52:36.144Z"
   },
   {
    "duration": 18,
    "start_time": "2021-11-29T11:58:10.817Z"
   },
   {
    "duration": 264,
    "start_time": "2021-11-29T11:58:21.277Z"
   },
   {
    "duration": 23,
    "start_time": "2021-11-29T11:59:01.103Z"
   },
   {
    "duration": 6,
    "start_time": "2021-11-29T11:59:17.336Z"
   },
   {
    "duration": 8,
    "start_time": "2021-11-29T11:59:25.915Z"
   },
   {
    "duration": 7,
    "start_time": "2021-11-29T11:59:33.357Z"
   },
   {
    "duration": 10,
    "start_time": "2021-11-29T12:02:48.460Z"
   },
   {
    "duration": 10,
    "start_time": "2021-11-29T12:02:56.609Z"
   },
   {
    "duration": 260,
    "start_time": "2021-11-29T12:03:43.136Z"
   },
   {
    "duration": 11,
    "start_time": "2021-11-29T12:03:47.976Z"
   },
   {
    "duration": 11,
    "start_time": "2021-11-29T12:04:19.231Z"
   },
   {
    "duration": 15,
    "start_time": "2021-11-29T12:04:48.397Z"
   },
   {
    "duration": 8,
    "start_time": "2021-11-29T12:04:54.986Z"
   },
   {
    "duration": 228,
    "start_time": "2021-11-29T12:05:00.159Z"
   },
   {
    "duration": 317,
    "start_time": "2021-11-29T12:06:40.410Z"
   },
   {
    "duration": 279,
    "start_time": "2021-11-29T12:07:14.880Z"
   },
   {
    "duration": 12,
    "start_time": "2021-11-29T12:07:35.906Z"
   },
   {
    "duration": 5,
    "start_time": "2021-11-29T12:07:57.507Z"
   },
   {
    "duration": 4,
    "start_time": "2021-11-29T12:15:31.857Z"
   },
   {
    "duration": 535,
    "start_time": "2021-11-29T12:16:00.656Z"
   },
   {
    "duration": 4,
    "start_time": "2021-11-29T12:16:20.648Z"
   },
   {
    "duration": 15,
    "start_time": "2021-11-29T12:16:23.510Z"
   },
   {
    "duration": 15,
    "start_time": "2021-11-29T12:17:47.782Z"
   },
   {
    "duration": 6,
    "start_time": "2021-11-29T12:18:39.424Z"
   },
   {
    "duration": 3,
    "start_time": "2021-11-29T12:18:45.102Z"
   },
   {
    "duration": 15,
    "start_time": "2021-11-29T12:18:47.899Z"
   },
   {
    "duration": 7756,
    "start_time": "2021-11-29T12:18:56.295Z"
   },
   {
    "duration": 19,
    "start_time": "2021-11-29T12:19:04.736Z"
   },
   {
    "duration": 4,
    "start_time": "2021-11-29T12:19:44.686Z"
   },
   {
    "duration": 187,
    "start_time": "2021-11-29T12:19:49.098Z"
   },
   {
    "duration": 3,
    "start_time": "2021-11-29T12:20:57.625Z"
   },
   {
    "duration": 6,
    "start_time": "2021-11-29T12:21:00.111Z"
   },
   {
    "duration": 3,
    "start_time": "2021-11-29T12:21:13.069Z"
   },
   {
    "duration": 8,
    "start_time": "2021-11-29T12:21:15.339Z"
   },
   {
    "duration": 3,
    "start_time": "2021-11-29T12:21:31.571Z"
   },
   {
    "duration": 13,
    "start_time": "2021-11-29T12:21:34.121Z"
   },
   {
    "duration": 3,
    "start_time": "2021-11-29T12:22:14.807Z"
   },
   {
    "duration": 12,
    "start_time": "2021-11-29T12:22:16.380Z"
   },
   {
    "duration": 4,
    "start_time": "2021-11-29T12:22:29.808Z"
   },
   {
    "duration": 3,
    "start_time": "2021-11-29T12:22:52.465Z"
   },
   {
    "duration": 11,
    "start_time": "2021-11-29T12:22:53.646Z"
   },
   {
    "duration": 3,
    "start_time": "2021-11-29T12:23:41.625Z"
   },
   {
    "duration": 3,
    "start_time": "2021-11-29T12:24:04.117Z"
   },
   {
    "duration": 10,
    "start_time": "2021-11-29T12:24:05.644Z"
   },
   {
    "duration": 3,
    "start_time": "2021-11-29T12:24:21.623Z"
   },
   {
    "duration": 10,
    "start_time": "2021-11-29T12:24:24.557Z"
   },
   {
    "duration": 8,
    "start_time": "2021-11-29T12:25:13.936Z"
   },
   {
    "duration": 8,
    "start_time": "2021-11-29T12:25:30.589Z"
   },
   {
    "duration": 5,
    "start_time": "2021-11-29T12:26:04.153Z"
   },
   {
    "duration": 231,
    "start_time": "2021-11-29T12:26:06.395Z"
   },
   {
    "duration": 9,
    "start_time": "2021-11-29T12:26:55.511Z"
   },
   {
    "duration": 10,
    "start_time": "2021-11-29T12:27:05.718Z"
   },
   {
    "duration": 739,
    "start_time": "2021-11-29T12:28:27.903Z"
   },
   {
    "duration": 2788,
    "start_time": "2021-11-29T12:28:34.352Z"
   },
   {
    "duration": 1344,
    "start_time": "2021-11-29T12:30:32.214Z"
   },
   {
    "duration": 7,
    "start_time": "2021-11-29T12:44:42.264Z"
   },
   {
    "duration": 1331,
    "start_time": "2021-11-29T12:44:44.838Z"
   },
   {
    "duration": 24,
    "start_time": "2021-11-29T12:48:15.433Z"
   },
   {
    "duration": 210,
    "start_time": "2021-11-29T12:48:56.721Z"
   },
   {
    "duration": 4,
    "start_time": "2021-11-29T12:49:36.922Z"
   },
   {
    "duration": 15,
    "start_time": "2021-11-29T12:49:39.786Z"
   },
   {
    "duration": 4,
    "start_time": "2021-11-29T12:49:57.410Z"
   },
   {
    "duration": 4,
    "start_time": "2021-11-29T12:50:03.395Z"
   },
   {
    "duration": 15,
    "start_time": "2021-11-29T12:50:04.871Z"
   },
   {
    "duration": 272,
    "start_time": "2021-11-29T12:54:35.934Z"
   },
   {
    "duration": 427,
    "start_time": "2021-11-29T12:54:41.894Z"
   },
   {
    "duration": 202,
    "start_time": "2021-11-29T12:55:10.799Z"
   },
   {
    "duration": 466,
    "start_time": "2021-11-29T12:57:03.176Z"
   },
   {
    "duration": 234,
    "start_time": "2021-11-29T12:57:12.296Z"
   },
   {
    "duration": 876,
    "start_time": "2021-11-29T12:58:43.412Z"
   },
   {
    "duration": 13,
    "start_time": "2021-11-29T13:00:06.462Z"
   },
   {
    "duration": 15,
    "start_time": "2021-11-29T13:00:35.994Z"
   },
   {
    "duration": 192,
    "start_time": "2021-11-29T13:03:00.006Z"
   },
   {
    "duration": 190,
    "start_time": "2021-11-29T13:03:13.171Z"
   },
   {
    "duration": 286,
    "start_time": "2021-11-29T13:41:58.060Z"
   },
   {
    "duration": 505,
    "start_time": "2021-11-29T13:42:57.275Z"
   },
   {
    "duration": 272,
    "start_time": "2021-11-29T13:43:13.646Z"
   },
   {
    "duration": 294,
    "start_time": "2021-11-29T13:43:26.984Z"
   },
   {
    "duration": 281,
    "start_time": "2021-11-29T13:44:04.408Z"
   },
   {
    "duration": 187,
    "start_time": "2021-11-29T13:44:15.147Z"
   },
   {
    "duration": 434,
    "start_time": "2021-11-29T13:47:42.678Z"
   },
   {
    "duration": 220,
    "start_time": "2021-11-29T13:48:55.014Z"
   },
   {
    "duration": 4,
    "start_time": "2021-11-29T13:50:29.876Z"
   },
   {
    "duration": 4,
    "start_time": "2021-11-29T13:50:37.103Z"
   },
   {
    "duration": 13,
    "start_time": "2021-11-29T13:50:42.221Z"
   },
   {
    "duration": 992,
    "start_time": "2021-11-29T13:50:48.750Z"
   },
   {
    "duration": 329,
    "start_time": "2021-11-29T13:52:40.742Z"
   },
   {
    "duration": 3,
    "start_time": "2021-11-29T13:54:10.832Z"
   },
   {
    "duration": 188,
    "start_time": "2021-11-29T13:54:36.166Z"
   },
   {
    "duration": 3,
    "start_time": "2021-11-29T14:00:03.195Z"
   },
   {
    "duration": 193,
    "start_time": "2021-11-29T14:00:06.712Z"
   },
   {
    "duration": 238,
    "start_time": "2021-11-29T14:05:47.749Z"
   },
   {
    "duration": 176,
    "start_time": "2021-11-29T14:07:46.527Z"
   },
   {
    "duration": 169,
    "start_time": "2021-11-29T14:09:06.306Z"
   },
   {
    "duration": 188,
    "start_time": "2021-11-29T14:10:21.179Z"
   },
   {
    "duration": 151,
    "start_time": "2021-11-29T14:12:12.193Z"
   },
   {
    "duration": 186,
    "start_time": "2021-11-29T14:13:23.639Z"
   },
   {
    "duration": 564,
    "start_time": "2021-11-29T14:35:48.177Z"
   },
   {
    "duration": 51,
    "start_time": "2021-11-29T14:35:48.744Z"
   },
   {
    "duration": 19,
    "start_time": "2021-11-29T14:35:48.797Z"
   },
   {
    "duration": 14,
    "start_time": "2021-11-29T14:35:48.818Z"
   },
   {
    "duration": 10,
    "start_time": "2021-11-29T14:35:48.844Z"
   },
   {
    "duration": 18,
    "start_time": "2021-11-29T14:35:48.856Z"
   },
   {
    "duration": 7,
    "start_time": "2021-11-29T14:35:48.876Z"
   },
   {
    "duration": 9,
    "start_time": "2021-11-29T14:35:48.885Z"
   },
   {
    "duration": 6,
    "start_time": "2021-11-29T14:35:48.896Z"
   },
   {
    "duration": 7,
    "start_time": "2021-11-29T14:35:48.903Z"
   },
   {
    "duration": 4,
    "start_time": "2021-11-29T14:35:48.944Z"
   },
   {
    "duration": 13,
    "start_time": "2021-11-29T14:35:48.950Z"
   },
   {
    "duration": 17,
    "start_time": "2021-11-29T14:35:48.964Z"
   },
   {
    "duration": 17,
    "start_time": "2021-11-29T14:35:48.983Z"
   },
   {
    "duration": 7,
    "start_time": "2021-11-29T14:35:49.001Z"
   },
   {
    "duration": 39,
    "start_time": "2021-11-29T14:35:49.010Z"
   },
   {
    "duration": 9,
    "start_time": "2021-11-29T14:35:49.051Z"
   },
   {
    "duration": 4,
    "start_time": "2021-11-29T14:35:49.062Z"
   },
   {
    "duration": 13,
    "start_time": "2021-11-29T14:35:49.068Z"
   },
   {
    "duration": 14,
    "start_time": "2021-11-29T14:35:49.083Z"
   },
   {
    "duration": 5,
    "start_time": "2021-11-29T14:35:49.099Z"
   },
   {
    "duration": 9,
    "start_time": "2021-11-29T14:35:49.106Z"
   },
   {
    "duration": 5,
    "start_time": "2021-11-29T14:35:49.146Z"
   },
   {
    "duration": 8,
    "start_time": "2021-11-29T14:35:49.153Z"
   },
   {
    "duration": 11,
    "start_time": "2021-11-29T14:35:49.163Z"
   },
   {
    "duration": 4,
    "start_time": "2021-11-29T14:35:49.176Z"
   },
   {
    "duration": 8,
    "start_time": "2021-11-29T14:35:49.182Z"
   },
   {
    "duration": 14,
    "start_time": "2021-11-29T14:35:49.192Z"
   },
   {
    "duration": 38,
    "start_time": "2021-11-29T14:35:49.207Z"
   },
   {
    "duration": 7,
    "start_time": "2021-11-29T14:35:49.247Z"
   },
   {
    "duration": 10,
    "start_time": "2021-11-29T14:35:49.257Z"
   },
   {
    "duration": 8,
    "start_time": "2021-11-29T14:35:49.269Z"
   },
   {
    "duration": 21,
    "start_time": "2021-11-29T14:35:49.279Z"
   },
   {
    "duration": 4,
    "start_time": "2021-11-29T14:35:49.301Z"
   },
   {
    "duration": 40,
    "start_time": "2021-11-29T14:35:49.307Z"
   },
   {
    "duration": 21,
    "start_time": "2021-11-29T14:35:49.349Z"
   },
   {
    "duration": 7,
    "start_time": "2021-11-29T14:35:49.372Z"
   },
   {
    "duration": 41,
    "start_time": "2021-11-29T14:35:49.381Z"
   },
   {
    "duration": 12,
    "start_time": "2021-11-29T14:35:49.423Z"
   },
   {
    "duration": 265,
    "start_time": "2021-11-29T14:35:49.437Z"
   },
   {
    "duration": 191,
    "start_time": "2021-11-29T14:35:49.704Z"
   },
   {
    "duration": 263,
    "start_time": "2021-11-29T14:35:49.896Z"
   },
   {
    "duration": 228,
    "start_time": "2021-11-29T14:35:50.160Z"
   },
   {
    "duration": 199,
    "start_time": "2021-11-29T14:35:50.390Z"
   },
   {
    "duration": 168,
    "start_time": "2021-11-29T14:35:50.591Z"
   },
   {
    "duration": 20,
    "start_time": "2021-11-29T14:39:59.219Z"
   },
   {
    "duration": 15,
    "start_time": "2021-11-29T14:42:56.637Z"
   },
   {
    "duration": 33,
    "start_time": "2021-11-29T14:43:07.313Z"
   },
   {
    "duration": 537,
    "start_time": "2021-11-29T14:44:04.077Z"
   },
   {
    "duration": 600,
    "start_time": "2021-11-29T14:44:47.268Z"
   },
   {
    "duration": 507,
    "start_time": "2021-11-29T14:48:09.134Z"
   },
   {
    "duration": 621,
    "start_time": "2021-11-29T14:48:44.833Z"
   },
   {
    "duration": 612,
    "start_time": "2021-11-29T14:49:11.707Z"
   },
   {
    "duration": 52,
    "start_time": "2021-11-29T14:49:12.321Z"
   },
   {
    "duration": 20,
    "start_time": "2021-11-29T14:49:12.375Z"
   },
   {
    "duration": 30,
    "start_time": "2021-11-29T14:49:12.397Z"
   },
   {
    "duration": 28,
    "start_time": "2021-11-29T14:49:12.429Z"
   },
   {
    "duration": 18,
    "start_time": "2021-11-29T14:49:12.459Z"
   },
   {
    "duration": 27,
    "start_time": "2021-11-29T14:49:12.479Z"
   },
   {
    "duration": 36,
    "start_time": "2021-11-29T14:49:12.509Z"
   },
   {
    "duration": 28,
    "start_time": "2021-11-29T14:49:12.548Z"
   },
   {
    "duration": 30,
    "start_time": "2021-11-29T14:49:12.578Z"
   },
   {
    "duration": 41,
    "start_time": "2021-11-29T14:49:12.610Z"
   },
   {
    "duration": 40,
    "start_time": "2021-11-29T14:49:12.653Z"
   },
   {
    "duration": 51,
    "start_time": "2021-11-29T14:49:12.695Z"
   },
   {
    "duration": 30,
    "start_time": "2021-11-29T14:49:12.749Z"
   },
   {
    "duration": 7,
    "start_time": "2021-11-29T14:49:12.781Z"
   },
   {
    "duration": 44,
    "start_time": "2021-11-29T14:49:12.789Z"
   },
   {
    "duration": 28,
    "start_time": "2021-11-29T14:49:12.835Z"
   },
   {
    "duration": 29,
    "start_time": "2021-11-29T14:49:12.865Z"
   },
   {
    "duration": 35,
    "start_time": "2021-11-29T14:49:12.895Z"
   },
   {
    "duration": 24,
    "start_time": "2021-11-29T14:49:12.932Z"
   },
   {
    "duration": 27,
    "start_time": "2021-11-29T14:49:12.958Z"
   },
   {
    "duration": 21,
    "start_time": "2021-11-29T14:49:12.986Z"
   },
   {
    "duration": 19,
    "start_time": "2021-11-29T14:49:13.010Z"
   },
   {
    "duration": 43,
    "start_time": "2021-11-29T14:49:13.031Z"
   },
   {
    "duration": 51,
    "start_time": "2021-11-29T14:49:13.076Z"
   },
   {
    "duration": 21,
    "start_time": "2021-11-29T14:49:13.129Z"
   },
   {
    "duration": 50,
    "start_time": "2021-11-29T14:49:13.151Z"
   },
   {
    "duration": 47,
    "start_time": "2021-11-29T14:49:13.202Z"
   },
   {
    "duration": 47,
    "start_time": "2021-11-29T14:49:13.250Z"
   },
   {
    "duration": 33,
    "start_time": "2021-11-29T14:49:13.299Z"
   },
   {
    "duration": 45,
    "start_time": "2021-11-29T14:49:13.334Z"
   },
   {
    "duration": 20,
    "start_time": "2021-11-29T14:49:13.381Z"
   },
   {
    "duration": 39,
    "start_time": "2021-11-29T14:49:13.403Z"
   },
   {
    "duration": 21,
    "start_time": "2021-11-29T14:49:13.444Z"
   },
   {
    "duration": 21,
    "start_time": "2021-11-29T14:49:13.467Z"
   },
   {
    "duration": 24,
    "start_time": "2021-11-29T14:49:13.489Z"
   },
   {
    "duration": 23,
    "start_time": "2021-11-29T14:49:13.515Z"
   },
   {
    "duration": 47,
    "start_time": "2021-11-29T14:49:13.540Z"
   },
   {
    "duration": 10,
    "start_time": "2021-11-29T14:49:13.589Z"
   },
   {
    "duration": 286,
    "start_time": "2021-11-29T14:49:13.601Z"
   },
   {
    "duration": 202,
    "start_time": "2021-11-29T14:49:13.889Z"
   },
   {
    "duration": 255,
    "start_time": "2021-11-29T14:49:14.092Z"
   },
   {
    "duration": 245,
    "start_time": "2021-11-29T14:49:14.349Z"
   },
   {
    "duration": 216,
    "start_time": "2021-11-29T14:49:14.596Z"
   },
   {
    "duration": 169,
    "start_time": "2021-11-29T14:49:14.813Z"
   },
   {
    "duration": 22,
    "start_time": "2021-11-29T14:49:21.412Z"
   },
   {
    "duration": 30,
    "start_time": "2021-11-29T14:49:33.322Z"
   },
   {
    "duration": 581,
    "start_time": "2021-11-29T14:50:34.576Z"
   },
   {
    "duration": 52,
    "start_time": "2021-11-29T14:50:35.159Z"
   },
   {
    "duration": 18,
    "start_time": "2021-11-29T14:50:35.213Z"
   },
   {
    "duration": 29,
    "start_time": "2021-11-29T14:50:35.233Z"
   },
   {
    "duration": 63,
    "start_time": "2021-11-29T14:50:35.264Z"
   },
   {
    "duration": 32,
    "start_time": "2021-11-29T14:50:35.328Z"
   },
   {
    "duration": 7,
    "start_time": "2021-11-29T14:50:35.362Z"
   },
   {
    "duration": 11,
    "start_time": "2021-11-29T14:50:35.371Z"
   },
   {
    "duration": 35,
    "start_time": "2021-11-29T14:50:35.384Z"
   },
   {
    "duration": 19,
    "start_time": "2021-11-29T14:50:35.422Z"
   },
   {
    "duration": 23,
    "start_time": "2021-11-29T14:50:35.443Z"
   },
   {
    "duration": 60,
    "start_time": "2021-11-29T14:50:35.468Z"
   },
   {
    "duration": 29,
    "start_time": "2021-11-29T14:50:35.530Z"
   },
   {
    "duration": 35,
    "start_time": "2021-11-29T14:50:35.560Z"
   },
   {
    "duration": 19,
    "start_time": "2021-11-29T14:50:35.597Z"
   },
   {
    "duration": 88,
    "start_time": "2021-11-29T14:50:35.618Z"
   },
   {
    "duration": 46,
    "start_time": "2021-11-29T14:50:35.708Z"
   },
   {
    "duration": 30,
    "start_time": "2021-11-29T14:50:35.756Z"
   },
   {
    "duration": 30,
    "start_time": "2021-11-29T14:50:35.788Z"
   },
   {
    "duration": 14,
    "start_time": "2021-11-29T14:50:35.820Z"
   },
   {
    "duration": 7,
    "start_time": "2021-11-29T14:50:35.837Z"
   },
   {
    "duration": 12,
    "start_time": "2021-11-29T14:50:35.845Z"
   },
   {
    "duration": 10,
    "start_time": "2021-11-29T14:50:35.859Z"
   },
   {
    "duration": 12,
    "start_time": "2021-11-29T14:50:35.871Z"
   },
   {
    "duration": 17,
    "start_time": "2021-11-29T14:50:35.885Z"
   },
   {
    "duration": 20,
    "start_time": "2021-11-29T14:50:35.903Z"
   },
   {
    "duration": 30,
    "start_time": "2021-11-29T14:50:35.927Z"
   },
   {
    "duration": 46,
    "start_time": "2021-11-29T14:50:35.959Z"
   },
   {
    "duration": 40,
    "start_time": "2021-11-29T14:50:36.007Z"
   },
   {
    "duration": 31,
    "start_time": "2021-11-29T14:50:36.049Z"
   },
   {
    "duration": 32,
    "start_time": "2021-11-29T14:50:36.082Z"
   },
   {
    "duration": 23,
    "start_time": "2021-11-29T14:50:36.116Z"
   },
   {
    "duration": 36,
    "start_time": "2021-11-29T14:50:36.141Z"
   },
   {
    "duration": 18,
    "start_time": "2021-11-29T14:50:36.179Z"
   },
   {
    "duration": 36,
    "start_time": "2021-11-29T14:50:36.199Z"
   },
   {
    "duration": 23,
    "start_time": "2021-11-29T14:50:36.237Z"
   },
   {
    "duration": 26,
    "start_time": "2021-11-29T14:50:36.262Z"
   },
   {
    "duration": 67,
    "start_time": "2021-11-29T14:50:36.290Z"
   },
   {
    "duration": 3,
    "start_time": "2021-11-29T14:50:36.358Z"
   },
   {
    "duration": 310,
    "start_time": "2021-11-29T14:50:36.363Z"
   },
   {
    "duration": 208,
    "start_time": "2021-11-29T14:50:36.675Z"
   },
   {
    "duration": 262,
    "start_time": "2021-11-29T14:50:36.885Z"
   },
   {
    "duration": 234,
    "start_time": "2021-11-29T14:50:37.149Z"
   },
   {
    "duration": 203,
    "start_time": "2021-11-29T14:50:37.384Z"
   },
   {
    "duration": 172,
    "start_time": "2021-11-29T14:50:37.588Z"
   },
   {
    "duration": 16,
    "start_time": "2021-11-29T14:50:55.574Z"
   },
   {
    "duration": 27,
    "start_time": "2021-11-29T14:51:09.840Z"
   },
   {
    "duration": 18,
    "start_time": "2021-11-29T14:51:55.878Z"
   },
   {
    "duration": 10,
    "start_time": "2021-11-29T14:52:01.557Z"
   },
   {
    "duration": 12,
    "start_time": "2021-11-29T14:52:32.006Z"
   },
   {
    "duration": 19,
    "start_time": "2021-11-29T14:57:15.902Z"
   },
   {
    "duration": 27,
    "start_time": "2021-11-29T15:00:21.634Z"
   },
   {
    "duration": 15,
    "start_time": "2021-11-29T15:00:43.445Z"
   },
   {
    "duration": 790,
    "start_time": "2021-11-29T15:01:58.611Z"
   },
   {
    "duration": 51,
    "start_time": "2021-11-29T15:01:59.403Z"
   },
   {
    "duration": 18,
    "start_time": "2021-11-29T15:01:59.456Z"
   },
   {
    "duration": 32,
    "start_time": "2021-11-29T15:01:59.476Z"
   },
   {
    "duration": 46,
    "start_time": "2021-11-29T15:01:59.510Z"
   },
   {
    "duration": 43,
    "start_time": "2021-11-29T15:01:59.557Z"
   },
   {
    "duration": 9,
    "start_time": "2021-11-29T15:01:59.602Z"
   },
   {
    "duration": 40,
    "start_time": "2021-11-29T15:01:59.614Z"
   },
   {
    "duration": 22,
    "start_time": "2021-11-29T15:01:59.662Z"
   },
   {
    "duration": 25,
    "start_time": "2021-11-29T15:01:59.685Z"
   },
   {
    "duration": 20,
    "start_time": "2021-11-29T15:01:59.712Z"
   },
   {
    "duration": 46,
    "start_time": "2021-11-29T15:01:59.734Z"
   },
   {
    "duration": 31,
    "start_time": "2021-11-29T15:01:59.782Z"
   },
   {
    "duration": 44,
    "start_time": "2021-11-29T15:01:59.815Z"
   },
   {
    "duration": 10,
    "start_time": "2021-11-29T15:01:59.861Z"
   },
   {
    "duration": 22,
    "start_time": "2021-11-29T15:01:59.873Z"
   },
   {
    "duration": 31,
    "start_time": "2021-11-29T15:01:59.897Z"
   },
   {
    "duration": 24,
    "start_time": "2021-11-29T15:01:59.929Z"
   },
   {
    "duration": 52,
    "start_time": "2021-11-29T15:01:59.955Z"
   },
   {
    "duration": 58,
    "start_time": "2021-11-29T15:02:00.009Z"
   },
   {
    "duration": 16,
    "start_time": "2021-11-29T15:02:00.069Z"
   },
   {
    "duration": 27,
    "start_time": "2021-11-29T15:02:00.087Z"
   },
   {
    "duration": 21,
    "start_time": "2021-11-29T15:02:00.117Z"
   },
   {
    "duration": 27,
    "start_time": "2021-11-29T15:02:00.140Z"
   },
   {
    "duration": 29,
    "start_time": "2021-11-29T15:02:00.169Z"
   },
   {
    "duration": 38,
    "start_time": "2021-11-29T15:02:00.200Z"
   },
   {
    "duration": 36,
    "start_time": "2021-11-29T15:02:00.240Z"
   },
   {
    "duration": 34,
    "start_time": "2021-11-29T15:02:00.278Z"
   },
   {
    "duration": 36,
    "start_time": "2021-11-29T15:02:00.314Z"
   },
   {
    "duration": 29,
    "start_time": "2021-11-29T15:02:00.351Z"
   },
   {
    "duration": 30,
    "start_time": "2021-11-29T15:02:00.381Z"
   },
   {
    "duration": 20,
    "start_time": "2021-11-29T15:02:00.413Z"
   },
   {
    "duration": 42,
    "start_time": "2021-11-29T15:02:00.435Z"
   },
   {
    "duration": 13,
    "start_time": "2021-11-29T15:02:00.478Z"
   },
   {
    "duration": 26,
    "start_time": "2021-11-29T15:02:00.493Z"
   },
   {
    "duration": 25,
    "start_time": "2021-11-29T15:02:00.520Z"
   },
   {
    "duration": 28,
    "start_time": "2021-11-29T15:02:00.546Z"
   },
   {
    "duration": 57,
    "start_time": "2021-11-29T15:02:00.576Z"
   },
   {
    "duration": 14,
    "start_time": "2021-11-29T15:02:00.634Z"
   },
   {
    "duration": 320,
    "start_time": "2021-11-29T15:02:00.649Z"
   },
   {
    "duration": 206,
    "start_time": "2021-11-29T15:02:00.970Z"
   },
   {
    "duration": 259,
    "start_time": "2021-11-29T15:02:01.178Z"
   },
   {
    "duration": 242,
    "start_time": "2021-11-29T15:02:01.439Z"
   },
   {
    "duration": 198,
    "start_time": "2021-11-29T15:02:01.682Z"
   },
   {
    "duration": 171,
    "start_time": "2021-11-29T15:02:01.882Z"
   },
   {
    "duration": 14,
    "start_time": "2021-11-29T15:02:02.055Z"
   },
   {
    "duration": 8,
    "start_time": "2021-11-29T15:02:02.071Z"
   },
   {
    "duration": 6,
    "start_time": "2021-11-29T15:02:32.771Z"
   },
   {
    "duration": 766,
    "start_time": "2021-11-29T15:02:40.592Z"
   },
   {
    "duration": 11,
    "start_time": "2021-11-29T15:02:50.413Z"
   },
   {
    "duration": 6,
    "start_time": "2021-11-29T15:04:22.267Z"
   },
   {
    "duration": 4,
    "start_time": "2021-11-29T15:04:25.613Z"
   },
   {
    "duration": 6,
    "start_time": "2021-11-29T15:05:11.995Z"
   },
   {
    "duration": 585,
    "start_time": "2021-11-29T15:22:18.361Z"
   },
   {
    "duration": 49,
    "start_time": "2021-11-29T15:22:18.948Z"
   },
   {
    "duration": 18,
    "start_time": "2021-11-29T15:22:18.999Z"
   },
   {
    "duration": 39,
    "start_time": "2021-11-29T15:22:19.019Z"
   },
   {
    "duration": 14,
    "start_time": "2021-11-29T15:22:19.060Z"
   },
   {
    "duration": 32,
    "start_time": "2021-11-29T15:22:19.076Z"
   },
   {
    "duration": 19,
    "start_time": "2021-11-29T15:22:19.109Z"
   },
   {
    "duration": 21,
    "start_time": "2021-11-29T15:22:19.131Z"
   },
   {
    "duration": 44,
    "start_time": "2021-11-29T15:22:19.154Z"
   },
   {
    "duration": 23,
    "start_time": "2021-11-29T15:22:19.199Z"
   },
   {
    "duration": 35,
    "start_time": "2021-11-29T15:22:19.223Z"
   },
   {
    "duration": 16,
    "start_time": "2021-11-29T15:22:19.259Z"
   },
   {
    "duration": 31,
    "start_time": "2021-11-29T15:22:19.276Z"
   },
   {
    "duration": 38,
    "start_time": "2021-11-29T15:22:19.309Z"
   },
   {
    "duration": 40,
    "start_time": "2021-11-29T15:22:19.349Z"
   },
   {
    "duration": 31,
    "start_time": "2021-11-29T15:22:19.391Z"
   },
   {
    "duration": 33,
    "start_time": "2021-11-29T15:22:19.425Z"
   },
   {
    "duration": 23,
    "start_time": "2021-11-29T15:22:19.460Z"
   },
   {
    "duration": 43,
    "start_time": "2021-11-29T15:22:19.485Z"
   },
   {
    "duration": 32,
    "start_time": "2021-11-29T15:22:19.530Z"
   },
   {
    "duration": 29,
    "start_time": "2021-11-29T15:22:19.564Z"
   },
   {
    "duration": 9,
    "start_time": "2021-11-29T15:22:19.594Z"
   },
   {
    "duration": 35,
    "start_time": "2021-11-29T15:22:19.607Z"
   },
   {
    "duration": 29,
    "start_time": "2021-11-29T15:22:19.644Z"
   },
   {
    "duration": 38,
    "start_time": "2021-11-29T15:22:19.675Z"
   },
   {
    "duration": 10,
    "start_time": "2021-11-29T15:22:19.714Z"
   },
   {
    "duration": 30,
    "start_time": "2021-11-29T15:22:19.726Z"
   },
   {
    "duration": 31,
    "start_time": "2021-11-29T15:22:19.758Z"
   },
   {
    "duration": 25,
    "start_time": "2021-11-29T15:22:19.790Z"
   },
   {
    "duration": 19,
    "start_time": "2021-11-29T15:22:19.817Z"
   },
   {
    "duration": 12,
    "start_time": "2021-11-29T15:22:19.838Z"
   },
   {
    "duration": 21,
    "start_time": "2021-11-29T15:22:19.852Z"
   },
   {
    "duration": 30,
    "start_time": "2021-11-29T15:22:19.875Z"
   },
   {
    "duration": 8,
    "start_time": "2021-11-29T15:22:19.907Z"
   },
   {
    "duration": 26,
    "start_time": "2021-11-29T15:22:19.916Z"
   },
   {
    "duration": 17,
    "start_time": "2021-11-29T15:22:19.944Z"
   },
   {
    "duration": 18,
    "start_time": "2021-11-29T15:22:19.963Z"
   },
   {
    "duration": 41,
    "start_time": "2021-11-29T15:22:19.983Z"
   },
   {
    "duration": 10,
    "start_time": "2021-11-29T15:22:20.026Z"
   },
   {
    "duration": 264,
    "start_time": "2021-11-29T15:22:20.037Z"
   },
   {
    "duration": 203,
    "start_time": "2021-11-29T15:22:20.303Z"
   },
   {
    "duration": 255,
    "start_time": "2021-11-29T15:22:20.508Z"
   },
   {
    "duration": 226,
    "start_time": "2021-11-29T15:22:20.765Z"
   },
   {
    "duration": 201,
    "start_time": "2021-11-29T15:22:20.993Z"
   },
   {
    "duration": 164,
    "start_time": "2021-11-29T15:22:21.196Z"
   },
   {
    "duration": 15,
    "start_time": "2021-11-29T15:22:21.361Z"
   },
   {
    "duration": 10,
    "start_time": "2021-11-29T15:22:21.377Z"
   },
   {
    "duration": 20,
    "start_time": "2021-11-29T15:22:21.388Z"
   },
   {
    "duration": 12,
    "start_time": "2021-11-29T15:22:21.410Z"
   },
   {
    "duration": 27,
    "start_time": "2021-11-29T15:22:21.424Z"
   },
   {
    "duration": 22,
    "start_time": "2021-11-29T15:22:21.453Z"
   },
   {
    "duration": 31,
    "start_time": "2021-11-29T15:22:21.477Z"
   },
   {
    "duration": 17,
    "start_time": "2021-11-29T15:22:21.509Z"
   },
   {
    "duration": 24,
    "start_time": "2021-11-29T15:22:21.528Z"
   },
   {
    "duration": 15,
    "start_time": "2021-11-29T15:22:21.554Z"
   },
   {
    "duration": 36,
    "start_time": "2021-11-29T15:22:21.573Z"
   },
   {
    "duration": 21,
    "start_time": "2021-11-29T15:22:21.612Z"
   },
   {
    "duration": 16,
    "start_time": "2021-11-29T15:22:21.635Z"
   },
   {
    "duration": 11,
    "start_time": "2021-11-29T15:22:21.653Z"
   },
   {
    "duration": 26,
    "start_time": "2021-11-29T15:22:21.666Z"
   },
   {
    "duration": 38,
    "start_time": "2021-11-29T15:22:21.694Z"
   },
   {
    "duration": 26,
    "start_time": "2021-11-29T15:22:21.734Z"
   },
   {
    "duration": 38,
    "start_time": "2021-11-29T15:22:21.762Z"
   },
   {
    "duration": 29,
    "start_time": "2021-11-29T15:22:21.801Z"
   },
   {
    "duration": 40,
    "start_time": "2021-11-29T15:22:21.831Z"
   },
   {
    "duration": 34,
    "start_time": "2021-11-29T15:22:21.872Z"
   },
   {
    "duration": 22,
    "start_time": "2021-11-29T15:22:21.908Z"
   },
   {
    "duration": 19,
    "start_time": "2021-11-29T15:22:21.932Z"
   },
   {
    "duration": 33,
    "start_time": "2021-11-29T15:22:21.953Z"
   },
   {
    "duration": 42,
    "start_time": "2021-11-29T15:22:21.988Z"
   },
   {
    "duration": 44,
    "start_time": "2021-11-29T15:22:22.032Z"
   },
   {
    "duration": 40,
    "start_time": "2021-11-29T15:22:22.077Z"
   },
   {
    "duration": 33,
    "start_time": "2021-11-29T15:22:22.119Z"
   },
   {
    "duration": 28,
    "start_time": "2021-11-29T15:22:22.154Z"
   },
   {
    "duration": 27,
    "start_time": "2021-11-29T15:22:22.184Z"
   },
   {
    "duration": 53,
    "start_time": "2021-11-29T15:22:22.213Z"
   },
   {
    "duration": 638,
    "start_time": "2021-11-29T15:22:22.268Z"
   },
   {
    "duration": 5,
    "start_time": "2021-11-29T15:22:22.907Z"
   },
   {
    "duration": 28,
    "start_time": "2021-11-29T15:22:22.913Z"
   },
   {
    "duration": 61,
    "start_time": "2021-11-29T15:22:22.943Z"
   },
   {
    "duration": 50,
    "start_time": "2021-11-29T15:22:23.006Z"
   },
   {
    "duration": 45,
    "start_time": "2021-11-29T15:22:23.057Z"
   },
   {
    "duration": 2,
    "start_time": "2021-11-29T15:22:23.104Z"
   },
   {
    "duration": 36,
    "start_time": "2021-11-29T15:22:23.108Z"
   },
   {
    "duration": 122,
    "start_time": "2021-11-29T15:22:23.146Z"
   },
   {
    "duration": 5,
    "start_time": "2021-11-29T15:22:23.270Z"
   },
   {
    "duration": 41,
    "start_time": "2021-11-29T15:22:23.276Z"
   },
   {
    "duration": 36,
    "start_time": "2021-11-29T15:22:23.319Z"
   },
   {
    "duration": 21,
    "start_time": "2021-11-29T15:22:23.357Z"
   },
   {
    "duration": 15,
    "start_time": "2021-11-29T15:22:51.503Z"
   },
   {
    "duration": 316,
    "start_time": "2021-11-29T15:25:26.616Z"
   },
   {
    "duration": 191,
    "start_time": "2021-11-29T15:26:27.248Z"
   },
   {
    "duration": 301,
    "start_time": "2021-11-29T15:26:44.505Z"
   },
   {
    "duration": 123,
    "start_time": "2021-11-29T15:27:29.201Z"
   },
   {
    "duration": 263,
    "start_time": "2021-11-29T15:28:59.100Z"
   },
   {
    "duration": 124,
    "start_time": "2021-11-29T15:30:46.852Z"
   },
   {
    "duration": 5,
    "start_time": "2021-11-29T15:40:55.350Z"
   },
   {
    "duration": 5,
    "start_time": "2021-11-29T15:41:02.352Z"
   },
   {
    "duration": 6,
    "start_time": "2021-11-29T15:41:14.495Z"
   },
   {
    "duration": 6,
    "start_time": "2021-11-29T15:41:19.695Z"
   },
   {
    "duration": 6,
    "start_time": "2021-11-29T15:41:31.700Z"
   },
   {
    "duration": 6,
    "start_time": "2021-11-29T15:41:59.896Z"
   },
   {
    "duration": 276,
    "start_time": "2021-11-29T15:43:10.482Z"
   },
   {
    "duration": 5,
    "start_time": "2021-11-29T15:43:32.021Z"
   },
   {
    "duration": 5,
    "start_time": "2021-11-29T16:00:14.275Z"
   },
   {
    "duration": 4,
    "start_time": "2021-11-29T16:00:52.396Z"
   },
   {
    "duration": 5,
    "start_time": "2021-11-29T16:01:08.582Z"
   },
   {
    "duration": 4,
    "start_time": "2021-11-29T16:02:39.755Z"
   },
   {
    "duration": 8,
    "start_time": "2021-11-29T16:03:04.195Z"
   },
   {
    "duration": 5,
    "start_time": "2021-11-29T16:03:58.412Z"
   },
   {
    "duration": 8,
    "start_time": "2021-11-29T16:04:06.336Z"
   },
   {
    "duration": 8,
    "start_time": "2021-11-29T16:04:39.382Z"
   },
   {
    "duration": 8,
    "start_time": "2021-11-29T16:04:53.687Z"
   },
   {
    "duration": 5,
    "start_time": "2021-11-29T16:06:26.890Z"
   },
   {
    "duration": 4,
    "start_time": "2021-11-29T16:06:41.835Z"
   },
   {
    "duration": 4,
    "start_time": "2021-11-29T16:06:48.028Z"
   },
   {
    "duration": 87,
    "start_time": "2021-11-29T16:06:56.880Z"
   },
   {
    "duration": 4,
    "start_time": "2021-11-29T16:07:13.075Z"
   },
   {
    "duration": 4,
    "start_time": "2021-11-29T16:09:14.369Z"
   },
   {
    "duration": 9,
    "start_time": "2021-11-29T16:12:20.023Z"
   },
   {
    "duration": 9,
    "start_time": "2021-11-29T16:12:45.097Z"
   },
   {
    "duration": 192,
    "start_time": "2021-11-29T16:15:37.388Z"
   },
   {
    "duration": 269,
    "start_time": "2021-11-29T16:15:41.486Z"
   },
   {
    "duration": 479,
    "start_time": "2021-11-29T16:15:49.460Z"
   },
   {
    "duration": 136,
    "start_time": "2021-11-29T16:16:47.420Z"
   },
   {
    "duration": 402,
    "start_time": "2021-11-29T16:21:07.934Z"
   },
   {
    "duration": 141,
    "start_time": "2021-11-29T16:22:43.160Z"
   },
   {
    "duration": 222,
    "start_time": "2021-11-29T16:23:31.444Z"
   },
   {
    "duration": 94,
    "start_time": "2021-11-29T16:24:01.380Z"
   },
   {
    "duration": 135,
    "start_time": "2021-11-29T16:24:05.390Z"
   },
   {
    "duration": 146,
    "start_time": "2021-11-29T16:24:23.462Z"
   },
   {
    "duration": 532,
    "start_time": "2021-11-29T17:27:35.786Z"
   },
   {
    "duration": 704,
    "start_time": "2021-11-29T17:28:01.731Z"
   },
   {
    "duration": 316,
    "start_time": "2021-11-29T17:29:04.737Z"
   },
   {
    "duration": 4,
    "start_time": "2021-11-29T17:29:40.914Z"
   },
   {
    "duration": 292,
    "start_time": "2021-11-29T17:29:52.834Z"
   },
   {
    "duration": 570,
    "start_time": "2021-11-29T17:32:05.267Z"
   },
   {
    "duration": 330,
    "start_time": "2021-11-29T17:32:17.133Z"
   },
   {
    "duration": 89,
    "start_time": "2021-11-29T17:35:10.092Z"
   },
   {
    "duration": 297,
    "start_time": "2021-11-29T17:35:19.530Z"
   },
   {
    "duration": 4,
    "start_time": "2021-11-29T17:36:30.475Z"
   },
   {
    "duration": 4,
    "start_time": "2021-11-29T17:36:39.253Z"
   },
   {
    "duration": 3,
    "start_time": "2021-11-29T17:36:53.816Z"
   },
   {
    "duration": 5,
    "start_time": "2021-11-29T17:36:56.179Z"
   },
   {
    "duration": 4,
    "start_time": "2021-11-29T17:37:09.925Z"
   },
   {
    "duration": 5,
    "start_time": "2021-11-29T17:37:19.076Z"
   },
   {
    "duration": 254,
    "start_time": "2021-11-29T17:37:50.164Z"
   },
   {
    "duration": 6,
    "start_time": "2021-11-29T17:39:00.623Z"
   },
   {
    "duration": 7,
    "start_time": "2021-11-29T17:39:08.925Z"
   },
   {
    "duration": 8,
    "start_time": "2021-11-29T17:39:25.834Z"
   },
   {
    "duration": 15,
    "start_time": "2021-11-29T17:41:29.723Z"
   },
   {
    "duration": 9,
    "start_time": "2021-11-29T17:41:58.664Z"
   },
   {
    "duration": 260,
    "start_time": "2021-11-29T17:42:23.398Z"
   },
   {
    "duration": 150,
    "start_time": "2021-11-29T17:42:37.789Z"
   },
   {
    "duration": 298,
    "start_time": "2021-11-29T17:44:16.410Z"
   },
   {
    "duration": 275,
    "start_time": "2021-11-29T17:49:09.958Z"
   },
   {
    "duration": 456,
    "start_time": "2021-11-29T17:49:38.549Z"
   },
   {
    "duration": 443,
    "start_time": "2021-11-29T17:50:03.063Z"
   },
   {
    "duration": 283,
    "start_time": "2021-11-29T17:50:12.699Z"
   },
   {
    "duration": 6,
    "start_time": "2021-11-29T17:50:26.793Z"
   },
   {
    "duration": 349,
    "start_time": "2021-11-29T17:50:38.290Z"
   },
   {
    "duration": 6,
    "start_time": "2021-11-29T17:50:43.605Z"
   },
   {
    "duration": 3,
    "start_time": "2021-11-29T17:51:34.490Z"
   },
   {
    "duration": 276,
    "start_time": "2021-11-29T17:51:40.318Z"
   },
   {
    "duration": 4,
    "start_time": "2021-11-29T17:51:46.697Z"
   },
   {
    "duration": 7,
    "start_time": "2021-11-29T17:51:54.811Z"
   },
   {
    "duration": 7,
    "start_time": "2021-11-29T17:52:10.418Z"
   },
   {
    "duration": 8,
    "start_time": "2021-11-29T17:53:32.697Z"
   },
   {
    "duration": 13,
    "start_time": "2021-11-29T17:55:35.595Z"
   },
   {
    "duration": 304,
    "start_time": "2021-11-29T17:56:11.091Z"
   },
   {
    "duration": 272,
    "start_time": "2021-11-29T17:56:49.776Z"
   },
   {
    "duration": 94,
    "start_time": "2021-11-29T17:58:30.659Z"
   },
   {
    "duration": 162,
    "start_time": "2021-11-29T17:58:52.879Z"
   },
   {
    "duration": 12,
    "start_time": "2021-11-29T17:59:05.291Z"
   },
   {
    "duration": 100,
    "start_time": "2021-11-29T17:59:29.276Z"
   },
   {
    "duration": 15,
    "start_time": "2021-11-29T18:00:22.160Z"
   },
   {
    "duration": 299,
    "start_time": "2021-11-29T18:00:30.849Z"
   },
   {
    "duration": 14,
    "start_time": "2021-11-29T18:00:45.295Z"
   },
   {
    "duration": 628,
    "start_time": "2021-11-29T18:00:58.827Z"
   },
   {
    "duration": 55,
    "start_time": "2021-11-29T18:00:59.457Z"
   },
   {
    "duration": 19,
    "start_time": "2021-11-29T18:00:59.514Z"
   },
   {
    "duration": 30,
    "start_time": "2021-11-29T18:00:59.535Z"
   },
   {
    "duration": 30,
    "start_time": "2021-11-29T18:00:59.567Z"
   },
   {
    "duration": 46,
    "start_time": "2021-11-29T18:00:59.599Z"
   },
   {
    "duration": 8,
    "start_time": "2021-11-29T18:00:59.646Z"
   },
   {
    "duration": 26,
    "start_time": "2021-11-29T18:00:59.656Z"
   },
   {
    "duration": 7,
    "start_time": "2021-11-29T18:00:59.686Z"
   },
   {
    "duration": 28,
    "start_time": "2021-11-29T18:00:59.695Z"
   },
   {
    "duration": 19,
    "start_time": "2021-11-29T18:00:59.725Z"
   },
   {
    "duration": 20,
    "start_time": "2021-11-29T18:00:59.746Z"
   },
   {
    "duration": 29,
    "start_time": "2021-11-29T18:00:59.768Z"
   },
   {
    "duration": 39,
    "start_time": "2021-11-29T18:00:59.800Z"
   },
   {
    "duration": 6,
    "start_time": "2021-11-29T18:00:59.842Z"
   },
   {
    "duration": 11,
    "start_time": "2021-11-29T18:00:59.849Z"
   },
   {
    "duration": 40,
    "start_time": "2021-11-29T18:00:59.862Z"
   },
   {
    "duration": 25,
    "start_time": "2021-11-29T18:00:59.903Z"
   },
   {
    "duration": 25,
    "start_time": "2021-11-29T18:00:59.929Z"
   },
   {
    "duration": 22,
    "start_time": "2021-11-29T18:00:59.955Z"
   },
   {
    "duration": 19,
    "start_time": "2021-11-29T18:00:59.978Z"
   },
   {
    "duration": 23,
    "start_time": "2021-11-29T18:00:59.999Z"
   },
   {
    "duration": 28,
    "start_time": "2021-11-29T18:01:00.024Z"
   },
   {
    "duration": 21,
    "start_time": "2021-11-29T18:01:00.054Z"
   },
   {
    "duration": 22,
    "start_time": "2021-11-29T18:01:00.077Z"
   },
   {
    "duration": 21,
    "start_time": "2021-11-29T18:01:00.101Z"
   },
   {
    "duration": 21,
    "start_time": "2021-11-29T18:01:00.126Z"
   },
   {
    "duration": 45,
    "start_time": "2021-11-29T18:01:00.149Z"
   },
   {
    "duration": 30,
    "start_time": "2021-11-29T18:01:00.196Z"
   },
   {
    "duration": 17,
    "start_time": "2021-11-29T18:01:00.228Z"
   },
   {
    "duration": 54,
    "start_time": "2021-11-29T18:01:00.247Z"
   },
   {
    "duration": 27,
    "start_time": "2021-11-29T18:01:00.303Z"
   },
   {
    "duration": 25,
    "start_time": "2021-11-29T18:01:00.331Z"
   },
   {
    "duration": 31,
    "start_time": "2021-11-29T18:01:00.358Z"
   },
   {
    "duration": 42,
    "start_time": "2021-11-29T18:01:00.391Z"
   },
   {
    "duration": 38,
    "start_time": "2021-11-29T18:01:00.435Z"
   },
   {
    "duration": 24,
    "start_time": "2021-11-29T18:01:00.474Z"
   },
   {
    "duration": 70,
    "start_time": "2021-11-29T18:01:00.499Z"
   },
   {
    "duration": 3,
    "start_time": "2021-11-29T18:01:00.570Z"
   },
   {
    "duration": 286,
    "start_time": "2021-11-29T18:01:00.575Z"
   },
   {
    "duration": 203,
    "start_time": "2021-11-29T18:01:00.863Z"
   },
   {
    "duration": 253,
    "start_time": "2021-11-29T18:01:01.069Z"
   },
   {
    "duration": 246,
    "start_time": "2021-11-29T18:01:01.324Z"
   },
   {
    "duration": 205,
    "start_time": "2021-11-29T18:01:01.572Z"
   },
   {
    "duration": 172,
    "start_time": "2021-11-29T18:01:01.779Z"
   },
   {
    "duration": 13,
    "start_time": "2021-11-29T18:01:01.953Z"
   },
   {
    "duration": 14,
    "start_time": "2021-11-29T18:01:01.968Z"
   },
   {
    "duration": 11,
    "start_time": "2021-11-29T18:01:01.984Z"
   },
   {
    "duration": 16,
    "start_time": "2021-11-29T18:01:01.996Z"
   },
   {
    "duration": 21,
    "start_time": "2021-11-29T18:01:02.013Z"
   },
   {
    "duration": 18,
    "start_time": "2021-11-29T18:01:02.036Z"
   },
   {
    "duration": 23,
    "start_time": "2021-11-29T18:01:02.056Z"
   },
   {
    "duration": 29,
    "start_time": "2021-11-29T18:01:02.080Z"
   },
   {
    "duration": 72,
    "start_time": "2021-11-29T18:01:02.111Z"
   },
   {
    "duration": 35,
    "start_time": "2021-11-29T18:01:02.185Z"
   },
   {
    "duration": 44,
    "start_time": "2021-11-29T18:01:02.222Z"
   },
   {
    "duration": 27,
    "start_time": "2021-11-29T18:01:02.268Z"
   },
   {
    "duration": 25,
    "start_time": "2021-11-29T18:01:02.297Z"
   },
   {
    "duration": 16,
    "start_time": "2021-11-29T18:01:02.324Z"
   },
   {
    "duration": 46,
    "start_time": "2021-11-29T18:01:02.342Z"
   },
   {
    "duration": 26,
    "start_time": "2021-11-29T18:01:02.390Z"
   },
   {
    "duration": 28,
    "start_time": "2021-11-29T18:01:02.418Z"
   },
   {
    "duration": 30,
    "start_time": "2021-11-29T18:01:02.448Z"
   },
   {
    "duration": 10,
    "start_time": "2021-11-29T18:01:02.481Z"
   },
   {
    "duration": 12,
    "start_time": "2021-11-29T18:01:02.493Z"
   },
   {
    "duration": 18,
    "start_time": "2021-11-29T18:01:02.506Z"
   },
   {
    "duration": 11,
    "start_time": "2021-11-29T18:01:02.526Z"
   },
   {
    "duration": 15,
    "start_time": "2021-11-29T18:01:02.539Z"
   },
   {
    "duration": 22,
    "start_time": "2021-11-29T18:01:02.556Z"
   },
   {
    "duration": 20,
    "start_time": "2021-11-29T18:01:02.579Z"
   },
   {
    "duration": 19,
    "start_time": "2021-11-29T18:01:02.601Z"
   },
   {
    "duration": 11,
    "start_time": "2021-11-29T18:01:02.622Z"
   },
   {
    "duration": 27,
    "start_time": "2021-11-29T18:01:02.634Z"
   },
   {
    "duration": 14,
    "start_time": "2021-11-29T18:01:02.662Z"
   },
   {
    "duration": 19,
    "start_time": "2021-11-29T18:01:02.677Z"
   },
   {
    "duration": 19,
    "start_time": "2021-11-29T18:01:02.697Z"
   },
   {
    "duration": 643,
    "start_time": "2021-11-29T18:01:02.718Z"
   },
   {
    "duration": 5,
    "start_time": "2021-11-29T18:01:03.363Z"
   },
   {
    "duration": 8,
    "start_time": "2021-11-29T18:01:03.369Z"
   },
   {
    "duration": 5,
    "start_time": "2021-11-29T18:01:03.379Z"
   },
   {
    "duration": 3,
    "start_time": "2021-11-29T18:01:03.390Z"
   },
   {
    "duration": 24,
    "start_time": "2021-11-29T18:01:03.395Z"
   },
   {
    "duration": 3,
    "start_time": "2021-11-29T18:01:03.421Z"
   },
   {
    "duration": 29,
    "start_time": "2021-11-29T18:01:03.425Z"
   },
   {
    "duration": 114,
    "start_time": "2021-11-29T18:01:03.456Z"
   },
   {
    "duration": 5,
    "start_time": "2021-11-29T18:01:03.572Z"
   },
   {
    "duration": 15,
    "start_time": "2021-11-29T18:01:03.578Z"
   },
   {
    "duration": 20,
    "start_time": "2021-11-29T18:01:03.595Z"
   },
   {
    "duration": 37,
    "start_time": "2021-11-29T18:01:03.617Z"
   },
   {
    "duration": 14,
    "start_time": "2021-11-29T18:01:03.656Z"
   },
   {
    "duration": 335,
    "start_time": "2021-11-29T18:01:03.672Z"
   },
   {
    "duration": -1484,
    "start_time": "2021-11-29T18:01:05.493Z"
   },
   {
    "duration": -1493,
    "start_time": "2021-11-29T18:01:05.503Z"
   },
   {
    "duration": -1498,
    "start_time": "2021-11-29T18:01:05.509Z"
   },
   {
    "duration": -1516,
    "start_time": "2021-11-29T18:01:05.528Z"
   },
   {
    "duration": 2,
    "start_time": "2021-11-29T18:02:18.691Z"
   },
   {
    "duration": 4,
    "start_time": "2021-11-29T18:02:30.344Z"
   },
   {
    "duration": 13,
    "start_time": "2021-11-29T18:02:33.053Z"
   },
   {
    "duration": 424,
    "start_time": "2021-11-29T18:02:36.396Z"
   },
   {
    "duration": 20,
    "start_time": "2021-11-29T18:05:05.316Z"
   },
   {
    "duration": 343,
    "start_time": "2021-11-29T18:05:40.618Z"
   },
   {
    "duration": 14,
    "start_time": "2021-11-29T18:05:54.143Z"
   },
   {
    "duration": 280,
    "start_time": "2021-11-29T18:06:30.818Z"
   },
   {
    "duration": 13,
    "start_time": "2021-11-29T18:06:36.146Z"
   },
   {
    "duration": 288,
    "start_time": "2021-11-29T18:06:41.342Z"
   },
   {
    "duration": 15,
    "start_time": "2021-11-29T18:07:19.332Z"
   },
   {
    "duration": 277,
    "start_time": "2021-11-29T18:09:29.726Z"
   },
   {
    "duration": 16,
    "start_time": "2021-11-29T18:10:06.063Z"
   },
   {
    "duration": 309,
    "start_time": "2021-11-29T18:10:34.966Z"
   },
   {
    "duration": 15,
    "start_time": "2021-11-29T18:11:04.863Z"
   },
   {
    "duration": 312,
    "start_time": "2021-11-29T18:11:09.751Z"
   },
   {
    "duration": 16,
    "start_time": "2021-11-29T18:11:19.508Z"
   },
   {
    "duration": 411,
    "start_time": "2021-11-29T18:11:22.585Z"
   },
   {
    "duration": 322,
    "start_time": "2021-11-29T18:12:15.701Z"
   },
   {
    "duration": 14,
    "start_time": "2021-11-29T18:12:59.799Z"
   },
   {
    "duration": 14,
    "start_time": "2021-11-29T18:13:11.420Z"
   },
   {
    "duration": 357,
    "start_time": "2021-11-29T18:13:32.215Z"
   },
   {
    "duration": 7,
    "start_time": "2021-11-29T18:15:29.077Z"
   },
   {
    "duration": 8,
    "start_time": "2021-11-29T18:15:39.551Z"
   },
   {
    "duration": 270,
    "start_time": "2021-11-29T18:16:58.451Z"
   },
   {
    "duration": 334,
    "start_time": "2021-11-29T18:17:11.285Z"
   },
   {
    "duration": 8,
    "start_time": "2021-11-29T18:18:10.021Z"
   },
   {
    "duration": 298,
    "start_time": "2021-11-29T18:19:35.029Z"
   },
   {
    "duration": 10,
    "start_time": "2021-11-29T18:20:09.620Z"
   },
   {
    "duration": 421,
    "start_time": "2021-11-29T18:23:02.021Z"
   },
   {
    "duration": 401,
    "start_time": "2021-11-29T18:23:20.176Z"
   },
   {
    "duration": 238,
    "start_time": "2021-11-29T18:24:22.187Z"
   },
   {
    "duration": 278,
    "start_time": "2021-11-29T18:25:40.396Z"
   },
   {
    "duration": 280,
    "start_time": "2021-11-29T18:26:22.368Z"
   },
   {
    "duration": 8,
    "start_time": "2021-11-29T18:29:08.507Z"
   },
   {
    "duration": 8,
    "start_time": "2021-11-29T18:29:48.840Z"
   },
   {
    "duration": 267,
    "start_time": "2021-11-29T18:31:11.654Z"
   },
   {
    "duration": 7,
    "start_time": "2021-11-29T18:32:37.917Z"
   },
   {
    "duration": 9,
    "start_time": "2021-11-29T18:32:48.674Z"
   },
   {
    "duration": 746,
    "start_time": "2021-11-29T18:50:24.444Z"
   },
   {
    "duration": 50,
    "start_time": "2021-11-29T18:50:25.192Z"
   },
   {
    "duration": 16,
    "start_time": "2021-11-29T18:50:25.244Z"
   },
   {
    "duration": 12,
    "start_time": "2021-11-29T18:50:25.261Z"
   },
   {
    "duration": 8,
    "start_time": "2021-11-29T18:50:25.274Z"
   },
   {
    "duration": 14,
    "start_time": "2021-11-29T18:50:25.284Z"
   },
   {
    "duration": 6,
    "start_time": "2021-11-29T18:50:25.300Z"
   },
   {
    "duration": 42,
    "start_time": "2021-11-29T18:50:25.309Z"
   },
   {
    "duration": 7,
    "start_time": "2021-11-29T18:50:25.353Z"
   },
   {
    "duration": 7,
    "start_time": "2021-11-29T18:50:25.362Z"
   },
   {
    "duration": 4,
    "start_time": "2021-11-29T18:50:25.371Z"
   },
   {
    "duration": 14,
    "start_time": "2021-11-29T18:50:25.377Z"
   },
   {
    "duration": 20,
    "start_time": "2021-11-29T18:50:25.393Z"
   },
   {
    "duration": 18,
    "start_time": "2021-11-29T18:50:25.445Z"
   },
   {
    "duration": 11,
    "start_time": "2021-11-29T18:50:25.465Z"
   },
   {
    "duration": 13,
    "start_time": "2021-11-29T18:50:25.478Z"
   },
   {
    "duration": 33,
    "start_time": "2021-11-29T18:50:25.493Z"
   },
   {
    "duration": 10,
    "start_time": "2021-11-29T18:50:25.528Z"
   },
   {
    "duration": 29,
    "start_time": "2021-11-29T18:50:25.539Z"
   },
   {
    "duration": 31,
    "start_time": "2021-11-29T18:50:25.569Z"
   },
   {
    "duration": 14,
    "start_time": "2021-11-29T18:50:25.601Z"
   },
   {
    "duration": 19,
    "start_time": "2021-11-29T18:50:25.617Z"
   },
   {
    "duration": 22,
    "start_time": "2021-11-29T18:50:25.640Z"
   },
   {
    "duration": 13,
    "start_time": "2021-11-29T18:50:25.664Z"
   },
   {
    "duration": 33,
    "start_time": "2021-11-29T18:50:25.679Z"
   },
   {
    "duration": 13,
    "start_time": "2021-11-29T18:50:25.715Z"
   },
   {
    "duration": 25,
    "start_time": "2021-11-29T18:50:25.729Z"
   },
   {
    "duration": 17,
    "start_time": "2021-11-29T18:50:25.756Z"
   },
   {
    "duration": 14,
    "start_time": "2021-11-29T18:50:25.775Z"
   },
   {
    "duration": 8,
    "start_time": "2021-11-29T18:50:25.791Z"
   },
   {
    "duration": 13,
    "start_time": "2021-11-29T18:50:25.801Z"
   },
   {
    "duration": 5,
    "start_time": "2021-11-29T18:50:25.816Z"
   },
   {
    "duration": 30,
    "start_time": "2021-11-29T18:50:25.823Z"
   },
   {
    "duration": 5,
    "start_time": "2021-11-29T18:50:25.855Z"
   },
   {
    "duration": 11,
    "start_time": "2021-11-29T18:50:25.862Z"
   },
   {
    "duration": 18,
    "start_time": "2021-11-29T18:50:25.874Z"
   },
   {
    "duration": 4,
    "start_time": "2021-11-29T18:50:25.894Z"
   },
   {
    "duration": 25,
    "start_time": "2021-11-29T18:50:25.900Z"
   },
   {
    "duration": 2,
    "start_time": "2021-11-29T18:50:25.927Z"
   },
   {
    "duration": 217,
    "start_time": "2021-11-29T18:50:25.931Z"
   },
   {
    "duration": 217,
    "start_time": "2021-11-29T18:50:26.150Z"
   },
   {
    "duration": 253,
    "start_time": "2021-11-29T18:50:26.369Z"
   },
   {
    "duration": 254,
    "start_time": "2021-11-29T18:50:26.624Z"
   },
   {
    "duration": 206,
    "start_time": "2021-11-29T18:50:26.880Z"
   },
   {
    "duration": 174,
    "start_time": "2021-11-29T18:50:27.088Z"
   },
   {
    "duration": 14,
    "start_time": "2021-11-29T18:50:27.264Z"
   },
   {
    "duration": 9,
    "start_time": "2021-11-29T18:50:27.280Z"
   },
   {
    "duration": 6,
    "start_time": "2021-11-29T18:50:27.291Z"
   },
   {
    "duration": 3,
    "start_time": "2021-11-29T18:50:27.298Z"
   },
   {
    "duration": 9,
    "start_time": "2021-11-29T18:50:27.303Z"
   },
   {
    "duration": 34,
    "start_time": "2021-11-29T18:50:27.313Z"
   },
   {
    "duration": 20,
    "start_time": "2021-11-29T18:50:27.349Z"
   },
   {
    "duration": 5,
    "start_time": "2021-11-29T18:50:27.370Z"
   },
   {
    "duration": 6,
    "start_time": "2021-11-29T18:50:27.376Z"
   },
   {
    "duration": 7,
    "start_time": "2021-11-29T18:50:27.383Z"
   },
   {
    "duration": 12,
    "start_time": "2021-11-29T18:50:27.392Z"
   },
   {
    "duration": 46,
    "start_time": "2021-11-29T18:50:27.406Z"
   },
   {
    "duration": 9,
    "start_time": "2021-11-29T18:50:27.453Z"
   },
   {
    "duration": 4,
    "start_time": "2021-11-29T18:50:27.463Z"
   },
   {
    "duration": 7,
    "start_time": "2021-11-29T18:50:27.469Z"
   },
   {
    "duration": 15,
    "start_time": "2021-11-29T18:50:27.478Z"
   },
   {
    "duration": 4,
    "start_time": "2021-11-29T18:50:27.495Z"
   },
   {
    "duration": 59,
    "start_time": "2021-11-29T18:50:27.501Z"
   },
   {
    "duration": 4,
    "start_time": "2021-11-29T18:50:27.562Z"
   },
   {
    "duration": 9,
    "start_time": "2021-11-29T18:50:27.568Z"
   },
   {
    "duration": 8,
    "start_time": "2021-11-29T18:50:27.579Z"
   },
   {
    "duration": 4,
    "start_time": "2021-11-29T18:50:27.589Z"
   },
   {
    "duration": 7,
    "start_time": "2021-11-29T18:50:27.598Z"
   },
   {
    "duration": 13,
    "start_time": "2021-11-29T18:50:27.607Z"
   },
   {
    "duration": 34,
    "start_time": "2021-11-29T18:50:27.621Z"
   },
   {
    "duration": 11,
    "start_time": "2021-11-29T18:50:27.657Z"
   },
   {
    "duration": 9,
    "start_time": "2021-11-29T18:50:27.670Z"
   },
   {
    "duration": 14,
    "start_time": "2021-11-29T18:50:27.681Z"
   },
   {
    "duration": 11,
    "start_time": "2021-11-29T18:50:27.697Z"
   },
   {
    "duration": 40,
    "start_time": "2021-11-29T18:50:27.709Z"
   },
   {
    "duration": 16,
    "start_time": "2021-11-29T18:50:27.751Z"
   },
   {
    "duration": 664,
    "start_time": "2021-11-29T18:50:27.769Z"
   },
   {
    "duration": 10,
    "start_time": "2021-11-29T18:50:28.435Z"
   },
   {
    "duration": 4,
    "start_time": "2021-11-29T18:50:28.447Z"
   },
   {
    "duration": 116,
    "start_time": "2021-11-29T18:50:28.452Z"
   },
   {
    "duration": 4,
    "start_time": "2021-11-29T18:50:47.007Z"
   },
   {
    "duration": 3,
    "start_time": "2021-11-29T18:52:01.544Z"
   },
   {
    "duration": 20,
    "start_time": "2021-11-29T18:54:08.281Z"
   },
   {
    "duration": 8,
    "start_time": "2021-11-29T18:54:51.433Z"
   },
   {
    "duration": 11,
    "start_time": "2021-11-29T18:55:11.433Z"
   },
   {
    "duration": 11,
    "start_time": "2021-11-29T18:56:02.381Z"
   },
   {
    "duration": 641,
    "start_time": "2021-11-29T18:57:56.895Z"
   },
   {
    "duration": 49,
    "start_time": "2021-11-29T18:57:57.538Z"
   },
   {
    "duration": 15,
    "start_time": "2021-11-29T18:57:57.589Z"
   },
   {
    "duration": 13,
    "start_time": "2021-11-29T18:57:57.606Z"
   },
   {
    "duration": 17,
    "start_time": "2021-11-29T18:57:57.621Z"
   },
   {
    "duration": 30,
    "start_time": "2021-11-29T18:57:57.640Z"
   },
   {
    "duration": 20,
    "start_time": "2021-11-29T18:57:57.672Z"
   },
   {
    "duration": 16,
    "start_time": "2021-11-29T18:57:57.694Z"
   },
   {
    "duration": 18,
    "start_time": "2021-11-29T18:57:57.712Z"
   },
   {
    "duration": 26,
    "start_time": "2021-11-29T18:57:57.732Z"
   },
   {
    "duration": 12,
    "start_time": "2021-11-29T18:57:57.760Z"
   },
   {
    "duration": 32,
    "start_time": "2021-11-29T18:57:57.773Z"
   },
   {
    "duration": 29,
    "start_time": "2021-11-29T18:57:57.807Z"
   },
   {
    "duration": 15,
    "start_time": "2021-11-29T18:57:57.837Z"
   },
   {
    "duration": 10,
    "start_time": "2021-11-29T18:57:57.853Z"
   },
   {
    "duration": 11,
    "start_time": "2021-11-29T18:57:57.864Z"
   },
   {
    "duration": 22,
    "start_time": "2021-11-29T18:57:57.876Z"
   },
   {
    "duration": 20,
    "start_time": "2021-11-29T18:57:57.899Z"
   },
   {
    "duration": 25,
    "start_time": "2021-11-29T18:57:57.920Z"
   },
   {
    "duration": 20,
    "start_time": "2021-11-29T18:57:57.947Z"
   },
   {
    "duration": 28,
    "start_time": "2021-11-29T18:57:57.968Z"
   },
   {
    "duration": 28,
    "start_time": "2021-11-29T18:57:57.997Z"
   },
   {
    "duration": 32,
    "start_time": "2021-11-29T18:57:58.029Z"
   },
   {
    "duration": 10,
    "start_time": "2021-11-29T18:57:58.064Z"
   },
   {
    "duration": 35,
    "start_time": "2021-11-29T18:57:58.075Z"
   },
   {
    "duration": 30,
    "start_time": "2021-11-29T18:57:58.112Z"
   },
   {
    "duration": 23,
    "start_time": "2021-11-29T18:57:58.144Z"
   },
   {
    "duration": 33,
    "start_time": "2021-11-29T18:57:58.169Z"
   },
   {
    "duration": 25,
    "start_time": "2021-11-29T18:57:58.204Z"
   },
   {
    "duration": 28,
    "start_time": "2021-11-29T18:57:58.231Z"
   },
   {
    "duration": 26,
    "start_time": "2021-11-29T18:57:58.261Z"
   },
   {
    "duration": 22,
    "start_time": "2021-11-29T18:57:58.289Z"
   },
   {
    "duration": 38,
    "start_time": "2021-11-29T18:57:58.313Z"
   },
   {
    "duration": 28,
    "start_time": "2021-11-29T18:57:58.352Z"
   },
   {
    "duration": 30,
    "start_time": "2021-11-29T18:57:58.382Z"
   },
   {
    "duration": 31,
    "start_time": "2021-11-29T18:57:58.414Z"
   },
   {
    "duration": 26,
    "start_time": "2021-11-29T18:57:58.446Z"
   },
   {
    "duration": 41,
    "start_time": "2021-11-29T18:57:58.474Z"
   },
   {
    "duration": 27,
    "start_time": "2021-11-29T18:57:58.516Z"
   },
   {
    "duration": 218,
    "start_time": "2021-11-29T18:57:58.545Z"
   },
   {
    "duration": 200,
    "start_time": "2021-11-29T18:57:58.765Z"
   },
   {
    "duration": 243,
    "start_time": "2021-11-29T18:57:58.967Z"
   },
   {
    "duration": 240,
    "start_time": "2021-11-29T18:57:59.212Z"
   },
   {
    "duration": 194,
    "start_time": "2021-11-29T18:57:59.454Z"
   },
   {
    "duration": 180,
    "start_time": "2021-11-29T18:57:59.650Z"
   },
   {
    "duration": 18,
    "start_time": "2021-11-29T18:57:59.832Z"
   },
   {
    "duration": 19,
    "start_time": "2021-11-29T18:57:59.852Z"
   },
   {
    "duration": 13,
    "start_time": "2021-11-29T18:57:59.873Z"
   },
   {
    "duration": 17,
    "start_time": "2021-11-29T18:57:59.887Z"
   },
   {
    "duration": 27,
    "start_time": "2021-11-29T18:57:59.906Z"
   },
   {
    "duration": 17,
    "start_time": "2021-11-29T18:57:59.934Z"
   },
   {
    "duration": 36,
    "start_time": "2021-11-29T18:57:59.952Z"
   },
   {
    "duration": 24,
    "start_time": "2021-11-29T18:57:59.990Z"
   },
   {
    "duration": 35,
    "start_time": "2021-11-29T18:58:00.016Z"
   },
   {
    "duration": 16,
    "start_time": "2021-11-29T18:58:00.053Z"
   },
   {
    "duration": 27,
    "start_time": "2021-11-29T18:58:00.071Z"
   },
   {
    "duration": 30,
    "start_time": "2021-11-29T18:58:00.100Z"
   },
   {
    "duration": 18,
    "start_time": "2021-11-29T18:58:00.132Z"
   },
   {
    "duration": 28,
    "start_time": "2021-11-29T18:58:00.152Z"
   },
   {
    "duration": 19,
    "start_time": "2021-11-29T18:58:00.181Z"
   },
   {
    "duration": 20,
    "start_time": "2021-11-29T18:58:00.201Z"
   },
   {
    "duration": 11,
    "start_time": "2021-11-29T18:58:00.222Z"
   },
   {
    "duration": 28,
    "start_time": "2021-11-29T18:58:00.235Z"
   },
   {
    "duration": 29,
    "start_time": "2021-11-29T18:58:00.265Z"
   },
   {
    "duration": 35,
    "start_time": "2021-11-29T18:58:00.297Z"
   },
   {
    "duration": 24,
    "start_time": "2021-11-29T18:58:00.334Z"
   },
   {
    "duration": 22,
    "start_time": "2021-11-29T18:58:00.360Z"
   },
   {
    "duration": 6,
    "start_time": "2021-11-29T18:58:00.387Z"
   },
   {
    "duration": 29,
    "start_time": "2021-11-29T18:58:00.395Z"
   },
   {
    "duration": 28,
    "start_time": "2021-11-29T18:58:00.426Z"
   },
   {
    "duration": 19,
    "start_time": "2021-11-29T18:58:00.456Z"
   },
   {
    "duration": 29,
    "start_time": "2021-11-29T18:58:00.477Z"
   },
   {
    "duration": 17,
    "start_time": "2021-11-29T18:58:00.508Z"
   },
   {
    "duration": 18,
    "start_time": "2021-11-29T18:58:00.526Z"
   },
   {
    "duration": 39,
    "start_time": "2021-11-29T18:58:00.545Z"
   },
   {
    "duration": 35,
    "start_time": "2021-11-29T18:58:00.586Z"
   },
   {
    "duration": 667,
    "start_time": "2021-11-29T18:58:00.622Z"
   },
   {
    "duration": 5,
    "start_time": "2021-11-29T18:58:01.291Z"
   },
   {
    "duration": 6,
    "start_time": "2021-11-29T18:58:01.298Z"
   },
   {
    "duration": 9,
    "start_time": "2021-11-29T18:58:01.306Z"
   },
   {
    "duration": 15,
    "start_time": "2021-11-29T18:58:01.317Z"
   },
   {
    "duration": 10,
    "start_time": "2021-11-29T18:58:05.335Z"
   },
   {
    "duration": 8,
    "start_time": "2021-11-29T18:58:27.647Z"
   },
   {
    "duration": 4,
    "start_time": "2021-11-29T18:59:48.523Z"
   },
   {
    "duration": 726,
    "start_time": "2021-11-29T19:00:01.312Z"
   },
   {
    "duration": 52,
    "start_time": "2021-11-29T19:00:02.040Z"
   },
   {
    "duration": 16,
    "start_time": "2021-11-29T19:00:02.095Z"
   },
   {
    "duration": 36,
    "start_time": "2021-11-29T19:00:02.113Z"
   },
   {
    "duration": 20,
    "start_time": "2021-11-29T19:00:02.151Z"
   },
   {
    "duration": 36,
    "start_time": "2021-11-29T19:00:02.174Z"
   },
   {
    "duration": 13,
    "start_time": "2021-11-29T19:00:02.212Z"
   },
   {
    "duration": 57,
    "start_time": "2021-11-29T19:00:02.228Z"
   },
   {
    "duration": 17,
    "start_time": "2021-11-29T19:00:02.288Z"
   },
   {
    "duration": 8,
    "start_time": "2021-11-29T19:00:02.307Z"
   },
   {
    "duration": 5,
    "start_time": "2021-11-29T19:00:02.316Z"
   },
   {
    "duration": 12,
    "start_time": "2021-11-29T19:00:02.322Z"
   },
   {
    "duration": 19,
    "start_time": "2021-11-29T19:00:02.336Z"
   },
   {
    "duration": 16,
    "start_time": "2021-11-29T19:00:02.357Z"
   },
   {
    "duration": 6,
    "start_time": "2021-11-29T19:00:02.375Z"
   },
   {
    "duration": 7,
    "start_time": "2021-11-29T19:00:02.382Z"
   },
   {
    "duration": 10,
    "start_time": "2021-11-29T19:00:02.391Z"
   },
   {
    "duration": 6,
    "start_time": "2021-11-29T19:00:02.403Z"
   },
   {
    "duration": 38,
    "start_time": "2021-11-29T19:00:02.410Z"
   },
   {
    "duration": 8,
    "start_time": "2021-11-29T19:00:02.450Z"
   },
   {
    "duration": 5,
    "start_time": "2021-11-29T19:00:02.460Z"
   },
   {
    "duration": 6,
    "start_time": "2021-11-29T19:00:02.467Z"
   },
   {
    "duration": 4,
    "start_time": "2021-11-29T19:00:02.477Z"
   },
   {
    "duration": 5,
    "start_time": "2021-11-29T19:00:02.483Z"
   },
   {
    "duration": 14,
    "start_time": "2021-11-29T19:00:02.490Z"
   },
   {
    "duration": 12,
    "start_time": "2021-11-29T19:00:02.505Z"
   },
   {
    "duration": 33,
    "start_time": "2021-11-29T19:00:02.518Z"
   },
   {
    "duration": 15,
    "start_time": "2021-11-29T19:00:02.552Z"
   },
   {
    "duration": 15,
    "start_time": "2021-11-29T19:00:02.569Z"
   },
   {
    "duration": 7,
    "start_time": "2021-11-29T19:00:02.586Z"
   },
   {
    "duration": 12,
    "start_time": "2021-11-29T19:00:02.595Z"
   },
   {
    "duration": 37,
    "start_time": "2021-11-29T19:00:02.608Z"
   },
   {
    "duration": 14,
    "start_time": "2021-11-29T19:00:02.647Z"
   },
   {
    "duration": 6,
    "start_time": "2021-11-29T19:00:02.662Z"
   },
   {
    "duration": 8,
    "start_time": "2021-11-29T19:00:02.670Z"
   },
   {
    "duration": 6,
    "start_time": "2021-11-29T19:00:02.680Z"
   },
   {
    "duration": 4,
    "start_time": "2021-11-29T19:00:02.688Z"
   },
   {
    "duration": 51,
    "start_time": "2021-11-29T19:00:02.694Z"
   },
   {
    "duration": 3,
    "start_time": "2021-11-29T19:00:02.747Z"
   },
   {
    "duration": 210,
    "start_time": "2021-11-29T19:00:02.752Z"
   },
   {
    "duration": 200,
    "start_time": "2021-11-29T19:00:02.964Z"
   },
   {
    "duration": 255,
    "start_time": "2021-11-29T19:00:03.165Z"
   },
   {
    "duration": 230,
    "start_time": "2021-11-29T19:00:03.422Z"
   },
   {
    "duration": 214,
    "start_time": "2021-11-29T19:00:03.654Z"
   },
   {
    "duration": 177,
    "start_time": "2021-11-29T19:00:03.869Z"
   },
   {
    "duration": 15,
    "start_time": "2021-11-29T19:00:04.048Z"
   },
   {
    "duration": 31,
    "start_time": "2021-11-29T19:00:04.064Z"
   },
   {
    "duration": 34,
    "start_time": "2021-11-29T19:00:04.097Z"
   },
   {
    "duration": 20,
    "start_time": "2021-11-29T19:00:04.133Z"
   },
   {
    "duration": 28,
    "start_time": "2021-11-29T19:00:04.155Z"
   },
   {
    "duration": 19,
    "start_time": "2021-11-29T19:00:04.185Z"
   },
   {
    "duration": 34,
    "start_time": "2021-11-29T19:00:04.206Z"
   },
   {
    "duration": 31,
    "start_time": "2021-11-29T19:00:04.242Z"
   },
   {
    "duration": 32,
    "start_time": "2021-11-29T19:00:04.275Z"
   },
   {
    "duration": 25,
    "start_time": "2021-11-29T19:00:04.308Z"
   },
   {
    "duration": 23,
    "start_time": "2021-11-29T19:00:04.335Z"
   },
   {
    "duration": 34,
    "start_time": "2021-11-29T19:00:04.360Z"
   },
   {
    "duration": 26,
    "start_time": "2021-11-29T19:00:04.395Z"
   },
   {
    "duration": 7,
    "start_time": "2021-11-29T19:00:04.422Z"
   },
   {
    "duration": 14,
    "start_time": "2021-11-29T19:00:04.430Z"
   },
   {
    "duration": 24,
    "start_time": "2021-11-29T19:00:04.445Z"
   },
   {
    "duration": 6,
    "start_time": "2021-11-29T19:00:04.471Z"
   },
   {
    "duration": 24,
    "start_time": "2021-11-29T19:00:04.478Z"
   },
   {
    "duration": 5,
    "start_time": "2021-11-29T19:00:04.504Z"
   },
   {
    "duration": 10,
    "start_time": "2021-11-29T19:00:04.511Z"
   },
   {
    "duration": 22,
    "start_time": "2021-11-29T19:00:04.523Z"
   },
   {
    "duration": 4,
    "start_time": "2021-11-29T19:00:04.547Z"
   },
   {
    "duration": 5,
    "start_time": "2021-11-29T19:00:04.558Z"
   },
   {
    "duration": 12,
    "start_time": "2021-11-29T19:00:04.565Z"
   },
   {
    "duration": 13,
    "start_time": "2021-11-29T19:00:04.579Z"
   },
   {
    "duration": 52,
    "start_time": "2021-11-29T19:00:04.594Z"
   },
   {
    "duration": 12,
    "start_time": "2021-11-29T19:00:04.648Z"
   },
   {
    "duration": 35,
    "start_time": "2021-11-29T19:00:04.662Z"
   },
   {
    "duration": 31,
    "start_time": "2021-11-29T19:00:04.699Z"
   },
   {
    "duration": 25,
    "start_time": "2021-11-29T19:00:04.732Z"
   },
   {
    "duration": 32,
    "start_time": "2021-11-29T19:00:04.758Z"
   },
   {
    "duration": 664,
    "start_time": "2021-11-29T19:00:04.791Z"
   },
   {
    "duration": 6,
    "start_time": "2021-11-29T19:00:05.457Z"
   },
   {
    "duration": 22,
    "start_time": "2021-11-29T19:00:05.464Z"
   },
   {
    "duration": 30,
    "start_time": "2021-11-29T19:00:05.488Z"
   },
   {
    "duration": 33,
    "start_time": "2021-11-29T19:00:05.520Z"
   },
   {
    "duration": 40,
    "start_time": "2021-11-29T19:00:05.555Z"
   },
   {
    "duration": 27,
    "start_time": "2021-11-29T19:00:05.597Z"
   },
   {
    "duration": 27,
    "start_time": "2021-11-29T19:00:05.626Z"
   },
   {
    "duration": 133,
    "start_time": "2021-11-29T19:00:05.655Z"
   },
   {
    "duration": 5,
    "start_time": "2021-11-29T19:00:05.790Z"
   },
   {
    "duration": 17,
    "start_time": "2021-11-29T19:00:05.796Z"
   },
   {
    "duration": 49,
    "start_time": "2021-11-29T19:00:05.814Z"
   },
   {
    "duration": 38,
    "start_time": "2021-11-29T19:00:05.865Z"
   },
   {
    "duration": 28,
    "start_time": "2021-11-29T19:00:05.904Z"
   },
   {
    "duration": 24,
    "start_time": "2021-11-29T19:00:05.933Z"
   },
   {
    "duration": 24,
    "start_time": "2021-11-29T19:00:05.959Z"
   },
   {
    "duration": 37,
    "start_time": "2021-11-29T19:00:05.985Z"
   },
   {
    "duration": 345,
    "start_time": "2021-11-29T19:00:06.024Z"
   },
   {
    "duration": 13,
    "start_time": "2021-11-29T19:00:06.371Z"
   },
   {
    "duration": 345,
    "start_time": "2021-11-29T19:00:06.385Z"
   },
   {
    "duration": 16,
    "start_time": "2021-11-29T19:00:06.732Z"
   },
   {
    "duration": 300,
    "start_time": "2021-11-29T19:00:06.749Z"
   },
   {
    "duration": 8,
    "start_time": "2021-11-29T19:00:07.051Z"
   },
   {
    "duration": 269,
    "start_time": "2021-11-29T19:00:07.060Z"
   },
   {
    "duration": 129,
    "start_time": "2021-11-29T19:09:51.976Z"
   },
   {
    "duration": 814,
    "start_time": "2021-11-29T19:11:44.041Z"
   },
   {
    "duration": 54,
    "start_time": "2021-11-29T19:11:44.857Z"
   },
   {
    "duration": 16,
    "start_time": "2021-11-29T19:11:44.914Z"
   },
   {
    "duration": 16,
    "start_time": "2021-11-29T19:11:44.933Z"
   },
   {
    "duration": 11,
    "start_time": "2021-11-29T19:11:44.950Z"
   },
   {
    "duration": 14,
    "start_time": "2021-11-29T19:11:44.962Z"
   },
   {
    "duration": 7,
    "start_time": "2021-11-29T19:11:44.978Z"
   },
   {
    "duration": 9,
    "start_time": "2021-11-29T19:11:44.987Z"
   },
   {
    "duration": 46,
    "start_time": "2021-11-29T19:11:44.998Z"
   },
   {
    "duration": 10,
    "start_time": "2021-11-29T19:11:45.046Z"
   },
   {
    "duration": 21,
    "start_time": "2021-11-29T19:11:45.057Z"
   },
   {
    "duration": 19,
    "start_time": "2021-11-29T19:11:45.080Z"
   },
   {
    "duration": 19,
    "start_time": "2021-11-29T19:11:45.100Z"
   },
   {
    "duration": 35,
    "start_time": "2021-11-29T19:11:45.120Z"
   },
   {
    "duration": 6,
    "start_time": "2021-11-29T19:11:45.157Z"
   },
   {
    "duration": 7,
    "start_time": "2021-11-29T19:11:45.164Z"
   },
   {
    "duration": 12,
    "start_time": "2021-11-29T19:11:45.173Z"
   },
   {
    "duration": 11,
    "start_time": "2021-11-29T19:11:45.187Z"
   },
   {
    "duration": 19,
    "start_time": "2021-11-29T19:11:45.199Z"
   },
   {
    "duration": 32,
    "start_time": "2021-11-29T19:11:45.220Z"
   },
   {
    "duration": 5,
    "start_time": "2021-11-29T19:11:45.254Z"
   },
   {
    "duration": 8,
    "start_time": "2021-11-29T19:11:45.261Z"
   },
   {
    "duration": 6,
    "start_time": "2021-11-29T19:11:45.275Z"
   },
   {
    "duration": 7,
    "start_time": "2021-11-29T19:11:45.285Z"
   },
   {
    "duration": 23,
    "start_time": "2021-11-29T19:11:45.294Z"
   },
   {
    "duration": 4,
    "start_time": "2021-11-29T19:11:45.344Z"
   },
   {
    "duration": 13,
    "start_time": "2021-11-29T19:11:45.351Z"
   },
   {
    "duration": 15,
    "start_time": "2021-11-29T19:11:45.366Z"
   },
   {
    "duration": 15,
    "start_time": "2021-11-29T19:11:45.382Z"
   },
   {
    "duration": 12,
    "start_time": "2021-11-29T19:11:45.399Z"
   },
   {
    "duration": 40,
    "start_time": "2021-11-29T19:11:45.413Z"
   },
   {
    "duration": 6,
    "start_time": "2021-11-29T19:11:45.455Z"
   },
   {
    "duration": 39,
    "start_time": "2021-11-29T19:11:45.463Z"
   },
   {
    "duration": 12,
    "start_time": "2021-11-29T19:11:45.504Z"
   },
   {
    "duration": 18,
    "start_time": "2021-11-29T19:11:45.517Z"
   },
   {
    "duration": 16,
    "start_time": "2021-11-29T19:11:45.537Z"
   },
   {
    "duration": 20,
    "start_time": "2021-11-29T19:11:45.555Z"
   },
   {
    "duration": 28,
    "start_time": "2021-11-29T19:11:45.577Z"
   },
   {
    "duration": 13,
    "start_time": "2021-11-29T19:11:45.606Z"
   },
   {
    "duration": 245,
    "start_time": "2021-11-29T19:11:45.621Z"
   },
   {
    "duration": 241,
    "start_time": "2021-11-29T19:11:45.868Z"
   },
   {
    "duration": 336,
    "start_time": "2021-11-29T19:11:46.111Z"
   },
   {
    "duration": 248,
    "start_time": "2021-11-29T19:11:46.449Z"
   },
   {
    "duration": 219,
    "start_time": "2021-11-29T19:11:46.699Z"
   },
   {
    "duration": 176,
    "start_time": "2021-11-29T19:11:46.920Z"
   },
   {
    "duration": 15,
    "start_time": "2021-11-29T19:11:47.098Z"
   },
   {
    "duration": 12,
    "start_time": "2021-11-29T19:11:47.115Z"
   },
   {
    "duration": 21,
    "start_time": "2021-11-29T19:11:47.129Z"
   },
   {
    "duration": 23,
    "start_time": "2021-11-29T19:11:47.152Z"
   },
   {
    "duration": 31,
    "start_time": "2021-11-29T19:11:47.177Z"
   },
   {
    "duration": 37,
    "start_time": "2021-11-29T19:11:47.210Z"
   },
   {
    "duration": 36,
    "start_time": "2021-11-29T19:11:47.249Z"
   },
   {
    "duration": 24,
    "start_time": "2021-11-29T19:11:47.287Z"
   },
   {
    "duration": 17,
    "start_time": "2021-11-29T19:11:47.313Z"
   },
   {
    "duration": 20,
    "start_time": "2021-11-29T19:11:47.332Z"
   },
   {
    "duration": 32,
    "start_time": "2021-11-29T19:11:47.354Z"
   },
   {
    "duration": 30,
    "start_time": "2021-11-29T19:11:47.388Z"
   },
   {
    "duration": 17,
    "start_time": "2021-11-29T19:11:47.420Z"
   },
   {
    "duration": 27,
    "start_time": "2021-11-29T19:11:47.438Z"
   },
   {
    "duration": 20,
    "start_time": "2021-11-29T19:11:47.466Z"
   },
   {
    "duration": 34,
    "start_time": "2021-11-29T19:11:47.488Z"
   },
   {
    "duration": 23,
    "start_time": "2021-11-29T19:11:47.523Z"
   },
   {
    "duration": 27,
    "start_time": "2021-11-29T19:11:47.548Z"
   },
   {
    "duration": 23,
    "start_time": "2021-11-29T19:11:47.577Z"
   },
   {
    "duration": 27,
    "start_time": "2021-11-29T19:11:47.602Z"
   },
   {
    "duration": 20,
    "start_time": "2021-11-29T19:11:47.630Z"
   },
   {
    "duration": 21,
    "start_time": "2021-11-29T19:11:47.652Z"
   },
   {
    "duration": 18,
    "start_time": "2021-11-29T19:11:47.678Z"
   },
   {
    "duration": 22,
    "start_time": "2021-11-29T19:11:47.698Z"
   },
   {
    "duration": 23,
    "start_time": "2021-11-29T19:11:47.722Z"
   },
   {
    "duration": 17,
    "start_time": "2021-11-29T19:11:47.746Z"
   },
   {
    "duration": 23,
    "start_time": "2021-11-29T19:11:47.765Z"
   },
   {
    "duration": 41,
    "start_time": "2021-11-29T19:11:47.790Z"
   },
   {
    "duration": 12,
    "start_time": "2021-11-29T19:11:47.833Z"
   },
   {
    "duration": 26,
    "start_time": "2021-11-29T19:11:47.847Z"
   },
   {
    "duration": 30,
    "start_time": "2021-11-29T19:11:47.875Z"
   },
   {
    "duration": 656,
    "start_time": "2021-11-29T19:11:47.906Z"
   },
   {
    "duration": 5,
    "start_time": "2021-11-29T19:11:48.564Z"
   },
   {
    "duration": 28,
    "start_time": "2021-11-29T19:11:48.570Z"
   },
   {
    "duration": 24,
    "start_time": "2021-11-29T19:11:48.600Z"
   },
   {
    "duration": 23,
    "start_time": "2021-11-29T19:11:48.626Z"
   },
   {
    "duration": 31,
    "start_time": "2021-11-29T19:11:48.651Z"
   },
   {
    "duration": 15,
    "start_time": "2021-11-29T19:11:48.683Z"
   },
   {
    "duration": 34,
    "start_time": "2021-11-29T19:11:48.700Z"
   },
   {
    "duration": 133,
    "start_time": "2021-11-29T19:11:48.736Z"
   },
   {
    "duration": 5,
    "start_time": "2021-11-29T19:11:48.871Z"
   },
   {
    "duration": 30,
    "start_time": "2021-11-29T19:11:48.877Z"
   },
   {
    "duration": 29,
    "start_time": "2021-11-29T19:11:48.909Z"
   },
   {
    "duration": 27,
    "start_time": "2021-11-29T19:11:48.940Z"
   },
   {
    "duration": 38,
    "start_time": "2021-11-29T19:11:48.969Z"
   },
   {
    "duration": 2,
    "start_time": "2021-11-29T19:11:49.008Z"
   },
   {
    "duration": 24,
    "start_time": "2021-11-29T19:11:49.012Z"
   },
   {
    "duration": 57,
    "start_time": "2021-11-29T19:11:49.038Z"
   },
   {
    "duration": 404,
    "start_time": "2021-11-29T19:11:49.096Z"
   },
   {
    "duration": 18,
    "start_time": "2021-11-29T19:11:49.502Z"
   },
   {
    "duration": 313,
    "start_time": "2021-11-29T19:11:49.523Z"
   },
   {
    "duration": 13,
    "start_time": "2021-11-29T19:11:49.838Z"
   },
   {
    "duration": 291,
    "start_time": "2021-11-29T19:11:49.853Z"
   },
   {
    "duration": 9,
    "start_time": "2021-11-29T19:11:50.146Z"
   },
   {
    "duration": 267,
    "start_time": "2021-11-29T19:11:50.156Z"
   },
   {
    "duration": 769,
    "start_time": "2021-11-30T10:36:20.350Z"
   },
   {
    "duration": 103,
    "start_time": "2021-11-30T10:36:28.429Z"
   },
   {
    "duration": 8,
    "start_time": "2021-11-30T10:36:33.231Z"
   },
   {
    "duration": 12,
    "start_time": "2021-11-30T10:37:15.100Z"
   },
   {
    "duration": 29,
    "start_time": "2021-11-30T10:50:39.211Z"
   },
   {
    "duration": 25,
    "start_time": "2021-11-30T10:50:48.050Z"
   }
  ],
  "kernelspec": {
   "display_name": "Python 3",
   "language": "python",
   "name": "python3"
  },
  "language_info": {
   "codemirror_mode": {
    "name": "ipython",
    "version": 3
   },
   "file_extension": ".py",
   "mimetype": "text/x-python",
   "name": "python",
   "nbconvert_exporter": "python",
   "pygments_lexer": "ipython3",
   "version": "3.8.8"
  },
  "nbTranslate": {
   "displayLangs": [
    "en",
    "ru"
   ],
   "hotkey": "alt-t",
   "langInMainMenu": true,
   "sourceLang": "ru",
   "targetLang": "en",
   "useGoogleTranslate": true
  },
  "toc": {
   "base_numbering": 1,
   "nav_menu": {
    "height": "344px",
    "width": "667px"
   },
   "number_sections": true,
   "sideBar": true,
   "skip_h1_title": true,
   "title_cell": "Table of Contents",
   "title_sidebar": "Contents",
   "toc_cell": false,
   "toc_position": {},
   "toc_section_display": true,
   "toc_window_display": false
  }
 },
 "nbformat": 4,
 "nbformat_minor": 2
}
