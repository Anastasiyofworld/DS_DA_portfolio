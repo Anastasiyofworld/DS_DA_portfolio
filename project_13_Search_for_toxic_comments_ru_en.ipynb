{
 "cells": [
  {
   "cell_type": "markdown",
   "metadata": {
    "id": "3aVB9HlfCTbq",
    "lang": "ru"
   },
   "source": [
    "# Проект для «Викишоп»"
   ]
  },
  {
   "cell_type": "markdown",
   "metadata": {
    "lang": "en"
   },
   "source": [
    "# Project for \"Wikishop\""
   ]
  },
  {
   "cell_type": "markdown",
   "metadata": {
    "id": "UppYzUqDCTbs",
    "lang": "ru"
   },
   "source": [
    "Интернет-магазин «Викишоп» запускает новый сервис. Теперь пользователи могут редактировать и дополнять описания товаров, как в вики-сообществах. То есть клиенты предлагают свои правки и комментируют изменения других. Магазину нужен инструмент, который будет искать токсичные комментарии и отправлять их на модерацию. \n",
    "\n",
    "**Наша цель** - обучить модель классифицировать комментарии на позитивные и негативные. \n",
    "\n",
    "В нашем распоряжении **набор данных с разметкой о токсичности правок**.\n",
    "\n",
    "У нас есть строгое указание к метрике качества и ее значению:  `F1` **не меньше 0.75**. \n",
    "\n",
    "**Этапы выполнения проекта**\n",
    "\n",
    "1. Загрузить и подготовить данные.\n",
    "2. Обучить разные модели. \n",
    "3. Сделать выводы.\n",
    "\n",
    "**Описание данных**\n",
    "\n",
    "Данные находятся в файле `toxic_comments.csv`. Столбец *text* в нём содержит текст комментария, а *toxic* — целевой признак."
   ]
  },
  {
   "cell_type": "markdown",
   "metadata": {
    "lang": "en"
   },
   "source": [
    "Online store \"Wikishop\" launches a new service. Now users can edit and supplement product descriptions, just like in wiki communities. That is, clients propose their edits and comment on the changes of others. The store needs a tool that will look for toxic comments and submit them for moderation.\n",
    "\n",
    "**Our goal** is to train the model to classify comments into positive and negative ones.\n",
    "\n",
    "We have at our disposal **a dataset with markup on the toxicity of edits**.\n",
    "\n",
    "We have a strict indication of the quality metric and its value: `F1` **not less than 0.75**.\n",
    "\n",
    "**Project execution stages**\n",
    "\n",
    "1. Download and prepare data.\n",
    "2. Train different models.\n",
    "3. Make conclusions.\n",
    "\n",
    "**Description of data**\n",
    "\n",
    "The data is in the `toxic_comments.csv` file. The *text* column contains the comment text, and *toxic* is the target attribute."
   ]
  },
  {
   "cell_type": "markdown",
   "metadata": {
    "id": "_Adp80lABOtt",
    "lang": "ru",
    "toc": true
   },
   "source": [
    "<h1>Содержание<span class=\"tocSkip\"></span></h1>\n",
    "<div class=\"toc\"><ul class=\"toc-item\"><li><span><a href=\"#Подготовка-/-Preprocessing\" data-toc-modified-id=\"Подготовка-/-Preprocessing-1\"><span class=\"toc-item-num\">1&nbsp;&nbsp;</span>Подготовка / Preprocessing</a></span><ul class=\"toc-item\"><li><span><a href=\"#Лемматизация-/-Lemmatization\" data-toc-modified-id=\"Лемматизация-/-Lemmatization-1.1\"><span class=\"toc-item-num\">1.1&nbsp;&nbsp;</span>Лемматизация / Lemmatization</a></span></li><li><span><a href=\"#Масштабирование-данных-с-помощью-TF-IDF-/-Data-scaling-with-TF-IDF\" data-toc-modified-id=\"Масштабирование-данных-с-помощью-TF-IDF-/-Data-scaling-with-TF-IDF-1.2\"><span class=\"toc-item-num\">1.2&nbsp;&nbsp;</span>Масштабирование данных с помощью TF-IDF / Data scaling with TF-IDF</a></span></li></ul></li><li><span><a href=\"#Обучение-/-Training\" data-toc-modified-id=\"Обучение-/-Training-2\"><span class=\"toc-item-num\">2&nbsp;&nbsp;</span>Обучение / Training</a></span><ul class=\"toc-item\"><li><span><a href=\"#Качество-прогноза-/-Forecast-quality\" data-toc-modified-id=\"Качество-прогноза-/-Forecast-quality-2.1\"><span class=\"toc-item-num\">2.1&nbsp;&nbsp;</span>Качество прогноза / Forecast quality</a></span></li><li><span><a href=\"#Модель-логистической-регрессии-/-Logistic-regression-model\" data-toc-modified-id=\"Модель-логистической-регрессии-/-Logistic-regression-model-2.2\"><span class=\"toc-item-num\">2.2&nbsp;&nbsp;</span>Модель логистической регрессии / Logistic regression model</a></span></li><li><span><a href=\"#Модель-линейных-опорных-векторов-/-Linear-support-vector-model\" data-toc-modified-id=\"Модель-линейных-опорных-векторов-/-Linear-support-vector-model-2.3\"><span class=\"toc-item-num\">2.3&nbsp;&nbsp;</span>Модель линейных опорных векторов / Linear support vector model</a></span></li><li><span><a href=\"#Подбор-порога-/-Threshold-selection\" data-toc-modified-id=\"Подбор-порога-/-Threshold-selection-2.4\"><span class=\"toc-item-num\">2.4&nbsp;&nbsp;</span>Подбор порога / Threshold selection</a></span></li><li><span><a href=\"#Ансамбль-смешивания-/-Stacked-generalization\" data-toc-modified-id=\"Ансамбль-смешивания-/-Stacked-generalization-2.5\"><span class=\"toc-item-num\">2.5&nbsp;&nbsp;</span>Ансамбль смешивания / Stacked generalization</a></span></li></ul></li><li><span><a href=\"#Тестирование-/-Testing\" data-toc-modified-id=\"Тестирование-/-Testing-3\"><span class=\"toc-item-num\">3&nbsp;&nbsp;</span>Тестирование / Testing</a></span></li><li><span><a href=\"#Выводы-/-Conclusions\" data-toc-modified-id=\"Выводы-/-Conclusions-4\"><span class=\"toc-item-num\">4&nbsp;&nbsp;</span>Выводы / Conclusions</a></span></li></ul></div>"
   ]
  },
  {
   "cell_type": "markdown",
   "metadata": {
    "id": "Tw9K-ExZCTbu",
    "lang": "ru"
   },
   "source": [
    "## Подготовка / Preprocessing"
   ]
  },
  {
   "cell_type": "markdown",
   "metadata": {
    "id": "MJO6Hze4CTbx",
    "lang": "ru"
   },
   "source": [
    "Импортируем нужные библиотеки."
   ]
  },
  {
   "cell_type": "markdown",
   "metadata": {
    "lang": "en"
   },
   "source": [
    "Import the required libraries."
   ]
  },
  {
   "cell_type": "code",
   "execution_count": 1,
   "metadata": {
    "colab": {
     "base_uri": "https://localhost:8080/"
    },
    "id": "uzuEGXXDCTb2",
    "outputId": "740e128d-e095-465e-900d-bd5780be97c6",
    "scrolled": true
   },
   "outputs": [],
   "source": [
    "!pip install langdetect --quiet\n",
    "!pip install sidetable --quiet\n",
    "!pip install tqdm --quiet"
   ]
  },
  {
   "cell_type": "code",
   "execution_count": 2,
   "metadata": {
    "id": "_atkSUWHCTb7"
   },
   "outputs": [],
   "source": [
    "from langdetect import detect\n",
    "\n",
    "from matplotlib import pyplot as plt\n",
    "\n",
    "import numpy as np\n",
    "from numpy import hstack\n",
    "\n",
    "import pandas as pd\n",
    "\n",
    "from nltk.corpus import stopwords\n",
    "from nltk.tokenize import sent_tokenize, word_tokenize\n",
    "\n",
    "import re\n",
    "\n",
    "import sidetable\n",
    "\n",
    "import sklearn\n",
    "from sklearn.dummy import DummyClassifier\n",
    "from sklearn.feature_extraction.text import CountVectorizer, TfidfVectorizer\n",
    "from sklearn.linear_model import LogisticRegression\n",
    "from sklearn.metrics import f1_score, precision_score, recall_score\n",
    "from sklearn.model_selection import train_test_split, cross_val_score, KFold, StratifiedKFold, GridSearchCV\n",
    "from sklearn.pipeline import Pipeline, make_pipeline\n",
    "from sklearn.preprocessing import StandardScaler\n",
    "from sklearn.svm  import SVC, LinearSVC\n",
    "\n",
    "from tqdm import notebook"
   ]
  },
  {
   "cell_type": "code",
   "execution_count": 3,
   "metadata": {
    "colab": {
     "base_uri": "https://localhost:8080/"
    },
    "id": "rLGuL_U4CTb9",
    "outputId": "10e01c87-e6b3-40bf-bc9a-e32ce59a1287"
   },
   "outputs": [
    {
     "name": "stdout",
     "output_type": "stream",
     "text": [
      "Requirement already satisfied: nltk in c:\\programdata\\anaconda3\\lib\\site-packages (3.6.1)\n",
      "Requirement already satisfied: regex in c:\\programdata\\anaconda3\\lib\\site-packages (from nltk) (2021.4.4)\n",
      "Requirement already satisfied: click in c:\\programdata\\anaconda3\\lib\\site-packages (from nltk) (7.1.2)\n",
      "Requirement already satisfied: tqdm in c:\\programdata\\anaconda3\\lib\\site-packages (from nltk) (4.59.0)\n",
      "Requirement already satisfied: joblib in c:\\programdata\\anaconda3\\lib\\site-packages (from nltk) (1.0.1)\n"
     ]
    },
    {
     "name": "stderr",
     "output_type": "stream",
     "text": [
      "[nltk_data] Downloading package averaged_perceptron_tagger to\n",
      "[nltk_data]     C:\\Users\\А\\AppData\\Roaming\\nltk_data...\n",
      "[nltk_data]   Package averaged_perceptron_tagger is already up-to-\n",
      "[nltk_data]       date!\n",
      "[nltk_data] Downloading package punkt to\n",
      "[nltk_data]     C:\\Users\\А\\AppData\\Roaming\\nltk_data...\n",
      "[nltk_data]   Package punkt is already up-to-date!\n",
      "[nltk_data] Downloading package stopwords to\n",
      "[nltk_data]     C:\\Users\\А\\AppData\\Roaming\\nltk_data...\n",
      "[nltk_data]   Package stopwords is already up-to-date!\n",
      "[nltk_data] Downloading package wordnet to\n",
      "[nltk_data]     C:\\Users\\А\\AppData\\Roaming\\nltk_data...\n",
      "[nltk_data]   Package wordnet is already up-to-date!\n"
     ]
    },
    {
     "data": {
      "text/plain": [
       "True"
      ]
     },
     "execution_count": 3,
     "metadata": {},
     "output_type": "execute_result"
    }
   ],
   "source": [
    "!pip install nltk\n",
    "import nltk\n",
    "from nltk.corpus import wordnet\n",
    "from nltk.stem import LancasterStemmer, WordNetLemmatizer\n",
    "nltk.download('averaged_perceptron_tagger')\n",
    "nltk.download('punkt')\n",
    "nltk.download('stopwords')\n",
    "nltk.download('wordnet')"
   ]
  },
  {
   "cell_type": "markdown",
   "metadata": {
    "id": "-pkeZ5A-CTb-",
    "lang": "ru"
   },
   "source": [
    "Создаем путь к файлу с данными."
   ]
  },
  {
   "cell_type": "markdown",
   "metadata": {
    "lang": "en"
   },
   "source": [
    "Create a path to the data file."
   ]
  },
  {
   "cell_type": "code",
   "execution_count": 4,
   "metadata": {
    "id": "ZNTPyOcGCTb_"
   },
   "outputs": [],
   "source": [
    "path = '/datasets/toxic_comments.csv'\n",
    "path2 = '/content/drive/MyDrive/Colab Notebooks/project_13/toxic_comments.csv'\n",
    "path3 = '/content/drive/MyDrive/Colab Notebooks/project_13/LEMMAS_ALL_line.csv'\n",
    "path4 = 'LEMMAS_ALL_line.csv'\n",
    "path5 = 'https://drive.google.com/file/d/1pyS4fyZOSInhwbqOdHUcX0gYyr6LVFcL/view?usp=sharing'\n",
    "path5 = 'https://drive.google.com/uc?id=' + path5.split('/')[-2]\n",
    "\n",
    "url = 'https://drive.google.com/file/d/1_O_SwouzNv0YN8fyMilIL12LGI0rpeFt/view?usp=sharing'\n",
    "url = 'https://drive.google.com/uc?id=' + url.split('/')[-2]"
   ]
  },
  {
   "cell_type": "code",
   "execution_count": 5,
   "metadata": {
    "colab": {
     "base_uri": "https://localhost:8080/"
    },
    "id": "sIxWpqopCTcA",
    "outputId": "d6a59ec4-8b83-41d5-fa74-dbe4cc6c16a3"
   },
   "outputs": [],
   "source": [
    "# # for working in Google Colab\n",
    "# from google.colab import drive\n",
    "# drive.mount('/content/drive')"
   ]
  },
  {
   "cell_type": "markdown",
   "metadata": {
    "id": "8sAQf-bgCTcB",
    "lang": "ru"
   },
   "source": [
    "Откроем файл с текстом комментариев и разметкой о токсичности правок."
   ]
  },
  {
   "cell_type": "markdown",
   "metadata": {
    "lang": "en"
   },
   "source": [
    "Let's open a file with the text of comments and markup about the toxicity of edits."
   ]
  },
  {
   "cell_type": "code",
   "execution_count": 6,
   "metadata": {
    "id": "cYoqO8JBCTcE"
   },
   "outputs": [],
   "source": [
    "try:\n",
    "    df = pd.read_csv(path)\n",
    "except Exception as err:\n",
    "    try:\n",
    "        df = pd.read_csv(path[10:])\n",
    "    except Exception as err:\n",
    "        try:\n",
    "            from google.colab import drive\n",
    "            df = pd.read_csv(path2)\n",
    "        except Exception as err:\n",
    "            try:\n",
    "                df = pd.read_csv(path5)\n",
    "            except Exception as err:\n",
    "                print('File reading error:', repr(err))"
   ]
  },
  {
   "cell_type": "code",
   "execution_count": 7,
   "metadata": {
    "id": "8pqX5_2fZrTQ"
   },
   "outputs": [],
   "source": [
    "# parameter for seed in random_state\n",
    "STATE = 12345"
   ]
  },
  {
   "cell_type": "code",
   "execution_count": 8,
   "metadata": {
    "colab": {
     "base_uri": "https://localhost:8080/",
     "height": 206
    },
    "id": "wtC9pcMNCTcH",
    "outputId": "f28924a1-902b-4367-e0a2-351f41d75a2d"
   },
   "outputs": [
    {
     "data": {
      "text/html": [
       "<div>\n",
       "<style scoped>\n",
       "    .dataframe tbody tr th:only-of-type {\n",
       "        vertical-align: middle;\n",
       "    }\n",
       "\n",
       "    .dataframe tbody tr th {\n",
       "        vertical-align: top;\n",
       "    }\n",
       "\n",
       "    .dataframe thead th {\n",
       "        text-align: right;\n",
       "    }\n",
       "</style>\n",
       "<table border=\"1\" class=\"dataframe\">\n",
       "  <thead>\n",
       "    <tr style=\"text-align: right;\">\n",
       "      <th></th>\n",
       "      <th>text</th>\n",
       "      <th>toxic</th>\n",
       "    </tr>\n",
       "  </thead>\n",
       "  <tbody>\n",
       "    <tr>\n",
       "      <th>0</th>\n",
       "      <td>Explanation\\nWhy the edits made under my usern...</td>\n",
       "      <td>0</td>\n",
       "    </tr>\n",
       "    <tr>\n",
       "      <th>1</th>\n",
       "      <td>D'aww! He matches this background colour I'm s...</td>\n",
       "      <td>0</td>\n",
       "    </tr>\n",
       "    <tr>\n",
       "      <th>2</th>\n",
       "      <td>Hey man, I'm really not trying to edit war. It...</td>\n",
       "      <td>0</td>\n",
       "    </tr>\n",
       "    <tr>\n",
       "      <th>3</th>\n",
       "      <td>\"\\nMore\\nI can't make any real suggestions on ...</td>\n",
       "      <td>0</td>\n",
       "    </tr>\n",
       "    <tr>\n",
       "      <th>4</th>\n",
       "      <td>You, sir, are my hero. Any chance you remember...</td>\n",
       "      <td>0</td>\n",
       "    </tr>\n",
       "  </tbody>\n",
       "</table>\n",
       "</div>"
      ],
      "text/plain": [
       "                                                text  toxic\n",
       "0  Explanation\\nWhy the edits made under my usern...      0\n",
       "1  D'aww! He matches this background colour I'm s...      0\n",
       "2  Hey man, I'm really not trying to edit war. It...      0\n",
       "3  \"\\nMore\\nI can't make any real suggestions on ...      0\n",
       "4  You, sir, are my hero. Any chance you remember...      0"
      ]
     },
     "execution_count": 8,
     "metadata": {},
     "output_type": "execute_result"
    }
   ],
   "source": [
    "df.head()"
   ]
  },
  {
   "cell_type": "code",
   "execution_count": 9,
   "metadata": {
    "colab": {
     "base_uri": "https://localhost:8080/"
    },
    "id": "2k2oAT9qCTcH",
    "outputId": "4d036be6-285c-44c8-a583-c1f10e79b593",
    "scrolled": true
   },
   "outputs": [
    {
     "name": "stdout",
     "output_type": "stream",
     "text": [
      "<class 'pandas.core.frame.DataFrame'>\n",
      "RangeIndex: 159571 entries, 0 to 159570\n",
      "Data columns (total 2 columns):\n",
      " #   Column  Non-Null Count   Dtype \n",
      "---  ------  --------------   ----- \n",
      " 0   text    159571 non-null  object\n",
      " 1   toxic   159571 non-null  int64 \n",
      "dtypes: int64(1), object(1)\n",
      "memory usage: 2.4+ MB\n"
     ]
    }
   ],
   "source": [
    "df.info()"
   ]
  },
  {
   "cell_type": "markdown",
   "metadata": {
    "id": "hOhjoFMWCTcI",
    "lang": "ru"
   },
   "source": [
    "В нашем распоряжении 159571 комментарий с разметкой о его токсичности. Первые строчки на английском языке. Проверим, все ли комментарии написаны на одном языке."
   ]
  },
  {
   "cell_type": "markdown",
   "metadata": {
    "lang": "en"
   },
   "source": [
    "We have 159571 comments with markup about its toxicity. The first lines are in English. Let's check if all the comments are written in the same language."
   ]
  },
  {
   "cell_type": "code",
   "execution_count": 10,
   "metadata": {
    "id": "iio8lt1CCTcI"
   },
   "outputs": [],
   "source": [
    "# def detect_language(row):\n",
    "#     try:\n",
    "#         language = detect(row) \n",
    "#     except Exception as error:\n",
    "#         language = 'error'\n",
    "#     return language\n",
    "        "
   ]
  },
  {
   "cell_type": "code",
   "execution_count": 11,
   "metadata": {
    "id": "3UvPhzcGCTcJ"
   },
   "outputs": [],
   "source": [
    "# df['language'] = df['text'].apply(detect_language)"
   ]
  },
  {
   "cell_type": "code",
   "execution_count": 12,
   "metadata": {
    "id": "iyW3sDgdCTcK",
    "scrolled": true
   },
   "outputs": [],
   "source": [
    "# df['language'].unique()"
   ]
  },
  {
   "cell_type": "code",
   "execution_count": 13,
   "metadata": {
    "id": "EYeL0z-cCTcK"
   },
   "outputs": [],
   "source": [
    "# detect(df.loc[159566, 'text'])"
   ]
  },
  {
   "cell_type": "markdown",
   "metadata": {
    "id": "YxJJ7HdqCTcK",
    "lang": "ru"
   },
   "source": [
    "**Код выше выполняется достаточно долго и после проверки на язык не имеет смысла, поэтому мы позволили себе его закомментировать для более быстрой отработки тетради.**\n",
    "\n",
    "Мы потыкались и убедились, что несмотря на иногда присутствующие другие языки, основная масса отзывов написана на английском."
   ]
  },
  {
   "cell_type": "markdown",
   "metadata": {
    "lang": "en"
   },
   "source": [
    "**The code above takes a long time and after checking for the language it does not make sense, so we took the liberty of commenting it out for faster working out of the notebook.**\n",
    "\n",
    "We poked around and found that despite the occasional presence of other languages, most of the reviews are written in English."
   ]
  },
  {
   "cell_type": "markdown",
   "metadata": {
    "id": "RQmSpXGVCTcL",
    "lang": "ru"
   },
   "source": [
    "Посмотрим на соотношение токсичных и нетоксичных комментариев."
   ]
  },
  {
   "cell_type": "markdown",
   "metadata": {
    "lang": "en"
   },
   "source": [
    "Let's look at the ratio of toxic to non-toxic comments."
   ]
  },
  {
   "cell_type": "code",
   "execution_count": 14,
   "metadata": {
    "colab": {
     "base_uri": "https://localhost:8080/",
     "height": 295
    },
    "id": "QEH8_YqhCTcL",
    "lang": "ru",
    "outputId": "fc03e586-c498-42ef-8570-8ce6d300536f",
    "scrolled": true
   },
   "outputs": [
    {
     "data": {
      "image/png": "[encoded data removed]",
      "text/plain": [
       "<Figure size 432x288 with 1 Axes>"
      ]
     },
     "metadata": {
      "needs_background": "light"
     },
     "output_type": "display_data"
    }
   ],
   "source": [
    "df.groupby('toxic').text.count().sort_values(ascending=False).plot(kind='bar', rot=0)\n",
    "plt.title('Distribution of comments by toxicity')\n",
    "plt.ylabel('Number of comments')\n",
    "plt.xlabel('Toxicity')\n",
    "plt.xticks([0, 1], ['non toxic', 'toxic'])\n",
    "plt.show()"
   ]
  },
  {
   "cell_type": "code",
   "execution_count": 15,
   "metadata": {
    "colab": {
     "base_uri": "https://localhost:8080/"
    },
    "id": "RZ2RjwANCTcN",
    "outputId": "71b7fca9-eb77-43d1-e717-6feb23b28004"
   },
   "outputs": [
    {
     "data": {
      "text/plain": [
       "0.10167887648758234"
      ]
     },
     "execution_count": 15,
     "metadata": {},
     "output_type": "execute_result"
    }
   ],
   "source": [
    "df.toxic.mean()"
   ]
  },
  {
   "cell_type": "markdown",
   "metadata": {
    "id": "63ZhoXRTCTcN",
    "lang": "ru"
   },
   "source": [
    "Видим, что только 10% из комментариев помечены как токсичные. Нужно будет учесть это при разбиении выборок для обучения и предсказания моделей."
   ]
  },
  {
   "cell_type": "markdown",
   "metadata": {
    "lang": "en"
   },
   "source": [
    "We see that only 10% of the comments are marked as toxic. We will need to take this into account when splitting samples for training and testing models."
   ]
  },
  {
   "cell_type": "markdown",
   "metadata": {
    "id": "AqwEuCK9CTcN",
    "lang": "ru"
   },
   "source": [
    "Уберем из текста ссылки на страницы."
   ]
  },
  {
   "cell_type": "markdown",
   "metadata": {
    "lang": "en"
   },
   "source": [
    "We will remove links to pages from the text."
   ]
  },
  {
   "cell_type": "code",
   "execution_count": 16,
   "metadata": {
    "id": "bZosLY5ACTcO"
   },
   "outputs": [],
   "source": [
    "def delete_links(data):\n",
    "    data = re.sub(r'^https?:\\/\\/.*[\\r\\n]*', '', data, flags=re.MULTILINE)\n",
    "    return data"
   ]
  },
  {
   "cell_type": "code",
   "execution_count": 17,
   "metadata": {
    "id": "C8pK7B86CTcQ"
   },
   "outputs": [],
   "source": [
    "df['text'] = df['text'].apply(delete_links)"
   ]
  },
  {
   "cell_type": "code",
   "execution_count": 18,
   "metadata": {
    "colab": {
     "base_uri": "https://localhost:8080/",
     "height": 677
    },
    "id": "2KMQcUOjCTcQ",
    "outputId": "658f90fd-bc80-4923-bb85-9515824c81ab"
   },
   "outputs": [
    {
     "data": {
      "text/html": [
       "<div>\n",
       "<style scoped>\n",
       "    .dataframe tbody tr th:only-of-type {\n",
       "        vertical-align: middle;\n",
       "    }\n",
       "\n",
       "    .dataframe tbody tr th {\n",
       "        vertical-align: top;\n",
       "    }\n",
       "\n",
       "    .dataframe thead th {\n",
       "        text-align: right;\n",
       "    }\n",
       "</style>\n",
       "<table border=\"1\" class=\"dataframe\">\n",
       "  <thead>\n",
       "    <tr style=\"text-align: right;\">\n",
       "      <th></th>\n",
       "      <th>text</th>\n",
       "      <th>toxic</th>\n",
       "    </tr>\n",
       "  </thead>\n",
       "  <tbody>\n",
       "    <tr>\n",
       "      <th>0</th>\n",
       "      <td>Explanation\\nWhy the edits made under my usern...</td>\n",
       "      <td>0</td>\n",
       "    </tr>\n",
       "    <tr>\n",
       "      <th>1</th>\n",
       "      <td>D'aww! He matches this background colour I'm s...</td>\n",
       "      <td>0</td>\n",
       "    </tr>\n",
       "    <tr>\n",
       "      <th>2</th>\n",
       "      <td>Hey man, I'm really not trying to edit war. It...</td>\n",
       "      <td>0</td>\n",
       "    </tr>\n",
       "    <tr>\n",
       "      <th>3</th>\n",
       "      <td>\"\\nMore\\nI can't make any real suggestions on ...</td>\n",
       "      <td>0</td>\n",
       "    </tr>\n",
       "    <tr>\n",
       "      <th>4</th>\n",
       "      <td>You, sir, are my hero. Any chance you remember...</td>\n",
       "      <td>0</td>\n",
       "    </tr>\n",
       "    <tr>\n",
       "      <th>5</th>\n",
       "      <td>\"\\n\\nCongratulations from me as well, use the ...</td>\n",
       "      <td>0</td>\n",
       "    </tr>\n",
       "    <tr>\n",
       "      <th>6</th>\n",
       "      <td>COCKSUCKER BEFORE YOU PISS AROUND ON MY WORK</td>\n",
       "      <td>1</td>\n",
       "    </tr>\n",
       "    <tr>\n",
       "      <th>7</th>\n",
       "      <td>Your vandalism to the Matt Shirvington article...</td>\n",
       "      <td>0</td>\n",
       "    </tr>\n",
       "    <tr>\n",
       "      <th>8</th>\n",
       "      <td>Sorry if the word 'nonsense' was offensive to ...</td>\n",
       "      <td>0</td>\n",
       "    </tr>\n",
       "    <tr>\n",
       "      <th>9</th>\n",
       "      <td>alignment on this subject and which are contra...</td>\n",
       "      <td>0</td>\n",
       "    </tr>\n",
       "    <tr>\n",
       "      <th>10</th>\n",
       "      <td>\"\\nFair use rationale for Image:Wonju.jpg\\n\\nT...</td>\n",
       "      <td>0</td>\n",
       "    </tr>\n",
       "    <tr>\n",
       "      <th>11</th>\n",
       "      <td>bbq \\n\\nbe a man and lets discuss it-maybe ove...</td>\n",
       "      <td>0</td>\n",
       "    </tr>\n",
       "    <tr>\n",
       "      <th>12</th>\n",
       "      <td>Hey... what is it..\\n@ | talk .\\nWhat is it......</td>\n",
       "      <td>1</td>\n",
       "    </tr>\n",
       "    <tr>\n",
       "      <th>13</th>\n",
       "      <td>Before you start throwing accusations and warn...</td>\n",
       "      <td>0</td>\n",
       "    </tr>\n",
       "    <tr>\n",
       "      <th>14</th>\n",
       "      <td>Oh, and the girl above started her arguments w...</td>\n",
       "      <td>0</td>\n",
       "    </tr>\n",
       "    <tr>\n",
       "      <th>15</th>\n",
       "      <td>\"\\n\\nJuelz Santanas Age\\n\\nIn 2002, Juelz Sant...</td>\n",
       "      <td>0</td>\n",
       "    </tr>\n",
       "    <tr>\n",
       "      <th>16</th>\n",
       "      <td>Bye! \\n\\nDon't look, come or think of comming ...</td>\n",
       "      <td>1</td>\n",
       "    </tr>\n",
       "    <tr>\n",
       "      <th>17</th>\n",
       "      <td>REDIRECT Talk:Voydan Pop Georgiev- Chernodrinski</td>\n",
       "      <td>0</td>\n",
       "    </tr>\n",
       "    <tr>\n",
       "      <th>18</th>\n",
       "      <td>The Mitsurugi point made no sense - why not ar...</td>\n",
       "      <td>0</td>\n",
       "    </tr>\n",
       "    <tr>\n",
       "      <th>19</th>\n",
       "      <td>Don't mean to bother you \\n\\nI see that you're...</td>\n",
       "      <td>0</td>\n",
       "    </tr>\n",
       "  </tbody>\n",
       "</table>\n",
       "</div>"
      ],
      "text/plain": [
       "                                                 text  toxic\n",
       "0   Explanation\\nWhy the edits made under my usern...      0\n",
       "1   D'aww! He matches this background colour I'm s...      0\n",
       "2   Hey man, I'm really not trying to edit war. It...      0\n",
       "3   \"\\nMore\\nI can't make any real suggestions on ...      0\n",
       "4   You, sir, are my hero. Any chance you remember...      0\n",
       "5   \"\\n\\nCongratulations from me as well, use the ...      0\n",
       "6        COCKSUCKER BEFORE YOU PISS AROUND ON MY WORK      1\n",
       "7   Your vandalism to the Matt Shirvington article...      0\n",
       "8   Sorry if the word 'nonsense' was offensive to ...      0\n",
       "9   alignment on this subject and which are contra...      0\n",
       "10  \"\\nFair use rationale for Image:Wonju.jpg\\n\\nT...      0\n",
       "11  bbq \\n\\nbe a man and lets discuss it-maybe ove...      0\n",
       "12  Hey... what is it..\\n@ | talk .\\nWhat is it......      1\n",
       "13  Before you start throwing accusations and warn...      0\n",
       "14  Oh, and the girl above started her arguments w...      0\n",
       "15  \"\\n\\nJuelz Santanas Age\\n\\nIn 2002, Juelz Sant...      0\n",
       "16  Bye! \\n\\nDon't look, come or think of comming ...      1\n",
       "17   REDIRECT Talk:Voydan Pop Georgiev- Chernodrinski      0\n",
       "18  The Mitsurugi point made no sense - why not ar...      0\n",
       "19  Don't mean to bother you \\n\\nI see that you're...      0"
      ]
     },
     "execution_count": 18,
     "metadata": {},
     "output_type": "execute_result"
    }
   ],
   "source": [
    "df.head(20)"
   ]
  },
  {
   "cell_type": "markdown",
   "metadata": {
    "id": "XB6NYHCvCTcR",
    "lang": "ru"
   },
   "source": [
    "Заменим основные сокращения английского языка."
   ]
  },
  {
   "cell_type": "markdown",
   "metadata": {
    "lang": "en"
   },
   "source": [
    "Let's replace the main abbreviations of the English language."
   ]
  },
  {
   "cell_type": "code",
   "execution_count": 19,
   "metadata": {
    "id": "pWMukro-CTcR"
   },
   "outputs": [],
   "source": [
    "df['text'] = df['text'].transform(lambda x: x\\\n",
    ".replace(\" won't \", ' will not ')\\\n",
    ".replace(\"can't \", 'cannot ')\\\n",
    ".replace(\"n't \", ' not ')\\\n",
    ".replace(\"'s \", ' is ')\\\n",
    ".replace(\"'m \", ' am ')\\\n",
    ".replace(\"'ll \", ' will ')\\\n",
    ".replace(\"'d \", ' would ') \\\n",
    ".replace(\"'re \", ' are ')\\\n",
    ".replace(\"'ve \", ' have ')\\\n",
    ".replace(\"\\n\", \" \")\n",
    "                                 )\n",
    "# yes, \"'d\" it's a little problem"
   ]
  },
  {
   "cell_type": "code",
   "execution_count": 20,
   "metadata": {
    "colab": {
     "base_uri": "https://localhost:8080/",
     "height": 206
    },
    "id": "Rm65o3XlCTcR",
    "outputId": "8edeee53-2e56-4393-e363-f45d3448c91b"
   },
   "outputs": [
    {
     "data": {
      "text/html": [
       "<div>\n",
       "<style scoped>\n",
       "    .dataframe tbody tr th:only-of-type {\n",
       "        vertical-align: middle;\n",
       "    }\n",
       "\n",
       "    .dataframe tbody tr th {\n",
       "        vertical-align: top;\n",
       "    }\n",
       "\n",
       "    .dataframe thead th {\n",
       "        text-align: right;\n",
       "    }\n",
       "</style>\n",
       "<table border=\"1\" class=\"dataframe\">\n",
       "  <thead>\n",
       "    <tr style=\"text-align: right;\">\n",
       "      <th></th>\n",
       "      <th>text</th>\n",
       "      <th>toxic</th>\n",
       "    </tr>\n",
       "  </thead>\n",
       "  <tbody>\n",
       "    <tr>\n",
       "      <th>0</th>\n",
       "      <td>Explanation Why the edits made under my userna...</td>\n",
       "      <td>0</td>\n",
       "    </tr>\n",
       "    <tr>\n",
       "      <th>1</th>\n",
       "      <td>D'aww! He matches this background colour I am ...</td>\n",
       "      <td>0</td>\n",
       "    </tr>\n",
       "    <tr>\n",
       "      <th>2</th>\n",
       "      <td>Hey man, I am really not trying to edit war. I...</td>\n",
       "      <td>0</td>\n",
       "    </tr>\n",
       "    <tr>\n",
       "      <th>3</th>\n",
       "      <td>\" More I cannot make any real suggestions on i...</td>\n",
       "      <td>0</td>\n",
       "    </tr>\n",
       "    <tr>\n",
       "      <th>4</th>\n",
       "      <td>You, sir, are my hero. Any chance you remember...</td>\n",
       "      <td>0</td>\n",
       "    </tr>\n",
       "  </tbody>\n",
       "</table>\n",
       "</div>"
      ],
      "text/plain": [
       "                                                text  toxic\n",
       "0  Explanation Why the edits made under my userna...      0\n",
       "1  D'aww! He matches this background colour I am ...      0\n",
       "2  Hey man, I am really not trying to edit war. I...      0\n",
       "3  \" More I cannot make any real suggestions on i...      0\n",
       "4  You, sir, are my hero. Any chance you remember...      0"
      ]
     },
     "execution_count": 20,
     "metadata": {},
     "output_type": "execute_result"
    }
   ],
   "source": [
    "df.head()"
   ]
  },
  {
   "cell_type": "markdown",
   "metadata": {
    "id": "AvPLG0LuCTcS",
    "lang": "ru"
   },
   "source": [
    "Переведем текст комментариев в нижний регистр и оставим только английские слова."
   ]
  },
  {
   "cell_type": "markdown",
   "metadata": {
    "lang": "en"
   },
   "source": [
    "Let's convert the text of the comments to lowercase and leave only English words."
   ]
  },
  {
   "cell_type": "code",
   "execution_count": 21,
   "metadata": {
    "id": "XX9VEnfJCTcS"
   },
   "outputs": [],
   "source": [
    "df['text'] = df['text'].apply(str.lower)"
   ]
  },
  {
   "cell_type": "code",
   "execution_count": 22,
   "metadata": {
    "colab": {
     "base_uri": "https://localhost:8080/",
     "height": 206
    },
    "id": "92eGy_PP9T7K",
    "outputId": "5c8c984f-ac89-4d48-e2fb-c53001b4e106"
   },
   "outputs": [
    {
     "data": {
      "text/html": [
       "<div>\n",
       "<style scoped>\n",
       "    .dataframe tbody tr th:only-of-type {\n",
       "        vertical-align: middle;\n",
       "    }\n",
       "\n",
       "    .dataframe tbody tr th {\n",
       "        vertical-align: top;\n",
       "    }\n",
       "\n",
       "    .dataframe thead th {\n",
       "        text-align: right;\n",
       "    }\n",
       "</style>\n",
       "<table border=\"1\" class=\"dataframe\">\n",
       "  <thead>\n",
       "    <tr style=\"text-align: right;\">\n",
       "      <th></th>\n",
       "      <th>text</th>\n",
       "      <th>toxic</th>\n",
       "    </tr>\n",
       "  </thead>\n",
       "  <tbody>\n",
       "    <tr>\n",
       "      <th>0</th>\n",
       "      <td>explanation why the edits made under my userna...</td>\n",
       "      <td>0</td>\n",
       "    </tr>\n",
       "    <tr>\n",
       "      <th>1</th>\n",
       "      <td>d'aww! he matches this background colour i am ...</td>\n",
       "      <td>0</td>\n",
       "    </tr>\n",
       "    <tr>\n",
       "      <th>2</th>\n",
       "      <td>hey man, i am really not trying to edit war. i...</td>\n",
       "      <td>0</td>\n",
       "    </tr>\n",
       "    <tr>\n",
       "      <th>3</th>\n",
       "      <td>\" more i cannot make any real suggestions on i...</td>\n",
       "      <td>0</td>\n",
       "    </tr>\n",
       "    <tr>\n",
       "      <th>4</th>\n",
       "      <td>you, sir, are my hero. any chance you remember...</td>\n",
       "      <td>0</td>\n",
       "    </tr>\n",
       "  </tbody>\n",
       "</table>\n",
       "</div>"
      ],
      "text/plain": [
       "                                                text  toxic\n",
       "0  explanation why the edits made under my userna...      0\n",
       "1  d'aww! he matches this background colour i am ...      0\n",
       "2  hey man, i am really not trying to edit war. i...      0\n",
       "3  \" more i cannot make any real suggestions on i...      0\n",
       "4  you, sir, are my hero. any chance you remember...      0"
      ]
     },
     "execution_count": 22,
     "metadata": {},
     "output_type": "execute_result"
    }
   ],
   "source": [
    "df.head()"
   ]
  },
  {
   "cell_type": "code",
   "execution_count": 23,
   "metadata": {
    "id": "4AqGpobvCTcT"
   },
   "outputs": [],
   "source": [
    "df['text'] = df['text'].transform(lambda x: re.sub(r'[^a-z ]', ' ', x))"
   ]
  },
  {
   "cell_type": "code",
   "execution_count": 24,
   "metadata": {
    "colab": {
     "base_uri": "https://localhost:8080/",
     "height": 206
    },
    "id": "omBNTbDIrmJE",
    "outputId": "f43a7602-e300-44c4-e590-197195f18014"
   },
   "outputs": [
    {
     "data": {
      "text/html": [
       "<div>\n",
       "<style scoped>\n",
       "    .dataframe tbody tr th:only-of-type {\n",
       "        vertical-align: middle;\n",
       "    }\n",
       "\n",
       "    .dataframe tbody tr th {\n",
       "        vertical-align: top;\n",
       "    }\n",
       "\n",
       "    .dataframe thead th {\n",
       "        text-align: right;\n",
       "    }\n",
       "</style>\n",
       "<table border=\"1\" class=\"dataframe\">\n",
       "  <thead>\n",
       "    <tr style=\"text-align: right;\">\n",
       "      <th></th>\n",
       "      <th>text</th>\n",
       "      <th>toxic</th>\n",
       "    </tr>\n",
       "  </thead>\n",
       "  <tbody>\n",
       "    <tr>\n",
       "      <th>0</th>\n",
       "      <td>explanation why the edits made under my userna...</td>\n",
       "      <td>0</td>\n",
       "    </tr>\n",
       "    <tr>\n",
       "      <th>1</th>\n",
       "      <td>d aww  he matches this background colour i am ...</td>\n",
       "      <td>0</td>\n",
       "    </tr>\n",
       "    <tr>\n",
       "      <th>2</th>\n",
       "      <td>hey man  i am really not trying to edit war  i...</td>\n",
       "      <td>0</td>\n",
       "    </tr>\n",
       "    <tr>\n",
       "      <th>3</th>\n",
       "      <td>more i cannot make any real suggestions on i...</td>\n",
       "      <td>0</td>\n",
       "    </tr>\n",
       "    <tr>\n",
       "      <th>4</th>\n",
       "      <td>you  sir  are my hero  any chance you remember...</td>\n",
       "      <td>0</td>\n",
       "    </tr>\n",
       "  </tbody>\n",
       "</table>\n",
       "</div>"
      ],
      "text/plain": [
       "                                                text  toxic\n",
       "0  explanation why the edits made under my userna...      0\n",
       "1  d aww  he matches this background colour i am ...      0\n",
       "2  hey man  i am really not trying to edit war  i...      0\n",
       "3    more i cannot make any real suggestions on i...      0\n",
       "4  you  sir  are my hero  any chance you remember...      0"
      ]
     },
     "execution_count": 24,
     "metadata": {},
     "output_type": "execute_result"
    }
   ],
   "source": [
    "df.head()"
   ]
  },
  {
   "cell_type": "markdown",
   "metadata": {
    "id": "ew2OvRu77g7X",
    "lang": "ru"
   },
   "source": [
    "### Лемматизация / Lemmatization"
   ]
  },
  {
   "cell_type": "markdown",
   "metadata": {
    "id": "0QnmyM_hCTcU",
    "lang": "ru"
   },
   "source": [
    "Проведем лемматизацию комментариев [с соответствующим POS-тегом](https://webdevblog.ru/podhody-lemmatizacii-s-primerami-v-python/)."
   ]
  },
  {
   "cell_type": "markdown",
   "metadata": {
    "lang": "en"
   },
   "source": [
    "Let's lemmatize the comments [with the appropriate POS tag](https://webdevblog.ru/podhody-lemmatizacii-s-primerami-v-python/)."
   ]
  },
  {
   "cell_type": "code",
   "execution_count": 25,
   "metadata": {
    "id": "tnYcrtwxCTcV"
   },
   "outputs": [],
   "source": [
    "def get_wordnet_pos(word):\n",
    "    \"\"\"Map POS tag to first character lemmatize() accepts\"\"\"\n",
    "    tag = nltk.pos_tag([word])[0][1][0].upper()\n",
    "    tag_dict = {\"J\": wordnet.ADJ,\n",
    "                \"N\": wordnet.NOUN,\n",
    "                \"V\": wordnet.VERB,\n",
    "                \"R\": wordnet.ADV}\n",
    "    return tag_dict.get(tag, wordnet.NOUN)"
   ]
  },
  {
   "cell_type": "code",
   "execution_count": 26,
   "metadata": {
    "id": "_HKGAjxiCTcV"
   },
   "outputs": [],
   "source": [
    "lemmatizer = WordNetLemmatizer()"
   ]
  },
  {
   "cell_type": "markdown",
   "metadata": {
    "lang": "ru"
   },
   "source": [
    "Лемматизация занимает примерно 22 минуты, поэтому мы однажды прогнали этот код и выгрузили новый `.csv` файл с уже лемматизированным текстом. Теперь мы код лемматизации закомментируем и подгрузим с Гугл диска уже готовый документ с лемматизацией."
   ]
  },
  {
   "cell_type": "markdown",
   "metadata": {
    "lang": "en"
   },
   "source": [
    "Lemmatization takes about 22 minutes, so we ran this code one day and uploaded a new `.csv` file with text already lemmatized. Now we will comment out the lemmatization code and upload a ready-made document with lemmatization from Google Drive."
   ]
  },
  {
   "cell_type": "code",
   "execution_count": 27,
   "metadata": {
    "colab": {
     "base_uri": "https://localhost:8080/"
    },
    "id": "yhOKgV9gCTcV",
    "outputId": "0d0c9960-f911-4b46-d379-33e656e2d47c",
    "scrolled": true
   },
   "outputs": [],
   "source": [
    "# %%time\n",
    "# df['text'] = df['text'].transform(lambda x: ' '.join([lemmatizer.lemmatize(w, get_wordnet_pos(w)) for w in x.split()]))"
   ]
  },
  {
   "cell_type": "code",
   "execution_count": 28,
   "metadata": {},
   "outputs": [],
   "source": [
    "try:\n",
    "    df = pd.read_csv(path4,\n",
    "                    index_col=0)\n",
    "except Exception as err:\n",
    "    try:\n",
    "        df = pd.read_csv(url, \n",
    "                         index_col=0\n",
    "#                          engine='python'\n",
    "                        )\n",
    "    except Exception as err:\n",
    "        print('File reading error:', repr(err))"
   ]
  },
  {
   "cell_type": "code",
   "execution_count": 29,
   "metadata": {
    "scrolled": true
   },
   "outputs": [
    {
     "data": {
      "text/html": [
       "<div>\n",
       "<style scoped>\n",
       "    .dataframe tbody tr th:only-of-type {\n",
       "        vertical-align: middle;\n",
       "    }\n",
       "\n",
       "    .dataframe tbody tr th {\n",
       "        vertical-align: top;\n",
       "    }\n",
       "\n",
       "    .dataframe thead th {\n",
       "        text-align: right;\n",
       "    }\n",
       "</style>\n",
       "<table border=\"1\" class=\"dataframe\">\n",
       "  <thead>\n",
       "    <tr style=\"text-align: right;\">\n",
       "      <th></th>\n",
       "      <th>text</th>\n",
       "      <th>toxic</th>\n",
       "    </tr>\n",
       "  </thead>\n",
       "  <tbody>\n",
       "    <tr>\n",
       "      <th>0</th>\n",
       "      <td>explanation why the edits make under my userna...</td>\n",
       "      <td>0</td>\n",
       "    </tr>\n",
       "    <tr>\n",
       "      <th>1</th>\n",
       "      <td>d aww he match this background colour i be see...</td>\n",
       "      <td>0</td>\n",
       "    </tr>\n",
       "    <tr>\n",
       "      <th>2</th>\n",
       "      <td>hey man i be really not try to edit war it be ...</td>\n",
       "      <td>0</td>\n",
       "    </tr>\n",
       "    <tr>\n",
       "      <th>3</th>\n",
       "      <td>more i cannot make any real suggestion on impr...</td>\n",
       "      <td>0</td>\n",
       "    </tr>\n",
       "    <tr>\n",
       "      <th>4</th>\n",
       "      <td>you sir be my hero any chance you remember wha...</td>\n",
       "      <td>0</td>\n",
       "    </tr>\n",
       "  </tbody>\n",
       "</table>\n",
       "</div>"
      ],
      "text/plain": [
       "                                                text  toxic\n",
       "0  explanation why the edits make under my userna...      0\n",
       "1  d aww he match this background colour i be see...      0\n",
       "2  hey man i be really not try to edit war it be ...      0\n",
       "3  more i cannot make any real suggestion on impr...      0\n",
       "4  you sir be my hero any chance you remember wha...      0"
      ]
     },
     "execution_count": 29,
     "metadata": {},
     "output_type": "execute_result"
    }
   ],
   "source": [
    "df.head()"
   ]
  },
  {
   "cell_type": "markdown",
   "metadata": {
    "lang": "ru"
   },
   "source": [
    "После предобработки проверим таблицу на пропуски."
   ]
  },
  {
   "cell_type": "markdown",
   "metadata": {
    "lang": "en"
   },
   "source": [
    "After preprocessing, check the table for missing data."
   ]
  },
  {
   "cell_type": "code",
   "execution_count": 30,
   "metadata": {},
   "outputs": [],
   "source": [
    "def display_missing(data):\n",
    "    try:\n",
    "        display(data.stb.missing(style=True))\n",
    "    except Exception as err:\n",
    "        try:\n",
    "            display(data.isna().sum())\n",
    "        except Exception as err:\n",
    "            print('File reading error:', repr(err))"
   ]
  },
  {
   "cell_type": "code",
   "execution_count": 31,
   "metadata": {},
   "outputs": [
    {
     "data": {
      "text/html": [
       "<style  type=\"text/css\" >\n",
       "</style><table id=\"T_fb0d1_\" ><thead>    <tr>        <th class=\"blank level0\" ></th>        <th class=\"col_heading level0 col0\" >missing</th>        <th class=\"col_heading level0 col1\" >total</th>        <th class=\"col_heading level0 col2\" >percent</th>    </tr></thead><tbody>\n",
       "                <tr>\n",
       "                        <th id=\"T_fb0d1_level0_row0\" class=\"row_heading level0 row0\" >text</th>\n",
       "                        <td id=\"T_fb0d1_row0_col0\" class=\"data row0 col0\" >93</td>\n",
       "                        <td id=\"T_fb0d1_row0_col1\" class=\"data row0 col1\" >159,571</td>\n",
       "                        <td id=\"T_fb0d1_row0_col2\" class=\"data row0 col2\" >0.06%</td>\n",
       "            </tr>\n",
       "            <tr>\n",
       "                        <th id=\"T_fb0d1_level0_row1\" class=\"row_heading level0 row1\" >toxic</th>\n",
       "                        <td id=\"T_fb0d1_row1_col0\" class=\"data row1 col0\" >0</td>\n",
       "                        <td id=\"T_fb0d1_row1_col1\" class=\"data row1 col1\" >159,571</td>\n",
       "                        <td id=\"T_fb0d1_row1_col2\" class=\"data row1 col2\" >0.00%</td>\n",
       "            </tr>\n",
       "    </tbody></table>"
      ],
      "text/plain": [
       "<pandas.io.formats.style.Styler at 0x1da0364d9a0>"
      ]
     },
     "metadata": {},
     "output_type": "display_data"
    }
   ],
   "source": [
    "display_missing(df)"
   ]
  },
  {
   "cell_type": "markdown",
   "metadata": {
    "id": "kxUTiOhBXqAi",
    "lang": "ru"
   },
   "source": [
    "Удалим образовавшиеся пропуски в данных после удаления ссылок и/или стоп-слов."
   ]
  },
  {
   "cell_type": "markdown",
   "metadata": {
    "lang": "en"
   },
   "source": [
    "Let's remove the resulting missing data after removing links and/or stop words."
   ]
  },
  {
   "cell_type": "code",
   "execution_count": 32,
   "metadata": {
    "colab": {
     "base_uri": "https://localhost:8080/"
    },
    "id": "2ERP8Dja9YFP",
    "outputId": "79a6a5f3-fac4-4173-9ad7-d1d8e46101d7",
    "scrolled": true
   },
   "outputs": [],
   "source": [
    "df.dropna(inplace=True)"
   ]
  },
  {
   "cell_type": "markdown",
   "metadata": {
    "id": "kxUTiOhBXqAi",
    "lang": "ru"
   },
   "source": [
    "Разделим данные на тренировочный, валидационный и тестовый набор."
   ]
  },
  {
   "cell_type": "markdown",
   "metadata": {
    "lang": "en"
   },
   "source": [
    "Let's divide the data into training, validation and test sets."
   ]
  },
  {
   "cell_type": "code",
   "execution_count": 33,
   "metadata": {
    "id": "82A4N5NfXljf"
   },
   "outputs": [],
   "source": [
    "X_train_valid, X_test, target_train_valid, target_test = train_test_split(\n",
    "    df['text'],\n",
    "    df['toxic'],\n",
    "    test_size=0.2,\n",
    "    random_state=STATE,\n",
    "    stratify=df['toxic']\n",
    ") \n",
    "X_train, X_valid, target_train, target_valid = train_test_split(\n",
    "    X_train_valid,\n",
    "    target_train_valid,\n",
    "    test_size=0.25,\n",
    "    random_state=STATE,\n",
    "    stratify=target_train_valid\n",
    ") "
   ]
  },
  {
   "cell_type": "markdown",
   "metadata": {
    "lang": "ru"
   },
   "source": [
    "Проверим процентное содержание токсичных комментариев в каждой из выборок."
   ]
  },
  {
   "cell_type": "markdown",
   "metadata": {
    "lang": "en"
   },
   "source": [
    "Let's check the percentage of toxic comments in each of the samples."
   ]
  },
  {
   "cell_type": "code",
   "execution_count": 34,
   "metadata": {
    "colab": {
     "base_uri": "https://localhost:8080/"
    },
    "id": "8A_vuVg8nFHo",
    "outputId": "2889d11b-94af-444c-f5a7-7cc3939e4ad5",
    "scrolled": true
   },
   "outputs": [
    {
     "data": {
      "text/plain": [
       "(0.10169146117790911,\n",
       " 0.10168676713416801,\n",
       " 0.10170554301479809,\n",
       " 0.10167419112114372)"
      ]
     },
     "execution_count": 34,
     "metadata": {},
     "output_type": "execute_result"
    }
   ],
   "source": [
    "target_train_valid.mean(), target_train.mean(), target_valid.mean(), target_test.mean()"
   ]
  },
  {
   "cell_type": "markdown",
   "metadata": {
    "lang": "ru"
   },
   "source": [
    "В каждой выборке примерно по 10% токсичных комментариев, что согласуется с общей таблицей."
   ]
  },
  {
   "cell_type": "markdown",
   "metadata": {
    "lang": "en"
   },
   "source": [
    "Each sample contains approximately 10% of toxic comments, which is consistent with the overall table."
   ]
  },
  {
   "cell_type": "markdown",
   "metadata": {
    "id": "CyeIIP5wpqn7",
    "lang": "ru"
   },
   "source": [
    "### Масштабирование данных с помощью TF-IDF / Data scaling with TF-IDF"
   ]
  },
  {
   "cell_type": "markdown",
   "metadata": {
    "id": "zqpB7VCeCTcU",
    "lang": "ru"
   },
   "source": [
    "При построении пайплайна будем проводить токенизацию комментариев с построением словаря важности известных слов, использовав стоп-слова."
   ]
  },
  {
   "cell_type": "markdown",
   "metadata": {
    "lang": "en"
   },
   "source": [
    "When building a pipeline, we will tokenize comments with the construction of a dictionary of the importance of known words using stop words."
   ]
  },
  {
   "cell_type": "code",
   "execution_count": 35,
   "metadata": {
    "id": "ApK2AHUC_Ooi",
    "scrolled": false
   },
   "outputs": [],
   "source": [
    "stop_words = set(stopwords.words('english'))\n",
    "\n",
    "stop_words = set([lemmatizer.lemmatize(w, get_wordnet_pos(w)) for w in stop_words])"
   ]
  },
  {
   "cell_type": "code",
   "execution_count": 36,
   "metadata": {
    "id": "vJdj8zWApoyr"
   },
   "outputs": [],
   "source": [
    "count_tf_idf = TfidfVectorizer()"
   ]
  },
  {
   "cell_type": "markdown",
   "metadata": {
    "lang": "ru"
   },
   "source": [
    "Выведем размер получившихся выборок."
   ]
  },
  {
   "cell_type": "markdown",
   "metadata": {
    "lang": "en"
   },
   "source": [
    "Let's look at the size of the resulting sets."
   ]
  },
  {
   "cell_type": "code",
   "execution_count": 37,
   "metadata": {
    "colab": {
     "base_uri": "https://localhost:8080/"
    },
    "id": "aghSIXA5tUX7",
    "outputId": "86b9b77c-c604-41ca-f111-dcea65b33d99"
   },
   "outputs": [
    {
     "data": {
      "text/plain": [
       "((95686,), (31896,), (127582,), (31896,))"
      ]
     },
     "execution_count": 37,
     "metadata": {},
     "output_type": "execute_result"
    }
   ],
   "source": [
    "X_train.shape, X_valid.shape, X_train_valid.shape, X_test.shape "
   ]
  },
  {
   "cell_type": "markdown",
   "metadata": {
    "id": "TWsII1KnCTcY",
    "lang": "ru"
   },
   "source": [
    "## Обучение / Training"
   ]
  },
  {
   "cell_type": "markdown",
   "metadata": {
    "id": "S3jPLRaF0dyn",
    "lang": "ru"
   },
   "source": [
    "### Качество прогноза / Forecast quality"
   ]
  },
  {
   "cell_type": "markdown",
   "metadata": {
    "id": "4OKsTER70fhb",
    "lang": "ru"
   },
   "source": [
    "Для обучения моделей нам понадобится оценить качество прогноза.\n",
    "\n",
    "У нас есть четкое требование к качеству: значение метрики качества `F1` не меньше 0.75. "
   ]
  },
  {
   "cell_type": "markdown",
   "metadata": {
    "lang": "en"
   },
   "source": [
    "To train the models, we need to evaluate the quality of the forecast.\n",
    "\n",
    "We have a clear quality requirement: the value of the quality metric `F1` is at least 0.75."
   ]
  },
  {
   "cell_type": "code",
   "execution_count": 38,
   "metadata": {
    "colab": {
     "base_uri": "https://localhost:8080/"
    },
    "id": "3IG6en4D02ve",
    "outputId": "e7d4eebf-a24f-4791-f2d0-0225ab9e42cf",
    "scrolled": true
   },
   "outputs": [
    {
     "name": "stdout",
     "output_type": "stream",
     "text": [
      "Metrics of the baseline model:\n",
      "F1: 0.108\n",
      "accuracy: 0.815\n"
     ]
    }
   ],
   "source": [
    "dummy = DummyClassifier(\n",
    "    strategy = 'stratified', \n",
    "    random_state = STATE\n",
    "    )\n",
    "dummy.fit(X_train, target_train)\n",
    "\n",
    "f1_dummy = f1_score(target_valid, dummy.predict(X_valid))\n",
    "\n",
    "score = dummy.score(X_valid, target_valid)\n",
    "print(f'Metrics of the baseline model:\\nF1: {f1_dummy:.3f}\\naccuracy: {score:.3f}')"
   ]
  },
  {
   "cell_type": "markdown",
   "metadata": {
    "lang": "ru"
   },
   "source": [
    "Видим, что модель точно предсказала токсичность 82% комментариев, однако метрика F1 достаточно низкая, похоже, имеем дело с большим количеством ошибок первого и второго рода."
   ]
  },
  {
   "cell_type": "markdown",
   "metadata": {
    "lang": "en"
   },
   "source": [
    "We see that the model accurately predicted the toxicity of 82% of comments, however, the F1 metric is quite low, it seems that we are dealing with a large number of errors of the first and second types."
   ]
  },
  {
   "cell_type": "markdown",
   "metadata": {
    "lang": "ru"
   },
   "source": [
    "Оформим результат в таблицу."
   ]
  },
  {
   "cell_type": "markdown",
   "metadata": {
    "lang": "en"
   },
   "source": [
    "Let's put the result in a table."
   ]
  },
  {
   "cell_type": "code",
   "execution_count": 39,
   "metadata": {
    "colab": {
     "base_uri": "https://localhost:8080/",
     "height": 81
    },
    "id": "Qmjmo4jz0aP3",
    "outputId": "a821889c-f7de-41cc-9366-0c5bc1b13d6d"
   },
   "outputs": [
    {
     "data": {
      "text/html": [
       "<div>\n",
       "<style scoped>\n",
       "    .dataframe tbody tr th:only-of-type {\n",
       "        vertical-align: middle;\n",
       "    }\n",
       "\n",
       "    .dataframe tbody tr th {\n",
       "        vertical-align: top;\n",
       "    }\n",
       "\n",
       "    .dataframe thead th {\n",
       "        text-align: right;\n",
       "    }\n",
       "</style>\n",
       "<table border=\"1\" class=\"dataframe\">\n",
       "  <thead>\n",
       "    <tr style=\"text-align: right;\">\n",
       "      <th></th>\n",
       "      <th>valid_F1</th>\n",
       "    </tr>\n",
       "  </thead>\n",
       "  <tbody>\n",
       "    <tr>\n",
       "      <th>dummy</th>\n",
       "      <td>0.108</td>\n",
       "    </tr>\n",
       "  </tbody>\n",
       "</table>\n",
       "</div>"
      ],
      "text/plain": [
       "      valid_F1\n",
       "dummy    0.108"
      ]
     },
     "execution_count": 39,
     "metadata": {},
     "output_type": "execute_result"
    }
   ],
   "source": [
    "results = pd.DataFrame(columns=['valid_F1'])\n",
    "results.loc['dummy', 'valid_F1'] = round(f1_dummy, 3)\n",
    "results"
   ]
  },
  {
   "cell_type": "markdown",
   "metadata": {
    "id": "U6At3rfwwJtk",
    "lang": "ru"
   },
   "source": [
    "### Модель логистической регрессии / Logistic regression model"
   ]
  },
  {
   "cell_type": "markdown",
   "metadata": {
    "id": "kwnCBr305jkY",
    "lang": "ru"
   },
   "source": [
    "Построим пайплайн для модели логистической регрессии.\n",
    "\n",
    "Для модели будем использовать только те токены, которые встречаются по крайней мере в **трех документах** (токен, который встретился только в одном-двух документах, вряд ли встретится в тестовом наборе и поэтому бесполезен). С помощью параметра `min_df` мы можем задать минимальное количество документов, в котором должен появиться токен.\n",
    "\n"
   ]
  },
  {
   "cell_type": "markdown",
   "metadata": {
    "lang": "en"
   },
   "source": [
    "Let's build a pipeline for the logistic regression model.\n",
    "\n",
    "For the model, we will use only those tokens that occur in at least **three documents** (a token that occurs only in one or two documents is unlikely to occur in the test set and is therefore useless). With the `min_df` parameter, we can set the minimum number of documents in which the token should appear."
   ]
  },
  {
   "cell_type": "code",
   "execution_count": 40,
   "metadata": {
    "id": "EB8PrDQrwIxU"
   },
   "outputs": [],
   "source": [
    "pipe_lr = Pipeline([\n",
    "    ('vectorizer', count_tf_idf),\n",
    "    ('model', LogisticRegression()),\n",
    "\n",
    "])\n",
    "\n",
    "params_lr = [\n",
    "    {\n",
    "        'vectorizer__stop_words': [stop_words],\n",
    "        'vectorizer__ngram_range': [(1, 2)],\n",
    "        'vectorizer__min_df': [3],\n",
    "        'vectorizer__max_df': [\n",
    "                               0.7, \n",
    "                              #  0.8\n",
    "                               ],\n",
    "        # 'vectorizer__max_features': [80000, None],\n",
    "        'model': [LogisticRegression()],\n",
    "        # 'model__solver': ['saga'],\n",
    "#         'model__class_weight': ['balanced', {0:1, 1:3}],\n",
    "        'model__class_weight': [{0:1, 1:3}],\n",
    "        'model__n_jobs': [-1],\n",
    "        'model__random_state': [STATE],\n",
    "        # 'model__C': np.logspace(-3,3,7), # before\n",
    "        # # 'model__C': [0.01], # after\n",
    "        # 'model__penalty': [\n",
    "                          #  'elasticnet', \n",
    "                          #  'l1', \n",
    "                          #  'l2', \n",
    "                          #  'none'\n",
    "                          #  ], # before\n",
    "        # # 'model__penalty': ['l1'], # after\n",
    "        'model__max_iter': [100000]\n",
    "\n",
    "    },\n",
    "]\n",
    "\n",
    "# cv = StratifiedKFold(n_splits=3, shuffle=True, random_state=STATE)\n",
    "cv = KFold(n_splits=3, shuffle=True, random_state=STATE)"
   ]
  },
  {
   "cell_type": "code",
   "execution_count": 41,
   "metadata": {
    "id": "0Extt-tVBLKW"
   },
   "outputs": [],
   "source": [
    "grid_lr = GridSearchCV(pipe_lr, param_grid=params_lr, cv=cv, n_jobs=-1, scoring='f1', verbose=2)"
   ]
  },
  {
   "cell_type": "code",
   "execution_count": 42,
   "metadata": {
    "colab": {
     "base_uri": "https://localhost:8080/"
    },
    "id": "LdCKEP1kDb3F",
    "outputId": "ea170f7e-a247-467b-88e9-df4974c74427",
    "scrolled": false
   },
   "outputs": [
    {
     "name": "stdout",
     "output_type": "stream",
     "text": [
      "Fitting 3 folds for each of 1 candidates, totalling 3 fits\n",
      "Wall time: 1min 10s\n"
     ]
    },
    {
     "data": {
      "text/html": [
       "<style>#sk-container-id-1 {color: black;background-color: white;}#sk-container-id-1 pre{padding: 0;}#sk-container-id-1 div.sk-toggleable {background-color: white;}#sk-container-id-1 label.sk-toggleable__label {cursor: pointer;display: block;width: 100%;margin-bottom: 0;padding: 0.3em;box-sizing: border-box;text-align: center;}#sk-container-id-1 label.sk-toggleable__label-arrow:before {content: \"▸\";float: left;margin-right: 0.25em;color: #696969;}#sk-container-id-1 label.sk-toggleable__label-arrow:hover:before {color: black;}#sk-container-id-1 div.sk-estimator:hover label.sk-toggleable__label-arrow:before {color: black;}#sk-container-id-1 div.sk-toggleable__content {max-height: 0;max-width: 0;overflow: hidden;text-align: left;background-color: #f0f8ff;}#sk-container-id-1 div.sk-toggleable__content pre {margin: 0.2em;color: black;border-radius: 0.25em;background-color: #f0f8ff;}#sk-container-id-1 input.sk-toggleable__control:checked~div.sk-toggleable__content {max-height: 200px;max-width: 100%;overflow: auto;}#sk-container-id-1 input.sk-toggleable__control:checked~label.sk-toggleable__label-arrow:before {content: \"▾\";}#sk-container-id-1 div.sk-estimator input.sk-toggleable__control:checked~label.sk-toggleable__label {background-color: #d4ebff;}#sk-container-id-1 div.sk-label input.sk-toggleable__control:checked~label.sk-toggleable__label {background-color: #d4ebff;}#sk-container-id-1 input.sk-hidden--visually {border: 0;clip: rect(1px 1px 1px 1px);clip: rect(1px, 1px, 1px, 1px);height: 1px;margin: -1px;overflow: hidden;padding: 0;position: absolute;width: 1px;}#sk-container-id-1 div.sk-estimator {font-family: monospace;background-color: #f0f8ff;border: 1px dotted black;border-radius: 0.25em;box-sizing: border-box;margin-bottom: 0.5em;}#sk-container-id-1 div.sk-estimator:hover {background-color: #d4ebff;}#sk-container-id-1 div.sk-parallel-item::after {content: \"\";width: 100%;border-bottom: 1px solid gray;flex-grow: 1;}#sk-container-id-1 div.sk-label:hover label.sk-toggleable__label {background-color: #d4ebff;}#sk-container-id-1 div.sk-serial::before {content: \"\";position: absolute;border-left: 1px solid gray;box-sizing: border-box;top: 0;bottom: 0;left: 50%;z-index: 0;}#sk-container-id-1 div.sk-serial {display: flex;flex-direction: column;align-items: center;background-color: white;padding-right: 0.2em;padding-left: 0.2em;position: relative;}#sk-container-id-1 div.sk-item {position: relative;z-index: 1;}#sk-container-id-1 div.sk-parallel {display: flex;align-items: stretch;justify-content: center;background-color: white;position: relative;}#sk-container-id-1 div.sk-item::before, #sk-container-id-1 div.sk-parallel-item::before {content: \"\";position: absolute;border-left: 1px solid gray;box-sizing: border-box;top: 0;bottom: 0;left: 50%;z-index: -1;}#sk-container-id-1 div.sk-parallel-item {display: flex;flex-direction: column;z-index: 1;position: relative;background-color: white;}#sk-container-id-1 div.sk-parallel-item:first-child::after {align-self: flex-end;width: 50%;}#sk-container-id-1 div.sk-parallel-item:last-child::after {align-self: flex-start;width: 50%;}#sk-container-id-1 div.sk-parallel-item:only-child::after {width: 0;}#sk-container-id-1 div.sk-dashed-wrapped {border: 1px dashed gray;margin: 0 0.4em 0.5em 0.4em;box-sizing: border-box;padding-bottom: 0.4em;background-color: white;}#sk-container-id-1 div.sk-label label {font-family: monospace;font-weight: bold;display: inline-block;line-height: 1.2em;}#sk-container-id-1 div.sk-label-container {text-align: center;}#sk-container-id-1 div.sk-container {/* jupyter's `normalize.less` sets `[hidden] { display: none; }` but bootstrap.min.css set `[hidden] { display: none !important; }` so we also need the `!important` here to be able to override the default hidden behavior on the sphinx rendered scikit-learn.org. See: https://github.com/scikit-learn/scikit-learn/issues/21755 */display: inline-block !important;position: relative;}#sk-container-id-1 div.sk-text-repr-fallback {display: none;}</style><div id=\"sk-container-id-1\" class=\"sk-top-container\"><div class=\"sk-text-repr-fallback\"><pre>GridSearchCV(cv=KFold(n_splits=3, random_state=12345, shuffle=True),\n",
       "             estimator=Pipeline(steps=[(&#x27;vectorizer&#x27;, TfidfVectorizer()),\n",
       "                                       (&#x27;model&#x27;, LogisticRegression())]),\n",
       "             n_jobs=-1,\n",
       "             param_grid=[{&#x27;model&#x27;: [LogisticRegression(class_weight={0: 1,\n",
       "                                                                     1: 3},\n",
       "                                                       max_iter=100000,\n",
       "                                                       n_jobs=-1,\n",
       "                                                       random_state=12345)],\n",
       "                          &#x27;model__class_weight&#x27;: [{0: 1, 1: 3}],\n",
       "                          &#x27;model__max_iter&#x27;: [100000], &#x27;model__n_...\n",
       "                          &#x27;vectorizer__max_df&#x27;: [0.7],\n",
       "                          &#x27;vectorizer__min_df&#x27;: [3],\n",
       "                          &#x27;vectorizer__ngram_range&#x27;: [(1, 2)],\n",
       "                          &#x27;vectorizer__stop_words&#x27;: [{&#x27;a&#x27;, &#x27;about&#x27;, &#x27;above&#x27;,\n",
       "                                                      &#x27;after&#x27;, &#x27;again&#x27;,\n",
       "                                                      &#x27;against&#x27;, &#x27;ain&#x27;, &#x27;all&#x27;,\n",
       "                                                      &#x27;an&#x27;, &#x27;and&#x27;, &#x27;any&#x27;,\n",
       "                                                      &#x27;aren&#x27;, &quot;aren&#x27;t&quot;, &#x27;at&#x27;,\n",
       "                                                      &#x27;be&#x27;, &#x27;because&#x27;, &#x27;before&#x27;,\n",
       "                                                      &#x27;below&#x27;, &#x27;between&#x27;,\n",
       "                                                      &#x27;both&#x27;, &#x27;but&#x27;, &#x27;by&#x27;,\n",
       "                                                      &#x27;can&#x27;, &#x27;couldn&#x27;,\n",
       "                                                      &quot;couldn&#x27;t&quot;, &#x27;d&#x27;, &#x27;didn&#x27;,\n",
       "                                                      &quot;didn&#x27;t&quot;, &#x27;do&#x27;, &#x27;doesn&#x27;, ...}]}],\n",
       "             scoring=&#x27;f1&#x27;, verbose=2)</pre><b>In a Jupyter environment, please rerun this cell to show the HTML representation or trust the notebook. <br />On GitHub, the HTML representation is unable to render, please try loading this page with nbviewer.org.</b></div><div class=\"sk-container\" hidden><div class=\"sk-item sk-dashed-wrapped\"><div class=\"sk-label-container\"><div class=\"sk-label sk-toggleable\"><input class=\"sk-toggleable__control sk-hidden--visually\" id=\"sk-estimator-id-1\" type=\"checkbox\" ><label for=\"sk-estimator-id-1\" class=\"sk-toggleable__label sk-toggleable__label-arrow\">GridSearchCV</label><div class=\"sk-toggleable__content\"><pre>GridSearchCV(cv=KFold(n_splits=3, random_state=12345, shuffle=True),\n",
       "             estimator=Pipeline(steps=[(&#x27;vectorizer&#x27;, TfidfVectorizer()),\n",
       "                                       (&#x27;model&#x27;, LogisticRegression())]),\n",
       "             n_jobs=-1,\n",
       "             param_grid=[{&#x27;model&#x27;: [LogisticRegression(class_weight={0: 1,\n",
       "                                                                     1: 3},\n",
       "                                                       max_iter=100000,\n",
       "                                                       n_jobs=-1,\n",
       "                                                       random_state=12345)],\n",
       "                          &#x27;model__class_weight&#x27;: [{0: 1, 1: 3}],\n",
       "                          &#x27;model__max_iter&#x27;: [100000], &#x27;model__n_...\n",
       "                          &#x27;vectorizer__max_df&#x27;: [0.7],\n",
       "                          &#x27;vectorizer__min_df&#x27;: [3],\n",
       "                          &#x27;vectorizer__ngram_range&#x27;: [(1, 2)],\n",
       "                          &#x27;vectorizer__stop_words&#x27;: [{&#x27;a&#x27;, &#x27;about&#x27;, &#x27;above&#x27;,\n",
       "                                                      &#x27;after&#x27;, &#x27;again&#x27;,\n",
       "                                                      &#x27;against&#x27;, &#x27;ain&#x27;, &#x27;all&#x27;,\n",
       "                                                      &#x27;an&#x27;, &#x27;and&#x27;, &#x27;any&#x27;,\n",
       "                                                      &#x27;aren&#x27;, &quot;aren&#x27;t&quot;, &#x27;at&#x27;,\n",
       "                                                      &#x27;be&#x27;, &#x27;because&#x27;, &#x27;before&#x27;,\n",
       "                                                      &#x27;below&#x27;, &#x27;between&#x27;,\n",
       "                                                      &#x27;both&#x27;, &#x27;but&#x27;, &#x27;by&#x27;,\n",
       "                                                      &#x27;can&#x27;, &#x27;couldn&#x27;,\n",
       "                                                      &quot;couldn&#x27;t&quot;, &#x27;d&#x27;, &#x27;didn&#x27;,\n",
       "                                                      &quot;didn&#x27;t&quot;, &#x27;do&#x27;, &#x27;doesn&#x27;, ...}]}],\n",
       "             scoring=&#x27;f1&#x27;, verbose=2)</pre></div></div></div><div class=\"sk-parallel\"><div class=\"sk-parallel-item\"><div class=\"sk-item\"><div class=\"sk-label-container\"><div class=\"sk-label sk-toggleable\"><input class=\"sk-toggleable__control sk-hidden--visually\" id=\"sk-estimator-id-2\" type=\"checkbox\" ><label for=\"sk-estimator-id-2\" class=\"sk-toggleable__label sk-toggleable__label-arrow\">estimator: Pipeline</label><div class=\"sk-toggleable__content\"><pre>Pipeline(steps=[(&#x27;vectorizer&#x27;, TfidfVectorizer()),\n",
       "                (&#x27;model&#x27;, LogisticRegression())])</pre></div></div></div><div class=\"sk-serial\"><div class=\"sk-item\"><div class=\"sk-serial\"><div class=\"sk-item\"><div class=\"sk-estimator sk-toggleable\"><input class=\"sk-toggleable__control sk-hidden--visually\" id=\"sk-estimator-id-3\" type=\"checkbox\" ><label for=\"sk-estimator-id-3\" class=\"sk-toggleable__label sk-toggleable__label-arrow\">TfidfVectorizer</label><div class=\"sk-toggleable__content\"><pre>TfidfVectorizer()</pre></div></div></div><div class=\"sk-item\"><div class=\"sk-estimator sk-toggleable\"><input class=\"sk-toggleable__control sk-hidden--visually\" id=\"sk-estimator-id-4\" type=\"checkbox\" ><label for=\"sk-estimator-id-4\" class=\"sk-toggleable__label sk-toggleable__label-arrow\">LogisticRegression</label><div class=\"sk-toggleable__content\"><pre>LogisticRegression()</pre></div></div></div></div></div></div></div></div></div></div></div></div>"
      ],
      "text/plain": [
       "GridSearchCV(cv=KFold(n_splits=3, random_state=12345, shuffle=True),\n",
       "             estimator=Pipeline(steps=[('vectorizer', TfidfVectorizer()),\n",
       "                                       ('model', LogisticRegression())]),\n",
       "             n_jobs=-1,\n",
       "             param_grid=[{'model': [LogisticRegression(class_weight={0: 1,\n",
       "                                                                     1: 3},\n",
       "                                                       max_iter=100000,\n",
       "                                                       n_jobs=-1,\n",
       "                                                       random_state=12345)],\n",
       "                          'model__class_weight': [{0: 1, 1: 3}],\n",
       "                          'model__max_iter': [100000], 'model__n_...\n",
       "                          'vectorizer__max_df': [0.7],\n",
       "                          'vectorizer__min_df': [3],\n",
       "                          'vectorizer__ngram_range': [(1, 2)],\n",
       "                          'vectorizer__stop_words': [{'a', 'about', 'above',\n",
       "                                                      'after', 'again',\n",
       "                                                      'against', 'ain', 'all',\n",
       "                                                      'an', 'and', 'any',\n",
       "                                                      'aren', \"aren't\", 'at',\n",
       "                                                      'be', 'because', 'before',\n",
       "                                                      'below', 'between',\n",
       "                                                      'both', 'but', 'by',\n",
       "                                                      'can', 'couldn',\n",
       "                                                      \"couldn't\", 'd', 'didn',\n",
       "                                                      \"didn't\", 'do', 'doesn', ...}]}],\n",
       "             scoring='f1', verbose=2)"
      ]
     },
     "execution_count": 42,
     "metadata": {},
     "output_type": "execute_result"
    }
   ],
   "source": [
    "%%time\n",
    "grid_lr.fit(X_train_valid, target_train_valid)"
   ]
  },
  {
   "cell_type": "code",
   "execution_count": 43,
   "metadata": {
    "colab": {
     "base_uri": "https://localhost:8080/"
    },
    "id": "o8Qh4X9ZHYaf",
    "outputId": "0290888c-a9c3-4400-8383-4ececd00c82e"
   },
   "outputs": [
    {
     "name": "stdout",
     "output_type": "stream",
     "text": [
      "Best Params: {'model': LogisticRegression(class_weight={0: 1, 1: 3}, max_iter=100000, n_jobs=-1,\n",
      "                   random_state=12345), 'model__class_weight': {0: 1, 1: 3}, 'model__max_iter': 100000, 'model__n_jobs': -1, 'model__random_state': 12345, 'vectorizer__max_df': 0.7, 'vectorizer__min_df': 3, 'vectorizer__ngram_range': (1, 2), 'vectorizer__stop_words': {'hers', 'when', 'wasn', \"needn't\", 'me', 'couldn', 'for', 'these', 'm', \"it's\", 'ourselves', 'yourselves', 'so', 'hadn', 'my', 'yourself', 'during', 'd', \"hadn't\", 'not', 'have', 'any', \"wouldn't\", 'over', 'where', \"don't\", 'isn', 'do', 'some', 'mightn', \"couldn't\", 'no', 'those', 'it', 'ain', 'only', 'on', 't', \"shouldn't\", 'both', 'll', 'haven', 'then', 'to', 'again', 'own', \"mightn't\", 'because', 'don', 'at', 'out', 'until', \"you'll\", 'their', 'i', \"didn't\", 'our', 'shan', \"won't\", 'here', 'under', 'we', 'aren', 'down', 'needn', \"shan't\", 'wouldn', 'her', 'off', 'few', 'him', 'themselves', \"doesn't\", 'mustn', 'o', 'hasn', 'most', 'will', 'if', 'they', 'them', 'myself', 'this', 'now', 'theirs', 'after', 'but', \"should've\", 'what', 'herself', 'before', \"you've\", \"she's\", 'yours', 'all', 'and', 'very', 'too', 'his', \"isn't\", 'can', \"that'll\", \"weren't\", 'whom', \"hasn't\", 'should', 'from', 'why', 'while', 've', 're', 'below', 'between', 'about', 'which', 'y', 'didn', 'other', 'himself', 'how', 'such', \"haven't\", \"mustn't\", 'just', 'than', 'that', 'with', 'you', 'a', 'nor', 'ma', 'in', \"wasn't\", 'above', 'itself', 'she', 'weren', 's', 'once', \"aren't\", \"you're\", 'there', 'through', 'same', 'up', 'by', 'ours', 'shouldn', 'be', 'an', 'doesn', \"you'd\", 'against', 'more', 'each', 'into', 'or', 'he', 'of', 'your', 'the', 'far', 'who', 'won'}}\n",
      "\n",
      "Best F1 Score: 0.7747429935614877\n"
     ]
    }
   ],
   "source": [
    "lr_f1 = grid_lr.best_score_\n",
    "print('Best Params:', grid_lr.best_params_)\n",
    "print()\n",
    "print('Best F1 Score:', lr_f1)"
   ]
  },
  {
   "cell_type": "markdown",
   "metadata": {
    "id": "JVitBWFLIAL4",
    "lang": "ru"
   },
   "source": [
    "Кросс-валидацией нашли лучшую модель, сохраним ее."
   ]
  },
  {
   "cell_type": "markdown",
   "metadata": {
    "lang": "en"
   },
   "source": [
    "Cross-validation found the best model, let's save it."
   ]
  },
  {
   "cell_type": "code",
   "execution_count": 44,
   "metadata": {
    "colab": {
     "base_uri": "https://localhost:8080/"
    },
    "id": "GE1tbNbAH_Y0",
    "outputId": "6520d401-da70-460a-af55-0df92419659e"
   },
   "outputs": [
    {
     "name": "stdout",
     "output_type": "stream",
     "text": [
      "F1 of logistic regression model is 0.774\n",
      "Wall time: 23.7 s\n"
     ]
    }
   ],
   "source": [
    "%%time\n",
    "lr_model = grid_lr.best_estimator_\n",
    "\n",
    "lr_model.fit(X_train, target_train)\n",
    "lr_predicts = lr_model.predict(X_valid)\n",
    "f1_lr = f1_score(target_valid, lr_predicts)\n",
    "print(f'F1 of logistic regression model is {f1_lr:.3f}')"
   ]
  },
  {
   "cell_type": "code",
   "execution_count": 45,
   "metadata": {
    "colab": {
     "base_uri": "https://localhost:8080/",
     "height": 112
    },
    "id": "sB2WwMwjJZOE",
    "outputId": "850da6a3-a142-4c04-93e3-ddb16568f2bc"
   },
   "outputs": [
    {
     "data": {
      "text/html": [
       "<div>\n",
       "<style scoped>\n",
       "    .dataframe tbody tr th:only-of-type {\n",
       "        vertical-align: middle;\n",
       "    }\n",
       "\n",
       "    .dataframe tbody tr th {\n",
       "        vertical-align: top;\n",
       "    }\n",
       "\n",
       "    .dataframe thead th {\n",
       "        text-align: right;\n",
       "    }\n",
       "</style>\n",
       "<table border=\"1\" class=\"dataframe\">\n",
       "  <thead>\n",
       "    <tr style=\"text-align: right;\">\n",
       "      <th></th>\n",
       "      <th>valid_F1</th>\n",
       "    </tr>\n",
       "  </thead>\n",
       "  <tbody>\n",
       "    <tr>\n",
       "      <th>dummy</th>\n",
       "      <td>0.108</td>\n",
       "    </tr>\n",
       "    <tr>\n",
       "      <th>logistic regression</th>\n",
       "      <td>0.774</td>\n",
       "    </tr>\n",
       "  </tbody>\n",
       "</table>\n",
       "</div>"
      ],
      "text/plain": [
       "                    valid_F1\n",
       "dummy                  0.108\n",
       "logistic regression    0.774"
      ]
     },
     "execution_count": 45,
     "metadata": {},
     "output_type": "execute_result"
    }
   ],
   "source": [
    "results.loc['logistic regression', 'valid_F1'] = round(f1_lr, 3)\n",
    "results"
   ]
  },
  {
   "cell_type": "markdown",
   "metadata": {
    "id": "vKYtmA5CIKSv",
    "lang": "ru"
   },
   "source": [
    "### Модель линейных опорных векторов / Linear support vector model\n"
   ]
  },
  {
   "cell_type": "markdown",
   "metadata": {
    "id": "-s7oFco8Pi1l",
    "lang": "ru"
   },
   "source": [
    "Построим пайплайн для модели линейных опорных векторов.\n",
    "\n",
    "<!-- Тут честно признаюсь, что терпения моего не хватило и воспользовалась помощью коллеги Захара с более мощным компом, спросив, что у него показали многочасовые расчеты. -->"
   ]
  },
  {
   "cell_type": "markdown",
   "metadata": {
    "lang": "en"
   },
   "source": [
    "Let's build a pipeline for the linear support vector model.\n",
    "\n",
    "<!-- Тут честно признаюсь, что терпения моего не хватило и воспользовалась помощью коллеги Захара с более мощным компом, спросив, что у него показали многочасовые расчеты. -->"
   ]
  },
  {
   "cell_type": "code",
   "execution_count": 46,
   "metadata": {
    "id": "qLYUhHkyPiD8"
   },
   "outputs": [],
   "source": [
    "pipe_svc = Pipeline([\n",
    "    ('vectorizer', count_tf_idf),\n",
    "    ('model', LinearSVC()),\n",
    "\n",
    "\n",
    "])\n",
    "\n",
    "params_svc = [\n",
    "    {\n",
    "        'vectorizer__stop_words': [stop_words],\n",
    "        'vectorizer__ngram_range': [(1, 2)],\n",
    "        'vectorizer__min_df': [3],\n",
    "        # 'vectorizer__max_df': [0.7, 0.8],\n",
    "        'vectorizer__max_df': [0.7],     \n",
    "        # 'vectorizer__max_features': [80000, None],\n",
    "        'vectorizer__max_features': [80000],     \n",
    "        # 'model': [SVC()],\n",
    "        'model': [LinearSVC()],\n",
    "        # 'model__class_weight': ['balanced', {0:1, 1:3}],\n",
    "        'model__class_weight': [{0:1, 1:3}],\n",
    "        # 'model__n_jobs': [-1],\n",
    "        'model__random_state': [STATE],\n",
    "        # 'model__C': np.logspace(-3,3,7),\n",
    "        'model__C': [0.1], # after\n",
    "        # 'model__penalty': ['l1', 'l2'],\n",
    "        'model__penalty': ['l2'],\n",
    "        'model__max_iter': [100000],\n",
    "        'model__tol': [1e-10]\n",
    "\n",
    "    },\n",
    "]"
   ]
  },
  {
   "cell_type": "code",
   "execution_count": 47,
   "metadata": {
    "id": "_FU7YZvephDT"
   },
   "outputs": [],
   "source": [
    "grid_svc = GridSearchCV(pipe_svc, param_grid=params_svc, cv=cv, n_jobs=-1, scoring='f1', verbose=2)"
   ]
  },
  {
   "cell_type": "code",
   "execution_count": 48,
   "metadata": {
    "colab": {
     "base_uri": "https://localhost:8080/"
    },
    "id": "6Fi6DYZkIJSK",
    "outputId": "fb8eaf04-6276-4dd4-d4b4-70419cb44945",
    "scrolled": false
   },
   "outputs": [
    {
     "name": "stdout",
     "output_type": "stream",
     "text": [
      "Fitting 3 folds for each of 1 candidates, totalling 3 fits\n",
      "Wall time: 55.1 s\n"
     ]
    },
    {
     "data": {
      "text/html": [
       "<style>#sk-container-id-2 {color: black;background-color: white;}#sk-container-id-2 pre{padding: 0;}#sk-container-id-2 div.sk-toggleable {background-color: white;}#sk-container-id-2 label.sk-toggleable__label {cursor: pointer;display: block;width: 100%;margin-bottom: 0;padding: 0.3em;box-sizing: border-box;text-align: center;}#sk-container-id-2 label.sk-toggleable__label-arrow:before {content: \"▸\";float: left;margin-right: 0.25em;color: #696969;}#sk-container-id-2 label.sk-toggleable__label-arrow:hover:before {color: black;}#sk-container-id-2 div.sk-estimator:hover label.sk-toggleable__label-arrow:before {color: black;}#sk-container-id-2 div.sk-toggleable__content {max-height: 0;max-width: 0;overflow: hidden;text-align: left;background-color: #f0f8ff;}#sk-container-id-2 div.sk-toggleable__content pre {margin: 0.2em;color: black;border-radius: 0.25em;background-color: #f0f8ff;}#sk-container-id-2 input.sk-toggleable__control:checked~div.sk-toggleable__content {max-height: 200px;max-width: 100%;overflow: auto;}#sk-container-id-2 input.sk-toggleable__control:checked~label.sk-toggleable__label-arrow:before {content: \"▾\";}#sk-container-id-2 div.sk-estimator input.sk-toggleable__control:checked~label.sk-toggleable__label {background-color: #d4ebff;}#sk-container-id-2 div.sk-label input.sk-toggleable__control:checked~label.sk-toggleable__label {background-color: #d4ebff;}#sk-container-id-2 input.sk-hidden--visually {border: 0;clip: rect(1px 1px 1px 1px);clip: rect(1px, 1px, 1px, 1px);height: 1px;margin: -1px;overflow: hidden;padding: 0;position: absolute;width: 1px;}#sk-container-id-2 div.sk-estimator {font-family: monospace;background-color: #f0f8ff;border: 1px dotted black;border-radius: 0.25em;box-sizing: border-box;margin-bottom: 0.5em;}#sk-container-id-2 div.sk-estimator:hover {background-color: #d4ebff;}#sk-container-id-2 div.sk-parallel-item::after {content: \"\";width: 100%;border-bottom: 1px solid gray;flex-grow: 1;}#sk-container-id-2 div.sk-label:hover label.sk-toggleable__label {background-color: #d4ebff;}#sk-container-id-2 div.sk-serial::before {content: \"\";position: absolute;border-left: 1px solid gray;box-sizing: border-box;top: 0;bottom: 0;left: 50%;z-index: 0;}#sk-container-id-2 div.sk-serial {display: flex;flex-direction: column;align-items: center;background-color: white;padding-right: 0.2em;padding-left: 0.2em;position: relative;}#sk-container-id-2 div.sk-item {position: relative;z-index: 1;}#sk-container-id-2 div.sk-parallel {display: flex;align-items: stretch;justify-content: center;background-color: white;position: relative;}#sk-container-id-2 div.sk-item::before, #sk-container-id-2 div.sk-parallel-item::before {content: \"\";position: absolute;border-left: 1px solid gray;box-sizing: border-box;top: 0;bottom: 0;left: 50%;z-index: -1;}#sk-container-id-2 div.sk-parallel-item {display: flex;flex-direction: column;z-index: 1;position: relative;background-color: white;}#sk-container-id-2 div.sk-parallel-item:first-child::after {align-self: flex-end;width: 50%;}#sk-container-id-2 div.sk-parallel-item:last-child::after {align-self: flex-start;width: 50%;}#sk-container-id-2 div.sk-parallel-item:only-child::after {width: 0;}#sk-container-id-2 div.sk-dashed-wrapped {border: 1px dashed gray;margin: 0 0.4em 0.5em 0.4em;box-sizing: border-box;padding-bottom: 0.4em;background-color: white;}#sk-container-id-2 div.sk-label label {font-family: monospace;font-weight: bold;display: inline-block;line-height: 1.2em;}#sk-container-id-2 div.sk-label-container {text-align: center;}#sk-container-id-2 div.sk-container {/* jupyter's `normalize.less` sets `[hidden] { display: none; }` but bootstrap.min.css set `[hidden] { display: none !important; }` so we also need the `!important` here to be able to override the default hidden behavior on the sphinx rendered scikit-learn.org. See: https://github.com/scikit-learn/scikit-learn/issues/21755 */display: inline-block !important;position: relative;}#sk-container-id-2 div.sk-text-repr-fallback {display: none;}</style><div id=\"sk-container-id-2\" class=\"sk-top-container\"><div class=\"sk-text-repr-fallback\"><pre>GridSearchCV(cv=KFold(n_splits=3, random_state=12345, shuffle=True),\n",
       "             estimator=Pipeline(steps=[(&#x27;vectorizer&#x27;, TfidfVectorizer()),\n",
       "                                       (&#x27;model&#x27;, LinearSVC())]),\n",
       "             n_jobs=-1,\n",
       "             param_grid=[{&#x27;model&#x27;: [LinearSVC(C=0.1, class_weight={0: 1, 1: 3},\n",
       "                                              max_iter=100000,\n",
       "                                              random_state=12345, tol=1e-10)],\n",
       "                          &#x27;model__C&#x27;: [0.1],\n",
       "                          &#x27;model__class_weight&#x27;: [{0: 1, 1: 3}],\n",
       "                          &#x27;model__max_iter&#x27;: [100000], &#x27;mode...\n",
       "                          &#x27;vectorizer__max_features&#x27;: [80000],\n",
       "                          &#x27;vectorizer__min_df&#x27;: [3],\n",
       "                          &#x27;vectorizer__ngram_range&#x27;: [(1, 2)],\n",
       "                          &#x27;vectorizer__stop_words&#x27;: [{&#x27;a&#x27;, &#x27;about&#x27;, &#x27;above&#x27;,\n",
       "                                                      &#x27;after&#x27;, &#x27;again&#x27;,\n",
       "                                                      &#x27;against&#x27;, &#x27;ain&#x27;, &#x27;all&#x27;,\n",
       "                                                      &#x27;an&#x27;, &#x27;and&#x27;, &#x27;any&#x27;,\n",
       "                                                      &#x27;aren&#x27;, &quot;aren&#x27;t&quot;, &#x27;at&#x27;,\n",
       "                                                      &#x27;be&#x27;, &#x27;because&#x27;, &#x27;before&#x27;,\n",
       "                                                      &#x27;below&#x27;, &#x27;between&#x27;,\n",
       "                                                      &#x27;both&#x27;, &#x27;but&#x27;, &#x27;by&#x27;,\n",
       "                                                      &#x27;can&#x27;, &#x27;couldn&#x27;,\n",
       "                                                      &quot;couldn&#x27;t&quot;, &#x27;d&#x27;, &#x27;didn&#x27;,\n",
       "                                                      &quot;didn&#x27;t&quot;, &#x27;do&#x27;, &#x27;doesn&#x27;, ...}]}],\n",
       "             scoring=&#x27;f1&#x27;, verbose=2)</pre><b>In a Jupyter environment, please rerun this cell to show the HTML representation or trust the notebook. <br />On GitHub, the HTML representation is unable to render, please try loading this page with nbviewer.org.</b></div><div class=\"sk-container\" hidden><div class=\"sk-item sk-dashed-wrapped\"><div class=\"sk-label-container\"><div class=\"sk-label sk-toggleable\"><input class=\"sk-toggleable__control sk-hidden--visually\" id=\"sk-estimator-id-5\" type=\"checkbox\" ><label for=\"sk-estimator-id-5\" class=\"sk-toggleable__label sk-toggleable__label-arrow\">GridSearchCV</label><div class=\"sk-toggleable__content\"><pre>GridSearchCV(cv=KFold(n_splits=3, random_state=12345, shuffle=True),\n",
       "             estimator=Pipeline(steps=[(&#x27;vectorizer&#x27;, TfidfVectorizer()),\n",
       "                                       (&#x27;model&#x27;, LinearSVC())]),\n",
       "             n_jobs=-1,\n",
       "             param_grid=[{&#x27;model&#x27;: [LinearSVC(C=0.1, class_weight={0: 1, 1: 3},\n",
       "                                              max_iter=100000,\n",
       "                                              random_state=12345, tol=1e-10)],\n",
       "                          &#x27;model__C&#x27;: [0.1],\n",
       "                          &#x27;model__class_weight&#x27;: [{0: 1, 1: 3}],\n",
       "                          &#x27;model__max_iter&#x27;: [100000], &#x27;mode...\n",
       "                          &#x27;vectorizer__max_features&#x27;: [80000],\n",
       "                          &#x27;vectorizer__min_df&#x27;: [3],\n",
       "                          &#x27;vectorizer__ngram_range&#x27;: [(1, 2)],\n",
       "                          &#x27;vectorizer__stop_words&#x27;: [{&#x27;a&#x27;, &#x27;about&#x27;, &#x27;above&#x27;,\n",
       "                                                      &#x27;after&#x27;, &#x27;again&#x27;,\n",
       "                                                      &#x27;against&#x27;, &#x27;ain&#x27;, &#x27;all&#x27;,\n",
       "                                                      &#x27;an&#x27;, &#x27;and&#x27;, &#x27;any&#x27;,\n",
       "                                                      &#x27;aren&#x27;, &quot;aren&#x27;t&quot;, &#x27;at&#x27;,\n",
       "                                                      &#x27;be&#x27;, &#x27;because&#x27;, &#x27;before&#x27;,\n",
       "                                                      &#x27;below&#x27;, &#x27;between&#x27;,\n",
       "                                                      &#x27;both&#x27;, &#x27;but&#x27;, &#x27;by&#x27;,\n",
       "                                                      &#x27;can&#x27;, &#x27;couldn&#x27;,\n",
       "                                                      &quot;couldn&#x27;t&quot;, &#x27;d&#x27;, &#x27;didn&#x27;,\n",
       "                                                      &quot;didn&#x27;t&quot;, &#x27;do&#x27;, &#x27;doesn&#x27;, ...}]}],\n",
       "             scoring=&#x27;f1&#x27;, verbose=2)</pre></div></div></div><div class=\"sk-parallel\"><div class=\"sk-parallel-item\"><div class=\"sk-item\"><div class=\"sk-label-container\"><div class=\"sk-label sk-toggleable\"><input class=\"sk-toggleable__control sk-hidden--visually\" id=\"sk-estimator-id-6\" type=\"checkbox\" ><label for=\"sk-estimator-id-6\" class=\"sk-toggleable__label sk-toggleable__label-arrow\">estimator: Pipeline</label><div class=\"sk-toggleable__content\"><pre>Pipeline(steps=[(&#x27;vectorizer&#x27;, TfidfVectorizer()), (&#x27;model&#x27;, LinearSVC())])</pre></div></div></div><div class=\"sk-serial\"><div class=\"sk-item\"><div class=\"sk-serial\"><div class=\"sk-item\"><div class=\"sk-estimator sk-toggleable\"><input class=\"sk-toggleable__control sk-hidden--visually\" id=\"sk-estimator-id-7\" type=\"checkbox\" ><label for=\"sk-estimator-id-7\" class=\"sk-toggleable__label sk-toggleable__label-arrow\">TfidfVectorizer</label><div class=\"sk-toggleable__content\"><pre>TfidfVectorizer()</pre></div></div></div><div class=\"sk-item\"><div class=\"sk-estimator sk-toggleable\"><input class=\"sk-toggleable__control sk-hidden--visually\" id=\"sk-estimator-id-8\" type=\"checkbox\" ><label for=\"sk-estimator-id-8\" class=\"sk-toggleable__label sk-toggleable__label-arrow\">LinearSVC</label><div class=\"sk-toggleable__content\"><pre>LinearSVC()</pre></div></div></div></div></div></div></div></div></div></div></div></div>"
      ],
      "text/plain": [
       "GridSearchCV(cv=KFold(n_splits=3, random_state=12345, shuffle=True),\n",
       "             estimator=Pipeline(steps=[('vectorizer', TfidfVectorizer()),\n",
       "                                       ('model', LinearSVC())]),\n",
       "             n_jobs=-1,\n",
       "             param_grid=[{'model': [LinearSVC(C=0.1, class_weight={0: 1, 1: 3},\n",
       "                                              max_iter=100000,\n",
       "                                              random_state=12345, tol=1e-10)],\n",
       "                          'model__C': [0.1],\n",
       "                          'model__class_weight': [{0: 1, 1: 3}],\n",
       "                          'model__max_iter': [100000], 'mode...\n",
       "                          'vectorizer__max_features': [80000],\n",
       "                          'vectorizer__min_df': [3],\n",
       "                          'vectorizer__ngram_range': [(1, 2)],\n",
       "                          'vectorizer__stop_words': [{'a', 'about', 'above',\n",
       "                                                      'after', 'again',\n",
       "                                                      'against', 'ain', 'all',\n",
       "                                                      'an', 'and', 'any',\n",
       "                                                      'aren', \"aren't\", 'at',\n",
       "                                                      'be', 'because', 'before',\n",
       "                                                      'below', 'between',\n",
       "                                                      'both', 'but', 'by',\n",
       "                                                      'can', 'couldn',\n",
       "                                                      \"couldn't\", 'd', 'didn',\n",
       "                                                      \"didn't\", 'do', 'doesn', ...}]}],\n",
       "             scoring='f1', verbose=2)"
      ]
     },
     "execution_count": 48,
     "metadata": {},
     "output_type": "execute_result"
    }
   ],
   "source": [
    "%%time\n",
    "grid_svc.fit(X_train_valid, target_train_valid)"
   ]
  },
  {
   "cell_type": "code",
   "execution_count": 49,
   "metadata": {
    "colab": {
     "base_uri": "https://localhost:8080/"
    },
    "id": "LzCpkjmHqFmA",
    "outputId": "5de15de9-f6e5-4b0f-ebdb-c762b84f891c"
   },
   "outputs": [
    {
     "name": "stdout",
     "output_type": "stream",
     "text": [
      "Best Params: {'model': LinearSVC(C=0.1, class_weight={0: 1, 1: 3}, max_iter=100000, random_state=12345,\n",
      "          tol=1e-10), 'model__C': 0.1, 'model__class_weight': {0: 1, 1: 3}, 'model__max_iter': 100000, 'model__penalty': 'l2', 'model__random_state': 12345, 'model__tol': 1e-10, 'vectorizer__max_df': 0.7, 'vectorizer__max_features': 80000, 'vectorizer__min_df': 3, 'vectorizer__ngram_range': (1, 2), 'vectorizer__stop_words': {'hers', 'when', 'wasn', \"needn't\", 'me', 'couldn', 'for', 'these', 'm', \"it's\", 'ourselves', 'yourselves', 'so', 'hadn', 'my', 'yourself', 'during', 'd', \"hadn't\", 'not', 'have', 'any', \"wouldn't\", 'over', 'where', \"don't\", 'isn', 'do', 'some', 'mightn', \"couldn't\", 'no', 'those', 'it', 'ain', 'only', 'on', 't', \"shouldn't\", 'both', 'll', 'haven', 'then', 'to', 'again', 'own', \"mightn't\", 'because', 'don', 'at', 'out', 'until', \"you'll\", 'their', 'i', \"didn't\", 'our', 'shan', \"won't\", 'here', 'under', 'we', 'aren', 'down', 'needn', \"shan't\", 'wouldn', 'her', 'off', 'few', 'him', 'themselves', \"doesn't\", 'mustn', 'o', 'hasn', 'most', 'will', 'if', 'they', 'them', 'myself', 'this', 'now', 'theirs', 'after', 'but', \"should've\", 'what', 'herself', 'before', \"you've\", \"she's\", 'yours', 'all', 'and', 'very', 'too', 'his', \"isn't\", 'can', \"that'll\", \"weren't\", 'whom', \"hasn't\", 'should', 'from', 'why', 'while', 've', 're', 'below', 'between', 'about', 'which', 'y', 'didn', 'other', 'himself', 'how', 'such', \"haven't\", \"mustn't\", 'just', 'than', 'that', 'with', 'you', 'a', 'nor', 'ma', 'in', \"wasn't\", 'above', 'itself', 'she', 'weren', 's', 'once', \"aren't\", \"you're\", 'there', 'through', 'same', 'up', 'by', 'ours', 'shouldn', 'be', 'an', 'doesn', \"you'd\", 'against', 'more', 'each', 'into', 'or', 'he', 'of', 'your', 'the', 'far', 'who', 'won'}}\n",
      "\n",
      "Best F1 Score: 0.7821902173320066\n"
     ]
    }
   ],
   "source": [
    "svc_f1 = grid_svc.best_score_\n",
    "print('Best Params:', grid_svc.best_params_)\n",
    "print()\n",
    "print('Best F1 Score:', svc_f1)"
   ]
  },
  {
   "cell_type": "markdown",
   "metadata": {
    "id": "WguhrcNn3ZAW",
    "lang": "ru"
   },
   "source": [
    "Кросс-валидацией нашли лучшую модель, сохраним ее."
   ]
  },
  {
   "cell_type": "markdown",
   "metadata": {
    "lang": "en"
   },
   "source": [
    "Cross-validation found the best model, let's save it."
   ]
  },
  {
   "cell_type": "code",
   "execution_count": 50,
   "metadata": {
    "colab": {
     "base_uri": "https://localhost:8080/"
    },
    "id": "AFMFeEwi3Xmt",
    "outputId": "8b79129e-f93d-4f4e-8af8-8933bb210aff"
   },
   "outputs": [
    {
     "name": "stdout",
     "output_type": "stream",
     "text": [
      "F1 of linear support vector model is 0.779\n",
      "Wall time: 18.9 s\n"
     ]
    }
   ],
   "source": [
    "%%time\n",
    "svc_model = grid_svc.best_estimator_\n",
    "\n",
    "svc_model.fit(X_train, target_train)\n",
    "svc_predicts = svc_model.predict(X_valid)\n",
    "f1_svc = f1_score(target_valid, svc_predicts)\n",
    "print(f'F1 of linear support vector model is {f1_svc:.3f}')"
   ]
  },
  {
   "cell_type": "code",
   "execution_count": 51,
   "metadata": {
    "colab": {
     "base_uri": "https://localhost:8080/",
     "height": 143
    },
    "id": "ZmdemVBK34ht",
    "outputId": "fde537b1-3321-4802-a7ec-973227a25bbf"
   },
   "outputs": [
    {
     "data": {
      "text/html": [
       "<div>\n",
       "<style scoped>\n",
       "    .dataframe tbody tr th:only-of-type {\n",
       "        vertical-align: middle;\n",
       "    }\n",
       "\n",
       "    .dataframe tbody tr th {\n",
       "        vertical-align: top;\n",
       "    }\n",
       "\n",
       "    .dataframe thead th {\n",
       "        text-align: right;\n",
       "    }\n",
       "</style>\n",
       "<table border=\"1\" class=\"dataframe\">\n",
       "  <thead>\n",
       "    <tr style=\"text-align: right;\">\n",
       "      <th></th>\n",
       "      <th>valid_F1</th>\n",
       "    </tr>\n",
       "  </thead>\n",
       "  <tbody>\n",
       "    <tr>\n",
       "      <th>dummy</th>\n",
       "      <td>0.108</td>\n",
       "    </tr>\n",
       "    <tr>\n",
       "      <th>logistic regression</th>\n",
       "      <td>0.774</td>\n",
       "    </tr>\n",
       "    <tr>\n",
       "      <th>linear svc</th>\n",
       "      <td>0.779</td>\n",
       "    </tr>\n",
       "  </tbody>\n",
       "</table>\n",
       "</div>"
      ],
      "text/plain": [
       "                    valid_F1\n",
       "dummy                  0.108\n",
       "logistic regression    0.774\n",
       "linear svc             0.779"
      ]
     },
     "execution_count": 51,
     "metadata": {},
     "output_type": "execute_result"
    }
   ],
   "source": [
    "results.loc['linear svc', 'valid_F1'] = round(f1_svc, 3)\n",
    "results"
   ]
  },
  {
   "cell_type": "code",
   "execution_count": 52,
   "metadata": {
    "colab": {
     "base_uri": "https://localhost:8080/",
     "height": 295
    },
    "id": "-bnSGPil4DFx",
    "lang": "ru",
    "outputId": "e531152f-ee61-412f-f504-e8568eb4d4e8",
    "scrolled": true
   },
   "outputs": [
    {
     "data": {
      "image/png": "[encoded data removed]",
      "text/plain": [
       "<Figure size 864x288 with 1 Axes>"
      ]
     },
     "metadata": {
      "needs_background": "light"
     },
     "output_type": "display_data"
    }
   ],
   "source": [
    "fig, ax = plt.subplots(figsize=(12, 4))\n",
    "plt.bar(results.index, results.valid_F1)\n",
    "plt.title('Checking models for adequacy')\n",
    "plt.axhline(y=0.75, color='r', linestyle='--')\n",
    "plt.xlabel('Explored models')\n",
    "plt.ylabel('F1 quality metric')\n",
    "plt.show()"
   ]
  },
  {
   "cell_type": "markdown",
   "metadata": {
    "lang": "ru"
   },
   "source": [
    "Пока максимальное качество показала модель линейных опорных векторов."
   ]
  },
  {
   "cell_type": "markdown",
   "metadata": {
    "lang": "en"
   },
   "source": [
    "The linear support vector model has shown the maximum quality."
   ]
  },
  {
   "cell_type": "markdown",
   "metadata": {
    "lang": "ru"
   },
   "source": [
    "### Подбор порога / Threshold selection"
   ]
  },
  {
   "cell_type": "markdown",
   "metadata": {
    "lang": "ru"
   },
   "source": [
    "Подобрать подходящий порог для наибольшей метрики качества мы сможем только для модели логистической регрессии, так как у модели линейных опорных векторов нет метода `.predict_proba()`."
   ]
  },
  {
   "cell_type": "markdown",
   "metadata": {
    "lang": "en"
   },
   "source": [
    "We can only choose the appropriate threshold for the highest quality metric for the logistic regression model, since the linear support vector model does not have the `.predict_proba()` method."
   ]
  },
  {
   "cell_type": "markdown",
   "metadata": {
    "lang": "ru"
   },
   "source": [
    "Напишем функцию для подбора порога, при котором метрика качества F1 будет иметь максимальное значение."
   ]
  },
  {
   "cell_type": "markdown",
   "metadata": {
    "lang": "en"
   },
   "source": [
    "Let's write a function for selecting the threshold at which the quality metric F1 will have the maximum value."
   ]
  },
  {
   "cell_type": "code",
   "execution_count": 53,
   "metadata": {
    "lang": "ru"
   },
   "outputs": [],
   "source": [
    "def threshold_find(start, finish, step, probabilities_one, target, show=True):\n",
    "    '''function iterates over the specified range elements for the threshold\n",
    "    and returns the best value of the F1 metric\n",
    "    start, finish, step - start, end and step for iterating the threshold\n",
    "    probabilities_one_valid - positive class probabilities\n",
    "    target - target attribute values\n",
    "    show - whether to display the values of all metrics, by default - display'''\n",
    "    \n",
    "    f1 = 0\n",
    "    precision = 0\n",
    "    recall = 0\n",
    "    threshold = None\n",
    "    for step_threshold in np.arange(start, finish, step):\n",
    "        \n",
    "        predicted = probabilities_one > step_threshold\n",
    "        step_f1 = f1_score(target, predicted)\n",
    "        \n",
    "        if step_f1 > f1:\n",
    "            f1 = step_f1\n",
    "            precision = precision_score(target, predicted)\n",
    "            recall = recall_score(target, predicted)\n",
    "            threshold = step_threshold\n",
    "    if show == True:\n",
    "        print(\"Threshold = {:.2f} | Recall = {:.3f} | Precision = {:.3f}\".format(\n",
    "            threshold, recall, precision))\n",
    "        print('F1: {:.3f}'.format(f1))\n",
    "\n",
    "    return recall, precision, f1, threshold"
   ]
  },
  {
   "cell_type": "markdown",
   "metadata": {
    "lang": "ru"
   },
   "source": [
    "Подберем наиболее подходящий порог для модели логистической регрессии."
   ]
  },
  {
   "cell_type": "markdown",
   "metadata": {
    "lang": "en"
   },
   "source": [
    "Let's select the most appropriate threshold for the logistic regression model."
   ]
  },
  {
   "cell_type": "code",
   "execution_count": 54,
   "metadata": {
    "scrolled": true
   },
   "outputs": [
    {
     "name": "stdout",
     "output_type": "stream",
     "text": [
      "Threshold = 0.52 | Recall = 0.720 | Precision = 0.843\n",
      "F1: 0.777\n"
     ]
    }
   ],
   "source": [
    "lr_probabilities_one_valid = lr_model.predict_proba(X_valid)[:, 1]\n",
    "\n",
    "recall_lr, precision_lr, f1_lr, threshold_lr = threshold_find(\n",
    "    0.1, \n",
    "    0.99, \n",
    "    0.01, \n",
    "    lr_probabilities_one_valid,\n",
    "    target_valid\n",
    ")"
   ]
  },
  {
   "cell_type": "code",
   "execution_count": 55,
   "metadata": {
    "scrolled": false
   },
   "outputs": [
    {
     "data": {
      "text/html": [
       "<div>\n",
       "<style scoped>\n",
       "    .dataframe tbody tr th:only-of-type {\n",
       "        vertical-align: middle;\n",
       "    }\n",
       "\n",
       "    .dataframe tbody tr th {\n",
       "        vertical-align: top;\n",
       "    }\n",
       "\n",
       "    .dataframe thead th {\n",
       "        text-align: right;\n",
       "    }\n",
       "</style>\n",
       "<table border=\"1\" class=\"dataframe\">\n",
       "  <thead>\n",
       "    <tr style=\"text-align: right;\">\n",
       "      <th></th>\n",
       "      <th>valid_F1</th>\n",
       "    </tr>\n",
       "  </thead>\n",
       "  <tbody>\n",
       "    <tr>\n",
       "      <th>dummy</th>\n",
       "      <td>0.108</td>\n",
       "    </tr>\n",
       "    <tr>\n",
       "      <th>logistic regression</th>\n",
       "      <td>0.777</td>\n",
       "    </tr>\n",
       "    <tr>\n",
       "      <th>linear svc</th>\n",
       "      <td>0.779</td>\n",
       "    </tr>\n",
       "  </tbody>\n",
       "</table>\n",
       "</div>"
      ],
      "text/plain": [
       "                    valid_F1\n",
       "dummy                  0.108\n",
       "logistic regression    0.777\n",
       "linear svc             0.779"
      ]
     },
     "execution_count": 55,
     "metadata": {},
     "output_type": "execute_result"
    }
   ],
   "source": [
    "results.loc['logistic regression', 'valid_F1'] = round(f1_lr, 3)\n",
    "results"
   ]
  },
  {
   "cell_type": "code",
   "execution_count": 56,
   "metadata": {
    "lang": "ru"
   },
   "outputs": [
    {
     "data": {
      "image/png": "[encoded data removed]",
      "text/plain": [
       "<Figure size 864x288 with 1 Axes>"
      ]
     },
     "metadata": {
      "needs_background": "light"
     },
     "output_type": "display_data"
    }
   ],
   "source": [
    "fig, ax = plt.subplots(figsize=(12, 4))\n",
    "plt.bar(results.index, results.valid_F1)\n",
    "plt.title('Checking models for adequacy')\n",
    "plt.axhline(y=0.75, color='r', linestyle='--')\n",
    "plt.xlabel('Explored Models')\n",
    "plt.ylabel('F1 quality metric')\n",
    "plt.show()"
   ]
  },
  {
   "cell_type": "markdown",
   "metadata": {
    "lang": "ru"
   },
   "source": [
    "Даже с подобранным порогом модель линейной регрессии слегка уступает модели линейных опорных векторов."
   ]
  },
  {
   "cell_type": "markdown",
   "metadata": {
    "lang": "en"
   },
   "source": [
    "Even with a fitted threshold, the linear regression model is slightly inferior to the linear support vector model."
   ]
  },
  {
   "cell_type": "markdown",
   "metadata": {
    "lang": "ru"
   },
   "source": [
    "### Ансамбль смешивания / Stacked generalization"
   ]
  },
  {
   "cell_type": "markdown",
   "metadata": {
    "lang": "ru"
   },
   "source": [
    "Далее заинтересовала идея опробовать **ансамбль смешивания**, подробно описанный в [статье](https://habr.com/ru/company/skillfactory/blog/531416/). Для этого  используем две предыдущие модели с уже подобранными гиперпараметрами. Повторим за авторами статьи и будем использовать ансамбль типа пакетирования, где метамодель обучается на прогнозах, сделанных на независимом наборе данных.\n",
    "\n",
    "У нас на данный момент имеются следующие выборки: `тренировочная`, `валидационная` и `тестовая`, а так же набор выборок `тренировочная + валидационная`.\n",
    "\n",
    "`Тестовая` зарезервирована для финального тестирования, тогда как остальные - для выбора наиболее удачной модели для данного тестирования. \n",
    "\n",
    "Ансамбль смешивания требует наличия еще одной выборки для обучения метамоделей.\n",
    "\n",
    "Благо мы имеем достаточное количество данных и выделить из тренировочной еще одну выборку для обучения метамодели.\n",
    "\n",
    "Разделим тренировочную выборку `X_train` на обучающую и валидационную выборки для мета-модели `meta_X_train` и `meta_X_valid`, валидационную выборку не трогаем и сохраним для проверки качества предсказания перед финальным тестированием.\n",
    "\n",
    "Авторы статьи создавали синтетические данные для задачи бинарной классификации, не требующие предобработки. У нас же данные представлены в виде текста, и нам хотелось бы использовать предобработку данных в виде масштабирования данных с помощью `TF-IDF`. Таким образом, наилучшим вариантом было бы использование не отдельных моделей, а готовых пайплайнов со встроенной предобработкой.\n",
    "\n"
   ]
  },
  {
   "cell_type": "markdown",
   "metadata": {
    "lang": "en"
   },
   "source": [
    "Further, I was interested in the idea of trying out **stacked generalization**, described in detail in [article](https://habr.com/ru/company/skillfactory/blog/531416/). To do this, we use the two previous models with already selected hyperparameters. Let's repeat after the authors of the article and we will use a packet type stacked generalization, where the meta-model is trained on predictions made on an independent data set.\n",
    "\n",
    "We currently have the following sets: `train`, `validation` and `test`, as well as a set `train + validation`.\n",
    "\n",
    "`Test` is reserved for final testing, while the rest are for choosing the most successful model for this testing.\n",
    "\n",
    "Stacked generalization requires one more set to train the metamodels.\n",
    "\n",
    "Fortunately, we have enough data and select one more set from the train set for training the metamodel.\n",
    "\n",
    "We divide the train set `X_train` into train and validation sets for the meta-model `meta_X_train` and `meta_X_valid`, leave the validation set intact and save it to check the quality of the prediction before final testing.\n",
    "\n",
    "The authors of the article created synthetic data for the binary classification problem that did not require preprocessing. In our case, the data is presented in the form of text, and we would like to use data preprocessing in the form of data scaling using `TF-IDF`. Thus, the best option would be to use not separate models, but ready-made pipelines with built-in preprocessing."
   ]
  },
  {
   "cell_type": "markdown",
   "metadata": {
    "lang": "ru"
   },
   "source": [
    "Разделим обучающую выборку на выборки для мета-модели."
   ]
  },
  {
   "cell_type": "markdown",
   "metadata": {
    "lang": "en"
   },
   "source": [
    "Let's divide the train set into sets for the meta-model."
   ]
  },
  {
   "cell_type": "code",
   "execution_count": 57,
   "metadata": {},
   "outputs": [],
   "source": [
    "meta_X_train, meta_X_valid, meta_target_train, meta_target_valid = train_test_split(\n",
    "    X_train,\n",
    "    target_train,\n",
    "    test_size=0.33,\n",
    "    random_state=STATE,\n",
    "    stratify=target_train\n",
    ")"
   ]
  },
  {
   "cell_type": "markdown",
   "metadata": {
    "lang": "ru"
   },
   "source": [
    "Далее в статье авторы определяли *функцию `get_models()`, которая возвращает список моделей, где каждая модель определяется как кортеж с названием и настроенным классификатором*\n",
    "\n",
    "Мы же в отличие от этого, создадим функцию не с моделями, а с пайплайнами с уже подобранными ранее параметрами."
   ]
  },
  {
   "cell_type": "markdown",
   "metadata": {
    "lang": "en"
   },
   "source": [
    "Later in the article, the authors defined a *function `get_models()` that returns a list of models, where each model is defined as a tuple with a name and a configured classifier*\n",
    "\n",
    "In contrast, we will create a function not with models, but with pipelines with previously selected parameters."
   ]
  },
  {
   "cell_type": "code",
   "execution_count": 58,
   "metadata": {},
   "outputs": [],
   "source": [
    "pipe_lr = Pipeline([\n",
    "    ('vectorizer', TfidfVectorizer(\n",
    "        stop_words=stop_words,\n",
    "        ngram_range=(1, 2),\n",
    "        min_df=3,\n",
    "        max_df=0.7,\n",
    "        \n",
    "    )),\n",
    "    ('model', LinearSVC(\n",
    "        class_weight={0: 1, 1: 3}, \n",
    "        max_iter=100000, \n",
    "        random_state=STATE\n",
    "    ))\n",
    "])\n",
    "\n",
    "pipe_svc = Pipeline([\n",
    "    ('vectorizer', TfidfVectorizer(\n",
    "        stop_words=stop_words,\n",
    "        ngram_range=(1, 2),\n",
    "        min_df=3,\n",
    "        max_df=0.7,\n",
    "        max_features=80000,\n",
    "        \n",
    "    )),\n",
    "    ('model', LinearSVC(\n",
    "        class_weight={0: 1, 1: 3},\n",
    "        max_iter=100000,\n",
    "        random_state=STATE,\n",
    "        C=0.1,\n",
    "        penalty='l2',\n",
    "        tol=1e-10,\n",
    "    ))\n",
    "])\n",
    "\n",
    "\n",
    "pipes = [pipe_lr, pipe_svc]"
   ]
  },
  {
   "cell_type": "markdown",
   "metadata": {
    "lang": "ru"
   },
   "source": [
    "Авторы статьи пишут после создания моделей:\n",
    "\n",
    "*Далее нам нужно обучить смешивающую модель. Базовые модели обучаются на тренировочном наборе данных. Метамодель обучается на прогнозах, сделанных каждой базовой моделью на независимом наборе данных.*\n",
    "\n",
    "*Во-первых, мы можем в цикле перечислить модели в списке и обучить каждую из них по очереди на обучающем наборе данных. Кроме того, в этом цикле мы можем использовать обученную модель, чтобы сделать прогноз на независимом наборе данных (валидации) и сохранить прогнозы на будущее.*\n",
    "\n",
    "Модифицируем их функцию под нашу задачу."
   ]
  },
  {
   "cell_type": "markdown",
   "metadata": {
    "lang": "en"
   },
   "source": [
    "The authors of the article write after creating the models:\n",
    "\n",
    "*Next, we need to train the blending model. Base models are trained on the training dataset. The metamodel is trained on the predictions made by each base model on an independent dataset.*\n",
    "\n",
    "*First, we can loop through the models in the list and train each of them in turn on the training dataset. Also, in this loop, we can use the trained model to make a prediction on an independent dataset (validation) and store the predictions for the future.*\n",
    "\n",
    "We modify their function for our task."
   ]
  },
  {
   "cell_type": "code",
   "execution_count": 59,
   "metadata": {},
   "outputs": [],
   "source": [
    "# fit the blending ensemble\n",
    "def fit_ensemble(pipes, X_train_meta, X_valid_meta, y_train_meta, y_valid_meta):\n",
    "# fit all pipes on the training set and predict on hold out set\n",
    "    meta_X = list()\n",
    "    for pipe in pipes:\n",
    "        # fit in training set\n",
    "        pipe.fit(X_train_meta, y_train_meta)\n",
    "        # predict on hold out set\n",
    "        yhat = pipe.predict(X_valid_meta)\n",
    "        # reshape predictions into a matrix with one column\n",
    "        yhat = yhat.reshape(len(yhat), 1)\n",
    "        # store predictions as input for blending\n",
    "        meta_X.append(yhat)\n",
    "        # create 2d array from predictions, each set is an input feature\n",
    "    meta_X = hstack(meta_X)\n",
    "    # define blending model\n",
    "    blender = LogisticRegression()\n",
    "    # fit on predictions from base models\n",
    "    blender.fit(meta_X, y_valid_meta)\n",
    "    return blender"
   ]
  },
  {
   "cell_type": "markdown",
   "metadata": {
    "lang": "ru"
   },
   "source": [
    "Авторы пишут: \n",
    "\n",
    "*Теперь у нас есть `meta_X`, представляющий входные данные, которые могут использоваться для обучения метамодели.* \n",
    "\n",
    "*Каждый столбец или объект представляет выходные данные одной базовой модели. Каждая строка представляет собой один сэмпл из независимого набора данных.*\n",
    "\n",
    "*Мы можем применить функцию `hstack()` чтобы гарантировать, что этот набор данных представляет собой двумерный массив numpy, как и ожидалось моделью машинного обучения.*\n",
    "\n",
    "*Теперь мы можем тренировать нашу метамодель. Это может быть любая модель машинного обучения, которая нам нравится, например логистическая регрессия для задачи классификации.*\n"
   ]
  },
  {
   "cell_type": "markdown",
   "metadata": {
    "lang": "en"
   },
   "source": [
    "The authors write:\n",
    "\n",
    "*We now have a `meta_X` representing input that can be used to train the metamodel.*\n",
    "\n",
    "*Each column or object represents the output of one base model. Each line represents one sample from an independent dataset.*\n",
    "\n",
    "*We can use the `hstack()` function to ensure that this dataset is a two-dimensional numpy array, as expected by the machine learning model.*\n",
    "\n",
    "*Now we can train our metamodel. This can be any machine learning model we like, such as logistic regression for a classification problem.*"
   ]
  },
  {
   "cell_type": "markdown",
   "metadata": {
    "lang": "ru"
   },
   "source": [
    "*Следующий шаг* — **использование смешивающего ансамбля для прогнозирования новых данных**. *Это двухэтапный процесс.* \n",
    "\n",
    "- *Первый шаг — использование каждой базовой модели для прогнозирования.* \n",
    "- *Затем прогнозы собираются вместе и используются в качестве входных данных для модели смешивания, чтобы сделать окончательный прогноз.*\n",
    "\n",
    "*Мы можем использовать тот же цикл, что и при обучении модели. То есть собрать прогнозы каждой базовой модели в обучающий набор данных, сложить прогнозы вместе и вызвать `predict()` в смешивающей модели с этим набором данных метауровня. Функция `predict_ensemble()` ниже реализует эти действия.*\n",
    "\n",
    "*Учитывая обучение списка базовых моделей, обучение смешивателя ансамбля и набор данных (например, тестовый набор данных или новые данные), для набора данных она вернёт набор прогнозов.*"
   ]
  },
  {
   "cell_type": "markdown",
   "metadata": {
    "lang": "en"
   },
   "source": [
    "*The next step is to* **use the blending ensemble to predict the new data**. *This is a two step process.*\n",
    "\n",
    "- *The first step is to use each base model for forecasting.*\n",
    "- *The predictions are then put together and used as input to a blending model to make the final prediction.*\n",
    "\n",
    "*We can use the same loop as when training the model. That is, gather the predictions of each base model into the training dataset, add the predictions together, and call `predict()` on the blending model with that meta-level dataset. The `predict_ensemble()` function below implements these actions.*\n",
    "\n",
    "*Given base model list training, ensemble mixer training, and a dataset (e.g. test dataset or new data), it will return a prediction set for the dataset.*"
   ]
  },
  {
   "cell_type": "code",
   "execution_count": 60,
   "metadata": {},
   "outputs": [],
   "source": [
    "# make a prediction with the blending ensemble\n",
    "def predict_ensemble(pipes, blender, X_test):\n",
    "# make predictions with base pipes\n",
    "    meta_X = list()\n",
    "    for pipe in pipes:\n",
    "        # predict with base model\n",
    "        yhat = pipe.predict(X_test)\n",
    "        # reshape predictions into a matrix with one column\n",
    "        yhat = yhat.reshape(len(yhat), 1)\n",
    "        # store prediction\n",
    "        meta_X.append(yhat)\n",
    "    # create 2d array from predictions, each set is an input feature\n",
    "    meta_X = hstack(meta_X)\n",
    "    # predict\n",
    "    return blender.predict(meta_X)"
   ]
  },
  {
   "cell_type": "markdown",
   "metadata": {
    "lang": "ru"
   },
   "source": [
    "Теперь у нас есть все элементы, необходимые для реализации смешанного ансамбля."
   ]
  },
  {
   "cell_type": "markdown",
   "metadata": {
    "lang": "en"
   },
   "source": [
    "Now we have all the elements needed to implement a blending ensemble."
   ]
  },
  {
   "cell_type": "markdown",
   "metadata": {
    "lang": "ru"
   },
   "source": [
    "Оценим размер выборок."
   ]
  },
  {
   "cell_type": "markdown",
   "metadata": {
    "lang": "en"
   },
   "source": [
    "Let us estimate the size of the sets."
   ]
  },
  {
   "cell_type": "code",
   "execution_count": 61,
   "metadata": {},
   "outputs": [
    {
     "data": {
      "text/plain": [
       "((64109,), (31577,), (31896,))"
      ]
     },
     "execution_count": 61,
     "metadata": {},
     "output_type": "execute_result"
    }
   ],
   "source": [
    "meta_X_train.shape, meta_X_valid.shape, X_valid.shape"
   ]
  },
  {
   "cell_type": "markdown",
   "metadata": {
    "lang": "ru"
   },
   "source": [
    "А так же содержание токсичных комментариев в новых выборках."
   ]
  },
  {
   "cell_type": "markdown",
   "metadata": {
    "lang": "en"
   },
   "source": [
    "As well as the content of toxic comments in new sets."
   ]
  },
  {
   "cell_type": "code",
   "execution_count": 62,
   "metadata": {},
   "outputs": [
    {
     "data": {
      "text/plain": [
       "(0.10168619070645307, 0.10168793742280774)"
      ]
     },
     "execution_count": 62,
     "metadata": {},
     "output_type": "execute_result"
    }
   ],
   "source": [
    "meta_target_train.mean(), meta_target_valid.mean()"
   ]
  },
  {
   "cell_type": "markdown",
   "metadata": {
    "lang": "ru"
   },
   "source": [
    "Содержание токсичных комментариев в районе 10%."
   ]
  },
  {
   "cell_type": "markdown",
   "metadata": {
    "lang": "en"
   },
   "source": [
    "The content of toxic comments is around 10%."
   ]
  },
  {
   "cell_type": "markdown",
   "metadata": {
    "lang": "ru"
   },
   "source": [
    "Посмотрим, как справиться ансамбль с нашей задачей."
   ]
  },
  {
   "cell_type": "markdown",
   "metadata": {
    "lang": "en"
   },
   "source": [
    "Let's see how the blending ensemble copes with our task."
   ]
  },
  {
   "cell_type": "markdown",
   "metadata": {
    "lang": "ru"
   },
   "source": [
    "Обучим ансамбль."
   ]
  },
  {
   "cell_type": "markdown",
   "metadata": {
    "lang": "en"
   },
   "source": [
    "Let's train the blending ensemble."
   ]
  },
  {
   "cell_type": "code",
   "execution_count": 63,
   "metadata": {},
   "outputs": [
    {
     "name": "stdout",
     "output_type": "stream",
     "text": [
      "Wall time: 28 s\n"
     ]
    }
   ],
   "source": [
    "%%time\n",
    "blender = fit_ensemble(pipes, meta_X_train, meta_X_valid, meta_target_train, meta_target_valid)"
   ]
  },
  {
   "cell_type": "markdown",
   "metadata": {
    "lang": "ru"
   },
   "source": [
    "Получим предсказания на валидационной выборке (та самая выборка, на которой оценивались по отдельности модели линейной регрессии и линейных опорных векторов)."
   ]
  },
  {
   "cell_type": "markdown",
   "metadata": {
    "lang": "en"
   },
   "source": [
    "Let's get predictions on the validation set (the same set on which the linear regression and linear support vector models were evaluated separately)."
   ]
  },
  {
   "cell_type": "code",
   "execution_count": 64,
   "metadata": {},
   "outputs": [],
   "source": [
    "ensemble_predicts = predict_ensemble(pipes, blender, X_valid)"
   ]
  },
  {
   "cell_type": "markdown",
   "metadata": {
    "lang": "ru"
   },
   "source": [
    "Посчитаем метрику качества для предсказаний ансамбля."
   ]
  },
  {
   "cell_type": "markdown",
   "metadata": {
    "lang": "en"
   },
   "source": [
    "Let's calculate the quality metric for the blending ensemble predictions."
   ]
  },
  {
   "cell_type": "code",
   "execution_count": 65,
   "metadata": {
    "scrolled": true
   },
   "outputs": [
    {
     "name": "stdout",
     "output_type": "stream",
     "text": [
      "F1 of the blending ensemble is 0.765\n"
     ]
    }
   ],
   "source": [
    "f1_ensemble = f1_score(target_valid, ensemble_predicts)\n",
    "print(f'F1 of the blending ensemble is {f1_ensemble:.3f}')"
   ]
  },
  {
   "cell_type": "markdown",
   "metadata": {
    "lang": "ru"
   },
   "source": [
    "Качество от ансамбля получилось меньше ожидаемого и хуже, чем от использованных в нем моделей поотдельности."
   ]
  },
  {
   "cell_type": "markdown",
   "metadata": {
    "lang": "en"
   },
   "source": [
    "The quality of the blending ensemble turned out to be less than expected and worse than from the models used in it separately."
   ]
  },
  {
   "cell_type": "code",
   "execution_count": 66,
   "metadata": {
    "scrolled": true
   },
   "outputs": [
    {
     "data": {
      "text/html": [
       "<div>\n",
       "<style scoped>\n",
       "    .dataframe tbody tr th:only-of-type {\n",
       "        vertical-align: middle;\n",
       "    }\n",
       "\n",
       "    .dataframe tbody tr th {\n",
       "        vertical-align: top;\n",
       "    }\n",
       "\n",
       "    .dataframe thead th {\n",
       "        text-align: right;\n",
       "    }\n",
       "</style>\n",
       "<table border=\"1\" class=\"dataframe\">\n",
       "  <thead>\n",
       "    <tr style=\"text-align: right;\">\n",
       "      <th></th>\n",
       "      <th>valid_F1</th>\n",
       "    </tr>\n",
       "  </thead>\n",
       "  <tbody>\n",
       "    <tr>\n",
       "      <th>dummy</th>\n",
       "      <td>0.108</td>\n",
       "    </tr>\n",
       "    <tr>\n",
       "      <th>logistic regression</th>\n",
       "      <td>0.777</td>\n",
       "    </tr>\n",
       "    <tr>\n",
       "      <th>linear svc</th>\n",
       "      <td>0.779</td>\n",
       "    </tr>\n",
       "    <tr>\n",
       "      <th>ensemble</th>\n",
       "      <td>0.765</td>\n",
       "    </tr>\n",
       "  </tbody>\n",
       "</table>\n",
       "</div>"
      ],
      "text/plain": [
       "                    valid_F1\n",
       "dummy                  0.108\n",
       "logistic regression    0.777\n",
       "linear svc             0.779\n",
       "ensemble               0.765"
      ]
     },
     "execution_count": 66,
     "metadata": {},
     "output_type": "execute_result"
    }
   ],
   "source": [
    "results.loc['ensemble', 'valid_F1'] = round(f1_ensemble, 3)\n",
    "results"
   ]
  },
  {
   "cell_type": "code",
   "execution_count": 67,
   "metadata": {
    "lang": "ru"
   },
   "outputs": [
    {
     "data": {
      "image/png": "[encoded data removed]",
      "text/plain": [
       "<Figure size 864x288 with 1 Axes>"
      ]
     },
     "metadata": {
      "needs_background": "light"
     },
     "output_type": "display_data"
    }
   ],
   "source": [
    "fig, ax = plt.subplots(figsize=(12, 4))\n",
    "plt.bar(results.index, results.valid_F1)\n",
    "plt.title('Checking models for adequacy')\n",
    "plt.axhline(y=0.75, color='r', linestyle='--')\n",
    "plt.xlabel('Explored models')\n",
    "plt.ylabel('F1 quality metric')\n",
    "plt.show()"
   ]
  },
  {
   "cell_type": "markdown",
   "metadata": {
    "id": "CjF8Emp44vhC",
    "lang": "ru"
   },
   "source": [
    "- Модели обучаются достаточно долго, обучать некоторые модели не поднялась рука (например, случайного леса и градиентного бустинга).\n",
    "- Для финального тестирования выбрана **модель линейных опорных векторов**."
   ]
  },
  {
   "cell_type": "markdown",
   "metadata": {
    "lang": "en"
   },
   "source": [
    "- Models are trained for a long time, it was not possible to train some models (for example, random forest and gradient boosting).\n",
    "- **linear support vector model** was chosen for final testing."
   ]
  },
  {
   "cell_type": "markdown",
   "metadata": {
    "id": "1VSAY_6N5bdV",
    "lang": "ru"
   },
   "source": [
    "## Тестирование / Testing"
   ]
  },
  {
   "cell_type": "markdown",
   "metadata": {
    "id": "bmGP3Mo15l_V",
    "lang": "ru"
   },
   "source": [
    "Обучим модель линейных опорных векторов на `тренировочной + валидационная` выборках и проверим на `тестировочной`."
   ]
  },
  {
   "cell_type": "markdown",
   "metadata": {
    "lang": "en"
   },
   "source": [
    "Let's train the linear support vector model on the `train + validation` sets and check on the `test` one."
   ]
  },
  {
   "cell_type": "code",
   "execution_count": 68,
   "metadata": {
    "colab": {
     "base_uri": "https://localhost:8080/"
    },
    "id": "GuTHcxgs5V3R",
    "lang": "ru",
    "outputId": "ff7bd911-b75b-4227-f406-b5e4dd5da2e2"
   },
   "outputs": [
    {
     "name": "stdout",
     "output_type": "stream",
     "text": [
      "F1 on the test set for the linear support vector model is 0.794\n",
      "\n",
      "Wall time: 25.9 s\n"
     ]
    }
   ],
   "source": [
    "%%time\n",
    "svc_model.fit(X_train_valid, target_train_valid)\n",
    "svc_predicts_final = svc_model.predict(X_test)\n",
    "f1_svc_final = f1_score(target_test, svc_predicts_final)\n",
    "print(f'F1 on the test set for the linear support vector model is {f1_svc_final:.3f}')\n",
    "print()"
   ]
  },
  {
   "cell_type": "markdown",
   "metadata": {
    "id": "5TUX2bqOCTcZ",
    "lang": "ru"
   },
   "source": [
    "## Выводы / Conclusions"
   ]
  },
  {
   "cell_type": "markdown",
   "metadata": {
    "id": "vjJxu0Np6R4v",
    "lang": "ru"
   },
   "source": [
    "Данный проект был посвященн **поиску токсичных комментариев для интернет-магазина**. \n",
    "\n",
    "Нашей **задачей** являлось обучить модель **классифицировать комментарии на позитивные и негативные**.\n",
    "\n",
    "Необходимым условием было построить модель со значением метрики качества **F1 не меньше 0.75**.\n",
    "\n",
    "- В рамках данной работы была проведена **предобработка текста** с приведением комментариев к нижнему регистру, удалению ссылок и лемматизацией. \n",
    "\n",
    "- Для обучения моделей классифицировать комментарии была применена техника масштабирования данных с помощью **TF-IDF**.\n",
    "\n",
    "- В рамках проекта были обучены модели логистической регрессии и линейных опорных векторов. \n",
    "\n",
    "- Для финального **тестирования** была выбрана **модель линейных опорных векторов**, лучше показавшая себя на кросс-валидации.\n",
    "\n",
    "**Метрика качества F1** на тестовой выборке равна **0.79**, что согласуется с целью исследования, а так же показывает то, что модель не переобучилась.\n",
    "\n"
   ]
  },
  {
   "cell_type": "markdown",
   "metadata": {
    "lang": "en"
   },
   "source": [
    "This project was dedicated to **finding toxic comments for an online store**.\n",
    "\n",
    "Our **task** was to train the model to **classify comments into positive and negative**.\n",
    "\n",
    "A necessary condition was to build a model with the value of the quality metric **F1 not less than 0.75**.\n",
    "\n",
    "- As part of this work, **text preprocessing** was carried out with comments reduced to lower case, links removed and lemmatization.\n",
    "\n",
    "- To train models to classify comments, the data scaling technique was applied using **TF-IDF**.\n",
    "\n",
    "- As part of the project, logistic regression and linear support vector models were trained.\n",
    "\n",
    "- For the final **testing**, **linear support vector model** was chosen, which showed itself better in cross-validation.\n",
    "\n",
    "**The quality metric F1** on the test sample is **0.79**, which is consistent with the purpose of the study, and also shows that the model has not retrained."
   ]
  }
 ],
 "metadata": {
  "ExecuteTimeLog": [
   {
    "duration": 7401,
    "start_time": "2022-04-30T15:31:04.203Z"
   },
   {
    "duration": 3,
    "start_time": "2022-04-30T15:32:13.089Z"
   },
   {
    "duration": 2,
    "start_time": "2022-04-30T15:34:33.191Z"
   },
   {
    "duration": 777,
    "start_time": "2022-04-30T15:36:10.751Z"
   },
   {
    "duration": 17,
    "start_time": "2022-04-30T15:36:18.908Z"
   },
   {
    "duration": 33,
    "start_time": "2022-04-30T15:36:50.821Z"
   },
   {
    "duration": 12,
    "start_time": "2022-04-30T15:38:00.248Z"
   },
   {
    "duration": 13,
    "start_time": "2022-04-30T15:38:46.823Z"
   },
   {
    "duration": 9,
    "start_time": "2022-04-30T15:38:58.647Z"
   },
   {
    "duration": 100,
    "start_time": "2022-04-30T15:41:27.708Z"
   },
   {
    "duration": 9,
    "start_time": "2022-04-30T15:41:42.929Z"
   },
   {
    "duration": 96301,
    "start_time": "2022-04-30T15:41:56.194Z"
   },
   {
    "duration": 21786,
    "start_time": "2022-04-30T15:43:37.425Z"
   },
   {
    "duration": 1300,
    "start_time": "2022-04-30T15:43:59.213Z"
   },
   {
    "duration": 3,
    "start_time": "2022-04-30T15:44:00.514Z"
   },
   {
    "duration": 839,
    "start_time": "2022-04-30T15:44:00.519Z"
   },
   {
    "duration": 15,
    "start_time": "2022-04-30T15:44:01.359Z"
   },
   {
    "duration": 38,
    "start_time": "2022-04-30T15:44:01.375Z"
   },
   {
    "duration": 7416,
    "start_time": "2022-04-30T15:44:01.415Z"
   },
   {
    "duration": 6772,
    "start_time": "2022-04-30T15:45:12.449Z"
   },
   {
    "duration": 5,
    "start_time": "2022-04-30T15:45:55.120Z"
   },
   {
    "duration": 9,
    "start_time": "2022-04-30T15:46:23.783Z"
   },
   {
    "duration": 4,
    "start_time": "2022-04-30T15:46:28.934Z"
   },
   {
    "duration": 6804,
    "start_time": "2022-04-30T15:46:41.375Z"
   },
   {
    "duration": 12,
    "start_time": "2022-04-30T15:46:53.365Z"
   },
   {
    "duration": 6714,
    "start_time": "2022-04-30T15:47:06.690Z"
   },
   {
    "duration": 26,
    "start_time": "2022-04-30T15:47:31.686Z"
   },
   {
    "duration": 232,
    "start_time": "2022-04-30T15:47:44.536Z"
   },
   {
    "duration": 209,
    "start_time": "2022-04-30T15:47:50.894Z"
   },
   {
    "duration": 212,
    "start_time": "2022-04-30T15:47:53.267Z"
   },
   {
    "duration": 56,
    "start_time": "2022-04-30T15:48:15.353Z"
   },
   {
    "duration": 12,
    "start_time": "2022-04-30T15:48:18.176Z"
   },
   {
    "duration": 6,
    "start_time": "2022-04-30T15:48:35.416Z"
   },
   {
    "duration": 17,
    "start_time": "2022-04-30T15:48:44.420Z"
   },
   {
    "duration": 12,
    "start_time": "2022-04-30T15:49:15.699Z"
   },
   {
    "duration": 8,
    "start_time": "2022-04-30T15:49:22.097Z"
   },
   {
    "duration": 46,
    "start_time": "2022-04-30T15:50:21.182Z"
   },
   {
    "duration": 14,
    "start_time": "2022-04-30T15:50:32.177Z"
   },
   {
    "duration": 58,
    "start_time": "2022-04-30T15:50:44.377Z"
   },
   {
    "duration": 57,
    "start_time": "2022-04-30T15:50:53.622Z"
   },
   {
    "duration": 58,
    "start_time": "2022-04-30T15:50:59.087Z"
   },
   {
    "duration": 61,
    "start_time": "2022-04-30T15:51:06.526Z"
   },
   {
    "duration": 58,
    "start_time": "2022-04-30T15:51:13.320Z"
   },
   {
    "duration": 59,
    "start_time": "2022-04-30T15:51:21.350Z"
   },
   {
    "duration": 71,
    "start_time": "2022-04-30T15:51:31.947Z"
   },
   {
    "duration": 10,
    "start_time": "2022-04-30T15:51:45.051Z"
   },
   {
    "duration": 50722,
    "start_time": "2022-04-30T15:54:27.007Z"
   },
   {
    "duration": 52,
    "start_time": "2022-04-30T18:20:03.970Z"
   },
   {
    "duration": 143545,
    "start_time": "2022-04-30T18:20:11.651Z"
   },
   {
    "duration": 518,
    "start_time": "2022-04-30T18:22:35.199Z"
   },
   {
    "duration": 0,
    "start_time": "2022-04-30T18:22:35.719Z"
   },
   {
    "duration": 0,
    "start_time": "2022-04-30T18:22:35.720Z"
   },
   {
    "duration": 0,
    "start_time": "2022-04-30T18:22:35.721Z"
   },
   {
    "duration": 0,
    "start_time": "2022-04-30T18:22:35.722Z"
   },
   {
    "duration": 0,
    "start_time": "2022-04-30T18:22:35.723Z"
   },
   {
    "duration": 0,
    "start_time": "2022-04-30T18:22:35.725Z"
   },
   {
    "duration": 99038,
    "start_time": "2022-04-30T18:22:54.941Z"
   },
   {
    "duration": 853,
    "start_time": "2022-04-30T18:24:55.900Z"
   },
   {
    "duration": 3,
    "start_time": "2022-04-30T18:25:02.435Z"
   },
   {
    "duration": 967,
    "start_time": "2022-04-30T18:25:03.778Z"
   },
   {
    "duration": 15,
    "start_time": "2022-04-30T18:25:05.909Z"
   },
   {
    "duration": 36,
    "start_time": "2022-04-30T18:25:06.792Z"
   },
   {
    "duration": 440,
    "start_time": "2022-04-30T18:25:25.703Z"
   },
   {
    "duration": 53,
    "start_time": "2022-04-30T18:25:45.238Z"
   },
   {
    "duration": 13,
    "start_time": "2022-04-30T18:25:53.293Z"
   },
   {
    "duration": 9,
    "start_time": "2022-04-30T18:26:05.162Z"
   },
   {
    "duration": 7427,
    "start_time": "2022-04-30T18:27:59.900Z"
   },
   {
    "duration": 3,
    "start_time": "2022-04-30T18:34:09.942Z"
   },
   {
    "duration": 7332,
    "start_time": "2022-04-30T18:34:24.989Z"
   },
   {
    "duration": 3,
    "start_time": "2022-04-30T18:35:51.502Z"
   },
   {
    "duration": 5,
    "start_time": "2022-04-30T18:35:56.096Z"
   },
   {
    "duration": 295887,
    "start_time": "2022-04-30T18:36:00.545Z"
   },
   {
    "duration": 9,
    "start_time": "2022-04-30T18:41:04.119Z"
   },
   {
    "duration": 13,
    "start_time": "2022-04-30T18:41:07.767Z"
   },
   {
    "duration": 6,
    "start_time": "2022-04-30T18:41:11.296Z"
   },
   {
    "duration": 406988,
    "start_time": "2022-04-30T18:41:13.511Z"
   },
   {
    "duration": 3,
    "start_time": "2022-04-30T18:49:22.302Z"
   },
   {
    "duration": 10,
    "start_time": "2022-04-30T18:49:42.406Z"
   },
   {
    "duration": 4,
    "start_time": "2022-04-30T18:49:54.898Z"
   },
   {
    "duration": 3,
    "start_time": "2022-04-30T18:49:58.238Z"
   },
   {
    "duration": 164074,
    "start_time": "2022-04-30T18:50:08.121Z"
   },
   {
    "duration": 90196,
    "start_time": "2022-04-30T18:53:03.938Z"
   },
   {
    "duration": 52064,
    "start_time": "2022-04-30T18:56:43.988Z"
   },
   {
    "duration": 104296,
    "start_time": "2022-04-30T18:59:02.131Z"
   },
   {
    "duration": 40,
    "start_time": "2022-04-30T19:00:46.430Z"
   },
   {
    "duration": 3,
    "start_time": "2022-04-30T19:00:46.472Z"
   },
   {
    "duration": 769,
    "start_time": "2022-04-30T19:00:46.477Z"
   },
   {
    "duration": 8,
    "start_time": "2022-04-30T19:00:47.248Z"
   },
   {
    "duration": 46,
    "start_time": "2022-04-30T19:00:47.257Z"
   },
   {
    "duration": 3,
    "start_time": "2022-04-30T19:00:47.305Z"
   },
   {
    "duration": 669113,
    "start_time": "2022-04-30T19:00:47.310Z"
   },
   {
    "duration": 14,
    "start_time": "2022-04-30T19:11:56.425Z"
   },
   {
    "duration": 40,
    "start_time": "2022-04-30T19:15:12.477Z"
   },
   {
    "duration": 3,
    "start_time": "2022-04-30T19:15:27.028Z"
   },
   {
    "duration": 7159,
    "start_time": "2022-04-30T19:15:29.042Z"
   },
   {
    "duration": 649282,
    "start_time": "2022-04-30T19:15:44.652Z"
   },
   {
    "duration": 13,
    "start_time": "2022-04-30T19:26:53.125Z"
   },
   {
    "duration": 11,
    "start_time": "2022-04-30T19:27:43.528Z"
   },
   {
    "duration": 37,
    "start_time": "2022-04-30T19:32:53.356Z"
   },
   {
    "duration": 17,
    "start_time": "2022-04-30T19:33:35.135Z"
   },
   {
    "duration": 14,
    "start_time": "2022-04-30T19:34:25.232Z"
   },
   {
    "duration": 48,
    "start_time": "2022-04-30T19:37:07.639Z"
   },
   {
    "duration": 14,
    "start_time": "2022-04-30T19:56:54.758Z"
   },
   {
    "duration": 15,
    "start_time": "2022-04-30T20:00:19.338Z"
   },
   {
    "duration": 16,
    "start_time": "2022-04-30T20:00:31.179Z"
   },
   {
    "duration": 17,
    "start_time": "2022-04-30T20:00:47.134Z"
   },
   {
    "duration": 17,
    "start_time": "2022-04-30T20:02:08.587Z"
   },
   {
    "duration": 16,
    "start_time": "2022-04-30T20:02:17.488Z"
   },
   {
    "duration": 16,
    "start_time": "2022-04-30T20:02:27.016Z"
   },
   {
    "duration": 17,
    "start_time": "2022-04-30T20:03:25.679Z"
   },
   {
    "duration": 15,
    "start_time": "2022-04-30T20:03:35.651Z"
   },
   {
    "duration": 15,
    "start_time": "2022-04-30T20:03:43.273Z"
   },
   {
    "duration": 17,
    "start_time": "2022-04-30T20:03:54.644Z"
   },
   {
    "duration": 16,
    "start_time": "2022-04-30T20:04:03.274Z"
   },
   {
    "duration": 16,
    "start_time": "2022-04-30T20:04:13.802Z"
   },
   {
    "duration": 15,
    "start_time": "2022-04-30T20:04:19.437Z"
   },
   {
    "duration": 15,
    "start_time": "2022-04-30T20:04:28.464Z"
   },
   {
    "duration": 15,
    "start_time": "2022-04-30T20:04:34.691Z"
   },
   {
    "duration": 20,
    "start_time": "2022-04-30T20:04:44.126Z"
   },
   {
    "duration": 1543,
    "start_time": "2022-04-30T20:05:03.588Z"
   },
   {
    "duration": 27,
    "start_time": "2022-04-30T20:05:15.022Z"
   },
   {
    "duration": 22,
    "start_time": "2022-04-30T20:05:34.103Z"
   },
   {
    "duration": 24,
    "start_time": "2022-04-30T20:05:37.351Z"
   },
   {
    "duration": 23,
    "start_time": "2022-04-30T20:05:47.086Z"
   },
   {
    "duration": 20,
    "start_time": "2022-04-30T20:05:55.257Z"
   },
   {
    "duration": 16,
    "start_time": "2022-04-30T20:06:04.708Z"
   },
   {
    "duration": 16,
    "start_time": "2022-04-30T20:06:08.971Z"
   },
   {
    "duration": 16,
    "start_time": "2022-04-30T20:06:14.478Z"
   },
   {
    "duration": 16,
    "start_time": "2022-04-30T20:06:22.082Z"
   },
   {
    "duration": 17,
    "start_time": "2022-04-30T20:06:30.624Z"
   },
   {
    "duration": 18,
    "start_time": "2022-04-30T20:06:39.636Z"
   },
   {
    "duration": 15,
    "start_time": "2022-04-30T20:06:50.929Z"
   },
   {
    "duration": 17,
    "start_time": "2022-04-30T20:07:01.085Z"
   },
   {
    "duration": 17,
    "start_time": "2022-04-30T20:07:17.291Z"
   },
   {
    "duration": 15,
    "start_time": "2022-04-30T20:07:26.214Z"
   },
   {
    "duration": 16,
    "start_time": "2022-04-30T20:07:34.792Z"
   },
   {
    "duration": 2,
    "start_time": "2022-04-30T20:14:29.011Z"
   },
   {
    "duration": 6,
    "start_time": "2022-04-30T20:14:36.903Z"
   },
   {
    "duration": 194,
    "start_time": "2022-04-30T20:17:45.949Z"
   },
   {
    "duration": 54492,
    "start_time": "2022-04-30T20:18:04.186Z"
   },
   {
    "duration": 1480,
    "start_time": "2022-04-30T20:18:58.681Z"
   },
   {
    "duration": 3,
    "start_time": "2022-04-30T20:19:00.163Z"
   },
   {
    "duration": 823,
    "start_time": "2022-04-30T20:19:00.172Z"
   },
   {
    "duration": 15,
    "start_time": "2022-04-30T20:19:00.998Z"
   },
   {
    "duration": 35,
    "start_time": "2022-04-30T20:19:01.015Z"
   },
   {
    "duration": 12,
    "start_time": "2022-04-30T20:19:01.052Z"
   },
   {
    "duration": 25,
    "start_time": "2022-04-30T20:19:01.074Z"
   },
   {
    "duration": 40,
    "start_time": "2022-04-30T20:19:01.101Z"
   },
   {
    "duration": 16,
    "start_time": "2022-04-30T20:19:01.142Z"
   },
   {
    "duration": 25,
    "start_time": "2022-04-30T20:19:01.160Z"
   },
   {
    "duration": 1449,
    "start_time": "2022-04-30T20:19:01.187Z"
   },
   {
    "duration": 0,
    "start_time": "2022-04-30T20:19:02.639Z"
   },
   {
    "duration": 0,
    "start_time": "2022-04-30T20:19:02.640Z"
   },
   {
    "duration": 7089,
    "start_time": "2022-04-30T20:19:07.737Z"
   },
   {
    "duration": 4,
    "start_time": "2022-04-30T20:19:20.686Z"
   },
   {
    "duration": 6,
    "start_time": "2022-04-30T20:19:20.692Z"
   },
   {
    "duration": 822,
    "start_time": "2022-04-30T20:19:20.700Z"
   },
   {
    "duration": 8,
    "start_time": "2022-04-30T20:19:21.524Z"
   },
   {
    "duration": 47,
    "start_time": "2022-04-30T20:19:21.534Z"
   },
   {
    "duration": 3,
    "start_time": "2022-04-30T20:19:21.583Z"
   },
   {
    "duration": 7,
    "start_time": "2022-04-30T20:19:21.588Z"
   },
   {
    "duration": 6,
    "start_time": "2022-04-30T20:19:21.596Z"
   },
   {
    "duration": 5,
    "start_time": "2022-04-30T20:19:21.604Z"
   },
   {
    "duration": 6,
    "start_time": "2022-04-30T20:19:21.611Z"
   },
   {
    "duration": 1250,
    "start_time": "2022-04-30T20:19:21.619Z"
   },
   {
    "duration": 0,
    "start_time": "2022-04-30T20:19:22.870Z"
   },
   {
    "duration": 36,
    "start_time": "2022-04-30T20:19:32.232Z"
   },
   {
    "duration": 4,
    "start_time": "2022-04-30T20:20:27.925Z"
   },
   {
    "duration": 40216,
    "start_time": "2022-04-30T20:20:50.453Z"
   },
   {
    "duration": 0,
    "start_time": "2022-04-30T20:21:30.671Z"
   },
   {
    "duration": 7,
    "start_time": "2022-04-30T20:21:36.673Z"
   },
   {
    "duration": 83,
    "start_time": "2022-04-30T20:21:59.672Z"
   },
   {
    "duration": 17,
    "start_time": "2022-04-30T20:22:03.004Z"
   },
   {
    "duration": 20,
    "start_time": "2022-04-30T20:22:15.401Z"
   },
   {
    "duration": 14,
    "start_time": "2022-04-30T20:22:32.669Z"
   },
   {
    "duration": 17,
    "start_time": "2022-04-30T20:22:36.690Z"
   },
   {
    "duration": 19,
    "start_time": "2022-04-30T20:22:44.342Z"
   },
   {
    "duration": 8,
    "start_time": "2022-04-30T20:22:53.575Z"
   },
   {
    "duration": 13,
    "start_time": "2022-04-30T20:23:07.297Z"
   },
   {
    "duration": 17,
    "start_time": "2022-04-30T20:23:56.342Z"
   },
   {
    "duration": 18,
    "start_time": "2022-04-30T20:24:00.938Z"
   },
   {
    "duration": 5,
    "start_time": "2022-04-30T20:24:23.616Z"
   },
   {
    "duration": 5,
    "start_time": "2022-04-30T20:24:36.664Z"
   },
   {
    "duration": 5,
    "start_time": "2022-04-30T20:24:41.378Z"
   },
   {
    "duration": 84645,
    "start_time": "2022-04-30T20:26:02.748Z"
   },
   {
    "duration": 8,
    "start_time": "2022-04-30T20:27:37.516Z"
   },
   {
    "duration": 307,
    "start_time": "2022-04-30T20:28:52.324Z"
   },
   {
    "duration": 10,
    "start_time": "2022-04-30T20:28:56.906Z"
   },
   {
    "duration": 80454,
    "start_time": "2022-04-30T20:31:36.638Z"
   },
   {
    "duration": 16,
    "start_time": "2022-04-30T20:33:06.528Z"
   },
   {
    "duration": 249,
    "start_time": "2022-04-30T20:33:19.609Z"
   },
   {
    "duration": 12,
    "start_time": "2022-04-30T20:33:22.498Z"
   },
   {
    "duration": 352,
    "start_time": "2022-04-30T20:33:39.263Z"
   },
   {
    "duration": 81619,
    "start_time": "2022-04-30T20:33:47.069Z"
   },
   {
    "duration": 12,
    "start_time": "2022-04-30T20:42:21.582Z"
   },
   {
    "duration": 599,
    "start_time": "2022-04-30T20:42:36.693Z"
   },
   {
    "duration": 4,
    "start_time": "2022-04-30T20:43:13.303Z"
   },
   {
    "duration": 156,
    "start_time": "2022-04-30T20:43:21.845Z"
   },
   {
    "duration": 3,
    "start_time": "2022-04-30T20:43:56.273Z"
   },
   {
    "duration": 145,
    "start_time": "2022-04-30T20:44:00.649Z"
   },
   {
    "duration": 141,
    "start_time": "2022-04-30T20:44:40.209Z"
   },
   {
    "duration": 146,
    "start_time": "2022-04-30T20:44:49.029Z"
   },
   {
    "duration": 13,
    "start_time": "2022-04-30T20:45:08.873Z"
   },
   {
    "duration": 6,
    "start_time": "2022-04-30T20:45:13.427Z"
   },
   {
    "duration": 16,
    "start_time": "2022-04-30T20:46:17.116Z"
   },
   {
    "duration": 558,
    "start_time": "2022-04-30T20:46:29.818Z"
   },
   {
    "duration": 12,
    "start_time": "2022-04-30T20:47:39.108Z"
   },
   {
    "duration": 3888,
    "start_time": "2022-04-30T20:48:07.704Z"
   },
   {
    "duration": 28,
    "start_time": "2022-04-30T20:48:12.449Z"
   },
   {
    "duration": 374,
    "start_time": "2022-04-30T20:50:53.419Z"
   },
   {
    "duration": 8826,
    "start_time": "2022-04-30T20:51:37.616Z"
   },
   {
    "duration": 24,
    "start_time": "2022-04-30T20:51:56.190Z"
   },
   {
    "duration": 3099,
    "start_time": "2022-04-30T20:53:33.819Z"
   },
   {
    "duration": 440,
    "start_time": "2022-04-30T20:53:43.951Z"
   },
   {
    "duration": 130815,
    "start_time": "2022-04-30T20:54:31.852Z"
   },
   {
    "duration": 5,
    "start_time": "2022-04-30T20:57:10.925Z"
   },
   {
    "duration": 25,
    "start_time": "2022-04-30T20:57:13.064Z"
   },
   {
    "duration": 356,
    "start_time": "2022-04-30T20:58:40.211Z"
   },
   {
    "duration": 7406,
    "start_time": "2022-04-30T20:58:59.188Z"
   },
   {
    "duration": 3300,
    "start_time": "2022-04-30T20:59:06.597Z"
   },
   {
    "duration": 3,
    "start_time": "2022-04-30T20:59:09.898Z"
   },
   {
    "duration": 819,
    "start_time": "2022-04-30T20:59:09.903Z"
   },
   {
    "duration": 12,
    "start_time": "2022-04-30T20:59:10.724Z"
   },
   {
    "duration": 43,
    "start_time": "2022-04-30T20:59:10.738Z"
   },
   {
    "duration": 2,
    "start_time": "2022-04-30T20:59:10.783Z"
   },
   {
    "duration": 5,
    "start_time": "2022-04-30T20:59:10.786Z"
   },
   {
    "duration": 5,
    "start_time": "2022-04-30T20:59:10.793Z"
   },
   {
    "duration": 3,
    "start_time": "2022-04-30T20:59:10.800Z"
   },
   {
    "duration": 308,
    "start_time": "2022-04-30T20:59:10.805Z"
   },
   {
    "duration": 4,
    "start_time": "2022-04-30T20:59:11.115Z"
   },
   {
    "duration": 12,
    "start_time": "2022-04-30T20:59:11.120Z"
   },
   {
    "duration": 3105,
    "start_time": "2022-04-30T20:59:11.133Z"
   },
   {
    "duration": 0,
    "start_time": "2022-04-30T20:59:14.240Z"
   },
   {
    "duration": 0,
    "start_time": "2022-04-30T20:59:14.241Z"
   },
   {
    "duration": 0,
    "start_time": "2022-04-30T20:59:14.242Z"
   },
   {
    "duration": 0,
    "start_time": "2022-04-30T20:59:14.243Z"
   },
   {
    "duration": 0,
    "start_time": "2022-04-30T20:59:14.244Z"
   },
   {
    "duration": 0,
    "start_time": "2022-04-30T20:59:14.245Z"
   },
   {
    "duration": 0,
    "start_time": "2022-04-30T20:59:14.246Z"
   },
   {
    "duration": 0,
    "start_time": "2022-04-30T20:59:14.247Z"
   },
   {
    "duration": 222,
    "start_time": "2022-04-30T20:59:42.730Z"
   },
   {
    "duration": 11,
    "start_time": "2022-04-30T20:59:52.839Z"
   },
   {
    "duration": 1413,
    "start_time": "2022-04-30T21:00:02.180Z"
   },
   {
    "duration": 13,
    "start_time": "2022-04-30T21:00:05.747Z"
   },
   {
    "duration": 45366,
    "start_time": "2022-04-30T21:00:37.375Z"
   },
   {
    "duration": 18,
    "start_time": "2022-04-30T21:01:41.129Z"
   },
   {
    "duration": 158,
    "start_time": "2022-04-30T21:11:27.064Z"
   },
   {
    "duration": 17,
    "start_time": "2022-04-30T21:11:29.549Z"
   },
   {
    "duration": 16,
    "start_time": "2022-04-30T21:12:30.789Z"
   },
   {
    "duration": 144,
    "start_time": "2022-04-30T21:14:10.654Z"
   },
   {
    "duration": 6,
    "start_time": "2022-04-30T21:15:10.382Z"
   },
   {
    "duration": 143,
    "start_time": "2022-04-30T21:15:49.122Z"
   },
   {
    "duration": 17,
    "start_time": "2022-04-30T21:15:51.245Z"
   },
   {
    "duration": 1008,
    "start_time": "2022-04-30T21:16:33.925Z"
   },
   {
    "duration": 20,
    "start_time": "2022-04-30T21:16:36.719Z"
   },
   {
    "duration": 17,
    "start_time": "2022-04-30T21:17:22.517Z"
   },
   {
    "duration": 238,
    "start_time": "2022-04-30T21:17:33.893Z"
   },
   {
    "duration": 16,
    "start_time": "2022-04-30T21:17:38.571Z"
   },
   {
    "duration": 1353,
    "start_time": "2022-04-30T21:17:52.776Z"
   },
   {
    "duration": 16,
    "start_time": "2022-04-30T21:17:58.028Z"
   },
   {
    "duration": 45635,
    "start_time": "2022-04-30T21:18:07.790Z"
   },
   {
    "duration": 18,
    "start_time": "2022-04-30T21:20:13.737Z"
   },
   {
    "duration": 849,
    "start_time": "2022-04-30T21:20:57.973Z"
   },
   {
    "duration": 748,
    "start_time": "2022-04-30T21:21:10.613Z"
   },
   {
    "duration": 1002,
    "start_time": "2022-04-30T21:21:17.208Z"
   },
   {
    "duration": 12,
    "start_time": "2022-04-30T21:21:20.450Z"
   },
   {
    "duration": 243,
    "start_time": "2022-04-30T21:21:30.242Z"
   },
   {
    "duration": 12,
    "start_time": "2022-04-30T21:21:34.107Z"
   },
   {
    "duration": 1343,
    "start_time": "2022-04-30T21:21:39.683Z"
   },
   {
    "duration": 14,
    "start_time": "2022-04-30T21:21:45.222Z"
   },
   {
    "duration": 44852,
    "start_time": "2022-04-30T21:22:22.431Z"
   },
   {
    "duration": 18,
    "start_time": "2022-04-30T21:24:51.583Z"
   },
   {
    "duration": 18,
    "start_time": "2022-04-30T21:25:17.321Z"
   },
   {
    "duration": 10,
    "start_time": "2022-04-30T21:25:24.472Z"
   },
   {
    "duration": 80,
    "start_time": "2022-04-30T21:27:04.966Z"
   },
   {
    "duration": 111,
    "start_time": "2022-04-30T21:27:22.617Z"
   },
   {
    "duration": 78,
    "start_time": "2022-04-30T21:27:42.631Z"
   },
   {
    "duration": 953,
    "start_time": "2022-04-30T21:28:18.042Z"
   },
   {
    "duration": 764,
    "start_time": "2022-04-30T21:28:24.073Z"
   },
   {
    "duration": 1092,
    "start_time": "2022-04-30T21:28:32.570Z"
   },
   {
    "duration": 11,
    "start_time": "2022-04-30T21:28:35.490Z"
   },
   {
    "duration": 218,
    "start_time": "2022-04-30T21:28:38.575Z"
   },
   {
    "duration": 12,
    "start_time": "2022-04-30T21:28:42.349Z"
   },
   {
    "duration": 8,
    "start_time": "2022-04-30T21:28:48.215Z"
   },
   {
    "duration": 9,
    "start_time": "2022-04-30T21:28:51.732Z"
   },
   {
    "duration": 1349,
    "start_time": "2022-04-30T21:29:21.062Z"
   },
   {
    "duration": 10,
    "start_time": "2022-04-30T21:29:25.115Z"
   },
   {
    "duration": 45838,
    "start_time": "2022-04-30T21:29:38.991Z"
   },
   {
    "duration": 9,
    "start_time": "2022-04-30T21:30:37.251Z"
   },
   {
    "duration": 949,
    "start_time": "2022-04-30T21:31:09.829Z"
   },
   {
    "duration": 17,
    "start_time": "2022-04-30T21:31:13.693Z"
   },
   {
    "duration": 722,
    "start_time": "2022-04-30T21:31:19.756Z"
   },
   {
    "duration": 1119,
    "start_time": "2022-04-30T21:31:24.924Z"
   },
   {
    "duration": 9,
    "start_time": "2022-04-30T21:31:27.521Z"
   },
   {
    "duration": 217,
    "start_time": "2022-04-30T21:31:31.166Z"
   },
   {
    "duration": 1331,
    "start_time": "2022-04-30T21:31:32.181Z"
   },
   {
    "duration": 6895,
    "start_time": "2022-04-30T21:33:00.170Z"
   },
   {
    "duration": 2007,
    "start_time": "2022-04-30T21:33:07.067Z"
   },
   {
    "duration": 3,
    "start_time": "2022-04-30T21:33:09.076Z"
   },
   {
    "duration": 840,
    "start_time": "2022-04-30T21:33:09.081Z"
   },
   {
    "duration": 12,
    "start_time": "2022-04-30T21:33:09.922Z"
   },
   {
    "duration": 46,
    "start_time": "2022-04-30T21:33:09.936Z"
   },
   {
    "duration": 3,
    "start_time": "2022-04-30T21:33:09.983Z"
   },
   {
    "duration": 5,
    "start_time": "2022-04-30T21:33:09.987Z"
   },
   {
    "duration": 5,
    "start_time": "2022-04-30T21:33:09.994Z"
   },
   {
    "duration": 6,
    "start_time": "2022-04-30T21:33:10.002Z"
   },
   {
    "duration": 274,
    "start_time": "2022-04-30T21:33:10.010Z"
   },
   {
    "duration": 5,
    "start_time": "2022-04-30T21:33:10.285Z"
   },
   {
    "duration": 1103,
    "start_time": "2022-04-30T21:33:10.292Z"
   },
   {
    "duration": 10,
    "start_time": "2022-04-30T21:33:11.398Z"
   },
   {
    "duration": 224,
    "start_time": "2022-04-30T21:33:11.409Z"
   },
   {
    "duration": 1354,
    "start_time": "2022-04-30T21:33:11.635Z"
   },
   {
    "duration": 44560,
    "start_time": "2022-04-30T21:33:12.991Z"
   },
   {
    "duration": 9,
    "start_time": "2022-04-30T21:33:57.553Z"
   },
   {
    "duration": 86140,
    "start_time": "2022-04-30T21:33:57.564Z"
   },
   {
    "duration": 0,
    "start_time": "2022-04-30T21:35:23.706Z"
   },
   {
    "duration": 0,
    "start_time": "2022-04-30T21:35:23.707Z"
   },
   {
    "duration": 0,
    "start_time": "2022-04-30T21:35:23.708Z"
   },
   {
    "duration": 0,
    "start_time": "2022-04-30T21:35:23.709Z"
   },
   {
    "duration": 10,
    "start_time": "2022-04-30T21:35:39.048Z"
   },
   {
    "duration": 11,
    "start_time": "2022-04-30T21:45:37.739Z"
   },
   {
    "duration": 10,
    "start_time": "2022-04-30T21:45:39.876Z"
   },
   {
    "duration": 816,
    "start_time": "2022-04-30T21:45:53.992Z"
   },
   {
    "duration": 6760,
    "start_time": "2022-04-30T21:49:19.811Z"
   },
   {
    "duration": 1584,
    "start_time": "2022-04-30T21:49:26.574Z"
   },
   {
    "duration": 2,
    "start_time": "2022-04-30T21:49:28.160Z"
   },
   {
    "duration": 831,
    "start_time": "2022-04-30T21:49:28.164Z"
   },
   {
    "duration": 13,
    "start_time": "2022-04-30T21:49:28.997Z"
   },
   {
    "duration": 39,
    "start_time": "2022-04-30T21:49:29.011Z"
   },
   {
    "duration": 2,
    "start_time": "2022-04-30T21:49:29.052Z"
   },
   {
    "duration": 18,
    "start_time": "2022-04-30T21:49:29.055Z"
   },
   {
    "duration": 2,
    "start_time": "2022-04-30T21:49:29.075Z"
   },
   {
    "duration": 6,
    "start_time": "2022-04-30T21:49:29.078Z"
   },
   {
    "duration": 268,
    "start_time": "2022-04-30T21:49:29.085Z"
   },
   {
    "duration": 4,
    "start_time": "2022-04-30T21:49:29.355Z"
   },
   {
    "duration": 1150,
    "start_time": "2022-04-30T21:49:29.361Z"
   },
   {
    "duration": 10,
    "start_time": "2022-04-30T21:49:30.515Z"
   },
   {
    "duration": 247,
    "start_time": "2022-04-30T21:49:30.527Z"
   },
   {
    "duration": 1337,
    "start_time": "2022-04-30T21:49:30.776Z"
   },
   {
    "duration": 2095,
    "start_time": "2022-04-30T21:49:32.115Z"
   },
   {
    "duration": 8,
    "start_time": "2022-04-30T21:49:34.211Z"
   },
   {
    "duration": 8592,
    "start_time": "2022-04-30T21:51:02.507Z"
   },
   {
    "duration": 1549,
    "start_time": "2022-04-30T21:51:11.101Z"
   },
   {
    "duration": 3,
    "start_time": "2022-04-30T21:51:12.652Z"
   },
   {
    "duration": 829,
    "start_time": "2022-04-30T21:51:12.657Z"
   },
   {
    "duration": 11,
    "start_time": "2022-04-30T21:51:13.489Z"
   },
   {
    "duration": 35,
    "start_time": "2022-04-30T21:51:13.502Z"
   },
   {
    "duration": 3,
    "start_time": "2022-04-30T21:51:13.538Z"
   },
   {
    "duration": 6,
    "start_time": "2022-04-30T21:51:13.542Z"
   },
   {
    "duration": 24,
    "start_time": "2022-04-30T21:51:13.549Z"
   },
   {
    "duration": 7,
    "start_time": "2022-04-30T21:51:13.575Z"
   },
   {
    "duration": 252,
    "start_time": "2022-04-30T21:51:13.584Z"
   },
   {
    "duration": 4,
    "start_time": "2022-04-30T21:51:13.837Z"
   },
   {
    "duration": 1110,
    "start_time": "2022-04-30T21:51:13.843Z"
   },
   {
    "duration": 9,
    "start_time": "2022-04-30T21:51:14.957Z"
   },
   {
    "duration": 239,
    "start_time": "2022-04-30T21:51:14.967Z"
   },
   {
    "duration": 1327,
    "start_time": "2022-04-30T21:51:15.208Z"
   },
   {
    "duration": 2094,
    "start_time": "2022-04-30T21:51:16.537Z"
   },
   {
    "duration": 9,
    "start_time": "2022-04-30T21:51:18.633Z"
   },
   {
    "duration": 6729,
    "start_time": "2022-04-30T21:52:58.273Z"
   },
   {
    "duration": 1558,
    "start_time": "2022-04-30T21:53:05.005Z"
   },
   {
    "duration": 2,
    "start_time": "2022-04-30T21:53:06.565Z"
   },
   {
    "duration": 822,
    "start_time": "2022-04-30T21:53:06.574Z"
   },
   {
    "duration": 12,
    "start_time": "2022-04-30T21:53:07.397Z"
   },
   {
    "duration": 35,
    "start_time": "2022-04-30T21:53:07.411Z"
   },
   {
    "duration": 2,
    "start_time": "2022-04-30T21:53:07.448Z"
   },
   {
    "duration": 26,
    "start_time": "2022-04-30T21:53:07.452Z"
   },
   {
    "duration": 4,
    "start_time": "2022-04-30T21:53:07.480Z"
   },
   {
    "duration": 3,
    "start_time": "2022-04-30T21:53:07.487Z"
   },
   {
    "duration": 257,
    "start_time": "2022-04-30T21:53:07.492Z"
   },
   {
    "duration": 5,
    "start_time": "2022-04-30T21:53:07.750Z"
   },
   {
    "duration": 1105,
    "start_time": "2022-04-30T21:53:07.756Z"
   },
   {
    "duration": 15,
    "start_time": "2022-04-30T21:53:08.863Z"
   },
   {
    "duration": 231,
    "start_time": "2022-04-30T21:53:08.879Z"
   },
   {
    "duration": 1327,
    "start_time": "2022-04-30T21:53:09.112Z"
   },
   {
    "duration": 36,
    "start_time": "2022-04-30T21:53:10.441Z"
   },
   {
    "duration": 43833,
    "start_time": "2022-04-30T21:53:10.479Z"
   },
   {
    "duration": 10,
    "start_time": "2022-04-30T21:53:54.314Z"
   },
   {
    "duration": 875,
    "start_time": "2022-04-30T21:53:54.325Z"
   },
   {
    "duration": 0,
    "start_time": "2022-04-30T21:53:55.202Z"
   },
   {
    "duration": 0,
    "start_time": "2022-04-30T21:53:55.203Z"
   },
   {
    "duration": 804,
    "start_time": "2022-04-30T21:58:15.898Z"
   },
   {
    "duration": 1102,
    "start_time": "2022-04-30T21:58:21.820Z"
   },
   {
    "duration": 9,
    "start_time": "2022-04-30T21:58:24.087Z"
   },
   {
    "duration": 251,
    "start_time": "2022-04-30T21:58:27.290Z"
   },
   {
    "duration": 11,
    "start_time": "2022-04-30T21:58:30.541Z"
   },
   {
    "duration": 1369,
    "start_time": "2022-04-30T21:58:35.197Z"
   },
   {
    "duration": 8,
    "start_time": "2022-04-30T21:58:39.577Z"
   },
   {
    "duration": 37,
    "start_time": "2022-04-30T21:58:44.095Z"
   },
   {
    "duration": 8,
    "start_time": "2022-04-30T21:58:47.890Z"
   },
   {
    "duration": 44959,
    "start_time": "2022-04-30T21:58:54.973Z"
   },
   {
    "duration": 14,
    "start_time": "2022-04-30T21:59:44.158Z"
   },
   {
    "duration": 10,
    "start_time": "2022-04-30T22:00:03.816Z"
   },
   {
    "duration": 7,
    "start_time": "2022-04-30T22:00:09.561Z"
   },
   {
    "duration": 9,
    "start_time": "2022-04-30T22:00:13.323Z"
   },
   {
    "duration": 8798,
    "start_time": "2022-04-30T22:54:13.837Z"
   },
   {
    "duration": 63274,
    "start_time": "2022-04-30T22:54:39.668Z"
   },
   {
    "duration": 0,
    "start_time": "2022-04-30T22:55:42.944Z"
   },
   {
    "duration": 8992,
    "start_time": "2022-04-30T22:55:44.849Z"
   },
   {
    "duration": 81007,
    "start_time": "2022-04-30T22:56:08.955Z"
   },
   {
    "duration": 873,
    "start_time": "2022-04-30T22:58:48.299Z"
   },
   {
    "duration": 95,
    "start_time": "2022-04-30T23:00:55.083Z"
   },
   {
    "duration": 74,
    "start_time": "2022-04-30T23:03:08.535Z"
   },
   {
    "duration": 212552,
    "start_time": "2022-04-30T23:04:27.306Z"
   },
   {
    "duration": 302322,
    "start_time": "2022-04-30T23:08:02.216Z"
   },
   {
    "duration": 1259,
    "start_time": "2022-04-30T23:13:21.911Z"
   },
   {
    "duration": 1256,
    "start_time": "2022-04-30T23:13:46.224Z"
   },
   {
    "duration": 2374,
    "start_time": "2022-04-30T23:14:28.566Z"
   },
   {
    "duration": 57206,
    "start_time": "2022-04-30T23:14:50.802Z"
   },
   {
    "duration": 1,
    "start_time": "2022-04-30T23:15:48.009Z"
   },
   {
    "duration": 449,
    "start_time": "2022-04-30T23:15:51.174Z"
   },
   {
    "duration": 411,
    "start_time": "2022-04-30T23:16:36.583Z"
   },
   {
    "duration": 408,
    "start_time": "2022-04-30T23:16:53.795Z"
   },
   {
    "duration": 412,
    "start_time": "2022-04-30T23:17:27.525Z"
   },
   {
    "duration": 570424,
    "start_time": "2022-04-30T23:17:48.316Z"
   },
   {
    "duration": 38,
    "start_time": "2022-04-30T23:27:18.742Z"
   },
   {
    "duration": 0,
    "start_time": "2022-04-30T23:27:18.782Z"
   },
   {
    "duration": 108433,
    "start_time": "2022-04-30T23:27:24.011Z"
   },
   {
    "duration": 139,
    "start_time": "2022-04-30T23:29:12.447Z"
   },
   {
    "duration": 4,
    "start_time": "2022-04-30T23:30:40.718Z"
   },
   {
    "duration": 36,
    "start_time": "2022-04-30T23:35:01.593Z"
   },
   {
    "duration": 196,
    "start_time": "2022-04-30T23:35:30.131Z"
   },
   {
    "duration": 3,
    "start_time": "2022-04-30T23:36:56.730Z"
   },
   {
    "duration": 788,
    "start_time": "2022-04-30T23:36:56.737Z"
   },
   {
    "duration": 10,
    "start_time": "2022-04-30T23:36:57.527Z"
   },
   {
    "duration": 48,
    "start_time": "2022-04-30T23:36:57.539Z"
   },
   {
    "duration": 4,
    "start_time": "2022-04-30T23:36:57.590Z"
   },
   {
    "duration": 17,
    "start_time": "2022-04-30T23:36:57.596Z"
   },
   {
    "duration": 12,
    "start_time": "2022-04-30T23:36:57.614Z"
   },
   {
    "duration": 4,
    "start_time": "2022-04-30T23:36:57.627Z"
   },
   {
    "duration": 151,
    "start_time": "2022-04-30T23:36:57.633Z"
   },
   {
    "duration": 4,
    "start_time": "2022-04-30T23:36:57.786Z"
   },
   {
    "duration": 1103,
    "start_time": "2022-04-30T23:36:57.793Z"
   },
   {
    "duration": 25,
    "start_time": "2022-04-30T23:36:58.898Z"
   },
   {
    "duration": 0,
    "start_time": "2022-04-30T23:36:58.925Z"
   },
   {
    "duration": 0,
    "start_time": "2022-04-30T23:36:58.926Z"
   },
   {
    "duration": 0,
    "start_time": "2022-04-30T23:36:58.927Z"
   },
   {
    "duration": 0,
    "start_time": "2022-04-30T23:36:58.928Z"
   },
   {
    "duration": 0,
    "start_time": "2022-04-30T23:36:58.930Z"
   },
   {
    "duration": 0,
    "start_time": "2022-04-30T23:36:58.931Z"
   },
   {
    "duration": 0,
    "start_time": "2022-04-30T23:36:58.931Z"
   },
   {
    "duration": 0,
    "start_time": "2022-04-30T23:36:58.932Z"
   },
   {
    "duration": 0,
    "start_time": "2022-04-30T23:36:58.933Z"
   },
   {
    "duration": 0,
    "start_time": "2022-04-30T23:36:58.934Z"
   },
   {
    "duration": 4,
    "start_time": "2022-04-30T23:37:23.242Z"
   },
   {
    "duration": 11,
    "start_time": "2022-04-30T23:37:32.310Z"
   },
   {
    "duration": 135325,
    "start_time": "2022-04-30T23:38:06.373Z"
   },
   {
    "duration": 2,
    "start_time": "2022-04-30T23:40:28.484Z"
   },
   {
    "duration": 766,
    "start_time": "2022-04-30T23:40:28.489Z"
   },
   {
    "duration": 7,
    "start_time": "2022-04-30T23:40:29.257Z"
   },
   {
    "duration": 38,
    "start_time": "2022-04-30T23:40:29.274Z"
   },
   {
    "duration": 15,
    "start_time": "2022-04-30T23:40:29.313Z"
   },
   {
    "duration": 12,
    "start_time": "2022-04-30T23:40:29.329Z"
   },
   {
    "duration": 15,
    "start_time": "2022-04-30T23:40:29.342Z"
   },
   {
    "duration": 17,
    "start_time": "2022-04-30T23:40:29.359Z"
   },
   {
    "duration": 153,
    "start_time": "2022-04-30T23:40:29.378Z"
   },
   {
    "duration": 4,
    "start_time": "2022-04-30T23:40:29.534Z"
   },
   {
    "duration": 16,
    "start_time": "2022-04-30T23:40:29.540Z"
   },
   {
    "duration": 176182,
    "start_time": "2022-04-30T23:40:29.558Z"
   },
   {
    "duration": 0,
    "start_time": "2022-04-30T23:43:25.741Z"
   },
   {
    "duration": 0,
    "start_time": "2022-04-30T23:43:25.743Z"
   },
   {
    "duration": 0,
    "start_time": "2022-04-30T23:43:25.744Z"
   },
   {
    "duration": 0,
    "start_time": "2022-04-30T23:43:25.745Z"
   },
   {
    "duration": 0,
    "start_time": "2022-04-30T23:43:25.747Z"
   },
   {
    "duration": 0,
    "start_time": "2022-04-30T23:43:25.748Z"
   },
   {
    "duration": 0,
    "start_time": "2022-04-30T23:43:25.749Z"
   },
   {
    "duration": 0,
    "start_time": "2022-04-30T23:43:25.750Z"
   },
   {
    "duration": 0,
    "start_time": "2022-04-30T23:43:25.752Z"
   },
   {
    "duration": 0,
    "start_time": "2022-04-30T23:43:25.753Z"
   },
   {
    "duration": 0,
    "start_time": "2022-04-30T23:43:25.753Z"
   },
   {
    "duration": 0,
    "start_time": "2022-04-30T23:43:25.755Z"
   },
   {
    "duration": 457,
    "start_time": "2022-04-30T23:43:34.749Z"
   },
   {
    "duration": 39,
    "start_time": "2022-04-30T23:44:07.823Z"
   },
   {
    "duration": 5,
    "start_time": "2022-04-30T23:44:22.225Z"
   },
   {
    "duration": 40,
    "start_time": "2022-04-30T23:44:29.394Z"
   },
   {
    "duration": 4,
    "start_time": "2022-04-30T23:46:59.642Z"
   },
   {
    "duration": 2,
    "start_time": "2022-04-30T23:48:32.016Z"
   },
   {
    "duration": 2,
    "start_time": "2022-04-30T23:48:47.438Z"
   },
   {
    "duration": 762,
    "start_time": "2022-04-30T23:48:59.370Z"
   },
   {
    "duration": 8,
    "start_time": "2022-04-30T23:49:03.164Z"
   },
   {
    "duration": 3,
    "start_time": "2022-04-30T23:49:22.356Z"
   },
   {
    "duration": 764,
    "start_time": "2022-04-30T23:49:28.677Z"
   },
   {
    "duration": 9,
    "start_time": "2022-04-30T23:49:30.813Z"
   },
   {
    "duration": 8,
    "start_time": "2022-04-30T23:49:35.853Z"
   },
   {
    "duration": 9,
    "start_time": "2022-04-30T23:49:48.315Z"
   },
   {
    "duration": 8,
    "start_time": "2022-04-30T23:50:00.343Z"
   },
   {
    "duration": 749,
    "start_time": "2022-04-30T23:50:16.354Z"
   },
   {
    "duration": 8,
    "start_time": "2022-04-30T23:50:18.534Z"
   },
   {
    "duration": 8,
    "start_time": "2022-04-30T23:51:20.470Z"
   },
   {
    "duration": 1132,
    "start_time": "2022-04-30T23:51:23.533Z"
   },
   {
    "duration": 9,
    "start_time": "2022-04-30T23:51:26.481Z"
   },
   {
    "duration": 242,
    "start_time": "2022-04-30T23:51:29.246Z"
   },
   {
    "duration": 1334,
    "start_time": "2022-04-30T23:51:32.996Z"
   },
   {
    "duration": 9,
    "start_time": "2022-04-30T23:51:37.701Z"
   },
   {
    "duration": 37,
    "start_time": "2022-04-30T23:51:42.237Z"
   },
   {
    "duration": 4,
    "start_time": "2022-04-30T23:51:44.724Z"
   },
   {
    "duration": 630788,
    "start_time": "2022-04-30T23:51:47.898Z"
   },
   {
    "duration": 0,
    "start_time": "2022-05-01T00:02:18.688Z"
   },
   {
    "duration": 3,
    "start_time": "2022-05-01T00:03:05.495Z"
   },
   {
    "duration": 725,
    "start_time": "2022-05-01T00:03:15.117Z"
   },
   {
    "duration": 781,
    "start_time": "2022-05-01T00:03:18.871Z"
   },
   {
    "duration": 3,
    "start_time": "2022-05-01T00:03:19.657Z"
   },
   {
    "duration": 16,
    "start_time": "2022-05-01T00:03:19.661Z"
   },
   {
    "duration": 17,
    "start_time": "2022-05-01T00:03:19.679Z"
   },
   {
    "duration": 6,
    "start_time": "2022-05-01T00:03:19.697Z"
   },
   {
    "duration": 9,
    "start_time": "2022-05-01T00:03:19.705Z"
   },
   {
    "duration": 5,
    "start_time": "2022-05-01T00:03:19.716Z"
   },
   {
    "duration": 5,
    "start_time": "2022-05-01T00:03:19.722Z"
   },
   {
    "duration": 129,
    "start_time": "2022-05-01T00:03:19.729Z"
   },
   {
    "duration": 5,
    "start_time": "2022-05-01T00:03:19.860Z"
   },
   {
    "duration": 4,
    "start_time": "2022-05-01T00:03:19.873Z"
   },
   {
    "duration": 7,
    "start_time": "2022-05-01T00:03:19.878Z"
   },
   {
    "duration": 23,
    "start_time": "2022-05-01T00:03:19.887Z"
   },
   {
    "duration": 0,
    "start_time": "2022-05-01T00:03:19.912Z"
   },
   {
    "duration": 0,
    "start_time": "2022-05-01T00:03:19.914Z"
   },
   {
    "duration": 0,
    "start_time": "2022-05-01T00:03:19.915Z"
   },
   {
    "duration": 0,
    "start_time": "2022-05-01T00:03:19.917Z"
   },
   {
    "duration": 0,
    "start_time": "2022-05-01T00:03:19.918Z"
   },
   {
    "duration": 0,
    "start_time": "2022-05-01T00:03:19.920Z"
   },
   {
    "duration": 0,
    "start_time": "2022-05-01T00:03:19.921Z"
   },
   {
    "duration": 0,
    "start_time": "2022-05-01T00:03:19.922Z"
   },
   {
    "duration": 0,
    "start_time": "2022-05-01T00:03:19.923Z"
   },
   {
    "duration": 0,
    "start_time": "2022-05-01T00:03:19.925Z"
   },
   {
    "duration": 0,
    "start_time": "2022-05-01T00:03:19.927Z"
   },
   {
    "duration": 0,
    "start_time": "2022-05-01T00:03:19.928Z"
   },
   {
    "duration": 0,
    "start_time": "2022-05-01T00:03:19.929Z"
   },
   {
    "duration": 0,
    "start_time": "2022-05-01T00:03:19.931Z"
   },
   {
    "duration": 50,
    "start_time": "2022-05-01T00:03:39.768Z"
   },
   {
    "duration": 31,
    "start_time": "2022-05-01T00:03:46.347Z"
   },
   {
    "duration": 9,
    "start_time": "2022-05-01T00:03:55.936Z"
   },
   {
    "duration": 45,
    "start_time": "2022-05-01T00:03:55.947Z"
   },
   {
    "duration": 7,
    "start_time": "2022-05-01T00:03:55.994Z"
   },
   {
    "duration": 17,
    "start_time": "2022-05-01T00:03:56.003Z"
   },
   {
    "duration": 62,
    "start_time": "2022-05-01T00:03:56.022Z"
   },
   {
    "duration": 3,
    "start_time": "2022-05-01T00:03:56.087Z"
   },
   {
    "duration": 5,
    "start_time": "2022-05-01T00:03:56.092Z"
   },
   {
    "duration": 5,
    "start_time": "2022-05-01T00:03:56.099Z"
   },
   {
    "duration": 38138,
    "start_time": "2022-05-01T00:03:56.106Z"
   },
   {
    "duration": 0,
    "start_time": "2022-05-01T00:04:34.246Z"
   },
   {
    "duration": 0,
    "start_time": "2022-05-01T00:04:34.247Z"
   },
   {
    "duration": 0,
    "start_time": "2022-05-01T00:04:34.248Z"
   },
   {
    "duration": 51722,
    "start_time": "2022-05-01T00:04:35.977Z"
   },
   {
    "duration": 0,
    "start_time": "2022-05-01T00:05:27.701Z"
   },
   {
    "duration": 0,
    "start_time": "2022-05-01T00:05:27.704Z"
   },
   {
    "duration": 0,
    "start_time": "2022-05-01T00:05:27.706Z"
   },
   {
    "duration": 782,
    "start_time": "2022-05-01T00:05:29.124Z"
   },
   {
    "duration": 0,
    "start_time": "2022-05-01T00:11:13.424Z"
   },
   {
    "duration": 109374,
    "start_time": "2022-05-01T00:11:16.094Z"
   },
   {
    "duration": 6041,
    "start_time": "2022-05-01T00:14:11.950Z"
   },
   {
    "duration": 2739,
    "start_time": "2022-05-01T00:16:33.376Z"
   },
   {
    "duration": 4,
    "start_time": "2022-05-01T00:17:07.166Z"
   },
   {
    "duration": 2540,
    "start_time": "2022-05-01T00:17:09.106Z"
   },
   {
    "duration": 4,
    "start_time": "2022-05-01T00:20:40.711Z"
   },
   {
    "duration": 4,
    "start_time": "2022-05-01T00:22:19.815Z"
   },
   {
    "duration": 3,
    "start_time": "2022-05-01T00:23:15.891Z"
   },
   {
    "duration": 3,
    "start_time": "2022-05-01T00:25:43.298Z"
   },
   {
    "duration": 810,
    "start_time": "2022-05-01T00:25:43.303Z"
   },
   {
    "duration": 2,
    "start_time": "2022-05-01T00:25:44.116Z"
   },
   {
    "duration": 13,
    "start_time": "2022-05-01T00:25:44.120Z"
   },
   {
    "duration": 17,
    "start_time": "2022-05-01T00:25:44.135Z"
   },
   {
    "duration": 20,
    "start_time": "2022-05-01T00:25:44.154Z"
   },
   {
    "duration": 14,
    "start_time": "2022-05-01T00:25:44.175Z"
   },
   {
    "duration": 9,
    "start_time": "2022-05-01T00:25:44.191Z"
   },
   {
    "duration": 6,
    "start_time": "2022-05-01T00:25:44.203Z"
   },
   {
    "duration": 119,
    "start_time": "2022-05-01T00:25:44.210Z"
   },
   {
    "duration": 5,
    "start_time": "2022-05-01T00:25:44.331Z"
   },
   {
    "duration": 6,
    "start_time": "2022-05-01T00:25:44.338Z"
   },
   {
    "duration": 28,
    "start_time": "2022-05-01T00:25:44.345Z"
   },
   {
    "duration": 17,
    "start_time": "2022-05-01T00:25:44.375Z"
   },
   {
    "duration": 46,
    "start_time": "2022-05-01T00:25:44.394Z"
   },
   {
    "duration": 32,
    "start_time": "2022-05-01T00:25:44.442Z"
   },
   {
    "duration": 11,
    "start_time": "2022-05-01T00:25:44.476Z"
   },
   {
    "duration": 45,
    "start_time": "2022-05-01T00:25:44.488Z"
   },
   {
    "duration": 7,
    "start_time": "2022-05-01T00:25:44.535Z"
   },
   {
    "duration": 14,
    "start_time": "2022-05-01T00:25:44.543Z"
   },
   {
    "duration": 53,
    "start_time": "2022-05-01T00:25:44.573Z"
   },
   {
    "duration": 3,
    "start_time": "2022-05-01T00:25:44.628Z"
   },
   {
    "duration": 1419,
    "start_time": "2022-05-01T00:25:44.633Z"
   },
   {
    "duration": 3,
    "start_time": "2022-05-01T00:25:46.054Z"
   },
   {
    "duration": 9,
    "start_time": "2022-05-01T00:25:46.059Z"
   },
   {
    "duration": 477,
    "start_time": "2022-05-01T00:25:46.073Z"
   },
   {
    "duration": 0,
    "start_time": "2022-05-01T00:25:46.552Z"
   },
   {
    "duration": 0,
    "start_time": "2022-05-01T00:25:46.553Z"
   },
   {
    "duration": 0,
    "start_time": "2022-05-01T00:25:46.555Z"
   },
   {
    "duration": 39925,
    "start_time": "2022-05-01T00:27:11.105Z"
   },
   {
    "duration": 54168,
    "start_time": "2022-05-01T00:27:52.866Z"
   },
   {
    "duration": 68944,
    "start_time": "2022-05-01T00:29:01.237Z"
   },
   {
    "duration": 0,
    "start_time": "2022-05-01T00:30:10.183Z"
   },
   {
    "duration": 7,
    "start_time": "2022-05-06T07:30:21.896Z"
   },
   {
    "duration": 2,
    "start_time": "2022-05-06T07:42:11.730Z"
   },
   {
    "duration": 10148,
    "start_time": "2022-05-06T07:51:37.704Z"
   },
   {
    "duration": 1593,
    "start_time": "2022-05-06T07:52:43.717Z"
   },
   {
    "duration": 4,
    "start_time": "2022-05-06T07:54:44.117Z"
   },
   {
    "duration": 111,
    "start_time": "2022-05-06T07:55:02.203Z"
   },
   {
    "duration": 3,
    "start_time": "2022-05-06T07:55:25.982Z"
   },
   {
    "duration": 695,
    "start_time": "2022-05-06T07:55:30.811Z"
   },
   {
    "duration": 87,
    "start_time": "2022-05-06T07:55:45.565Z"
   },
   {
    "duration": 721,
    "start_time": "2022-05-06T08:00:45.680Z"
   },
   {
    "duration": 3,
    "start_time": "2022-05-06T08:01:43.990Z"
   },
   {
    "duration": 883,
    "start_time": "2022-05-06T08:01:52.641Z"
   },
   {
    "duration": 1382,
    "start_time": "2022-05-06T08:03:41.334Z"
   },
   {
    "duration": 3,
    "start_time": "2022-05-06T08:05:19.827Z"
   },
   {
    "duration": 391,
    "start_time": "2022-05-06T08:05:25.191Z"
   },
   {
    "duration": 2,
    "start_time": "2022-05-06T08:05:51.687Z"
   },
   {
    "duration": 36,
    "start_time": "2022-05-06T08:05:56.807Z"
   },
   {
    "duration": 3,
    "start_time": "2022-05-06T08:09:30.697Z"
   },
   {
    "duration": 6381,
    "start_time": "2022-05-06T08:09:53.776Z"
   },
   {
    "duration": 12,
    "start_time": "2022-05-06T08:10:04.361Z"
   },
   {
    "duration": 5347,
    "start_time": "2022-05-06T08:11:57.243Z"
   },
   {
    "duration": 6986,
    "start_time": "2022-05-06T08:12:06.181Z"
   },
   {
    "duration": 9,
    "start_time": "2022-05-06T08:12:14.599Z"
   },
   {
    "duration": 5,
    "start_time": "2022-05-06T08:12:37.137Z"
   },
   {
    "duration": 7,
    "start_time": "2022-05-06T08:12:45.346Z"
   },
   {
    "duration": 10,
    "start_time": "2022-05-06T08:15:44.718Z"
   },
   {
    "duration": 7,
    "start_time": "2022-05-06T08:16:02.213Z"
   },
   {
    "duration": 4,
    "start_time": "2022-05-06T08:16:06.407Z"
   },
   {
    "duration": 53,
    "start_time": "2022-05-06T08:16:09.311Z"
   },
   {
    "duration": 17,
    "start_time": "2022-05-06T08:21:49.339Z"
   },
   {
    "duration": 8,
    "start_time": "2022-05-06T08:22:24.535Z"
   },
   {
    "duration": 14,
    "start_time": "2022-05-06T08:22:38.602Z"
   },
   {
    "duration": 4,
    "start_time": "2022-05-06T08:22:58.765Z"
   },
   {
    "duration": 3,
    "start_time": "2022-05-06T08:23:01.535Z"
   },
   {
    "duration": 43,
    "start_time": "2022-05-06T08:23:11.995Z"
   },
   {
    "duration": 3321,
    "start_time": "2022-05-06T08:23:40.117Z"
   },
   {
    "duration": 1556,
    "start_time": "2022-05-06T08:23:52.172Z"
   },
   {
    "duration": 12,
    "start_time": "2022-05-06T08:25:33.332Z"
   },
   {
    "duration": 11,
    "start_time": "2022-05-06T08:26:40.291Z"
   },
   {
    "duration": 6,
    "start_time": "2022-05-06T08:28:46.342Z"
   },
   {
    "duration": 3,
    "start_time": "2022-05-06T08:28:55.136Z"
   },
   {
    "duration": 21,
    "start_time": "2022-05-06T08:29:05.711Z"
   },
   {
    "duration": 22,
    "start_time": "2022-05-06T08:29:22.831Z"
   },
   {
    "duration": 12,
    "start_time": "2022-05-06T08:29:42.181Z"
   },
   {
    "duration": 9142,
    "start_time": "2022-05-06T08:29:50.382Z"
   },
   {
    "duration": 5,
    "start_time": "2022-05-06T08:29:59.527Z"
   },
   {
    "duration": 2362,
    "start_time": "2022-05-06T08:29:59.533Z"
   },
   {
    "duration": 4,
    "start_time": "2022-05-06T08:30:01.898Z"
   },
   {
    "duration": 18,
    "start_time": "2022-05-06T08:30:01.904Z"
   },
   {
    "duration": 807,
    "start_time": "2022-05-06T08:30:01.924Z"
   },
   {
    "duration": 2,
    "start_time": "2022-05-06T08:30:02.733Z"
   },
   {
    "duration": 21,
    "start_time": "2022-05-06T08:30:02.737Z"
   },
   {
    "duration": 53,
    "start_time": "2022-05-06T08:30:02.760Z"
   },
   {
    "duration": 3,
    "start_time": "2022-05-06T08:30:02.816Z"
   },
   {
    "duration": 12,
    "start_time": "2022-05-06T08:30:02.820Z"
   },
   {
    "duration": 4,
    "start_time": "2022-05-06T08:30:02.835Z"
   },
   {
    "duration": 9,
    "start_time": "2022-05-06T08:30:02.841Z"
   },
   {
    "duration": 200,
    "start_time": "2022-05-06T08:30:02.853Z"
   },
   {
    "duration": 8,
    "start_time": "2022-05-06T08:30:03.058Z"
   },
   {
    "duration": 22,
    "start_time": "2022-05-06T08:30:03.068Z"
   },
   {
    "duration": 918,
    "start_time": "2022-05-06T08:30:03.092Z"
   },
   {
    "duration": 8,
    "start_time": "2022-05-06T08:30:04.012Z"
   },
   {
    "duration": 1212,
    "start_time": "2022-05-06T08:30:04.021Z"
   },
   {
    "duration": 16,
    "start_time": "2022-05-06T08:30:05.236Z"
   },
   {
    "duration": 296,
    "start_time": "2022-05-06T08:30:05.253Z"
   },
   {
    "duration": 8,
    "start_time": "2022-05-06T08:30:05.554Z"
   },
   {
    "duration": 1697,
    "start_time": "2022-05-06T08:30:05.565Z"
   },
   {
    "duration": 12,
    "start_time": "2022-05-06T08:30:07.266Z"
   },
   {
    "duration": 6,
    "start_time": "2022-05-06T08:30:07.281Z"
   },
   {
    "duration": 9,
    "start_time": "2022-05-06T08:30:07.289Z"
   },
   {
    "duration": 23,
    "start_time": "2022-05-06T08:30:07.300Z"
   },
   {
    "duration": 4,
    "start_time": "2022-05-06T08:30:07.327Z"
   },
   {
    "duration": 4896,
    "start_time": "2022-05-06T08:30:07.333Z"
   },
   {
    "duration": 7,
    "start_time": "2022-05-06T08:30:12.231Z"
   },
   {
    "duration": 4,
    "start_time": "2022-05-06T08:30:12.248Z"
   },
   {
    "duration": 81,
    "start_time": "2022-05-06T08:30:12.254Z"
   },
   {
    "duration": 48,
    "start_time": "2022-05-06T08:30:12.337Z"
   },
   {
    "duration": 215,
    "start_time": "2022-05-06T08:30:12.388Z"
   },
   {
    "duration": 6,
    "start_time": "2022-05-06T08:30:29.367Z"
   },
   {
    "duration": 35,
    "start_time": "2022-05-06T08:33:23.838Z"
   },
   {
    "duration": 26,
    "start_time": "2022-05-06T08:33:37.733Z"
   },
   {
    "duration": 18,
    "start_time": "2022-05-06T08:33:46.900Z"
   },
   {
    "duration": 10677,
    "start_time": "2022-05-06T09:08:57.657Z"
   },
   {
    "duration": 1554,
    "start_time": "2022-05-06T09:09:08.336Z"
   },
   {
    "duration": 2391,
    "start_time": "2022-05-06T09:09:09.892Z"
   },
   {
    "duration": 4,
    "start_time": "2022-05-06T09:09:12.286Z"
   },
   {
    "duration": 6,
    "start_time": "2022-05-06T09:09:12.291Z"
   },
   {
    "duration": 841,
    "start_time": "2022-05-06T09:09:12.298Z"
   },
   {
    "duration": 8,
    "start_time": "2022-05-06T09:09:13.141Z"
   },
   {
    "duration": 24,
    "start_time": "2022-05-06T09:09:13.150Z"
   },
   {
    "duration": 33,
    "start_time": "2022-05-06T09:09:13.175Z"
   },
   {
    "duration": 3,
    "start_time": "2022-05-06T09:09:13.210Z"
   },
   {
    "duration": 9,
    "start_time": "2022-05-06T09:09:13.214Z"
   },
   {
    "duration": 7,
    "start_time": "2022-05-06T09:09:13.224Z"
   },
   {
    "duration": 6,
    "start_time": "2022-05-06T09:09:13.232Z"
   },
   {
    "duration": 245,
    "start_time": "2022-05-06T09:09:13.240Z"
   },
   {
    "duration": 5,
    "start_time": "2022-05-06T09:09:13.487Z"
   },
   {
    "duration": 4,
    "start_time": "2022-05-06T09:09:13.493Z"
   },
   {
    "duration": 826,
    "start_time": "2022-05-06T09:09:13.498Z"
   },
   {
    "duration": 8,
    "start_time": "2022-05-06T09:09:14.326Z"
   },
   {
    "duration": 1170,
    "start_time": "2022-05-06T09:09:14.335Z"
   },
   {
    "duration": 7,
    "start_time": "2022-05-06T09:09:15.507Z"
   },
   {
    "duration": 244,
    "start_time": "2022-05-06T09:09:15.515Z"
   },
   {
    "duration": 7,
    "start_time": "2022-05-06T09:09:15.761Z"
   },
   {
    "duration": 1372,
    "start_time": "2022-05-06T09:09:15.770Z"
   },
   {
    "duration": 8,
    "start_time": "2022-05-06T09:09:17.145Z"
   },
   {
    "duration": 15,
    "start_time": "2022-05-06T09:09:17.155Z"
   },
   {
    "duration": 5,
    "start_time": "2022-05-06T09:09:17.171Z"
   },
   {
    "duration": 5,
    "start_time": "2022-05-06T09:09:17.177Z"
   },
   {
    "duration": 2,
    "start_time": "2022-05-06T09:09:17.185Z"
   },
   {
    "duration": 6303,
    "start_time": "2022-05-06T09:09:17.189Z"
   },
   {
    "duration": 9,
    "start_time": "2022-05-06T09:09:23.494Z"
   },
   {
    "duration": 5,
    "start_time": "2022-05-06T09:09:23.505Z"
   },
   {
    "duration": 142,
    "start_time": "2022-05-06T09:09:23.512Z"
   },
   {
    "duration": 49,
    "start_time": "2022-05-06T09:09:23.656Z"
   },
   {
    "duration": 199,
    "start_time": "2022-05-06T09:09:23.707Z"
   },
   {
    "duration": 6,
    "start_time": "2022-05-06T09:09:23.909Z"
   },
   {
    "duration": 2268,
    "start_time": "2022-05-06T09:09:23.916Z"
   },
   {
    "duration": 3,
    "start_time": "2022-05-06T09:09:26.185Z"
   },
   {
    "duration": 6,
    "start_time": "2022-05-06T09:09:26.190Z"
   },
   {
    "duration": 28,
    "start_time": "2022-05-06T09:09:26.198Z"
   },
   {
    "duration": 13,
    "start_time": "2022-05-06T09:09:26.247Z"
   },
   {
    "duration": 10,
    "start_time": "2022-05-06T09:09:26.262Z"
   },
   {
    "duration": 8,
    "start_time": "2022-05-06T09:09:26.273Z"
   },
   {
    "duration": 200692,
    "start_time": "2022-05-06T09:09:26.282Z"
   },
   {
    "duration": 5,
    "start_time": "2022-05-06T09:12:46.984Z"
   },
   {
    "duration": 33097,
    "start_time": "2022-05-06T09:12:46.992Z"
   },
   {
    "duration": 8,
    "start_time": "2022-05-06T09:13:20.091Z"
   },
   {
    "duration": 6,
    "start_time": "2022-05-06T09:13:20.101Z"
   },
   {
    "duration": 10,
    "start_time": "2022-05-06T09:13:20.108Z"
   },
   {
    "duration": 78033,
    "start_time": "2022-05-06T09:13:20.119Z"
   },
   {
    "duration": 9,
    "start_time": "2022-05-06T09:14:38.155Z"
   },
   {
    "duration": 21956,
    "start_time": "2022-05-06T09:14:38.166Z"
   },
   {
    "duration": 7,
    "start_time": "2022-05-06T09:15:00.124Z"
   },
   {
    "duration": 242,
    "start_time": "2022-05-06T09:15:00.150Z"
   },
   {
    "duration": 25359,
    "start_time": "2022-05-06T09:15:00.393Z"
   },
   {
    "duration": 3,
    "start_time": "2022-05-06T09:17:58.190Z"
   },
   {
    "duration": 10,
    "start_time": "2022-05-06T09:18:03.620Z"
   },
   {
    "duration": 4033,
    "start_time": "2022-05-06T09:18:31.595Z"
   },
   {
    "duration": 6,
    "start_time": "2022-05-06T09:18:35.630Z"
   },
   {
    "duration": 24,
    "start_time": "2022-05-06T09:18:35.638Z"
   },
   {
    "duration": 25,
    "start_time": "2022-05-06T09:18:35.668Z"
   },
   {
    "duration": 13,
    "start_time": "2022-05-06T09:18:35.694Z"
   },
   {
    "duration": 6,
    "start_time": "2022-05-06T09:18:35.708Z"
   },
   {
    "duration": 17,
    "start_time": "2022-05-06T09:18:35.716Z"
   },
   {
    "duration": 4,
    "start_time": "2022-05-06T09:18:35.735Z"
   },
   {
    "duration": 37,
    "start_time": "2022-05-06T09:18:35.753Z"
   },
   {
    "duration": 5,
    "start_time": "2022-05-06T09:18:35.795Z"
   },
   {
    "duration": 10,
    "start_time": "2022-05-06T09:18:35.801Z"
   },
   {
    "duration": 8,
    "start_time": "2022-05-06T09:18:35.812Z"
   },
   {
    "duration": 10,
    "start_time": "2022-05-06T09:18:35.822Z"
   },
   {
    "duration": 8,
    "start_time": "2022-05-06T09:18:35.833Z"
   },
   {
    "duration": 45,
    "start_time": "2022-05-06T09:18:35.843Z"
   },
   {
    "duration": 93,
    "start_time": "2022-05-06T09:18:35.890Z"
   },
   {
    "duration": 5,
    "start_time": "2022-05-06T09:18:35.984Z"
   },
   {
    "duration": 26,
    "start_time": "2022-05-06T09:18:35.991Z"
   },
   {
    "duration": 7,
    "start_time": "2022-05-06T09:18:36.019Z"
   },
   {
    "duration": 35,
    "start_time": "2022-05-06T09:18:36.027Z"
   },
   {
    "duration": 26,
    "start_time": "2022-05-06T09:18:36.064Z"
   },
   {
    "duration": 74,
    "start_time": "2022-05-06T09:18:36.092Z"
   },
   {
    "duration": 6,
    "start_time": "2022-05-06T09:18:36.168Z"
   },
   {
    "duration": 34,
    "start_time": "2022-05-06T09:18:36.175Z"
   },
   {
    "duration": 7,
    "start_time": "2022-05-06T09:18:36.211Z"
   },
   {
    "duration": 230,
    "start_time": "2022-05-06T09:18:36.219Z"
   },
   {
    "duration": 29,
    "start_time": "2022-05-06T09:18:36.457Z"
   },
   {
    "duration": 8889,
    "start_time": "2022-05-06T09:21:11.188Z"
   },
   {
    "duration": 1456,
    "start_time": "2022-05-06T09:21:20.080Z"
   },
   {
    "duration": 2431,
    "start_time": "2022-05-06T09:21:21.537Z"
   },
   {
    "duration": 4,
    "start_time": "2022-05-06T09:21:23.970Z"
   },
   {
    "duration": 6,
    "start_time": "2022-05-06T09:21:23.976Z"
   },
   {
    "duration": 825,
    "start_time": "2022-05-06T09:21:23.983Z"
   },
   {
    "duration": 3,
    "start_time": "2022-05-06T09:21:24.809Z"
   },
   {
    "duration": 12,
    "start_time": "2022-05-06T09:21:24.813Z"
   },
   {
    "duration": 44,
    "start_time": "2022-05-06T09:21:24.827Z"
   },
   {
    "duration": 6,
    "start_time": "2022-05-06T09:21:24.875Z"
   },
   {
    "duration": 5,
    "start_time": "2022-05-06T09:21:24.883Z"
   },
   {
    "duration": 4,
    "start_time": "2022-05-06T09:21:24.890Z"
   },
   {
    "duration": 7,
    "start_time": "2022-05-06T09:21:24.896Z"
   },
   {
    "duration": 248,
    "start_time": "2022-05-06T09:21:24.905Z"
   },
   {
    "duration": 13,
    "start_time": "2022-05-06T09:21:25.154Z"
   },
   {
    "duration": 7,
    "start_time": "2022-05-06T09:21:25.169Z"
   },
   {
    "duration": 854,
    "start_time": "2022-05-06T09:21:25.177Z"
   },
   {
    "duration": 8,
    "start_time": "2022-05-06T09:21:26.032Z"
   },
   {
    "duration": 1186,
    "start_time": "2022-05-06T09:21:26.048Z"
   },
   {
    "duration": 15,
    "start_time": "2022-05-06T09:21:27.236Z"
   },
   {
    "duration": 235,
    "start_time": "2022-05-06T09:21:27.253Z"
   },
   {
    "duration": 7,
    "start_time": "2022-05-06T09:21:27.490Z"
   },
   {
    "duration": 1452,
    "start_time": "2022-05-06T09:21:27.498Z"
   },
   {
    "duration": 7,
    "start_time": "2022-05-06T09:21:28.953Z"
   },
   {
    "duration": 21,
    "start_time": "2022-05-06T09:21:28.961Z"
   },
   {
    "duration": 8,
    "start_time": "2022-05-06T09:21:28.984Z"
   },
   {
    "duration": 5,
    "start_time": "2022-05-06T09:21:28.993Z"
   },
   {
    "duration": 7,
    "start_time": "2022-05-06T09:21:29.002Z"
   },
   {
    "duration": 5041,
    "start_time": "2022-05-06T09:21:29.010Z"
   },
   {
    "duration": 7,
    "start_time": "2022-05-06T09:21:34.054Z"
   },
   {
    "duration": 18,
    "start_time": "2022-05-06T09:21:34.063Z"
   },
   {
    "duration": 98,
    "start_time": "2022-05-06T09:21:34.083Z"
   },
   {
    "duration": 36,
    "start_time": "2022-05-06T09:21:34.183Z"
   },
   {
    "duration": 124,
    "start_time": "2022-05-06T09:21:34.221Z"
   },
   {
    "duration": 5,
    "start_time": "2022-05-06T09:21:34.350Z"
   },
   {
    "duration": 1367,
    "start_time": "2022-05-06T09:21:34.356Z"
   },
   {
    "duration": 3,
    "start_time": "2022-05-06T09:21:35.725Z"
   },
   {
    "duration": 7,
    "start_time": "2022-05-06T09:21:35.729Z"
   },
   {
    "duration": 27,
    "start_time": "2022-05-06T09:21:35.749Z"
   },
   {
    "duration": 11,
    "start_time": "2022-05-06T09:21:35.778Z"
   },
   {
    "duration": 5,
    "start_time": "2022-05-06T09:21:35.791Z"
   },
   {
    "duration": 6,
    "start_time": "2022-05-06T09:21:35.798Z"
   },
   {
    "duration": 170667,
    "start_time": "2022-05-06T09:21:35.805Z"
   },
   {
    "duration": 78,
    "start_time": "2022-05-06T09:24:26.477Z"
   },
   {
    "duration": 32577,
    "start_time": "2022-05-06T09:24:26.561Z"
   },
   {
    "duration": 14,
    "start_time": "2022-05-06T09:24:59.140Z"
   },
   {
    "duration": 24,
    "start_time": "2022-05-06T09:24:59.155Z"
   },
   {
    "duration": 6,
    "start_time": "2022-05-06T09:24:59.181Z"
   },
   {
    "duration": 74305,
    "start_time": "2022-05-06T09:24:59.189Z"
   },
   {
    "duration": 4,
    "start_time": "2022-05-06T09:26:13.496Z"
   },
   {
    "duration": 19691,
    "start_time": "2022-05-06T09:26:13.502Z"
   },
   {
    "duration": 8,
    "start_time": "2022-05-06T09:26:33.195Z"
   },
   {
    "duration": 293,
    "start_time": "2022-05-06T09:26:33.205Z"
   },
   {
    "duration": 24841,
    "start_time": "2022-05-06T09:26:33.500Z"
   },
   {
    "duration": 6,
    "start_time": "2022-05-06T09:27:21.675Z"
   },
   {
    "duration": 6,
    "start_time": "2022-05-06T09:27:21.684Z"
   },
   {
    "duration": 191763,
    "start_time": "2022-05-06T09:27:21.692Z"
   },
   {
    "duration": 13,
    "start_time": "2022-05-06T09:30:33.457Z"
   },
   {
    "duration": 35625,
    "start_time": "2022-05-06T09:30:33.473Z"
   },
   {
    "duration": 7,
    "start_time": "2022-05-06T09:31:09.100Z"
   },
   {
    "duration": 5,
    "start_time": "2022-05-06T09:31:09.109Z"
   },
   {
    "duration": 5,
    "start_time": "2022-05-06T09:31:09.116Z"
   },
   {
    "duration": 80353,
    "start_time": "2022-05-06T09:31:09.122Z"
   },
   {
    "duration": 4,
    "start_time": "2022-05-06T09:32:29.477Z"
   },
   {
    "duration": 18549,
    "start_time": "2022-05-06T09:32:29.483Z"
   },
   {
    "duration": 7,
    "start_time": "2022-05-06T09:32:48.033Z"
   },
   {
    "duration": 251,
    "start_time": "2022-05-06T09:32:48.041Z"
   },
   {
    "duration": 23707,
    "start_time": "2022-05-06T09:32:48.295Z"
   },
   {
    "duration": 23633,
    "start_time": "2022-05-06T09:33:48.389Z"
   },
   {
    "duration": 8911,
    "start_time": "2022-05-06T09:34:28.626Z"
   },
   {
    "duration": 1518,
    "start_time": "2022-05-06T09:34:37.540Z"
   },
   {
    "duration": 2468,
    "start_time": "2022-05-06T09:34:39.060Z"
   },
   {
    "duration": 5,
    "start_time": "2022-05-06T09:34:41.530Z"
   },
   {
    "duration": 4,
    "start_time": "2022-05-06T09:34:41.536Z"
   },
   {
    "duration": 863,
    "start_time": "2022-05-06T09:34:41.542Z"
   },
   {
    "duration": 3,
    "start_time": "2022-05-06T09:34:42.406Z"
   },
   {
    "duration": 11,
    "start_time": "2022-05-06T09:34:42.410Z"
   },
   {
    "duration": 47,
    "start_time": "2022-05-06T09:34:42.423Z"
   },
   {
    "duration": 7,
    "start_time": "2022-05-06T09:34:42.474Z"
   },
   {
    "duration": 6,
    "start_time": "2022-05-06T09:34:42.483Z"
   },
   {
    "duration": 4,
    "start_time": "2022-05-06T09:34:42.491Z"
   },
   {
    "duration": 4,
    "start_time": "2022-05-06T09:34:42.496Z"
   },
   {
    "duration": 253,
    "start_time": "2022-05-06T09:34:42.501Z"
   },
   {
    "duration": 15,
    "start_time": "2022-05-06T09:34:42.756Z"
   },
   {
    "duration": 6,
    "start_time": "2022-05-06T09:34:42.773Z"
   },
   {
    "duration": 851,
    "start_time": "2022-05-06T09:34:42.780Z"
   },
   {
    "duration": 8,
    "start_time": "2022-05-06T09:34:43.633Z"
   },
   {
    "duration": 1193,
    "start_time": "2022-05-06T09:34:43.642Z"
   },
   {
    "duration": 12,
    "start_time": "2022-05-06T09:34:44.838Z"
   },
   {
    "duration": 262,
    "start_time": "2022-05-06T09:34:44.852Z"
   },
   {
    "duration": 8,
    "start_time": "2022-05-06T09:34:45.116Z"
   },
   {
    "duration": 1489,
    "start_time": "2022-05-06T09:34:45.125Z"
   },
   {
    "duration": 6,
    "start_time": "2022-05-06T09:34:46.617Z"
   },
   {
    "duration": 6,
    "start_time": "2022-05-06T09:34:46.625Z"
   },
   {
    "duration": 18,
    "start_time": "2022-05-06T09:34:46.633Z"
   },
   {
    "duration": 23,
    "start_time": "2022-05-06T09:34:46.656Z"
   },
   {
    "duration": 2,
    "start_time": "2022-05-06T09:34:46.683Z"
   },
   {
    "duration": 7922,
    "start_time": "2022-05-06T09:34:46.687Z"
   },
   {
    "duration": 7,
    "start_time": "2022-05-06T09:34:54.611Z"
   },
   {
    "duration": 3,
    "start_time": "2022-05-06T09:34:54.620Z"
   },
   {
    "duration": 110,
    "start_time": "2022-05-06T09:34:54.625Z"
   },
   {
    "duration": 49,
    "start_time": "2022-05-06T09:34:54.736Z"
   },
   {
    "duration": 121,
    "start_time": "2022-05-06T09:34:54.787Z"
   },
   {
    "duration": 5,
    "start_time": "2022-05-06T09:34:54.909Z"
   },
   {
    "duration": 1395,
    "start_time": "2022-05-06T09:34:54.915Z"
   },
   {
    "duration": 3,
    "start_time": "2022-05-06T09:34:56.311Z"
   },
   {
    "duration": 8,
    "start_time": "2022-05-06T09:34:56.315Z"
   },
   {
    "duration": 37,
    "start_time": "2022-05-06T09:34:56.324Z"
   },
   {
    "duration": 10,
    "start_time": "2022-05-06T09:34:56.363Z"
   },
   {
    "duration": 9,
    "start_time": "2022-05-06T09:34:56.374Z"
   },
   {
    "duration": 8,
    "start_time": "2022-05-06T09:34:56.384Z"
   },
   {
    "duration": 174172,
    "start_time": "2022-05-06T09:34:56.393Z"
   },
   {
    "duration": 4,
    "start_time": "2022-05-06T09:37:50.567Z"
   },
   {
    "duration": 33356,
    "start_time": "2022-05-06T09:37:50.576Z"
   },
   {
    "duration": 6,
    "start_time": "2022-05-06T09:38:23.934Z"
   },
   {
    "duration": 12,
    "start_time": "2022-05-06T09:38:23.949Z"
   },
   {
    "duration": 17,
    "start_time": "2022-05-06T09:38:23.963Z"
   },
   {
    "duration": 76944,
    "start_time": "2022-05-06T09:38:23.981Z"
   },
   {
    "duration": 4,
    "start_time": "2022-05-06T09:39:40.927Z"
   },
   {
    "duration": 20376,
    "start_time": "2022-05-06T09:39:40.933Z"
   },
   {
    "duration": 9,
    "start_time": "2022-05-06T09:40:01.310Z"
   },
   {
    "duration": 286,
    "start_time": "2022-05-06T09:40:01.320Z"
   },
   {
    "duration": 25211,
    "start_time": "2022-05-06T09:40:01.608Z"
   },
   {
    "duration": 131,
    "start_time": "2022-05-06T09:44:38.468Z"
   },
   {
    "duration": 7,
    "start_time": "2022-05-06T09:44:47.936Z"
   },
   {
    "duration": 3,
    "start_time": "2022-05-06T09:45:20.980Z"
   },
   {
    "duration": 5,
    "start_time": "2022-05-06T09:53:11.840Z"
   },
   {
    "duration": 15,
    "start_time": "2022-05-06T09:58:10.037Z"
   },
   {
    "duration": 3729,
    "start_time": "2022-05-06T09:58:53.697Z"
   },
   {
    "duration": 5,
    "start_time": "2022-05-06T09:59:23.397Z"
   },
   {
    "duration": 7,
    "start_time": "2022-05-06T10:00:06.082Z"
   },
   {
    "duration": 8,
    "start_time": "2022-05-06T10:00:13.165Z"
   },
   {
    "duration": 4383,
    "start_time": "2022-05-06T10:00:15.034Z"
   },
   {
    "duration": 6410,
    "start_time": "2022-05-06T10:06:14.585Z"
   },
   {
    "duration": 7,
    "start_time": "2022-05-06T10:06:48.009Z"
   },
   {
    "duration": 7,
    "start_time": "2022-05-06T10:06:57.030Z"
   },
   {
    "duration": 7,
    "start_time": "2022-05-06T10:07:13.514Z"
   },
   {
    "duration": 5,
    "start_time": "2022-05-06T10:09:43.683Z"
   },
   {
    "duration": 3,
    "start_time": "2022-05-06T10:09:45.516Z"
   },
   {
    "duration": 181744,
    "start_time": "2022-05-06T10:09:48.159Z"
   },
   {
    "duration": 4,
    "start_time": "2022-05-06T10:13:20.436Z"
   },
   {
    "duration": 5,
    "start_time": "2022-05-06T10:13:53.173Z"
   },
   {
    "duration": 4,
    "start_time": "2022-05-06T10:13:54.248Z"
   },
   {
    "duration": 74676,
    "start_time": "2022-05-06T10:13:56.010Z"
   },
   {
    "duration": 5,
    "start_time": "2022-05-06T10:15:10.687Z"
   },
   {
    "duration": 5,
    "start_time": "2022-05-06T10:15:16.373Z"
   },
   {
    "duration": 7,
    "start_time": "2022-05-06T10:15:23.688Z"
   },
   {
    "duration": 4,
    "start_time": "2022-05-06T10:15:35.471Z"
   },
   {
    "duration": 2,
    "start_time": "2022-05-06T10:15:36.572Z"
   },
   {
    "duration": 77693,
    "start_time": "2022-05-06T10:15:36.864Z"
   },
   {
    "duration": 6,
    "start_time": "2022-05-06T10:16:54.560Z"
   },
   {
    "duration": 5,
    "start_time": "2022-05-06T10:17:05.778Z"
   },
   {
    "duration": 3,
    "start_time": "2022-05-06T10:17:08.085Z"
   },
   {
    "duration": 0,
    "start_time": "2022-05-06T10:17:30.564Z"
   },
   {
    "duration": 0,
    "start_time": "2022-05-06T10:17:30.565Z"
   },
   {
    "duration": 0,
    "start_time": "2022-05-06T10:17:30.566Z"
   },
   {
    "duration": 0,
    "start_time": "2022-05-06T10:17:30.567Z"
   },
   {
    "duration": 6,
    "start_time": "2022-05-06T10:17:34.761Z"
   },
   {
    "duration": 3,
    "start_time": "2022-05-06T10:17:37.979Z"
   },
   {
    "duration": 72529,
    "start_time": "2022-05-06T10:17:38.501Z"
   },
   {
    "duration": 5,
    "start_time": "2022-05-06T10:18:51.032Z"
   },
   {
    "duration": 19208,
    "start_time": "2022-05-06T10:19:00.093Z"
   },
   {
    "duration": 7,
    "start_time": "2022-05-06T10:20:31.882Z"
   },
   {
    "duration": 8427,
    "start_time": "2022-05-06T11:03:37.387Z"
   },
   {
    "duration": 3165,
    "start_time": "2022-05-06T11:03:45.817Z"
   },
   {
    "duration": 2318,
    "start_time": "2022-05-06T11:03:48.984Z"
   },
   {
    "duration": 4,
    "start_time": "2022-05-06T11:03:51.305Z"
   },
   {
    "duration": 9,
    "start_time": "2022-05-06T11:03:51.311Z"
   },
   {
    "duration": 1116,
    "start_time": "2022-05-06T11:03:51.322Z"
   },
   {
    "duration": 8,
    "start_time": "2022-05-06T11:03:52.440Z"
   },
   {
    "duration": 13,
    "start_time": "2022-05-06T11:03:52.450Z"
   },
   {
    "duration": 42,
    "start_time": "2022-05-06T11:03:52.465Z"
   },
   {
    "duration": 3,
    "start_time": "2022-05-06T11:03:52.510Z"
   },
   {
    "duration": 12,
    "start_time": "2022-05-06T11:03:52.515Z"
   },
   {
    "duration": 19,
    "start_time": "2022-05-06T11:03:52.530Z"
   },
   {
    "duration": 5,
    "start_time": "2022-05-06T11:03:52.551Z"
   },
   {
    "duration": 347,
    "start_time": "2022-05-06T11:03:52.558Z"
   },
   {
    "duration": 5,
    "start_time": "2022-05-06T11:03:52.907Z"
   },
   {
    "duration": 4,
    "start_time": "2022-05-06T11:03:52.913Z"
   },
   {
    "duration": 1347,
    "start_time": "2022-05-06T11:03:52.919Z"
   },
   {
    "duration": 11,
    "start_time": "2022-05-06T11:03:54.268Z"
   },
   {
    "duration": 1170,
    "start_time": "2022-05-06T11:03:54.280Z"
   },
   {
    "duration": 7,
    "start_time": "2022-05-06T11:03:55.453Z"
   },
   {
    "duration": 221,
    "start_time": "2022-05-06T11:03:55.461Z"
   },
   {
    "duration": 7,
    "start_time": "2022-05-06T11:03:55.684Z"
   },
   {
    "duration": 1315,
    "start_time": "2022-05-06T11:03:55.692Z"
   },
   {
    "duration": 6,
    "start_time": "2022-05-06T11:03:57.010Z"
   },
   {
    "duration": 5,
    "start_time": "2022-05-06T11:03:57.018Z"
   },
   {
    "duration": 5,
    "start_time": "2022-05-06T11:03:57.024Z"
   },
   {
    "duration": 5,
    "start_time": "2022-05-06T11:03:57.030Z"
   },
   {
    "duration": 3,
    "start_time": "2022-05-06T11:03:57.049Z"
   },
   {
    "duration": 6300,
    "start_time": "2022-05-06T11:03:57.053Z"
   },
   {
    "duration": 10,
    "start_time": "2022-05-06T11:04:03.355Z"
   },
   {
    "duration": 4,
    "start_time": "2022-05-06T11:04:03.367Z"
   },
   {
    "duration": 143,
    "start_time": "2022-05-06T11:04:03.373Z"
   },
   {
    "duration": 58,
    "start_time": "2022-05-06T11:04:03.518Z"
   },
   {
    "duration": 200,
    "start_time": "2022-05-06T11:04:03.578Z"
   },
   {
    "duration": 6,
    "start_time": "2022-05-06T11:04:03.781Z"
   },
   {
    "duration": 2064,
    "start_time": "2022-05-06T11:04:03.789Z"
   },
   {
    "duration": 3,
    "start_time": "2022-05-06T11:04:05.855Z"
   },
   {
    "duration": 6,
    "start_time": "2022-05-06T11:04:05.860Z"
   },
   {
    "duration": 27,
    "start_time": "2022-05-06T11:04:05.868Z"
   },
   {
    "duration": 9,
    "start_time": "2022-05-06T11:04:05.897Z"
   },
   {
    "duration": 9,
    "start_time": "2022-05-06T11:04:05.908Z"
   },
   {
    "duration": 8,
    "start_time": "2022-05-06T11:04:05.918Z"
   },
   {
    "duration": 65938,
    "start_time": "2022-05-06T11:04:05.949Z"
   },
   {
    "duration": 182,
    "start_time": "2022-05-06T11:05:11.889Z"
   },
   {
    "duration": 0,
    "start_time": "2022-05-06T11:05:12.073Z"
   },
   {
    "duration": 0,
    "start_time": "2022-05-06T11:05:12.074Z"
   },
   {
    "duration": 0,
    "start_time": "2022-05-06T11:05:12.075Z"
   },
   {
    "duration": 0,
    "start_time": "2022-05-06T11:05:12.076Z"
   },
   {
    "duration": 0,
    "start_time": "2022-05-06T11:05:12.077Z"
   },
   {
    "duration": 0,
    "start_time": "2022-05-06T11:05:12.078Z"
   },
   {
    "duration": 0,
    "start_time": "2022-05-06T11:05:12.079Z"
   },
   {
    "duration": 0,
    "start_time": "2022-05-06T11:05:12.080Z"
   },
   {
    "duration": 0,
    "start_time": "2022-05-06T11:05:12.081Z"
   },
   {
    "duration": 0,
    "start_time": "2022-05-06T11:05:12.082Z"
   },
   {
    "duration": 0,
    "start_time": "2022-05-06T11:05:12.083Z"
   },
   {
    "duration": 0,
    "start_time": "2022-05-06T11:05:12.084Z"
   },
   {
    "duration": 0,
    "start_time": "2022-05-06T11:05:12.085Z"
   },
   {
    "duration": 32811,
    "start_time": "2022-05-06T11:05:24.768Z"
   },
   {
    "duration": 167314,
    "start_time": "2022-05-06T11:06:14.645Z"
   },
   {
    "duration": 5,
    "start_time": "2022-05-06T11:09:01.961Z"
   },
   {
    "duration": 31021,
    "start_time": "2022-05-06T11:09:01.968Z"
   },
   {
    "duration": 7,
    "start_time": "2022-05-06T11:09:32.991Z"
   },
   {
    "duration": 7,
    "start_time": "2022-05-06T11:09:33.000Z"
   },
   {
    "duration": 5,
    "start_time": "2022-05-06T11:09:33.008Z"
   },
   {
    "duration": 72934,
    "start_time": "2022-05-06T11:09:33.014Z"
   },
   {
    "duration": 4,
    "start_time": "2022-05-06T11:10:45.950Z"
   },
   {
    "duration": 17774,
    "start_time": "2022-05-06T11:10:45.956Z"
   },
   {
    "duration": 15,
    "start_time": "2022-05-06T11:11:03.733Z"
   },
   {
    "duration": 237,
    "start_time": "2022-05-06T11:11:03.749Z"
   },
   {
    "duration": 5,
    "start_time": "2022-05-06T11:11:03.988Z"
   },
   {
    "duration": 3777,
    "start_time": "2022-05-06T11:11:03.994Z"
   },
   {
    "duration": 7,
    "start_time": "2022-05-06T11:11:07.773Z"
   },
   {
    "duration": 23578,
    "start_time": "2022-05-06T11:11:07.782Z"
   },
   {
    "duration": 8,
    "start_time": "2022-05-06T11:44:57.695Z"
   },
   {
    "duration": 7,
    "start_time": "2022-05-06T11:45:17.170Z"
   },
   {
    "duration": 8,
    "start_time": "2022-05-06T11:45:33.924Z"
   },
   {
    "duration": 8,
    "start_time": "2022-05-06T11:45:40.106Z"
   },
   {
    "duration": 8,
    "start_time": "2022-05-06T11:45:46.896Z"
   },
   {
    "duration": 10,
    "start_time": "2022-05-06T11:45:57.231Z"
   },
   {
    "duration": 232,
    "start_time": "2022-05-06T11:46:00.455Z"
   },
   {
    "duration": 12351,
    "start_time": "2022-05-06T20:25:42.081Z"
   },
   {
    "duration": 1815,
    "start_time": "2022-05-06T20:25:54.435Z"
   },
   {
    "duration": 3300,
    "start_time": "2022-05-06T20:25:56.251Z"
   },
   {
    "duration": 5,
    "start_time": "2022-05-06T20:25:59.555Z"
   },
   {
    "duration": 5,
    "start_time": "2022-05-06T20:25:59.562Z"
   },
   {
    "duration": 986,
    "start_time": "2022-05-06T20:25:59.569Z"
   },
   {
    "duration": 3,
    "start_time": "2022-05-06T20:26:00.557Z"
   },
   {
    "duration": 113,
    "start_time": "2022-05-06T20:26:00.561Z"
   },
   {
    "duration": 42,
    "start_time": "2022-05-06T20:26:00.676Z"
   },
   {
    "duration": 4,
    "start_time": "2022-05-06T20:26:00.723Z"
   },
   {
    "duration": 7,
    "start_time": "2022-05-06T20:26:00.729Z"
   },
   {
    "duration": 9,
    "start_time": "2022-05-06T20:26:00.737Z"
   },
   {
    "duration": 17,
    "start_time": "2022-05-06T20:26:00.747Z"
   },
   {
    "duration": 182,
    "start_time": "2022-05-06T20:26:00.766Z"
   },
   {
    "duration": 5,
    "start_time": "2022-05-06T20:26:00.950Z"
   },
   {
    "duration": 23,
    "start_time": "2022-05-06T20:26:00.956Z"
   },
   {
    "duration": 1014,
    "start_time": "2022-05-06T20:26:00.981Z"
   },
   {
    "duration": 17,
    "start_time": "2022-05-06T20:26:01.997Z"
   },
   {
    "duration": 1353,
    "start_time": "2022-05-06T20:26:02.017Z"
   },
   {
    "duration": 7,
    "start_time": "2022-05-06T20:26:03.373Z"
   },
   {
    "duration": 269,
    "start_time": "2022-05-06T20:26:03.382Z"
   },
   {
    "duration": 7,
    "start_time": "2022-05-06T20:26:03.654Z"
   },
   {
    "duration": 1709,
    "start_time": "2022-05-06T20:26:03.663Z"
   },
   {
    "duration": 8,
    "start_time": "2022-05-06T20:26:05.374Z"
   },
   {
    "duration": 8,
    "start_time": "2022-05-06T20:26:05.383Z"
   },
   {
    "duration": 22,
    "start_time": "2022-05-06T20:26:05.393Z"
   },
   {
    "duration": 15,
    "start_time": "2022-05-06T20:26:05.421Z"
   },
   {
    "duration": 3,
    "start_time": "2022-05-06T20:26:05.441Z"
   },
   {
    "duration": 6042,
    "start_time": "2022-05-06T20:26:05.445Z"
   },
   {
    "duration": 7,
    "start_time": "2022-05-06T20:26:11.489Z"
   },
   {
    "duration": 15,
    "start_time": "2022-05-06T20:26:11.498Z"
   },
   {
    "duration": 124,
    "start_time": "2022-05-06T20:26:11.516Z"
   },
   {
    "duration": 37,
    "start_time": "2022-05-06T20:26:11.642Z"
   },
   {
    "duration": 158,
    "start_time": "2022-05-06T20:26:11.681Z"
   },
   {
    "duration": 7,
    "start_time": "2022-05-06T20:26:11.841Z"
   },
   {
    "duration": 1569,
    "start_time": "2022-05-06T20:26:11.850Z"
   },
   {
    "duration": 6,
    "start_time": "2022-05-06T20:26:13.421Z"
   },
   {
    "duration": 6,
    "start_time": "2022-05-06T20:26:13.430Z"
   },
   {
    "duration": 23,
    "start_time": "2022-05-06T20:26:13.439Z"
   },
   {
    "duration": 12,
    "start_time": "2022-05-06T20:26:13.464Z"
   },
   {
    "duration": 6,
    "start_time": "2022-05-06T20:26:13.477Z"
   },
   {
    "duration": 32,
    "start_time": "2022-05-06T20:26:13.485Z"
   },
   {
    "duration": 193807,
    "start_time": "2022-05-06T20:26:13.519Z"
   },
   {
    "duration": 6,
    "start_time": "2022-05-06T20:29:27.328Z"
   },
   {
    "duration": 36884,
    "start_time": "2022-05-06T20:29:27.335Z"
   },
   {
    "duration": 11,
    "start_time": "2022-05-06T20:30:04.223Z"
   },
   {
    "duration": 7,
    "start_time": "2022-05-06T20:30:04.236Z"
   },
   {
    "duration": 15,
    "start_time": "2022-05-06T20:30:04.248Z"
   },
   {
    "duration": 89242,
    "start_time": "2022-05-06T20:30:04.264Z"
   },
   {
    "duration": 5,
    "start_time": "2022-05-06T20:31:33.511Z"
   },
   {
    "duration": 21273,
    "start_time": "2022-05-06T20:31:33.517Z"
   },
   {
    "duration": 8,
    "start_time": "2022-05-06T20:31:54.792Z"
   },
   {
    "duration": 271,
    "start_time": "2022-05-06T20:31:54.807Z"
   },
   {
    "duration": 6,
    "start_time": "2022-05-06T20:31:55.080Z"
   },
   {
    "duration": 4651,
    "start_time": "2022-05-06T20:31:55.088Z"
   },
   {
    "duration": 9,
    "start_time": "2022-05-06T20:31:59.741Z"
   },
   {
    "duration": 256,
    "start_time": "2022-05-06T20:31:59.752Z"
   },
   {
    "duration": 18118,
    "start_time": "2022-05-06T20:32:00.010Z"
   },
   {
    "duration": 5,
    "start_time": "2022-05-06T20:32:23.204Z"
   },
   {
    "duration": 8,
    "start_time": "2022-05-06T20:32:23.212Z"
   },
   {
    "duration": 79804,
    "start_time": "2022-05-06T20:32:23.223Z"
   },
   {
    "duration": 6,
    "start_time": "2022-05-06T20:33:43.032Z"
   },
   {
    "duration": 19637,
    "start_time": "2022-05-06T20:33:43.040Z"
   },
   {
    "duration": 10,
    "start_time": "2022-05-06T20:34:02.679Z"
   },
   {
    "duration": 301,
    "start_time": "2022-05-06T20:34:02.690Z"
   },
   {
    "duration": 23,
    "start_time": "2022-05-06T20:34:02.993Z"
   },
   {
    "duration": 4788,
    "start_time": "2022-05-06T20:34:03.018Z"
   },
   {
    "duration": 20,
    "start_time": "2022-05-06T20:34:07.808Z"
   },
   {
    "duration": 241,
    "start_time": "2022-05-06T20:34:07.834Z"
   },
   {
    "duration": 26326,
    "start_time": "2022-05-06T20:34:08.077Z"
   },
   {
    "duration": 27333,
    "start_time": "2022-05-06T20:38:52.110Z"
   },
   {
    "duration": 8,
    "start_time": "2022-05-06T20:41:47.721Z"
   },
   {
    "duration": 18,
    "start_time": "2022-05-06T20:42:38.920Z"
   },
   {
    "duration": 865,
    "start_time": "2022-05-06T20:43:14.391Z"
   },
   {
    "duration": 10,
    "start_time": "2022-05-06T20:43:27.487Z"
   },
   {
    "duration": 12,
    "start_time": "2022-05-06T20:43:33.578Z"
   },
   {
    "duration": 14,
    "start_time": "2022-05-06T20:44:24.183Z"
   },
   {
    "duration": 5,
    "start_time": "2022-05-06T20:47:13.959Z"
   },
   {
    "duration": 4,
    "start_time": "2022-05-06T20:47:17.157Z"
   },
   {
    "duration": 439256,
    "start_time": "2022-05-06T20:47:18.165Z"
   },
   {
    "duration": 8,
    "start_time": "2022-05-06T20:54:37.424Z"
   },
   {
    "duration": 85,
    "start_time": "2022-05-06T20:54:37.434Z"
   },
   {
    "duration": 8,
    "start_time": "2022-05-06T20:57:24.229Z"
   },
   {
    "duration": 3,
    "start_time": "2022-05-06T20:57:30.286Z"
   },
   {
    "duration": 298535,
    "start_time": "2022-05-06T20:57:33.622Z"
   },
   {
    "duration": 10,
    "start_time": "2022-05-06T21:02:44.904Z"
   },
   {
    "duration": 103917,
    "start_time": "2022-05-06T21:02:59.278Z"
   },
   {
    "duration": 14,
    "start_time": "2022-05-06T21:04:56.328Z"
   },
   {
    "duration": 10,
    "start_time": "2022-05-06T21:05:10.312Z"
   },
   {
    "duration": 4756,
    "start_time": "2022-05-06T21:05:16.577Z"
   },
   {
    "duration": 7,
    "start_time": "2022-05-06T21:06:09.684Z"
   },
   {
    "duration": 87,
    "start_time": "2022-05-06T21:06:52.284Z"
   },
   {
    "duration": 96,
    "start_time": "2022-05-06T21:06:56.602Z"
   },
   {
    "duration": 8,
    "start_time": "2022-05-06T21:07:05.227Z"
   },
   {
    "duration": 6,
    "start_time": "2022-05-06T22:04:23.009Z"
   },
   {
    "duration": 4,
    "start_time": "2022-05-06T22:11:34.867Z"
   },
   {
    "duration": 4,
    "start_time": "2022-05-06T22:14:31.254Z"
   },
   {
    "duration": 3,
    "start_time": "2022-05-06T22:15:31.457Z"
   },
   {
    "duration": 25,
    "start_time": "2022-05-06T22:17:39.014Z"
   },
   {
    "duration": 6,
    "start_time": "2022-05-06T22:20:11.034Z"
   },
   {
    "duration": 6,
    "start_time": "2022-05-06T22:20:14.168Z"
   },
   {
    "duration": 4,
    "start_time": "2022-05-06T22:20:17.539Z"
   },
   {
    "duration": 22,
    "start_time": "2022-05-06T22:20:20.474Z"
   },
   {
    "duration": 4,
    "start_time": "2022-05-06T22:27:44.429Z"
   },
   {
    "duration": 14,
    "start_time": "2022-05-06T22:28:20.988Z"
   },
   {
    "duration": 8,
    "start_time": "2022-05-06T22:28:59.511Z"
   },
   {
    "duration": 490,
    "start_time": "2022-05-06T22:29:10.819Z"
   },
   {
    "duration": 17466,
    "start_time": "2022-05-07T07:25:45.714Z"
   },
   {
    "duration": 2417,
    "start_time": "2022-05-07T07:26:03.183Z"
   },
   {
    "duration": 5012,
    "start_time": "2022-05-07T07:26:05.603Z"
   },
   {
    "duration": 5,
    "start_time": "2022-05-07T07:26:10.619Z"
   },
   {
    "duration": 12,
    "start_time": "2022-05-07T07:26:10.626Z"
   },
   {
    "duration": 1455,
    "start_time": "2022-05-07T07:26:10.651Z"
   },
   {
    "duration": 4,
    "start_time": "2022-05-07T07:26:12.109Z"
   },
   {
    "duration": 35,
    "start_time": "2022-05-07T07:26:12.117Z"
   },
   {
    "duration": 41,
    "start_time": "2022-05-07T07:26:12.154Z"
   },
   {
    "duration": 3,
    "start_time": "2022-05-07T07:26:12.199Z"
   },
   {
    "duration": 6,
    "start_time": "2022-05-07T07:26:12.204Z"
   },
   {
    "duration": 6,
    "start_time": "2022-05-07T07:26:12.213Z"
   },
   {
    "duration": 4,
    "start_time": "2022-05-07T07:26:12.251Z"
   },
   {
    "duration": 357,
    "start_time": "2022-05-07T07:26:12.257Z"
   },
   {
    "duration": 7,
    "start_time": "2022-05-07T07:26:12.618Z"
   },
   {
    "duration": 6,
    "start_time": "2022-05-07T07:26:12.628Z"
   },
   {
    "duration": 1965,
    "start_time": "2022-05-07T07:26:12.653Z"
   },
   {
    "duration": 14,
    "start_time": "2022-05-07T07:26:14.621Z"
   },
   {
    "duration": 1598,
    "start_time": "2022-05-07T07:26:14.637Z"
   },
   {
    "duration": 15,
    "start_time": "2022-05-07T07:26:16.239Z"
   },
   {
    "duration": 320,
    "start_time": "2022-05-07T07:26:16.257Z"
   },
   {
    "duration": 10,
    "start_time": "2022-05-07T07:26:16.580Z"
   },
   {
    "duration": 2291,
    "start_time": "2022-05-07T07:26:16.593Z"
   },
   {
    "duration": 10,
    "start_time": "2022-05-07T07:26:18.887Z"
   },
   {
    "duration": 53,
    "start_time": "2022-05-07T07:26:18.899Z"
   },
   {
    "duration": 7,
    "start_time": "2022-05-07T07:26:18.954Z"
   },
   {
    "duration": 9,
    "start_time": "2022-05-07T07:26:18.963Z"
   },
   {
    "duration": 3,
    "start_time": "2022-05-07T07:26:18.978Z"
   },
   {
    "duration": 4132,
    "start_time": "2022-05-07T07:26:18.983Z"
   },
   {
    "duration": 10,
    "start_time": "2022-05-07T07:26:23.118Z"
   },
   {
    "duration": 5,
    "start_time": "2022-05-07T07:26:23.130Z"
   },
   {
    "duration": 144,
    "start_time": "2022-05-07T07:26:23.152Z"
   },
   {
    "duration": 55,
    "start_time": "2022-05-07T07:26:23.298Z"
   },
   {
    "duration": 152,
    "start_time": "2022-05-07T07:26:23.355Z"
   },
   {
    "duration": 6,
    "start_time": "2022-05-07T07:26:23.510Z"
   },
   {
    "duration": 2041,
    "start_time": "2022-05-07T07:26:23.518Z"
   },
   {
    "duration": 4,
    "start_time": "2022-05-07T07:26:25.561Z"
   },
   {
    "duration": 14,
    "start_time": "2022-05-07T07:26:25.567Z"
   },
   {
    "duration": 30,
    "start_time": "2022-05-07T07:26:25.583Z"
   },
   {
    "duration": 43,
    "start_time": "2022-05-07T07:26:25.615Z"
   },
   {
    "duration": 10,
    "start_time": "2022-05-07T07:26:25.661Z"
   },
   {
    "duration": 6,
    "start_time": "2022-05-07T07:26:25.673Z"
   },
   {
    "duration": 337899,
    "start_time": "2022-05-07T07:26:25.682Z"
   },
   {
    "duration": 7,
    "start_time": "2022-05-07T07:32:03.583Z"
   },
   {
    "duration": 131107,
    "start_time": "2022-05-07T07:32:03.592Z"
   },
   {
    "duration": 9,
    "start_time": "2022-05-07T07:34:14.701Z"
   },
   {
    "duration": 8,
    "start_time": "2022-05-07T07:34:14.712Z"
   },
   {
    "duration": 6,
    "start_time": "2022-05-07T07:34:14.722Z"
   },
   {
    "duration": 110279,
    "start_time": "2022-05-07T07:34:14.752Z"
   },
   {
    "duration": 20,
    "start_time": "2022-05-07T07:36:05.034Z"
   },
   {
    "duration": 26877,
    "start_time": "2022-05-07T07:36:05.057Z"
   },
   {
    "duration": 18,
    "start_time": "2022-05-07T07:36:31.936Z"
   },
   {
    "duration": 352,
    "start_time": "2022-05-07T07:36:31.957Z"
   },
   {
    "duration": 7,
    "start_time": "2022-05-07T07:36:32.311Z"
   },
   {
    "duration": 5495,
    "start_time": "2022-05-07T07:36:32.321Z"
   },
   {
    "duration": 10,
    "start_time": "2022-05-07T07:36:37.818Z"
   },
   {
    "duration": 343,
    "start_time": "2022-05-07T07:36:37.830Z"
   },
   {
    "duration": 4,
    "start_time": "2022-05-07T07:36:38.175Z"
   },
   {
    "duration": 13,
    "start_time": "2022-05-07T07:36:38.181Z"
   },
   {
    "duration": 460,
    "start_time": "2022-05-07T07:36:38.197Z"
   },
   {
    "duration": 92,
    "start_time": "2022-05-07T07:36:38.660Z"
   },
   {
    "duration": 4,
    "start_time": "2022-05-07T07:36:38.756Z"
   },
   {
    "duration": 40066,
    "start_time": "2022-05-07T07:36:38.762Z"
   },
   {
    "duration": 53,
    "start_time": "2022-05-07T12:49:15.654Z"
   },
   {
    "duration": 13047,
    "start_time": "2022-05-07T12:49:44.234Z"
   },
   {
    "duration": 2967,
    "start_time": "2022-05-07T12:49:57.284Z"
   },
   {
    "duration": 3623,
    "start_time": "2022-05-07T12:50:00.253Z"
   },
   {
    "duration": 3,
    "start_time": "2022-05-07T12:50:03.879Z"
   },
   {
    "duration": 5,
    "start_time": "2022-05-07T12:50:03.883Z"
   },
   {
    "duration": 900,
    "start_time": "2022-05-07T12:50:03.890Z"
   },
   {
    "duration": 3,
    "start_time": "2022-05-07T12:50:04.792Z"
   },
   {
    "duration": 27,
    "start_time": "2022-05-07T12:50:04.797Z"
   },
   {
    "duration": 33,
    "start_time": "2022-05-07T12:50:04.826Z"
   },
   {
    "duration": 2,
    "start_time": "2022-05-07T12:50:04.863Z"
   },
   {
    "duration": 4,
    "start_time": "2022-05-07T12:50:04.867Z"
   },
   {
    "duration": 3,
    "start_time": "2022-05-07T12:50:04.873Z"
   },
   {
    "duration": 4,
    "start_time": "2022-05-07T12:50:04.878Z"
   },
   {
    "duration": 191,
    "start_time": "2022-05-07T12:50:04.884Z"
   },
   {
    "duration": 5,
    "start_time": "2022-05-07T12:50:05.077Z"
   },
   {
    "duration": 5,
    "start_time": "2022-05-07T12:50:05.083Z"
   },
   {
    "duration": 848,
    "start_time": "2022-05-07T12:50:05.089Z"
   },
   {
    "duration": 8,
    "start_time": "2022-05-07T12:50:05.939Z"
   },
   {
    "duration": 1276,
    "start_time": "2022-05-07T12:50:05.949Z"
   },
   {
    "duration": 7,
    "start_time": "2022-05-07T12:50:07.228Z"
   },
   {
    "duration": 228,
    "start_time": "2022-05-07T12:50:07.236Z"
   },
   {
    "duration": 7,
    "start_time": "2022-05-07T12:50:07.466Z"
   },
   {
    "duration": 1419,
    "start_time": "2022-05-07T12:50:07.475Z"
   },
   {
    "duration": 6,
    "start_time": "2022-05-07T12:50:08.897Z"
   },
   {
    "duration": 18,
    "start_time": "2022-05-07T12:50:08.905Z"
   },
   {
    "duration": 10,
    "start_time": "2022-05-07T12:50:08.924Z"
   },
   {
    "duration": 12,
    "start_time": "2022-05-07T12:50:08.936Z"
   },
   {
    "duration": 9,
    "start_time": "2022-05-07T12:50:08.952Z"
   },
   {
    "duration": 4695,
    "start_time": "2022-05-07T12:50:08.963Z"
   },
   {
    "duration": 7,
    "start_time": "2022-05-07T12:50:13.660Z"
   },
   {
    "duration": 4,
    "start_time": "2022-05-07T12:50:13.669Z"
   },
   {
    "duration": 120,
    "start_time": "2022-05-07T12:50:13.675Z"
   },
   {
    "duration": 41,
    "start_time": "2022-05-07T12:50:13.797Z"
   },
   {
    "duration": 123,
    "start_time": "2022-05-07T12:50:13.840Z"
   },
   {
    "duration": 6,
    "start_time": "2022-05-07T12:50:13.965Z"
   },
   {
    "duration": 1509,
    "start_time": "2022-05-07T12:50:13.973Z"
   },
   {
    "duration": 3,
    "start_time": "2022-05-07T12:50:15.484Z"
   },
   {
    "duration": 7,
    "start_time": "2022-05-07T12:50:15.489Z"
   },
   {
    "duration": 25,
    "start_time": "2022-05-07T12:50:15.498Z"
   },
   {
    "duration": 11,
    "start_time": "2022-05-07T12:50:15.525Z"
   },
   {
    "duration": 7,
    "start_time": "2022-05-07T12:50:15.538Z"
   },
   {
    "duration": 5,
    "start_time": "2022-05-07T12:50:15.547Z"
   },
   {
    "duration": 263082,
    "start_time": "2022-05-07T12:50:15.553Z"
   },
   {
    "duration": 5,
    "start_time": "2022-05-07T12:54:38.637Z"
   },
   {
    "duration": 103062,
    "start_time": "2022-05-07T12:54:38.644Z"
   },
   {
    "duration": 14,
    "start_time": "2022-05-07T12:56:21.708Z"
   },
   {
    "duration": 5,
    "start_time": "2022-05-07T12:56:21.724Z"
   },
   {
    "duration": 5,
    "start_time": "2022-05-07T12:56:21.731Z"
   },
   {
    "duration": 78215,
    "start_time": "2022-05-07T12:56:21.738Z"
   },
   {
    "duration": 4,
    "start_time": "2022-05-07T12:57:39.955Z"
   },
   {
    "duration": 21131,
    "start_time": "2022-05-07T12:57:39.960Z"
   },
   {
    "duration": 7,
    "start_time": "2022-05-07T12:58:01.093Z"
   },
   {
    "duration": 355,
    "start_time": "2022-05-07T12:58:01.102Z"
   },
   {
    "duration": 5,
    "start_time": "2022-05-07T12:58:01.459Z"
   },
   {
    "duration": 3818,
    "start_time": "2022-05-07T12:58:01.467Z"
   },
   {
    "duration": 8,
    "start_time": "2022-05-07T12:58:05.287Z"
   },
   {
    "duration": 297,
    "start_time": "2022-05-07T12:58:05.297Z"
   },
   {
    "duration": 147,
    "start_time": "2022-05-07T12:58:05.596Z"
   },
   {
    "duration": 0,
    "start_time": "2022-05-07T12:58:05.745Z"
   },
   {
    "duration": 0,
    "start_time": "2022-05-07T12:58:05.746Z"
   },
   {
    "duration": 0,
    "start_time": "2022-05-07T12:58:05.747Z"
   },
   {
    "duration": 0,
    "start_time": "2022-05-07T12:58:05.748Z"
   },
   {
    "duration": 0,
    "start_time": "2022-05-07T12:58:05.749Z"
   },
   {
    "duration": 0,
    "start_time": "2022-05-07T12:58:05.750Z"
   },
   {
    "duration": 43,
    "start_time": "2022-05-07T12:58:38.357Z"
   },
   {
    "duration": 13,
    "start_time": "2022-05-07T13:06:10.610Z"
   },
   {
    "duration": 14,
    "start_time": "2022-05-07T13:06:21.430Z"
   },
   {
    "duration": 5,
    "start_time": "2022-05-07T13:06:32.028Z"
   },
   {
    "duration": 14,
    "start_time": "2022-05-07T13:06:50.762Z"
   },
   {
    "duration": 4,
    "start_time": "2022-05-07T13:11:54.479Z"
   },
   {
    "duration": 4,
    "start_time": "2022-05-07T13:20:33.682Z"
   },
   {
    "duration": 3,
    "start_time": "2022-05-07T13:22:07.126Z"
   },
   {
    "duration": 4,
    "start_time": "2022-05-07T13:23:26.568Z"
   },
   {
    "duration": 5,
    "start_time": "2022-05-07T13:27:12.082Z"
   },
   {
    "duration": 4,
    "start_time": "2022-05-07T13:29:21.535Z"
   },
   {
    "duration": 16616,
    "start_time": "2022-05-07T13:35:11.103Z"
   },
   {
    "duration": 24074,
    "start_time": "2022-05-07T13:35:34.357Z"
   },
   {
    "duration": 5098,
    "start_time": "2022-05-07T13:37:09.125Z"
   },
   {
    "duration": 5092,
    "start_time": "2022-05-07T13:38:15.975Z"
   },
   {
    "duration": 13,
    "start_time": "2022-05-07T13:39:03.040Z"
   },
   {
    "duration": 5084,
    "start_time": "2022-05-07T13:40:03.969Z"
   },
   {
    "duration": 12,
    "start_time": "2022-05-07T13:40:31.909Z"
   },
   {
    "duration": 8,
    "start_time": "2022-05-07T13:40:55.865Z"
   },
   {
    "duration": 334,
    "start_time": "2022-05-07T13:41:16.471Z"
   },
   {
    "duration": 9964,
    "start_time": "2022-05-07T13:49:08.628Z"
   },
   {
    "duration": 1786,
    "start_time": "2022-05-07T13:49:18.595Z"
   },
   {
    "duration": 2575,
    "start_time": "2022-05-07T13:49:20.383Z"
   },
   {
    "duration": 3,
    "start_time": "2022-05-07T13:49:22.961Z"
   },
   {
    "duration": 5,
    "start_time": "2022-05-07T13:49:22.966Z"
   },
   {
    "duration": 983,
    "start_time": "2022-05-07T13:49:22.973Z"
   },
   {
    "duration": 3,
    "start_time": "2022-05-07T13:49:23.957Z"
   },
   {
    "duration": 15,
    "start_time": "2022-05-07T13:49:23.962Z"
   },
   {
    "duration": 47,
    "start_time": "2022-05-07T13:49:23.979Z"
   },
   {
    "duration": 3,
    "start_time": "2022-05-07T13:49:24.029Z"
   },
   {
    "duration": 6,
    "start_time": "2022-05-07T13:49:24.033Z"
   },
   {
    "duration": 5,
    "start_time": "2022-05-07T13:49:24.041Z"
   },
   {
    "duration": 5,
    "start_time": "2022-05-07T13:49:24.047Z"
   },
   {
    "duration": 274,
    "start_time": "2022-05-07T13:49:24.054Z"
   },
   {
    "duration": 5,
    "start_time": "2022-05-07T13:49:24.329Z"
   },
   {
    "duration": 7,
    "start_time": "2022-05-07T13:49:24.336Z"
   },
   {
    "duration": 823,
    "start_time": "2022-05-07T13:49:24.344Z"
   },
   {
    "duration": 9,
    "start_time": "2022-05-07T13:49:25.170Z"
   },
   {
    "duration": 1281,
    "start_time": "2022-05-07T13:49:25.181Z"
   },
   {
    "duration": 8,
    "start_time": "2022-05-07T13:49:26.466Z"
   },
   {
    "duration": 237,
    "start_time": "2022-05-07T13:49:26.476Z"
   },
   {
    "duration": 8,
    "start_time": "2022-05-07T13:49:26.715Z"
   },
   {
    "duration": 1468,
    "start_time": "2022-05-07T13:49:26.725Z"
   },
   {
    "duration": 8,
    "start_time": "2022-05-07T13:49:28.196Z"
   },
   {
    "duration": 6,
    "start_time": "2022-05-07T13:49:28.206Z"
   },
   {
    "duration": 4,
    "start_time": "2022-05-07T13:49:28.223Z"
   },
   {
    "duration": 8,
    "start_time": "2022-05-07T13:49:28.230Z"
   },
   {
    "duration": 4,
    "start_time": "2022-05-07T13:49:28.242Z"
   },
   {
    "duration": 4745,
    "start_time": "2022-05-07T13:49:28.247Z"
   },
   {
    "duration": 8,
    "start_time": "2022-05-07T13:49:32.994Z"
   },
   {
    "duration": 6,
    "start_time": "2022-05-07T13:49:33.003Z"
   },
   {
    "duration": 113,
    "start_time": "2022-05-07T13:49:33.011Z"
   },
   {
    "duration": 37,
    "start_time": "2022-05-07T13:49:33.126Z"
   },
   {
    "duration": 128,
    "start_time": "2022-05-07T13:49:33.165Z"
   },
   {
    "duration": 6,
    "start_time": "2022-05-07T13:49:33.294Z"
   },
   {
    "duration": 1377,
    "start_time": "2022-05-07T13:49:33.301Z"
   },
   {
    "duration": 3,
    "start_time": "2022-05-07T13:49:34.680Z"
   },
   {
    "duration": 7,
    "start_time": "2022-05-07T13:49:34.685Z"
   },
   {
    "duration": 38,
    "start_time": "2022-05-07T13:49:34.693Z"
   },
   {
    "duration": 10,
    "start_time": "2022-05-07T13:49:34.733Z"
   },
   {
    "duration": 8,
    "start_time": "2022-05-07T13:49:34.744Z"
   },
   {
    "duration": 4,
    "start_time": "2022-05-07T13:49:34.754Z"
   },
   {
    "duration": 274078,
    "start_time": "2022-05-07T13:49:34.760Z"
   },
   {
    "duration": 4,
    "start_time": "2022-05-07T13:54:08.840Z"
   },
   {
    "duration": 102336,
    "start_time": "2022-05-07T13:54:08.846Z"
   },
   {
    "duration": 8,
    "start_time": "2022-05-07T13:55:51.184Z"
   },
   {
    "duration": 14,
    "start_time": "2022-05-07T13:55:51.193Z"
   },
   {
    "duration": 17,
    "start_time": "2022-05-07T13:55:51.208Z"
   },
   {
    "duration": 77740,
    "start_time": "2022-05-07T13:55:51.227Z"
   },
   {
    "duration": 5,
    "start_time": "2022-05-07T13:57:08.969Z"
   },
   {
    "duration": 19665,
    "start_time": "2022-05-07T13:57:08.975Z"
   },
   {
    "duration": 8,
    "start_time": "2022-05-07T13:57:28.642Z"
   },
   {
    "duration": 229,
    "start_time": "2022-05-07T13:57:28.651Z"
   },
   {
    "duration": 5,
    "start_time": "2022-05-07T13:57:28.882Z"
   },
   {
    "duration": 3617,
    "start_time": "2022-05-07T13:57:28.889Z"
   },
   {
    "duration": 8,
    "start_time": "2022-05-07T13:57:32.508Z"
   },
   {
    "duration": 274,
    "start_time": "2022-05-07T13:57:32.523Z"
   },
   {
    "duration": 59,
    "start_time": "2022-05-07T13:57:32.798Z"
   },
   {
    "duration": 6,
    "start_time": "2022-05-07T13:57:32.858Z"
   },
   {
    "duration": 13,
    "start_time": "2022-05-07T13:57:32.865Z"
   },
   {
    "duration": 21,
    "start_time": "2022-05-07T13:57:32.880Z"
   },
   {
    "duration": 13,
    "start_time": "2022-05-07T13:57:32.903Z"
   },
   {
    "duration": 29,
    "start_time": "2022-05-07T13:57:32.917Z"
   },
   {
    "duration": 23876,
    "start_time": "2022-05-07T13:57:32.948Z"
   },
   {
    "duration": 4943,
    "start_time": "2022-05-07T13:57:56.826Z"
   },
   {
    "duration": 152,
    "start_time": "2022-05-07T13:58:01.771Z"
   },
   {
    "duration": 10,
    "start_time": "2022-05-07T13:58:01.925Z"
   },
   {
    "duration": 266,
    "start_time": "2022-05-07T13:58:01.937Z"
   },
   {
    "duration": 25393,
    "start_time": "2022-05-07T13:58:02.206Z"
   },
   {
    "duration": 4,
    "start_time": "2022-05-07T14:06:05.524Z"
   },
   {
    "duration": 739,
    "start_time": "2022-05-07T14:06:07.666Z"
   }
  ],
  "accelerator": "GPU",
  "colab": {
   "machine_shape": "hm",
   "name": "18 вставить ссылку.ipynb",
   "provenance": [],
   "toc_visible": true
  },
  "kernelspec": {
   "display_name": "Python 3",
   "language": "python",
   "name": "python3"
  },
  "language_info": {
   "codemirror_mode": {
    "name": "ipython",
    "version": 3
   },
   "file_extension": ".py",
   "mimetype": "text/x-python",
   "name": "python",
   "nbconvert_exporter": "python",
   "pygments_lexer": "ipython3",
   "version": "3.8.8"
  },
  "nbTranslate": {
   "displayLangs": [
    "*"
   ],
   "hotkey": "alt-t",
   "langInMainMenu": true,
   "sourceLang": "ru",
   "targetLang": "en",
   "useGoogleTranslate": true
  },
  "toc": {
   "base_numbering": 1,
   "nav_menu": {},
   "number_sections": true,
   "sideBar": true,
   "skip_h1_title": true,
   "title_cell": "Содержание",
   "title_sidebar": "Contents",
   "toc_cell": true,
   "toc_position": {
    "height": "calc(100% - 180px)",
    "left": "10px",
    "top": "150px",
    "width": "365.2px"
   },
   "toc_section_display": true,
   "toc_window_display": true
  }
 },
 "nbformat": 4,
 "nbformat_minor": 1
}
