{
 "cells": [
  {
   "cell_type": "markdown",
   "metadata": {
    "id": "E0vqbgi9ay0H"
   },
   "source": [
    "# Яндекс.Музыка"
   ]
  },
  {
   "cell_type": "markdown",
   "metadata": {
    "id": "VUC88oWjTJw2"
   },
   "source": [
    "Сравнение Москвы и Петербурга окружено мифами. Например:\n",
    " * Москва — мегаполис, подчинённый жёсткому ритму рабочей недели;\n",
    " * Петербург — культурная столица, со своими вкусами.\n",
    "\n",
    "На данных Яндекс.Музыки мы сравним поведение пользователей двух столиц.\n",
    "\n",
    "**Цель исследования** — проверить три предположения:\n",
    "1. Активность пользователей зависит от дня недели. Причём в Москве и Петербурге это проявляется по-разному.\n",
    "2. В понедельник утром в Москве преобладают одни жанры, а в Петербурге — другие. Так же и вечером пятницы преобладают разные жанры — в зависимости от города. \n",
    "3. Москва и Петербург предпочитают разные жанры музыки. В Москве чаще слушают поп-музыку, в Петербурге — русский рэп.\n",
    "\n",
    "**Ход исследования**\n",
    "\n",
    "Данные о поведении пользователей мы получим из файла `yandex_music_project.csv`. О качестве данных ничего не известно. Поэтому перед проверкой предположений понадобится обзор данных. \n",
    "\n",
    "Мы проверим данные на ошибки и оценим их влияние на исследование. Затем, на этапе предобработки мы поищем возможность исправить самые критичные ошибки данных.\n",
    " \n",
    "Таким образом, исследование пройдёт в три этапа:\n",
    " 1. Обзор данных.\n",
    " 2. Предобработка данных.\n",
    " 3. Проверка предположений.\n",
    "\n"
   ]
  },
  {
   "cell_type": "markdown",
   "metadata": {
    "id": "Ml1hmfXC_Zcs"
   },
   "source": [
    "## Обзор данных\n",
    "\n",
    "Составим первое представление о данных Яндекс.Музыки."
   ]
  },
  {
   "cell_type": "markdown",
   "metadata": {
    "id": "57eAOGIz_Zcs"
   },
   "source": [
    "Основной инструмент аналитика — `pandas`. Импортируем эту библиотеку."
   ]
  },
  {
   "cell_type": "code",
   "execution_count": 1,
   "metadata": {
    "id": "AXN7PHPN_Zcs"
   },
   "outputs": [],
   "source": [
    "# импорт библиотеки pandas\n",
    "import pandas as pd"
   ]
  },
  {
   "cell_type": "markdown",
   "metadata": {
    "id": "SG23P8tt_Zcs"
   },
   "source": [
    "Прочитаем файл `yandex_music_project.csv` из папки `/datasets` и сохраним его в переменной `df`:"
   ]
  },
  {
   "cell_type": "code",
   "execution_count": 2,
   "metadata": {
    "id": "fFVu7vqh_Zct"
   },
   "outputs": [],
   "source": [
    "# чтение файла с данными и сохранение в df\n",
    "try:\n",
    "    df = pd.read_csv('/datasets/yandex_music_project.csv')\n",
    "except Exception as err:\n",
    "    print('Ошибка чтения файла:', repr(err))"
   ]
  },
  {
   "cell_type": "markdown",
   "metadata": {
    "id": "rDoOMd3uTqnZ"
   },
   "source": [
    "Выведем на экран первые десять строк таблицы:"
   ]
  },
  {
   "cell_type": "code",
   "execution_count": 3,
   "metadata": {
    "id": "oWTVX3gW_Zct"
   },
   "outputs": [
    {
     "data": {
      "text/html": [
       "<div>\n",
       "<style scoped>\n",
       "    .dataframe tbody tr th:only-of-type {\n",
       "        vertical-align: middle;\n",
       "    }\n",
       "\n",
       "    .dataframe tbody tr th {\n",
       "        vertical-align: top;\n",
       "    }\n",
       "\n",
       "    .dataframe thead th {\n",
       "        text-align: right;\n",
       "    }\n",
       "</style>\n",
       "<table border=\"1\" class=\"dataframe\">\n",
       "  <thead>\n",
       "    <tr style=\"text-align: right;\">\n",
       "      <th></th>\n",
       "      <th>userID</th>\n",
       "      <th>Track</th>\n",
       "      <th>artist</th>\n",
       "      <th>genre</th>\n",
       "      <th>City</th>\n",
       "      <th>time</th>\n",
       "      <th>Day</th>\n",
       "    </tr>\n",
       "  </thead>\n",
       "  <tbody>\n",
       "    <tr>\n",
       "      <td>0</td>\n",
       "      <td>FFB692EC</td>\n",
       "      <td>Kamigata To Boots</td>\n",
       "      <td>The Mass Missile</td>\n",
       "      <td>rock</td>\n",
       "      <td>Saint-Petersburg</td>\n",
       "      <td>20:28:33</td>\n",
       "      <td>Wednesday</td>\n",
       "    </tr>\n",
       "    <tr>\n",
       "      <td>1</td>\n",
       "      <td>55204538</td>\n",
       "      <td>Delayed Because of Accident</td>\n",
       "      <td>Andreas Rönnberg</td>\n",
       "      <td>rock</td>\n",
       "      <td>Moscow</td>\n",
       "      <td>14:07:09</td>\n",
       "      <td>Friday</td>\n",
       "    </tr>\n",
       "    <tr>\n",
       "      <td>2</td>\n",
       "      <td>20EC38</td>\n",
       "      <td>Funiculì funiculà</td>\n",
       "      <td>Mario Lanza</td>\n",
       "      <td>pop</td>\n",
       "      <td>Saint-Petersburg</td>\n",
       "      <td>20:58:07</td>\n",
       "      <td>Wednesday</td>\n",
       "    </tr>\n",
       "    <tr>\n",
       "      <td>3</td>\n",
       "      <td>A3DD03C9</td>\n",
       "      <td>Dragons in the Sunset</td>\n",
       "      <td>Fire + Ice</td>\n",
       "      <td>folk</td>\n",
       "      <td>Saint-Petersburg</td>\n",
       "      <td>08:37:09</td>\n",
       "      <td>Monday</td>\n",
       "    </tr>\n",
       "    <tr>\n",
       "      <td>4</td>\n",
       "      <td>E2DC1FAE</td>\n",
       "      <td>Soul People</td>\n",
       "      <td>Space Echo</td>\n",
       "      <td>dance</td>\n",
       "      <td>Moscow</td>\n",
       "      <td>08:34:34</td>\n",
       "      <td>Monday</td>\n",
       "    </tr>\n",
       "    <tr>\n",
       "      <td>5</td>\n",
       "      <td>842029A1</td>\n",
       "      <td>Преданная</td>\n",
       "      <td>IMPERVTOR</td>\n",
       "      <td>rusrap</td>\n",
       "      <td>Saint-Petersburg</td>\n",
       "      <td>13:09:41</td>\n",
       "      <td>Friday</td>\n",
       "    </tr>\n",
       "    <tr>\n",
       "      <td>6</td>\n",
       "      <td>4CB90AA5</td>\n",
       "      <td>True</td>\n",
       "      <td>Roman Messer</td>\n",
       "      <td>dance</td>\n",
       "      <td>Moscow</td>\n",
       "      <td>13:00:07</td>\n",
       "      <td>Wednesday</td>\n",
       "    </tr>\n",
       "    <tr>\n",
       "      <td>7</td>\n",
       "      <td>F03E1C1F</td>\n",
       "      <td>Feeling This Way</td>\n",
       "      <td>Polina Griffith</td>\n",
       "      <td>dance</td>\n",
       "      <td>Moscow</td>\n",
       "      <td>20:47:49</td>\n",
       "      <td>Wednesday</td>\n",
       "    </tr>\n",
       "    <tr>\n",
       "      <td>8</td>\n",
       "      <td>8FA1D3BE</td>\n",
       "      <td>И вновь продолжается бой</td>\n",
       "      <td>NaN</td>\n",
       "      <td>ruspop</td>\n",
       "      <td>Moscow</td>\n",
       "      <td>09:17:40</td>\n",
       "      <td>Friday</td>\n",
       "    </tr>\n",
       "    <tr>\n",
       "      <td>9</td>\n",
       "      <td>E772D5C0</td>\n",
       "      <td>Pessimist</td>\n",
       "      <td>NaN</td>\n",
       "      <td>dance</td>\n",
       "      <td>Saint-Petersburg</td>\n",
       "      <td>21:20:49</td>\n",
       "      <td>Wednesday</td>\n",
       "    </tr>\n",
       "  </tbody>\n",
       "</table>\n",
       "</div>"
      ],
      "text/plain": [
       "     userID                        Track            artist   genre  \\\n",
       "0  FFB692EC            Kamigata To Boots  The Mass Missile    rock   \n",
       "1  55204538  Delayed Because of Accident  Andreas Rönnberg    rock   \n",
       "2    20EC38            Funiculì funiculà       Mario Lanza     pop   \n",
       "3  A3DD03C9        Dragons in the Sunset        Fire + Ice    folk   \n",
       "4  E2DC1FAE                  Soul People        Space Echo   dance   \n",
       "5  842029A1                    Преданная         IMPERVTOR  rusrap   \n",
       "6  4CB90AA5                         True      Roman Messer   dance   \n",
       "7  F03E1C1F             Feeling This Way   Polina Griffith   dance   \n",
       "8  8FA1D3BE     И вновь продолжается бой               NaN  ruspop   \n",
       "9  E772D5C0                    Pessimist               NaN   dance   \n",
       "\n",
       "             City        time        Day  \n",
       "0  Saint-Petersburg  20:28:33  Wednesday  \n",
       "1            Moscow  14:07:09     Friday  \n",
       "2  Saint-Petersburg  20:58:07  Wednesday  \n",
       "3  Saint-Petersburg  08:37:09     Monday  \n",
       "4            Moscow  08:34:34     Monday  \n",
       "5  Saint-Petersburg  13:09:41     Friday  \n",
       "6            Moscow  13:00:07  Wednesday  \n",
       "7            Moscow  20:47:49  Wednesday  \n",
       "8            Moscow  09:17:40     Friday  \n",
       "9  Saint-Petersburg  21:20:49  Wednesday  "
      ]
     },
     "execution_count": 3,
     "metadata": {},
     "output_type": "execute_result"
    }
   ],
   "source": [
    "# получение первых 10 строк таблицы df\n",
    "df.head(10)"
   ]
  },
  {
   "cell_type": "markdown",
   "metadata": {
    "id": "EO73Kwic_Zct"
   },
   "source": [
    "Получим общую информацию о таблице:"
   ]
  },
  {
   "cell_type": "code",
   "execution_count": 4,
   "metadata": {
    "id": "DSf2kIb-_Zct"
   },
   "outputs": [
    {
     "name": "stdout",
     "output_type": "stream",
     "text": [
      "<class 'pandas.core.frame.DataFrame'>\n",
      "RangeIndex: 65079 entries, 0 to 65078\n",
      "Data columns (total 7 columns):\n",
      "  userID    65079 non-null object\n",
      "Track       63848 non-null object\n",
      "artist      57876 non-null object\n",
      "genre       63881 non-null object\n",
      "  City      65079 non-null object\n",
      "time        65079 non-null object\n",
      "Day         65079 non-null object\n",
      "dtypes: object(7)\n",
      "memory usage: 3.5+ MB\n"
     ]
    }
   ],
   "source": [
    "# получение общей информации о данных в таблице df\n",
    "df.info()"
   ]
  },
  {
   "cell_type": "markdown",
   "metadata": {
    "id": "TaQ2Iwbr_Zct"
   },
   "source": [
    "Итак, в таблице семь столбцов. Тип данных во всех столбцах — `object`.\n",
    "\n",
    "Согласно документации к данным:\n",
    "* `userID` — идентификатор пользователя;\n",
    "* `Track` — название трека;  \n",
    "* `artist` — имя исполнителя;\n",
    "* `genre` — название жанра;\n",
    "* `City` — город пользователя;\n",
    "* `time` — время начала прослушивания;\n",
    "* `Day` — день недели.\n",
    "\n",
    "В названиях колонок видны три нарушения стиля:\n",
    "1. Строчные буквы сочетаются с прописными.\n",
    "2. Встречаются пробелы.\n",
    "3. При нескольких словах в названии желательно использование змеиного регистра: user_id вместо userID (Найдите ещё одну проблему в названии колонок и опишите её в этом пункте.)\n",
    "\n",
    "\n",
    "\n",
    "\n",
    "Количество значений в столбцах различается. Значит, в данных есть пропущенные значения.\n"
   ]
  },
  {
   "cell_type": "markdown",
   "metadata": {
    "id": "MCB6-dXG_Zct"
   },
   "source": [
    "**Выводы**\n",
    "\n",
    "В каждой строке таблицы — данные о прослушанном треке. Часть колонок описывает саму композицию: название, исполнителя и жанр. Остальные данные рассказывают о пользователе: из какого он города, когда он слушал музыку. \n",
    "\n",
    "Предварительно можно утверждать, что, данных достаточно для проверки предположений. Но встречаются пропуски в данных, а в названиях колонок — расхождения с хорошим стилем.\n",
    "\n",
    "Чтобы двигаться дальше, нужно устранить проблемы в данных."
   ]
  },
  {
   "cell_type": "markdown",
   "metadata": {
    "id": "SjYF6Ub9_Zct"
   },
   "source": [
    "## Предобработка данных\n",
    "Исправим стиль в заголовках столбцов, исключим пропуски. Затем проверим данные на дубликаты."
   ]
  },
  {
   "cell_type": "markdown",
   "metadata": {
    "id": "dIaKXr29_Zct"
   },
   "source": [
    "### Стиль заголовков\n",
    "Выведем на экран названия столбцов:"
   ]
  },
  {
   "cell_type": "code",
   "execution_count": 5,
   "metadata": {
    "id": "oKOTdF_Q_Zct"
   },
   "outputs": [
    {
     "data": {
      "text/plain": [
       "Index(['  userID', 'Track', 'artist', 'genre', '  City  ', 'time', 'Day'], dtype='object')"
      ]
     },
     "execution_count": 5,
     "metadata": {},
     "output_type": "execute_result"
    }
   ],
   "source": [
    "# перечень названий столбцов таблицы df\n",
    "df.columns"
   ]
  },
  {
   "cell_type": "markdown",
   "metadata": {
    "id": "zj5534cv_Zct"
   },
   "source": [
    "Приведем названия в соответствие с хорошим стилем:\n",
    "* несколько слов в названии запишите в «змеином_регистре»,\n",
    "* все символы сделайте строчными,\n",
    "* устраните пробелы.\n",
    "\n",
    "Для этого переименуем колонки так:\n",
    "* `'  userID'` → `'user_id'`;\n",
    "* `'Track'` → `'track'`;\n",
    "* `'  City  '` → `'city'`;\n",
    "* `'Day'` → `'day'`."
   ]
  },
  {
   "cell_type": "code",
   "execution_count": 6,
   "metadata": {
    "id": "ISlFqs5y_Zct"
   },
   "outputs": [],
   "source": [
    "# переименование столбцов\n",
    "df = df.rename(columns={\n",
    "    '  userID': 'user_id',\n",
    "    'Track': 'track',\n",
    "    '  City  ': 'city',\n",
    "    'Day': 'day'\n",
    "})"
   ]
  },
  {
   "cell_type": "markdown",
   "metadata": {
    "id": "1dqbh00J_Zct"
   },
   "source": [
    "Проверим результат."
   ]
  },
  {
   "cell_type": "code",
   "execution_count": 7,
   "metadata": {
    "id": "d4NOAmTW_Zct"
   },
   "outputs": [
    {
     "data": {
      "text/plain": [
       "Index(['user_id', 'track', 'artist', 'genre', 'city', 'time', 'day'], dtype='object')"
      ]
     },
     "execution_count": 7,
     "metadata": {},
     "output_type": "execute_result"
    }
   ],
   "source": [
    "# проверка результатов - перечень названий столбцов\n",
    "df.columns"
   ]
  },
  {
   "cell_type": "markdown",
   "metadata": {
    "id": "5ISfbcfY_Zct"
   },
   "source": [
    "### Пропуски значений\n",
    "Сначала посчитаем, сколько в таблице пропущенных значений."
   ]
  },
  {
   "cell_type": "code",
   "execution_count": 8,
   "metadata": {
    "id": "RskX29qr_Zct"
   },
   "outputs": [
    {
     "data": {
      "text/plain": [
       "user_id       0\n",
       "track      1231\n",
       "artist     7203\n",
       "genre      1198\n",
       "city          0\n",
       "time          0\n",
       "day           0\n",
       "dtype: int64"
      ]
     },
     "execution_count": 8,
     "metadata": {},
     "output_type": "execute_result"
    }
   ],
   "source": [
    "# подсчёт пропусков\n",
    "df.isna().sum()"
   ]
  },
  {
   "cell_type": "markdown",
   "metadata": {
    "id": "qubhgnlO_Zct"
   },
   "source": [
    "Не все пропущенные значения влияют на исследование. Так в `track` и `artist` пропуски не важны для нашей работы. Достаточно заменить их явными обозначениями.\n",
    "\n",
    "Но пропуски в `genre` могут помешать сравнению музыкальных вкусов в Москве и Санкт-Петербурге. Придётся:\n",
    "* заполнить и эти пропуски явными обозначениями,\n",
    "* оценить, насколько они повредят расчётам. "
   ]
  },
  {
   "cell_type": "markdown",
   "metadata": {
    "id": "fSv2laPA_Zct"
   },
   "source": [
    "Заменим пропущенные значения в столбцах `track`, `artist` и `genre` на строку `'unknown'`. Для этого создадим список `columns_to_replace`, переберем его элементы циклом `for` и для каждого столбца выполним замену пропущенных значений:"
   ]
  },
  {
   "cell_type": "code",
   "execution_count": 9,
   "metadata": {
    "id": "KplB5qWs_Zct"
   },
   "outputs": [],
   "source": [
    "# перебор названий столбцов в цикле и замена пропущенных значений на 'unknown'\n",
    "columns_to_replace = ['track', 'artist', 'genre']\n",
    "for column in columns_to_replace:\n",
    "    df[column] = df[column].fillna('unknown')"
   ]
  },
  {
   "cell_type": "markdown",
   "metadata": {
    "id": "Ilsm-MZo_Zct"
   },
   "source": [
    "Убедимся, что в таблице не осталось пропусков. Для этого ещё раз посчитаем пропущенные значения."
   ]
  },
  {
   "cell_type": "code",
   "execution_count": 10,
   "metadata": {
    "id": "Tq4nYRX4_Zct"
   },
   "outputs": [
    {
     "data": {
      "text/plain": [
       "user_id    0\n",
       "track      0\n",
       "artist     0\n",
       "genre      0\n",
       "city       0\n",
       "time       0\n",
       "day        0\n",
       "dtype: int64"
      ]
     },
     "execution_count": 10,
     "metadata": {},
     "output_type": "execute_result"
    }
   ],
   "source": [
    "# подсчёт пропусков\n",
    "df.isna().sum()"
   ]
  },
  {
   "cell_type": "markdown",
   "metadata": {
    "id": "BWKRtBJ3_Zct"
   },
   "source": [
    "### Дубликаты\n",
    "Посчитаем явные дубликаты в таблице:"
   ]
  },
  {
   "cell_type": "code",
   "execution_count": 11,
   "metadata": {
    "id": "36eES_S0_Zct"
   },
   "outputs": [
    {
     "data": {
      "text/plain": [
       "3826"
      ]
     },
     "execution_count": 11,
     "metadata": {},
     "output_type": "execute_result"
    }
   ],
   "source": [
    "# подсчёт явных дубликатов\n",
    "df.duplicated().sum()"
   ]
  },
  {
   "cell_type": "markdown",
   "metadata": {
    "id": "Ot25h6XR_Zct"
   },
   "source": [
    "Удалим явные дубликаты:"
   ]
  },
  {
   "cell_type": "code",
   "execution_count": 12,
   "metadata": {
    "id": "exFHq6tt_Zct"
   },
   "outputs": [],
   "source": [
    "# удаление явных дубликатов (с удалением старых индексов и формированием новых)\n",
    "df = df.drop_duplicates().reset_index(drop=True)"
   ]
  },
  {
   "cell_type": "markdown",
   "metadata": {
    "id": "Im2YwBEG_Zct"
   },
   "source": [
    "Ещё раз посчитаем явные дубликаты в таблице — убедимся, что полностью от них избавились:"
   ]
  },
  {
   "cell_type": "code",
   "execution_count": 13,
   "metadata": {
    "id": "-8PuNWQ0_Zct"
   },
   "outputs": [
    {
     "data": {
      "text/plain": [
       "0"
      ]
     },
     "execution_count": 13,
     "metadata": {},
     "output_type": "execute_result"
    }
   ],
   "source": [
    "# проверка на отсутствие дубликатов\n",
    "df.duplicated().sum()"
   ]
  },
  {
   "cell_type": "markdown",
   "metadata": {
    "id": "QlFBsxAr_Zct"
   },
   "source": [
    "Теперь избавимся от неявных дубликатов в колонке `genre`. Например, название одного и того же жанра может быть записано немного по-разному. Такие ошибки тоже повлияют на результат исследования."
   ]
  },
  {
   "cell_type": "markdown",
   "metadata": {
    "id": "eSjWwsOh_Zct"
   },
   "source": [
    "Выведем на экран список уникальных названий жанров, отсортированный в алфавитном порядке. Для этого:\n",
    "* извлечем нужный столбец датафрейма, \n",
    "* применим к нему метод сортировки,\n",
    "* для отсортированного столбца вызовем метод, который вернёт уникальные значения из столбца."
   ]
  },
  {
   "cell_type": "code",
   "execution_count": 14,
   "metadata": {
    "id": "JIUcqzZN_Zct"
   },
   "outputs": [
    {
     "data": {
      "text/plain": [
       "['acid',\n",
       " 'acoustic',\n",
       " 'action',\n",
       " 'adult',\n",
       " 'africa',\n",
       " 'afrikaans',\n",
       " 'alternative',\n",
       " 'alternativepunk',\n",
       " 'ambient',\n",
       " 'americana',\n",
       " 'animated',\n",
       " 'anime',\n",
       " 'arabesk',\n",
       " 'arabic',\n",
       " 'arena',\n",
       " 'argentinetango',\n",
       " 'art',\n",
       " 'audiobook',\n",
       " 'author',\n",
       " 'avantgarde',\n",
       " 'axé',\n",
       " 'baile',\n",
       " 'balkan',\n",
       " 'beats',\n",
       " 'bigroom',\n",
       " 'black',\n",
       " 'bluegrass',\n",
       " 'blues',\n",
       " 'bollywood',\n",
       " 'bossa',\n",
       " 'brazilian',\n",
       " 'breakbeat',\n",
       " 'breaks',\n",
       " 'broadway',\n",
       " 'cantautori',\n",
       " 'cantopop',\n",
       " 'canzone',\n",
       " 'caribbean',\n",
       " 'caucasian',\n",
       " 'celtic',\n",
       " 'chamber',\n",
       " 'chanson',\n",
       " 'children',\n",
       " 'chill',\n",
       " 'chinese',\n",
       " 'choral',\n",
       " 'christian',\n",
       " 'christmas',\n",
       " 'classical',\n",
       " 'classicmetal',\n",
       " 'club',\n",
       " 'colombian',\n",
       " 'comedy',\n",
       " 'conjazz',\n",
       " 'contemporary',\n",
       " 'country',\n",
       " 'cuban',\n",
       " 'dance',\n",
       " 'dancehall',\n",
       " 'dancepop',\n",
       " 'dark',\n",
       " 'death',\n",
       " 'deep',\n",
       " 'deutschrock',\n",
       " 'deutschspr',\n",
       " 'dirty',\n",
       " 'disco',\n",
       " 'dnb',\n",
       " 'documentary',\n",
       " 'downbeat',\n",
       " 'downtempo',\n",
       " 'drum',\n",
       " 'dub',\n",
       " 'dubstep',\n",
       " 'eastern',\n",
       " 'easy',\n",
       " 'electronic',\n",
       " 'electropop',\n",
       " 'emo',\n",
       " 'entehno',\n",
       " 'epicmetal',\n",
       " 'estrada',\n",
       " 'ethnic',\n",
       " 'eurofolk',\n",
       " 'european',\n",
       " 'experimental',\n",
       " 'extrememetal',\n",
       " 'fado',\n",
       " 'fairytail',\n",
       " 'film',\n",
       " 'fitness',\n",
       " 'flamenco',\n",
       " 'folk',\n",
       " 'folklore',\n",
       " 'folkmetal',\n",
       " 'folkrock',\n",
       " 'folktronica',\n",
       " 'forró',\n",
       " 'frankreich',\n",
       " 'französisch',\n",
       " 'french',\n",
       " 'funk',\n",
       " 'future',\n",
       " 'gangsta',\n",
       " 'garage',\n",
       " 'german',\n",
       " 'ghazal',\n",
       " 'gitarre',\n",
       " 'glitch',\n",
       " 'gospel',\n",
       " 'gothic',\n",
       " 'grime',\n",
       " 'grunge',\n",
       " 'gypsy',\n",
       " 'handsup',\n",
       " \"hard'n'heavy\",\n",
       " 'hardcore',\n",
       " 'hardstyle',\n",
       " 'hardtechno',\n",
       " 'hip',\n",
       " 'hip-hop',\n",
       " 'hiphop',\n",
       " 'historisch',\n",
       " 'holiday',\n",
       " 'hop',\n",
       " 'horror',\n",
       " 'house',\n",
       " 'hymn',\n",
       " 'idm',\n",
       " 'independent',\n",
       " 'indian',\n",
       " 'indie',\n",
       " 'indipop',\n",
       " 'industrial',\n",
       " 'inspirational',\n",
       " 'instrumental',\n",
       " 'international',\n",
       " 'irish',\n",
       " 'jam',\n",
       " 'japanese',\n",
       " 'jazz',\n",
       " 'jewish',\n",
       " 'jpop',\n",
       " 'jungle',\n",
       " 'k-pop',\n",
       " 'karadeniz',\n",
       " 'karaoke',\n",
       " 'kayokyoku',\n",
       " 'korean',\n",
       " 'laiko',\n",
       " 'latin',\n",
       " 'latino',\n",
       " 'leftfield',\n",
       " 'local',\n",
       " 'lounge',\n",
       " 'loungeelectronic',\n",
       " 'lovers',\n",
       " 'malaysian',\n",
       " 'mandopop',\n",
       " 'marschmusik',\n",
       " 'meditative',\n",
       " 'mediterranean',\n",
       " 'melodic',\n",
       " 'metal',\n",
       " 'metalcore',\n",
       " 'mexican',\n",
       " 'middle',\n",
       " 'minimal',\n",
       " 'miscellaneous',\n",
       " 'modern',\n",
       " 'mood',\n",
       " 'mpb',\n",
       " 'muslim',\n",
       " 'native',\n",
       " 'neoklassik',\n",
       " 'neue',\n",
       " 'new',\n",
       " 'newage',\n",
       " 'newwave',\n",
       " 'nu',\n",
       " 'nujazz',\n",
       " 'numetal',\n",
       " 'oceania',\n",
       " 'old',\n",
       " 'opera',\n",
       " 'orchestral',\n",
       " 'other',\n",
       " 'piano',\n",
       " 'podcasts',\n",
       " 'pop',\n",
       " 'popdance',\n",
       " 'popelectronic',\n",
       " 'popeurodance',\n",
       " 'poprussian',\n",
       " 'post',\n",
       " 'posthardcore',\n",
       " 'postrock',\n",
       " 'power',\n",
       " 'progmetal',\n",
       " 'progressive',\n",
       " 'psychedelic',\n",
       " 'punjabi',\n",
       " 'punk',\n",
       " 'quebecois',\n",
       " 'ragga',\n",
       " 'ram',\n",
       " 'rancheras',\n",
       " 'rap',\n",
       " 'rave',\n",
       " 'reggae',\n",
       " 'reggaeton',\n",
       " 'regional',\n",
       " 'relax',\n",
       " 'religious',\n",
       " 'retro',\n",
       " 'rhythm',\n",
       " 'rnb',\n",
       " 'rnr',\n",
       " 'rock',\n",
       " 'rockabilly',\n",
       " 'rockalternative',\n",
       " 'rockindie',\n",
       " 'rockother',\n",
       " 'romance',\n",
       " 'roots',\n",
       " 'ruspop',\n",
       " 'rusrap',\n",
       " 'rusrock',\n",
       " 'russian',\n",
       " 'salsa',\n",
       " 'samba',\n",
       " 'scenic',\n",
       " 'schlager',\n",
       " 'self',\n",
       " 'sertanejo',\n",
       " 'shanson',\n",
       " 'shoegazing',\n",
       " 'showtunes',\n",
       " 'singer',\n",
       " 'ska',\n",
       " 'skarock',\n",
       " 'slow',\n",
       " 'smooth',\n",
       " 'soft',\n",
       " 'soul',\n",
       " 'soulful',\n",
       " 'sound',\n",
       " 'soundtrack',\n",
       " 'southern',\n",
       " 'specialty',\n",
       " 'speech',\n",
       " 'spiritual',\n",
       " 'sport',\n",
       " 'stonerrock',\n",
       " 'surf',\n",
       " 'swing',\n",
       " 'synthpop',\n",
       " 'synthrock',\n",
       " 'sängerportrait',\n",
       " 'tango',\n",
       " 'tanzorchester',\n",
       " 'taraftar',\n",
       " 'tatar',\n",
       " 'tech',\n",
       " 'techno',\n",
       " 'teen',\n",
       " 'thrash',\n",
       " 'top',\n",
       " 'traditional',\n",
       " 'tradjazz',\n",
       " 'trance',\n",
       " 'tribal',\n",
       " 'trip',\n",
       " 'triphop',\n",
       " 'tropical',\n",
       " 'türk',\n",
       " 'türkçe',\n",
       " 'ukrrock',\n",
       " 'unknown',\n",
       " 'urban',\n",
       " 'uzbek',\n",
       " 'variété',\n",
       " 'vi',\n",
       " 'videogame',\n",
       " 'vocal',\n",
       " 'western',\n",
       " 'world',\n",
       " 'worldbeat',\n",
       " 'ïîï',\n",
       " 'электроника']"
      ]
     },
     "execution_count": 14,
     "metadata": {},
     "output_type": "execute_result"
    }
   ],
   "source": [
    "# Просмотр уникальных названий жанров\n",
    "sorted(df['genre'].unique())"
   ]
  },
  {
   "cell_type": "markdown",
   "metadata": {
    "id": "qej-Qmuo_Zct"
   },
   "source": [
    "Просмотрим список и найдем неявные дубликаты названия `hiphop`. Это могут быть названия с ошибками или альтернативные названия того же жанра.\n",
    "\n",
    "Мы видим следующие неявные дубликаты:\n",
    "* *hip*,\n",
    "* *hop*,\n",
    "* *hip-hop*.\n",
    "\n",
    "Чтобы очистить от них таблицу, напишем функцию `replace_wrong_genres()` с двумя параметрами: \n",
    "* `wrong_genres` — список дубликатов,\n",
    "* `correct_genre` — строка с правильным значением.\n",
    "\n",
    "Функция должна исправить колонку `genre` в таблице `df`: заменить каждое значение из списка `wrong_genres` на значение из `correct_genre`."
   ]
  },
  {
   "cell_type": "code",
   "execution_count": 15,
   "metadata": {
    "id": "ErNDkmns_Zct"
   },
   "outputs": [],
   "source": [
    "# Функция для замены неявных дубликатов\n",
    "def replace_wrong_genres(wrong_genres, correct_genre):\n",
    "    for genre in wrong_genres:\n",
    "        df['genre'] = df['genre'].replace(genre, correct_genre)"
   ]
  },
  {
   "cell_type": "markdown",
   "metadata": {
    "id": "aDoBJxbA_Zct"
   },
   "source": [
    "Вызовем `replace_wrong_genres()` и передадим ей такие аргументы, чтобы она устранила неявные дубликаты:"
   ]
  },
  {
   "cell_type": "code",
   "execution_count": 16,
   "metadata": {
    "id": "YN5i2hpmSo09",
    "scrolled": false
   },
   "outputs": [],
   "source": [
    "# Устранение неявных дубликатов\n",
    "wrong_genres_list = ['hip', 'hop', 'hip-hop']\n",
    "replace_wrong_genres(wrong_genres_list, 'hiphop')\n",
    "# Также помимо хипхопа существует дубликат \"электроника\" и \"electronic\"\n",
    "replace_wrong_genres(['электроника'], 'electronic')"
   ]
  },
  {
   "cell_type": "markdown",
   "metadata": {},
   "source": [
    "Так же существует жанр `'ïîï'`, который выглядит достаточно странно, посмотрим, сколько наблюдений с таким жанром у нас в таблице."
   ]
  },
  {
   "cell_type": "code",
   "execution_count": 17,
   "metadata": {},
   "outputs": [
    {
     "data": {
      "text/html": [
       "<div>\n",
       "<style scoped>\n",
       "    .dataframe tbody tr th:only-of-type {\n",
       "        vertical-align: middle;\n",
       "    }\n",
       "\n",
       "    .dataframe tbody tr th {\n",
       "        vertical-align: top;\n",
       "    }\n",
       "\n",
       "    .dataframe thead th {\n",
       "        text-align: right;\n",
       "    }\n",
       "</style>\n",
       "<table border=\"1\" class=\"dataframe\">\n",
       "  <thead>\n",
       "    <tr style=\"text-align: right;\">\n",
       "      <th></th>\n",
       "      <th>user_id</th>\n",
       "      <th>track</th>\n",
       "      <th>artist</th>\n",
       "      <th>genre</th>\n",
       "      <th>city</th>\n",
       "      <th>time</th>\n",
       "      <th>day</th>\n",
       "    </tr>\n",
       "  </thead>\n",
       "  <tbody>\n",
       "    <tr>\n",
       "      <td>8448</td>\n",
       "      <td>A439123F</td>\n",
       "      <td>Flip It</td>\n",
       "      <td>unknown</td>\n",
       "      <td>ïîï</td>\n",
       "      <td>Moscow</td>\n",
       "      <td>09:08:51</td>\n",
       "      <td>Friday</td>\n",
       "    </tr>\n",
       "  </tbody>\n",
       "</table>\n",
       "</div>"
      ],
      "text/plain": [
       "       user_id    track   artist genre    city      time     day\n",
       "8448  A439123F  Flip It  unknown   ïîï  Moscow  09:08:51  Friday"
      ]
     },
     "execution_count": 17,
     "metadata": {},
     "output_type": "execute_result"
    }
   ],
   "source": [
    "strange_genre = df[df['genre'] == 'ïîï']\n",
    "strange_genre"
   ]
  },
  {
   "cell_type": "markdown",
   "metadata": {},
   "source": [
    "Мы не очень разбираемся в музыке, но кажется, что это ошибка в названии жанра, на что её исправить? Так как такая строчка в таблице только одна, решаем её пока оставить."
   ]
  },
  {
   "cell_type": "markdown",
   "metadata": {
    "id": "zQKF16_RG15m"
   },
   "source": [
    "Проверим, что заменили неправильные названия.\n",
    "\n",
    "Выведем отсортированный список уникальных значений столбца `genre`:"
   ]
  },
  {
   "cell_type": "code",
   "execution_count": 18,
   "metadata": {
    "id": "wvixALnFG15m"
   },
   "outputs": [
    {
     "data": {
      "text/plain": [
       "['acid',\n",
       " 'acoustic',\n",
       " 'action',\n",
       " 'adult',\n",
       " 'africa',\n",
       " 'afrikaans',\n",
       " 'alternative',\n",
       " 'alternativepunk',\n",
       " 'ambient',\n",
       " 'americana',\n",
       " 'animated',\n",
       " 'anime',\n",
       " 'arabesk',\n",
       " 'arabic',\n",
       " 'arena',\n",
       " 'argentinetango',\n",
       " 'art',\n",
       " 'audiobook',\n",
       " 'author',\n",
       " 'avantgarde',\n",
       " 'axé',\n",
       " 'baile',\n",
       " 'balkan',\n",
       " 'beats',\n",
       " 'bigroom',\n",
       " 'black',\n",
       " 'bluegrass',\n",
       " 'blues',\n",
       " 'bollywood',\n",
       " 'bossa',\n",
       " 'brazilian',\n",
       " 'breakbeat',\n",
       " 'breaks',\n",
       " 'broadway',\n",
       " 'cantautori',\n",
       " 'cantopop',\n",
       " 'canzone',\n",
       " 'caribbean',\n",
       " 'caucasian',\n",
       " 'celtic',\n",
       " 'chamber',\n",
       " 'chanson',\n",
       " 'children',\n",
       " 'chill',\n",
       " 'chinese',\n",
       " 'choral',\n",
       " 'christian',\n",
       " 'christmas',\n",
       " 'classical',\n",
       " 'classicmetal',\n",
       " 'club',\n",
       " 'colombian',\n",
       " 'comedy',\n",
       " 'conjazz',\n",
       " 'contemporary',\n",
       " 'country',\n",
       " 'cuban',\n",
       " 'dance',\n",
       " 'dancehall',\n",
       " 'dancepop',\n",
       " 'dark',\n",
       " 'death',\n",
       " 'deep',\n",
       " 'deutschrock',\n",
       " 'deutschspr',\n",
       " 'dirty',\n",
       " 'disco',\n",
       " 'dnb',\n",
       " 'documentary',\n",
       " 'downbeat',\n",
       " 'downtempo',\n",
       " 'drum',\n",
       " 'dub',\n",
       " 'dubstep',\n",
       " 'eastern',\n",
       " 'easy',\n",
       " 'electronic',\n",
       " 'electropop',\n",
       " 'emo',\n",
       " 'entehno',\n",
       " 'epicmetal',\n",
       " 'estrada',\n",
       " 'ethnic',\n",
       " 'eurofolk',\n",
       " 'european',\n",
       " 'experimental',\n",
       " 'extrememetal',\n",
       " 'fado',\n",
       " 'fairytail',\n",
       " 'film',\n",
       " 'fitness',\n",
       " 'flamenco',\n",
       " 'folk',\n",
       " 'folklore',\n",
       " 'folkmetal',\n",
       " 'folkrock',\n",
       " 'folktronica',\n",
       " 'forró',\n",
       " 'frankreich',\n",
       " 'französisch',\n",
       " 'french',\n",
       " 'funk',\n",
       " 'future',\n",
       " 'gangsta',\n",
       " 'garage',\n",
       " 'german',\n",
       " 'ghazal',\n",
       " 'gitarre',\n",
       " 'glitch',\n",
       " 'gospel',\n",
       " 'gothic',\n",
       " 'grime',\n",
       " 'grunge',\n",
       " 'gypsy',\n",
       " 'handsup',\n",
       " \"hard'n'heavy\",\n",
       " 'hardcore',\n",
       " 'hardstyle',\n",
       " 'hardtechno',\n",
       " 'hiphop',\n",
       " 'historisch',\n",
       " 'holiday',\n",
       " 'horror',\n",
       " 'house',\n",
       " 'hymn',\n",
       " 'idm',\n",
       " 'independent',\n",
       " 'indian',\n",
       " 'indie',\n",
       " 'indipop',\n",
       " 'industrial',\n",
       " 'inspirational',\n",
       " 'instrumental',\n",
       " 'international',\n",
       " 'irish',\n",
       " 'jam',\n",
       " 'japanese',\n",
       " 'jazz',\n",
       " 'jewish',\n",
       " 'jpop',\n",
       " 'jungle',\n",
       " 'k-pop',\n",
       " 'karadeniz',\n",
       " 'karaoke',\n",
       " 'kayokyoku',\n",
       " 'korean',\n",
       " 'laiko',\n",
       " 'latin',\n",
       " 'latino',\n",
       " 'leftfield',\n",
       " 'local',\n",
       " 'lounge',\n",
       " 'loungeelectronic',\n",
       " 'lovers',\n",
       " 'malaysian',\n",
       " 'mandopop',\n",
       " 'marschmusik',\n",
       " 'meditative',\n",
       " 'mediterranean',\n",
       " 'melodic',\n",
       " 'metal',\n",
       " 'metalcore',\n",
       " 'mexican',\n",
       " 'middle',\n",
       " 'minimal',\n",
       " 'miscellaneous',\n",
       " 'modern',\n",
       " 'mood',\n",
       " 'mpb',\n",
       " 'muslim',\n",
       " 'native',\n",
       " 'neoklassik',\n",
       " 'neue',\n",
       " 'new',\n",
       " 'newage',\n",
       " 'newwave',\n",
       " 'nu',\n",
       " 'nujazz',\n",
       " 'numetal',\n",
       " 'oceania',\n",
       " 'old',\n",
       " 'opera',\n",
       " 'orchestral',\n",
       " 'other',\n",
       " 'piano',\n",
       " 'podcasts',\n",
       " 'pop',\n",
       " 'popdance',\n",
       " 'popelectronic',\n",
       " 'popeurodance',\n",
       " 'poprussian',\n",
       " 'post',\n",
       " 'posthardcore',\n",
       " 'postrock',\n",
       " 'power',\n",
       " 'progmetal',\n",
       " 'progressive',\n",
       " 'psychedelic',\n",
       " 'punjabi',\n",
       " 'punk',\n",
       " 'quebecois',\n",
       " 'ragga',\n",
       " 'ram',\n",
       " 'rancheras',\n",
       " 'rap',\n",
       " 'rave',\n",
       " 'reggae',\n",
       " 'reggaeton',\n",
       " 'regional',\n",
       " 'relax',\n",
       " 'religious',\n",
       " 'retro',\n",
       " 'rhythm',\n",
       " 'rnb',\n",
       " 'rnr',\n",
       " 'rock',\n",
       " 'rockabilly',\n",
       " 'rockalternative',\n",
       " 'rockindie',\n",
       " 'rockother',\n",
       " 'romance',\n",
       " 'roots',\n",
       " 'ruspop',\n",
       " 'rusrap',\n",
       " 'rusrock',\n",
       " 'russian',\n",
       " 'salsa',\n",
       " 'samba',\n",
       " 'scenic',\n",
       " 'schlager',\n",
       " 'self',\n",
       " 'sertanejo',\n",
       " 'shanson',\n",
       " 'shoegazing',\n",
       " 'showtunes',\n",
       " 'singer',\n",
       " 'ska',\n",
       " 'skarock',\n",
       " 'slow',\n",
       " 'smooth',\n",
       " 'soft',\n",
       " 'soul',\n",
       " 'soulful',\n",
       " 'sound',\n",
       " 'soundtrack',\n",
       " 'southern',\n",
       " 'specialty',\n",
       " 'speech',\n",
       " 'spiritual',\n",
       " 'sport',\n",
       " 'stonerrock',\n",
       " 'surf',\n",
       " 'swing',\n",
       " 'synthpop',\n",
       " 'synthrock',\n",
       " 'sängerportrait',\n",
       " 'tango',\n",
       " 'tanzorchester',\n",
       " 'taraftar',\n",
       " 'tatar',\n",
       " 'tech',\n",
       " 'techno',\n",
       " 'teen',\n",
       " 'thrash',\n",
       " 'top',\n",
       " 'traditional',\n",
       " 'tradjazz',\n",
       " 'trance',\n",
       " 'tribal',\n",
       " 'trip',\n",
       " 'triphop',\n",
       " 'tropical',\n",
       " 'türk',\n",
       " 'türkçe',\n",
       " 'ukrrock',\n",
       " 'unknown',\n",
       " 'urban',\n",
       " 'uzbek',\n",
       " 'variété',\n",
       " 'vi',\n",
       " 'videogame',\n",
       " 'vocal',\n",
       " 'western',\n",
       " 'world',\n",
       " 'worldbeat',\n",
       " 'ïîï']"
      ]
     },
     "execution_count": 18,
     "metadata": {},
     "output_type": "execute_result"
    }
   ],
   "source": [
    "# Проверка на неявные дубликаты\n",
    "sorted(df['genre'].unique())"
   ]
  },
  {
   "cell_type": "markdown",
   "metadata": {
    "id": "jz6a9-7HQUDd"
   },
   "source": [
    "**Выводы**\n",
    "\n",
    "Предобработка обнаружила три проблемы в данных:\n",
    "\n",
    "- нарушения в стиле заголовков,\n",
    "- пропущенные значения,\n",
    "- дубликаты — явные и неявные.\n",
    "\n",
    "Мы исправили заголовки, чтобы упростить работу с таблицей. Без дубликатов исследование станет более точным.\n",
    "\n",
    "Пропущенные значения мы заменили на `'unknown'`. Ещё предстоит увидеть, не повредят ли исследованию пропуски в колонке `genre`.\n",
    "\n",
    "Теперь можно перейти к проверке предположений. "
   ]
  },
  {
   "cell_type": "markdown",
   "metadata": {
    "id": "WttZHXH0SqKk"
   },
   "source": [
    "## Проверка предположений"
   ]
  },
  {
   "cell_type": "markdown",
   "metadata": {
    "id": "Im936VVi_Zcu"
   },
   "source": [
    "### Сравнение поведения пользователей двух столиц"
   ]
  },
  {
   "cell_type": "markdown",
   "metadata": {
    "id": "nwt_MuaL_Zcu"
   },
   "source": [
    "Первое предположение утверждает, что пользователи по-разному слушают музыку в Москве и Санкт-Петербурге. Проверим это по данным о трёх днях недели — понедельнике, среде и пятнице. Для этого:\n",
    "\n",
    "* Разделим пользователей Москвы и Санкт-Петербурга\n",
    "* Сравним, сколько треков послушала каждая группа пользователей в понедельник, среду и пятницу.\n"
   ]
  },
  {
   "cell_type": "markdown",
   "metadata": {
    "id": "8Dw_YMmT_Zcu"
   },
   "source": [
    "Для тренировки сначала выполним каждый из расчётов по отдельности. \n",
    "\n",
    "Оценим активность пользователей в каждом городе. Сгруппируем данные по городу и посчитаем прослушивания в каждой группе."
   ]
  },
  {
   "cell_type": "code",
   "execution_count": 19,
   "metadata": {
    "id": "0_Qs96oh_Zcu"
   },
   "outputs": [
    {
     "data": {
      "text/plain": [
       "city\n",
       "Moscow              42741\n",
       "Saint-Petersburg    18512\n",
       "Name: user_id, dtype: int64"
      ]
     },
     "execution_count": 19,
     "metadata": {},
     "output_type": "execute_result"
    }
   ],
   "source": [
    "# Подсчёт прослушиваний в каждом городе\n",
    "df.groupby('city')['user_id'].count()"
   ]
  },
  {
   "cell_type": "markdown",
   "metadata": {
    "id": "dzli3w8o_Zcu"
   },
   "source": [
    "В Москве прослушиваний больше, чем в Петербурге. Из этого не следует, что московские пользователи чаще слушают музыку. Просто самих пользователей в Москве больше.\n",
    "\n",
    "Теперь сгруппируем данные по дню недели и подсчитаем прослушивания в понедельник, среду и пятницу. Учтем, что в данных есть информация только о прослушиваниях только за эти дни.\n"
   ]
  },
  {
   "cell_type": "code",
   "execution_count": 20,
   "metadata": {
    "id": "uZMKjiJz_Zcu"
   },
   "outputs": [
    {
     "data": {
      "text/plain": [
       "day\n",
       "Friday       21840\n",
       "Monday       21354\n",
       "Wednesday    18059\n",
       "Name: user_id, dtype: int64"
      ]
     },
     "execution_count": 20,
     "metadata": {},
     "output_type": "execute_result"
    }
   ],
   "source": [
    "# Подсчёт прослушиваний в каждый из трёх дней\n",
    "df.groupby('day')['user_id'].count()"
   ]
  },
  {
   "cell_type": "markdown",
   "metadata": {
    "id": "cC2tNrlL_Zcu"
   },
   "source": [
    "В среднем пользователи из двух городов менее активны по средам. Но картина может измениться, если рассмотреть каждый город в отдельности."
   ]
  },
  {
   "cell_type": "markdown",
   "metadata": {
    "id": "POzs8bGa_Zcu"
   },
   "source": [
    "Мы видели, как работает группировка по городу и по дням недели. Теперь напишем функцию, которая объединит два эти расчёта.\n",
    "\n",
    "Создадим функцию `number_tracks()`, которая посчитает прослушивания для заданного дня и города. Ей понадобятся два параметра:\n",
    "* день недели,\n",
    "* название города.\n",
    "\n",
    "В функции сохраним в переменную строки исходной таблицы, у которых значение:\n",
    "  * в колонке `day` равно параметру `day`,\n",
    "  * в колонке `city` равно параметру `city`.\n",
    "\n",
    "Для этого применим последовательную фильтрацию с логической индексацией.\n",
    "\n",
    "Затем посчитаем значения в столбце `user_id` получившейся таблицы. Результат сохраним в новую переменную. Вернем эту переменную из функции."
   ]
  },
  {
   "cell_type": "code",
   "execution_count": 21,
   "metadata": {
    "id": "Nz3GdQB1_Zcu"
   },
   "outputs": [],
   "source": [
    "# <создание функции number_tracks()>\n",
    "# Объявляется функция с двумя параметрами: day, city.\n",
    "def number_tracks(day, city):\n",
    "    # В переменной track_list сохраняются те строки таблицы df, для которых \n",
    "    # значение в столбце 'day' равно параметру day и одновременно значение\n",
    "    # в столбце 'city' равно параметру city (используйте последовательную фильтрацию\n",
    "    # с помощью логической индексации).\n",
    "    track_list = df.loc[df.loc[:, 'day'] == day]\n",
    "    track_list = track_list.loc[track_list.loc[:, 'city'] == city]\n",
    "    # В переменной track_list_count сохраняется число значений столбца 'user_id',\n",
    "    # рассчитанное методом count() для таблицы track_list.\n",
    "    track_list_count = track_list['user_id'].count()\n",
    "    # Функция возвращает число - значение track_list_count.\n",
    "    return track_list_count\n",
    "\n",
    "# Функция для подсчёта прослушиваний для конкретного города и дня.\n",
    "# С помощью последовательной фильтрации с логической индексацией она \n",
    "# сначала получит из исходной таблицы строки с нужным днём,\n",
    "# затем из результата отфильтрует строки с нужным городом,\n",
    "# методом count() посчитает количество значений в колонке user_id. \n",
    "# Это количество функция вернёт в качестве результата"
   ]
  },
  {
   "cell_type": "markdown",
   "metadata": {
    "id": "ytf7xFrFJQ2r"
   },
   "source": [
    "Вызовем `number_tracks()` шесть раз, меняя значение параметров — так, чтобы получить данные для каждого города в каждый из трёх дней."
   ]
  },
  {
   "cell_type": "code",
   "execution_count": 22,
   "metadata": {
    "id": "rJcRATNQ_Zcu"
   },
   "outputs": [
    {
     "data": {
      "text/plain": [
       "15740"
      ]
     },
     "execution_count": 22,
     "metadata": {},
     "output_type": "execute_result"
    }
   ],
   "source": [
    "# количество прослушиваний в Москве по понедельникам\n",
    "number_tracks('Monday', 'Moscow')"
   ]
  },
  {
   "cell_type": "code",
   "execution_count": 23,
   "metadata": {
    "id": "hq_ncZ5T_Zcu"
   },
   "outputs": [
    {
     "data": {
      "text/plain": [
       "5614"
      ]
     },
     "execution_count": 23,
     "metadata": {},
     "output_type": "execute_result"
    }
   ],
   "source": [
    "# количество прослушиваний в Санкт-Петербурге по понедельникам\n",
    "number_tracks('Monday', 'Saint-Petersburg')"
   ]
  },
  {
   "cell_type": "code",
   "execution_count": 24,
   "metadata": {
    "id": "_NTy2VPU_Zcu"
   },
   "outputs": [
    {
     "data": {
      "text/plain": [
       "11056"
      ]
     },
     "execution_count": 24,
     "metadata": {},
     "output_type": "execute_result"
    }
   ],
   "source": [
    "# количество прослушиваний в Москве по средам\n",
    "number_tracks('Wednesday', 'Moscow')"
   ]
  },
  {
   "cell_type": "code",
   "execution_count": 25,
   "metadata": {
    "id": "j2y3TAwo_Zcu"
   },
   "outputs": [
    {
     "data": {
      "text/plain": [
       "7003"
      ]
     },
     "execution_count": 25,
     "metadata": {},
     "output_type": "execute_result"
    }
   ],
   "source": [
    "# количество прослушиваний в Санкт-Петербурге по средам\n",
    "number_tracks('Wednesday', 'Saint-Petersburg')"
   ]
  },
  {
   "cell_type": "code",
   "execution_count": 26,
   "metadata": {
    "id": "vYDw5u_K_Zcu"
   },
   "outputs": [
    {
     "data": {
      "text/plain": [
       "15945"
      ]
     },
     "execution_count": 26,
     "metadata": {},
     "output_type": "execute_result"
    }
   ],
   "source": [
    "# количество прослушиваний в Москве по пятницам\n",
    "number_tracks('Friday', 'Moscow')"
   ]
  },
  {
   "cell_type": "code",
   "execution_count": 27,
   "metadata": {
    "id": "8_yzFtW3_Zcu"
   },
   "outputs": [
    {
     "data": {
      "text/plain": [
       "5895"
      ]
     },
     "execution_count": 27,
     "metadata": {},
     "output_type": "execute_result"
    }
   ],
   "source": [
    "# количество прослушиваний в Санкт-Петербурге по пятницам\n",
    "number_tracks('Friday', 'Saint-Petersburg')"
   ]
  },
  {
   "cell_type": "markdown",
   "metadata": {
    "id": "7QXffbO-_Zcu"
   },
   "source": [
    "Создадим c помощью конструктора `pd.DataFrame` таблицу, где\n",
    "* названия колонок — `['city', 'monday', 'wednesday', 'friday']`;\n",
    "* данные — результаты, которые вы получили с помощью `number_tracks`."
   ]
  },
  {
   "cell_type": "code",
   "execution_count": 28,
   "metadata": {
    "id": "APAcLpOr_Zcu"
   },
   "outputs": [
    {
     "data": {
      "text/html": [
       "<div>\n",
       "<style scoped>\n",
       "    .dataframe tbody tr th:only-of-type {\n",
       "        vertical-align: middle;\n",
       "    }\n",
       "\n",
       "    .dataframe tbody tr th {\n",
       "        vertical-align: top;\n",
       "    }\n",
       "\n",
       "    .dataframe thead th {\n",
       "        text-align: right;\n",
       "    }\n",
       "</style>\n",
       "<table border=\"1\" class=\"dataframe\">\n",
       "  <thead>\n",
       "    <tr style=\"text-align: right;\">\n",
       "      <th></th>\n",
       "      <th>city</th>\n",
       "      <th>monday</th>\n",
       "      <th>wednesday</th>\n",
       "      <th>friday</th>\n",
       "    </tr>\n",
       "  </thead>\n",
       "  <tbody>\n",
       "    <tr>\n",
       "      <td>0</td>\n",
       "      <td>Moscow</td>\n",
       "      <td>15740</td>\n",
       "      <td>11056</td>\n",
       "      <td>15945</td>\n",
       "    </tr>\n",
       "    <tr>\n",
       "      <td>1</td>\n",
       "      <td>Saint-Petersburg</td>\n",
       "      <td>5614</td>\n",
       "      <td>7003</td>\n",
       "      <td>5895</td>\n",
       "    </tr>\n",
       "  </tbody>\n",
       "</table>\n",
       "</div>"
      ],
      "text/plain": [
       "               city  monday  wednesday  friday\n",
       "0            Moscow   15740      11056   15945\n",
       "1  Saint-Petersburg    5614       7003    5895"
      ]
     },
     "execution_count": 28,
     "metadata": {},
     "output_type": "execute_result"
    }
   ],
   "source": [
    "# Таблица с результатами\n",
    "columns_name = ['city', 'monday', 'wednesday', 'friday']\n",
    "data_day_city = [['Moscow', 15740, 11056, 15945], ['Saint-Petersburg', 5614, 7003, 5895]]\n",
    "result_df_day_city = pd.DataFrame(data=data_day_city, columns=columns_name)\n",
    "result_df_day_city"
   ]
  },
  {
   "cell_type": "markdown",
   "metadata": {
    "id": "-EgPIHYu_Zcu"
   },
   "source": [
    "**Выводы**\n",
    "\n",
    "Данные показывают разницу поведения пользователей:\n",
    "\n",
    "- В Москве пик прослушиваний приходится на понедельник и пятницу, а в среду заметен спад.\n",
    "- В Петербурге, наоборот, больше слушают музыку по средам. Активность в понедельник и пятницу здесь почти в равной мере уступает среде.\n",
    "\n",
    "Значит, данные говорят в пользу первого предположения."
   ]
  },
  {
   "cell_type": "markdown",
   "metadata": {
    "id": "atZAxtq4_Zcu"
   },
   "source": [
    "### Музыка в начале и в конце недели"
   ]
  },
  {
   "cell_type": "markdown",
   "metadata": {
    "id": "eXrQqXFH_Zcu"
   },
   "source": [
    "Согласно второму предположению, утром в понедельник в Москве преобладают одни жанры, а в Петербурге — другие. Так же и вечером пятницы преобладают разные жанры — в зависимости от города."
   ]
  },
  {
   "cell_type": "markdown",
   "metadata": {
    "id": "S8UcW6Hw_Zcu"
   },
   "source": [
    "Сохраним таблицы с данными в две переменные:\n",
    "* по Москве — в `moscow_general`;\n",
    "* по Санкт-Петербургу — в `spb_general`."
   ]
  },
  {
   "cell_type": "code",
   "execution_count": 29,
   "metadata": {
    "id": "qeaFfM_P_Zcu"
   },
   "outputs": [],
   "source": [
    "# получение таблицы moscow_general из тех строк таблицы df, \n",
    "# для которых значение в столбце 'city' равно 'Moscow'\n",
    "moscow_general = df[df['city'] == 'Moscow']"
   ]
  },
  {
   "cell_type": "code",
   "execution_count": 30,
   "metadata": {
    "id": "ORaVRKto_Zcu"
   },
   "outputs": [],
   "source": [
    "# получение таблицы spb_general из тех строк таблицы df,\n",
    "# для которых значение в столбце 'city' равно 'Saint-Petersburg'\n",
    "spb_general = df[df['city'] == 'Saint-Petersburg']"
   ]
  },
  {
   "cell_type": "markdown",
   "metadata": {
    "id": "MEJV-CX2_Zcu"
   },
   "source": [
    "Создадим функцию `genre_weekday()` с четырьмя параметрами:\n",
    "* таблица (датафрейм) с данными,\n",
    "* день недели,\n",
    "* начальная временная метка в формате 'hh:mm', \n",
    "* последняя временная метка в формате 'hh:mm'.\n",
    "\n",
    "Функция должна вернуть информацию о топ-10 жанров тех треков, которые прослушивали в указанный день, в промежутке между двумя отметками времени."
   ]
  },
  {
   "cell_type": "code",
   "execution_count": 31,
   "metadata": {
    "id": "laJT9BYl_Zcu"
   },
   "outputs": [
    {
     "data": {
      "text/plain": [
       "genre\n",
       "pop            104\n",
       "rock            82\n",
       "electronic      75\n",
       "dance           74\n",
       "hiphop          38\n",
       "ruspop          34\n",
       "rusrap          32\n",
       "alternative     26\n",
       "classical       21\n",
       "jazz            20\n",
       "Name: genre, dtype: int64"
      ]
     },
     "execution_count": 31,
     "metadata": {},
     "output_type": "execute_result"
    }
   ],
   "source": [
    "# Объявление функции genre_weekday() с параметрами table, day, time1, time2,\n",
    "# которая возвращает информацию о самых популярных жанрах в указанный день в\n",
    "# заданное время:\n",
    "def genre_weekday(table, day, time1, time2):\n",
    "    # 1) в переменную genre_df сохраняются те строки переданного датафрейма table, для которых одновременно:\n",
    "    #    - значение в столбце day равно значению аргумента day\n",
    "    #    - значение в столбце time больше значения аргумента time1\n",
    "    #    - значение в столбце time меньше значения аргумента time2\n",
    "    #    Используйте последовательную фильтрацию с помощью логической индексации.\n",
    "    genre_df = table.loc[table.loc[:, 'day'] == day]\n",
    "    genre_df = genre_df.loc[genre_df.loc[:, 'time'] > time1]\n",
    "    genre_df = genre_df.loc[genre_df.loc[:, 'time'] < time2]\n",
    "    # 2) сгруппировать датафрейм genre_df по столбцу genre, взять один из его\n",
    "    #    столбцов и посчитать методом count() количество записей для каждого из\n",
    "    #    присутствующих жанров, получившийся Series записать в переменную genre_df_count\n",
    "    genre_df_count = genre_df.groupby('genre')['genre'].count()\n",
    "    # 3) отсортировать genre_df_count по убыванию встречаемости и сохранить в переменную genre_df_sorted\n",
    "    genre_df_sorted = genre_df_count.sort_values(ascending=False)\n",
    "    # 4) вернуть Series из 10 первых значений genre_df_sorted, это будут топ-10\n",
    "    #    популярных жанров (в указанный день, в заданное время)\n",
    "    return genre_df_sorted.head(10)\n",
    "\n",
    "genre_weekday(spb_general, 'Monday', '07:00', '09:00')"
   ]
  },
  {
   "cell_type": "markdown",
   "metadata": {
    "id": "la2s2_PF_Zcu"
   },
   "source": [
    "Cравним результаты функции `genre_weekday()` для Москвы и Санкт-Петербурга в понедельник утром (с 7:00 до 11:00) и в пятницу вечером (с 17:00 до 23:00):"
   ]
  },
  {
   "cell_type": "code",
   "execution_count": 32,
   "metadata": {
    "id": "yz7itPUQ_Zcu"
   },
   "outputs": [
    {
     "data": {
      "text/plain": [
       "genre\n",
       "pop            781\n",
       "dance          549\n",
       "electronic     480\n",
       "rock           474\n",
       "hiphop         286\n",
       "ruspop         186\n",
       "world          181\n",
       "rusrap         175\n",
       "alternative    164\n",
       "unknown        161\n",
       "Name: genre, dtype: int64"
      ]
     },
     "execution_count": 32,
     "metadata": {},
     "output_type": "execute_result"
    }
   ],
   "source": [
    "# вызов функции для утра понедельника в Москве (вместо df — таблица moscow_general)\n",
    "# объекты, хранящие время, являются строками и сравниваются как строки\n",
    "# пример вызова: genre_weekday(moscow_general, 'Monday', '07:00', '11:00')\n",
    "genre_weekday(moscow_general, 'Monday', '07:00', '11:00')"
   ]
  },
  {
   "cell_type": "code",
   "execution_count": 33,
   "metadata": {
    "id": "kwUcHPdy_Zcu"
   },
   "outputs": [
    {
     "data": {
      "text/plain": [
       "genre\n",
       "pop            218\n",
       "dance          182\n",
       "rock           162\n",
       "electronic     147\n",
       "hiphop          80\n",
       "ruspop          64\n",
       "alternative     58\n",
       "rusrap          55\n",
       "jazz            44\n",
       "classical       40\n",
       "Name: genre, dtype: int64"
      ]
     },
     "execution_count": 33,
     "metadata": {},
     "output_type": "execute_result"
    }
   ],
   "source": [
    "# вызов функции для утра понедельника в Петербурге (вместо df — таблица spb_general)\n",
    "genre_weekday(spb_general, 'Monday', '07:00', '11:00')"
   ]
  },
  {
   "cell_type": "code",
   "execution_count": 34,
   "metadata": {
    "id": "EzXVRE1o_Zcu"
   },
   "outputs": [
    {
     "data": {
      "text/plain": [
       "genre\n",
       "pop            713\n",
       "rock           517\n",
       "dance          495\n",
       "electronic     482\n",
       "hiphop         273\n",
       "world          208\n",
       "ruspop         170\n",
       "alternative    163\n",
       "classical      163\n",
       "rusrap         142\n",
       "Name: genre, dtype: int64"
      ]
     },
     "execution_count": 34,
     "metadata": {},
     "output_type": "execute_result"
    }
   ],
   "source": [
    "# вызов функции для вечера пятницы в Москве\n",
    "genre_weekday(moscow_general, 'Friday', '17:00', '23:00')"
   ]
  },
  {
   "cell_type": "code",
   "execution_count": 35,
   "metadata": {
    "id": "JZaEKu5v_Zcu"
   },
   "outputs": [
    {
     "data": {
      "text/plain": [
       "genre\n",
       "pop            256\n",
       "rock           216\n",
       "electronic     216\n",
       "dance          210\n",
       "hiphop          97\n",
       "alternative     63\n",
       "jazz            61\n",
       "classical       60\n",
       "rusrap          59\n",
       "world           54\n",
       "Name: genre, dtype: int64"
      ]
     },
     "execution_count": 35,
     "metadata": {},
     "output_type": "execute_result"
    }
   ],
   "source": [
    "# вызов функции для вечера пятницы в Петербурге\n",
    "genre_weekday(spb_general, 'Friday', '17:00', '23:00')"
   ]
  },
  {
   "cell_type": "markdown",
   "metadata": {
    "id": "wrCe4MNX_Zcu"
   },
   "source": [
    "**Выводы**\n",
    "\n",
    "Если сравнить топ-10 жанров в понедельник утром, можно сделать такие выводы:\n",
    "\n",
    "1. В Москве и Петербурге слушают похожую музыку. Единственное отличие — в московский рейтинг вошёл жанр “world”, а в петербургский — джаз и классика.\n",
    "\n",
    "2. В Москве пропущенных значений оказалось так много, что значение `'unknown'` заняло десятое место среди самых популярных жанров. Значит, пропущенные значения занимают существенную долю в данных и угрожают достоверности исследования.\n",
    "\n",
    "Вечер пятницы не меняет эту картину. Некоторые жанры поднимаются немного выше, другие спускаются, но в целом топ-10 остаётся тем же самым.\n",
    "\n",
    "Таким образом, второе предположение подтвердилось лишь частично:\n",
    "* Пользователи слушают похожую музыку в начале недели и в конце.\n",
    "* Разница между Москвой и Петербургом не слишком выражена. В Москве чаще слушают русскую популярную музыку, в Петербурге — джаз.\n",
    "\n",
    "Однако пропуски в данных ставят под сомнение этот результат. В Москве их так много, что рейтинг топ-10 мог бы выглядеть иначе, если бы не утерянные  данные о жанрах."
   ]
  },
  {
   "cell_type": "markdown",
   "metadata": {},
   "source": [
    "#### Проверим рейтинг топ-10 для Москвы без утерянных данных о жанрах\n",
    "Для этого нам придется взять таблицу с данными `moscow_general` и отфильтровать её так, чтобы в ней не осталось строк, где жанр неизвестен."
   ]
  },
  {
   "cell_type": "code",
   "execution_count": 36,
   "metadata": {},
   "outputs": [
    {
     "name": "stdout",
     "output_type": "stream",
     "text": [
      "<class 'pandas.core.frame.DataFrame'>\n",
      "Int64Index: 41892 entries, 1 to 61252\n",
      "Data columns (total 7 columns):\n",
      "user_id    41892 non-null object\n",
      "track      41892 non-null object\n",
      "artist     41892 non-null object\n",
      "genre      41892 non-null object\n",
      "city       41892 non-null object\n",
      "time       41892 non-null object\n",
      "day        41892 non-null object\n",
      "dtypes: object(7)\n",
      "memory usage: 2.6+ MB\n"
     ]
    }
   ],
   "source": [
    "# отфильтруем таблицу moscow_general, оставив только строки с известным жанром\n",
    "moscow_general = moscow_general[moscow_general['genre'] != 'unknown']\n",
    "moscow_general.info()"
   ]
  },
  {
   "cell_type": "code",
   "execution_count": 37,
   "metadata": {},
   "outputs": [
    {
     "data": {
      "text/plain": [
       "genre\n",
       "pop            781\n",
       "dance          549\n",
       "electronic     480\n",
       "rock           474\n",
       "hiphop         286\n",
       "ruspop         186\n",
       "world          181\n",
       "rusrap         175\n",
       "alternative    164\n",
       "classical      157\n",
       "Name: genre, dtype: int64"
      ]
     },
     "execution_count": 37,
     "metadata": {},
     "output_type": "execute_result"
    }
   ],
   "source": [
    "genre_weekday(moscow_general, 'Monday', '07:00', '11:00')"
   ]
  },
  {
   "cell_type": "markdown",
   "metadata": {},
   "source": [
    "**Вывод**\n",
    "\n",
    "В московский рейтинг для утра понедельника на десятом месте оказалась классическая музыка, как и в питерском рейтинге, что ещё больше подтвердило сходство жителей Москвы и Санкт-Петербурга в выборе жанров."
   ]
  },
  {
   "cell_type": "markdown",
   "metadata": {
    "id": "JolODAqr_Zcu"
   },
   "source": [
    "### Жанровые предпочтения в Москве и Петербурге\n",
    "\n",
    "Предположение: Петербург — столица рэпа, музыку этого жанра там слушают чаще, чем в Москве. А Москва — город контрастов, в котором, тем не менее, преобладает поп-музыка."
   ]
  },
  {
   "cell_type": "markdown",
   "metadata": {
    "id": "DlegSvaT_Zcu"
   },
   "source": [
    "Сгруппируем таблицу `moscow_general` по жанру и посчитаем прослушивания треков каждого жанра методом `count()`. Затем отсортируем результат в порядке убывания и сохраним его в таблице `moscow_genres`."
   ]
  },
  {
   "cell_type": "code",
   "execution_count": 38,
   "metadata": {
    "id": "r19lIPke_Zcu"
   },
   "outputs": [],
   "source": [
    "# одной строкой: группировка таблицы moscow_general по столбцу 'genre', \n",
    "# подсчёт числа значений 'genre' в этой группировке методом count(), \n",
    "# сортировка получившегося Series в порядке убывания и сохранение в moscow_genres\n",
    "moscow_genres = moscow_general.groupby('genre')['genre'].count().sort_values(ascending=False)"
   ]
  },
  {
   "cell_type": "markdown",
   "metadata": {
    "id": "6kMuomxTiIr8"
   },
   "source": [
    "Выведем на экран первые десять строк `moscow_genres`:"
   ]
  },
  {
   "cell_type": "code",
   "execution_count": 39,
   "metadata": {
    "id": "WhCSooF8_Zcv"
   },
   "outputs": [
    {
     "data": {
      "text/plain": [
       "genre\n",
       "pop            5892\n",
       "dance          4435\n",
       "rock           3965\n",
       "electronic     3786\n",
       "hiphop         2096\n",
       "classical      1616\n",
       "world          1432\n",
       "alternative    1379\n",
       "ruspop         1372\n",
       "rusrap         1161\n",
       "Name: genre, dtype: int64"
      ]
     },
     "execution_count": 39,
     "metadata": {},
     "output_type": "execute_result"
    }
   ],
   "source": [
    "# просмотр первых 10 строк moscow_genres\n",
    "moscow_genres.head(10)"
   ]
  },
  {
   "cell_type": "markdown",
   "metadata": {
    "id": "cnPG2vnN_Zcv"
   },
   "source": [
    "Теперь повторим то же и для Петербурга.\n",
    "\n",
    "Сгруппируем таблицу `spb_general` по жанру. Посчитаем прослушивания треков каждого жанра. Результат отсортируем в порядке убывания и сохраним в таблице `spb_genres`:\n"
   ]
  },
  {
   "cell_type": "code",
   "execution_count": 40,
   "metadata": {
    "id": "gluLIpE7_Zcv"
   },
   "outputs": [],
   "source": [
    "# одной строкой: группировка таблицы spb_general по столбцу 'genre', \n",
    "# подсчёт числа значений 'genre' в этой группировке методом count(), \n",
    "# сортировка получившегося Series в порядке убывания и сохранение в spb_genres\n",
    "spb_genres = spb_general.groupby('genre')['genre'].count().sort_values(ascending=False)"
   ]
  },
  {
   "cell_type": "markdown",
   "metadata": {
    "id": "5Doha_ODgyQ8"
   },
   "source": [
    "Выведем на экран первые десять строк `spb_genres`:"
   ]
  },
  {
   "cell_type": "code",
   "execution_count": 41,
   "metadata": {
    "id": "uaGJHjVU_Zcv"
   },
   "outputs": [
    {
     "data": {
      "text/plain": [
       "genre\n",
       "pop            2431\n",
       "dance          1932\n",
       "rock           1879\n",
       "electronic     1737\n",
       "hiphop          960\n",
       "alternative     649\n",
       "classical       646\n",
       "rusrap          564\n",
       "ruspop          538\n",
       "world           515\n",
       "Name: genre, dtype: int64"
      ]
     },
     "execution_count": 41,
     "metadata": {},
     "output_type": "execute_result"
    }
   ],
   "source": [
    "# просмотр первых 10 строк spb_genres\n",
    "spb_genres.head(10)"
   ]
  },
  {
   "cell_type": "markdown",
   "metadata": {
    "id": "RY51YJYu_Zcv"
   },
   "source": [
    "**Выводы**"
   ]
  },
  {
   "cell_type": "markdown",
   "metadata": {
    "id": "nVhnJEm__Zcv"
   },
   "source": [
    "Предположение частично подтвердилось:\n",
    "* Поп-музыка — самый популярный жанр в Москве, как и предполагали. Более того, в топ-10 жанров встречается близкий жанр — русская популярная музыка.\n",
    "* Вопреки ожиданиям, **русский** рэп одинаково популярен в Москве и Петербурге. \n"
   ]
  },
  {
   "cell_type": "markdown",
   "metadata": {
    "id": "ykKQ0N65_Zcv"
   },
   "source": [
    "## Итоги исследования"
   ]
  },
  {
   "cell_type": "markdown",
   "metadata": {
    "id": "tjUwbHb3_Zcv"
   },
   "source": [
    "Мы проверили три предположения и установили:\n",
    "\n",
    "1. День недели по-разному влияет на активность пользователей в Москве и Петербурге. \n",
    "\n",
    "Первое предположение подтвердилось.\n",
    "\n",
    "2. Музыкальные предпочтения не сильно меняются в течение недели — будь то Москва или Петербург. Небольшие различия заметны в начале недели, по понедельникам:\n",
    "* в Москве слушают музыку жанра “world”,\n",
    "* в Петербурге — джаз. \n",
    "\n",
    "Таким образом, второе предположение подтвердилось лишь отчасти. (Этот результат мог оказаться иным, если бы не пропуски в данных - но мы от них избавились)\n",
    "\n",
    "3. Во вкусах пользователей Москвы и Петербурга больше общего, чем различий. Вопреки ожиданиям, предпочтения жанров в Петербурге напоминают московские.\n",
    "\n",
    "Третье предположение не подтвердилась. Если различия в предпочтениях и существуют, на основной массе пользователей они незаметны."
   ]
  }
 ],
 "metadata": {
  "ExecuteTimeLog": [
   {
    "duration": 725,
    "start_time": "2021-11-05T15:13:21.088Z"
   },
   {
    "duration": 143,
    "start_time": "2021-11-05T15:30:00.196Z"
   },
   {
    "duration": 18,
    "start_time": "2021-11-05T15:30:23.356Z"
   },
   {
    "duration": 24,
    "start_time": "2021-11-05T15:31:07.869Z"
   },
   {
    "duration": 4,
    "start_time": "2021-11-05T15:39:27.002Z"
   },
   {
    "duration": 3,
    "start_time": "2021-11-05T15:39:37.221Z"
   },
   {
    "duration": 3,
    "start_time": "2021-11-05T15:39:44.390Z"
   },
   {
    "duration": 317,
    "start_time": "2021-11-06T05:50:46.135Z"
   },
   {
    "duration": 717,
    "start_time": "2021-11-06T05:50:58.749Z"
   },
   {
    "duration": 184,
    "start_time": "2021-11-06T05:50:59.469Z"
   },
   {
    "duration": 30,
    "start_time": "2021-11-06T05:50:59.657Z"
   },
   {
    "duration": 43,
    "start_time": "2021-11-06T05:50:59.690Z"
   },
   {
    "duration": 5,
    "start_time": "2021-11-06T05:50:59.735Z"
   },
   {
    "duration": 42,
    "start_time": "2021-11-06T05:51:08.445Z"
   },
   {
    "duration": 29,
    "start_time": "2021-11-06T05:51:41.783Z"
   },
   {
    "duration": 5,
    "start_time": "2021-11-06T05:52:32.104Z"
   },
   {
    "duration": 38,
    "start_time": "2021-11-06T05:53:09.464Z"
   },
   {
    "duration": 5,
    "start_time": "2021-11-06T05:53:20.812Z"
   },
   {
    "duration": 32,
    "start_time": "2021-11-06T05:54:03.838Z"
   },
   {
    "duration": 23,
    "start_time": "2021-11-06T06:00:07.473Z"
   },
   {
    "duration": 30,
    "start_time": "2021-11-06T06:00:39.245Z"
   },
   {
    "duration": 28,
    "start_time": "2021-11-06T06:00:51.606Z"
   },
   {
    "duration": 23,
    "start_time": "2021-11-06T06:01:32.973Z"
   },
   {
    "duration": 31,
    "start_time": "2021-11-06T06:01:57.742Z"
   },
   {
    "duration": 80,
    "start_time": "2021-11-06T06:02:51.798Z"
   },
   {
    "duration": 901,
    "start_time": "2021-11-06T06:04:14.398Z"
   },
   {
    "duration": 156,
    "start_time": "2021-11-06T06:04:28.568Z"
   },
   {
    "duration": 76,
    "start_time": "2021-11-06T06:05:07.553Z"
   },
   {
    "duration": 90,
    "start_time": "2021-11-06T06:07:06.327Z"
   },
   {
    "duration": 75,
    "start_time": "2021-11-06T06:07:33.407Z"
   },
   {
    "duration": 56,
    "start_time": "2021-11-06T06:11:24.200Z"
   },
   {
    "duration": 57,
    "start_time": "2021-11-06T06:12:38.132Z"
   },
   {
    "duration": 60,
    "start_time": "2021-11-06T06:13:12.661Z"
   },
   {
    "duration": 117,
    "start_time": "2021-11-06T07:34:36.004Z"
   },
   {
    "duration": -1178,
    "start_time": "2021-11-06T07:34:50.802Z"
   },
   {
    "duration": 312,
    "start_time": "2021-11-06T07:34:58.289Z"
   },
   {
    "duration": 54,
    "start_time": "2021-11-06T07:35:40.402Z"
   },
   {
    "duration": 3,
    "start_time": "2021-11-06T07:36:25.714Z"
   },
   {
    "duration": 187,
    "start_time": "2021-11-06T07:36:25.720Z"
   },
   {
    "duration": 25,
    "start_time": "2021-11-06T07:36:25.909Z"
   },
   {
    "duration": 33,
    "start_time": "2021-11-06T07:36:25.937Z"
   },
   {
    "duration": 6,
    "start_time": "2021-11-06T07:36:25.973Z"
   },
   {
    "duration": 63,
    "start_time": "2021-11-06T07:36:25.982Z"
   },
   {
    "duration": 6,
    "start_time": "2021-11-06T07:36:26.048Z"
   },
   {
    "duration": 31,
    "start_time": "2021-11-06T07:36:26.057Z"
   },
   {
    "duration": 49,
    "start_time": "2021-11-06T07:36:26.091Z"
   },
   {
    "duration": 28,
    "start_time": "2021-11-06T07:36:26.142Z"
   },
   {
    "duration": 112,
    "start_time": "2021-11-06T07:36:26.173Z"
   },
   {
    "duration": 105,
    "start_time": "2021-11-06T07:36:26.287Z"
   },
   {
    "duration": 85,
    "start_time": "2021-11-06T07:36:26.395Z"
   },
   {
    "duration": 65,
    "start_time": "2021-11-06T07:36:26.482Z"
   },
   {
    "duration": 4,
    "start_time": "2021-11-06T07:36:36.125Z"
   },
   {
    "duration": 17,
    "start_time": "2021-11-06T07:36:44.022Z"
   },
   {
    "duration": 54,
    "start_time": "2021-11-06T07:36:47.943Z"
   },
   {
    "duration": 32,
    "start_time": "2021-11-06T07:39:39.079Z"
   },
   {
    "duration": 3,
    "start_time": "2021-11-06T07:42:13.005Z"
   },
   {
    "duration": 296,
    "start_time": "2021-11-06T07:42:13.011Z"
   },
   {
    "duration": 19,
    "start_time": "2021-11-06T07:42:13.311Z"
   },
   {
    "duration": 32,
    "start_time": "2021-11-06T07:42:13.333Z"
   },
   {
    "duration": 4,
    "start_time": "2021-11-06T07:42:13.368Z"
   },
   {
    "duration": 55,
    "start_time": "2021-11-06T07:42:13.375Z"
   },
   {
    "duration": 5,
    "start_time": "2021-11-06T07:42:13.432Z"
   },
   {
    "duration": 38,
    "start_time": "2021-11-06T07:42:13.440Z"
   },
   {
    "duration": 45,
    "start_time": "2021-11-06T07:42:13.481Z"
   },
   {
    "duration": 29,
    "start_time": "2021-11-06T07:42:13.529Z"
   },
   {
    "duration": 115,
    "start_time": "2021-11-06T07:42:13.560Z"
   },
   {
    "duration": 108,
    "start_time": "2021-11-06T07:42:13.678Z"
   },
   {
    "duration": 87,
    "start_time": "2021-11-06T07:42:13.788Z"
   },
   {
    "duration": 66,
    "start_time": "2021-11-06T07:42:13.878Z"
   },
   {
    "duration": 4,
    "start_time": "2021-11-06T07:42:13.947Z"
   },
   {
    "duration": 32,
    "start_time": "2021-11-06T07:42:16.362Z"
   },
   {
    "duration": 56,
    "start_time": "2021-11-06T07:42:21.454Z"
   },
   {
    "duration": 8,
    "start_time": "2021-11-06T07:44:46.574Z"
   },
   {
    "duration": 9,
    "start_time": "2021-11-06T07:46:01.396Z"
   },
   {
    "duration": 44,
    "start_time": "2021-11-06T07:46:10.440Z"
   },
   {
    "duration": 17,
    "start_time": "2021-11-06T07:46:47.611Z"
   },
   {
    "duration": 43,
    "start_time": "2021-11-06T07:47:08.385Z"
   },
   {
    "duration": 49,
    "start_time": "2021-11-06T07:47:25.925Z"
   },
   {
    "duration": 13,
    "start_time": "2021-11-06T07:47:51.680Z"
   },
   {
    "duration": 41,
    "start_time": "2021-11-06T07:49:22.988Z"
   },
   {
    "duration": 14,
    "start_time": "2021-11-06T07:49:39.836Z"
   },
   {
    "duration": 302,
    "start_time": "2021-11-06T07:57:37.767Z"
   },
   {
    "duration": 13,
    "start_time": "2021-11-06T07:57:56.924Z"
   },
   {
    "duration": 5,
    "start_time": "2021-11-06T08:25:57.599Z"
   },
   {
    "duration": 273,
    "start_time": "2021-11-06T08:26:01.537Z"
   },
   {
    "duration": 5,
    "start_time": "2021-11-06T08:26:31.675Z"
   },
   {
    "duration": 29,
    "start_time": "2021-11-06T08:26:36.013Z"
   },
   {
    "duration": 26,
    "start_time": "2021-11-06T08:30:30.358Z"
   },
   {
    "duration": 32,
    "start_time": "2021-11-06T08:31:07.841Z"
   },
   {
    "duration": 24,
    "start_time": "2021-11-06T08:31:33.061Z"
   },
   {
    "duration": 6,
    "start_time": "2021-11-06T08:36:56.113Z"
   },
   {
    "duration": 30,
    "start_time": "2021-11-06T08:37:02.664Z"
   },
   {
    "duration": 5,
    "start_time": "2021-11-06T08:42:58.452Z"
   },
   {
    "duration": 20,
    "start_time": "2021-11-06T08:43:03.976Z"
   },
   {
    "duration": 19,
    "start_time": "2021-11-06T08:43:07.376Z"
   },
   {
    "duration": 23,
    "start_time": "2021-11-06T08:43:11.006Z"
   },
   {
    "duration": 18,
    "start_time": "2021-11-06T08:43:14.585Z"
   },
   {
    "duration": 732,
    "start_time": "2021-11-06T11:30:04.132Z"
   },
   {
    "duration": 181,
    "start_time": "2021-11-06T11:30:04.866Z"
   },
   {
    "duration": 25,
    "start_time": "2021-11-06T11:30:09.469Z"
   },
   {
    "duration": 32,
    "start_time": "2021-11-06T11:30:17.227Z"
   },
   {
    "duration": 6,
    "start_time": "2021-11-06T11:30:31.442Z"
   },
   {
    "duration": 5,
    "start_time": "2021-11-06T11:30:49.154Z"
   },
   {
    "duration": 27,
    "start_time": "2021-11-06T11:30:55.238Z"
   },
   {
    "duration": 751,
    "start_time": "2021-11-06T11:31:12.107Z"
   },
   {
    "duration": 180,
    "start_time": "2021-11-06T11:31:12.861Z"
   },
   {
    "duration": 26,
    "start_time": "2021-11-06T11:31:13.045Z"
   },
   {
    "duration": 51,
    "start_time": "2021-11-06T11:31:13.073Z"
   },
   {
    "duration": 5,
    "start_time": "2021-11-06T11:31:13.127Z"
   },
   {
    "duration": 32,
    "start_time": "2021-11-06T11:31:13.135Z"
   },
   {
    "duration": 5,
    "start_time": "2021-11-06T11:31:15.982Z"
   },
   {
    "duration": 32,
    "start_time": "2021-11-06T11:31:27.712Z"
   },
   {
    "duration": 24,
    "start_time": "2021-11-06T11:31:41.906Z"
   },
   {
    "duration": 30,
    "start_time": "2021-11-06T11:31:55.596Z"
   },
   {
    "duration": 85,
    "start_time": "2021-11-06T11:32:07.849Z"
   },
   {
    "duration": 98,
    "start_time": "2021-11-06T11:32:15.518Z"
   },
   {
    "duration": 80,
    "start_time": "2021-11-06T11:32:27.947Z"
   },
   {
    "duration": 55,
    "start_time": "2021-11-06T11:32:44.060Z"
   },
   {
    "duration": 377,
    "start_time": "2021-11-06T11:33:39.456Z"
   },
   {
    "duration": 15,
    "start_time": "2021-11-06T11:33:53.685Z"
   },
   {
    "duration": 5,
    "start_time": "2021-11-06T11:34:26.187Z"
   },
   {
    "duration": 17,
    "start_time": "2021-11-06T11:37:44.335Z"
   },
   {
    "duration": 19,
    "start_time": "2021-11-06T11:38:21.538Z"
   },
   {
    "duration": 723,
    "start_time": "2021-11-06T11:38:34.025Z"
   },
   {
    "duration": 177,
    "start_time": "2021-11-06T11:38:34.751Z"
   },
   {
    "duration": 25,
    "start_time": "2021-11-06T11:38:34.931Z"
   },
   {
    "duration": 38,
    "start_time": "2021-11-06T11:38:34.959Z"
   },
   {
    "duration": 26,
    "start_time": "2021-11-06T11:38:35.000Z"
   },
   {
    "duration": 27,
    "start_time": "2021-11-06T11:38:35.028Z"
   },
   {
    "duration": 10,
    "start_time": "2021-11-06T11:38:35.057Z"
   },
   {
    "duration": 60,
    "start_time": "2021-11-06T11:38:35.070Z"
   },
   {
    "duration": 22,
    "start_time": "2021-11-06T11:38:35.132Z"
   },
   {
    "duration": 29,
    "start_time": "2021-11-06T11:38:35.157Z"
   },
   {
    "duration": 108,
    "start_time": "2021-11-06T11:38:35.188Z"
   },
   {
    "duration": 103,
    "start_time": "2021-11-06T11:38:35.299Z"
   },
   {
    "duration": 81,
    "start_time": "2021-11-06T11:38:35.405Z"
   },
   {
    "duration": 14,
    "start_time": "2021-11-06T11:38:35.489Z"
   },
   {
    "duration": 4,
    "start_time": "2021-11-06T11:38:35.523Z"
   },
   {
    "duration": 18,
    "start_time": "2021-11-06T11:38:35.530Z"
   },
   {
    "duration": 19,
    "start_time": "2021-11-06T11:38:37.923Z"
   },
   {
    "duration": 721,
    "start_time": "2021-11-06T11:41:05.561Z"
   },
   {
    "duration": 186,
    "start_time": "2021-11-06T11:41:06.284Z"
   },
   {
    "duration": 26,
    "start_time": "2021-11-06T11:41:06.473Z"
   },
   {
    "duration": 49,
    "start_time": "2021-11-06T11:41:06.501Z"
   },
   {
    "duration": 4,
    "start_time": "2021-11-06T11:41:06.553Z"
   },
   {
    "duration": 29,
    "start_time": "2021-11-06T11:41:06.559Z"
   },
   {
    "duration": 31,
    "start_time": "2021-11-06T11:41:06.591Z"
   },
   {
    "duration": 29,
    "start_time": "2021-11-06T11:41:06.626Z"
   },
   {
    "duration": 23,
    "start_time": "2021-11-06T11:41:06.658Z"
   },
   {
    "duration": 53,
    "start_time": "2021-11-06T11:41:06.683Z"
   },
   {
    "duration": 102,
    "start_time": "2021-11-06T11:41:06.738Z"
   },
   {
    "duration": 115,
    "start_time": "2021-11-06T11:41:06.842Z"
   },
   {
    "duration": 84,
    "start_time": "2021-11-06T11:41:06.959Z"
   },
   {
    "duration": 14,
    "start_time": "2021-11-06T11:41:07.046Z"
   },
   {
    "duration": 4,
    "start_time": "2021-11-06T11:41:07.062Z"
   },
   {
    "duration": 24,
    "start_time": "2021-11-06T11:41:07.068Z"
   },
   {
    "duration": 42,
    "start_time": "2021-11-06T11:41:07.095Z"
   },
   {
    "duration": 58,
    "start_time": "2021-11-06T11:41:28.463Z"
   },
   {
    "duration": 14,
    "start_time": "2021-11-06T11:41:48.482Z"
   },
   {
    "duration": 17,
    "start_time": "2021-11-06T11:42:19.499Z"
   },
   {
    "duration": 15,
    "start_time": "2021-11-06T11:42:33.733Z"
   },
   {
    "duration": 4,
    "start_time": "2021-11-06T11:42:49.348Z"
   },
   {
    "duration": 25,
    "start_time": "2021-11-06T11:43:01.036Z"
   },
   {
    "duration": 22,
    "start_time": "2021-11-06T11:43:09.410Z"
   },
   {
    "duration": 21,
    "start_time": "2021-11-06T11:43:15.970Z"
   },
   {
    "duration": 20,
    "start_time": "2021-11-06T11:43:24.688Z"
   },
   {
    "duration": 19,
    "start_time": "2021-11-06T11:43:34.202Z"
   },
   {
    "duration": 21,
    "start_time": "2021-11-06T11:43:40.187Z"
   },
   {
    "duration": 20,
    "start_time": "2021-11-06T11:44:05.839Z"
   },
   {
    "duration": 21,
    "start_time": "2021-11-06T11:44:14.909Z"
   },
   {
    "duration": 719,
    "start_time": "2021-11-06T17:37:50.315Z"
   },
   {
    "duration": 188,
    "start_time": "2021-11-06T17:37:51.037Z"
   },
   {
    "duration": 25,
    "start_time": "2021-11-06T17:37:51.229Z"
   },
   {
    "duration": 32,
    "start_time": "2021-11-06T17:37:51.267Z"
   },
   {
    "duration": 8,
    "start_time": "2021-11-06T17:37:51.301Z"
   },
   {
    "duration": 52,
    "start_time": "2021-11-06T17:37:51.312Z"
   },
   {
    "duration": 21,
    "start_time": "2021-11-06T17:37:51.367Z"
   },
   {
    "duration": 35,
    "start_time": "2021-11-06T17:37:51.392Z"
   },
   {
    "duration": 32,
    "start_time": "2021-11-06T17:37:51.429Z"
   },
   {
    "duration": 30,
    "start_time": "2021-11-06T17:37:51.463Z"
   },
   {
    "duration": 101,
    "start_time": "2021-11-06T17:37:51.496Z"
   },
   {
    "duration": 119,
    "start_time": "2021-11-06T17:37:51.599Z"
   },
   {
    "duration": 90,
    "start_time": "2021-11-06T17:37:51.720Z"
   },
   {
    "duration": 14,
    "start_time": "2021-11-06T17:37:51.812Z"
   },
   {
    "duration": 5,
    "start_time": "2021-11-06T17:37:51.828Z"
   },
   {
    "duration": 47,
    "start_time": "2021-11-06T17:37:51.835Z"
   },
   {
    "duration": 19,
    "start_time": "2021-11-06T17:37:51.884Z"
   },
   {
    "duration": 16,
    "start_time": "2021-11-06T17:37:51.905Z"
   },
   {
    "duration": 44,
    "start_time": "2021-11-06T17:37:51.924Z"
   },
   {
    "duration": 15,
    "start_time": "2021-11-06T17:37:59.372Z"
   },
   {
    "duration": 5,
    "start_time": "2021-11-06T17:40:08.147Z"
   },
   {
    "duration": 30,
    "start_time": "2021-11-06T17:40:51.865Z"
   },
   {
    "duration": 29,
    "start_time": "2021-11-06T17:40:57.658Z"
   },
   {
    "duration": 20,
    "start_time": "2021-11-06T17:41:01.729Z"
   },
   {
    "duration": 22,
    "start_time": "2021-11-06T17:41:04.471Z"
   },
   {
    "duration": 31,
    "start_time": "2021-11-06T17:41:08.071Z"
   },
   {
    "duration": 21,
    "start_time": "2021-11-06T17:41:11.639Z"
   },
   {
    "duration": 22,
    "start_time": "2021-11-06T17:48:14.855Z"
   },
   {
    "duration": 21,
    "start_time": "2021-11-06T17:48:48.348Z"
   },
   {
    "duration": 25,
    "start_time": "2021-11-06T17:49:01.544Z"
   },
   {
    "duration": 808,
    "start_time": "2021-11-06T17:49:18.754Z"
   },
   {
    "duration": 195,
    "start_time": "2021-11-06T17:49:19.564Z"
   },
   {
    "duration": 28,
    "start_time": "2021-11-06T17:49:19.762Z"
   },
   {
    "duration": 40,
    "start_time": "2021-11-06T17:49:19.792Z"
   },
   {
    "duration": 9,
    "start_time": "2021-11-06T17:49:19.834Z"
   },
   {
    "duration": 25,
    "start_time": "2021-11-06T17:49:19.868Z"
   },
   {
    "duration": 8,
    "start_time": "2021-11-06T17:49:19.896Z"
   },
   {
    "duration": 58,
    "start_time": "2021-11-06T17:49:19.908Z"
   },
   {
    "duration": 22,
    "start_time": "2021-11-06T17:49:19.970Z"
   },
   {
    "duration": 29,
    "start_time": "2021-11-06T17:49:19.995Z"
   },
   {
    "duration": 122,
    "start_time": "2021-11-06T17:49:20.027Z"
   },
   {
    "duration": 107,
    "start_time": "2021-11-06T17:49:20.152Z"
   },
   {
    "duration": 82,
    "start_time": "2021-11-06T17:49:20.261Z"
   },
   {
    "duration": 36,
    "start_time": "2021-11-06T17:49:20.345Z"
   },
   {
    "duration": 5,
    "start_time": "2021-11-06T17:49:20.383Z"
   },
   {
    "duration": 22,
    "start_time": "2021-11-06T17:49:20.390Z"
   },
   {
    "duration": 19,
    "start_time": "2021-11-06T17:49:20.414Z"
   },
   {
    "duration": 47,
    "start_time": "2021-11-06T17:49:20.436Z"
   },
   {
    "duration": 14,
    "start_time": "2021-11-06T17:49:20.485Z"
   },
   {
    "duration": 14,
    "start_time": "2021-11-06T17:49:20.502Z"
   },
   {
    "duration": 5,
    "start_time": "2021-11-06T17:49:20.519Z"
   },
   {
    "duration": 61,
    "start_time": "2021-11-06T17:49:20.526Z"
   },
   {
    "duration": 20,
    "start_time": "2021-11-06T17:49:20.591Z"
   },
   {
    "duration": 21,
    "start_time": "2021-11-06T17:49:20.614Z"
   },
   {
    "duration": 21,
    "start_time": "2021-11-06T17:49:20.668Z"
   },
   {
    "duration": 25,
    "start_time": "2021-11-06T17:49:20.692Z"
   },
   {
    "duration": 21,
    "start_time": "2021-11-06T17:49:26.099Z"
   },
   {
    "duration": 95,
    "start_time": "2021-11-06T17:51:39.795Z"
   },
   {
    "duration": 7,
    "start_time": "2021-11-06T17:51:56.384Z"
   },
   {
    "duration": 12,
    "start_time": "2021-11-06T17:52:31.323Z"
   },
   {
    "duration": 29,
    "start_time": "2021-11-06T17:58:19.901Z"
   },
   {
    "duration": 24,
    "start_time": "2021-11-06T17:58:57.112Z"
   },
   {
    "duration": 22,
    "start_time": "2021-11-06T17:59:19.811Z"
   },
   {
    "duration": 26,
    "start_time": "2021-11-06T17:59:46.584Z"
   },
   {
    "duration": 22,
    "start_time": "2021-11-06T18:01:36.907Z"
   },
   {
    "duration": 19,
    "start_time": "2021-11-06T18:02:03.917Z"
   },
   {
    "duration": 18,
    "start_time": "2021-11-06T18:02:47.665Z"
   },
   {
    "duration": 22,
    "start_time": "2021-11-06T18:02:57.425Z"
   },
   {
    "duration": 22,
    "start_time": "2021-11-06T18:02:59.742Z"
   },
   {
    "duration": 21,
    "start_time": "2021-11-06T18:03:21.387Z"
   },
   {
    "duration": 19,
    "start_time": "2021-11-06T18:03:34.279Z"
   },
   {
    "duration": 65,
    "start_time": "2021-11-06T18:38:28.330Z"
   },
   {
    "duration": 54,
    "start_time": "2021-11-06T18:40:02.702Z"
   },
   {
    "duration": 795,
    "start_time": "2021-11-06T18:43:04.049Z"
   },
   {
    "duration": 194,
    "start_time": "2021-11-06T18:43:04.847Z"
   },
   {
    "duration": 33,
    "start_time": "2021-11-06T18:43:05.044Z"
   },
   {
    "duration": 33,
    "start_time": "2021-11-06T18:43:05.080Z"
   },
   {
    "duration": 5,
    "start_time": "2021-11-06T18:43:05.116Z"
   },
   {
    "duration": 61,
    "start_time": "2021-11-06T18:43:05.124Z"
   },
   {
    "duration": 5,
    "start_time": "2021-11-06T18:43:05.188Z"
   },
   {
    "duration": 30,
    "start_time": "2021-11-06T18:43:05.197Z"
   },
   {
    "duration": 48,
    "start_time": "2021-11-06T18:43:05.231Z"
   },
   {
    "duration": 31,
    "start_time": "2021-11-06T18:43:05.282Z"
   },
   {
    "duration": 113,
    "start_time": "2021-11-06T18:43:05.315Z"
   },
   {
    "duration": 117,
    "start_time": "2021-11-06T18:43:05.431Z"
   },
   {
    "duration": 91,
    "start_time": "2021-11-06T18:43:05.550Z"
   },
   {
    "duration": 26,
    "start_time": "2021-11-06T18:43:05.644Z"
   },
   {
    "duration": 4,
    "start_time": "2021-11-06T18:43:05.673Z"
   },
   {
    "duration": 25,
    "start_time": "2021-11-06T18:43:05.680Z"
   },
   {
    "duration": 19,
    "start_time": "2021-11-06T18:43:05.708Z"
   },
   {
    "duration": 46,
    "start_time": "2021-11-06T18:43:05.730Z"
   },
   {
    "duration": 15,
    "start_time": "2021-11-06T18:43:05.779Z"
   },
   {
    "duration": 16,
    "start_time": "2021-11-06T18:43:05.796Z"
   },
   {
    "duration": 4,
    "start_time": "2021-11-06T18:43:05.814Z"
   },
   {
    "duration": 66,
    "start_time": "2021-11-06T18:43:05.821Z"
   },
   {
    "duration": 20,
    "start_time": "2021-11-06T18:43:05.892Z"
   },
   {
    "duration": 20,
    "start_time": "2021-11-06T18:43:05.915Z"
   },
   {
    "duration": 45,
    "start_time": "2021-11-06T18:43:05.937Z"
   },
   {
    "duration": 22,
    "start_time": "2021-11-06T18:43:05.985Z"
   },
   {
    "duration": 20,
    "start_time": "2021-11-06T18:43:06.009Z"
   },
   {
    "duration": 45,
    "start_time": "2021-11-06T18:43:06.031Z"
   },
   {
    "duration": 17,
    "start_time": "2021-11-06T18:43:06.079Z"
   },
   {
    "duration": 12,
    "start_time": "2021-11-06T18:43:06.099Z"
   },
   {
    "duration": 52,
    "start_time": "2021-11-06T18:43:10.214Z"
   },
   {
    "duration": 39,
    "start_time": "2021-11-06T18:43:29.360Z"
   },
   {
    "duration": 25,
    "start_time": "2021-11-06T18:43:57.695Z"
   },
   {
    "duration": 16,
    "start_time": "2021-11-06T18:44:10.807Z"
   },
   {
    "duration": 26,
    "start_time": "2021-11-06T18:44:54.161Z"
   },
   {
    "duration": 32,
    "start_time": "2021-11-06T18:45:19.253Z"
   },
   {
    "duration": 510,
    "start_time": "2021-11-06T18:45:37.300Z"
   },
   {
    "duration": 39,
    "start_time": "2021-11-06T18:45:48.182Z"
   },
   {
    "duration": 358,
    "start_time": "2021-11-06T18:46:07.947Z"
   },
   {
    "duration": 57,
    "start_time": "2021-11-06T18:46:18.788Z"
   },
   {
    "duration": 58,
    "start_time": "2021-11-06T18:47:57.340Z"
   },
   {
    "duration": 54,
    "start_time": "2021-11-06T18:48:10.691Z"
   },
   {
    "duration": 53,
    "start_time": "2021-11-06T18:48:19.533Z"
   },
   {
    "duration": 47,
    "start_time": "2021-11-06T18:52:47.292Z"
   },
   {
    "duration": 53,
    "start_time": "2021-11-06T18:55:03.646Z"
   },
   {
    "duration": 53,
    "start_time": "2021-11-06T18:55:22.623Z"
   },
   {
    "duration": 68,
    "start_time": "2021-11-06T18:55:51.591Z"
   },
   {
    "duration": 55,
    "start_time": "2021-11-06T18:56:22.006Z"
   },
   {
    "duration": 66,
    "start_time": "2021-11-06T18:56:34.480Z"
   },
   {
    "duration": 342,
    "start_time": "2021-11-06T18:56:52.255Z"
   },
   {
    "duration": 56,
    "start_time": "2021-11-06T18:57:29.200Z"
   },
   {
    "duration": 359,
    "start_time": "2021-11-06T18:58:00.776Z"
   },
   {
    "duration": 365,
    "start_time": "2021-11-06T18:58:20.897Z"
   },
   {
    "duration": 108,
    "start_time": "2021-11-06T18:58:55.386Z"
   },
   {
    "duration": 94,
    "start_time": "2021-11-06T18:59:13.977Z"
   },
   {
    "duration": 65,
    "start_time": "2021-11-06T18:59:28.149Z"
   },
   {
    "duration": 54,
    "start_time": "2021-11-06T18:59:39.511Z"
   },
   {
    "duration": 65,
    "start_time": "2021-11-06T19:00:24.160Z"
   },
   {
    "duration": 80,
    "start_time": "2021-11-06T19:00:51.232Z"
   },
   {
    "duration": 795,
    "start_time": "2021-11-06T19:06:33.773Z"
   },
   {
    "duration": 197,
    "start_time": "2021-11-06T19:06:34.571Z"
   },
   {
    "duration": 26,
    "start_time": "2021-11-06T19:06:34.770Z"
   },
   {
    "duration": 35,
    "start_time": "2021-11-06T19:06:34.799Z"
   },
   {
    "duration": 5,
    "start_time": "2021-11-06T19:06:34.836Z"
   },
   {
    "duration": 27,
    "start_time": "2021-11-06T19:06:34.868Z"
   },
   {
    "duration": 12,
    "start_time": "2021-11-06T19:06:34.897Z"
   },
   {
    "duration": 56,
    "start_time": "2021-11-06T19:06:34.913Z"
   },
   {
    "duration": 23,
    "start_time": "2021-11-06T19:06:34.972Z"
   },
   {
    "duration": 30,
    "start_time": "2021-11-06T19:06:34.997Z"
   },
   {
    "duration": 111,
    "start_time": "2021-11-06T19:06:35.030Z"
   },
   {
    "duration": 114,
    "start_time": "2021-11-06T19:06:35.143Z"
   },
   {
    "duration": 80,
    "start_time": "2021-11-06T19:06:35.260Z"
   },
   {
    "duration": 26,
    "start_time": "2021-11-06T19:06:35.343Z"
   },
   {
    "duration": 4,
    "start_time": "2021-11-06T19:06:35.371Z"
   },
   {
    "duration": 23,
    "start_time": "2021-11-06T19:06:35.377Z"
   },
   {
    "duration": 18,
    "start_time": "2021-11-06T19:06:35.402Z"
   },
   {
    "duration": 46,
    "start_time": "2021-11-06T19:06:35.422Z"
   },
   {
    "duration": 15,
    "start_time": "2021-11-06T19:06:35.471Z"
   },
   {
    "duration": 15,
    "start_time": "2021-11-06T19:06:35.489Z"
   },
   {
    "duration": 4,
    "start_time": "2021-11-06T19:06:35.506Z"
   },
   {
    "duration": 62,
    "start_time": "2021-11-06T19:06:35.513Z"
   },
   {
    "duration": 20,
    "start_time": "2021-11-06T19:06:35.579Z"
   },
   {
    "duration": 22,
    "start_time": "2021-11-06T19:06:35.601Z"
   },
   {
    "duration": 53,
    "start_time": "2021-11-06T19:06:35.626Z"
   },
   {
    "duration": 24,
    "start_time": "2021-11-06T19:06:35.681Z"
   },
   {
    "duration": 23,
    "start_time": "2021-11-06T19:06:35.708Z"
   },
   {
    "duration": 42,
    "start_time": "2021-11-06T19:06:35.734Z"
   },
   {
    "duration": 15,
    "start_time": "2021-11-06T19:06:35.778Z"
   },
   {
    "duration": 12,
    "start_time": "2021-11-06T19:06:35.795Z"
   },
   {
    "duration": 90,
    "start_time": "2021-11-06T19:06:35.810Z"
   },
   {
    "duration": 7,
    "start_time": "2021-11-06T19:06:43.887Z"
   },
   {
    "duration": 22,
    "start_time": "2021-11-06T19:08:03.544Z"
   },
   {
    "duration": 26,
    "start_time": "2021-11-06T19:10:47.819Z"
   },
   {
    "duration": 23,
    "start_time": "2021-11-06T19:12:44.467Z"
   },
   {
    "duration": 20,
    "start_time": "2021-11-06T19:12:57.172Z"
   },
   {
    "duration": 26,
    "start_time": "2021-11-06T19:15:05.580Z"
   },
   {
    "duration": 23,
    "start_time": "2021-11-06T19:15:56.564Z"
   },
   {
    "duration": 387,
    "start_time": "2021-11-06T19:39:38.931Z"
   },
   {
    "duration": 23,
    "start_time": "2021-11-06T19:40:01.482Z"
   },
   {
    "duration": 7308,
    "start_time": "2021-11-06T19:40:51.860Z"
   },
   {
    "duration": 29,
    "start_time": "2021-11-06T19:41:03.836Z"
   },
   {
    "duration": 40,
    "start_time": "2021-11-06T19:41:31.148Z"
   },
   {
    "duration": 30,
    "start_time": "2021-11-06T19:42:26.957Z"
   },
   {
    "duration": 22,
    "start_time": "2021-11-06T19:42:51.043Z"
   },
   {
    "duration": 37,
    "start_time": "2021-11-06T19:43:17.923Z"
   },
   {
    "duration": 52,
    "start_time": "2021-11-06T19:43:25.032Z"
   },
   {
    "duration": 53,
    "start_time": "2021-11-06T19:44:16.356Z"
   },
   {
    "duration": 56,
    "start_time": "2021-11-06T19:52:56.272Z"
   },
   {
    "duration": 56,
    "start_time": "2021-11-06T19:53:14.702Z"
   },
   {
    "duration": 53,
    "start_time": "2021-11-06T19:53:25.999Z"
   },
   {
    "duration": 75,
    "start_time": "2021-11-06T19:56:29.529Z"
   },
   {
    "duration": 56,
    "start_time": "2021-11-06T19:56:59.260Z"
   },
   {
    "duration": 53,
    "start_time": "2021-11-06T19:57:14.201Z"
   },
   {
    "duration": 51,
    "start_time": "2021-11-06T19:57:24.851Z"
   },
   {
    "duration": 58,
    "start_time": "2021-11-06T19:58:11.994Z"
   },
   {
    "duration": 53,
    "start_time": "2021-11-06T19:59:00.694Z"
   },
   {
    "duration": 34,
    "start_time": "2021-11-06T19:59:08.155Z"
   },
   {
    "duration": 9,
    "start_time": "2021-11-06T19:59:23.908Z"
   },
   {
    "duration": 754,
    "start_time": "2021-11-06T19:59:46.768Z"
   },
   {
    "duration": 187,
    "start_time": "2021-11-06T19:59:47.525Z"
   },
   {
    "duration": 26,
    "start_time": "2021-11-06T19:59:47.715Z"
   },
   {
    "duration": 52,
    "start_time": "2021-11-06T19:59:47.744Z"
   },
   {
    "duration": 6,
    "start_time": "2021-11-06T19:59:47.798Z"
   },
   {
    "duration": 28,
    "start_time": "2021-11-06T19:59:47.806Z"
   },
   {
    "duration": 32,
    "start_time": "2021-11-06T19:59:47.836Z"
   },
   {
    "duration": 31,
    "start_time": "2021-11-06T19:59:47.873Z"
   },
   {
    "duration": 22,
    "start_time": "2021-11-06T19:59:47.907Z"
   },
   {
    "duration": 60,
    "start_time": "2021-11-06T19:59:47.931Z"
   },
   {
    "duration": 105,
    "start_time": "2021-11-06T19:59:47.995Z"
   },
   {
    "duration": 120,
    "start_time": "2021-11-06T19:59:48.102Z"
   },
   {
    "duration": 92,
    "start_time": "2021-11-06T19:59:48.225Z"
   },
   {
    "duration": 15,
    "start_time": "2021-11-06T19:59:48.320Z"
   },
   {
    "duration": 4,
    "start_time": "2021-11-06T19:59:48.337Z"
   },
   {
    "duration": 41,
    "start_time": "2021-11-06T19:59:48.343Z"
   },
   {
    "duration": 26,
    "start_time": "2021-11-06T19:59:48.387Z"
   },
   {
    "duration": 30,
    "start_time": "2021-11-06T19:59:48.416Z"
   },
   {
    "duration": 34,
    "start_time": "2021-11-06T19:59:48.449Z"
   },
   {
    "duration": 17,
    "start_time": "2021-11-06T19:59:48.486Z"
   },
   {
    "duration": 6,
    "start_time": "2021-11-06T19:59:48.506Z"
   },
   {
    "duration": 65,
    "start_time": "2021-11-06T19:59:48.515Z"
   },
   {
    "duration": 21,
    "start_time": "2021-11-06T19:59:48.587Z"
   },
   {
    "duration": 19,
    "start_time": "2021-11-06T19:59:48.611Z"
   },
   {
    "duration": 53,
    "start_time": "2021-11-06T19:59:48.632Z"
   },
   {
    "duration": 24,
    "start_time": "2021-11-06T19:59:48.687Z"
   },
   {
    "duration": 55,
    "start_time": "2021-11-06T19:59:48.714Z"
   },
   {
    "duration": 14,
    "start_time": "2021-11-06T19:59:48.772Z"
   },
   {
    "duration": 16,
    "start_time": "2021-11-06T19:59:48.789Z"
   },
   {
    "duration": 12,
    "start_time": "2021-11-06T19:59:48.807Z"
   },
   {
    "duration": 94,
    "start_time": "2021-11-06T19:59:48.822Z"
   },
   {
    "duration": 21,
    "start_time": "2021-11-06T19:59:48.919Z"
   },
   {
    "duration": 26,
    "start_time": "2021-11-06T19:59:48.967Z"
   },
   {
    "duration": 17,
    "start_time": "2021-11-06T19:59:48.996Z"
   },
   {
    "duration": 54,
    "start_time": "2021-11-06T19:59:49.015Z"
   },
   {
    "duration": 17,
    "start_time": "2021-11-06T19:59:49.071Z"
   },
   {
    "duration": 34,
    "start_time": "2021-11-06T19:59:52.842Z"
   },
   {
    "duration": 12,
    "start_time": "2021-11-06T20:00:06.769Z"
   },
   {
    "duration": 11,
    "start_time": "2021-11-06T20:00:55.768Z"
   },
   {
    "duration": 9,
    "start_time": "2021-11-06T20:01:06.601Z"
   },
   {
    "duration": 9,
    "start_time": "2021-11-06T20:01:37.257Z"
   },
   {
    "duration": 15,
    "start_time": "2021-11-06T20:02:08.936Z"
   },
   {
    "duration": 840,
    "start_time": "2021-11-06T20:02:32.718Z"
   },
   {
    "duration": 193,
    "start_time": "2021-11-06T20:02:33.561Z"
   },
   {
    "duration": 33,
    "start_time": "2021-11-06T20:02:33.757Z"
   },
   {
    "duration": 33,
    "start_time": "2021-11-06T20:02:33.793Z"
   },
   {
    "duration": 6,
    "start_time": "2021-11-06T20:02:33.829Z"
   },
   {
    "duration": 54,
    "start_time": "2021-11-06T20:02:33.837Z"
   },
   {
    "duration": 8,
    "start_time": "2021-11-06T20:02:33.894Z"
   },
   {
    "duration": 33,
    "start_time": "2021-11-06T20:02:33.906Z"
   },
   {
    "duration": 23,
    "start_time": "2021-11-06T20:02:33.968Z"
   },
   {
    "duration": 32,
    "start_time": "2021-11-06T20:02:33.994Z"
   },
   {
    "duration": 116,
    "start_time": "2021-11-06T20:02:34.028Z"
   },
   {
    "duration": 115,
    "start_time": "2021-11-06T20:02:34.146Z"
   },
   {
    "duration": 81,
    "start_time": "2021-11-06T20:02:34.263Z"
   },
   {
    "duration": 31,
    "start_time": "2021-11-06T20:02:34.346Z"
   },
   {
    "duration": 4,
    "start_time": "2021-11-06T20:02:34.379Z"
   },
   {
    "duration": 20,
    "start_time": "2021-11-06T20:02:34.385Z"
   },
   {
    "duration": 18,
    "start_time": "2021-11-06T20:02:34.407Z"
   },
   {
    "duration": 48,
    "start_time": "2021-11-06T20:02:34.428Z"
   },
   {
    "duration": 15,
    "start_time": "2021-11-06T20:02:34.478Z"
   },
   {
    "duration": 15,
    "start_time": "2021-11-06T20:02:34.495Z"
   },
   {
    "duration": 5,
    "start_time": "2021-11-06T20:02:34.512Z"
   },
   {
    "duration": 61,
    "start_time": "2021-11-06T20:02:34.519Z"
   },
   {
    "duration": 22,
    "start_time": "2021-11-06T20:02:34.584Z"
   },
   {
    "duration": 28,
    "start_time": "2021-11-06T20:02:34.608Z"
   },
   {
    "duration": 39,
    "start_time": "2021-11-06T20:02:34.638Z"
   },
   {
    "duration": 25,
    "start_time": "2021-11-06T20:02:34.680Z"
   },
   {
    "duration": 22,
    "start_time": "2021-11-06T20:02:34.708Z"
   },
   {
    "duration": 46,
    "start_time": "2021-11-06T20:02:34.733Z"
   },
   {
    "duration": 21,
    "start_time": "2021-11-06T20:02:34.782Z"
   },
   {
    "duration": 15,
    "start_time": "2021-11-06T20:02:34.806Z"
   },
   {
    "duration": 90,
    "start_time": "2021-11-06T20:02:34.824Z"
   },
   {
    "duration": 49,
    "start_time": "2021-11-06T20:02:34.917Z"
   },
   {
    "duration": 28,
    "start_time": "2021-11-06T20:02:34.969Z"
   },
   {
    "duration": 18,
    "start_time": "2021-11-06T20:02:35.000Z"
   },
   {
    "duration": 55,
    "start_time": "2021-11-06T20:02:35.020Z"
   },
   {
    "duration": 810,
    "start_time": "2021-11-06T20:03:03.169Z"
   },
   {
    "duration": 198,
    "start_time": "2021-11-06T20:03:03.982Z"
   },
   {
    "duration": 26,
    "start_time": "2021-11-06T20:03:04.183Z"
   },
   {
    "duration": 58,
    "start_time": "2021-11-06T20:03:04.212Z"
   },
   {
    "duration": 5,
    "start_time": "2021-11-06T20:03:04.272Z"
   },
   {
    "duration": 28,
    "start_time": "2021-11-06T20:03:04.280Z"
   },
   {
    "duration": 5,
    "start_time": "2021-11-06T20:03:04.310Z"
   },
   {
    "duration": 62,
    "start_time": "2021-11-06T20:03:04.319Z"
   },
   {
    "duration": 22,
    "start_time": "2021-11-06T20:03:04.384Z"
   },
   {
    "duration": 59,
    "start_time": "2021-11-06T20:03:04.409Z"
   },
   {
    "duration": 106,
    "start_time": "2021-11-06T20:03:04.470Z"
   },
   {
    "duration": 121,
    "start_time": "2021-11-06T20:03:04.578Z"
   },
   {
    "duration": 91,
    "start_time": "2021-11-06T20:03:04.701Z"
   },
   {
    "duration": 14,
    "start_time": "2021-11-06T20:03:04.795Z"
   },
   {
    "duration": 3,
    "start_time": "2021-11-06T20:03:04.811Z"
   },
   {
    "duration": 19,
    "start_time": "2021-11-06T20:03:04.817Z"
   },
   {
    "duration": 42,
    "start_time": "2021-11-06T20:03:04.838Z"
   },
   {
    "duration": 17,
    "start_time": "2021-11-06T20:03:04.882Z"
   },
   {
    "duration": 16,
    "start_time": "2021-11-06T20:03:04.901Z"
   },
   {
    "duration": 55,
    "start_time": "2021-11-06T20:03:04.919Z"
   },
   {
    "duration": 5,
    "start_time": "2021-11-06T20:03:04.976Z"
   },
   {
    "duration": 27,
    "start_time": "2021-11-06T20:03:04.983Z"
   },
   {
    "duration": 20,
    "start_time": "2021-11-06T20:03:05.014Z"
   },
   {
    "duration": 45,
    "start_time": "2021-11-06T20:03:05.036Z"
   },
   {
    "duration": 19,
    "start_time": "2021-11-06T20:03:05.083Z"
   },
   {
    "duration": 21,
    "start_time": "2021-11-06T20:03:05.104Z"
   },
   {
    "duration": 54,
    "start_time": "2021-11-06T20:03:05.128Z"
   },
   {
    "duration": 13,
    "start_time": "2021-11-06T20:03:05.184Z"
   },
   {
    "duration": 26,
    "start_time": "2021-11-06T20:03:05.199Z"
   },
   {
    "duration": 40,
    "start_time": "2021-11-06T20:03:05.227Z"
   },
   {
    "duration": 56,
    "start_time": "2021-11-06T20:03:05.270Z"
   },
   {
    "duration": 41,
    "start_time": "2021-11-06T20:03:05.328Z"
   },
   {
    "duration": 27,
    "start_time": "2021-11-06T20:03:05.372Z"
   },
   {
    "duration": 20,
    "start_time": "2021-11-06T20:03:05.401Z"
   },
   {
    "duration": 59,
    "start_time": "2021-11-06T20:03:05.423Z"
   },
   {
    "duration": 17,
    "start_time": "2021-11-06T20:03:10.643Z"
   },
   {
    "duration": 78,
    "start_time": "2021-11-06T20:03:23.074Z"
   },
   {
    "duration": 69,
    "start_time": "2021-11-06T20:03:58.966Z"
   },
   {
    "duration": 70,
    "start_time": "2021-11-06T20:04:11.756Z"
   },
   {
    "duration": 71,
    "start_time": "2021-11-06T20:04:28.141Z"
   },
   {
    "duration": 73,
    "start_time": "2021-11-06T20:04:31.860Z"
   },
   {
    "duration": 70,
    "start_time": "2021-11-06T20:04:32.851Z"
   },
   {
    "duration": 71,
    "start_time": "2021-11-06T20:04:33.763Z"
   },
   {
    "duration": 70,
    "start_time": "2021-11-06T20:04:34.827Z"
   },
   {
    "duration": 887,
    "start_time": "2021-11-06T20:05:05.045Z"
   },
   {
    "duration": 196,
    "start_time": "2021-11-06T20:05:05.935Z"
   },
   {
    "duration": 38,
    "start_time": "2021-11-06T20:05:06.135Z"
   },
   {
    "duration": 33,
    "start_time": "2021-11-06T20:05:06.177Z"
   },
   {
    "duration": 5,
    "start_time": "2021-11-06T20:05:06.212Z"
   },
   {
    "duration": 57,
    "start_time": "2021-11-06T20:05:06.220Z"
   },
   {
    "duration": 6,
    "start_time": "2021-11-06T20:05:06.280Z"
   },
   {
    "duration": 34,
    "start_time": "2021-11-06T20:05:06.289Z"
   },
   {
    "duration": 53,
    "start_time": "2021-11-06T20:05:06.326Z"
   },
   {
    "duration": 30,
    "start_time": "2021-11-06T20:05:06.381Z"
   },
   {
    "duration": 111,
    "start_time": "2021-11-06T20:05:06.414Z"
   },
   {
    "duration": 105,
    "start_time": "2021-11-06T20:05:06.527Z"
   },
   {
    "duration": 84,
    "start_time": "2021-11-06T20:05:06.635Z"
   },
   {
    "duration": 14,
    "start_time": "2021-11-06T20:05:06.721Z"
   },
   {
    "duration": 15,
    "start_time": "2021-11-06T20:05:06.737Z"
   },
   {
    "duration": 27,
    "start_time": "2021-11-06T20:05:06.754Z"
   },
   {
    "duration": 17,
    "start_time": "2021-11-06T20:05:06.783Z"
   },
   {
    "duration": 17,
    "start_time": "2021-11-06T20:05:06.802Z"
   },
   {
    "duration": 47,
    "start_time": "2021-11-06T20:05:06.821Z"
   },
   {
    "duration": 15,
    "start_time": "2021-11-06T20:05:06.871Z"
   },
   {
    "duration": 7,
    "start_time": "2021-11-06T20:05:06.888Z"
   },
   {
    "duration": 30,
    "start_time": "2021-11-06T20:05:06.897Z"
   },
   {
    "duration": 47,
    "start_time": "2021-11-06T20:05:06.934Z"
   },
   {
    "duration": 19,
    "start_time": "2021-11-06T20:05:06.983Z"
   },
   {
    "duration": 18,
    "start_time": "2021-11-06T20:05:07.004Z"
   },
   {
    "duration": 55,
    "start_time": "2021-11-06T20:05:07.025Z"
   },
   {
    "duration": 19,
    "start_time": "2021-11-06T20:05:07.083Z"
   },
   {
    "duration": 12,
    "start_time": "2021-11-06T20:05:07.104Z"
   },
   {
    "duration": 48,
    "start_time": "2021-11-06T20:05:07.119Z"
   },
   {
    "duration": 12,
    "start_time": "2021-11-06T20:05:07.170Z"
   },
   {
    "duration": 84,
    "start_time": "2021-11-06T20:05:07.185Z"
   },
   {
    "duration": 20,
    "start_time": "2021-11-06T20:05:07.271Z"
   },
   {
    "duration": 24,
    "start_time": "2021-11-06T20:05:07.294Z"
   },
   {
    "duration": 50,
    "start_time": "2021-11-06T20:05:07.321Z"
   },
   {
    "duration": 23,
    "start_time": "2021-11-06T20:05:07.373Z"
   },
   {
    "duration": 16,
    "start_time": "2021-11-06T20:05:07.398Z"
   },
   {
    "duration": 77,
    "start_time": "2021-11-06T20:05:17.157Z"
   },
   {
    "duration": 72,
    "start_time": "2021-11-06T20:05:30.992Z"
   },
   {
    "duration": 72,
    "start_time": "2021-11-06T20:05:48.690Z"
   },
   {
    "duration": 69,
    "start_time": "2021-11-06T20:05:53.637Z"
   },
   {
    "duration": 76,
    "start_time": "2021-11-06T20:06:02.923Z"
   },
   {
    "duration": 65,
    "start_time": "2021-11-06T20:06:10.769Z"
   },
   {
    "duration": 78,
    "start_time": "2021-11-06T20:07:04.981Z"
   },
   {
    "duration": 771,
    "start_time": "2021-11-06T20:07:19.964Z"
   },
   {
    "duration": 196,
    "start_time": "2021-11-06T20:07:20.738Z"
   },
   {
    "duration": 34,
    "start_time": "2021-11-06T20:07:20.937Z"
   },
   {
    "duration": 33,
    "start_time": "2021-11-06T20:07:20.974Z"
   },
   {
    "duration": 11,
    "start_time": "2021-11-06T20:07:21.009Z"
   },
   {
    "duration": 52,
    "start_time": "2021-11-06T20:07:21.023Z"
   },
   {
    "duration": 10,
    "start_time": "2021-11-06T20:07:21.077Z"
   },
   {
    "duration": 36,
    "start_time": "2021-11-06T20:07:21.091Z"
   },
   {
    "duration": 39,
    "start_time": "2021-11-06T20:07:21.131Z"
   },
   {
    "duration": 29,
    "start_time": "2021-11-06T20:07:21.173Z"
   },
   {
    "duration": 113,
    "start_time": "2021-11-06T20:07:21.204Z"
   },
   {
    "duration": 120,
    "start_time": "2021-11-06T20:07:21.320Z"
   },
   {
    "duration": 92,
    "start_time": "2021-11-06T20:07:21.443Z"
   },
   {
    "duration": 34,
    "start_time": "2021-11-06T20:07:21.538Z"
   },
   {
    "duration": 4,
    "start_time": "2021-11-06T20:07:21.574Z"
   },
   {
    "duration": 22,
    "start_time": "2021-11-06T20:07:21.580Z"
   },
   {
    "duration": 19,
    "start_time": "2021-11-06T20:07:21.604Z"
   },
   {
    "duration": 46,
    "start_time": "2021-11-06T20:07:21.625Z"
   },
   {
    "duration": 15,
    "start_time": "2021-11-06T20:07:21.673Z"
   },
   {
    "duration": 15,
    "start_time": "2021-11-06T20:07:21.691Z"
   },
   {
    "duration": 5,
    "start_time": "2021-11-06T20:07:21.715Z"
   },
   {
    "duration": 61,
    "start_time": "2021-11-06T20:07:21.722Z"
   },
   {
    "duration": 20,
    "start_time": "2021-11-06T20:07:21.787Z"
   },
   {
    "duration": 21,
    "start_time": "2021-11-06T20:07:21.809Z"
   },
   {
    "duration": 45,
    "start_time": "2021-11-06T20:07:21.832Z"
   },
   {
    "duration": 23,
    "start_time": "2021-11-06T20:07:21.880Z"
   },
   {
    "duration": 20,
    "start_time": "2021-11-06T20:07:21.906Z"
   },
   {
    "duration": 45,
    "start_time": "2021-11-06T20:07:21.928Z"
   },
   {
    "duration": 25,
    "start_time": "2021-11-06T20:07:21.975Z"
   },
   {
    "duration": 11,
    "start_time": "2021-11-06T20:07:22.003Z"
   },
   {
    "duration": 79,
    "start_time": "2021-11-06T20:07:22.017Z"
   },
   {
    "duration": 22,
    "start_time": "2021-11-06T20:07:22.099Z"
   },
   {
    "duration": 60,
    "start_time": "2021-11-06T20:07:22.123Z"
   },
   {
    "duration": 18,
    "start_time": "2021-11-06T20:07:22.186Z"
   },
   {
    "duration": 24,
    "start_time": "2021-11-06T20:07:22.206Z"
   },
   {
    "duration": 46,
    "start_time": "2021-11-06T20:07:22.232Z"
   },
   {
    "duration": 64,
    "start_time": "2021-11-06T20:07:30.802Z"
   },
   {
    "duration": 65,
    "start_time": "2021-11-06T20:08:05.530Z"
   },
   {
    "duration": 777,
    "start_time": "2021-11-06T20:11:13.686Z"
   },
   {
    "duration": 201,
    "start_time": "2021-11-06T20:11:14.466Z"
   },
   {
    "duration": 27,
    "start_time": "2021-11-06T20:11:14.670Z"
   },
   {
    "duration": 38,
    "start_time": "2021-11-06T20:11:14.700Z"
   },
   {
    "duration": 5,
    "start_time": "2021-11-06T20:11:14.741Z"
   },
   {
    "duration": 28,
    "start_time": "2021-11-06T20:11:14.768Z"
   },
   {
    "duration": 11,
    "start_time": "2021-11-06T20:11:14.798Z"
   },
   {
    "duration": 59,
    "start_time": "2021-11-06T20:11:14.813Z"
   },
   {
    "duration": 26,
    "start_time": "2021-11-06T20:11:14.875Z"
   },
   {
    "duration": 31,
    "start_time": "2021-11-06T20:11:14.904Z"
   },
   {
    "duration": 101,
    "start_time": "2021-11-06T20:11:14.966Z"
   },
   {
    "duration": 125,
    "start_time": "2021-11-06T20:11:15.070Z"
   },
   {
    "duration": 90,
    "start_time": "2021-11-06T20:11:15.198Z"
   },
   {
    "duration": 17,
    "start_time": "2021-11-06T20:11:15.291Z"
   },
   {
    "duration": 5,
    "start_time": "2021-11-06T20:11:15.311Z"
   },
   {
    "duration": 57,
    "start_time": "2021-11-06T20:11:15.319Z"
   },
   {
    "duration": 19,
    "start_time": "2021-11-06T20:11:15.379Z"
   },
   {
    "duration": 17,
    "start_time": "2021-11-06T20:11:15.402Z"
   },
   {
    "duration": 55,
    "start_time": "2021-11-06T20:11:15.423Z"
   },
   {
    "duration": 17,
    "start_time": "2021-11-06T20:11:15.481Z"
   },
   {
    "duration": 7,
    "start_time": "2021-11-06T20:11:15.501Z"
   },
   {
    "duration": 57,
    "start_time": "2021-11-06T20:11:15.511Z"
   },
   {
    "duration": 21,
    "start_time": "2021-11-06T20:11:15.575Z"
   },
   {
    "duration": 22,
    "start_time": "2021-11-06T20:11:15.598Z"
   },
   {
    "duration": 54,
    "start_time": "2021-11-06T20:11:15.623Z"
   },
   {
    "duration": 25,
    "start_time": "2021-11-06T20:11:15.680Z"
   },
   {
    "duration": 59,
    "start_time": "2021-11-06T20:11:15.708Z"
   },
   {
    "duration": 13,
    "start_time": "2021-11-06T20:11:15.770Z"
   },
   {
    "duration": 20,
    "start_time": "2021-11-06T20:11:15.786Z"
   },
   {
    "duration": 12,
    "start_time": "2021-11-06T20:11:15.809Z"
   },
   {
    "duration": 86,
    "start_time": "2021-11-06T20:11:15.824Z"
   },
   {
    "duration": 21,
    "start_time": "2021-11-06T20:11:15.912Z"
   },
   {
    "duration": 50,
    "start_time": "2021-11-06T20:11:15.935Z"
   },
   {
    "duration": 16,
    "start_time": "2021-11-06T20:11:15.988Z"
   },
   {
    "duration": 23,
    "start_time": "2021-11-06T20:11:16.006Z"
   },
   {
    "duration": 48,
    "start_time": "2021-11-06T20:11:16.031Z"
   },
   {
    "duration": 62,
    "start_time": "2021-11-06T20:11:27.957Z"
   },
   {
    "duration": 64,
    "start_time": "2021-11-06T20:11:42.330Z"
   },
   {
    "duration": 740,
    "start_time": "2021-11-06T20:13:53.315Z"
   },
   {
    "duration": 197,
    "start_time": "2021-11-06T20:13:54.058Z"
   },
   {
    "duration": 32,
    "start_time": "2021-11-06T20:13:54.259Z"
   },
   {
    "duration": 46,
    "start_time": "2021-11-06T20:13:54.295Z"
   },
   {
    "duration": 23,
    "start_time": "2021-11-06T20:13:54.345Z"
   },
   {
    "duration": 29,
    "start_time": "2021-11-06T20:13:54.372Z"
   },
   {
    "duration": 8,
    "start_time": "2021-11-06T20:13:54.404Z"
   },
   {
    "duration": 63,
    "start_time": "2021-11-06T20:13:54.418Z"
   },
   {
    "duration": 23,
    "start_time": "2021-11-06T20:13:54.484Z"
   },
   {
    "duration": 31,
    "start_time": "2021-11-06T20:13:54.510Z"
   },
   {
    "duration": 100,
    "start_time": "2021-11-06T20:13:54.568Z"
   },
   {
    "duration": 118,
    "start_time": "2021-11-06T20:13:54.671Z"
   },
   {
    "duration": 85,
    "start_time": "2021-11-06T20:13:54.791Z"
   },
   {
    "duration": 14,
    "start_time": "2021-11-06T20:13:54.878Z"
   },
   {
    "duration": 4,
    "start_time": "2021-11-06T20:13:54.895Z"
   },
   {
    "duration": 17,
    "start_time": "2021-11-06T20:13:54.902Z"
   },
   {
    "duration": 53,
    "start_time": "2021-11-06T20:13:54.922Z"
   },
   {
    "duration": 14,
    "start_time": "2021-11-06T20:13:54.978Z"
   },
   {
    "duration": 16,
    "start_time": "2021-11-06T20:13:54.994Z"
   },
   {
    "duration": 14,
    "start_time": "2021-11-06T20:13:55.012Z"
   },
   {
    "duration": 5,
    "start_time": "2021-11-06T20:13:55.068Z"
   },
   {
    "duration": 32,
    "start_time": "2021-11-06T20:13:55.076Z"
   },
   {
    "duration": 22,
    "start_time": "2021-11-06T20:13:55.113Z"
   },
   {
    "duration": 49,
    "start_time": "2021-11-06T20:13:55.138Z"
   },
   {
    "duration": 18,
    "start_time": "2021-11-06T20:13:55.189Z"
   },
   {
    "duration": 58,
    "start_time": "2021-11-06T20:13:55.209Z"
   },
   {
    "duration": 20,
    "start_time": "2021-11-06T20:13:55.269Z"
   },
   {
    "duration": 12,
    "start_time": "2021-11-06T20:13:55.292Z"
   },
   {
    "duration": 18,
    "start_time": "2021-11-06T20:13:55.308Z"
   },
   {
    "duration": 49,
    "start_time": "2021-11-06T20:13:55.329Z"
   },
   {
    "duration": 55,
    "start_time": "2021-11-06T20:13:55.381Z"
   },
   {
    "duration": 46,
    "start_time": "2021-11-06T20:13:55.438Z"
   },
   {
    "duration": 31,
    "start_time": "2021-11-06T20:13:55.487Z"
   },
   {
    "duration": 17,
    "start_time": "2021-11-06T20:13:55.520Z"
   },
   {
    "duration": 22,
    "start_time": "2021-11-06T20:13:55.568Z"
   },
   {
    "duration": 16,
    "start_time": "2021-11-06T20:13:55.592Z"
   },
   {
    "duration": 63,
    "start_time": "2021-11-06T20:14:01.439Z"
   },
   {
    "duration": 107,
    "start_time": "2021-11-06T20:16:28.295Z"
   },
   {
    "duration": 102,
    "start_time": "2021-11-06T20:16:34.058Z"
   },
   {
    "duration": 108,
    "start_time": "2021-11-06T20:16:35.131Z"
   },
   {
    "duration": 103,
    "start_time": "2021-11-06T20:16:35.780Z"
   },
   {
    "duration": 3,
    "start_time": "2021-11-06T20:18:52.125Z"
   },
   {
    "duration": 4,
    "start_time": "2021-11-06T20:19:14.899Z"
   },
   {
    "duration": 5,
    "start_time": "2021-11-06T20:19:17.493Z"
   },
   {
    "duration": 5,
    "start_time": "2021-11-06T20:19:28.804Z"
   },
   {
    "duration": 5,
    "start_time": "2021-11-06T20:19:32.536Z"
   },
   {
    "duration": 5,
    "start_time": "2021-11-06T20:19:33.204Z"
   },
   {
    "duration": 5,
    "start_time": "2021-11-06T20:19:33.562Z"
   },
   {
    "duration": 4,
    "start_time": "2021-11-06T20:19:33.780Z"
   },
   {
    "duration": 5,
    "start_time": "2021-11-06T20:19:34.027Z"
   },
   {
    "duration": 5,
    "start_time": "2021-11-06T20:19:34.254Z"
   },
   {
    "duration": 5,
    "start_time": "2021-11-06T20:19:34.433Z"
   },
   {
    "duration": 5,
    "start_time": "2021-11-06T20:19:34.596Z"
   },
   {
    "duration": 4,
    "start_time": "2021-11-06T20:19:34.765Z"
   },
   {
    "duration": 4,
    "start_time": "2021-11-06T20:19:34.947Z"
   },
   {
    "duration": 6,
    "start_time": "2021-11-06T20:19:35.125Z"
   },
   {
    "duration": 313,
    "start_time": "2021-11-07T18:50:54.844Z"
   },
   {
    "duration": 693,
    "start_time": "2021-11-07T18:51:07.175Z"
   },
   {
    "duration": 187,
    "start_time": "2021-11-07T18:51:07.871Z"
   },
   {
    "duration": 25,
    "start_time": "2021-11-07T18:51:08.060Z"
   },
   {
    "duration": 50,
    "start_time": "2021-11-07T18:51:08.087Z"
   },
   {
    "duration": 6,
    "start_time": "2021-11-07T18:51:08.139Z"
   },
   {
    "duration": 30,
    "start_time": "2021-11-07T18:51:08.147Z"
   },
   {
    "duration": 11,
    "start_time": "2021-11-07T18:51:08.179Z"
   },
   {
    "duration": 62,
    "start_time": "2021-11-07T18:51:08.194Z"
   },
   {
    "duration": 22,
    "start_time": "2021-11-07T18:51:08.259Z"
   },
   {
    "duration": 47,
    "start_time": "2021-11-07T18:51:08.283Z"
   },
   {
    "duration": 109,
    "start_time": "2021-11-07T18:51:08.333Z"
   },
   {
    "duration": 119,
    "start_time": "2021-11-07T18:51:08.444Z"
   },
   {
    "duration": 86,
    "start_time": "2021-11-07T18:51:08.565Z"
   },
   {
    "duration": 13,
    "start_time": "2021-11-07T18:51:08.654Z"
   },
   {
    "duration": 4,
    "start_time": "2021-11-07T18:51:08.670Z"
   },
   {
    "duration": 24,
    "start_time": "2021-11-07T18:51:08.676Z"
   },
   {
    "duration": 44,
    "start_time": "2021-11-07T18:51:08.702Z"
   },
   {
    "duration": 17,
    "start_time": "2021-11-07T18:51:08.749Z"
   },
   {
    "duration": 15,
    "start_time": "2021-11-07T18:51:08.769Z"
   },
   {
    "duration": 49,
    "start_time": "2021-11-07T18:51:08.786Z"
   },
   {
    "duration": 6,
    "start_time": "2021-11-07T18:51:08.838Z"
   },
   {
    "duration": 40,
    "start_time": "2021-11-07T18:51:08.846Z"
   },
   {
    "duration": 19,
    "start_time": "2021-11-07T18:51:08.890Z"
   },
   {
    "duration": 20,
    "start_time": "2021-11-07T18:51:08.928Z"
   },
   {
    "duration": 19,
    "start_time": "2021-11-07T18:51:08.950Z"
   },
   {
    "duration": 21,
    "start_time": "2021-11-07T18:51:08.971Z"
   },
   {
    "duration": 49,
    "start_time": "2021-11-07T18:51:08.995Z"
   },
   {
    "duration": 12,
    "start_time": "2021-11-07T18:51:09.047Z"
   },
   {
    "duration": 41,
    "start_time": "2021-11-07T18:51:09.061Z"
   },
   {
    "duration": 18,
    "start_time": "2021-11-07T18:51:09.104Z"
   },
   {
    "duration": 58,
    "start_time": "2021-11-07T18:51:09.130Z"
   },
   {
    "duration": 39,
    "start_time": "2021-11-07T18:51:09.190Z"
   },
   {
    "duration": 26,
    "start_time": "2021-11-07T18:51:09.231Z"
   },
   {
    "duration": 16,
    "start_time": "2021-11-07T18:51:09.260Z"
   },
   {
    "duration": 51,
    "start_time": "2021-11-07T18:51:09.279Z"
   },
   {
    "duration": 16,
    "start_time": "2021-11-07T18:51:09.333Z"
   },
   {
    "duration": 34,
    "start_time": "2021-11-07T18:51:11.692Z"
   },
   {
    "duration": 9,
    "start_time": "2021-11-07T18:52:40.447Z"
   },
   {
    "duration": 15,
    "start_time": "2021-11-07T18:52:55.614Z"
   },
   {
    "duration": 15,
    "start_time": "2021-11-07T18:53:02.320Z"
   },
   {
    "duration": 30,
    "start_time": "2021-11-07T18:53:11.515Z"
   },
   {
    "duration": 32,
    "start_time": "2021-11-07T18:53:22.487Z"
   },
   {
    "duration": 9,
    "start_time": "2021-11-07T18:55:08.030Z"
   },
   {
    "duration": 24,
    "start_time": "2021-11-07T18:55:29.148Z"
   },
   {
    "duration": 11,
    "start_time": "2021-11-07T19:11:37.440Z"
   },
   {
    "duration": 17,
    "start_time": "2021-11-07T19:11:46.205Z"
   },
   {
    "duration": 16,
    "start_time": "2021-11-07T19:13:05.597Z"
   },
   {
    "duration": 8,
    "start_time": "2021-11-07T19:13:59.630Z"
   },
   {
    "duration": 12,
    "start_time": "2021-11-07T19:14:08.931Z"
   },
   {
    "duration": 7,
    "start_time": "2021-11-07T19:14:13.120Z"
   },
   {
    "duration": 13,
    "start_time": "2021-11-07T19:15:06.707Z"
   },
   {
    "duration": 13,
    "start_time": "2021-11-07T19:15:24.206Z"
   },
   {
    "duration": 8,
    "start_time": "2021-11-07T19:15:32.077Z"
   },
   {
    "duration": 7,
    "start_time": "2021-11-07T19:15:43.168Z"
   },
   {
    "duration": 758,
    "start_time": "2021-11-07T19:21:50.237Z"
   },
   {
    "duration": 184,
    "start_time": "2021-11-07T19:21:50.997Z"
   },
   {
    "duration": 25,
    "start_time": "2021-11-07T19:21:51.184Z"
   },
   {
    "duration": 48,
    "start_time": "2021-11-07T19:21:51.212Z"
   },
   {
    "duration": 12,
    "start_time": "2021-11-07T19:21:51.263Z"
   },
   {
    "duration": 26,
    "start_time": "2021-11-07T19:21:51.277Z"
   },
   {
    "duration": 25,
    "start_time": "2021-11-07T19:21:51.305Z"
   },
   {
    "duration": 41,
    "start_time": "2021-11-07T19:21:51.334Z"
   },
   {
    "duration": 37,
    "start_time": "2021-11-07T19:21:51.378Z"
   },
   {
    "duration": 36,
    "start_time": "2021-11-07T19:21:51.417Z"
   },
   {
    "duration": 94,
    "start_time": "2021-11-07T19:21:51.456Z"
   },
   {
    "duration": 111,
    "start_time": "2021-11-07T19:21:51.553Z"
   },
   {
    "duration": 87,
    "start_time": "2021-11-07T19:21:51.666Z"
   },
   {
    "duration": 14,
    "start_time": "2021-11-07T19:21:51.756Z"
   },
   {
    "duration": 4,
    "start_time": "2021-11-07T19:21:51.772Z"
   },
   {
    "duration": 18,
    "start_time": "2021-11-07T19:21:51.779Z"
   },
   {
    "duration": 42,
    "start_time": "2021-11-07T19:21:51.800Z"
   },
   {
    "duration": 17,
    "start_time": "2021-11-07T19:21:51.845Z"
   },
   {
    "duration": 14,
    "start_time": "2021-11-07T19:21:51.865Z"
   },
   {
    "duration": 49,
    "start_time": "2021-11-07T19:21:51.882Z"
   },
   {
    "duration": 5,
    "start_time": "2021-11-07T19:21:51.933Z"
   },
   {
    "duration": 31,
    "start_time": "2021-11-07T19:21:51.940Z"
   },
   {
    "duration": 20,
    "start_time": "2021-11-07T19:21:51.976Z"
   },
   {
    "duration": 44,
    "start_time": "2021-11-07T19:21:51.998Z"
   },
   {
    "duration": 19,
    "start_time": "2021-11-07T19:21:52.045Z"
   },
   {
    "duration": 22,
    "start_time": "2021-11-07T19:21:52.066Z"
   },
   {
    "duration": 52,
    "start_time": "2021-11-07T19:21:52.090Z"
   },
   {
    "duration": 12,
    "start_time": "2021-11-07T19:21:52.144Z"
   },
   {
    "duration": 34,
    "start_time": "2021-11-07T19:21:52.159Z"
   },
   {
    "duration": 17,
    "start_time": "2021-11-07T19:21:52.195Z"
   },
   {
    "duration": 65,
    "start_time": "2021-11-07T19:21:52.214Z"
   },
   {
    "duration": 20,
    "start_time": "2021-11-07T19:21:52.281Z"
   },
   {
    "duration": 23,
    "start_time": "2021-11-07T19:21:52.329Z"
   },
   {
    "duration": 26,
    "start_time": "2021-11-07T19:21:52.355Z"
   },
   {
    "duration": 31,
    "start_time": "2021-11-07T19:21:52.384Z"
   },
   {
    "duration": 17,
    "start_time": "2021-11-07T19:21:52.429Z"
   },
   {
    "duration": 33,
    "start_time": "2021-11-07T19:21:52.448Z"
   },
   {
    "duration": 52,
    "start_time": "2021-11-07T19:21:52.484Z"
   },
   {
    "duration": 9,
    "start_time": "2021-11-07T19:21:52.539Z"
   },
   {
    "duration": 10,
    "start_time": "2021-11-07T19:21:52.550Z"
   },
   {
    "duration": 21,
    "start_time": "2021-11-07T19:21:52.562Z"
   },
   {
    "duration": 37,
    "start_time": "2021-11-07T19:21:52.585Z"
   },
   {
    "duration": 768,
    "start_time": "2021-11-07T19:28:04.034Z"
   },
   {
    "duration": 185,
    "start_time": "2021-11-07T19:28:04.805Z"
   },
   {
    "duration": 27,
    "start_time": "2021-11-07T19:28:04.993Z"
   },
   {
    "duration": 32,
    "start_time": "2021-11-07T19:28:05.030Z"
   },
   {
    "duration": 6,
    "start_time": "2021-11-07T19:28:05.065Z"
   },
   {
    "duration": 56,
    "start_time": "2021-11-07T19:28:05.073Z"
   },
   {
    "duration": 7,
    "start_time": "2021-11-07T19:28:05.131Z"
   },
   {
    "duration": 30,
    "start_time": "2021-11-07T19:28:05.141Z"
   },
   {
    "duration": 21,
    "start_time": "2021-11-07T19:28:05.175Z"
   },
   {
    "duration": 30,
    "start_time": "2021-11-07T19:28:05.229Z"
   },
   {
    "duration": 101,
    "start_time": "2021-11-07T19:28:05.261Z"
   },
   {
    "duration": 119,
    "start_time": "2021-11-07T19:28:05.365Z"
   },
   {
    "duration": 96,
    "start_time": "2021-11-07T19:28:05.486Z"
   },
   {
    "duration": 14,
    "start_time": "2021-11-07T19:28:05.584Z"
   },
   {
    "duration": 4,
    "start_time": "2021-11-07T19:28:05.600Z"
   },
   {
    "duration": 39,
    "start_time": "2021-11-07T19:28:05.606Z"
   },
   {
    "duration": 21,
    "start_time": "2021-11-07T19:28:05.647Z"
   },
   {
    "duration": 17,
    "start_time": "2021-11-07T19:28:05.670Z"
   },
   {
    "duration": 45,
    "start_time": "2021-11-07T19:28:05.690Z"
   },
   {
    "duration": 14,
    "start_time": "2021-11-07T19:28:05.738Z"
   },
   {
    "duration": 5,
    "start_time": "2021-11-07T19:28:05.754Z"
   },
   {
    "duration": 29,
    "start_time": "2021-11-07T19:28:05.761Z"
   },
   {
    "duration": 48,
    "start_time": "2021-11-07T19:28:05.795Z"
   },
   {
    "duration": 19,
    "start_time": "2021-11-07T19:28:05.846Z"
   },
   {
    "duration": 18,
    "start_time": "2021-11-07T19:28:05.867Z"
   },
   {
    "duration": 53,
    "start_time": "2021-11-07T19:28:05.887Z"
   },
   {
    "duration": 20,
    "start_time": "2021-11-07T19:28:05.942Z"
   },
   {
    "duration": 12,
    "start_time": "2021-11-07T19:28:05.965Z"
   },
   {
    "duration": 49,
    "start_time": "2021-11-07T19:28:05.980Z"
   },
   {
    "duration": 19,
    "start_time": "2021-11-07T19:28:06.032Z"
   },
   {
    "duration": 75,
    "start_time": "2021-11-07T19:28:06.054Z"
   },
   {
    "duration": 21,
    "start_time": "2021-11-07T19:28:06.132Z"
   },
   {
    "duration": 25,
    "start_time": "2021-11-07T19:28:06.156Z"
   },
   {
    "duration": 47,
    "start_time": "2021-11-07T19:28:06.183Z"
   },
   {
    "duration": 22,
    "start_time": "2021-11-07T19:28:06.233Z"
   },
   {
    "duration": 15,
    "start_time": "2021-11-07T19:28:06.257Z"
   },
   {
    "duration": 66,
    "start_time": "2021-11-07T19:28:06.274Z"
   },
   {
    "duration": 27,
    "start_time": "2021-11-07T19:28:06.342Z"
   },
   {
    "duration": 10,
    "start_time": "2021-11-07T19:28:06.371Z"
   },
   {
    "duration": 7,
    "start_time": "2021-11-07T19:28:06.383Z"
   },
   {
    "duration": 44,
    "start_time": "2021-11-07T19:28:06.392Z"
   },
   {
    "duration": 7,
    "start_time": "2021-11-07T19:28:06.438Z"
   },
   {
    "duration": 742,
    "start_time": "2021-11-07T19:38:35.754Z"
   },
   {
    "duration": 183,
    "start_time": "2021-11-07T19:38:36.498Z"
   },
   {
    "duration": 26,
    "start_time": "2021-11-07T19:38:36.684Z"
   },
   {
    "duration": 47,
    "start_time": "2021-11-07T19:38:36.713Z"
   },
   {
    "duration": 13,
    "start_time": "2021-11-07T19:38:36.763Z"
   },
   {
    "duration": 53,
    "start_time": "2021-11-07T19:38:36.779Z"
   },
   {
    "duration": 10,
    "start_time": "2021-11-07T19:38:36.835Z"
   },
   {
    "duration": 41,
    "start_time": "2021-11-07T19:38:36.850Z"
   },
   {
    "duration": 42,
    "start_time": "2021-11-07T19:38:36.895Z"
   },
   {
    "duration": 31,
    "start_time": "2021-11-07T19:38:36.939Z"
   },
   {
    "duration": 106,
    "start_time": "2021-11-07T19:38:36.973Z"
   },
   {
    "duration": 112,
    "start_time": "2021-11-07T19:38:37.081Z"
   },
   {
    "duration": 82,
    "start_time": "2021-11-07T19:38:37.196Z"
   },
   {
    "duration": 14,
    "start_time": "2021-11-07T19:38:37.280Z"
   },
   {
    "duration": 5,
    "start_time": "2021-11-07T19:38:37.297Z"
   },
   {
    "duration": 39,
    "start_time": "2021-11-07T19:38:37.305Z"
   },
   {
    "duration": 33,
    "start_time": "2021-11-07T19:38:37.347Z"
   },
   {
    "duration": 46,
    "start_time": "2021-11-07T19:38:37.383Z"
   },
   {
    "duration": 21,
    "start_time": "2021-11-07T19:38:37.432Z"
   },
   {
    "duration": 20,
    "start_time": "2021-11-07T19:38:37.456Z"
   },
   {
    "duration": 6,
    "start_time": "2021-11-07T19:38:37.479Z"
   },
   {
    "duration": 70,
    "start_time": "2021-11-07T19:38:37.488Z"
   },
   {
    "duration": 18,
    "start_time": "2021-11-07T19:38:37.563Z"
   },
   {
    "duration": 45,
    "start_time": "2021-11-07T19:38:37.585Z"
   },
   {
    "duration": 21,
    "start_time": "2021-11-07T19:38:37.634Z"
   },
   {
    "duration": 22,
    "start_time": "2021-11-07T19:38:37.657Z"
   },
   {
    "duration": 58,
    "start_time": "2021-11-07T19:38:37.681Z"
   },
   {
    "duration": 12,
    "start_time": "2021-11-07T19:38:37.741Z"
   },
   {
    "duration": 22,
    "start_time": "2021-11-07T19:38:37.756Z"
   },
   {
    "duration": 12,
    "start_time": "2021-11-07T19:38:37.781Z"
   },
   {
    "duration": 787,
    "start_time": "2021-11-07T19:38:46.605Z"
   },
   {
    "duration": 187,
    "start_time": "2021-11-07T19:38:47.394Z"
   },
   {
    "duration": 32,
    "start_time": "2021-11-07T19:38:47.584Z"
   },
   {
    "duration": 31,
    "start_time": "2021-11-07T19:38:47.630Z"
   },
   {
    "duration": 7,
    "start_time": "2021-11-07T19:38:47.664Z"
   },
   {
    "duration": 61,
    "start_time": "2021-11-07T19:38:47.673Z"
   },
   {
    "duration": 7,
    "start_time": "2021-11-07T19:38:47.736Z"
   },
   {
    "duration": 41,
    "start_time": "2021-11-07T19:38:47.746Z"
   },
   {
    "duration": 45,
    "start_time": "2021-11-07T19:38:47.790Z"
   },
   {
    "duration": 55,
    "start_time": "2021-11-07T19:38:47.837Z"
   },
   {
    "duration": 90,
    "start_time": "2021-11-07T19:38:47.895Z"
   },
   {
    "duration": 118,
    "start_time": "2021-11-07T19:38:47.989Z"
   },
   {
    "duration": 82,
    "start_time": "2021-11-07T19:38:48.110Z"
   },
   {
    "duration": 13,
    "start_time": "2021-11-07T19:38:48.195Z"
   },
   {
    "duration": 4,
    "start_time": "2021-11-07T19:38:48.229Z"
   },
   {
    "duration": 19,
    "start_time": "2021-11-07T19:38:48.235Z"
   },
   {
    "duration": 17,
    "start_time": "2021-11-07T19:38:48.256Z"
   },
   {
    "duration": 26,
    "start_time": "2021-11-07T19:38:48.275Z"
   },
   {
    "duration": 46,
    "start_time": "2021-11-07T19:38:48.304Z"
   },
   {
    "duration": 14,
    "start_time": "2021-11-07T19:38:48.352Z"
   },
   {
    "duration": 5,
    "start_time": "2021-11-07T19:38:48.368Z"
   },
   {
    "duration": 55,
    "start_time": "2021-11-07T19:38:48.375Z"
   },
   {
    "duration": 19,
    "start_time": "2021-11-07T19:38:48.435Z"
   },
   {
    "duration": 19,
    "start_time": "2021-11-07T19:38:48.457Z"
   },
   {
    "duration": 50,
    "start_time": "2021-11-07T19:38:48.478Z"
   },
   {
    "duration": 22,
    "start_time": "2021-11-07T19:38:48.531Z"
   },
   {
    "duration": 18,
    "start_time": "2021-11-07T19:38:48.555Z"
   },
   {
    "duration": 12,
    "start_time": "2021-11-07T19:38:48.575Z"
   },
   {
    "duration": 49,
    "start_time": "2021-11-07T19:38:48.589Z"
   },
   {
    "duration": 12,
    "start_time": "2021-11-07T19:38:48.640Z"
   },
   {
    "duration": 22,
    "start_time": "2021-11-07T19:38:48.654Z"
   },
   {
    "duration": 61,
    "start_time": "2021-11-07T19:38:48.678Z"
   },
   {
    "duration": 17,
    "start_time": "2021-11-07T19:38:48.741Z"
   },
   {
    "duration": 22,
    "start_time": "2021-11-07T19:38:48.761Z"
   },
   {
    "duration": 50,
    "start_time": "2021-11-07T19:38:48.785Z"
   },
   {
    "duration": 53,
    "start_time": "2021-11-07T19:38:48.838Z"
   },
   {
    "duration": 58,
    "start_time": "2021-11-07T19:38:48.894Z"
   },
   {
    "duration": 15,
    "start_time": "2021-11-07T19:38:48.955Z"
   },
   {
    "duration": 8,
    "start_time": "2021-11-07T19:38:48.973Z"
   },
   {
    "duration": 15,
    "start_time": "2021-11-07T19:38:48.984Z"
   },
   {
    "duration": 9,
    "start_time": "2021-11-07T19:38:49.030Z"
   },
   {
    "duration": 772,
    "start_time": "2021-11-07T19:41:13.509Z"
   },
   {
    "duration": 178,
    "start_time": "2021-11-07T19:41:14.283Z"
   },
   {
    "duration": 26,
    "start_time": "2021-11-07T19:41:14.464Z"
   },
   {
    "duration": 51,
    "start_time": "2021-11-07T19:41:14.493Z"
   },
   {
    "duration": 5,
    "start_time": "2021-11-07T19:41:14.547Z"
   },
   {
    "duration": 28,
    "start_time": "2021-11-07T19:41:14.554Z"
   },
   {
    "duration": 6,
    "start_time": "2021-11-07T19:41:14.584Z"
   },
   {
    "duration": 60,
    "start_time": "2021-11-07T19:41:14.595Z"
   },
   {
    "duration": 25,
    "start_time": "2021-11-07T19:41:14.659Z"
   },
   {
    "duration": 60,
    "start_time": "2021-11-07T19:41:14.686Z"
   },
   {
    "duration": 103,
    "start_time": "2021-11-07T19:41:14.749Z"
   },
   {
    "duration": 110,
    "start_time": "2021-11-07T19:41:14.855Z"
   },
   {
    "duration": 88,
    "start_time": "2021-11-07T19:41:14.967Z"
   },
   {
    "duration": 14,
    "start_time": "2021-11-07T19:41:15.058Z"
   },
   {
    "duration": 4,
    "start_time": "2021-11-07T19:41:15.074Z"
   },
   {
    "duration": 24,
    "start_time": "2021-11-07T19:41:15.080Z"
   },
   {
    "duration": 17,
    "start_time": "2021-11-07T19:41:15.129Z"
   },
   {
    "duration": 16,
    "start_time": "2021-11-07T19:41:15.149Z"
   },
   {
    "duration": 17,
    "start_time": "2021-11-07T19:41:15.167Z"
   },
   {
    "duration": 50,
    "start_time": "2021-11-07T19:41:15.186Z"
   },
   {
    "duration": 6,
    "start_time": "2021-11-07T19:41:15.239Z"
   },
   {
    "duration": 27,
    "start_time": "2021-11-07T19:41:15.248Z"
   },
   {
    "duration": 55,
    "start_time": "2021-11-07T19:41:15.282Z"
   },
   {
    "duration": 21,
    "start_time": "2021-11-07T19:41:15.341Z"
   },
   {
    "duration": 20,
    "start_time": "2021-11-07T19:41:15.365Z"
   },
   {
    "duration": 60,
    "start_time": "2021-11-07T19:41:15.388Z"
   },
   {
    "duration": 22,
    "start_time": "2021-11-07T19:41:15.451Z"
   },
   {
    "duration": 53,
    "start_time": "2021-11-07T19:41:15.476Z"
   },
   {
    "duration": 17,
    "start_time": "2021-11-07T19:41:15.532Z"
   },
   {
    "duration": 14,
    "start_time": "2021-11-07T19:41:15.552Z"
   },
   {
    "duration": 23,
    "start_time": "2021-11-07T19:41:15.570Z"
   },
   {
    "duration": 59,
    "start_time": "2021-11-07T19:41:15.595Z"
   },
   {
    "duration": 16,
    "start_time": "2021-11-07T19:41:15.657Z"
   },
   {
    "duration": 53,
    "start_time": "2021-11-07T19:41:15.675Z"
   },
   {
    "duration": 16,
    "start_time": "2021-11-07T19:41:15.731Z"
   },
   {
    "duration": 33,
    "start_time": "2021-11-07T19:41:15.749Z"
   },
   {
    "duration": 55,
    "start_time": "2021-11-07T19:41:15.785Z"
   },
   {
    "duration": 10,
    "start_time": "2021-11-07T19:41:15.842Z"
   },
   {
    "duration": 9,
    "start_time": "2021-11-07T19:41:15.854Z"
   },
   {
    "duration": 9,
    "start_time": "2021-11-07T19:41:15.866Z"
   },
   {
    "duration": 10,
    "start_time": "2021-11-07T19:41:15.877Z"
   },
   {
    "duration": 4,
    "start_time": "2021-11-07T19:45:42.239Z"
   },
   {
    "duration": 993,
    "start_time": "2021-11-07T19:45:53.592Z"
   },
   {
    "duration": 268,
    "start_time": "2021-11-07T19:45:57.409Z"
   },
   {
    "duration": 1106,
    "start_time": "2021-11-07T19:46:00.326Z"
   },
   {
    "duration": 757,
    "start_time": "2021-11-07T19:48:13.116Z"
   },
   {
    "duration": 178,
    "start_time": "2021-11-07T19:48:13.876Z"
   },
   {
    "duration": 25,
    "start_time": "2021-11-07T19:48:14.057Z"
   },
   {
    "duration": 55,
    "start_time": "2021-11-07T19:48:14.085Z"
   },
   {
    "duration": 7,
    "start_time": "2021-11-07T19:48:14.143Z"
   },
   {
    "duration": 31,
    "start_time": "2021-11-07T19:48:14.153Z"
   },
   {
    "duration": 18,
    "start_time": "2021-11-07T19:48:14.187Z"
   },
   {
    "duration": 49,
    "start_time": "2021-11-07T19:48:14.211Z"
   },
   {
    "duration": 23,
    "start_time": "2021-11-07T19:48:14.265Z"
   },
   {
    "duration": 55,
    "start_time": "2021-11-07T19:48:14.290Z"
   },
   {
    "duration": 97,
    "start_time": "2021-11-07T19:48:14.347Z"
   },
   {
    "duration": 110,
    "start_time": "2021-11-07T19:48:14.447Z"
   },
   {
    "duration": 88,
    "start_time": "2021-11-07T19:48:14.559Z"
   },
   {
    "duration": 14,
    "start_time": "2021-11-07T19:48:14.649Z"
   },
   {
    "duration": 3,
    "start_time": "2021-11-07T19:48:14.666Z"
   },
   {
    "duration": 18,
    "start_time": "2021-11-07T19:48:14.671Z"
   },
   {
    "duration": 54,
    "start_time": "2021-11-07T19:48:14.691Z"
   },
   {
    "duration": 16,
    "start_time": "2021-11-07T19:48:14.748Z"
   },
   {
    "duration": 15,
    "start_time": "2021-11-07T19:48:14.766Z"
   },
   {
    "duration": 56,
    "start_time": "2021-11-07T19:48:14.783Z"
   },
   {
    "duration": 5,
    "start_time": "2021-11-07T19:48:14.842Z"
   },
   {
    "duration": 25,
    "start_time": "2021-11-07T19:48:14.850Z"
   },
   {
    "duration": 54,
    "start_time": "2021-11-07T19:48:14.882Z"
   },
   {
    "duration": 22,
    "start_time": "2021-11-07T19:48:14.940Z"
   },
   {
    "duration": 19,
    "start_time": "2021-11-07T19:48:14.965Z"
   },
   {
    "duration": 58,
    "start_time": "2021-11-07T19:48:14.986Z"
   },
   {
    "duration": 19,
    "start_time": "2021-11-07T19:48:15.047Z"
   },
   {
    "duration": 13,
    "start_time": "2021-11-07T19:48:15.069Z"
   },
   {
    "duration": 56,
    "start_time": "2021-11-07T19:48:15.084Z"
   },
   {
    "duration": 13,
    "start_time": "2021-11-07T19:48:15.143Z"
   },
   {
    "duration": 21,
    "start_time": "2021-11-07T19:48:15.158Z"
   },
   {
    "duration": 53,
    "start_time": "2021-11-07T19:48:15.182Z"
   },
   {
    "duration": 18,
    "start_time": "2021-11-07T19:48:15.238Z"
   },
   {
    "duration": 23,
    "start_time": "2021-11-07T19:48:15.259Z"
   },
   {
    "duration": 53,
    "start_time": "2021-11-07T19:48:15.285Z"
   },
   {
    "duration": 35,
    "start_time": "2021-11-07T19:48:15.340Z"
   },
   {
    "duration": 25,
    "start_time": "2021-11-07T19:48:15.377Z"
   },
   {
    "duration": 32,
    "start_time": "2021-11-07T19:48:15.404Z"
   },
   {
    "duration": 8,
    "start_time": "2021-11-07T19:48:15.439Z"
   },
   {
    "duration": 11,
    "start_time": "2021-11-07T19:48:15.449Z"
   },
   {
    "duration": 11,
    "start_time": "2021-11-07T19:48:15.462Z"
   },
   {
    "duration": 503,
    "start_time": "2021-11-08T06:26:41.931Z"
   },
   {
    "duration": 123,
    "start_time": "2021-11-08T06:26:42.435Z"
   },
   {
    "duration": 16,
    "start_time": "2021-11-08T06:26:42.560Z"
   },
   {
    "duration": 32,
    "start_time": "2021-11-08T06:26:42.577Z"
   },
   {
    "duration": 6,
    "start_time": "2021-11-08T06:26:42.611Z"
   },
   {
    "duration": 25,
    "start_time": "2021-11-08T06:26:42.618Z"
   },
   {
    "duration": 3,
    "start_time": "2021-11-08T06:26:42.644Z"
   },
   {
    "duration": 22,
    "start_time": "2021-11-08T06:26:42.650Z"
   },
   {
    "duration": 30,
    "start_time": "2021-11-08T06:26:42.674Z"
   },
   {
    "duration": 20,
    "start_time": "2021-11-08T06:26:42.706Z"
   },
   {
    "duration": 66,
    "start_time": "2021-11-08T06:26:42.728Z"
   },
   {
    "duration": 61,
    "start_time": "2021-11-08T06:26:42.796Z"
   },
   {
    "duration": 52,
    "start_time": "2021-11-08T06:26:42.858Z"
   },
   {
    "duration": 9,
    "start_time": "2021-11-08T06:26:42.911Z"
   },
   {
    "duration": 2,
    "start_time": "2021-11-08T06:26:42.922Z"
   },
   {
    "duration": 13,
    "start_time": "2021-11-08T06:26:42.926Z"
   },
   {
    "duration": 10,
    "start_time": "2021-11-08T06:26:42.940Z"
   },
   {
    "duration": 10,
    "start_time": "2021-11-08T06:26:42.952Z"
   },
   {
    "duration": 34,
    "start_time": "2021-11-08T06:26:42.964Z"
   },
   {
    "duration": 9,
    "start_time": "2021-11-08T06:26:42.999Z"
   },
   {
    "duration": 3,
    "start_time": "2021-11-08T06:26:43.010Z"
   },
   {
    "duration": 21,
    "start_time": "2021-11-08T06:26:43.014Z"
   },
   {
    "duration": 12,
    "start_time": "2021-11-08T06:26:43.038Z"
   },
   {
    "duration": 41,
    "start_time": "2021-11-08T06:26:43.051Z"
   },
   {
    "duration": 14,
    "start_time": "2021-11-08T06:26:43.094Z"
   },
   {
    "duration": 15,
    "start_time": "2021-11-08T06:26:43.109Z"
   },
   {
    "duration": 14,
    "start_time": "2021-11-08T06:26:43.126Z"
   },
   {
    "duration": 10,
    "start_time": "2021-11-08T06:26:43.142Z"
   },
   {
    "duration": 44,
    "start_time": "2021-11-08T06:26:43.154Z"
   },
   {
    "duration": 9,
    "start_time": "2021-11-08T06:26:43.200Z"
   },
   {
    "duration": 15,
    "start_time": "2021-11-08T06:26:43.211Z"
   },
   {
    "duration": 18,
    "start_time": "2021-11-08T06:26:43.228Z"
   },
   {
    "duration": 12,
    "start_time": "2021-11-08T06:26:43.247Z"
   },
   {
    "duration": 19,
    "start_time": "2021-11-08T06:26:43.292Z"
   },
   {
    "duration": 13,
    "start_time": "2021-11-08T06:26:43.312Z"
   },
   {
    "duration": 24,
    "start_time": "2021-11-08T06:26:43.326Z"
   },
   {
    "duration": 50,
    "start_time": "2021-11-08T06:26:43.352Z"
   },
   {
    "duration": 8,
    "start_time": "2021-11-08T06:26:43.404Z"
   },
   {
    "duration": 5,
    "start_time": "2021-11-08T06:26:43.413Z"
   },
   {
    "duration": 7,
    "start_time": "2021-11-08T06:26:43.420Z"
   },
   {
    "duration": 9,
    "start_time": "2021-11-08T06:26:43.428Z"
   }
  ],
  "colab": {
   "collapsed_sections": [
    "E0vqbgi9ay0H",
    "VUC88oWjTJw2"
   ],
   "name": "yandex_music_project_2021.2.ipynb",
   "provenance": []
  },
  "kernelspec": {
   "display_name": "Python 3",
   "language": "python",
   "name": "python3"
  },
  "language_info": {
   "codemirror_mode": {
    "name": "ipython",
    "version": 3
   },
   "file_extension": ".py",
   "mimetype": "text/x-python",
   "name": "python",
   "nbconvert_exporter": "python",
   "pygments_lexer": "ipython3",
   "version": "3.8.8"
  },
  "nbTranslate": {
   "displayLangs": [
    "en",
    "ru"
   ],
   "hotkey": "alt-t",
   "langInMainMenu": true,
   "sourceLang": "ru",
   "targetLang": "en",
   "useGoogleTranslate": true
  },
  "toc": {
   "base_numbering": 1,
   "nav_menu": {},
   "number_sections": true,
   "sideBar": true,
   "skip_h1_title": true,
   "title_cell": "Table of Contents",
   "title_sidebar": "Contents",
   "toc_cell": false,
   "toc_position": {
    "height": "calc(100% - 180px)",
    "left": "10px",
    "top": "150px",
    "width": "165px"
   },
   "toc_section_display": true,
   "toc_window_display": true
  }
 },
 "nbformat": 4,
 "nbformat_minor": 1
}
